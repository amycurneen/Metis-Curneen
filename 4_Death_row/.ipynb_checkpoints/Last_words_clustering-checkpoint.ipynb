{
 "cells": [
  {
   "cell_type": "markdown",
   "metadata": {},
   "source": [
    "# Setup"
   ]
  },
  {
   "cell_type": "code",
   "execution_count": 2,
   "metadata": {
    "run_control": {
     "frozen": false,
     "read_only": false
    }
   },
   "outputs": [],
   "source": [
    "# !pip install --upgrade gensim\n",
    "from gensim import corpora, models, similarities, matutils\n",
    "# sklearn\n",
    "from sklearn import datasets\n",
    "from sklearn.feature_extraction.text import CountVectorizer\n",
    "from sklearn.cluster import KMeans\n",
    "# logging for gensim (set to INFO)\n",
    "import logging\n",
    "logging.basicConfig(format='%(asctime)s : %(levelname)s : %(message)s', level=logging.INFO)"
   ]
  },
  {
   "cell_type": "code",
   "execution_count": 3,
   "metadata": {},
   "outputs": [],
   "source": [
    "from sklearn.decomposition import LatentDirichletAllocation"
   ]
  },
  {
   "cell_type": "code",
   "execution_count": 47,
   "metadata": {},
   "outputs": [],
   "source": [
    "import matplotlib.pyplot as plt"
   ]
  },
  {
   "cell_type": "code",
   "execution_count": 4,
   "metadata": {},
   "outputs": [],
   "source": [
    "import pandas as pd\n",
    "import numpy as np"
   ]
  },
  {
   "cell_type": "code",
   "execution_count": 5,
   "metadata": {},
   "outputs": [],
   "source": [
    "#!pip install mglearn"
   ]
  },
  {
   "cell_type": "code",
   "execution_count": 6,
   "metadata": {},
   "outputs": [],
   "source": [
    "import mglearn\n",
    "from collections import Counter"
   ]
  },
  {
   "cell_type": "code",
   "execution_count": 7,
   "metadata": {},
   "outputs": [],
   "source": [
    "from textblob import TextBlob"
   ]
  },
  {
   "cell_type": "code",
   "execution_count": 180,
   "metadata": {},
   "outputs": [],
   "source": [
    "import pyLDAvis.sklearn\n",
    "pyLDAvis.enable_notebook()"
   ]
  },
  {
   "cell_type": "markdown",
   "metadata": {},
   "source": [
    "# Clean Data"
   ]
  },
  {
   "cell_type": "code",
   "execution_count": 8,
   "metadata": {},
   "outputs": [],
   "source": [
    "df = pd.read_csv(\"data/Death_Row_Data.csv\", encoding = \"latin1\")"
   ]
  },
  {
   "cell_type": "code",
   "execution_count": 9,
   "metadata": {},
   "outputs": [
    {
     "name": "stdout",
     "output_type": "stream",
     "text": [
      "Number of executions: 549\n"
     ]
    }
   ],
   "source": [
    "words = df['Last Statement']\n",
    "print(\"Number of executions: {}\".format(len(words)))"
   ]
  },
  {
   "cell_type": "code",
   "execution_count": 10,
   "metadata": {},
   "outputs": [
    {
     "name": "stdout",
     "output_type": "stream",
     "text": [
      "Number of statements: 447\n"
     ]
    }
   ],
   "source": [
    "words = words.dropna()\n",
    "print(\"Number of statements: {}\".format(len(words)))"
   ]
  },
  {
   "cell_type": "markdown",
   "metadata": {
    "heading_collapsed": true
   },
   "source": [
    "## Extra symbols"
   ]
  },
  {
   "cell_type": "markdown",
   "metadata": {
    "hidden": true
   },
   "source": [
    "Webscraping gave me none english characters. clean up text"
   ]
  },
  {
   "cell_type": "code",
   "execution_count": 11,
   "metadata": {
    "hidden": true
   },
   "outputs": [],
   "source": [
    "words = [doc.replace(\"\\x99\",\"\") for doc in words]"
   ]
  },
  {
   "cell_type": "code",
   "execution_count": 12,
   "metadata": {
    "hidden": true
   },
   "outputs": [],
   "source": [
    "words = [doc.replace(\"\\x98\",\"\") for doc in words]"
   ]
  },
  {
   "cell_type": "code",
   "execution_count": 13,
   "metadata": {
    "hidden": true
   },
   "outputs": [],
   "source": [
    "words = [doc.replace(\"\\x93\",\"\") for doc in words]"
   ]
  },
  {
   "cell_type": "code",
   "execution_count": 14,
   "metadata": {
    "hidden": true
   },
   "outputs": [],
   "source": [
    "words = [doc.replace(\"\\x80\",\"\") for doc in words]"
   ]
  },
  {
   "cell_type": "code",
   "execution_count": 15,
   "metadata": {
    "hidden": true
   },
   "outputs": [],
   "source": [
    "words = [doc.replace(\"\\x9d\",\"\") for doc in words]"
   ]
  },
  {
   "cell_type": "code",
   "execution_count": 16,
   "metadata": {
    "hidden": true
   },
   "outputs": [],
   "source": [
    "words = [doc.replace(\"\\x9c\",\"\") for doc in words]"
   ]
  },
  {
   "cell_type": "code",
   "execution_count": 17,
   "metadata": {
    "hidden": true
   },
   "outputs": [],
   "source": [
    "words = [doc.replace(\"â\",\"\") for doc in words]"
   ]
  },
  {
   "cell_type": "code",
   "execution_count": 18,
   "metadata": {
    "hidden": true
   },
   "outputs": [],
   "source": [
    "words = [doc.replace(\"\\'\",\"\") for doc in words]"
   ]
  },
  {
   "cell_type": "code",
   "execution_count": 19,
   "metadata": {
    "hidden": true
   },
   "outputs": [],
   "source": [
    "words = [doc.replace(\"\\n\",\"\") for doc in words]"
   ]
  },
  {
   "cell_type": "code",
   "execution_count": 20,
   "metadata": {
    "hidden": true
   },
   "outputs": [],
   "source": [
    "words = [doc.replace(\"\\r\",\"\") for doc in words]"
   ]
  },
  {
   "cell_type": "markdown",
   "metadata": {
    "heading_collapsed": true
   },
   "source": [
    "## Drop \"No statement\""
   ]
  },
  {
   "cell_type": "code",
   "execution_count": 25,
   "metadata": {
    "hidden": true
   },
   "outputs": [],
   "source": [
    "def remove_all_values(the_list, val):\n",
    "   return [value for value in the_list if value != val]"
   ]
  },
  {
   "cell_type": "code",
   "execution_count": 26,
   "metadata": {
    "hidden": true
   },
   "outputs": [],
   "source": [
    "words = remove_all_values(words,'None')"
   ]
  },
  {
   "cell_type": "code",
   "execution_count": 27,
   "metadata": {
    "hidden": true
   },
   "outputs": [],
   "source": [
    "words = remove_all_values(words,'None.')"
   ]
  },
  {
   "cell_type": "code",
   "execution_count": 28,
   "metadata": {
    "hidden": true
   },
   "outputs": [],
   "source": [
    "words = remove_all_values(words,'No')"
   ]
  },
  {
   "cell_type": "code",
   "execution_count": 29,
   "metadata": {
    "hidden": true
   },
   "outputs": [],
   "source": [
    "words = remove_all_values(words,'This offender declined to make a last statement.  ')"
   ]
  },
  {
   "cell_type": "code",
   "execution_count": 30,
   "metadata": {
    "hidden": true
   },
   "outputs": [],
   "source": [
    "words = remove_all_values(words,'This offender declined to make a last statement.')"
   ]
  },
  {
   "cell_type": "code",
   "execution_count": 31,
   "metadata": {
    "hidden": true
   },
   "outputs": [],
   "source": [
    "words = remove_all_values(words,'No, I have no final statement. ')"
   ]
  },
  {
   "cell_type": "code",
   "execution_count": 32,
   "metadata": {
    "hidden": true
   },
   "outputs": [],
   "source": [
    "words = remove_all_values(words,'No last statement.')"
   ]
  },
  {
   "cell_type": "code",
   "execution_count": 33,
   "metadata": {
    "hidden": true
   },
   "outputs": [
    {
     "name": "stdout",
     "output_type": "stream",
     "text": [
      "Number of statements: 436\n"
     ]
    }
   ],
   "source": [
    "print(\"Number of statements: {}\".format(len(words)))"
   ]
  },
  {
   "cell_type": "markdown",
   "metadata": {},
   "source": [
    "## Length of statements"
   ]
  },
  {
   "cell_type": "code",
   "execution_count": 34,
   "metadata": {},
   "outputs": [
    {
     "name": "stdout",
     "output_type": "stream",
     "text": [
      "I love you Israel. \n",
      " Bye, Im Ready. \n",
      " Profanity directed toward staff.  \n",
      " Santajaib Singh Ji.  \n",
      "Goodbye.\n",
      "Yes, I do.\n",
      "Ill see you.\n",
      "Peace.\n",
      "High Flight (aviation poem)\n",
      "Thanked his family.\n",
      "Im ready, Warden.\n"
     ]
    },
    {
     "data": {
      "text/plain": [
       "Counter({1: 2,\n",
       "         3: 6,\n",
       "         4: 3,\n",
       "         5: 3,\n",
       "         6: 2,\n",
       "         7: 4,\n",
       "         8: 5,\n",
       "         9: 2,\n",
       "         10: 3,\n",
       "         11: 4,\n",
       "         12: 3,\n",
       "         13: 4,\n",
       "         14: 5,\n",
       "         15: 2,\n",
       "         16: 4,\n",
       "         17: 8,\n",
       "         18: 3,\n",
       "         19: 4,\n",
       "         20: 6,\n",
       "         21: 3,\n",
       "         22: 4,\n",
       "         23: 2,\n",
       "         24: 6,\n",
       "         25: 6,\n",
       "         26: 1,\n",
       "         27: 5,\n",
       "         28: 6,\n",
       "         29: 4,\n",
       "         30: 2,\n",
       "         31: 3,\n",
       "         32: 8,\n",
       "         33: 4,\n",
       "         34: 2,\n",
       "         35: 7,\n",
       "         36: 2,\n",
       "         37: 1,\n",
       "         38: 1,\n",
       "         39: 2,\n",
       "         40: 4,\n",
       "         42: 3,\n",
       "         43: 4,\n",
       "         44: 2,\n",
       "         45: 7,\n",
       "         46: 3,\n",
       "         47: 3,\n",
       "         48: 4,\n",
       "         49: 2,\n",
       "         50: 2,\n",
       "         51: 2,\n",
       "         52: 2,\n",
       "         53: 2,\n",
       "         54: 1,\n",
       "         55: 1,\n",
       "         56: 5,\n",
       "         57: 2,\n",
       "         58: 3,\n",
       "         59: 1,\n",
       "         60: 1,\n",
       "         61: 2,\n",
       "         62: 3,\n",
       "         63: 2,\n",
       "         64: 2,\n",
       "         65: 4,\n",
       "         66: 2,\n",
       "         67: 5,\n",
       "         68: 1,\n",
       "         69: 6,\n",
       "         70: 1,\n",
       "         71: 4,\n",
       "         73: 2,\n",
       "         74: 5,\n",
       "         75: 4,\n",
       "         76: 3,\n",
       "         77: 5,\n",
       "         78: 5,\n",
       "         79: 3,\n",
       "         81: 1,\n",
       "         82: 3,\n",
       "         83: 2,\n",
       "         84: 3,\n",
       "         85: 1,\n",
       "         86: 3,\n",
       "         87: 2,\n",
       "         88: 3,\n",
       "         89: 1,\n",
       "         90: 3,\n",
       "         92: 1,\n",
       "         93: 3,\n",
       "         94: 2,\n",
       "         95: 1,\n",
       "         96: 1,\n",
       "         97: 2,\n",
       "         98: 1,\n",
       "         99: 1,\n",
       "         100: 3,\n",
       "         101: 2,\n",
       "         102: 3,\n",
       "         104: 1,\n",
       "         105: 2,\n",
       "         106: 1,\n",
       "         107: 3,\n",
       "         108: 1,\n",
       "         109: 1,\n",
       "         111: 2,\n",
       "         112: 3,\n",
       "         113: 1,\n",
       "         115: 1,\n",
       "         116: 3,\n",
       "         117: 2,\n",
       "         118: 3,\n",
       "         119: 1,\n",
       "         120: 1,\n",
       "         121: 2,\n",
       "         122: 2,\n",
       "         123: 3,\n",
       "         124: 2,\n",
       "         125: 2,\n",
       "         127: 4,\n",
       "         129: 2,\n",
       "         131: 1,\n",
       "         132: 1,\n",
       "         134: 3,\n",
       "         135: 3,\n",
       "         137: 1,\n",
       "         138: 3,\n",
       "         140: 2,\n",
       "         142: 1,\n",
       "         143: 2,\n",
       "         145: 1,\n",
       "         147: 2,\n",
       "         148: 1,\n",
       "         150: 1,\n",
       "         151: 2,\n",
       "         153: 2,\n",
       "         158: 3,\n",
       "         160: 1,\n",
       "         161: 1,\n",
       "         162: 1,\n",
       "         165: 1,\n",
       "         166: 1,\n",
       "         174: 2,\n",
       "         176: 1,\n",
       "         179: 1,\n",
       "         184: 1,\n",
       "         187: 1,\n",
       "         188: 1,\n",
       "         191: 2,\n",
       "         197: 1,\n",
       "         201: 1,\n",
       "         202: 1,\n",
       "         204: 1,\n",
       "         209: 1,\n",
       "         210: 1,\n",
       "         217: 1,\n",
       "         218: 1,\n",
       "         219: 1,\n",
       "         223: 1,\n",
       "         224: 1,\n",
       "         225: 2,\n",
       "         226: 3,\n",
       "         229: 1,\n",
       "         232: 1,\n",
       "         233: 1,\n",
       "         234: 1,\n",
       "         238: 1,\n",
       "         239: 1,\n",
       "         241: 1,\n",
       "         245: 1,\n",
       "         247: 1,\n",
       "         256: 1,\n",
       "         262: 1,\n",
       "         263: 1,\n",
       "         264: 1,\n",
       "         269: 2,\n",
       "         274: 1,\n",
       "         276: 1,\n",
       "         280: 1,\n",
       "         290: 1,\n",
       "         298: 1,\n",
       "         301: 1,\n",
       "         303: 1,\n",
       "         315: 1,\n",
       "         316: 1,\n",
       "         334: 1,\n",
       "         335: 1,\n",
       "         358: 2,\n",
       "         359: 1,\n",
       "         374: 1,\n",
       "         406: 1,\n",
       "         447: 1,\n",
       "         478: 1,\n",
       "         482: 1,\n",
       "         510: 1,\n",
       "         684: 1,\n",
       "         1268: 1})"
      ]
     },
     "execution_count": 34,
     "metadata": {},
     "output_type": "execute_result"
    }
   ],
   "source": [
    "#checking length of statements\n",
    "\n",
    "lengths = []\n",
    "for doc in words:\n",
    "    lengths.append(len(doc.split()))\n",
    "    if len(doc.split())<=4:\n",
    "        print(doc)\n",
    "lengths.sort()\n",
    "Counter(lengths)"
   ]
  },
  {
   "cell_type": "code",
   "execution_count": 35,
   "metadata": {},
   "outputs": [
    {
     "name": "stdout",
     "output_type": "stream",
     "text": [
      "Number of statements: 405\n"
     ]
    }
   ],
   "source": [
    "# create list of shorter than X words statements\n",
    "\n",
    "words_short = list(filter(lambda x: len(x.split()) < 240, words))\n",
    "print(\"Number of statements: {}\".format(len(words_short)))"
   ]
  },
  {
   "cell_type": "code",
   "execution_count": 36,
   "metadata": {},
   "outputs": [],
   "source": [
    "words = words_short"
   ]
  },
  {
   "cell_type": "markdown",
   "metadata": {},
   "source": [
    "# Sentiment of last words"
   ]
  },
  {
   "cell_type": "code",
   "execution_count": 37,
   "metadata": {},
   "outputs": [],
   "source": [
    "polarity = []\n",
    "subjectivity = []\n",
    "\n",
    "for doc in words:\n",
    "    state = str(doc)\n",
    "    a = list(TextBlob(state).sentiment)\n",
    "    polarity.append(a[0])\n",
    "    subjectivity.append(a[1])"
   ]
  },
  {
   "cell_type": "code",
   "execution_count": 38,
   "metadata": {},
   "outputs": [
    {
     "data": {
      "text/plain": [
       "405"
      ]
     },
     "execution_count": 38,
     "metadata": {},
     "output_type": "execute_result"
    }
   ],
   "source": [
    "len(subjectivity)"
   ]
  },
  {
   "cell_type": "code",
   "execution_count": 171,
   "metadata": {},
   "outputs": [],
   "source": [
    "def rand_jitter(arr):\n",
    "    stdev = .017*(max(arr)-min(arr))\n",
    "    return arr + np.random.randn(len(arr)) * stdev\n",
    "\n",
    "def jitter(x, y, s=20, c='b', marker='o', cmap=None, norm=None, vmin=None, vmax=None, \n",
    "           alpha=None, linewidths=None, verts=None, hold=None, **kwargs):\n",
    "    return plt.scatter(rand_jitter(x), rand_jitter(y), s=s, c=c, marker=marker, cmap=cmap, \n",
    "                   norm=norm, vmin=vmin, vmax=vmax, alpha=alpha, linewidths=linewidths, \n",
    "                   verts=verts, hold=hold, **kwargs)"
   ]
  },
  {
   "cell_type": "code",
   "execution_count": 172,
   "metadata": {},
   "outputs": [
    {
     "data": {
      "image/png": "[encoded data removed]",
      "text/plain": [
       "<matplotlib.figure.Figure at 0x1c27185438>"
      ]
     },
     "metadata": {},
     "output_type": "display_data"
    }
   ],
   "source": [
    "x = subjectivity\n",
    "y = polarity\n",
    "\n",
    "plt.figure(figsize=(20,10))\n",
    "jitter(x, y, c=\"r\", alpha=0.2)\n",
    "plt.xlabel(\"subjectivity\")\n",
    "plt.ylabel(\"polarity\")\n",
    "plt.xlim(-1,1)\n",
    "plt.ylim(-1,1)\n",
    "plt.show()"
   ]
  },
  {
   "cell_type": "markdown",
   "metadata": {},
   "source": [
    "# Parse words"
   ]
  },
  {
   "cell_type": "code",
   "execution_count": 111,
   "metadata": {},
   "outputs": [],
   "source": [
    "from sklearn.feature_extraction.text import ENGLISH_STOP_WORDS"
   ]
  },
  {
   "cell_type": "code",
   "execution_count": 112,
   "metadata": {},
   "outputs": [],
   "source": [
    "from sklearn.feature_extraction.text import TfidfVectorizer"
   ]
  },
  {
   "cell_type": "code",
   "execution_count": 113,
   "metadata": {},
   "outputs": [],
   "source": [
    "# Create a TfidfVectorizer for parsing/counting words\n",
    "tfidf = TfidfVectorizer(ngram_range=(1,2), min_df=3, stop_words=ENGLISH_STOP_WORDS)"
   ]
  },
  {
   "cell_type": "code",
   "execution_count": 114,
   "metadata": {},
   "outputs": [],
   "source": [
    "x = tfidf.fit_transform(words)"
   ]
  },
  {
   "cell_type": "code",
   "execution_count": 115,
   "metadata": {},
   "outputs": [
    {
     "data": {
      "text/plain": [
       "1082"
      ]
     },
     "execution_count": 115,
     "metadata": {},
     "output_type": "execute_result"
    }
   ],
   "source": [
    "feature_names = tfidf.get_feature_names()\n",
    "len(feature_names)"
   ]
  },
  {
   "cell_type": "code",
   "execution_count": 183,
   "metadata": {},
   "outputs": [],
   "source": [
    "# Create a CountVectorizer for parsing/counting words\n",
    "vect = CountVectorizer(ngram_range=(1,3), min_df=3, stop_words=ENGLISH_STOP_WORDS,strip_accents='unicode')"
   ]
  },
  {
   "cell_type": "code",
   "execution_count": 184,
   "metadata": {},
   "outputs": [],
   "source": [
    "x = vect.fit_transform(words)"
   ]
  },
  {
   "cell_type": "code",
   "execution_count": 185,
   "metadata": {},
   "outputs": [
    {
     "data": {
      "text/plain": [
       "1230"
      ]
     },
     "execution_count": 185,
     "metadata": {},
     "output_type": "execute_result"
    }
   ],
   "source": [
    "feature_names = vect.get_feature_names()\n",
    "len(feature_names)"
   ]
  },
  {
   "cell_type": "markdown",
   "metadata": {},
   "source": [
    "# LDA"
   ]
  },
  {
   "cell_type": "code",
   "execution_count": 213,
   "metadata": {},
   "outputs": [],
   "source": [
    "num_topics = 3"
   ]
  },
  {
   "cell_type": "code",
   "execution_count": 214,
   "metadata": {},
   "outputs": [],
   "source": [
    "lda = LatentDirichletAllocation(n_components=num_topics, max_iter = 15, random_state=0, \n",
    "                                n_jobs=-1, learning_method='batch')"
   ]
  },
  {
   "cell_type": "code",
   "execution_count": 215,
   "metadata": {},
   "outputs": [],
   "source": [
    "document_topics = lda.fit_transform(x)"
   ]
  },
  {
   "cell_type": "code",
   "execution_count": 216,
   "metadata": {},
   "outputs": [
    {
     "name": "stdout",
     "output_type": "stream",
     "text": [
      "lda.components_.shape: (3, 1230)\n"
     ]
    }
   ],
   "source": [
    "print(\"lda.components_.shape: {}\".format(lda.components_.shape))"
   ]
  },
  {
   "cell_type": "markdown",
   "metadata": {},
   "source": [
    "## Interperate LDA"
   ]
  },
  {
   "cell_type": "code",
   "execution_count": 217,
   "metadata": {},
   "outputs": [
    {
     "name": "stderr",
     "output_type": "stream",
     "text": [
      "/anaconda3/lib/python3.6/site-packages/pyLDAvis/_prepare.py:387: DeprecationWarning: \n",
      ".ix is deprecated. Please use\n",
      ".loc for label based indexing or\n",
      ".iloc for positional indexing\n",
      "\n",
      "See the documentation here:\n",
      "http://pandas.pydata.org/pandas-docs/stable/indexing.html#ix-indexer-is-deprecated\n",
      "  topic_term_dists = topic_term_dists.ix[topic_order]\n"
     ]
    },
    {
     "data": {
      "text/html": [
       "\n",
       "<link rel=\"stylesheet\" type=\"text/css\" href=\"https://cdn.rawgit.com/bmabey/pyLDAvis/files/ldavis.v1.0.0.css\">\n",
       "\n",
       "\n",
       "<div id=\"ldavis_el265771209210683122236759140\"></div>\n",
       "<script type=\"text/javascript\">\n",
       "\n",
       "var ldavis_el265771209210683122236759140_data = {\"mdsDat\": {\"Freq\": [42.97311763010194, 37.80015289166753, 19.226729478230524], \"cluster\": [1, 1, 1], \"topics\": [1, 2, 3], \"x\": [-0.09273536132199842, -0.09136670597895323, 0.18410206730095174], \"y\": [0.10299592880618617, -0.10350765986954427, 0.0005117310633581479]}, \"tinfo\": {\"Category\": [\"Default\", \"Default\", \"Default\", \"Default\", \"Default\", \"Default\", \"Default\", \"Default\", \"Default\", \"Default\", \"Default\", \"Default\", \"Default\", \"Default\", \"Default\", \"Default\", \"Default\", \"Default\", \"Default\", \"Default\", \"Default\", \"Default\", \"Default\", \"Default\", \"Default\", \"Default\", \"Default\", \"Default\", \"Default\", \"Default\", \"Topic1\", \"Topic1\", \"Topic1\", \"Topic1\", \"Topic1\", \"Topic1\", \"Topic1\", \"Topic1\", \"Topic1\", \"Topic1\", \"Topic1\", \"Topic1\", \"Topic1\", \"Topic1\", \"Topic1\", \"Topic1\", \"Topic1\", \"Topic1\", \"Topic1\", \"Topic1\", \"Topic1\", \"Topic1\", \"Topic1\", \"Topic1\", \"Topic1\", \"Topic1\", \"Topic1\", \"Topic1\", \"Topic1\", \"Topic1\", \"Topic1\", \"Topic1\", \"Topic1\", \"Topic1\", \"Topic1\", \"Topic1\", \"Topic1\", \"Topic1\", \"Topic1\", \"Topic1\", \"Topic1\", \"Topic1\", \"Topic1\", \"Topic1\", \"Topic1\", \"Topic1\", \"Topic1\", \"Topic1\", \"Topic1\", \"Topic1\", \"Topic1\", \"Topic1\", \"Topic1\", \"Topic1\", \"Topic1\", \"Topic1\", \"Topic1\", \"Topic1\", \"Topic1\", \"Topic1\", \"Topic1\", \"Topic1\", \"Topic1\", \"Topic2\", \"Topic2\", \"Topic2\", \"Topic2\", \"Topic2\", \"Topic2\", \"Topic2\", \"Topic2\", \"Topic2\", \"Topic2\", \"Topic2\", \"Topic2\", \"Topic2\", \"Topic2\", \"Topic2\", \"Topic2\", \"Topic2\", \"Topic2\", \"Topic2\", \"Topic2\", \"Topic2\", \"Topic2\", \"Topic2\", \"Topic2\", \"Topic2\", \"Topic2\", \"Topic2\", \"Topic2\", \"Topic2\", \"Topic2\", \"Topic2\", \"Topic2\", \"Topic2\", \"Topic2\", \"Topic2\", \"Topic2\", \"Topic2\", \"Topic2\", \"Topic2\", \"Topic2\", \"Topic2\", \"Topic2\", \"Topic2\", \"Topic2\", \"Topic2\", \"Topic2\", \"Topic2\", \"Topic2\", \"Topic2\", \"Topic2\", \"Topic2\", \"Topic2\", \"Topic2\", \"Topic2\", \"Topic2\", \"Topic2\", \"Topic2\", \"Topic2\", \"Topic2\", \"Topic2\", \"Topic2\", \"Topic2\", \"Topic2\", \"Topic2\", \"Topic2\", \"Topic2\", \"Topic2\", \"Topic2\", \"Topic2\", \"Topic3\", \"Topic3\", \"Topic3\", \"Topic3\", \"Topic3\", \"Topic3\", \"Topic3\", \"Topic3\", \"Topic3\", \"Topic3\", \"Topic3\", \"Topic3\", \"Topic3\", \"Topic3\", \"Topic3\", \"Topic3\", \"Topic3\", \"Topic3\", \"Topic3\", \"Topic3\", \"Topic3\", \"Topic3\", \"Topic3\", \"Topic3\", \"Topic3\", \"Topic3\", \"Topic3\", \"Topic3\", \"Topic3\", \"Topic3\", \"Topic3\", \"Topic3\", \"Topic3\", \"Topic3\", \"Topic3\", \"Topic3\", \"Topic3\", \"Topic3\", \"Topic3\", \"Topic3\", \"Topic3\", \"Topic3\", \"Topic3\", \"Topic3\", \"Topic3\", \"Topic3\", \"Topic3\", \"Topic3\", \"Topic3\", \"Topic3\", \"Topic3\", \"Topic3\", \"Topic3\", \"Topic3\", \"Topic3\", \"Topic3\", \"Topic3\", \"Topic3\", \"Topic3\", \"Topic3\", \"Topic3\", \"Topic3\", \"Topic3\", \"Topic3\", \"Topic3\", \"Topic3\", \"Topic3\", \"Topic3\", \"Topic3\", \"Topic3\", \"Topic3\", \"Topic3\", \"Topic3\", \"Topic3\", \"Topic3\", \"Topic3\", \"Topic3\", \"Topic3\", \"Topic3\"], \"Freq\": [135.0, 143.0, 511.0, 59.0, 220.0, 41.0, 34.0, 119.0, 48.0, 46.0, 258.0, 22.0, 205.0, 21.0, 59.0, 42.0, 160.0, 39.0, 19.0, 50.0, 35.0, 33.0, 108.0, 86.0, 75.0, 55.0, 44.0, 66.0, 23.0, 12.0, 32.83823232313631, 38.269800284143635, 34.56453926264667, 21.686587119884127, 20.75331143512164, 19.809396453881632, 16.111620068048982, 14.25074893266265, 12.358399743126967, 14.021555936701725, 10.507419601603669, 9.600806201384957, 9.587249224014295, 9.579095309385202, 9.55913464127903, 9.559473185987745, 8.67984764303213, 8.666106082609948, 8.650440918613446, 7.737035450114772, 7.729187720823311, 7.706419982511914, 7.695850949780153, 7.697182394591334, 7.680597663559995, 8.51476317816129, 6.807446032213815, 6.804856179114027, 54.5401755910632, 6.8020506864353525, 39.97952179431846, 18.455411190244398, 7.643936250124887, 186.30871468556904, 64.95250288072242, 22.970231433226594, 47.99033518921538, 23.74509803540689, 83.65416038977342, 182.21052615625712, 114.63226602645265, 16.68796025387111, 29.570601581553642, 62.63309878253685, 88.56288604646284, 29.294334818765936, 51.22395334981568, 219.94941551077895, 60.940890651212705, 60.01529180767369, 79.17346568510256, 27.81697570750495, 30.292956516048065, 75.14821246635366, 77.62448151129372, 51.185134609059055, 37.0471685326264, 37.577738619527885, 36.892411118963075, 31.167453342249402, 40.672757194650075, 34.37255249033506, 30.014454780818948, 45.564971464745646, 22.429199217372027, 21.505647427801485, 19.67470044846197, 16.912230928727414, 15.049746270353792, 14.147115203868177, 16.784129045242448, 12.300804795888594, 11.355294465727377, 21.821009957628245, 10.45436113311683, 9.506349601792087, 10.34906474045727, 9.481003789952435, 8.605381820505627, 8.605381820505105, 7.684819713754315, 7.680959676010067, 7.680363404949823, 6.766768563809837, 6.751127845157243, 6.744979574487392, 6.735947792460791, 6.73317348894857, 10.057274362780346, 5.848497822218835, 5.841554770134223, 5.833893005458949, 5.8299113585885145, 121.84206221791466, 19.79483974905127, 23.70031814846796, 12.218308119022797, 27.369036443121043, 20.437986889865893, 14.307398933583078, 89.02474687858556, 26.348428456728296, 63.28602801989925, 23.811962484454302, 18.293919656361833, 124.10705186561927, 18.11220056317721, 21.13583575318215, 73.27639440470361, 44.688046763976196, 32.04022838437888, 52.18744411626344, 91.18384321842917, 36.80615570096624, 22.152106259209148, 44.34424276974308, 157.19574961481197, 35.16459036805342, 57.93751782579986, 47.03174399423807, 47.50546139209322, 33.554838890217525, 71.23128558384012, 27.241229077113566, 35.57004044355564, 42.65757659312882, 43.74829773225888, 42.38338164327821, 28.187647199377274, 30.5190491425505, 31.33541819316611, 27.285010037947508, 34.17145751630802, 22.041663014929174, 21.00966515621183, 39.35979056181108, 11.571828192522448, 9.863729702375535, 8.122801922684157, 8.11795874645899, 7.232699123216478, 7.22860949084, 7.228609490839397, 7.213741160295976, 7.1826803038055065, 5.511675601293071, 6.294951801304407, 5.490424228684631, 6.273018401667065, 5.444758133935541, 17.053557292388682, 6.201636596809617, 5.421639378759744, 5.419657384553253, 5.419657384266052, 4.64174763807646, 4.641262389399976, 4.641262389399976, 4.641262389399976, 4.641262389399976, 4.641262389399976, 4.641262389399976, 4.641262389399976, 4.641262389399976, 4.641262389399976, 4.641262389399976, 4.641262389399976, 4.641262389399976, 4.641262389399976, 4.641262389399976, 49.11967038552579, 4.641262389399976, 4.641262389399976, 4.641262389399976, 4.641262389399976, 7.552014275805575, 4.641262389399976, 4.641262389399976, 4.641262389399976, 4.641262389399976, 4.641262389399976, 4.641262389399976, 29.920601950591927, 7.682085059507525, 68.75057358633163, 8.095463351808533, 6.924929987086951, 22.101810609882726, 134.5050024045542, 22.418381108534295, 11.734806975670823, 13.58528590106386, 7.802102810002754, 9.000977561873949, 9.703915065224079, 22.777390538877047, 25.902552260487823, 11.46070052589048, 18.126422901324815, 22.260688852528382, 17.36177284482052, 18.249697308800396, 9.619179012657028, 20.030797407030644, 14.751723531965238, 12.860670090579795, 11.760041153815283, 9.49309746244354, 10.966599340301917, 10.092057265550105, 9.79177570647463], \"Term\": [\"im\", \"yall\", \"love\", \"strong\", \"thank\", \"stay\", \"stay strong\", \"hope\", \"love yall\", \"im sorry\", \"family\", \"thy\", \"sorry\", \"holy\", \"friends\", \"mom\", \"like\", \"christ\", \"allah\", \"care\", \"support\", \"like thank\", \"lord\", \"dont\", \"jesus\", \"ask\", \"forgiveness\", \"ready\", \"im ready\", \"shall\", \"like thank\", \"christ\", \"support\", \"jesus christ\", \"family friends\", \"ask forgiveness\", \"yes like\", \"thank lord\", \"thank family\", \"love thank\", \"thank god\", \"friends family\", \"let know\", \"lives\", \"reason\", \"asked\", \"thank lord jesus\", \"learn\", \"great\", \"lord jesus christ\", \"family thank\", \"supporters\", \"standing\", \"heart forgive\", \"love guys\", \"does\", \"like tell family\", \"respect\", \"friends\", \"heavenly\", \"forgiveness\", \"wife\", \"loving\", \"thank\", \"jesus\", \"want thank\", \"ask\", \"just want\", \"lord\", \"family\", \"like\", \"praise\", \"family love\", \"just\", \"god\", \"caused\", \"did\", \"love\", \"forgive\", \"yes\", \"want\", \"let\", \"home\", \"know\", \"sorry\", \"life\", \"pain\", \"warden\", \"peace\", \"heart\", \"say\", \"tell\", \"hope\", \"im sorry\", \"im ready\", \"better\", \"place\", \"truth\", \"think\", \"change\", \"happy\", \"person\", \"better place\", \"feel\", \"brings\", \"yes want\", \"hope peace\", \"sorry love\", \"years ago\", \"ago\", \"hope brings\", \"say im\", \"knows\", \"dont think\", \"didnt kill\", \"hatred\", \"im ready warden\", \"doesnt\", \"execution\", \"didnt mean\", \"penalty\", \"brings closure\", \"dont hate\", \"im\", \"bring\", \"hate\", \"love im\", \"didnt\", \"wrong\", \"ms\", \"hope\", \"innocent\", \"dont\", \"said\", \"hurt\", \"sorry\", \"closure\", \"wish\", \"say\", \"ready\", \"man\", \"going\", \"know\", \"everybody\", \"got\", \"peace\", \"love\", \"people\", \"yall\", \"tell\", \"life\", \"thats\", \"family\", \"right\", \"warden\", \"want\", \"like\", \"god\", \"death\", \"did\", \"yes\", \"pain\", \"stay strong\", \"thy\", \"holy\", \"stay\", \"shall\", \"thou\", \"kingdom\", \"art\", \"yall im\", \"love stay strong\", \"love stay\", \"return\", \"walk\", \"thy earth\", \"merciful\", \"daily\", \"aint\", \"yall love\", \"allah\", \"mama\", \"strong love\", \"deliver evil\", \"deliver\", \"leadeth\", \"earth heaven day\", \"thy earth heaven\", \"thy kingdom\", \"thy kingdom come\", \"thy thy\", \"temptation deliver evil\", \"bread forgive\", \"kingdom come\", \"kingdom come thy\", \"day daily bread\", \"come thy earth\", \"thy thy kingdom\", \"daily bread forgive\", \"heaven day daily\", \"strong\", \"lead\", \"bread\", \"heaven day\", \"earth heaven\", \"hard\", \"come thy\", \"daily bread\", \"lead temptation deliver\", \"temptation deliver\", \"lead temptation\", \"day daily\", \"love yall\", \"love mom\", \"yall\", \"mom love\", \"worry\", \"mom\", \"love\", \"care\", \"soul\", \"heaven\", \"earth\", \"evil\", \"mercy\", \"tell\", \"want\", \"know love\", \"going\", \"know\", \"forgive\", \"god\", \"kids\", \"thank\", \"lord\", \"im\", \"dont\", \"brother\", \"yes\", \"everybody\", \"father\"], \"Total\": [135.0, 143.0, 511.0, 59.0, 220.0, 41.0, 34.0, 119.0, 48.0, 46.0, 258.0, 22.0, 205.0, 21.0, 59.0, 42.0, 160.0, 39.0, 19.0, 50.0, 35.0, 33.0, 108.0, 86.0, 75.0, 55.0, 44.0, 66.0, 23.0, 12.0, 33.47773638245856, 39.05368199275851, 35.32972546185641, 22.311261692711422, 21.38055538600804, 20.449572744766186, 16.727573980349387, 14.866908206134223, 13.003066691762205, 14.86302271178419, 11.143794852870979, 10.21409244829768, 10.213470395160467, 10.213099897602728, 10.21266970976121, 10.21359907652566, 9.28335053743264, 9.283337489671078, 9.282921980574278, 8.352469461647916, 8.351777929449497, 8.351894219227752, 8.350833644353198, 8.35265927460308, 8.35103900033558, 9.282463236506027, 7.421787631572109, 7.4219710892502375, 59.50417717154264, 7.422109207923336, 44.61722212242265, 20.374234775200406, 8.351213724204914, 220.9222715230581, 75.95387416981909, 25.875432250124106, 55.75539233233018, 27.668486650355977, 108.71623098745769, 258.76826514221824, 160.53716793913713, 19.375623383420322, 37.15023509902306, 87.93065438326705, 149.19596499854143, 40.786774878155754, 82.55323335398491, 511.6501675301451, 103.77664637503909, 102.31730934114171, 147.73359453871922, 38.612666587234116, 45.0473647514749, 188.5927445373112, 205.4655425223701, 107.90894339131091, 65.78098935984798, 79.3526680421202, 81.55979646379156, 56.30674834286309, 119.17260558574088, 104.18168702345018, 119.39932546953885, 46.1909020855604, 23.085938011224517, 22.16219527453621, 20.31480695877572, 17.542465863052453, 15.694332140447651, 14.770524245776064, 17.542026841323764, 12.922146495543256, 11.997863446512373, 23.062281471214575, 11.073379969259584, 10.149428094736576, 11.074283589966134, 10.147226735988799, 9.225342302817705, 9.225342302817706, 8.300873809650987, 8.30155333362712, 8.301394081468834, 7.377014754293148, 7.3768569380333915, 7.3774764924013585, 7.377513022894414, 7.375968346977896, 11.05180325207698, 6.452971821070599, 6.45323047676576, 6.4525938061708645, 6.452368239047635, 135.0552032926311, 22.175253508758377, 26.800411390956246, 13.789471843168686, 32.355722307581004, 23.997983232569844, 16.538213220827046, 119.39932546953885, 32.297722533703414, 86.21916150925016, 29.259157561452483, 22.185025309681766, 205.4655425223701, 22.1236326070275, 26.739517406115628, 119.17260558574088, 66.66726006471026, 45.15264983039502, 86.78648447893994, 188.5927445373112, 57.671324587378194, 29.603355262450343, 81.55979646379156, 511.6501675301451, 63.01309885443579, 143.72957805505115, 104.18168702345018, 107.90894339131091, 60.08367683973299, 258.76826514221824, 43.97108512289729, 79.3526680421202, 147.73359453871922, 160.53716793913713, 149.19596499854143, 56.2599305475586, 82.55323335398491, 102.31730934114171, 65.78098935984798, 34.85534802448269, 22.667077741951616, 21.80791226348807, 41.00360456184656, 12.224737281540659, 10.481987900633738, 8.741345426686303, 8.741680524799927, 7.872301747255775, 7.872531878593803, 7.872531878593842, 7.8735915791702515, 7.875468317722141, 6.1303633687381325, 7.006383701921, 6.1316791227879985, 7.007434470124355, 6.134865122419699, 19.279072121019265, 7.012152099668068, 6.136516295955113, 6.136425445147021, 6.136425445166048, 5.260005057759184, 5.260038629126751, 5.260038629126751, 5.260038629126751, 5.260038629126751, 5.260038629126751, 5.260038629126751, 5.260038629126751, 5.260038629126751, 5.260038629126751, 5.260038629126751, 5.260038629126751, 5.260038629126751, 5.260038629126751, 5.260038629126751, 59.87611815759311, 5.260038629126751, 5.260038629126751, 5.260038629126751, 5.260038629126751, 8.77851029166197, 5.260038629126751, 5.260038629126751, 5.260038629126751, 5.260038629126751, 5.260038629126751, 5.260038629126751, 48.05973799951787, 9.702049467993806, 143.72957805505115, 10.591466089018962, 8.815475104983427, 42.0885109214748, 511.6501675301451, 50.42808482211966, 19.657372071667833, 25.086201370097847, 10.624050011923758, 14.232376989539464, 17.006724396339933, 104.18168702345018, 147.73359453871922, 25.22743512570635, 86.78648447893994, 188.5927445373112, 103.77664637503909, 149.19596499854143, 19.742726279472997, 220.9222715230581, 108.71623098745769, 135.0552032926311, 86.21916150925016, 26.25890819732716, 102.31730934114171, 57.671324587378194, 42.09512052883575], \"loglift\": [30.0, 29.0, 28.0, 27.0, 26.0, 25.0, 24.0, 23.0, 22.0, 21.0, 20.0, 19.0, 18.0, 17.0, 16.0, 15.0, 14.0, 13.0, 12.0, 11.0, 10.0, 9.0, 8.0, 7.0, 6.0, 5.0, 4.0, 3.0, 2.0, 1.0, 0.8253, 0.8243, 0.8227, 0.8162, 0.8148, 0.8128, 0.8071, 0.8023, 0.7937, 0.7863, 0.7858, 0.7827, 0.7813, 0.7805, 0.7785, 0.7784, 0.7774, 0.7758, 0.774, 0.7681, 0.7671, 0.7642, 0.7629, 0.7629, 0.7609, 0.7583, 0.7582, 0.7578, 0.7575, 0.7574, 0.7348, 0.7457, 0.7561, 0.6742, 0.6881, 0.7255, 0.6946, 0.6917, 0.5825, 0.4938, 0.5078, 0.6953, 0.6164, 0.5053, 0.323, 0.5136, 0.3674, 0.0004, 0.3123, 0.3111, 0.2208, 0.5167, 0.4478, -0.0755, -0.1288, 0.0988, 0.2705, 0.0971, 0.0513, 0.2532, -0.2304, -0.2643, -0.5362, 0.9592, 0.944, 0.9428, 0.9408, 0.9363, 0.9309, 0.9297, 0.9287, 0.9236, 0.9178, 0.9175, 0.9153, 0.9074, 0.9051, 0.9049, 0.9033, 0.9033, 0.8957, 0.8952, 0.8951, 0.8865, 0.8842, 0.8832, 0.8819, 0.8817, 0.8786, 0.8745, 0.8733, 0.8721, 0.8714, 0.8699, 0.8593, 0.8499, 0.8519, 0.8055, 0.8123, 0.828, 0.6793, 0.7693, 0.6636, 0.7669, 0.78, 0.4687, 0.7728, 0.7377, 0.4865, 0.5728, 0.6298, 0.4642, 0.2461, 0.5238, 0.6829, 0.3635, -0.2073, 0.3896, 0.0643, 0.1775, 0.1524, 0.3903, -0.3171, 0.4941, 0.1705, -0.2693, -0.3272, -0.2856, 0.2818, -0.0222, -0.2105, 0.0929, 1.6291, 1.6209, 1.6116, 1.608, 1.594, 1.5881, 1.5755, 1.5748, 1.5641, 1.5635, 1.5635, 1.5613, 1.5568, 1.5425, 1.5418, 1.5384, 1.5382, 1.5295, 1.5262, 1.526, 1.525, 1.5247, 1.5247, 1.5238, 1.5237, 1.5237, 1.5237, 1.5237, 1.5237, 1.5237, 1.5237, 1.5237, 1.5237, 1.5237, 1.5237, 1.5237, 1.5237, 1.5237, 1.4509, 1.5237, 1.5237, 1.5237, 1.5237, 1.4984, 1.5237, 1.5237, 1.5237, 1.5237, 1.5237, 1.5237, 1.175, 1.4154, 0.9114, 1.3801, 1.4075, 1.0048, 0.3128, 0.8382, 1.133, 1.0355, 1.3401, 1.1907, 1.0878, 0.1285, -0.0922, 0.8599, 0.0828, -0.4879, -0.1391, -0.4522, 0.9298, -0.7517, -0.3485, -0.7026, -0.3433, 0.6314, -0.5844, -0.0941, 0.1905], \"logprob\": [30.0, 29.0, 28.0, 27.0, 26.0, 25.0, 24.0, 23.0, 22.0, 21.0, 20.0, 19.0, 18.0, 17.0, 16.0, 15.0, 14.0, 13.0, 12.0, 11.0, 10.0, 9.0, 8.0, 7.0, 6.0, 5.0, 4.0, 3.0, 2.0, 1.0, -5.1675, -5.0144, -5.1163, -5.5824, -5.6264, -5.6729, -5.8795, -6.0023, -6.1447, -6.0185, -6.307, -6.3972, -6.3987, -6.3995, -6.4016, -6.4016, -6.4981, -6.4997, -6.5015, -6.6131, -6.6141, -6.617, -6.6184, -6.6182, -6.6204, -6.5173, -6.7411, -6.7414, -4.6601, -6.7419, -4.9707, -5.7437, -6.6252, -3.4317, -4.4854, -5.5249, -4.7881, -5.4917, -4.2324, -3.4539, -3.9174, -5.8444, -5.2723, -4.5218, -4.1754, -5.2817, -4.7229, -3.2657, -4.5492, -4.5645, -4.2874, -5.3334, -5.2482, -4.3396, -4.3072, -4.7236, -5.0469, -5.0327, -5.0511, -5.2197, -4.9535, -5.1218, -5.2574, -4.7117, -5.4205, -5.4625, -5.5515, -5.7028, -5.8195, -5.8813, -5.7104, -6.0212, -6.1011, -5.448, -6.1838, -6.2789, -6.1939, -6.2815, -6.3784, -6.3784, -6.4916, -6.4921, -6.4922, -6.6188, -6.6211, -6.622, -6.6234, -6.6238, -6.2225, -6.7646, -6.7658, -6.7671, -6.7678, -3.7281, -5.5454, -5.3653, -6.0279, -5.2214, -5.5134, -5.87, -4.0419, -5.2594, -4.3832, -5.3606, -5.6243, -3.7097, -5.6342, -5.4799, -4.2366, -4.7311, -5.0638, -4.576, -4.0179, -4.9252, -5.4329, -4.7388, -3.4733, -4.9708, -4.4715, -4.68, -4.67, -5.0176, -4.2649, -5.2261, -4.9593, -4.7776, -4.7524, -4.7841, -5.1919, -5.1125, -5.0861, -5.2245, -4.3234, -4.7619, -4.8098, -4.1821, -5.4062, -5.5659, -5.7601, -5.7607, -5.8762, -5.8768, -5.8768, -5.8788, -5.8831, -6.1479, -6.0151, -6.1518, -6.0186, -6.1602, -5.0185, -6.03, -6.1644, -6.1648, -6.1648, -6.3197, -6.3198, -6.3198, -6.3198, -6.3198, -6.3198, -6.3198, -6.3198, -6.3198, -6.3198, -6.3198, -6.3198, -6.3198, -6.3198, -6.3198, -3.9606, -6.3198, -6.3198, -6.3198, -6.3198, -5.833, -6.3198, -6.3198, -6.3198, -6.3198, -6.3198, -6.3198, -4.4563, -5.8159, -3.6243, -5.7635, -5.9197, -4.7592, -2.9532, -4.7449, -5.3923, -5.2458, -5.8004, -5.6575, -5.5823, -4.729, -4.6005, -5.4159, -4.9574, -4.752, -5.0005, -4.9507, -5.5911, -4.8575, -5.1635, -5.3006, -5.3901, -5.6042, -5.46, -5.5431, -5.5733]}, \"token.table\": {\"Topic\": [2, 3, 2, 3, 3, 1, 2, 1, 1, 2, 2, 3, 3, 1, 2, 2, 2, 1, 2, 3, 1, 2, 3, 1, 2, 3, 2, 1, 1, 2, 3, 3, 3, 3, 3, 3, 3, 3, 1, 2, 3, 3, 3, 1, 2, 3, 1, 2, 2, 2, 1, 2, 1, 2, 3, 2, 2, 1, 3, 3, 3, 1, 2, 3, 2, 3, 2, 3, 1, 2, 3, 1, 1, 2, 1, 1, 2, 3, 1, 2, 3, 1, 2, 3, 1, 2, 1, 2, 1, 1, 2, 3, 1, 2, 3, 1, 2, 1, 2, 1, 2, 3, 1, 2, 2, 1, 2, 3, 1, 1, 2, 3, 3, 3, 1, 3, 1, 2, 3, 1, 2, 2, 2, 1, 2, 2, 3, 2, 2, 2, 1, 2, 3, 1, 2, 3, 1, 1, 2, 3, 1, 3, 1, 2, 3, 3, 3, 3, 1, 2, 3, 1, 2, 3, 2, 3, 3, 3, 3, 1, 1, 2, 3, 1, 1, 2, 3, 1, 2, 3, 1, 1, 1, 1, 2, 3, 1, 1, 2, 3, 1, 2, 3, 1, 3, 3, 3, 1, 2, 1, 2, 3, 1, 3, 1, 2, 3, 3, 1, 3, 1, 2, 3, 2, 3, 1, 2, 3, 1, 2, 3, 1, 2, 2, 1, 2, 2, 2, 1, 3, 1, 2, 1, 1, 3, 1, 2, 3, 2, 3, 1, 2, 3, 2, 3, 1, 2, 3, 2, 1, 3, 1, 2, 3, 3, 1, 3, 3, 1, 1, 1, 2, 3, 3, 3, 1, 2, 3, 1, 1, 1, 1, 1, 2, 3, 2, 3, 3, 3, 3, 3, 3, 3, 3, 2, 3, 1, 2, 3, 1, 3, 1, 2, 3, 1, 2, 3, 1, 2, 3, 2, 3, 1, 2, 3, 1, 2, 3, 3, 3, 2, 1, 2, 3, 1, 2], \"Freq\": [0.9755735564685898, 0.8562334796822614, 0.10373943245014751, 0.8817851758262538, 0.9151558418663553, 0.8609032775501938, 0.1255483946427366, 0.9780155433867805, 0.9790867964441071, 0.9926814436689596, 0.9168299046775333, 0.9505633613246065, 0.9505633613246065, 0.09019062619555065, 0.9019062619555066, 0.9030666361816034, 0.9298586243352198, 0.26657620139410504, 0.3808231448487215, 0.34274083036384934, 0.17847197710852308, 0.37677417389577095, 0.43626483293194535, 0.7110147857150525, 0.24517751231553533, 0.024517751231553534, 0.9478336562091618, 0.9730196504146807, 0.1356016009345165, 0.813609605607099, 0.045200533644838836, 0.9505633613246065, 0.9505633613246065, 0.8154373214700383, 0.9505633613246065, 0.9505633613246065, 0.9505633613246065, 0.9505633613246065, 0.42659135492021116, 0.4976899140735797, 0.07109855915336853, 0.814806607638122, 0.8148066076406485, 0.6177831918625655, 0.37551527348508884, 0.012113395918873834, 0.15453217061479388, 0.834473721319887, 0.9489136171137598, 0.9298041532443191, 0.9695702283640449, 0.9490279337855431, 0.1275818484829483, 0.7306960413114311, 0.13918019834503448, 0.9298911310873348, 0.9488933170326467, 0.1882521258611666, 0.7530085034446664, 0.9505633613246065, 0.9505633613246065, 0.19073603872811745, 0.6415666757218497, 0.17339639884374314, 0.35131166098782435, 0.6323609897780837, 0.9048297161932092, 0.09048297161932092, 0.703331994361725, 0.2743767670312224, 0.019322307537410027, 0.9822008652657785, 0.8075319017507082, 0.1884241104084986, 0.9578798751090973, 0.6414045062896214, 0.11877861227585582, 0.23755722455171163, 0.04336084447014318, 0.9539385783431499, 0.04336084447014318, 0.5878008408515313, 0.24090198395554563, 0.16381334908977102, 0.8965148007252957, 0.08965148007252957, 0.9243048574798758, 0.08402771431635234, 0.9790395035700541, 0.5965308780359447, 0.28150895367988404, 0.12064669443423602, 0.1843605037819298, 0.5991716372912719, 0.20740556675467103, 0.23645968296299777, 0.743159003597993, 0.9695223140767175, 0.969101242049926, 0.11391454435609911, 0.11391454435609911, 0.9113163548487929, 0.11193858020449436, 0.8955086416359549, 0.9488339281338068, 0.5505556778245261, 0.372957072074679, 0.08879930287492356, 0.957778802772984, 0.27903786215890913, 0.15945020694794806, 0.5580757243178183, 0.9505633613246065, 0.9505633613246065, 0.943128132974287, 0.9629532504658541, 0.6659657044426281, 0.17759085451803416, 0.1553919977032799, 0.2512577008456685, 0.7453978458421499, 0.9637539593360428, 0.9029929492739838, 0.18030180016311995, 0.8113581007340398, 0.9033343183057989, 0.0962569355571753, 0.9529610618075589, 0.9488292298877834, 0.995867106357724, 0.15480967720811847, 0.8050103214822161, 0.030961935441623695, 0.855782548427639, 0.09216119752297651, 0.05266354144170086, 0.9860491218740398, 0.7164736853361655, 0.2274519635987827, 0.056862990899695674, 0.8674128188970256, 0.14456880314950427, 0.05065156583970497, 0.4558640925573447, 0.5065156583970497, 0.9151909242228248, 0.9505633613246065, 0.9505633613246065, 0.3976823190308999, 0.4825212137574919, 0.11665348024906397, 0.3567544601801055, 0.1981969223222808, 0.4360332291090178, 0.9636935581528849, 0.9505633613246065, 0.9505633613246065, 0.9505633613246065, 0.950569428184172, 0.9694789196249379, 0.725150642904761, 0.10359294898639441, 0.15538942347959162, 0.9790991321361623, 0.47262069664660106, 0.444819479196801, 0.08340365234940018, 0.716345015153119, 0.2740798318846716, 0.012458174176575982, 0.943168997482785, 0.9857297286470993, 0.9791346506213312, 0.7726537172696031, 0.09198258538923847, 0.1379738780838577, 0.9578005686502236, 0.42998129183068856, 0.3068502855337186, 0.2638521563506498, 0.9579646316678111, 0.8702291238184593, 0.07251909365153827, 0.20614201222100764, 0.8245680488840306, 0.8891675648889605, 0.8891675648889649, 0.9419349126675329, 0.06728106519053807, 0.020807437610459546, 0.3537264393778123, 0.6242231283137863, 0.9579445891575057, 0.8556574236722589, 0.22147094439778342, 0.7087070220729069, 0.06644128331933502, 0.8563618915639646, 0.41160189563055954, 0.5880027080436565, 0.07127835920822068, 0.4039107021799172, 0.5227079675269517, 0.1888312706843827, 0.7553250827375309, 0.060466024149493446, 0.8465243380929083, 0.12093204829898689, 0.5624725374316795, 0.4104529327204147, 0.015201960471126472, 0.4536548839528571, 0.5394814836196138, 0.9297668852216618, 0.44435205550962914, 0.5554400693870364, 0.928638288084623, 0.9845035712416786, 0.8773911251055211, 0.1032224853065319, 0.32999706270582896, 0.6749939918982866, 0.9791758946675871, 0.9431456840540099, 0.8890478925168844, 0.20467996127103497, 0.6140398838131049, 0.1591955254330272, 0.8202560155600254, 0.17088666990833862, 0.3440387981657564, 0.6125568845390297, 0.04195595099582395, 0.9636750712176216, 0.9816161872140997, 0.3796256980243183, 0.6035075199360957, 0.019467984514067605, 0.8869418447190136, 0.35610049880925326, 0.6104579979587199, 0.9579881890485951, 0.02438809979477975, 0.9511358919964102, 0.9754600635781377, 0.16701149486144273, 0.8183563248210693, 0.8147945444707368, 0.9906671943371765, 0.9578665378187358, 0.3263529413988753, 0.45113494840432755, 0.22076816624041562, 0.9505633613246065, 0.9505633613246065, 0.8419250749039433, 0.06789718345999543, 0.09052957794666057, 0.9228592211714429, 0.9870964195976801, 0.9416887362110349, 0.9694775570210235, 0.39944293129758895, 0.5658774860049177, 0.03328691094146575, 0.9557590514694022, 0.9540175103040714, 0.9705706333411913, 0.9787348056066428, 0.9505633613246065, 0.9505633613246065, 0.9505633613246065, 0.9505633613246065, 0.9505633613246065, 0.9690769891024852, 0.8888360307726618, 0.5347463469407091, 0.2910644673221581, 0.17599246861339796, 0.8888740399646728, 0.11594009216930516, 0.4788748877331975, 0.45367094627355553, 0.07561182437892593, 0.8834687632985199, 0.04908159796102888, 0.04908159796102888, 0.14959133103446196, 0.7853544879309252, 0.03739783275861549, 0.22687376189961572, 0.794058166648655, 0.12501050487977788, 0.8334033658651858, 0.04167016829325929, 0.11827767276606543, 0.40353558943716444, 0.48006820122697147, 0.8891935579629106, 0.8150138430472799, 0.97557355646859, 0.5864110421429353, 0.3029790384405166, 0.10750869105953814, 0.9565045127760846, 0.9852771906612089], \"Term\": [\"ago\", \"aint\", \"allah\", \"allah\", \"art\", \"ask\", \"ask\", \"ask forgiveness\", \"asked\", \"better\", \"better place\", \"bread\", \"bread forgive\", \"bring\", \"bring\", \"brings\", \"brings closure\", \"brother\", \"brother\", \"brother\", \"care\", \"care\", \"care\", \"caused\", \"caused\", \"caused\", \"change\", \"christ\", \"closure\", \"closure\", \"closure\", \"come thy\", \"come thy earth\", \"daily\", \"daily bread\", \"daily bread forgive\", \"day daily\", \"day daily bread\", \"death\", \"death\", \"death\", \"deliver\", \"deliver evil\", \"did\", \"did\", \"did\", \"didnt\", \"didnt\", \"didnt kill\", \"didnt mean\", \"does\", \"doesnt\", \"dont\", \"dont\", \"dont\", \"dont hate\", \"dont think\", \"earth\", \"earth\", \"earth heaven\", \"earth heaven day\", \"everybody\", \"everybody\", \"everybody\", \"evil\", \"evil\", \"execution\", \"execution\", \"family\", \"family\", \"family\", \"family friends\", \"family love\", \"family love\", \"family thank\", \"father\", \"father\", \"father\", \"feel\", \"feel\", \"feel\", \"forgive\", \"forgive\", \"forgive\", \"forgiveness\", \"forgiveness\", \"friends\", \"friends\", \"friends family\", \"god\", \"god\", \"god\", \"going\", \"going\", \"going\", \"got\", \"got\", \"great\", \"happy\", \"hard\", \"hard\", \"hard\", \"hate\", \"hate\", \"hatred\", \"heart\", \"heart\", \"heart\", \"heart forgive\", \"heaven\", \"heaven\", \"heaven\", \"heaven day\", \"heaven day daily\", \"heavenly\", \"holy\", \"home\", \"home\", \"home\", \"hope\", \"hope\", \"hope brings\", \"hope peace\", \"hurt\", \"hurt\", \"im\", \"im\", \"im ready\", \"im ready warden\", \"im sorry\", \"innocent\", \"innocent\", \"innocent\", \"jesus\", \"jesus\", \"jesus\", \"jesus christ\", \"just\", \"just\", \"just\", \"just want\", \"just want\", \"kids\", \"kids\", \"kids\", \"kingdom\", \"kingdom come\", \"kingdom come thy\", \"know\", \"know\", \"know\", \"know love\", \"know love\", \"know love\", \"knows\", \"lead\", \"lead temptation\", \"lead temptation deliver\", \"leadeth\", \"learn\", \"let\", \"let\", \"let\", \"let know\", \"life\", \"life\", \"life\", \"like\", \"like\", \"like\", \"like tell family\", \"like thank\", \"lives\", \"lord\", \"lord\", \"lord\", \"lord jesus christ\", \"love\", \"love\", \"love\", \"love guys\", \"love im\", \"love im\", \"love mom\", \"love mom\", \"love stay\", \"love stay strong\", \"love thank\", \"love thank\", \"love yall\", \"love yall\", \"love yall\", \"loving\", \"mama\", \"man\", \"man\", \"man\", \"merciful\", \"mercy\", \"mercy\", \"mom\", \"mom\", \"mom\", \"mom love\", \"mom love\", \"ms\", \"ms\", \"ms\", \"pain\", \"pain\", \"pain\", \"peace\", \"peace\", \"penalty\", \"people\", \"people\", \"person\", \"place\", \"praise\", \"praise\", \"ready\", \"ready\", \"reason\", \"respect\", \"return\", \"right\", \"right\", \"right\", \"said\", \"said\", \"say\", \"say\", \"say\", \"say im\", \"shall\", \"sorry\", \"sorry\", \"sorry\", \"sorry love\", \"soul\", \"soul\", \"standing\", \"stay\", \"stay\", \"stay strong\", \"strong\", \"strong\", \"strong love\", \"support\", \"supporters\", \"tell\", \"tell\", \"tell\", \"temptation deliver\", \"temptation deliver evil\", \"thank\", \"thank\", \"thank\", \"thank family\", \"thank god\", \"thank lord\", \"thank lord jesus\", \"thats\", \"thats\", \"thats\", \"think\", \"thou\", \"thy\", \"thy earth\", \"thy earth heaven\", \"thy kingdom\", \"thy kingdom come\", \"thy thy\", \"thy thy kingdom\", \"truth\", \"walk\", \"want\", \"want\", \"want\", \"want thank\", \"want thank\", \"warden\", \"warden\", \"warden\", \"wife\", \"wife\", \"wife\", \"wish\", \"wish\", \"wish\", \"worry\", \"worry\", \"wrong\", \"wrong\", \"wrong\", \"yall\", \"yall\", \"yall\", \"yall im\", \"yall love\", \"years ago\", \"yes\", \"yes\", \"yes\", \"yes like\", \"yes want\"]}, \"R\": 30, \"lambda.step\": 0.01, \"plot.opts\": {\"xlab\": \"PC1\", \"ylab\": \"PC2\"}, \"topic.order\": [3, 1, 2]};\n",
       "\n",
       "function LDAvis_load_lib(url, callback){\n",
       "  var s = document.createElement('script');\n",
       "  s.src = url;\n",
       "  s.async = true;\n",
       "  s.onreadystatechange = s.onload = callback;\n",
       "  s.onerror = function(){console.warn(\"failed to load library \" + url);};\n",
       "  document.getElementsByTagName(\"head\")[0].appendChild(s);\n",
       "}\n",
       "\n",
       "if(typeof(LDAvis) !== \"undefined\"){\n",
       "   // already loaded: just create the visualization\n",
       "   !function(LDAvis){\n",
       "       new LDAvis(\"#\" + \"ldavis_el265771209210683122236759140\", ldavis_el265771209210683122236759140_data);\n",
       "   }(LDAvis);\n",
       "}else if(typeof define === \"function\" && define.amd){\n",
       "   // require.js is available: use it to load d3/LDAvis\n",
       "   require.config({paths: {d3: \"https://cdnjs.cloudflare.com/ajax/libs/d3/3.5.5/d3.min\"}});\n",
       "   require([\"d3\"], function(d3){\n",
       "      window.d3 = d3;\n",
       "      LDAvis_load_lib(\"https://cdn.rawgit.com/bmabey/pyLDAvis/files/ldavis.v1.0.0.js\", function(){\n",
       "        new LDAvis(\"#\" + \"ldavis_el265771209210683122236759140\", ldavis_el265771209210683122236759140_data);\n",
       "      });\n",
       "    });\n",
       "}else{\n",
       "    // require.js not available: dynamically load d3 & LDAvis\n",
       "    LDAvis_load_lib(\"https://cdnjs.cloudflare.com/ajax/libs/d3/3.5.5/d3.min.js\", function(){\n",
       "         LDAvis_load_lib(\"https://cdn.rawgit.com/bmabey/pyLDAvis/files/ldavis.v1.0.0.js\", function(){\n",
       "                 new LDAvis(\"#\" + \"ldavis_el265771209210683122236759140\", ldavis_el265771209210683122236759140_data);\n",
       "            })\n",
       "         });\n",
       "}\n",
       "</script>"
      ],
      "text/plain": [
       "PreparedData(topic_coordinates=            Freq  cluster  topics         x         y\n",
       "topic                                                \n",
       "2      42.973118        1       1 -0.092735  0.102996\n",
       "0      37.800153        1       2 -0.091367 -0.103508\n",
       "1      19.226729        1       3  0.184102  0.000512, topic_info=     Category        Freq         Term       Total  loglift  logprob\n",
       "term                                                                \n",
       "462   Default  135.000000           im  135.000000  30.0000  30.0000\n",
       "1188  Default  143.000000         yall  143.000000  29.0000  29.0000\n",
       "630   Default  511.000000         love  511.000000  28.0000  28.0000\n",
       "987   Default   59.000000       strong   59.000000  27.0000  27.0000\n",
       "1033  Default  220.000000        thank  220.000000  26.0000  26.0000\n",
       "979   Default   41.000000         stay   41.000000  25.0000  25.0000\n",
       "980   Default   34.000000  stay strong   34.000000  24.0000  24.0000\n",
       "436   Default  119.000000         hope  119.000000  23.0000  23.0000\n",
       "686   Default   48.000000    love yall   48.000000  22.0000  22.0000\n",
       "470   Default   46.000000     im sorry   46.000000  21.0000  21.0000\n",
       "245   Default  258.000000       family  258.000000  20.0000  20.0000\n",
       "1075  Default   22.000000          thy   22.000000  19.0000  19.0000\n",
       "936   Default  205.000000        sorry  205.000000  18.0000  18.0000\n",
       "431   Default   21.000000         holy   21.000000  17.0000  17.0000\n",
       "324   Default   59.000000      friends   59.000000  16.0000  16.0000\n",
       "724   Default   42.000000          mom   42.000000  15.0000  15.0000\n",
       "581   Default  160.000000         like  160.000000  14.0000  14.0000\n",
       "120   Default   39.000000       christ   39.000000  13.0000  13.0000\n",
       "13    Default   19.000000        allah   19.000000  12.0000  12.0000\n",
       "99    Default   50.000000         care   50.000000  11.0000  11.0000\n",
       "994   Default   35.000000      support   35.000000  10.0000  10.0000\n",
       "598   Default   33.000000   like thank   33.000000   9.0000   9.0000\n",
       "612   Default  108.000000         lord  108.000000   8.0000   8.0000\n",
       "203   Default   86.000000         dont   86.000000   7.0000   7.0000\n",
       "489   Default   75.000000        jesus   75.000000   6.0000   6.0000\n",
       "42    Default   55.000000          ask   55.000000   5.0000   5.0000\n",
       "316   Default   44.000000  forgiveness   44.000000   4.0000   4.0000\n",
       "825   Default   66.000000        ready   66.000000   3.0000   3.0000\n",
       "468   Default   23.000000     im ready   23.000000   2.0000   2.0000\n",
       "898   Default   12.000000        shall   12.000000   1.0000   1.0000\n",
       "...       ...         ...          ...         ...      ...      ...\n",
       "161    Topic3    4.641262    day daily    5.260039   1.5237  -6.3198\n",
       "686    Topic3   29.920602    love yall   48.059738   1.1750  -4.4563\n",
       "664    Topic3    7.682085     love mom    9.702049   1.4154  -5.8159\n",
       "1188   Topic3   68.750574         yall  143.729578   0.9114  -3.6243\n",
       "726    Topic3    8.095463     mom love   10.591466   1.3801  -5.7635\n",
       "1179   Topic3    6.924930        worry    8.815475   1.4075  -5.9197\n",
       "724    Topic3   22.101811          mom   42.088511   1.0048  -4.7592\n",
       "630    Topic3  134.505002         love  511.650168   0.3128  -2.9532\n",
       "99     Topic3   22.418381         care   50.428085   0.8382  -4.7449\n",
       "962    Topic3   11.734807         soul   19.657372   1.1330  -5.3923\n",
       "415    Topic3   13.585286       heaven   25.086201   1.0355  -5.2458\n",
       "217    Topic3    7.802103        earth   10.624050   1.3401  -5.8004\n",
       "231    Topic3    9.000978         evil   14.232377   1.1907  -5.6575\n",
       "713    Topic3    9.703915        mercy   17.006724   1.0878  -5.5823\n",
       "1017   Topic3   22.777391         tell  104.181687   0.1285  -4.7290\n",
       "1128   Topic3   25.902552         want  147.733595  -0.0922  -4.6005\n",
       "540    Topic3   11.460701    know love   25.227435   0.8599  -5.4159\n",
       "357    Topic3   18.126423        going   86.786484   0.0828  -4.9574\n",
       "529    Topic3   22.260689         know  188.592745  -0.4879  -4.7520\n",
       "300    Topic3   17.361773      forgive  103.776646  -0.1391  -5.0005\n",
       "341    Topic3   18.249697          god  149.195965  -0.4522  -4.9507\n",
       "517    Topic3    9.619179         kids   19.742726   0.9298  -5.5911\n",
       "1033   Topic3   20.030797        thank  220.922272  -0.7517  -4.8575\n",
       "612    Topic3   14.751724         lord  108.716231  -0.3485  -5.1635\n",
       "462    Topic3   12.860670           im  135.055203  -0.7026  -5.3006\n",
       "203    Topic3   11.760041         dont   86.219162  -0.3433  -5.3901\n",
       "91     Topic3    9.493097      brother   26.258908   0.6314  -5.6042\n",
       "1214   Topic3   10.966599          yes  102.317309  -0.5844  -5.4600\n",
       "227    Topic3   10.092057    everybody   57.671325  -0.0941  -5.5431\n",
       "277    Topic3    9.791776       father   42.095121   0.1905  -5.5733\n",
       "\n",
       "[241 rows x 6 columns], token_table=      Topic      Freq             Term\n",
       "term                                  \n",
       "8         2  0.975574              ago\n",
       "11        3  0.856233             aint\n",
       "13        2  0.103739            allah\n",
       "13        3  0.881785            allah\n",
       "39        3  0.915156              art\n",
       "42        1  0.860903              ask\n",
       "42        2  0.125548              ask\n",
       "44        1  0.978016  ask forgiveness\n",
       "47        1  0.979087            asked\n",
       "63        2  0.992681           better\n",
       "64        2  0.916830     better place\n",
       "80        3  0.950563            bread\n",
       "81        3  0.950563    bread forgive\n",
       "84        1  0.090191            bring\n",
       "84        2  0.901906            bring\n",
       "88        2  0.903067           brings\n",
       "89        2  0.929859   brings closure\n",
       "91        1  0.266576          brother\n",
       "91        2  0.380823          brother\n",
       "91        3  0.342741          brother\n",
       "99        1  0.178472             care\n",
       "99        2  0.376774             care\n",
       "99        3  0.436265             care\n",
       "108       1  0.711015           caused\n",
       "108       2  0.245178           caused\n",
       "108       3  0.024518           caused\n",
       "114       2  0.947834           change\n",
       "120       1  0.973020           christ\n",
       "122       1  0.135602          closure\n",
       "122       2  0.813610          closure\n",
       "...     ...       ...              ...\n",
       "1128      1  0.534746             want\n",
       "1128      2  0.291064             want\n",
       "1128      3  0.175992             want\n",
       "1144      1  0.888874       want thank\n",
       "1144      3  0.115940       want thank\n",
       "1149      1  0.478875           warden\n",
       "1149      2  0.453671           warden\n",
       "1149      3  0.075612           warden\n",
       "1164      1  0.883469             wife\n",
       "1164      2  0.049082             wife\n",
       "1164      3  0.049082             wife\n",
       "1168      1  0.149591             wish\n",
       "1168      2  0.785354             wish\n",
       "1168      3  0.037398             wish\n",
       "1179      2  0.226874            worry\n",
       "1179      3  0.794058            worry\n",
       "1185      1  0.125011            wrong\n",
       "1185      2  0.833403            wrong\n",
       "1185      3  0.041670            wrong\n",
       "1188      1  0.118278             yall\n",
       "1188      2  0.403536             yall\n",
       "1188      3  0.480068             yall\n",
       "1194      3  0.889194          yall im\n",
       "1198      3  0.815014        yall love\n",
       "1213      2  0.975574        years ago\n",
       "1214      1  0.586411              yes\n",
       "1214      2  0.302979              yes\n",
       "1214      3  0.107509              yes\n",
       "1217      1  0.956505         yes like\n",
       "1223      2  0.985277         yes want\n",
       "\n",
       "[306 rows x 3 columns], R=30, lambda_step=0.01, plot_opts={'xlab': 'PC1', 'ylab': 'PC2'}, topic_order=[3, 1, 2])"
      ]
     },
     "execution_count": 217,
     "metadata": {},
     "output_type": "execute_result"
    }
   ],
   "source": [
    "pyLDAvis.sklearn.prepare(lda, x, vect)"
   ]
  },
  {
   "cell_type": "code",
   "execution_count": 218,
   "metadata": {},
   "outputs": [
    {
     "name": "stdout",
     "output_type": "stream",
     "text": [
      "topic 0       topic 1       topic 2       \n",
      "--------      --------      --------      \n",
      "love          love          love          \n",
      "sorry         yall          thank         \n",
      "im            strong        family        \n",
      "know          stay          like          \n",
      "hope          stay strong   god           \n",
      "say           love yall     lord          \n",
      "family        want          want          \n",
      "dont          tell          sorry         \n",
      "yall          care          know          \n",
      "going         know          jesus         \n",
      "life          mom           just          \n",
      "tell          thy           forgive       \n",
      "im sorry      holy          yes           \n",
      "ready         thank         friends       \n",
      "peace         god           did           \n",
      "like          going         life          \n",
      "want          forgive       ask           \n",
      "god           allah         say           \n",
      "everybody     lord          forgiveness   \n",
      "warden        heaven        christ        \n",
      "\n",
      "\n"
     ]
    }
   ],
   "source": [
    "sorting = np.argsort(lda.components_,axis=1)[:,::-1]\n",
    "feature_names = np.array(vect.get_feature_names())\n",
    "mglearn.tools.print_topics(topics=range(num_topics),feature_names=feature_names,\n",
    "                           sorting=sorting,topics_per_chunk=6,n_words=20)"
   ]
  },
  {
   "cell_type": "code",
   "execution_count": 219,
   "metadata": {},
   "outputs": [
    {
     "data": {
      "text/html": [
       "<div>\n",
       "<style scoped>\n",
       "    .dataframe tbody tr th:only-of-type {\n",
       "        vertical-align: middle;\n",
       "    }\n",
       "\n",
       "    .dataframe tbody tr th {\n",
       "        vertical-align: top;\n",
       "    }\n",
       "\n",
       "    .dataframe thead th {\n",
       "        text-align: right;\n",
       "    }\n",
       "</style>\n",
       "<table border=\"1\" class=\"dataframe\">\n",
       "  <thead>\n",
       "    <tr style=\"text-align: right;\">\n",
       "      <th></th>\n",
       "      <th>Topic1</th>\n",
       "      <th>Topic2</th>\n",
       "      <th>Topic3</th>\n",
       "    </tr>\n",
       "  </thead>\n",
       "  <tbody>\n",
       "    <tr>\n",
       "      <th>0</th>\n",
       "      <td>0.048055</td>\n",
       "      <td>0.907468</td>\n",
       "      <td>0.044477</td>\n",
       "    </tr>\n",
       "    <tr>\n",
       "      <th>1</th>\n",
       "      <td>0.433955</td>\n",
       "      <td>0.022026</td>\n",
       "      <td>0.544019</td>\n",
       "    </tr>\n",
       "    <tr>\n",
       "      <th>2</th>\n",
       "      <td>0.132395</td>\n",
       "      <td>0.015075</td>\n",
       "      <td>0.852530</td>\n",
       "    </tr>\n",
       "    <tr>\n",
       "      <th>3</th>\n",
       "      <td>0.069054</td>\n",
       "      <td>0.871234</td>\n",
       "      <td>0.059712</td>\n",
       "    </tr>\n",
       "    <tr>\n",
       "      <th>4</th>\n",
       "      <td>0.352933</td>\n",
       "      <td>0.004678</td>\n",
       "      <td>0.642389</td>\n",
       "    </tr>\n",
       "  </tbody>\n",
       "</table>\n",
       "</div>"
      ],
      "text/plain": [
       "     Topic1    Topic2    Topic3\n",
       "0  0.048055  0.907468  0.044477\n",
       "1  0.433955  0.022026  0.544019\n",
       "2  0.132395  0.015075  0.852530\n",
       "3  0.069054  0.871234  0.059712\n",
       "4  0.352933  0.004678  0.642389"
      ]
     },
     "execution_count": 219,
     "metadata": {},
     "output_type": "execute_result"
    }
   ],
   "source": [
    "df_document_topics = pd.DataFrame(document_topics, columns=[\"Topic\"+str(i+1) for i in range(num_topics)])\n",
    "df_document_topics.head()"
   ]
  },
  {
   "cell_type": "code",
   "execution_count": 220,
   "metadata": {},
   "outputs": [],
   "source": [
    "#document_topics['Words'] = words"
   ]
  },
  {
   "cell_type": "code",
   "execution_count": 221,
   "metadata": {},
   "outputs": [],
   "source": [
    "most_likely_topics = df_document_topics.idxmax(axis=1)"
   ]
  },
  {
   "cell_type": "code",
   "execution_count": 222,
   "metadata": {},
   "outputs": [
    {
     "data": {
      "text/plain": [
       "Topic1    162\n",
       "Topic2     54\n",
       "Topic3    189\n",
       "dtype: int64"
      ]
     },
     "execution_count": 222,
     "metadata": {},
     "output_type": "execute_result"
    }
   ],
   "source": [
    "most_likely_topics.groupby(most_likely_topics).count()"
   ]
  },
  {
   "cell_type": "markdown",
   "metadata": {},
   "source": [
    "## Print specific topic docs"
   ]
  },
  {
   "cell_type": "code",
   "execution_count": 127,
   "metadata": {},
   "outputs": [],
   "source": [
    "topics = np.array([range(num_topics)])"
   ]
  },
  {
   "cell_type": "code",
   "execution_count": 132,
   "metadata": {},
   "outputs": [
    {
     "name": "stdout",
     "output_type": "stream",
     "text": [
      "205  Can you hear me, Chris?  The Lord is my Shepherd; I shall not want.  He makes me to lie down in green pastures; He leads me beside the still waters\n",
      "98  Yes, I do. Thank you for your friendship Reverend Whiteside and thank you for your fellowship\n",
      "227 The Lord is my Shepherd, I shall not want. He maketh me lie down in green pastures; He leadeth me beside the still waters, He restoreth my soul\n",
      "90 Collins family, I know your not going to get the closure you are looking for tonight. I wish you the best\n",
      "115  Yes, I would like to thank God for my salvation and all he has done in my life. I thank my family, loved ones, and friends\n"
     ]
    }
   ],
   "source": [
    "topic_4 = np.argsort(document_topics[:,2])\n",
    "\n",
    "for i in topic_4[:5]:\n",
    "    print(i,'.'.join(words[i].split(\".\")[:2]))"
   ]
  },
  {
   "cell_type": "code",
   "execution_count": 130,
   "metadata": {},
   "outputs": [
    {
     "name": "stdout",
     "output_type": "stream",
     "text": [
      "166     Tell Beth and them I am sorry, truly sorry for the pain that I caused your family.  I truly mean that too\n",
      "205     Can you hear me, Chris?  The Lord is my Shepherd; I shall not want.  He makes me to lie down in green pastures; He leads me beside the still waters\n",
      "98     Yes, I do. Thank you for your friendship Reverend Whiteside and thank you for your fellowship\n",
      "227    The Lord is my Shepherd, I shall not want. He maketh me lie down in green pastures; He leadeth me beside the still waters, He restoreth my soul\n",
      "115     Yes, I would like to thank God for my salvation and all he has done in my life. I thank my family, loved ones, and friends\n",
      "282     Mama Isabel told me to tell you hello. Holy, holy, holy! Lord God Almighty! Early in the morning our song shall rise to Thee; Holy, holy, holy, merciful and mighty! God in three Persons, blessed Trinity\n",
      "7    Yes, I do, Grace Kehler is that you? I have given Warden  Jones a written statement that will explain a lot more. I hope this will bring  you closure and answers to some questions\n",
      "117     Yes I do, I know this no way makes up for all the pain and suffering I gave you. I am so so sorry\n",
      "203     First of all, I would like to ask Sister Teresa to send Connie a yellow rose. I want to thank the Lord, Jesus Christ, for the years I have spent on death row\n",
      "109    I love you all. You have been there for me through this whole thing\n"
     ]
    }
   ],
   "source": [
    "topic = np.argsort(document_topics[:,1])\n",
    "\n",
    "for i in topic[:10]:\n",
    "    print(i,'  ','.'.join(words[i].split(\".\")[:2]))"
   ]
  },
  {
   "cell_type": "code",
   "execution_count": null,
   "metadata": {},
   "outputs": [],
   "source": []
  },
  {
   "cell_type": "code",
   "execution_count": null,
   "metadata": {},
   "outputs": [],
   "source": []
  }
 ],
 "metadata": {
  "kernelspec": {
   "display_name": "Python 3",
   "language": "python",
   "name": "python3"
  },
  "language_info": {
   "codemirror_mode": {
    "name": "ipython",
    "version": 3
   },
   "file_extension": ".py",
   "mimetype": "text/x-python",
   "name": "python",
   "nbconvert_exporter": "python",
   "pygments_lexer": "ipython3",
   "version": "3.6.4"
  },
  "toc": {
   "base_numbering": 1,
   "nav_menu": {},
   "number_sections": true,
   "sideBar": true,
   "skip_h1_title": false,
   "title_cell": "Table of Contents",
   "title_sidebar": "Contents",
   "toc_cell": false,
   "toc_position": {
    "height": "calc(100% - 180px)",
    "left": "10px",
    "top": "150px",
    "width": "244px"
   },
   "toc_section_display": true,
   "toc_window_display": true
  }
 },
 "nbformat": 4,
 "nbformat_minor": 2
}
