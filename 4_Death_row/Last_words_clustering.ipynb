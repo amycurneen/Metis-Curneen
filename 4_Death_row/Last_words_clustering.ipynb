{
 "cells": [
  {
   "cell_type": "markdown",
   "metadata": {},
   "source": [
    "# Setup"
   ]
  },
  {
   "cell_type": "code",
   "execution_count": 203,
   "metadata": {
    "run_control": {
     "frozen": false,
     "read_only": false
    }
   },
   "outputs": [],
   "source": [
    "# !pip install --upgrade gensim\n",
    "from gensim import corpora, models, similarities, matutils\n",
    "# sklearn\n",
    "from sklearn import datasets\n",
    "from sklearn.feature_extraction.text import CountVectorizer\n",
    "from sklearn.cluster import KMeans\n",
    "# logging for gensim (set to INFO)\n",
    "import logging\n",
    "logging.basicConfig(format='%(asctime)s : %(levelname)s : %(message)s', level=logging.INFO)"
   ]
  },
  {
   "cell_type": "code",
   "execution_count": 204,
   "metadata": {},
   "outputs": [],
   "source": [
    "from sklearn.decomposition import LatentDirichletAllocation"
   ]
  },
  {
   "cell_type": "code",
   "execution_count": 205,
   "metadata": {},
   "outputs": [],
   "source": [
    "import matplotlib.pyplot as plt"
   ]
  },
  {
   "cell_type": "code",
   "execution_count": 206,
   "metadata": {},
   "outputs": [],
   "source": [
    "import pandas as pd\n",
    "import numpy as np"
   ]
  },
  {
   "cell_type": "code",
   "execution_count": 207,
   "metadata": {},
   "outputs": [],
   "source": [
    "#!pip install mglearn"
   ]
  },
  {
   "cell_type": "code",
   "execution_count": 208,
   "metadata": {},
   "outputs": [],
   "source": [
    "import mglearn\n",
    "from collections import Counter"
   ]
  },
  {
   "cell_type": "code",
   "execution_count": 209,
   "metadata": {},
   "outputs": [],
   "source": [
    "from textblob import TextBlob"
   ]
  },
  {
   "cell_type": "code",
   "execution_count": 210,
   "metadata": {},
   "outputs": [],
   "source": [
    "import pyLDAvis.sklearn\n",
    "pyLDAvis.enable_notebook()"
   ]
  },
  {
   "cell_type": "markdown",
   "metadata": {},
   "source": [
    "# Clean Data"
   ]
  },
  {
   "cell_type": "code",
   "execution_count": 211,
   "metadata": {},
   "outputs": [],
   "source": [
    "df = pd.read_csv(\"data/Death_Row_Data.csv\", encoding = \"latin1\")"
   ]
  },
  {
   "cell_type": "code",
   "execution_count": 212,
   "metadata": {},
   "outputs": [
    {
     "name": "stdout",
     "output_type": "stream",
     "text": [
      "Number of executions: 549\n"
     ]
    }
   ],
   "source": [
    "words = df['Last Statement']\n",
    "print(\"Number of executions: {}\".format(len(words)))"
   ]
  },
  {
   "cell_type": "code",
   "execution_count": 213,
   "metadata": {},
   "outputs": [
    {
     "name": "stdout",
     "output_type": "stream",
     "text": [
      "Number of statements: 447\n"
     ]
    }
   ],
   "source": [
    "words = words.dropna()\n",
    "print(\"Number of statements: {}\".format(len(words)))"
   ]
  },
  {
   "cell_type": "markdown",
   "metadata": {},
   "source": [
    "## Extra symbols"
   ]
  },
  {
   "cell_type": "markdown",
   "metadata": {},
   "source": [
    "Webscraping gave me none english characters. clean up text"
   ]
  },
  {
   "cell_type": "code",
   "execution_count": 214,
   "metadata": {},
   "outputs": [],
   "source": [
    "words = [doc.replace(\"\\x99\",\"\") for doc in words]"
   ]
  },
  {
   "cell_type": "code",
   "execution_count": 215,
   "metadata": {},
   "outputs": [],
   "source": [
    "words = [doc.replace(\"\\x98\",\"\") for doc in words]"
   ]
  },
  {
   "cell_type": "code",
   "execution_count": 216,
   "metadata": {},
   "outputs": [],
   "source": [
    "words = [doc.replace(\"\\x93\",\"\") for doc in words]"
   ]
  },
  {
   "cell_type": "code",
   "execution_count": 217,
   "metadata": {},
   "outputs": [],
   "source": [
    "words = [doc.replace(\"\\x80\",\"\") for doc in words]"
   ]
  },
  {
   "cell_type": "code",
   "execution_count": 218,
   "metadata": {},
   "outputs": [],
   "source": [
    "words = [doc.replace(\"\\x9d\",\"\") for doc in words]"
   ]
  },
  {
   "cell_type": "code",
   "execution_count": 219,
   "metadata": {},
   "outputs": [],
   "source": [
    "words = [doc.replace(\"\\x9c\",\"\") for doc in words]"
   ]
  },
  {
   "cell_type": "code",
   "execution_count": 220,
   "metadata": {},
   "outputs": [],
   "source": [
    "words = [doc.replace(\"â\",\"\") for doc in words]"
   ]
  },
  {
   "cell_type": "code",
   "execution_count": 221,
   "metadata": {},
   "outputs": [],
   "source": [
    "words = [doc.replace(\"\\'\",\"\") for doc in words]"
   ]
  },
  {
   "cell_type": "code",
   "execution_count": 222,
   "metadata": {},
   "outputs": [],
   "source": [
    "words = [doc.replace(\"\\n\",\"\") for doc in words]"
   ]
  },
  {
   "cell_type": "code",
   "execution_count": 223,
   "metadata": {},
   "outputs": [],
   "source": [
    "words = [doc.replace(\"\\r\",\"\") for doc in words]"
   ]
  },
  {
   "cell_type": "markdown",
   "metadata": {},
   "source": [
    "## Drop \"No statement\""
   ]
  },
  {
   "cell_type": "code",
   "execution_count": 224,
   "metadata": {},
   "outputs": [],
   "source": [
    "def remove_all_values(the_list, val):\n",
    "   return [value for value in the_list if value != val]"
   ]
  },
  {
   "cell_type": "code",
   "execution_count": 225,
   "metadata": {},
   "outputs": [],
   "source": [
    "words = remove_all_values(words,'None')"
   ]
  },
  {
   "cell_type": "code",
   "execution_count": 226,
   "metadata": {},
   "outputs": [],
   "source": [
    "words = remove_all_values(words,'None.')"
   ]
  },
  {
   "cell_type": "code",
   "execution_count": 227,
   "metadata": {},
   "outputs": [],
   "source": [
    "words = remove_all_values(words,'No')"
   ]
  },
  {
   "cell_type": "code",
   "execution_count": 228,
   "metadata": {},
   "outputs": [],
   "source": [
    "words = remove_all_values(words,'This offender declined to make a last statement.  ')"
   ]
  },
  {
   "cell_type": "code",
   "execution_count": 229,
   "metadata": {},
   "outputs": [],
   "source": [
    "words = remove_all_values(words,'This offender declined to make a last statement.')"
   ]
  },
  {
   "cell_type": "code",
   "execution_count": 230,
   "metadata": {},
   "outputs": [],
   "source": [
    "words = remove_all_values(words,'No, I have no final statement. ')"
   ]
  },
  {
   "cell_type": "code",
   "execution_count": 231,
   "metadata": {},
   "outputs": [],
   "source": [
    "words = remove_all_values(words,'No last statement.')"
   ]
  },
  {
   "cell_type": "code",
   "execution_count": 232,
   "metadata": {},
   "outputs": [
    {
     "name": "stdout",
     "output_type": "stream",
     "text": [
      "Number of statements: 436\n"
     ]
    }
   ],
   "source": [
    "print(\"Number of statements: {}\".format(len(words)))"
   ]
  },
  {
   "cell_type": "markdown",
   "metadata": {},
   "source": [
    "## Length of statements"
   ]
  },
  {
   "cell_type": "code",
   "execution_count": 233,
   "metadata": {},
   "outputs": [
    {
     "name": "stdout",
     "output_type": "stream",
     "text": [
      "I love you Israel. \n",
      " Bye, Im Ready. \n",
      " Profanity directed toward staff.  \n",
      " Santajaib Singh Ji.  \n",
      "Goodbye.\n",
      "Yes, I do.\n",
      "Ill see you.\n",
      "Peace.\n",
      "High Flight (aviation poem)\n",
      "Thanked his family.\n",
      "Im ready, Warden.\n"
     ]
    },
    {
     "data": {
      "text/plain": [
       "Counter({1: 2,\n",
       "         3: 6,\n",
       "         4: 3,\n",
       "         5: 3,\n",
       "         6: 2,\n",
       "         7: 4,\n",
       "         8: 5,\n",
       "         9: 2,\n",
       "         10: 3,\n",
       "         11: 4,\n",
       "         12: 3,\n",
       "         13: 4,\n",
       "         14: 5,\n",
       "         15: 2,\n",
       "         16: 4,\n",
       "         17: 8,\n",
       "         18: 3,\n",
       "         19: 4,\n",
       "         20: 6,\n",
       "         21: 3,\n",
       "         22: 4,\n",
       "         23: 2,\n",
       "         24: 6,\n",
       "         25: 6,\n",
       "         26: 1,\n",
       "         27: 5,\n",
       "         28: 6,\n",
       "         29: 4,\n",
       "         30: 2,\n",
       "         31: 3,\n",
       "         32: 8,\n",
       "         33: 4,\n",
       "         34: 2,\n",
       "         35: 7,\n",
       "         36: 2,\n",
       "         37: 1,\n",
       "         38: 1,\n",
       "         39: 2,\n",
       "         40: 4,\n",
       "         42: 3,\n",
       "         43: 4,\n",
       "         44: 2,\n",
       "         45: 7,\n",
       "         46: 3,\n",
       "         47: 3,\n",
       "         48: 4,\n",
       "         49: 2,\n",
       "         50: 2,\n",
       "         51: 2,\n",
       "         52: 2,\n",
       "         53: 2,\n",
       "         54: 1,\n",
       "         55: 1,\n",
       "         56: 5,\n",
       "         57: 2,\n",
       "         58: 3,\n",
       "         59: 1,\n",
       "         60: 1,\n",
       "         61: 2,\n",
       "         62: 3,\n",
       "         63: 2,\n",
       "         64: 2,\n",
       "         65: 4,\n",
       "         66: 2,\n",
       "         67: 5,\n",
       "         68: 1,\n",
       "         69: 6,\n",
       "         70: 1,\n",
       "         71: 4,\n",
       "         73: 2,\n",
       "         74: 5,\n",
       "         75: 4,\n",
       "         76: 3,\n",
       "         77: 5,\n",
       "         78: 5,\n",
       "         79: 3,\n",
       "         81: 1,\n",
       "         82: 3,\n",
       "         83: 2,\n",
       "         84: 3,\n",
       "         85: 1,\n",
       "         86: 3,\n",
       "         87: 2,\n",
       "         88: 3,\n",
       "         89: 1,\n",
       "         90: 3,\n",
       "         92: 1,\n",
       "         93: 3,\n",
       "         94: 2,\n",
       "         95: 1,\n",
       "         96: 1,\n",
       "         97: 2,\n",
       "         98: 1,\n",
       "         99: 1,\n",
       "         100: 3,\n",
       "         101: 2,\n",
       "         102: 3,\n",
       "         104: 1,\n",
       "         105: 2,\n",
       "         106: 1,\n",
       "         107: 3,\n",
       "         108: 1,\n",
       "         109: 1,\n",
       "         111: 2,\n",
       "         112: 3,\n",
       "         113: 1,\n",
       "         115: 1,\n",
       "         116: 3,\n",
       "         117: 2,\n",
       "         118: 3,\n",
       "         119: 1,\n",
       "         120: 1,\n",
       "         121: 2,\n",
       "         122: 2,\n",
       "         123: 3,\n",
       "         124: 2,\n",
       "         125: 2,\n",
       "         127: 4,\n",
       "         129: 2,\n",
       "         131: 1,\n",
       "         132: 1,\n",
       "         134: 3,\n",
       "         135: 3,\n",
       "         137: 1,\n",
       "         138: 3,\n",
       "         140: 2,\n",
       "         142: 1,\n",
       "         143: 2,\n",
       "         145: 1,\n",
       "         147: 2,\n",
       "         148: 1,\n",
       "         150: 1,\n",
       "         151: 2,\n",
       "         153: 2,\n",
       "         158: 3,\n",
       "         160: 1,\n",
       "         161: 1,\n",
       "         162: 1,\n",
       "         165: 1,\n",
       "         166: 1,\n",
       "         174: 2,\n",
       "         176: 1,\n",
       "         179: 1,\n",
       "         184: 1,\n",
       "         187: 1,\n",
       "         188: 1,\n",
       "         191: 2,\n",
       "         197: 1,\n",
       "         201: 1,\n",
       "         202: 1,\n",
       "         204: 1,\n",
       "         209: 1,\n",
       "         210: 1,\n",
       "         217: 1,\n",
       "         218: 1,\n",
       "         219: 1,\n",
       "         223: 1,\n",
       "         224: 1,\n",
       "         225: 2,\n",
       "         226: 3,\n",
       "         229: 1,\n",
       "         232: 1,\n",
       "         233: 1,\n",
       "         234: 1,\n",
       "         238: 1,\n",
       "         239: 1,\n",
       "         241: 1,\n",
       "         245: 1,\n",
       "         247: 1,\n",
       "         256: 1,\n",
       "         262: 1,\n",
       "         263: 1,\n",
       "         264: 1,\n",
       "         269: 2,\n",
       "         274: 1,\n",
       "         276: 1,\n",
       "         280: 1,\n",
       "         290: 1,\n",
       "         298: 1,\n",
       "         301: 1,\n",
       "         303: 1,\n",
       "         315: 1,\n",
       "         316: 1,\n",
       "         334: 1,\n",
       "         335: 1,\n",
       "         358: 2,\n",
       "         359: 1,\n",
       "         374: 1,\n",
       "         406: 1,\n",
       "         447: 1,\n",
       "         478: 1,\n",
       "         482: 1,\n",
       "         510: 1,\n",
       "         684: 1,\n",
       "         1268: 1})"
      ]
     },
     "execution_count": 233,
     "metadata": {},
     "output_type": "execute_result"
    }
   ],
   "source": [
    "#checking length of statements\n",
    "\n",
    "lengths = []\n",
    "for doc in words:\n",
    "    lengths.append(len(doc.split()))\n",
    "    if len(doc.split())<=4:\n",
    "        print(doc)\n",
    "lengths.sort()\n",
    "Counter(lengths)"
   ]
  },
  {
   "cell_type": "code",
   "execution_count": 234,
   "metadata": {},
   "outputs": [
    {
     "name": "stdout",
     "output_type": "stream",
     "text": [
      "Number of statements: 436\n"
     ]
    }
   ],
   "source": [
    "# create list of shorter than X words statements\n",
    "\n",
    "words_short = list(filter(lambda x: len(x.split()) < 2400, words))\n",
    "print(\"Number of statements: {}\".format(len(words_short)))"
   ]
  },
  {
   "cell_type": "code",
   "execution_count": 235,
   "metadata": {},
   "outputs": [],
   "source": [
    "words = words_short"
   ]
  },
  {
   "cell_type": "markdown",
   "metadata": {},
   "source": [
    "## Lowercase"
   ]
  },
  {
   "cell_type": "code",
   "execution_count": 236,
   "metadata": {},
   "outputs": [],
   "source": [
    "words_lower = []\n",
    "for doc in words:  \n",
    "    doc = doc.lower()\n",
    "    words_lower.append(doc)\n",
    "    \n",
    "words = words_lower"
   ]
  },
  {
   "cell_type": "markdown",
   "metadata": {},
   "source": [
    "# Bag of word"
   ]
  },
  {
   "cell_type": "code",
   "execution_count": 237,
   "metadata": {},
   "outputs": [],
   "source": [
    "# contain innocent\n",
    "\n",
    "def containing(this):\n",
    "    counter = 0\n",
    "    total = len(words)\n",
    "\n",
    "    for doc in words:\n",
    "        for each in this:\n",
    "            if each in doc:\n",
    "                counter += 1\n",
    "                break\n",
    "                \n",
    "    return round((counter/total*100),1),counter"
   ]
  },
  {
   "cell_type": "code",
   "execution_count": 322,
   "metadata": {},
   "outputs": [
    {
     "name": "stdout",
     "output_type": "stream",
     "text": [
      "love and family (80.5, 351)\n"
     ]
    }
   ],
   "source": [
    "print('love and family', containing(['love','family','families','mom','mama','mother',\n",
    "                                     'father','wife','kid','children','child','brother','sister','aunt']))"
   ]
  },
  {
   "cell_type": "code",
   "execution_count": 351,
   "metadata": {},
   "outputs": [
    {
     "name": "stdout",
     "output_type": "stream",
     "text": [
      "apology (50.2, 219)\n"
     ]
    }
   ],
   "source": [
    "print('apology',containing(['orry','apolog','forgiveness','forgive','peace','remorse']))"
   ]
  },
  {
   "cell_type": "code",
   "execution_count": 350,
   "metadata": {},
   "outputs": [
    {
     "name": "stdout",
     "output_type": "stream",
     "text": [
      "religious (47.2, 206)\n"
     ]
    }
   ],
   "source": [
    "print('religious',containing(['god','allah','jesus','christ','savior','lord','pray','amen','heavenly']))"
   ]
  },
  {
   "cell_type": "code",
   "execution_count": 328,
   "metadata": {},
   "outputs": [
    {
     "name": "stdout",
     "output_type": "stream",
     "text": [
      "thank you (35.1, 153)\n"
     ]
    }
   ],
   "source": [
    "print('thank you',containing(['thank']))"
   ]
  },
  {
   "cell_type": "code",
   "execution_count": 353,
   "metadata": {},
   "outputs": [
    {
     "name": "stdout",
     "output_type": "stream",
     "text": [
      "ready warden (30.0, 131)\n"
     ]
    }
   ],
   "source": [
    "print('ready warden', containing(['ready','warden']))"
   ]
  },
  {
   "cell_type": "code",
   "execution_count": 321,
   "metadata": {},
   "outputs": [
    {
     "name": "stdout",
     "output_type": "stream",
     "text": [
      "innocent (6.4, 28)\n"
     ]
    }
   ],
   "source": [
    "print('innocent',containing(['innocent']))"
   ]
  },
  {
   "cell_type": "code",
   "execution_count": 281,
   "metadata": {},
   "outputs": [
    {
     "data": {
      "text/plain": [
       "(8.3, 36)"
      ]
     },
     "execution_count": 281,
     "metadata": {},
     "output_type": "execute_result"
    }
   ],
   "source": [
    "containing(['victim'])"
   ]
  },
  {
   "cell_type": "markdown",
   "metadata": {},
   "source": [
    "# Jitter function"
   ]
  },
  {
   "cell_type": "code",
   "execution_count": 294,
   "metadata": {},
   "outputs": [],
   "source": [
    "def rand_jitter_pos(arr):\n",
    "    stdev = .03*(max(arr)-min(arr))\n",
    "    return arr + abs(np.random.randn(len(arr))) * stdev\n",
    "\n",
    "def rand_jitter(arr):\n",
    "    stdev = .03*(max(arr)-min(arr))\n",
    "    return arr + np.random.randn(len(arr)) * stdev\n",
    "\n",
    "def jitter(x, y, s=30, c='b', marker='o', cmap=None, norm=None, vmin=None, vmax=None, \n",
    "           alpha=None, linewidths=None, verts=None, hold=None, **kwargs):\n",
    "    return plt.scatter(rand_jitter(x), rand_jitter(y), s=s, c=c, marker=marker, cmap=cmap, \n",
    "                   norm=norm, vmin=vmin, vmax=vmax, alpha=alpha, linewidths=linewidths, \n",
    "                   verts=verts, hold=hold, **kwargs)\n",
    "\n",
    "#better jitter\n",
    "\n",
    "constant = 0.03\n",
    "\n",
    "def rand_jitter_good(arr,constant):\n",
    "    stdev = constant*(max(arr)-min(arr))\n",
    "    arr_new = []\n",
    "    for item in arr:\n",
    "        if item < -0.9:\n",
    "            item = item + abs(np.random.randn(1)[0]) * stdev\n",
    "        elif item > 0.9:\n",
    "            item = item - abs(np.random.randn(1)[0]) * stdev\n",
    "        else:\n",
    "            item = item + np.random.randn(1)[0] * stdev\n",
    "        arr_new.append(item)\n",
    "    return arr_new\n",
    "\n",
    "def rand_jitter_good_pos(arr,constant):\n",
    "    stdev = constant*(max(arr)-min(arr))\n",
    "    arr_new = []\n",
    "    for item in arr:\n",
    "        if item < 0.1:\n",
    "            item = item + abs(np.random.randn(1)[0]) * stdev\n",
    "        elif item > 0.9:\n",
    "            item = item - abs(np.random.randn(1)[0]) * stdev\n",
    "        else:\n",
    "            item = item + np.random.randn(1)[0] * stdev\n",
    "        arr_new.append(item)\n",
    "    return arr_new\n",
    "\n",
    "def jitter_good(x, y, s=40, c='b', marker='o', cmap=None, norm=None, vmin=None, vmax=None, \n",
    "           alpha=None, linewidths=None, verts=None, hold=None, **kwargs):\n",
    "    return plt.scatter(rand_jitter_good_pos(x,constant), rand_jitter_good(y,constant), s=s, c=c, marker=marker, cmap=cmap, \n",
    "                   norm=norm, vmin=vmin, vmax=vmax, alpha=alpha, linewidths=linewidths, \n",
    "                   verts=verts, hold=hold, **kwargs)"
   ]
  },
  {
   "cell_type": "markdown",
   "metadata": {},
   "source": [
    "# Sentiment of last words"
   ]
  },
  {
   "cell_type": "code",
   "execution_count": 282,
   "metadata": {},
   "outputs": [],
   "source": [
    "def p_and_s(words):\n",
    "    polarity = []\n",
    "    subjectivity = []\n",
    "\n",
    "    for doc in words:\n",
    "        state = str(doc)\n",
    "        a = list(TextBlob(state).sentiment)\n",
    "        polarity.append(a[0])\n",
    "        subjectivity.append(a[1])\n",
    "    \n",
    "    return polarity, subjectivity"
   ]
  },
  {
   "cell_type": "markdown",
   "metadata": {},
   "source": [
    "## Last Words"
   ]
  },
  {
   "cell_type": "code",
   "execution_count": 283,
   "metadata": {},
   "outputs": [
    {
     "name": "stdout",
     "output_type": "stream",
     "text": [
      "Number of last words: 436\n"
     ]
    }
   ],
   "source": [
    "print(\"Number of last words: {}\".format(len(words)))"
   ]
  },
  {
   "cell_type": "code",
   "execution_count": 284,
   "metadata": {},
   "outputs": [],
   "source": [
    "polarity, subjectivity = p_and_s(words)"
   ]
  },
  {
   "cell_type": "code",
   "execution_count": 285,
   "metadata": {},
   "outputs": [
    {
     "name": "stdout",
     "output_type": "stream",
     "text": [
      "Last words\n",
      "Average polarity: 0.16447056371623117\n",
      "Average subjectivity: 0.5496329715698399\n"
     ]
    }
   ],
   "source": [
    "print(\"Last words\")\n",
    "print(\"Average polarity: {}\".format(sum(polarity) / float(len(polarity))))\n",
    "print(\"Average subjectivity: {}\".format(sum(subjectivity) / float(len(subjectivity))))"
   ]
  },
  {
   "cell_type": "code",
   "execution_count": 378,
   "metadata": {},
   "outputs": [],
   "source": [
    "constant = 0.03\n",
    "subjectivity_j, polarity_j = rand_jitter_good_pos(subjectivity,constant), rand_jitter_good(polarity,constant)"
   ]
  },
  {
   "cell_type": "code",
   "execution_count": 379,
   "metadata": {},
   "outputs": [],
   "source": [
    "f=open('lastwords_sem.csv','w')\n",
    "for i,j in zip(subjectivity_j, polarity_j):\n",
    "    f.write(str(i)+\",\"+str(j)+\"\\n\")\n",
    "f.close()"
   ]
  },
  {
   "cell_type": "markdown",
   "metadata": {},
   "source": [
    "## Survey"
   ]
  },
  {
   "cell_type": "code",
   "execution_count": 286,
   "metadata": {},
   "outputs": [],
   "source": [
    "df_survey = pd.read_csv(\"Pollfish_Survey_Death_Row_403827Q1.csv\")"
   ]
  },
  {
   "cell_type": "code",
   "execution_count": 287,
   "metadata": {},
   "outputs": [
    {
     "name": "stdout",
     "output_type": "stream",
     "text": [
      "Number of responses: 100\n"
     ]
    }
   ],
   "source": [
    "survey = df_survey['Answers']\n",
    "print(\"Number of responses: {}\".format(len(survey)))"
   ]
  },
  {
   "cell_type": "code",
   "execution_count": 288,
   "metadata": {},
   "outputs": [],
   "source": [
    "polarity_s, subjectivity_s = p_and_s(survey)"
   ]
  },
  {
   "cell_type": "code",
   "execution_count": 289,
   "metadata": {},
   "outputs": [
    {
     "name": "stdout",
     "output_type": "stream",
     "text": [
      "Survey\n",
      "Average polarity: -0.1932904761904762\n",
      "Average subjectivity: 0.5303174603174603\n"
     ]
    }
   ],
   "source": [
    "print(\"Survey\")\n",
    "print(\"Average polarity: {}\".format(sum(polarity_s) / float(len(polarity_s))))\n",
    "print(\"Average subjectivity: {}\".format(sum(subjectivity_s) / float(len(subjectivity_s))))"
   ]
  },
  {
   "cell_type": "code",
   "execution_count": 374,
   "metadata": {},
   "outputs": [],
   "source": [
    "constant = 0.03\n",
    "subjectivity_s_j, polarity_s_j = rand_jitter_good_pos(subjectivity_s,constant), rand_jitter_good(polarity_s,constant)"
   ]
  },
  {
   "cell_type": "code",
   "execution_count": 375,
   "metadata": {},
   "outputs": [],
   "source": [
    "f=open('survey_sem.csv','w')\n",
    "for i,j in zip(subjectivity_s_j, polarity_s_j):\n",
    "    f.write(str(i)+\",\"+str(j)+\"\\n\")\n",
    "f.close()"
   ]
  },
  {
   "cell_type": "markdown",
   "metadata": {},
   "source": [
    "## Poems"
   ]
  },
  {
   "cell_type": "code",
   "execution_count": 290,
   "metadata": {},
   "outputs": [],
   "source": [
    "df_poems = pd.read_csv(\"Death_poems.csv\")"
   ]
  },
  {
   "cell_type": "code",
   "execution_count": 291,
   "metadata": {},
   "outputs": [
    {
     "name": "stdout",
     "output_type": "stream",
     "text": [
      "Number of poems: 15\n"
     ]
    }
   ],
   "source": [
    "poems = df_poems['Text']\n",
    "print(\"Number of poems: {}\".format(len(poems)))"
   ]
  },
  {
   "cell_type": "code",
   "execution_count": 292,
   "metadata": {},
   "outputs": [],
   "source": [
    "polarity_p, subjectivity_p = p_and_s(poems)"
   ]
  },
  {
   "cell_type": "code",
   "execution_count": 293,
   "metadata": {},
   "outputs": [
    {
     "name": "stdout",
     "output_type": "stream",
     "text": [
      "Poems\n",
      "Average polarity: 0.1704639720273341\n",
      "Average subjectivity: 0.5752102979715048\n"
     ]
    }
   ],
   "source": [
    "print(\"Poems\")\n",
    "print(\"Average polarity: {}\".format(sum(polarity_p) / float(len(polarity_p))))\n",
    "print(\"Average subjectivity: {}\".format(sum(subjectivity_p) / float(len(subjectivity_p))))"
   ]
  },
  {
   "cell_type": "code",
   "execution_count": 376,
   "metadata": {},
   "outputs": [],
   "source": [
    "constant = 0.03\n",
    "subjectivity_p_j, polarity_p_j = rand_jitter_good_pos(subjectivity_p,constant), rand_jitter_good(polarity_p,constant)"
   ]
  },
  {
   "cell_type": "code",
   "execution_count": 377,
   "metadata": {},
   "outputs": [],
   "source": [
    "f=open('poem_sem.csv','w')\n",
    "for i,j in zip(subjectivity_p_j, polarity_p_j):\n",
    "    f.write(str(i)+\",\"+str(j)+\"\\n\")\n",
    "f.close()"
   ]
  },
  {
   "cell_type": "markdown",
   "metadata": {},
   "source": [
    "## Plot"
   ]
  },
  {
   "cell_type": "code",
   "execution_count": 295,
   "metadata": {},
   "outputs": [
    {
     "data": {
      "image/png": "[encoded data removed]",
      "text/plain": [
       "<matplotlib.figure.Figure at 0x10e757828>"
      ]
     },
     "metadata": {},
     "output_type": "display_data"
    }
   ],
   "source": [
    "x = subjectivity\n",
    "y = polarity\n",
    "\n",
    "plt.figure(figsize=(16,10))\n",
    "jitter_good(x, y, c=\"r\", alpha=0.3)\n",
    "jitter_good(subjectivity_s, polarity_s, c=\"green\", alpha=0.3)\n",
    "plt.plot([0,1.05], [0,0], linewidth=2,color=\"black\", alpha=0.5)\n",
    "plt.scatter(subjectivity_p, polarity_p, c=\"blue\", alpha=0.5,s=40)\n",
    "plt.xlabel(\"subjectivity\")\n",
    "plt.ylabel(\"polarity\")\n",
    "plt.xlim(-0.003,1.005)\n",
    "plt.ylim(-1.005,1.005)\n",
    "plt.show()"
   ]
  },
  {
   "cell_type": "markdown",
   "metadata": {},
   "source": [
    "## Reddit test"
   ]
  },
  {
   "cell_type": "code",
   "execution_count": 296,
   "metadata": {},
   "outputs": [],
   "source": [
    "doc = \" think my grandfather is going to die today, and I'm scared that I won't be sad. To me, he was a dick to everyone. After about age 22 or something, I realized I didn't have to like him, and I didn't owe him anything just because he was old. I didn't like being around him, he wasn't nice to my mom or my uncle, and probably not that great to my nana. I basically shunned him for the last 7 or so years... however, today is probably the day he is going to die. My mom is telling me he is in bad shape but won't tell me until she sees me in person — he may already be dead. I love my mom though, and however I feel about my grandfather is irrelevant because I recognize that that is my mom's dad, and it's the only dad she's ever had. Nobody is ever the right age to lose one of their parents, and I really feel for her. My mom doesn't know the extent of how much I don't like my grandfather, but other people do. I'm afraid that I won't look sad or be sad when she tells me he has died. I don't know what to do. I'm afraid of her telling me he's died because of my lack of a reaction. Has anyone here been in a similar situation? I'm ready to give my mom full empathy and whatever I can do, but I'm just afraid that I'll upset her by not looking or feeling sad at all. How can I handle this?\""
   ]
  },
  {
   "cell_type": "code",
   "execution_count": 297,
   "metadata": {},
   "outputs": [],
   "source": [
    "doc = \"What else can I say. The man had a truly terrible life, made the best of it all always, and now he's dying a horrifically terrible death. I don't believe in God regardless, but if I did I no longer would after witnessing this man's misfortune. Misfortune that he didn't bring upon himself, either. I wish he would just die in his sleep. I almost want to pray to that aforementioned God out of desperation.\""
   ]
  },
  {
   "cell_type": "code",
   "execution_count": 298,
   "metadata": {},
   "outputs": [],
   "source": [
    "doc = \"I’ve struggled with Anxiety my whole life for various reasons. Recently I kicked it to the curb for the most part, but also a few scary life experiences have made me scared of dying young. Last night I came home from a friend’s and heard “only the good die young” on the radio. Opened up YouTube to come across nothing but videos about death and character deaths on my feed and opened up Netflix to find a majority of titles linked to death and horror. Is this just my anxiety attempting to get the best of me or is this something else? What do you guys think?\""
   ]
  },
  {
   "cell_type": "code",
   "execution_count": 299,
   "metadata": {},
   "outputs": [],
   "source": [
    "doc = \"I lie awake, crying, screaming my lungs out each day in bed that i don’t want to die. That even though im atheist i want there to be an afterlife, even in hellish pain. I just want to see my mother after i pass. I am mortified. Is there nothing, just blackness, fully conscious? Or do you find other souls? I would end my own life right now if i knew there was an afterlife so i can see my family again. How can i cope with this distress?\""
   ]
  },
  {
   "cell_type": "code",
   "execution_count": 300,
   "metadata": {},
   "outputs": [
    {
     "data": {
      "text/plain": [
       "Sentiment(polarity=0.13214285714285715, subjectivity=0.6021428571428571)"
      ]
     },
     "execution_count": 300,
     "metadata": {},
     "output_type": "execute_result"
    }
   ],
   "source": [
    "TextBlob(doc).sentiment"
   ]
  },
  {
   "cell_type": "markdown",
   "metadata": {},
   "source": [
    "# Parse words"
   ]
  },
  {
   "cell_type": "code",
   "execution_count": 301,
   "metadata": {},
   "outputs": [],
   "source": [
    "from sklearn.feature_extraction.text import ENGLISH_STOP_WORDS"
   ]
  },
  {
   "cell_type": "code",
   "execution_count": 302,
   "metadata": {},
   "outputs": [],
   "source": [
    "from sklearn.feature_extraction.text import TfidfVectorizer"
   ]
  },
  {
   "cell_type": "code",
   "execution_count": 303,
   "metadata": {},
   "outputs": [],
   "source": [
    "# Create a TfidfVectorizer for parsing/counting words\n",
    "tfidf = TfidfVectorizer(ngram_range=(1,2), min_df=3, stop_words=ENGLISH_STOP_WORDS)"
   ]
  },
  {
   "cell_type": "code",
   "execution_count": 304,
   "metadata": {},
   "outputs": [],
   "source": [
    "x = tfidf.fit_transform(words)"
   ]
  },
  {
   "cell_type": "code",
   "execution_count": 305,
   "metadata": {},
   "outputs": [
    {
     "data": {
      "text/plain": [
       "1349"
      ]
     },
     "execution_count": 305,
     "metadata": {},
     "output_type": "execute_result"
    }
   ],
   "source": [
    "feature_names = tfidf.get_feature_names()\n",
    "len(feature_names)"
   ]
  },
  {
   "cell_type": "code",
   "execution_count": 306,
   "metadata": {},
   "outputs": [],
   "source": [
    "# Create a CountVectorizer for parsing/counting words\n",
    "vect = CountVectorizer(ngram_range=(1,3), min_df=3, stop_words=ENGLISH_STOP_WORDS,strip_accents='unicode')"
   ]
  },
  {
   "cell_type": "code",
   "execution_count": 307,
   "metadata": {},
   "outputs": [],
   "source": [
    "x = vect.fit_transform(words)"
   ]
  },
  {
   "cell_type": "code",
   "execution_count": 308,
   "metadata": {},
   "outputs": [
    {
     "data": {
      "text/plain": [
       "1521"
      ]
     },
     "execution_count": 308,
     "metadata": {},
     "output_type": "execute_result"
    }
   ],
   "source": [
    "feature_names = vect.get_feature_names()\n",
    "len(feature_names)"
   ]
  },
  {
   "cell_type": "markdown",
   "metadata": {},
   "source": [
    "# LDA"
   ]
  },
  {
   "cell_type": "code",
   "execution_count": 309,
   "metadata": {},
   "outputs": [],
   "source": [
    "num_topics = 12"
   ]
  },
  {
   "cell_type": "code",
   "execution_count": 310,
   "metadata": {},
   "outputs": [],
   "source": [
    "lda = LatentDirichletAllocation(n_components=num_topics, max_iter = 25, random_state=0, \n",
    "                                n_jobs=-1, learning_method='online')"
   ]
  },
  {
   "cell_type": "code",
   "execution_count": 311,
   "metadata": {},
   "outputs": [],
   "source": [
    "document_topics = lda.fit_transform(x)"
   ]
  },
  {
   "cell_type": "code",
   "execution_count": 312,
   "metadata": {},
   "outputs": [
    {
     "name": "stdout",
     "output_type": "stream",
     "text": [
      "lda.components_.shape: (12, 1521)\n"
     ]
    }
   ],
   "source": [
    "print(\"lda.components_.shape: {}\".format(lda.components_.shape))"
   ]
  },
  {
   "cell_type": "markdown",
   "metadata": {},
   "source": [
    "## Interperate LDA"
   ]
  },
  {
   "cell_type": "code",
   "execution_count": 313,
   "metadata": {},
   "outputs": [
    {
     "data": {
      "text/html": [
       "\n",
       "<link rel=\"stylesheet\" type=\"text/css\" href=\"https://cdn.rawgit.com/bmabey/pyLDAvis/files/ldavis.v1.0.0.css\">\n",
       "\n",
       "\n",
       "<div id=\"ldavis_el349581208184937441472209818\"></div>\n",
       "<script type=\"text/javascript\">\n",
       "\n",
       "var ldavis_el349581208184937441472209818_data = {\"mdsDat\": {\"Freq\": [69.59477882466733, 16.295125691820157, 3.9596383686451944, 3.463439818157414, 2.563749365882283, 1.0285312339685742, 1.002914838258736, 0.8351567325977419, 0.49493707086925975, 0.30471746858616156, 0.26750296899228854, 0.18950761755484602], \"cluster\": [1, 1, 1, 1, 1, 1, 1, 1, 1, 1, 1, 1], \"topics\": [1, 2, 3, 4, 5, 6, 7, 8, 9, 10, 11, 12], \"x\": [0.14928285474854128, 0.2665363100162303, -0.00584212775136018, -0.13737026373025613, 0.08486477717194855, -0.08330168540329118, -0.0399250003061902, -0.07539245282207871, -0.04917370192668249, -0.041132414613331884, -0.03332145586831909, -0.03522483951521014], \"y\": [0.003095641607872835, 0.08323562665075467, -0.28133243188962154, 0.026335578051128967, -0.08830067910099261, 0.029089081454219953, 0.08246809280384836, 0.043918915456124426, 0.03452954390470862, 0.0246674340702239, 0.026022263416297542, 0.016270933575434555]}, \"tinfo\": {\"Category\": [\"Default\", \"Default\", \"Default\", \"Default\", \"Default\", \"Default\", \"Default\", \"Default\", \"Default\", \"Default\", \"Default\", \"Default\", \"Default\", \"Default\", \"Default\", \"Default\", \"Default\", \"Default\", \"Default\", \"Default\", \"Default\", \"Default\", \"Default\", \"Default\", \"Default\", \"Default\", \"Default\", \"Default\", \"Default\", \"Default\", \"Topic1\", \"Topic1\", \"Topic1\", \"Topic1\", \"Topic1\", \"Topic1\", \"Topic1\", \"Topic1\", \"Topic1\", \"Topic1\", \"Topic1\", \"Topic1\", \"Topic1\", \"Topic1\", \"Topic1\", \"Topic1\", \"Topic1\", \"Topic1\", \"Topic1\", \"Topic1\", \"Topic1\", \"Topic1\", \"Topic1\", \"Topic1\", \"Topic1\", \"Topic1\", \"Topic1\", \"Topic1\", \"Topic1\", \"Topic1\", \"Topic1\", \"Topic1\", \"Topic1\", \"Topic1\", \"Topic1\", \"Topic1\", \"Topic1\", \"Topic1\", \"Topic1\", \"Topic1\", \"Topic1\", \"Topic1\", \"Topic1\", \"Topic1\", \"Topic1\", \"Topic1\", \"Topic1\", \"Topic1\", \"Topic1\", \"Topic1\", \"Topic1\", \"Topic1\", \"Topic1\", \"Topic1\", \"Topic1\", \"Topic1\", \"Topic1\", \"Topic1\", \"Topic1\", \"Topic1\", \"Topic1\", \"Topic2\", \"Topic2\", \"Topic2\", \"Topic2\", \"Topic2\", \"Topic2\", \"Topic2\", \"Topic2\", \"Topic2\", \"Topic2\", \"Topic2\", \"Topic2\", \"Topic2\", \"Topic2\", \"Topic2\", \"Topic2\", \"Topic2\", \"Topic2\", \"Topic2\", \"Topic2\", \"Topic2\", \"Topic2\", \"Topic2\", \"Topic2\", \"Topic2\", \"Topic2\", \"Topic2\", \"Topic2\", \"Topic2\", \"Topic2\", \"Topic2\", \"Topic2\", \"Topic2\", \"Topic2\", \"Topic2\", \"Topic2\", \"Topic2\", \"Topic2\", \"Topic2\", \"Topic2\", \"Topic2\", \"Topic2\", \"Topic2\", \"Topic2\", \"Topic2\", \"Topic2\", \"Topic2\", \"Topic2\", \"Topic2\", \"Topic2\", \"Topic2\", \"Topic2\", \"Topic2\", \"Topic2\", \"Topic2\", \"Topic2\", \"Topic2\", \"Topic2\", \"Topic2\", \"Topic2\", \"Topic2\", \"Topic2\", \"Topic2\", \"Topic3\", \"Topic3\", \"Topic3\", \"Topic3\", \"Topic3\", \"Topic3\", \"Topic3\", \"Topic3\", \"Topic3\", \"Topic3\", \"Topic3\", \"Topic3\", \"Topic3\", \"Topic3\", \"Topic3\", \"Topic3\", \"Topic3\", \"Topic3\", \"Topic3\", \"Topic3\", \"Topic3\", \"Topic3\", \"Topic3\", \"Topic3\", \"Topic3\", \"Topic3\", \"Topic3\", \"Topic3\", \"Topic3\", \"Topic3\", \"Topic3\", \"Topic3\", \"Topic3\", \"Topic3\", \"Topic3\", \"Topic3\", \"Topic3\", \"Topic3\", \"Topic3\", \"Topic3\", \"Topic3\", \"Topic3\", \"Topic3\", \"Topic3\", \"Topic3\", \"Topic3\", \"Topic3\", \"Topic3\", \"Topic3\", \"Topic3\", \"Topic3\", \"Topic4\", \"Topic4\", \"Topic4\", \"Topic4\", \"Topic4\", \"Topic4\", \"Topic4\", \"Topic4\", \"Topic4\", \"Topic4\", \"Topic4\", \"Topic4\", \"Topic4\", \"Topic4\", \"Topic4\", \"Topic4\", \"Topic4\", \"Topic4\", \"Topic4\", \"Topic4\", \"Topic4\", \"Topic4\", \"Topic4\", \"Topic4\", \"Topic4\", \"Topic4\", \"Topic4\", \"Topic4\", \"Topic4\", \"Topic4\", \"Topic4\", \"Topic4\", \"Topic4\", \"Topic4\", \"Topic4\", \"Topic4\", \"Topic4\", \"Topic4\", \"Topic4\", \"Topic4\", \"Topic4\", \"Topic4\", \"Topic4\", \"Topic4\", \"Topic4\", \"Topic4\", \"Topic4\", \"Topic4\", \"Topic4\", \"Topic4\", \"Topic5\", \"Topic5\", \"Topic5\", \"Topic5\", \"Topic5\", \"Topic5\", \"Topic5\", \"Topic5\", \"Topic5\", \"Topic5\", \"Topic5\", \"Topic5\", \"Topic5\", \"Topic5\", \"Topic5\", \"Topic5\", \"Topic5\", \"Topic5\", \"Topic5\", \"Topic5\", \"Topic5\", \"Topic5\", \"Topic5\", \"Topic5\", \"Topic5\", \"Topic5\", \"Topic5\", \"Topic5\", \"Topic5\", \"Topic5\", \"Topic5\", \"Topic5\", \"Topic5\", \"Topic5\", \"Topic5\", \"Topic5\", \"Topic5\", \"Topic5\", \"Topic5\", \"Topic5\", \"Topic5\", \"Topic5\", \"Topic5\", \"Topic5\", \"Topic5\", \"Topic6\", \"Topic6\", \"Topic6\", \"Topic6\", \"Topic6\", \"Topic6\", \"Topic6\", \"Topic6\", \"Topic6\", \"Topic6\", \"Topic6\", \"Topic6\", \"Topic6\", \"Topic6\", \"Topic6\", \"Topic6\", \"Topic6\", \"Topic6\", \"Topic6\", \"Topic6\", \"Topic6\", \"Topic6\", \"Topic6\", \"Topic6\", \"Topic6\", \"Topic6\", \"Topic6\", \"Topic6\", \"Topic6\", \"Topic6\", \"Topic6\", \"Topic6\", \"Topic6\", \"Topic6\", \"Topic6\", \"Topic6\", \"Topic6\", \"Topic6\", \"Topic6\", \"Topic6\", \"Topic7\", \"Topic7\", \"Topic7\", \"Topic7\", \"Topic7\", \"Topic7\", \"Topic7\", \"Topic7\", \"Topic7\", \"Topic7\", \"Topic7\", \"Topic7\", \"Topic7\", \"Topic7\", \"Topic7\", \"Topic7\", \"Topic7\", \"Topic7\", \"Topic7\", \"Topic7\", \"Topic7\", \"Topic7\", \"Topic7\", \"Topic7\", \"Topic7\", \"Topic7\", \"Topic7\", \"Topic7\", \"Topic7\", \"Topic7\", \"Topic7\", \"Topic7\", \"Topic7\", \"Topic7\", \"Topic7\", \"Topic7\", \"Topic7\", \"Topic7\", \"Topic7\", \"Topic7\", \"Topic8\", \"Topic8\", \"Topic8\", \"Topic8\", \"Topic8\", \"Topic8\", \"Topic8\", \"Topic8\", \"Topic8\", \"Topic8\", \"Topic8\", \"Topic8\", \"Topic8\", \"Topic8\", \"Topic8\", \"Topic8\", \"Topic8\", \"Topic8\", \"Topic8\", \"Topic8\", \"Topic8\", \"Topic8\", \"Topic8\", \"Topic8\", \"Topic8\", \"Topic8\", \"Topic8\", \"Topic8\", \"Topic8\", \"Topic8\", \"Topic8\", \"Topic8\", \"Topic8\", \"Topic8\", \"Topic8\", \"Topic8\", \"Topic8\", \"Topic8\", \"Topic8\", \"Topic8\", \"Topic9\", \"Topic9\", \"Topic9\", \"Topic9\", \"Topic9\", \"Topic9\", \"Topic9\", \"Topic9\", \"Topic9\", \"Topic9\", \"Topic9\", \"Topic9\", \"Topic9\", \"Topic9\", \"Topic9\", \"Topic9\", \"Topic9\", \"Topic9\", \"Topic9\", \"Topic9\", \"Topic9\", \"Topic9\", \"Topic9\", \"Topic9\", \"Topic9\", \"Topic9\", \"Topic9\", \"Topic9\", \"Topic9\", \"Topic9\", \"Topic9\", \"Topic9\", \"Topic9\", \"Topic9\", \"Topic9\", \"Topic9\", \"Topic9\", \"Topic9\", \"Topic10\", \"Topic10\", \"Topic10\", \"Topic10\", \"Topic10\", \"Topic10\", \"Topic10\", \"Topic10\", \"Topic10\", \"Topic10\", \"Topic10\", \"Topic10\", \"Topic10\", \"Topic10\", \"Topic10\", \"Topic10\", \"Topic10\", \"Topic10\", \"Topic10\", \"Topic10\", \"Topic10\", \"Topic10\", \"Topic10\", \"Topic10\", \"Topic10\", \"Topic10\", \"Topic10\", \"Topic10\", \"Topic10\", \"Topic10\", \"Topic10\", \"Topic10\", \"Topic10\", \"Topic10\", \"Topic10\", \"Topic10\", \"Topic10\", \"Topic10\", \"Topic10\", \"Topic10\", \"Topic10\", \"Topic10\", \"Topic10\", \"Topic10\", \"Topic10\", \"Topic10\", \"Topic10\", \"Topic10\", \"Topic11\", \"Topic11\", \"Topic11\", \"Topic11\", \"Topic11\", \"Topic11\", \"Topic11\", \"Topic11\", \"Topic11\", \"Topic11\", \"Topic11\", \"Topic11\", \"Topic11\", \"Topic11\", \"Topic11\", \"Topic11\", \"Topic11\", \"Topic11\", \"Topic11\", \"Topic11\", \"Topic11\", \"Topic11\", \"Topic11\", \"Topic11\", \"Topic11\", \"Topic11\", \"Topic11\", \"Topic11\", \"Topic11\", \"Topic11\", \"Topic11\", \"Topic11\", \"Topic11\", \"Topic11\", \"Topic11\", \"Topic11\", \"Topic11\", \"Topic11\", \"Topic11\", \"Topic11\", \"Topic11\", \"Topic11\", \"Topic11\", \"Topic11\", \"Topic11\", \"Topic11\", \"Topic11\", \"Topic11\", \"Topic11\", \"Topic11\", \"Topic11\", \"Topic11\", \"Topic11\", \"Topic11\", \"Topic11\", \"Topic12\", \"Topic12\", \"Topic12\", \"Topic12\", \"Topic12\", \"Topic12\", \"Topic12\", \"Topic12\", \"Topic12\", \"Topic12\", \"Topic12\", \"Topic12\", \"Topic12\", \"Topic12\", \"Topic12\", \"Topic12\", \"Topic12\", \"Topic12\", \"Topic12\", \"Topic12\", \"Topic12\", \"Topic12\", \"Topic12\", \"Topic12\", \"Topic12\", \"Topic12\", \"Topic12\", \"Topic12\", \"Topic12\", \"Topic12\", \"Topic12\", \"Topic12\", \"Topic12\", \"Topic12\", \"Topic12\", \"Topic12\", \"Topic12\", \"Topic12\", \"Topic12\", \"Topic12\", \"Topic12\", \"Topic12\", \"Topic12\", \"Topic12\", \"Topic12\", \"Topic12\", \"Topic12\", \"Topic12\", \"Topic12\", \"Topic12\", \"Topic12\", \"Topic12\", \"Topic12\", \"Topic12\", \"Topic12\", \"Topic12\", \"Topic12\", \"Topic12\", \"Topic12\", \"Topic12\", \"Topic12\", \"Topic12\", \"Topic12\", \"Topic12\", \"Topic12\", \"Topic12\", \"Topic12\", \"Topic12\", \"Topic12\", \"Topic12\", \"Topic12\", \"Topic12\", \"Topic12\", \"Topic12\", \"Topic12\"], \"Freq\": [261.0, 646.0, 306.0, 206.0, 151.0, 116.0, 175.0, 200.0, 98.0, 148.0, 132.0, 221.0, 188.0, 52.0, 85.0, 129.0, 41.0, 106.0, 166.0, 66.0, 62.0, 32.0, 38.0, 113.0, 61.0, 22.0, 36.0, 78.0, 75.0, 296.0, 53.82765840676276, 53.013824629559494, 50.891731533710775, 56.9476977658063, 101.9227814776287, 44.42571791434446, 43.02317121002145, 37.11811220142233, 32.53520846280039, 31.4432641296651, 31.279444046952413, 28.560168271237455, 75.71401615173107, 27.131504992530086, 26.687812867602933, 26.163651005508857, 57.63190051397334, 24.594337277028707, 24.097619798153776, 230.883791273287, 23.241706605485422, 23.48925716710542, 21.98195571526527, 25.537293705848914, 21.329492598530745, 51.01315018065502, 20.86025836837949, 20.552371172208105, 18.676043842178448, 18.607120985418323, 136.04928677045288, 79.59772747287012, 37.11730265762893, 43.578537641804196, 69.1504027850221, 188.32619341716557, 44.763693117897326, 134.26993627391806, 177.05490105142061, 250.87231720934318, 145.27197127130904, 131.86771304415618, 244.39604691981506, 110.78428297879844, 67.44321108903645, 144.37551653213018, 72.95492095824895, 125.31442713030823, 74.52222139308752, 195.44773490809834, 425.31666474143304, 107.89266032912187, 163.7052505526302, 93.96439545713545, 94.64643984627487, 60.61834460539521, 77.38026682179628, 80.4259971390341, 65.91397037251494, 94.476760998329, 64.34883952748928, 21.563173107388387, 16.318359296089422, 42.36636408040259, 13.862472755843857, 10.686404427061133, 14.778979163198024, 7.860611022140665, 7.759490136687799, 7.849896725666856, 7.103762058528956, 7.103485804527754, 7.192228379099342, 6.795618904777904, 6.082109690434261, 5.918373883465903, 6.279225102506578, 6.091981611348144, 5.533671229080947, 5.299372936962373, 5.065302377451887, 5.031222182688849, 12.005275617135707, 5.295499020679892, 47.73828849989519, 4.551382473812098, 4.510787777452006, 4.524128640595391, 16.420151467218417, 4.18016684609288, 4.210029111432786, 19.24517711322352, 10.959556230681072, 6.556228298418889, 59.635059879734705, 5.583204685845449, 37.391233343279225, 37.87176982350804, 74.33981419550405, 89.24101467323798, 25.958009436601895, 11.7102032864947, 203.4475838652717, 22.491442917025108, 10.409204933916717, 12.691015653532551, 18.6371886078543, 28.144769203513814, 50.647971698869, 9.707176894677978, 21.490289440015328, 31.830320738138038, 24.02680230190495, 13.083074144783106, 19.36582026088901, 43.81922873754574, 43.91899163780075, 29.753450892427765, 27.450880547840818, 21.4161853647886, 20.64937059965101, 17.327141659497453, 22.035253114204348, 17.19494950895245, 5.706297773567929, 5.705131098008761, 5.670233977798299, 5.669946519863035, 5.685326793757647, 4.8764833642509124, 4.8763121645010745, 4.876039424112653, 4.876163599347035, 4.876135388580357, 4.876241801599673, 4.8761605032399045, 4.876057449608204, 4.8762185841748655, 4.876141555764986, 4.876010713747996, 4.875961555028633, 4.876209498849359, 4.876077509525512, 4.875935711811753, 4.876131011309737, 4.876073262348062, 4.875854419783523, 4.875961777604295, 4.875957093048299, 4.875842786723765, 4.875748485521606, 4.875775703796474, 4.875874941456268, 4.078142338209901, 17.459868300562345, 16.80800350830964, 13.726309333468743, 7.791661888407426, 7.566700781040925, 6.157255670784247, 8.464021307750535, 11.584701431217109, 15.445635246200503, 10.416638252553588, 6.978457344392813, 12.473752850605276, 6.073712102893077, 7.380411335623153, 9.607014577157805, 6.385185392629471, 6.8956526517971275, 11.166799422726092, 8.385524898212621, 6.039750172468885, 5.073769003313399, 9.958111354992543, 4.2113654358679415, 4.237607417732419, 4.209101382378304, 4.206176368540371, 4.206094962313554, 3.379765860121422, 3.3798761873002334, 3.379777367042801, 3.3797467974424134, 3.3798641961361735, 3.3798009947051644, 3.3798560487872575, 3.3797919217500936, 3.3797820717969334, 3.379775407198325, 3.3797902826901285, 3.3797612692953587, 3.3797008811565066, 3.379851885954903, 3.379868355765389, 3.379829720402685, 3.379839679310038, 3.3797053461711757, 3.379750368221171, 3.3797411826773036, 3.3798755995643632, 3.3798302956820234, 3.379773676245692, 3.379623004538928, 3.379765902793137, 3.3798257572164165, 3.3798613999908875, 13.06673857185857, 3.3798470550146966, 3.379845213310058, 3.3798432199412387, 4.052422512060708, 3.37988482322455, 3.3798499754246945, 4.1274375566322, 5.168225962631467, 3.379825989420987, 5.987433502414509, 4.2126779892943365, 5.1641960520944385, 3.4771949571223066, 3.4193030532820057, 3.3803283604512493, 3.3799659232123074, 5.364013883380824, 5.364014128761442, 4.590497736124817, 4.590511695233697, 3.8171548074288553, 3.9471696789921435, 3.227161400413927, 2.4576309889035106, 2.3968407104493767, 2.858945984426673, 8.783404846726242, 2.7943106659165267, 1.994324454974298, 6.953443886253091, 3.010624070492019, 2.3865716239494477, 2.2678978959164056, 2.9520713443710305, 1.4703022324052657, 1.4697984207073398, 1.5383520887110913, 2.2855821506624427, 1.386038987459326, 3.822787133352953, 1.68530879370239, 2.7929746053099063, 4.604136824865789, 9.349532446661634, 2.8051119076785302, 1.0033011562763139, 9.771398065795104, 12.5381563854562, 7.060552466856311, 18.5919866662991, 35.70843263726464, 5.6386205307928305, 6.3154183791874425, 4.0001356458295625, 15.636099346214078, 9.648643849041296, 5.976099854875329, 4.217865356925119, 4.5795502430049995, 3.3082682050626215, 3.084764307075395, 21.469805567206368, 8.453298922673254, 4.123754423373439, 3.1584922647993547, 2.3267769889793226, 2.326443490310216, 2.326461094951773, 2.3264789317839876, 2.326491488518284, 2.3265743408436665, 5.216798373823078, 2.031676273946559, 3.1769196257742935, 2.450820054546253, 1.004873431622125, 1.3581939770280032, 2.4538007035637337, 2.0097094839740106, 1.983880940858916, 2.14726466718405, 0.6757508290910164, 2.648746097391738, 0.967239713135911, 1.9422512516193362, 1.3010856785035432, 0.5057756594476958, 0.5053874252821622, 0.5616276880771198, 0.5274877986468105, 0.43456078041877794, 1.2554080094377793, 2.654356976285607, 3.7950154351559746, 2.11538225942337, 1.227459416926897, 2.241365894704191, 1.287461741004136, 3.7738765420242117, 1.50979499586265, 1.2795800197400022, 2.4905876394080604, 2.0820337683054824, 6.812508076062124, 1.9335624293847118, 1.9800604447482713, 6.804109054034085, 2.0236394823222636, 1.7935154742226869, 1.186970281178527, 1.8564919060750045, 1.4373126377068366, 2.140749280280108, 1.5746975357250828, 1.6822001473897965, 3.017169550528214, 1.4373416447856673, 0.5747400258552838, 2.482103397946592, 0.5519402397542784, 1.096545930477426, 1.9297837264574802, 0.5745931889371166, 0.5746377381446794, 1.9596416240237156, 0.5746367293767443, 0.5746230196968032, 0.5532158342954399, 0.5746610131114785, 0.5529947481578716, 1.556726915267599, 1.4372444380025688, 3.4101122667332104, 3.9578736870315003, 3.058617224442635, 1.4370688746509979, 4.020188717087311, 1.5025846306852844, 1.096630034880056, 1.1396724980787176, 1.1913413726051563, 3.2593548305655045, 2.729959685715259, 1.6843599628722028, 3.8610445531464994, 2.1473139881782237, 2.147238889896515, 4.7456301355516946, 2.5681956746005836, 1.2051776920266115, 1.126310239245917, 4.6937080872941195, 1.159802473311152, 2.020657186453224, 1.047100759100936, 1.1198487306271419, 1.2268812004369434, 0.600630949897912, 2.4368716476957037, 0.5968262461615067, 0.6192569734670736, 0.6198733803463329, 0.593428664010895, 0.5985600315519868, 0.5927343299520236, 0.5991969548569205, 0.5989404822934145, 0.5584704177101446, 0.5880067947993661, 0.5876952725258311, 0.5137980729945529, 1.0664411543807235, 1.5203725869050668, 4.038900961405732, 1.577100124045405, 1.3136497389181947, 1.155215791556822, 0.7140058985837714, 0.6192931714984657, 0.6187595651255933, 0.616639880265717, 2.6073008532030806, 1.4763465972715433, 0.9036060524656214, 0.8224185530938564, 0.43593849379230465, 0.8170092369434772, 0.8168759107982763, 0.7078011686820622, 0.4241449915587589, 0.43586069106651715, 0.4311524462068522, 0.42923005436629563, 0.417776153021115, 0.4511117776404188, 0.41727462223061823, 0.4100150979039513, 0.41005144706448643, 0.4087035255212105, 0.4082405291341618, 0.40757013162063055, 0.4026288562076482, 0.40075532253439583, 0.45137710435203426, 0.4088033431883242, 1.13796212499697, 0.32448129540629767, 0.3242625870591528, 0.4235951133493016, 0.4089760767522901, 0.4030973687356662, 0.7181292081154517, 1.1263682200401448, 0.6450794420060307, 0.6540043346161836, 1.2239934300794049, 0.6285267394829229, 0.4171088248080059, 0.4133488013085254, 1.5619602070504934, 0.628470823712505, 0.6218296248566548, 0.3358734808366021, 0.33582122610204757, 0.301415479551516, 0.2995138738861503, 0.3360321854736588, 0.29245962525367625, 0.27555287247447563, 0.6198574196956866, 0.2652349672823021, 0.23936110384729187, 0.19971292784843284, 0.18938310976255593, 0.2889000963349612, 0.03180293593948589, 0.03183547269021597, 0.03182326272411466, 0.03182092779536855, 0.03179311002713414, 0.03182982363374141, 0.03182512351470947, 0.031797901910514036, 0.03179231773256914, 0.031794266551306564, 0.03178047188456553, 0.03177567169804257, 0.031841583559469276, 0.031843778889028534, 0.15100377362292136, 0.060483634770364794, 0.06864106396322507, 0.04795244028574899, 0.032527073341563434, 0.032445324806363134, 0.032427768363760094, 0.03529626759222636, 0.03582832244106733, 0.03293528700478792, 0.034280602438492194, 0.03252590049460427, 0.032993456561830135, 0.03346120742234599, 0.032967771749881136, 0.03294078769210122, 0.03400779513355299, 0.03311731934723542, 0.30600294331836436, 0.30599847892796483, 0.3059901241444789, 0.30599985989496975, 0.30602121510792296, 0.3059465244260631, 0.5830065833488014, 0.30597839116517833, 0.30614367572775353, 0.30598086167224553, 0.3059212740607826, 0.02899227567960761, 0.02897267612107519, 0.028914668918777968, 0.028973978425628835, 0.028984826503440624, 0.028972809060546688, 0.028949745348030898, 0.02898445196587095, 0.02902665330979552, 0.028954564360840436, 0.028988494435061123, 0.02897906752234148, 0.028950638271921753, 0.028978493747421983, 0.028972790636304965, 0.029015573150256803, 0.028973590246245504, 0.028952473238347296, 0.028945018726698538, 0.3057925063351073, 0.30577626487423604, 0.30592102174126506, 0.029559674663041758, 0.02971803637620099, 0.02940263185622943, 0.029369495069623972, 0.029347377297646006, 0.029320388307927492, 0.02905164596808812, 0.029361429020597372, 0.029321209375413985, 0.029290753038601014, 0.02912691477362575, 0.029077117637699778, 0.02982855535234754, 0.02955423519008831, 0.029504880120332696, 0.02939963902552689, 0.029393956778888123, 0.029370927848183823, 0.029343222891499654, 0.029334675295396347, 0.0293231000755416, 0.029322127174056276, 0.022433840673129746, 0.022458808881745135, 0.022452473743810954, 0.022493452188716925, 0.022435481559383345, 0.022424082132291634, 0.02248252593482906, 0.022446502690690154, 0.022464632653962327, 0.022463099540440963, 0.022465529824027934, 0.02247624973670297, 0.022462266762076973, 0.022451590457892925, 0.022459584682037157, 0.022476224361973406, 0.022457305442955842, 0.022456222113195028, 0.022454016230332927, 0.022457792441295935, 0.022518673674165178, 0.022474883766318614, 0.022466838481566054, 0.02246255611401586, 0.022446731261920993, 0.022451961734547318, 0.022461594786358997, 0.022458890399238967, 0.022445788880179108, 0.02245138447420302, 0.022514018319469177, 0.02245777918119926, 0.02249768216086131, 0.022469305419991224, 0.022515916780884847, 0.02251265382259083, 0.022500051046531005, 0.022604302713969456, 0.022516586000969153, 0.022606011009347296, 0.022509993970049564, 0.02250437512658203, 0.02250244783024526, 0.022504678959082446, 0.02249916598962928, 0.022501563906068674, 0.022485586864695685, 0.022985373834911553, 0.02291828669335599, 0.022763245073870973, 0.02274360424312293, 0.022728873280796036, 0.022665706953446985, 0.022637815502688983, 0.022635834411649642, 0.022623005030129113, 0.022617448914590766, 0.022613157560442593, 0.022611541764445468, 0.022596136999294084, 0.02259606464629974, 0.022589299827995464, 0.0225660686097516, 0.0225628546578705, 0.022561684254106016, 0.022558194609882357, 0.022556678868898426, 0.022554492022236108, 0.022554228153868636, 0.022551640802002445, 0.02255013500128159, 0.022545900504898332, 0.022544519150240194, 0.022544412145962464, 0.022542424939434796], \"Term\": [\"thank\", \"love\", \"family\", \"god\", \"life\", \"did\", \"im\", \"like\", \"jesus\", \"forgive\", \"lord\", \"want\", \"yall\", \"christ\", \"death\", \"tell\", \"said\", \"yes\", \"say\", \"years\", \"time\", \"statement\", \"apologize\", \"people\", \"come\", \"allah\", \"like thank\", \"strong\", \"father\", \"know\", \"home\", \"forgiveness\", \"didnt\", \"im sorry\", \"peace\", \"loved\", \"ive\", \"things\", \"victims\", \"death row\", \"hate\", \"mother\", \"pain\", \"ones\", \"place\", \"hurt\", \"pray\", \"victims family\", \"ask forgiveness\", \"sorry\", \"ready warden\", \"guys\", \"understand\", \"think\", \"long\", \"caused\", \"loved ones\", \"need\", \"suffering\", \"forgiven\", \"hope\", \"ask\", \"apologize\", \"good\", \"heart\", \"god\", \"bless\", \"forgive\", \"like\", \"know\", \"say\", \"life\", \"family\", \"dont\", \"father\", \"im\", \"ready\", \"just\", \"death\", \"thank\", \"love\", \"lord\", \"want\", \"did\", \"going\", \"friends\", \"yes\", \"people\", \"thats\", \"yall\", \"warden\", \"tell family\", \"tell family love\", \"stay strong\", \"black\", \"attorney\", \"innocent man\", \"like tell family\", \"just want tell\", \"yall im\", \"love stay strong\", \"love stay\", \"im innocent\", \"want tell family\", \"yall love\", \"tell mom\", \"yall stay\", \"family love yall\", \"want yall\", \"tell love\", \"high\", \"cases\", \"forward\", \"love ill\", \"stay\", \"yall stay strong\", \"murdering\", \"wall\", \"stop\", \"supported years\", \"kept\", \"kids\", \"america\", \"people know\", \"strong\", \"young\", \"innocent\", \"love yall\", \"tell\", \"yall\", \"family love\", \"happening\", \"love\", \"continue\", \"court\", \"john\", \"justice\", \"man\", \"want\", \"state\", \"let\", \"people\", \"everybody\", \"like tell\", \"mom\", \"know\", \"family\", \"im\", \"just\", \"going\", \"yes\", \"years\", \"thank\", \"dont\", \"thy earth\", \"daily\", \"deliver evil\", \"deliver\", \"lead\", \"kingdom come\", \"kingdom come thy\", \"bread\", \"come thy\", \"heaven day daily\", \"temptation deliver evil\", \"day daily\", \"temptation\", \"earth heaven\", \"lead temptation deliver\", \"temptation deliver\", \"day daily bread\", \"daily bread forgive\", \"earth heaven day\", \"bread forgive\", \"lead temptation\", \"come thy earth\", \"thy kingdom\", \"heaven day\", \"thy earth heaven\", \"thy kingdom come\", \"thy thy kingdom\", \"thy thy\", \"daily bread\", \"father art\", \"holy\", \"thy\", \"praise\", \"kingdom\", \"thank lord jesus\", \"glory\", \"amen\", \"heaven\", \"lord\", \"come\", \"evil\", \"forgive\", \"earth\", \"spirit\", \"jesus\", \"thank lord\", \"lord jesus\", \"love\", \"god\", \"father\", \"power\", \"thou\", \"leadeth\", \"waters\", \"green\", \"lord shepherd\", \"shepherd\", \"fear evil thou\", \"shepherd shall want\", \"death fear evil\", \"oil\", \"yea\", \"cup runneth\", \"walk valley shadow\", \"pastures\", \"thou preparest table\", \"thou art\", \"table presence enemies\", \"green pastures\", \"table presence\", \"preparest\", \"yea walk\", \"runneth\", \"oil cup runneth\", \"death fear\", \"evil thou\", \"cup\", \"head oil cup\", \"presence enemies\", \"paths\", \"shepherd shall\", \"lord shepherd shall\", \"head oil\", \"shadow\", \"shall\", \"valley shadow death\", \"shadow death\", \"shadow death fear\", \"enemies\", \"valley\", \"thou preparest\", \"lie\", \"thy\", \"valley shadow\", \"want\", \"evil\", \"lord\", \"death\", \"thank\", \"fear\", \"walk\", \"receive spirit\", \"receive\", \"jesus receive\", \"jesus receive spirit\", \"lord jesus receive\", \"yes like thank\", \"bye bye\", \"friendship thank\", \"life death\", \"laura\", \"bye\", \"thank everybody\", \"like thank family\", \"thank jesus\", \"thank family friends\", \"yall thank\", \"barbara\", \"prayers\", \"thank family support\", \"family support\", \"say warden\", \"salvation\", \"transition\", \"thank warden\", \"unit\", \"just wanted\", \"thank family\", \"jesus christ\", \"victory\", \"american\", \"like thank\", \"christ\", \"spirit\", \"jesus\", \"thank\", \"holy\", \"lord jesus\", \"yes like\", \"family\", \"like\", \"yes\", \"warden\", \"love\", \"friends\", \"appreciate\", \"allah\", \"unto\", \"god allah\", \"islam\", \"belong unto\", \"witness god\", \"bear witness\", \"belong\", \"bear witness god\", \"witness god allah\", \"return\", \"fathers\", \"bear\", \"said love\", \"believes\", \"supreme\", \"extend\", \"unintelligible\", \"brothers sisters\", \"theres\", \"mother father\", \"witness\", \"salvation\", \"sisters\", \"peace god\", \"warden love\", \"like praise\", \"dwell\", \"charge\", \"time come\", \"prayer\", \"thy\", \"said\", \"praise\", \"know im\", \"brothers\", \"witnesses\", \"god\", \"want know\", \"execution\", \"murderer\", \"self defense\", \"officer\", \"fought\", \"spoke\", \"police\", \"self\", \"lots\", \"familys\", \"defense\", \"minutes\", \"angry\", \"capital\", \"beat\", \"sentence\", \"final\", \"filled\", \"guilty\", \"saint\", \"james\", \"carry\", \"worked\", \"walked\", \"committed\", \"problems\", \"blood\", \"did wrong\", \"profanity\", \"jenny\", \"anger\", \"sin\", \"goodbye\", \"statement\", \"said\", \"crime\", \"life\", \"murder\", \"head\", \"truth\", \"like say\", \"brings closure\", \"hope brings closure\", \"beginning\", \"hope brings\", \"crime did commit\", \"crime did\", \"brings\", \"did commit\", \"12\", \"williams\", \"crime\", \"dog\", \"convicted\", \"gotta\", \"drug\", \"13\", \"august\", \"commit\", \"american\", \"want make\", \"profanity\", \"solve\", \"family want\", \"yes know\", \"mourn\", \"fought\", \"lawyer\", \"shed\", \"tears\", \"love family friends\", \"doesnt\", \"real\", \"did\", \"statement\", \"bring\", \"shall\", \"return\", \"jury\", \"earth\", \"gods\", \"born\", \"warrior\", \"home jesus\", \"miracle\", \"proceed warden\", \"trouble\", \"caused like\", \"hello\", \"saint\", \"warden jones\", \"proceed\", \"guess thats\", \"thank tell\", \"profanity\", \"like apologize family\", \"know wrong\", \"disappointed\", \"feel like\", \"courts\", \"irene wilcox\", \"kim\", \"son life\", \"staff\", \"upset\", \"mad\", \"family support\", \"thank family support\", \"leaving\", \"yall forgive\", \"apologize family\", \"home lord\", \"die\", \"jack\", \"like apologize\", \"im\", \"apologize\", \"dont say\", \"jones\", \"polunsky\", \"proceed warden\", \"proceed\", \"filled\", \"demand\", \"lift\", \"solace\", \"church\", \"community\", \"singing\", \"country\", \"says\", \"began\", \"aunt\", \"living\", \"stop\", \"home jesus\", \"beginning\", \"familys\", \"august\", \"saint\", \"warden jones\", \"12\", \"believes\", \"williams\", \"guess thats\", \"self defense\", \"mother father\", \"thank family support\", \"thank tell\", \"does\", \"society\", \"row\", \"death row\", \"wrong thank\", \"god thank\", \"randy\", \"bye\", \"death\", \"showing\", \"live\", \"reverend\", \"rest\", \"die\", \"looking\", \"free\", \"love\", \"thank\", \"august\", \"demand\", \"relief\", \"state texas\", \"fact\", \"robert\", \"guilty\", \"sentence\", \"texas\", \"state\", \"execution\", \"proceed warden\", \"home jesus\", \"beginning\", \"familys\", \"filled\", \"saint\", \"proceed\", \"warden jones\", \"12\", \"believes\", \"williams\", \"guess thats\", \"self defense\", \"lift\", \"mother father\", \"thank family support\", \"like thank family\", \"family support\", \"thank tell\", \"time\", \"years\", \"death\", \"solve\", \"yall forgive\", \"did dont\", \"punishment\", \"right wrong\", \"ask yall\", \"american\", \"bless yall\", \"forgave\", \"god bless yall\", \"like love\", \"love daughter\", \"know\", \"peace\", \"god\", \"yall\", \"victims family\", \"victims\", \"believe\", \"life\", \"wish\", \"bless\", \"proceed warden\", \"home jesus\", \"beginning\", \"familys\", \"filled\", \"august\", \"saint\", \"proceed\", \"warden jones\", \"believes\", \"12\", \"williams\", \"guess thats\", \"self defense\", \"lift\", \"mother father\", \"family support\", \"thank family support\", \"like thank family\", \"thank tell\", \"know wrong\", \"solace\", \"american\", \"like apologize family\", \"disappointed\", \"feel like\", \"kim\", \"courts\", \"irene wilcox\", \"son life\", \"solve\", \"did wrong\", \"worked\", \"bear witness god\", \"waiting yall\", \"runneth surely goodness\", \"love children\", \"uncle\", \"hurt caused\", \"hope yall\", \"home ready\", \"lady\", \"hero\", \"ask yall\", \"peace sorry\", \"people god\", \"fought\", \"sorry\", \"peace\", \"love\", \"change\", \"hope\", \"yes\", \"know\", \"accept\", \"make\", \"past\", \"years\", \"peace god\", \"yall\", \"man\", \"apology\", \"god\", \"tell\", \"love sorry\", \"say\", \"day\", \"going\", \"hope day\", \"sorry love\", \"forgiveness\", \"okay\", \"10 years\", \"sorry sorry\", \"family wish\"], \"Total\": [261.0, 646.0, 306.0, 206.0, 151.0, 116.0, 175.0, 200.0, 98.0, 148.0, 132.0, 221.0, 188.0, 52.0, 85.0, 129.0, 41.0, 106.0, 166.0, 66.0, 62.0, 32.0, 38.0, 113.0, 61.0, 22.0, 36.0, 78.0, 75.0, 296.0, 54.45402459198788, 53.64346824102534, 51.5240360543276, 57.67295493389974, 103.31925454354275, 45.049217944647324, 43.64661768643731, 37.80670777837228, 33.1764970352441, 32.08543297854599, 31.956138703810264, 29.18111786245224, 77.39160063652184, 27.755861589505876, 27.307944383705575, 26.800402585677872, 59.04234073091298, 25.228073629774972, 24.72064490825831, 236.9336803438747, 23.867747627935646, 24.133370704550973, 22.606576875064658, 26.283440855796233, 21.95407162766745, 52.52208755046795, 21.480774767230102, 21.17247168381113, 19.29769964878346, 19.226990113362216, 142.2204395551911, 82.87886024922321, 38.41473348685948, 45.386867164580174, 73.08930764821233, 206.18837797380706, 46.95574259061823, 148.2626528180612, 200.0894717639846, 296.6140093583001, 166.30864887852118, 151.30653675381797, 306.2324317044432, 128.53318302115883, 75.0472959944112, 175.8768645481818, 82.01795327397716, 153.2989548235869, 85.2613505640658, 261.2455390598732, 646.2422154743917, 132.0767158850932, 221.90787666331423, 116.02274617703783, 117.4650465990313, 69.33231691694259, 106.03495076064118, 113.75217277177889, 83.20528020267163, 188.47518256890592, 86.91136163147752, 22.258405027414803, 16.93823234366461, 44.26032730413957, 14.51275756670319, 11.310323875151719, 15.757514781208286, 8.480010129640808, 8.379208609460823, 8.476912199843671, 7.731773254862305, 7.731673989970941, 7.833327576942977, 7.425469716293296, 6.7126057380785085, 6.537920393206775, 6.9469301521772024, 6.7760929941148635, 6.195248483879564, 5.943095160491738, 5.685638947748152, 5.651969673170899, 13.558169828853622, 5.992722177740083, 54.14835349311991, 5.172979598520728, 5.139186451220973, 5.172709065523759, 18.825695212211297, 4.797978748375669, 4.832614753027273, 22.169004571142327, 12.601750473763904, 7.559833980027388, 78.12098039499774, 6.455351082972099, 52.66080296325485, 55.96408295742811, 129.86374627960012, 188.47518256890592, 42.759434783729645, 16.045344512787135, 646.2422154743917, 37.530599393493546, 13.942355763343988, 18.82494986169487, 32.75643820629046, 71.21052054245513, 221.90787666331423, 13.236287941733904, 54.97258570398835, 113.75217277177889, 75.53067961998332, 23.006975418734246, 49.81650219476012, 296.6140093583001, 306.2324317044432, 175.8768645481818, 153.2989548235869, 117.4650465990313, 106.03495076064118, 66.13030905894243, 261.2455390598732, 128.53318302115883, 6.334682335031798, 6.3347677935287985, 6.304731317331651, 6.30519384015266, 6.327631847654647, 5.504444771285344, 5.504521020158517, 5.504236300718908, 5.504381052068461, 5.504437024653871, 5.504575555987373, 5.5045109953172195, 5.504456810453086, 5.504719990603004, 5.5046674996391785, 5.504543781549834, 5.504490944545939, 5.504773613461259, 5.504635520531403, 5.504506977783703, 5.504837289556755, 5.504796224641873, 5.504590769553205, 5.5047340191917025, 5.504764961251917, 5.504662216277871, 5.50465028071045, 5.5047259614253345, 5.5049485660967665, 4.705715076383268, 23.673520143844673, 25.254595318166178, 20.99819767465462, 10.407514108480912, 10.702688313262124, 8.87916495559737, 18.5108490239117, 40.13835221862808, 132.0767158850932, 61.37130892617974, 18.677194617677333, 148.2626528180612, 12.280605030656226, 26.497063364080187, 98.29388529395186, 17.174871982293293, 28.92249553336057, 646.2422154743917, 206.18837797380706, 75.0472959944112, 16.088058841035586, 10.596022389244963, 4.834742783233232, 4.866866822182202, 4.835011512745485, 4.834931651488965, 4.834940919441941, 4.002544657480686, 4.002768516357016, 4.002729278691883, 4.002720999988422, 4.0028759909742355, 4.002816371788216, 4.0028826902376275, 4.002831134384692, 4.002832629990122, 4.002839603352226, 4.002859532001311, 4.002843644400851, 4.00277867566943, 4.0029867819625355, 4.003027506811579, 4.002991993907001, 4.003015153992998, 4.002874350926897, 4.0029299356022, 4.002938202690893, 4.003098656462907, 4.003053458014739, 4.0029873648803, 4.002810192035034, 4.002980949405183, 4.00305308094469, 4.003097502381817, 19.698898065577815, 4.003090823587984, 4.003115545420641, 4.0031170933286235, 5.799526832967667, 4.003299425625581, 4.0031939043950535, 9.34178414675475, 25.254595318166178, 4.003088153726498, 221.90787666331423, 18.677194617677333, 132.0767158850932, 85.2613505640658, 261.2455390598732, 13.629683772344947, 8.856138954248223, 5.990369780095771, 5.990376597061558, 5.21691859807002, 5.217158269300237, 4.444123242994167, 4.604254198177759, 3.8938280846957247, 3.0863926862370556, 3.1269040968434205, 3.8655501611801686, 12.057546622824491, 3.937993813842437, 2.827487824045696, 9.951463493207996, 4.8029646354791895, 3.828201663313344, 3.9267943683116164, 5.421244139909874, 2.8268944236052738, 2.8262949895551035, 3.2161155352838655, 5.001296753959581, 3.164544728106418, 9.051518524872161, 4.1201412267297775, 7.244872011268253, 12.487536643321748, 25.800490715246482, 7.855494134650647, 2.894508419640421, 36.02603854675642, 52.2047859704334, 26.497063364080187, 98.29388529395186, 261.2455390598732, 23.673520143844673, 28.92249553336057, 16.161021824757352, 306.2324317044432, 200.0894717639846, 106.03495076064118, 86.91136163147752, 646.2422154743917, 69.33231691694259, 30.750039800462506, 22.34556496239534, 9.148857923441494, 4.791821026015867, 3.854990319456016, 2.984732160527011, 2.984630492331622, 2.9848177711658113, 2.9849515954983086, 2.9851764461468338, 2.9853709349719932, 6.99020093496841, 3.7283879651952736, 5.92157908721886, 5.774414380114029, 2.70729854890252, 4.675838346145931, 8.508292322690622, 7.020587594197233, 7.612632185345075, 8.650253036435391, 2.820469556431989, 11.220810784795773, 5.001296753959581, 10.23874889308827, 7.3491679051971674, 3.0035251053837113, 3.0385531402462296, 3.714646427159823, 3.5415623764134647, 3.1616351544730357, 10.28147522808216, 25.254595318166178, 41.42483055535888, 20.99819767465462, 10.199799698951452, 25.92425181023094, 11.243902451964127, 206.18837797380706, 28.52804719997868, 16.50697163216479, 3.165434753754714, 2.7700642128536965, 9.610857578393212, 3.1426590522037463, 3.5216434177651013, 12.431383026865909, 3.697769506310356, 3.455524658749095, 2.3801943302320248, 4.768583118000701, 3.865830724847735, 6.375388760551331, 4.8634187908954924, 5.502927249717694, 10.338168105047432, 5.556796773532619, 2.3976560746933395, 10.540955640483707, 2.473711225957726, 5.063329101156063, 8.944971792277961, 3.0023571748086897, 3.0027236961471986, 10.319856256695982, 3.036260019576274, 3.036256162625968, 2.9507264982230312, 3.0890040041970317, 3.0180995582860586, 9.20517038586924, 8.855396434639877, 25.778025557353995, 32.890255940994805, 41.42483055535888, 13.823729776958753, 151.30653675381797, 25.64539524134548, 13.91427906508713, 22.18600260520072, 32.82974773325839, 4.058629374336452, 3.441115003786707, 2.366901138061653, 5.45318541383545, 3.0877970303103868, 3.0881139839443397, 8.559889026392907, 4.687645755049466, 2.709086255624395, 2.719913206238757, 13.823729776958753, 3.655246423988416, 6.433546596706834, 3.787439324260929, 4.385521763865826, 4.866532860670107, 2.412087365032298, 11.394826037994049, 2.894508419640421, 3.010790919740664, 3.0890040041970317, 2.95803327680766, 2.98918334036088, 2.960335873392913, 3.023414510547269, 3.1426590522037463, 3.1469000593132845, 3.982983930828758, 3.9830119089313887, 3.957745282737855, 8.621844197200188, 16.897697194418875, 116.02274617703783, 32.890255940994805, 23.76360027607763, 19.698898065577815, 6.99020093496841, 5.429396645742106, 12.280605030656226, 12.905861520239982, 4.087690418891924, 3.1643978034385003, 2.2639588016411967, 3.1659835983632365, 1.7317660025234662, 3.3188116487688495, 3.318991106909457, 3.3896318660103506, 2.473711225957726, 2.675452346866892, 2.669481683298575, 2.765408845246586, 2.8286621969070507, 3.0890040041970317, 2.896252253536494, 2.8712729416961427, 2.904428828429971, 2.906759780530004, 2.9408305896038156, 2.9412924922895765, 2.9130100999502826, 2.9495011699439506, 3.633469204250136, 3.4277746107591702, 9.675116603875146, 2.8262949895551035, 2.8268944236052738, 3.8093358760749507, 3.691600447589137, 3.8332319733896703, 7.96876684648324, 22.83803917433711, 13.408942473307409, 16.124040550664848, 175.8768645481818, 38.41473348685948, 6.135492851771075, 4.653920210330047, 3.0490291663617155, 1.7317660025234662, 2.669481683298575, 2.3976560746933395, 3.129349715771715, 2.813960281084596, 2.8839422112970605, 4.247468442655493, 3.784080490977749, 3.713899575534466, 8.681662365874418, 3.798664330294686, 4.666021213190628, 4.905887159331764, 4.856162613421504, 18.825695212211297, 2.2639588016411967, 2.366901138061653, 2.3801943302320248, 2.412087365032298, 2.473711225957726, 2.675452346866892, 2.709086255624395, 2.70729854890252, 2.719913206238757, 2.765408845246586, 2.7700642128536965, 2.820469556431989, 2.8268944236052738, 2.8286621969070507, 15.636134781504886, 13.033395836109817, 40.7495042770344, 32.08543297854599, 3.332951140940503, 3.2990565209674916, 3.331846968901362, 12.057546622824491, 85.2613505640658, 6.812199491215349, 27.236737075472075, 5.023110224292907, 10.632518963612947, 22.83803917433711, 12.044639582293113, 14.89374384646291, 646.2422154743917, 261.2455390598732, 2.412087365032298, 3.129349715771715, 3.610162979918862, 4.4644408657974095, 4.597999660102594, 4.5982213156114895, 10.540955640483707, 10.338168105047432, 11.560755522229917, 13.236287941733904, 16.50697163216479, 1.7317660025234662, 2.2639588016411967, 2.366901138061653, 2.3801943302320248, 2.3976560746933395, 2.473711225957726, 2.669481683298575, 2.675452346866892, 2.709086255624395, 2.70729854890252, 2.719913206238757, 2.765408845246586, 2.7700642128536965, 2.813960281084596, 2.820469556431989, 2.8268944236052738, 2.827487824045696, 2.8262949895551035, 2.8286621969070507, 62.50808106999071, 66.13030905894243, 85.2613505640658, 2.95803327680766, 3.691600447589137, 3.2991622528413855, 3.299326597260593, 3.3666030733428594, 3.366068044870791, 2.894508419640421, 4.186972848760765, 4.185856574365927, 4.187125206396937, 3.367306389347491, 3.3672503011434722, 296.6140093583001, 103.31925454354275, 206.18837797380706, 188.47518256890592, 25.228073629774972, 33.1764970352441, 21.715002140185028, 151.30653675381797, 37.97026564854561, 46.95574259061823, 1.7317660025234662, 2.2639588016411967, 2.366901138061653, 2.3801943302320248, 2.3976560746933395, 2.412087365032298, 2.473711225957726, 2.669481683298575, 2.675452346866892, 2.70729854890252, 2.709086255624395, 2.719913206238757, 2.765408845246586, 2.7700642128536965, 2.813960281084596, 2.820469556431989, 2.8262949895551035, 2.8268944236052738, 2.827487824045696, 2.8286621969070507, 2.8712729416961427, 2.8839422112970605, 2.894508419640421, 2.896252253536494, 2.904428828429971, 2.906759780530004, 2.9130100999502826, 2.9408305896038156, 2.9412924922895765, 2.9495011699439506, 2.95803327680766, 2.9507264982230312, 3.0023571748086897, 2.9851764461468338, 3.2141613816697774, 3.2024777330551926, 3.136007632664431, 4.186215999071453, 3.3331578810295395, 5.108019686461844, 3.367231921708777, 3.3002046627064527, 3.284266097358482, 3.366068044870791, 3.299971033591834, 3.3675613673319904, 3.1426590522037463, 236.9336803438747, 103.31925454354275, 646.2422154743917, 17.356875780676965, 142.2204395551911, 106.03495076064118, 296.6140093583001, 10.973896411689383, 45.377158411825704, 12.236303097414915, 66.13030905894243, 7.3491679051971674, 188.47518256890592, 71.21052054245513, 6.02853248603247, 206.18837797380706, 129.86374627960012, 5.9590956906637516, 166.30864887852118, 44.1333791962793, 117.4650465990313, 5.652810276656792, 9.34049589588821, 53.64346824102534, 15.891803870959649, 4.765353727850878, 9.507786659692117, 4.798974254021975], \"loglift\": [30.0, 29.0, 28.0, 27.0, 26.0, 25.0, 24.0, 23.0, 22.0, 21.0, 20.0, 19.0, 18.0, 17.0, 16.0, 15.0, 14.0, 13.0, 12.0, 11.0, 10.0, 9.0, 8.0, 7.0, 6.0, 5.0, 4.0, 3.0, 2.0, 1.0, 0.3509, 0.3507, 0.3501, 0.3498, 0.3489, 0.3485, 0.3481, 0.3441, 0.343, 0.3423, 0.3411, 0.341, 0.3406, 0.3397, 0.3395, 0.3384, 0.3383, 0.337, 0.337, 0.3366, 0.3359, 0.3354, 0.3345, 0.3337, 0.3336, 0.3333, 0.3332, 0.3328, 0.3297, 0.3297, 0.3181, 0.3221, 0.3281, 0.3218, 0.3071, 0.2719, 0.3147, 0.2633, 0.2402, 0.195, 0.2272, 0.225, 0.1369, 0.2139, 0.2556, 0.1651, 0.2454, 0.1609, 0.2279, 0.0723, -0.0559, 0.1602, 0.0583, 0.1516, 0.1465, 0.2282, 0.0474, 0.0158, 0.1295, -0.3281, 0.0619, 1.7826, 1.777, 1.7706, 1.7685, 1.7576, 1.7502, 1.7385, 1.7375, 1.7375, 1.7296, 1.7296, 1.7289, 1.7257, 1.7157, 1.7147, 1.7133, 1.7079, 1.7014, 1.6997, 1.6988, 1.698, 1.6927, 1.6906, 1.6883, 1.6863, 1.6839, 1.6803, 1.6776, 1.6765, 1.6764, 1.6729, 1.6747, 1.6719, 1.5443, 1.6692, 1.4719, 1.4238, 1.2565, 1.0667, 1.3152, 1.4993, 0.6585, 1.3023, 1.5221, 1.42, 1.2504, 0.886, 0.3369, 1.5042, 0.8751, 0.5407, 0.6689, 1.2498, 0.8695, -0.0981, -0.1277, 0.0375, 0.0943, 0.1123, 0.1782, 0.475, -0.6585, -0.1973, 3.1245, 3.1243, 3.1229, 3.1228, 3.122, 3.1079, 3.1078, 3.1078, 3.1078, 3.1078, 3.1078, 3.1078, 3.1078, 3.1078, 3.1078, 3.1078, 3.1078, 3.1078, 3.1078, 3.1078, 3.1077, 3.1077, 3.1077, 3.1077, 3.1077, 3.1077, 3.1077, 3.1077, 3.1077, 3.0859, 2.9246, 2.8219, 2.8039, 2.9395, 2.8823, 2.8629, 2.4465, 1.9864, 1.083, 1.4555, 2.2445, 0.7537, 2.525, 1.9508, 0.9035, 2.2396, 1.7953, -0.8292, 0.0267, 0.7093, 2.075, 3.3008, 3.2249, 3.2245, 3.2243, 3.2236, 3.2236, 3.1938, 3.1938, 3.1937, 3.1937, 3.1937, 3.1937, 3.1937, 3.1937, 3.1937, 3.1937, 3.1937, 3.1937, 3.1937, 3.1937, 3.1937, 3.1937, 3.1937, 3.1937, 3.1937, 3.1937, 3.1937, 3.1937, 3.1937, 3.1937, 3.1937, 3.1937, 3.1937, 2.9524, 3.1937, 3.1937, 3.1937, 3.0044, 3.1936, 3.1936, 2.5461, 1.7764, 3.1937, -0.2497, 1.8737, 0.1213, 0.1634, -0.9731, 1.9686, 2.3997, 3.5533, 3.5533, 3.5358, 3.5357, 3.5116, 3.5097, 3.4759, 3.4359, 3.3978, 3.362, 3.3469, 3.3206, 3.3146, 3.3052, 3.1966, 3.1912, 3.1147, 3.0559, 3.01, 3.0099, 2.9262, 2.8806, 2.8381, 2.8017, 2.7698, 2.7105, 2.6659, 2.6486, 2.6339, 2.6042, 2.3589, 2.2373, 2.3412, 1.9985, 1.6736, 2.229, 2.1421, 2.2674, 0.6889, 0.6318, 0.7877, 0.6381, -1.2859, 0.6212, 1.3643, 4.5371, 4.498, 4.4269, 4.3778, 4.328, 4.3279, 4.3278, 4.3278, 4.3277, 4.3277, 4.2844, 3.9699, 3.9543, 3.72, 3.5859, 3.3408, 3.3336, 3.3262, 3.2323, 3.1836, 3.1482, 3.1334, 2.934, 2.9147, 2.8457, 2.7956, 2.7832, 2.6878, 2.6728, 2.5925, 2.4742, 2.3242, 2.1868, 2.2818, 2.4596, 2.1289, 2.4099, 0.5764, 1.6381, 2.0198, 4.3625, 4.3167, 4.2581, 4.1166, 4.0265, 3.9996, 3.9994, 3.9465, 3.9065, 3.6589, 3.6129, 3.511, 3.4746, 3.4171, 3.3707, 3.25, 3.1739, 3.1561, 3.1022, 3.0724, 3.0686, 2.9488, 2.9487, 2.941, 2.9376, 2.9376, 2.9282, 2.9204, 2.9052, 2.8251, 2.784, 2.5795, 2.4848, 1.9963, 2.3385, 0.9743, 1.7651, 2.0616, 1.6335, 1.286, 4.566, 4.5538, 4.4451, 4.44, 4.4221, 4.4219, 4.1954, 4.1836, 3.9753, 3.9037, 3.7051, 3.6374, 3.6272, 3.4996, 3.4202, 3.4074, 3.395, 3.2429, 3.2064, 3.2039, 3.1792, 3.1789, 3.1771, 3.177, 3.1668, 3.1276, 3.0563, 2.8723, 2.8717, 2.7437, 2.6953, 2.3771, 1.4275, 1.7477, 1.89, 1.949, 2.5039, 2.6143, 1.7972, 1.7442, 4.8588, 4.5461, 4.39, 3.9605, 3.9291, 3.9068, 3.9066, 3.7422, 3.5451, 3.4939, 3.4853, 3.4455, 3.3959, 3.3846, 3.3711, 3.3622, 3.3508, 3.3467, 3.3339, 3.3321, 3.3296, 3.3125, 3.2229, 3.1821, 3.1682, 3.144, 3.1431, 3.1121, 3.1083, 3.0562, 2.9019, 2.2991, 2.2742, 2.1035, 0.3408, 1.1957, 2.62, 2.8873, 5.1247, 4.7799, 4.3366, 3.828, 3.5615, 3.5597, 3.5288, 3.2567, 3.2333, 3.1925, 3.1541, 3.1318, 2.8235, 2.5922, 2.5493, 1.6166, 1.5282, 1.4848, 1.4788, 1.4654, 1.4393, 1.3621, 1.3494, 1.3492, 1.3444, 1.3279, 1.3258, 1.3076, 1.3074, 1.3068, 1.1535, 0.4206, -0.5928, -0.7124, 1.164, 1.1717, 1.1613, -0.0401, -1.9812, 0.4616, -0.8842, 0.7538, 0.0182, -0.7323, -0.1073, -0.3204, -4.0588, -3.1796, 3.8591, 3.5988, 3.4558, 3.2435, 3.2141, 3.2138, 3.029, 2.4037, 2.2925, 2.1566, 1.9356, 1.8339, 1.5653, 1.5188, 1.5153, 1.5083, 1.4767, 1.3997, 1.3987, 1.3876, 1.3858, 1.3823, 1.3654, 1.3628, 1.348, 1.3455, 1.3447, 1.343, 1.3427, 1.3416, 0.6037, 0.5473, 0.2936, 1.3179, 1.1017, 1.2035, 1.2023, 1.1813, 1.1806, 1.3223, 0.9637, 0.9626, 0.9613, 1.1736, 1.1719, -3.2809, -2.2356, -2.9282, -2.8419, -0.8311, -1.1058, -0.6829, -2.6245, -1.2424, -1.4548, 1.9222, 1.6553, 1.6106, 1.6068, 1.5969, 1.5904, 1.5678, 1.49, 1.4886, 1.4767, 1.4761, 1.4726, 1.4554, 1.4532, 1.4379, 1.4363, 1.4334, 1.4331, 1.4328, 1.4326, 1.4203, 1.414, 1.41, 1.4092, 1.4056, 1.4051, 1.4034, 1.3937, 1.393, 1.3905, 1.3904, 1.3903, 1.3748, 1.3792, 1.3074, 1.3109, 1.3313, 1.0471, 1.2711, 0.8481, 1.2606, 1.2805, 1.2852, 1.2607, 1.2803, 1.2601, 1.3285, -2.9722, -2.1451, -3.9853, -0.369, -2.473, -2.1822, -3.2121, 0.0848, -1.3353, -0.0249, -1.7124, 0.4846, -2.7604, -1.7871, 0.6817, -2.8516, -2.3894, 0.6921, -2.637, -1.3104, -2.2895, 0.7445, 0.2422, -1.5059, -0.2895, 0.9149, 0.2241, 0.9077], \"logprob\": [30.0, 29.0, 28.0, 27.0, 26.0, 25.0, 24.0, 23.0, 22.0, 21.0, 20.0, 19.0, 18.0, 17.0, 16.0, 15.0, 14.0, 13.0, 12.0, 11.0, 10.0, 9.0, 8.0, 7.0, 6.0, 5.0, 4.0, 3.0, 2.0, 1.0, -5.4515, -5.4668, -5.5076, -5.3952, -4.8131, -5.6435, -5.6756, -5.8232, -5.955, -5.9891, -5.9944, -6.0853, -5.1103, -6.1366, -6.1531, -6.1729, -5.3832, -6.2348, -6.2552, -3.9954, -6.2914, -6.2808, -6.3471, -6.1972, -6.3772, -5.5052, -6.3995, -6.4143, -6.5101, -6.5138, -4.5243, -5.0603, -5.8232, -5.6627, -5.201, -4.1991, -5.6359, -4.5375, -4.2609, -3.9124, -4.4587, -4.5555, -3.9385, -4.7297, -5.226, -4.4649, -5.1475, -4.6065, -5.1262, -4.162, -3.3845, -4.7562, -4.3392, -4.8944, -4.8872, -5.3327, -5.0886, -5.05, -5.249, -4.889, -5.273, -4.9145, -5.1932, -4.2391, -5.3563, -5.6165, -5.2923, -5.9236, -5.9366, -5.925, -6.0249, -6.0249, -6.0125, -6.0692, -6.1801, -6.2074, -6.1482, -6.1785, -6.2746, -6.3179, -6.3631, -6.3698, -5.5001, -6.3186, -4.1198, -6.4701, -6.479, -6.4761, -5.187, -6.5551, -6.548, -5.0282, -5.5913, -6.1051, -3.8972, -6.2657, -4.3641, -4.3513, -3.6768, -3.4941, -4.729, -5.525, -2.6701, -4.8724, -5.6428, -5.4446, -5.0603, -4.6481, -4.0606, -5.7126, -4.9179, -4.5251, -4.8063, -5.4142, -5.022, -4.2054, -4.2031, -4.5925, -4.6731, -4.9213, -4.9578, -5.1332, -4.8928, -5.1409, -4.8292, -4.8294, -4.8355, -4.8356, -4.8329, -4.9864, -4.9864, -4.9864, -4.9864, -4.9864, -4.9864, -4.9864, -4.9864, -4.9864, -4.9864, -4.9864, -4.9865, -4.9864, -4.9864, -4.9865, -4.9864, -4.9864, -4.9865, -4.9865, -4.9865, -4.9865, -4.9865, -4.9865, -4.9865, -5.1651, -3.7109, -3.7489, -3.9515, -4.5177, -4.547, -4.7531, -4.435, -4.1211, -3.8334, -4.2274, -4.6279, -4.0471, -4.7668, -4.5719, -4.3083, -4.7168, -4.6399, -4.1578, -4.4443, -4.7724, -4.9467, -4.1385, -4.9991, -4.9929, -4.9996, -5.0003, -5.0003, -5.2191, -5.219, -5.2191, -5.2191, -5.219, -5.2191, -5.2191, -5.2191, -5.2191, -5.2191, -5.2191, -5.2191, -5.2191, -5.2191, -5.219, -5.2191, -5.2191, -5.2191, -5.2191, -5.2191, -5.219, -5.2191, -5.2191, -5.2191, -5.2191, -5.2191, -5.219, -3.8668, -5.2191, -5.2191, -5.2191, -5.0376, -5.219, -5.2191, -5.0192, -4.7944, -5.2191, -4.6472, -4.9988, -4.7951, -5.1907, -5.2074, -5.2189, -5.219, -4.4564, -4.4564, -4.6121, -4.6121, -4.7966, -4.7631, -4.9645, -5.2369, -5.2619, -5.0856, -3.9632, -5.1085, -5.4458, -4.1969, -5.0339, -5.2662, -5.3172, -5.0536, -5.7506, -5.751, -5.7054, -5.3095, -5.8096, -4.7951, -5.6141, -5.109, -4.6091, -3.9008, -5.1046, -6.1328, -3.8566, -3.6073, -4.1816, -3.2134, -2.5607, -4.4065, -4.2931, -4.7498, -3.3865, -3.8693, -4.3483, -4.6968, -4.6145, -4.9397, -5.0096, -2.1561, -3.0882, -3.806, -4.0727, -4.3783, -4.3784, -4.3784, -4.3784, -4.3784, -4.3784, -3.5709, -4.5139, -4.0668, -4.3263, -5.2179, -4.9166, -4.3251, -4.5248, -4.5377, -4.4586, -5.6147, -4.2487, -5.2561, -4.5589, -4.9596, -5.9044, -5.9052, -5.7997, -5.8624, -6.0562, -4.9953, -4.2466, -3.8891, -4.4735, -5.0178, -4.4157, -4.9701, -3.8947, -4.8108, -4.9762, -4.285, -4.4642, -3.2788, -4.5382, -4.5144, -3.28, -4.4926, -4.6134, -5.0261, -4.5788, -4.8348, -4.4364, -4.7435, -4.6774, -4.0932, -4.8347, -5.7514, -4.2884, -5.7918, -5.1054, -4.5401, -5.7516, -5.7515, -4.5248, -5.7515, -5.7516, -5.7895, -5.7515, -5.7899, -4.7549, -4.8348, -3.9708, -3.8218, -4.0796, -4.8349, -3.8062, -4.7903, -5.1053, -5.0668, -5.0225, -3.833, -4.0102, -4.4931, -3.6635, -4.2503, -4.2503, -3.4573, -4.0713, -4.8279, -4.8955, -3.4683, -4.8662, -4.3111, -4.9685, -4.9013, -4.81, -5.5243, -4.1238, -5.5306, -5.4937, -5.4927, -5.5363, -5.5277, -5.5375, -5.5267, -5.5271, -5.597, -5.5455, -5.546, -5.6804, -4.9502, -4.5955, -3.6185, -4.5589, -4.7417, -4.8702, -5.3514, -5.4937, -5.4945, -5.498, -3.533, -4.1017, -4.5927, -4.6868, -5.3216, -4.6934, -4.6936, -4.8369, -5.349, -5.3217, -5.3326, -5.3371, -5.3641, -5.2873, -5.3653, -5.3829, -5.3828, -5.3861, -5.3872, -5.3888, -5.401, -5.4057, -5.2867, -5.3858, -4.3621, -5.6168, -5.6175, -5.3503, -5.3854, -5.3999, -4.8224, -4.3723, -4.9297, -4.9159, -4.2892, -4.9557, -5.3657, -5.3748, -3.5603, -4.4707, -4.4813, -5.0973, -5.0974, -5.2055, -5.2118, -5.0968, -5.2357, -5.2952, -4.4845, -5.3334, -5.436, -5.6171, -5.6702, -5.2479, -7.4544, -7.4534, -7.4538, -7.4539, -7.4548, -7.4536, -7.4538, -7.4546, -7.4548, -7.4547, -7.4552, -7.4553, -7.4532, -7.4532, -5.8967, -6.8116, -6.6851, -7.0438, -7.4319, -7.4345, -7.435, -7.3502, -7.3353, -7.4195, -7.3794, -7.432, -7.4177, -7.4036, -7.4185, -7.4193, -7.3874, -7.414, -5.0602, -5.0602, -5.0602, -5.0602, -5.0601, -5.0603, -4.4156, -5.0602, -5.0597, -5.0602, -5.0604, -7.4167, -7.4174, -7.4194, -7.4174, -7.417, -7.4174, -7.4182, -7.417, -7.4155, -7.418, -7.4169, -7.4172, -7.4182, -7.4172, -7.4174, -7.4159, -7.4174, -7.4181, -7.4184, -5.0608, -5.0609, -5.0604, -7.3973, -7.392, -7.4027, -7.4038, -7.4045, -7.4055, -7.4147, -7.4041, -7.4054, -7.4065, -7.4121, -7.4138, -7.3883, -7.3975, -7.3992, -7.4028, -7.403, -7.4037, -7.4047, -7.405, -7.4054, -7.4054, -7.3285, -7.3274, -7.3277, -7.3258, -7.3284, -7.3289, -7.3263, -7.3279, -7.3271, -7.3272, -7.3271, -7.3266, -7.3272, -7.3277, -7.3273, -7.3266, -7.3274, -7.3275, -7.3276, -7.3274, -7.3247, -7.3267, -7.327, -7.3272, -7.3279, -7.3277, -7.3272, -7.3274, -7.3279, -7.3277, -7.3249, -7.3274, -7.3256, -7.3269, -7.3248, -7.325, -7.3255, -7.3209, -7.3248, -7.3208, -7.3251, -7.3253, -7.3254, -7.3253, -7.3256, -7.3255, -7.3262, -7.3042, -7.3071, -7.3139, -7.3148, -7.3154, -7.3182, -7.3194, -7.3195, -7.3201, -7.3203, -7.3205, -7.3206, -7.3213, -7.3213, -7.3216, -7.3226, -7.3227, -7.3228, -7.323, -7.323, -7.3231, -7.3231, -7.3232, -7.3233, -7.3235, -7.3236, -7.3236, -7.3237]}, \"token.table\": {\"Topic\": [1, 2, 1, 8, 3, 4, 8, 1, 2, 6, 1, 3, 4, 5, 1, 2, 1, 5, 8, 1, 7, 1, 7, 1, 9, 1, 1, 1, 2, 5, 1, 2, 3, 1, 1, 2, 1, 8, 1, 1, 5, 1, 6, 6, 6, 2, 7, 1, 8, 1, 2, 1, 6, 6, 6, 2, 1, 2, 1, 2, 1, 7, 5, 9, 3, 3, 1, 8, 1, 8, 8, 1, 2, 5, 6, 1, 5, 6, 1, 4, 5, 5, 1, 7, 1, 2, 7, 2, 1, 4, 1, 9, 1, 2, 6, 7, 1, 5, 2, 1, 2, 3, 3, 3, 1, 2, 3, 8, 1, 2, 7, 1, 2, 1, 2, 1, 8, 1, 2, 10, 1, 2, 5, 1, 1, 7, 8, 8, 8, 4, 4, 3, 3, 3, 1, 3, 4, 3, 3, 1, 2, 4, 4, 4, 1, 1, 2, 7, 3, 3, 2, 1, 2, 3, 7, 8, 2, 8, 1, 1, 7, 1, 1, 9, 1, 1, 1, 8, 1, 8, 1, 2, 1, 2, 1, 2, 5, 8, 4, 6, 1, 3, 8, 3, 3, 1, 4, 1, 2, 1, 3, 4, 4, 1, 2, 6, 1, 6, 1, 2, 1, 2, 4, 5, 1, 2, 2, 2, 5, 2, 8, 1, 7, 1, 3, 4, 3, 1, 6, 1, 4, 7, 4, 1, 4, 7, 1, 5, 7, 1, 1, 2, 3, 1, 1, 1, 2, 7, 8, 1, 2, 1, 2, 5, 5, 1, 3, 1, 2, 3, 6, 6, 1, 2, 1, 1, 8, 1, 2, 4, 1, 2, 1, 2, 3, 7, 1, 8, 4, 4, 1, 3, 1, 2, 7, 11, 1, 1, 2, 1, 1, 2, 4, 7, 4, 4, 1, 2, 3, 1, 2, 3, 3, 3, 1, 3, 9, 1, 5, 2, 3, 5, 1, 1, 9, 1, 9, 1, 1, 2, 1, 8, 8, 1, 1, 1, 1, 1, 2, 9, 2, 1, 1, 2, 2, 1, 6, 1, 1, 9, 1, 7, 8, 1, 7, 1, 2, 3, 5, 1, 5, 5, 5, 1, 2, 1, 2, 8, 1, 2, 2, 1, 2, 5, 1, 2, 2, 1, 2, 1, 1, 3, 4, 3, 3, 1, 2, 4, 7, 1, 2, 6, 1, 1, 5, 1, 8, 3, 3, 3, 4, 1, 1, 2, 7, 1, 4, 1, 2, 4, 7, 5, 1, 1, 2, 3, 5, 7, 1, 9, 1, 1, 1, 6, 1, 3, 7, 1, 2, 2, 1, 5, 5, 1, 2, 1, 1, 1, 2, 4, 1, 3, 4, 5, 1, 3, 5, 5, 4, 4, 5, 7, 1, 2, 3, 4, 5, 1, 3, 5, 1, 2, 1, 8, 2, 1, 2, 2, 1, 2, 4, 1, 1, 1, 7, 9, 1, 2, 1, 2, 3, 1, 7, 1, 5, 9, 1, 2, 3, 4, 1, 1, 5, 6, 1, 2, 8, 1, 2, 7, 7, 2, 1, 5, 7, 4, 4, 1, 5, 1, 1, 4, 1, 4, 4, 1, 5, 1, 6, 1, 1, 2, 7, 1, 2, 1, 2, 7, 5, 10, 1, 2, 3, 1, 3, 6, 1, 3, 1, 6, 1, 5, 4, 4, 1, 7, 1, 10, 10, 1, 7, 8, 1, 1, 1, 2, 5, 1, 1, 7, 8, 5, 5, 1, 1, 7, 1, 6, 8, 1, 2, 3, 1, 2, 1, 2, 4, 4, 1, 2, 6, 7, 1, 2, 6, 1, 7, 1, 5, 6, 1, 2, 3, 7, 1, 5, 1, 1, 7, 7, 1, 2, 7, 4, 4, 4, 1, 2, 3, 4, 8, 1, 8, 4, 4, 4, 1, 2, 1, 3, 7, 1, 1, 5, 6, 1, 2, 1, 1, 8, 1, 1, 2, 3, 4, 1, 2, 1, 1, 2, 3, 5, 1, 7, 1, 4, 1, 2, 7, 2, 1, 3, 7, 8, 1, 2, 4, 1, 2, 4, 1, 2, 1, 2, 4, 1, 2, 2, 6, 4, 4, 1, 8, 1, 2, 3, 2, 2, 2, 2, 3, 3, 3, 1, 1, 2, 3, 4, 5, 1, 5, 1, 2, 5, 1, 2, 5, 2, 5, 1, 5, 1, 3, 1, 3, 2, 1, 5, 1, 2, 3, 1, 2, 6, 1, 1, 4, 4, 4, 4, 3, 4, 6, 3, 3, 3, 3, 3, 3, 1, 2, 3, 4, 7, 1, 1, 5, 1, 9, 1, 7, 1, 1, 1, 2, 6, 2, 5, 6, 1, 7, 4, 4, 4, 1, 1, 2, 5, 2, 4, 1, 2, 4, 4, 1, 7, 2, 1, 2, 4, 6, 1, 2, 6, 1, 8, 2, 2, 1, 2, 3, 5, 4, 5, 1, 2, 6, 2, 9, 4, 1, 8, 1, 2, 4, 1, 2, 6, 6, 6, 1, 2, 6, 1, 7, 1, 2, 1, 2, 4, 5, 1, 2, 2, 2, 2, 2, 4, 5, 4, 4, 1, 2, 4, 1, 2, 3, 5, 1, 8, 1, 2, 5, 5, 2], \"Freq\": [0.20984801068503028, 0.6295440320550908, 0.3691281508382679, 0.3691281508382679, 0.41097020348170543, 0.20548510174085272, 0.20548510174085272, 0.6378773534388029, 0.27337600861662986, 0.9397838020806478, 0.37815661458626953, 0.43217898809859373, 0.10804474702464843, 0.054022373512324216, 0.07935405498481664, 0.8728946048329831, 0.3454818072784283, 0.3454818072784283, 0.3454818072784283, 0.7604421978701912, 0.21726919939148318, 0.6274127194800412, 0.3137063597400206, 0.9631721124046475, 0.026031678713639123, 0.7826293897228308, 0.8293892438308195, 0.6829259453408624, 0.19512169866881782, 0.09756084933440891, 0.9652642393902829, 0.012065802992378537, 0.024131605984757075, 0.9708484584066183, 0.8912475802654659, 0.9725627772840806, 0.41457868172474344, 0.41457868172474344, 0.8153469230109329, 0.25466064840822433, 0.5093212968164487, 0.3377477477784264, 0.5066216216676396, 0.6700576562229591, 0.6699771474418316, 0.5451643941238553, 0.3634429294159035, 0.857261426221592, 0.8449867076568637, 0.7368177952140725, 0.23025556100439767, 0.36937189672168896, 0.36937189672168896, 0.6700276155285927, 0.6700768753893355, 0.9646684949881877, 0.9583492352007018, 0.042593299342253414, 0.7165081094060407, 0.23883603646868024, 0.6587059499848851, 0.32935297499244254, 0.24463692146996696, 0.7339107644099009, 0.9083912330120983, 0.9083465640392676, 0.925785644616611, 0.04208116566439141, 0.3504718333088232, 0.584119722181372, 0.7391657930062835, 0.5014609522836676, 0.2700174358450518, 0.07714783881287193, 0.07714783881287193, 0.5254424360210546, 0.13136060900526364, 0.2627212180105273, 0.16587122260958742, 0.08293561130479371, 0.7464205017431433, 0.7704500390736765, 0.616850024434687, 0.41123334962312463, 0.2235893020620328, 0.4471786041240656, 0.2235893020620328, 0.8846473511233249, 0.9710200484890211, 0.019039608793902374, 0.6025927565266479, 0.30129637826332395, 0.9794389390587062, 0.5647225115445792, 0.2823612557722896, 0.2823612557722896, 0.7470579425818921, 0.24901931419396403, 0.706303069817375, 0.7495359118921666, 0.06517703581671014, 0.16294258954177535, 0.9083673446119936, 0.9082988354078968, 0.35103651312119216, 0.17551825656059608, 0.17551825656059608, 0.17551825656059608, 0.38760229798788354, 0.38760229798788354, 0.19380114899394177, 0.5285299836429299, 0.26426499182146496, 0.3996738725840989, 0.5861883464566784, 0.6217410474725553, 0.31087052373627766, 0.23037062669720165, 0.691111880091605, 0.11518531334860083, 0.07172389063755723, 0.7172389063755723, 0.14344778127511446, 0.6800799770888662, 0.5063756390599826, 0.07233937700856895, 0.36169688504284475, 0.6476444879944069, 0.6477109668697878, 0.7494494913719407, 0.7494723018382633, 0.9471538966478336, 0.9082736995570523, 0.9083025662986584, 0.8610262955618776, 0.09063434690125027, 0.02265858672531257, 0.9083459010716092, 0.9083492098309639, 0.8796482756116399, 0.08210050572375306, 0.0351859310244656, 0.7494614461993608, 0.7494886091772908, 0.9661705366646676, 0.20970589696238004, 0.20970589696238004, 0.4194117939247601, 0.9515964381286538, 0.9516662484103093, 0.6391104164293727, 0.8101859600579221, 0.13790399320134844, 0.008618999575084278, 0.008618999575084278, 0.03447599830033711, 0.21332670006533963, 0.6399801001960189, 0.9093217520345556, 0.6777991796950439, 0.33889958984752194, 0.9898292895033485, 0.9195185208193137, 0.04378659622949113, 0.6886035493185514, 0.9593163661995716, 0.8118912659397328, 0.11598446656281897, 0.54715873241118, 0.27357936620559, 0.863590221536235, 0.13226156546050447, 0.48895827482449405, 0.32597218321632937, 0.2280230389550051, 0.2280230389550051, 0.2280230389550051, 0.2280230389550051, 0.807613876267025, 0.2692046254223417, 0.40714606385584734, 0.48857527662701683, 0.08142921277116948, 0.908311414301799, 0.9083253525779874, 0.1724278598584036, 0.6897114394336143, 0.6752223104120835, 0.3177516754880393, 0.37478862020181214, 0.37478862020181214, 0.21416492582960694, 0.7494510391795505, 0.48464371165523396, 0.4240632476983297, 0.060580463956904244, 0.5876619902522136, 0.23506479610088543, 0.6524576384881816, 0.21748587949606055, 0.79678040187296, 0.14368171181315673, 0.006530986900598033, 0.05224789520478426, 0.3741864241406705, 0.6080529392285895, 0.885466006031955, 0.3538201085504572, 0.3538201085504572, 0.6690790668459107, 0.33453953342295534, 0.8335114522957979, 0.4201337627346245, 0.8927703405195241, 0.0799495827330917, 0.013324930455515284, 0.8500302154023169, 0.2682124310385776, 0.5364248620771552, 0.6603234638694465, 0.22010782128981551, 0.07336927376327183, 0.7495231800582293, 0.6880513530551637, 0.4170739959557795, 0.4170739959557795, 0.5398793805613323, 0.17995979352044408, 0.17995979352044408, 0.9555989148065638, 0.9038014459678968, 0.006744786910208186, 0.08093744292249823, 0.9881941940977821, 0.9880047233684784, 0.073756267447828, 0.8850752093739359, 0.636403748156367, 0.3182018740781835, 0.6714228539907972, 0.3357114269953986, 0.8798205903471482, 0.07211644183173346, 0.04326986509904008, 0.6480056827889938, 0.22524640661611006, 0.6757392198483302, 0.9117875694423592, 0.02424966940006274, 0.03879947104010039, 0.019399735520050195, 0.8347557177705732, 0.7164820377037471, 0.23882734590124904, 0.9093508950007958, 0.9298100697253462, 0.07748417247711217, 0.8087512221766184, 0.17877658595483145, 0.008513170759753878, 0.9694434260123932, 0.022032805136645302, 0.7758546113433566, 0.03879273056716784, 0.03879273056716784, 0.1163781917015035, 0.5280612648204667, 0.26403063241023333, 0.8272989608102636, 0.7494671954515082, 0.36161018350645796, 0.36161018350645796, 0.5692083530791398, 0.0948680588465233, 0.1897361176930466, 0.0948680588465233, 0.9530371982253915, 0.24929349424764613, 0.7478804827429384, 0.9700796547207294, 0.2156058525178943, 0.4312117050357886, 0.2156058525178943, 0.07186861750596477, 0.7494279839257149, 0.7494194516431845, 0.9440505351631643, 0.013681891813958902, 0.027363783627917804, 0.6726733537274953, 0.02491382791583316, 0.2989659349899979, 0.9083090995074425, 0.9083581077602407, 0.29501728787351045, 0.29501728787351045, 0.29501728787351045, 0.6089640548945134, 0.3044820274472567, 0.8794086374373622, 0.7181019086601766, 0.25344773246829766, 0.9916622399282736, 0.441704150833079, 0.441704150833079, 0.8784295154888646, 0.12548993078412352, 0.8909395223592389, 0.9562619861487832, 0.042188028800681614, 0.18337905721358166, 0.7335162288543267, 0.8718104442015769, 0.8845157992737588, 0.7830823382692691, 0.97013468051015, 0.90004737461562, 0.8187546461550145, 0.17057388461562803, 0.005685796153854267, 0.8936176779590022, 0.9883315336508937, 0.28484183977343747, 0.7026098714411457, 0.9519267605503589, 0.6799731768407532, 0.77821207095102, 0.9851851593385152, 0.8949251608684183, 0.07457709673903486, 0.5924955577773995, 0.19749851925913314, 0.19749851925913314, 0.6626686633014105, 0.33133433165070525, 0.651108660611038, 0.06104143693228481, 0.10173572822047469, 0.1932978836189019, 0.6201432436533076, 0.3488305745549855, 0.9584201681524668, 0.9583761392522671, 0.31872594849290087, 0.6905728884012852, 0.6446178413933843, 0.7367301122007579, 0.18418252805018948, 0.8154002102874561, 0.17612644542209052, 0.9547441020823058, 0.4140859901091385, 0.13802866336971284, 0.4140859901091385, 0.4273968955913979, 0.5800386440168971, 0.8277092639123154, 0.09021604887949841, 0.857052464355235, 0.6865750311109923, 0.09608442415515117, 0.7686753932412094, 0.09608442415515117, 0.9083568293905234, 0.9083442467907974, 0.8462176164336194, 0.14834093674533566, 0.0033713849260303564, 0.0033713849260303564, 0.39216456382091536, 0.39216456382091536, 0.09804114095522884, 0.6965551658138578, 0.9090345316765115, 0.7760861649468513, 0.6355460810015172, 0.3177730405007586, 0.9482220433263536, 0.908292059691849, 0.9083200757044347, 0.8273449445691093, 0.7875388512842635, 0.5821083289098106, 0.3820085908470632, 0.01819088527843158, 0.5352296650674544, 0.42818373205396354, 0.8724011720311166, 0.07930919745737423, 0.01982729936434356, 0.026436399152458077, 0.6396102784281043, 0.710742085964743, 0.8846042644801434, 0.054975406267127554, 0.00999552841220501, 0.04997764206102505, 0.004997764206102505, 0.9302879109530334, 0.06201919406353556, 0.690547585265711, 0.890919819322213, 0.6582080048262475, 0.32910400241312376, 0.9138053768719127, 0.030460179229063754, 0.030460179229063754, 0.39118570938583397, 0.5650460246684268, 0.9433950994984083, 0.7217002215288224, 0.2775770082803163, 0.707341684371362, 0.881162818200169, 0.11014535227502112, 0.8236956458057573, 0.956542383397115, 0.830244851386093, 0.08302448513860931, 0.08302448513860931, 0.8177065826951667, 0.11357035870766205, 0.03785678623588735, 0.02271407174153241, 0.5186274463314652, 0.2420261416213504, 0.20745097853258607, 0.900065047994721, 0.8273126257675557, 0.7494414882103749, 0.28939165503220615, 0.5787833100644123, 0.657648153932527, 0.3141237064665952, 0.017021481631194813, 0.0015474074210177103, 0.007737037105088552, 0.3188767749109, 0.3188767749109, 0.3188767749109, 0.5939564395675686, 0.2969782197837843, 0.7580073465275374, 0.25266911550917914, 0.8343453695504955, 0.8390534838756847, 0.9053666785588704, 0.9053550549478269, 0.3037662568853653, 0.6790069271555224, 0.017868603346197956, 0.9767095192210326, 0.9776183693353768, 0.7235054921401475, 0.1033579274485925, 0.1033579274485925, 0.7492756529932754, 0.24241271126253025, 0.5898004912765655, 0.3932003275177104, 0.014042868839918229, 0.5173532268614205, 0.25867661343071024, 0.3158576059954904, 0.3158576059954904, 0.3158576059954904, 0.5620627456045106, 0.38139972023163216, 0.020073669485875377, 0.020073669485875377, 0.9937933199370238, 0.35455089303110277, 0.35455089303110277, 0.35455089303110277, 0.3307518689585801, 0.3307518689585801, 0.3307518689585801, 0.545906969584513, 0.3899335497032235, 0.0779867099406447, 0.6318247430712887, 0.9729166371872138, 0.9918539655460725, 0.20809797499198499, 0.7283429124719475, 0.7494901593212911, 0.7494350844531545, 0.8809572603386647, 0.06292551859561892, 0.972767496801769, 0.9820187123011236, 0.012921298846067415, 0.9806883586052362, 0.7494695377553453, 0.7494402871016076, 0.9872312808549468, 0.009678738047597519, 0.6803491312892868, 0.13606982625785735, 0.9090988888877208, 0.7032832696787611, 0.28131330787150444, 0.008791040870984514, 0.8908523625144217, 0.9259462599963921, 0.9887232675085817, 0.4022078628897782, 0.5630910080456896, 0.3279732483481816, 0.6559464966963632, 0.43510532060867396, 0.2486316117763851, 0.3107895147204814, 0.2381156743769077, 0.6667238882553416, 0.09524626975076309, 0.9823458772465767, 0.016936997883561667, 0.7780984559637235, 0.09726230699546544, 0.3689190061145723, 0.5533785091718585, 0.749440396235632, 0.749427913332891, 0.6587051132330591, 0.32935255661652957, 0.3746045557294624, 0.3746045557294624, 0.57744521981771, 0.3237289426110485, 0.3237289426110485, 0.3237289426110485, 0.9092764573506843, 0.6002676649520542, 0.890049032998262, 0.07315471504095304, 0.024384905013651013, 0.963643505811164, 0.8285152609211182, 0.059179661494365585, 0.11835932298873117, 0.8346720642659822, 0.8346730141123379, 0.8309874143320324, 0.9405109019059754, 0.09405109019059754, 0.14305740411516785, 0.7152870205758393, 0.14305740411516785, 0.19907984403045187, 0.5972395320913556, 0.19907984403045187, 0.8911059411055424, 0.8699015826879712, 0.9079865057610641, 0.07362052749414033, 0.749439420455083, 0.936774663266112, 0.6517829919404987, 0.16898077568827743, 0.09656044325044424, 0.07242033243783319, 0.1731777344285868, 0.3463554688571736, 0.3463554688571736, 0.40425090427151145, 0.40425090427151145, 0.19994814329069538, 0.39989628658139076, 0.19994814329069538, 0.8718728759916394, 0.0962066621783878, 0.02405166554459695, 0.006012916386149238, 0.31093410327739873, 0.6218682065547975, 0.7897512754877374, 0.2704332972332293, 0.5408665944664586, 0.7220049234669608, 0.09672893590420215, 0.5803736154252129, 0.29018680771260646, 0.7494196676985807, 0.7494162898774795, 0.7494160000964339, 0.10152852171436094, 0.05076426085718047, 0.10152852171436094, 0.6599353911433461, 0.05076426085718047, 0.7532041434512582, 0.2510680478170861, 0.8273110399168411, 0.7494734589138227, 0.7494812622165691, 0.8807727970587593, 0.1467954661764599, 0.6775529525171397, 0.11292549208618993, 0.11292549208618993, 0.8077762844646307, 0.4883409147161799, 0.19533636588647196, 0.19533636588647196, 0.46035584857912737, 0.5370818233423152, 0.6934951720480192, 0.6761249157272567, 0.3380624578636284, 0.6780807617167367, 0.9749563661221029, 0.008441180659065826, 0.004220590329532913, 0.012661770988598739, 0.8564855751953907, 0.10706069689942384, 0.9465925479959644, 0.15096012509153975, 0.3019202501830795, 0.26418021891019455, 0.26418021891019455, 0.2839583346103275, 0.567916669220655, 0.27521906579813077, 0.5504381315962615, 0.15109976519126764, 0.7554988259563381, 0.07554988259563382, 0.6719766461648853, 0.790507682477268, 0.03040414163374108, 0.12161656653496432, 0.06080828326748216, 0.09233891111084845, 0.8864535466641451, 0.01846778222216969, 0.022593597040717596, 0.948931075710139, 0.022593597040717596, 0.10623777647811375, 0.84990221182491, 0.21761119630148096, 0.7680395163581681, 0.012800658605969469, 0.9845733090367469, 0.833684392902778, 0.6415961754693158, 0.21386539182310524, 0.7494793599844178, 0.7494642207692181, 0.7531988526755062, 0.25106628422516875, 0.3927193035860496, 0.5698280091248563, 0.03080151400674899, 0.9883906763716207, 0.9446086035054576, 0.8413124584036267, 0.9177230126928891, 0.9083548426622021, 0.9083404907703765, 0.9083352474945063, 0.9514949069590086, 0.7464242287226547, 0.08421196426614566, 0.0153112662302083, 0.011483449672656226, 0.13780139607187472, 0.2539364070316467, 0.7618092210949402, 0.48047907056262856, 0.16015969018754286, 0.40039922546885715, 0.2082047393422522, 0.2082047393422522, 0.6246142180267567, 0.3537450821119284, 0.3537450821119284, 0.2009754647007474, 0.7034141264526159, 0.5822459701772251, 0.34934758210633504, 0.2803034071619727, 0.7474757524319272, 0.7070480180301711, 0.5523935001912419, 0.4419148001529935, 0.7932188899458908, 0.18027702044224791, 0.02403693605896639, 0.11560355469232395, 0.5780177734616198, 0.2312071093846479, 0.9786623108496698, 0.9892159912641831, 0.9437503652455539, 0.7494679520727271, 0.7494016207174825, 0.7494692577259727, 0.673144819223119, 0.19798377035974088, 0.11879026221584453, 0.9471666742969965, 0.9083039939388945, 0.9083327370412022, 0.9083209475078178, 0.9083104290818055, 0.9083229169927725, 0.7838986441630543, 0.1599793151353172, 0.03199586302706344, 0.01599793151353172, 0.01599793151353172, 0.6325840592866729, 0.3160012216349283, 0.3160012216349283, 0.6026253405317299, 0.30131267026586495, 0.9014692892586117, 0.04507346446293058, 0.9555168679512099, 0.97316812366521, 0.2848764399226458, 0.2848764399226458, 0.2848764399226458, 0.4854202538070357, 0.4854202538070357, 0.8744260832275192, 0.5834689345449839, 0.29173446727249197, 0.7493818675657019, 0.7494214178639265, 0.7494209180373005, 0.9946800581430704, 0.9909595305165991, 0.5091977578286219, 0.3818983183714664, 0.6222462914917444, 0.3111231457458722, 0.3387480724386018, 0.11291602414620058, 0.3387480724386018, 0.7494598848266292, 0.6660619498777741, 0.33303097493888706, 0.9666114866821199, 0.7390454204058113, 0.22982510024814864, 0.02703824708801749, 0.004506374514669582, 0.8412773517851561, 0.10515966897314451, 0.07010644598209634, 0.664277279065353, 0.3321386395326765, 0.9427013061059677, 0.9684841561419831, 0.7363824337647992, 0.1840956084411998, 0.023011951055149974, 0.04602390211029995, 0.3737685708254372, 0.3737685708254372, 0.33294211465305745, 0.33294211465305745, 0.33294211465305745, 0.31601589373920663, 0.31601589373920663, 0.8218840059006346, 0.3676587906210632, 0.3676587906210632, 0.895437506671811, 0.0790091917651598, 0.026336397255053264, 0.3564804787030194, 0.3564804787030194, 0.2673603590272645, 0.6700997008301623, 0.6699335002465154, 0.5336225590388235, 0.26681127951941175, 0.08893709317313725, 0.6661432612951655, 0.3330716306475828, 0.6000688025194494, 0.3000344012597247, 0.4987394028157203, 0.47221071117658625, 0.010611476655653623, 0.015917214983480435, 0.27088522016326744, 0.5417704403265349, 0.9437398679377066, 0.8938406684551545, 0.8636908488448772, 0.966560935486737, 0.2612192585315609, 0.5224385170631218, 0.749461139132079, 0.7494327717946428, 0.710717984972799, 0.2570682073305869, 0.015121659254740405, 0.7261756566833945, 0.19804790636819847, 0.018861705368399855, 0.05658511610519956, 0.6755990149549319, 0.33779950747746595, 0.5568954796046833, 0.18563182653489443, 0.24750910204652593, 0.8687617641925794, 0.9294614534330716], \"Term\": [\"10 years\", \"10 years\", \"12\", \"12\", \"13\", \"13\", \"13\", \"accept\", \"accept\", \"allah\", \"amen\", \"amen\", \"amen\", \"amen\", \"america\", \"america\", \"american\", \"american\", \"american\", \"anger\", \"anger\", \"angry\", \"angry\", \"apologize\", \"apologize\", \"apologize family\", \"apology\", \"appreciate\", \"appreciate\", \"appreciate\", \"ask\", \"ask\", \"ask\", \"ask forgiveness\", \"ask yall\", \"attorney\", \"august\", \"august\", \"aunt\", \"barbara\", \"barbara\", \"bear\", \"bear\", \"bear witness\", \"bear witness god\", \"beat\", \"beat\", \"began\", \"beginning\", \"believe\", \"believe\", \"believes\", \"believes\", \"belong\", \"belong unto\", \"black\", \"bless\", \"bless\", \"bless yall\", \"bless yall\", \"blood\", \"blood\", \"born\", \"born\", \"bread\", \"bread forgive\", \"bring\", \"bring\", \"brings\", \"brings\", \"brings closure\", \"brothers\", \"brothers\", \"brothers\", \"brothers\", \"brothers sisters\", \"brothers sisters\", \"brothers sisters\", \"bye\", \"bye\", \"bye\", \"bye bye\", \"capital\", \"capital\", \"carry\", \"carry\", \"carry\", \"cases\", \"caused\", \"caused\", \"caused like\", \"caused like\", \"change\", \"charge\", \"charge\", \"charge\", \"christ\", \"christ\", \"church\", \"come\", \"come\", \"come\", \"come thy\", \"come thy earth\", \"commit\", \"commit\", \"commit\", \"commit\", \"committed\", \"committed\", \"committed\", \"community\", \"community\", \"continue\", \"continue\", \"convicted\", \"convicted\", \"country\", \"country\", \"country\", \"court\", \"court\", \"court\", \"courts\", \"crime\", \"crime\", \"crime\", \"crime did\", \"crime did commit\", \"cup\", \"cup runneth\", \"daily\", \"daily bread\", \"daily bread forgive\", \"day\", \"day\", \"day\", \"day daily\", \"day daily bread\", \"death\", \"death\", \"death\", \"death fear\", \"death fear evil\", \"death row\", \"defense\", \"defense\", \"defense\", \"deliver\", \"deliver evil\", \"demand\", \"did\", \"did\", \"did\", \"did\", \"did\", \"did commit\", \"did commit\", \"did dont\", \"did wrong\", \"did wrong\", \"didnt\", \"die\", \"die\", \"disappointed\", \"does\", \"doesnt\", \"doesnt\", \"dog\", \"dog\", \"dont\", \"dont\", \"dont say\", \"dont say\", \"drug\", \"drug\", \"drug\", \"drug\", \"dwell\", \"dwell\", \"earth\", \"earth\", \"earth\", \"earth heaven\", \"earth heaven day\", \"enemies\", \"enemies\", \"everybody\", \"everybody\", \"evil\", \"evil\", \"evil\", \"evil thou\", \"execution\", \"execution\", \"execution\", \"extend\", \"extend\", \"fact\", \"fact\", \"family\", \"family\", \"family\", \"family\", \"family love\", \"family love\", \"family love yall\", \"family support\", \"family support\", \"family want\", \"family want\", \"family wish\", \"familys\", \"father\", \"father\", \"father\", \"father art\", \"fathers\", \"fathers\", \"fear\", \"fear\", \"fear\", \"fear evil thou\", \"feel like\", \"filled\", \"filled\", \"final\", \"final\", \"final\", \"forgave\", \"forgive\", \"forgive\", \"forgive\", \"forgiven\", \"forgiveness\", \"forward\", \"forward\", \"fought\", \"fought\", \"free\", \"free\", \"friends\", \"friends\", \"friends\", \"friendship thank\", \"glory\", \"glory\", \"god\", \"god\", \"god\", \"god\", \"god allah\", \"god bless yall\", \"god bless yall\", \"god thank\", \"gods\", \"gods\", \"going\", \"going\", \"going\", \"good\", \"good\", \"goodbye\", \"goodbye\", \"goodbye\", \"goodbye\", \"gotta\", \"gotta\", \"green\", \"green pastures\", \"guess thats\", \"guess thats\", \"guilty\", \"guilty\", \"guilty\", \"guilty\", \"guys\", \"happening\", \"happening\", \"hate\", \"head\", \"head\", \"head\", \"head\", \"head oil\", \"head oil cup\", \"heart\", \"heart\", \"heart\", \"heaven\", \"heaven\", \"heaven\", \"heaven day\", \"heaven day daily\", \"hello\", \"hello\", \"hello\", \"hero\", \"hero\", \"high\", \"holy\", \"holy\", \"home\", \"home jesus\", \"home jesus\", \"home lord\", \"home lord\", \"home ready\", \"hope\", \"hope\", \"hope brings\", \"hope brings\", \"hope brings closure\", \"hope day\", \"hope yall\", \"hurt\", \"hurt caused\", \"im\", \"im\", \"im\", \"im innocent\", \"im sorry\", \"innocent\", \"innocent\", \"innocent man\", \"irene wilcox\", \"islam\", \"ive\", \"jack\", \"jack\", \"james\", \"james\", \"james\", \"jenny\", \"jenny\", \"jesus\", \"jesus\", \"jesus\", \"jesus\", \"jesus christ\", \"jesus christ\", \"jesus receive\", \"jesus receive spirit\", \"john\", \"john\", \"jones\", \"jury\", \"jury\", \"just\", \"just\", \"just want tell\", \"just wanted\", \"just wanted\", \"just wanted\", \"justice\", \"justice\", \"kept\", \"kids\", \"kids\", \"kim\", \"kingdom\", \"kingdom\", \"kingdom\", \"kingdom come\", \"kingdom come thy\", \"know\", \"know\", \"know\", \"know\", \"know im\", \"know im\", \"know im\", \"know wrong\", \"lady\", \"laura\", \"lawyer\", \"lawyer\", \"lead\", \"lead temptation\", \"lead temptation deliver\", \"leadeth\", \"leaving\", \"let\", \"let\", \"let\", \"lie\", \"lie\", \"life\", \"life\", \"life\", \"life\", \"life death\", \"lift\", \"like\", \"like\", \"like\", \"like\", \"like\", \"like apologize\", \"like apologize\", \"like apologize family\", \"like love\", \"like praise\", \"like praise\", \"like say\", \"like say\", \"like say\", \"like tell\", \"like tell\", \"like tell family\", \"like thank\", \"like thank\", \"like thank family\", \"live\", \"live\", \"living\", \"long\", \"looking\", \"looking\", \"looking\", \"lord\", \"lord\", \"lord\", \"lord\", \"lord jesus\", \"lord jesus\", \"lord jesus\", \"lord jesus receive\", \"lord shepherd\", \"lord shepherd shall\", \"lots\", \"lots\", \"love\", \"love\", \"love\", \"love\", \"love\", \"love children\", \"love children\", \"love children\", \"love daughter\", \"love daughter\", \"love family friends\", \"love family friends\", \"love ill\", \"love sorry\", \"love stay\", \"love stay strong\", \"love yall\", \"love yall\", \"love yall\", \"loved\", \"loved ones\", \"mad\", \"mad\", \"mad\", \"make\", \"make\", \"man\", \"man\", \"man\", \"minutes\", \"minutes\", \"miracle\", \"miracle\", \"miracle\", \"mom\", \"mom\", \"mom\", \"mom\", \"mother\", \"mother father\", \"mother father\", \"mother father\", \"mourn\", \"mourn\", \"mourn\", \"murder\", \"murder\", \"murder\", \"murderer\", \"murdering\", \"need\", \"officer\", \"officer\", \"oil\", \"oil cup runneth\", \"okay\", \"okay\", \"ones\", \"pain\", \"pain\", \"past\", \"pastures\", \"paths\", \"peace\", \"peace\", \"peace god\", \"peace god\", \"peace sorry\", \"people\", \"people\", \"people\", \"people god\", \"people know\", \"place\", \"police\", \"police\", \"polunsky\", \"polunsky\", \"power\", \"power\", \"power\", \"praise\", \"praise\", \"praise\", \"pray\", \"pray\", \"prayer\", \"prayer\", \"prayers\", \"prayers\", \"preparest\", \"presence enemies\", \"problems\", \"problems\", \"proceed\", \"proceed\", \"proceed warden\", \"profanity\", \"profanity\", \"profanity\", \"punishment\", \"randy\", \"ready\", \"ready\", \"ready\", \"ready warden\", \"real\", \"real\", \"real\", \"receive\", \"receive spirit\", \"relief\", \"rest\", \"rest\", \"return\", \"return\", \"return\", \"reverend\", \"reverend\", \"reverend\", \"right wrong\", \"robert\", \"row\", \"row\", \"runneth\", \"runneth surely goodness\", \"said\", \"said\", \"said\", \"said\", \"said love\", \"said love\", \"said love\", \"saint\", \"saint\", \"salvation\", \"salvation\", \"salvation\", \"say\", \"say\", \"say\", \"say\", \"say warden\", \"say warden\", \"says\", \"self\", \"self\", \"self defense\", \"sentence\", \"sentence\", \"sentence\", \"shadow\", \"shadow death\", \"shadow death fear\", \"shall\", \"shall\", \"shall\", \"shall\", \"shall\", \"shed\", \"shed\", \"shepherd\", \"shepherd shall\", \"shepherd shall want\", \"showing\", \"showing\", \"sin\", \"sin\", \"sin\", \"singing\", \"sisters\", \"sisters\", \"sisters\", \"society\", \"society\", \"solace\", \"solve\", \"solve\", \"son life\", \"sorry\", \"sorry\", \"sorry\", \"sorry\", \"sorry love\", \"sorry love\", \"sorry sorry\", \"spirit\", \"spirit\", \"spirit\", \"spirit\", \"spoke\", \"spoke\", \"staff\", \"staff\", \"state\", \"state\", \"state\", \"state texas\", \"statement\", \"statement\", \"statement\", \"statement\", \"stay\", \"stay\", \"stay\", \"stay strong\", \"stay strong\", \"stay strong\", \"stop\", \"stop\", \"strong\", \"strong\", \"strong\", \"suffering\", \"supported years\", \"supreme\", \"supreme\", \"table presence\", \"table presence enemies\", \"tears\", \"tears\", \"tell\", \"tell\", \"tell\", \"tell family\", \"tell family love\", \"tell love\", \"tell mom\", \"temptation\", \"temptation deliver\", \"temptation deliver evil\", \"texas\", \"thank\", \"thank\", \"thank\", \"thank\", \"thank\", \"thank everybody\", \"thank everybody\", \"thank family\", \"thank family\", \"thank family\", \"thank family friends\", \"thank family friends\", \"thank family friends\", \"thank family support\", \"thank family support\", \"thank jesus\", \"thank jesus\", \"thank lord\", \"thank lord\", \"thank lord jesus\", \"thank lord jesus\", \"thank tell\", \"thank warden\", \"thank warden\", \"thats\", \"thats\", \"thats\", \"theres\", \"theres\", \"theres\", \"things\", \"think\", \"thou\", \"thou art\", \"thou preparest\", \"thou preparest table\", \"thy\", \"thy\", \"thy\", \"thy earth\", \"thy earth heaven\", \"thy kingdom\", \"thy kingdom come\", \"thy thy\", \"thy thy kingdom\", \"time\", \"time\", \"time\", \"time\", \"time\", \"time come\", \"transition\", \"transition\", \"trouble\", \"trouble\", \"truth\", \"truth\", \"uncle\", \"understand\", \"unintelligible\", \"unintelligible\", \"unintelligible\", \"unit\", \"unit\", \"unto\", \"upset\", \"upset\", \"valley\", \"valley shadow\", \"valley shadow death\", \"victims\", \"victims family\", \"victory\", \"victory\", \"waiting yall\", \"waiting yall\", \"walk\", \"walk\", \"walk\", \"walk valley shadow\", \"walked\", \"walked\", \"wall\", \"want\", \"want\", \"want\", \"want\", \"want know\", \"want know\", \"want know\", \"want make\", \"want make\", \"want tell family\", \"want yall\", \"warden\", \"warden\", \"warden\", \"warden\", \"warden jones\", \"warden jones\", \"warden love\", \"warden love\", \"warden love\", \"warrior\", \"warrior\", \"waters\", \"williams\", \"williams\", \"wish\", \"wish\", \"wish\", \"witness\", \"witness\", \"witness\", \"witness god\", \"witness god allah\", \"witnesses\", \"witnesses\", \"witnesses\", \"worked\", \"worked\", \"wrong thank\", \"wrong thank\", \"yall\", \"yall\", \"yall\", \"yall\", \"yall forgive\", \"yall forgive\", \"yall im\", \"yall love\", \"yall stay\", \"yall stay strong\", \"yall thank\", \"yall thank\", \"yea\", \"yea walk\", \"years\", \"years\", \"years\", \"yes\", \"yes\", \"yes\", \"yes\", \"yes know\", \"yes know\", \"yes like\", \"yes like\", \"yes like\", \"yes like thank\", \"young\"]}, \"R\": 30, \"lambda.step\": 0.01, \"plot.opts\": {\"xlab\": \"PC1\", \"ylab\": \"PC2\"}, \"topic.order\": [3, 5, 9, 8, 12, 11, 7, 1, 2, 4, 6, 10]};\n",
       "\n",
       "function LDAvis_load_lib(url, callback){\n",
       "  var s = document.createElement('script');\n",
       "  s.src = url;\n",
       "  s.async = true;\n",
       "  s.onreadystatechange = s.onload = callback;\n",
       "  s.onerror = function(){console.warn(\"failed to load library \" + url);};\n",
       "  document.getElementsByTagName(\"head\")[0].appendChild(s);\n",
       "}\n",
       "\n",
       "if(typeof(LDAvis) !== \"undefined\"){\n",
       "   // already loaded: just create the visualization\n",
       "   !function(LDAvis){\n",
       "       new LDAvis(\"#\" + \"ldavis_el349581208184937441472209818\", ldavis_el349581208184937441472209818_data);\n",
       "   }(LDAvis);\n",
       "}else if(typeof define === \"function\" && define.amd){\n",
       "   // require.js is available: use it to load d3/LDAvis\n",
       "   require.config({paths: {d3: \"https://cdnjs.cloudflare.com/ajax/libs/d3/3.5.5/d3.min\"}});\n",
       "   require([\"d3\"], function(d3){\n",
       "      window.d3 = d3;\n",
       "      LDAvis_load_lib(\"https://cdn.rawgit.com/bmabey/pyLDAvis/files/ldavis.v1.0.0.js\", function(){\n",
       "        new LDAvis(\"#\" + \"ldavis_el349581208184937441472209818\", ldavis_el349581208184937441472209818_data);\n",
       "      });\n",
       "    });\n",
       "}else{\n",
       "    // require.js not available: dynamically load d3 & LDAvis\n",
       "    LDAvis_load_lib(\"https://cdnjs.cloudflare.com/ajax/libs/d3/3.5.5/d3.min.js\", function(){\n",
       "         LDAvis_load_lib(\"https://cdn.rawgit.com/bmabey/pyLDAvis/files/ldavis.v1.0.0.js\", function(){\n",
       "                 new LDAvis(\"#\" + \"ldavis_el349581208184937441472209818\", ldavis_el349581208184937441472209818_data);\n",
       "            })\n",
       "         });\n",
       "}\n",
       "</script>"
      ],
      "text/plain": [
       "PreparedData(topic_coordinates=            Freq  cluster  topics         x         y\n",
       "topic                                                \n",
       "2      69.594779        1       1  0.149283  0.003096\n",
       "4      16.295126        1       2  0.266536  0.083236\n",
       "8       3.959638        1       3 -0.005842 -0.281332\n",
       "7       3.463440        1       4 -0.137370  0.026336\n",
       "11      2.563749        1       5  0.084865 -0.088301\n",
       "10      1.028531        1       6 -0.083302  0.029089\n",
       "6       1.002915        1       7 -0.039925  0.082468\n",
       "0       0.835157        1       8 -0.075392  0.043919\n",
       "1       0.494937        1       9 -0.049174  0.034530\n",
       "3       0.304717        1      10 -0.041132  0.024667\n",
       "5       0.267503        1      11 -0.033321  0.026022\n",
       "9       0.189508        1      12 -0.035225  0.016271, topic_info=     Category        Freq         Term       Total  loglift  logprob\n",
       "term                                                                \n",
       "1266  Default  261.000000        thank  261.000000  30.0000  30.0000\n",
       "772   Default  646.000000         love  646.000000  29.0000  29.0000\n",
       "304   Default  306.000000       family  306.000000  28.0000  28.0000\n",
       "420   Default  206.000000          god  206.000000  27.0000  27.0000\n",
       "703   Default  151.000000         life  151.000000  26.0000  26.0000\n",
       "227   Default  116.000000          did  116.000000  25.0000  25.0000\n",
       "568   Default  175.000000           im  175.000000  24.0000  24.0000\n",
       "714   Default  200.000000         like  200.000000  23.0000  23.0000\n",
       "601   Default   98.000000        jesus   98.000000  22.0000  22.0000\n",
       "367   Default  148.000000      forgive  148.000000  21.0000  21.0000\n",
       "753   Default  132.000000         lord  132.000000  20.0000  20.0000\n",
       "1392  Default  221.000000         want  221.000000  19.0000  19.0000\n",
       "1474  Default  188.000000         yall  188.000000  18.0000  18.0000\n",
       "150   Default   52.000000       christ   52.000000  17.0000  17.0000\n",
       "213   Default   85.000000        death   85.000000  16.0000  16.0000\n",
       "1248  Default  129.000000         tell  129.000000  15.0000  15.0000\n",
       "1065  Default   41.000000         said   41.000000  14.0000  14.0000\n",
       "1504  Default  106.000000          yes  106.000000  13.0000  13.0000\n",
       "1078  Default  166.000000          say  166.000000  12.0000  12.0000\n",
       "1502  Default   66.000000        years   66.000000  11.0000  11.0000\n",
       "1320  Default   62.000000         time   62.000000  10.0000  10.0000\n",
       "1202  Default   32.000000    statement   32.000000   9.0000   9.0000\n",
       "35    Default   38.000000    apologize   38.000000   8.0000   8.0000\n",
       "954   Default  113.000000       people  113.000000   7.0000   7.0000\n",
       "156   Default   61.000000         come   61.000000   6.0000   6.0000\n",
       "18    Default   22.000000        allah   22.000000   5.0000   5.0000\n",
       "733   Default   36.000000   like thank   36.000000   4.0000   4.0000\n",
       "1213  Default   78.000000       strong   78.000000   3.0000   3.0000\n",
       "338   Default   75.000000       father   75.000000   2.0000   2.0000\n",
       "652   Default  296.000000         know  296.000000   1.0000   1.0000\n",
       "...       ...         ...          ...         ...      ...      ...\n",
       "955   Topic12    0.022502   people god    3.367561   1.2601  -7.3255\n",
       "393   Topic12    0.022486       fought    3.142659   1.3285  -7.3262\n",
       "1155  Topic12    0.022985        sorry  236.933680  -2.9722  -7.3042\n",
       "945   Topic12    0.022918        peace  103.319255  -2.1451  -7.3071\n",
       "772   Topic12    0.022763         love  646.242215  -3.9853  -7.3139\n",
       "141   Topic12    0.022744       change   17.356876  -0.3690  -7.3148\n",
       "538   Topic12    0.022729         hope  142.220440  -2.4730  -7.3154\n",
       "1504  Topic12    0.022666          yes  106.034951  -2.1822  -7.3182\n",
       "652   Topic12    0.022638         know  296.614009  -3.2121  -7.3194\n",
       "6     Topic12    0.022636       accept   10.973896   0.0848  -7.3195\n",
       "843   Topic12    0.022623         make   45.377158  -1.3353  -7.3201\n",
       "937   Topic12    0.022617         past   12.236303  -0.0249  -7.3203\n",
       "1502  Topic12    0.022613        years   66.130309  -1.7124  -7.3205\n",
       "947   Topic12    0.022612    peace god    7.349168   0.4846  -7.3206\n",
       "1474  Topic12    0.022596         yall  188.475183  -2.7604  -7.3213\n",
       "851   Topic12    0.022596          man   71.210521  -1.7871  -7.3213\n",
       "42    Topic12    0.022589      apology    6.028532   0.6817  -7.3216\n",
       "420   Topic12    0.022566          god  206.188378  -2.8516  -7.3226\n",
       "1248  Topic12    0.022563         tell  129.863746  -2.3894  -7.3227\n",
       "821   Topic12    0.022562   love sorry    5.959096   0.6921  -7.3228\n",
       "1078  Topic12    0.022558          say  166.308649  -2.6370  -7.3230\n",
       "202   Topic12    0.022557          day   44.133379  -1.3104  -7.3230\n",
       "438   Topic12    0.022554        going  117.465047  -2.2895  -7.3231\n",
       "542   Topic12    0.022554     hope day    5.652810   0.7445  -7.3231\n",
       "1169  Topic12    0.022552   sorry love    9.340496   0.2422  -7.3232\n",
       "387   Topic12    0.022550  forgiveness   53.643468  -1.5059  -7.3233\n",
       "920   Topic12    0.022546         okay   15.891804  -0.2895  -7.3235\n",
       "1     Topic12    0.022545     10 years    4.765354   0.9149  -7.3236\n",
       "1175  Topic12    0.022544  sorry sorry    9.507787   0.2241  -7.3236\n",
       "336   Topic12    0.022542  family wish    4.798974   0.9077  -7.3237\n",
       "\n",
       "[636 rows x 6 columns], token_table=      Topic      Freq              Term\n",
       "term                                   \n",
       "1         1  0.209848          10 years\n",
       "1         2  0.629544          10 years\n",
       "2         1  0.369128                12\n",
       "2         8  0.369128                12\n",
       "3         3  0.410970                13\n",
       "3         4  0.205485                13\n",
       "3         8  0.205485                13\n",
       "6         1  0.637877            accept\n",
       "6         2  0.273376            accept\n",
       "18        6  0.939784             allah\n",
       "23        1  0.378157              amen\n",
       "23        3  0.432179              amen\n",
       "23        4  0.108045              amen\n",
       "23        5  0.054022              amen\n",
       "24        1  0.079354           america\n",
       "24        2  0.872895           america\n",
       "25        1  0.345482          american\n",
       "25        5  0.345482          american\n",
       "25        8  0.345482          american\n",
       "27        1  0.760442             anger\n",
       "27        7  0.217269             anger\n",
       "28        1  0.627413             angry\n",
       "28        7  0.313706             angry\n",
       "35        1  0.963172         apologize\n",
       "35        9  0.026032         apologize\n",
       "36        1  0.782629  apologize family\n",
       "42        1  0.829389           apology\n",
       "43        1  0.682926        appreciate\n",
       "43        2  0.195122        appreciate\n",
       "43        5  0.097561        appreciate\n",
       "...     ...       ...               ...\n",
       "1470      1  0.600069       wrong thank\n",
       "1470      2  0.300034       wrong thank\n",
       "1474      1  0.498739              yall\n",
       "1474      2  0.472211              yall\n",
       "1474      4  0.010611              yall\n",
       "1474      5  0.015917              yall\n",
       "1479      1  0.270885      yall forgive\n",
       "1479      2  0.541770      yall forgive\n",
       "1482      2  0.943740           yall im\n",
       "1486      2  0.893841         yall love\n",
       "1490      2  0.863691         yall stay\n",
       "1491      2  0.966561  yall stay strong\n",
       "1493      4  0.261219        yall thank\n",
       "1493      5  0.522439        yall thank\n",
       "1497      4  0.749461               yea\n",
       "1498      4  0.749433          yea walk\n",
       "1502      1  0.710718             years\n",
       "1502      2  0.257068             years\n",
       "1502      4  0.015122             years\n",
       "1504      1  0.726176               yes\n",
       "1504      2  0.198048               yes\n",
       "1504      3  0.018862               yes\n",
       "1504      5  0.056585               yes\n",
       "1507      1  0.675599          yes know\n",
       "1507      8  0.337800          yes know\n",
       "1508      1  0.556895          yes like\n",
       "1508      2  0.185632          yes like\n",
       "1508      5  0.247509          yes like\n",
       "1510      5  0.868762    yes like thank\n",
       "1518      2  0.929461             young\n",
       "\n",
       "[815 rows x 3 columns], R=30, lambda_step=0.01, plot_opts={'xlab': 'PC1', 'ylab': 'PC2'}, topic_order=[3, 5, 9, 8, 12, 11, 7, 1, 2, 4, 6, 10])"
      ]
     },
     "execution_count": 313,
     "metadata": {},
     "output_type": "execute_result"
    }
   ],
   "source": [
    "pyLDAvis.sklearn.prepare(lda, x, vect)"
   ]
  },
  {
   "cell_type": "code",
   "execution_count": 337,
   "metadata": {},
   "outputs": [
    {
     "name": "stdout",
     "output_type": "stream",
     "text": [
      "topic 0       topic 1       topic 2       topic 3       topic 4       topic 5       \n",
      "--------      --------      --------      --------      --------      --------      \n",
      "brings        born          love          polunsky      love          guilty        \n",
      "crime         warrior       know          proceed wardenyall          texas         \n",
      "did           im            family        proceed       tell          fact          \n",
      "hope brings   mad           sorry         country       strong        august        \n",
      "brings closuredie           thank         church        want          state texas   \n",
      "hope brings closurehome jesus    god           filled        stay          demand        \n",
      "did commit    miracle       like          demand        family        relief        \n",
      "commit        trouble       want          lift          know          state         \n",
      "crime did commitcaused like   say           solace        stay strong   sentence      \n",
      "crime did     home lord     im            community     love yall     robert        \n",
      "convicted     hello         hope          stop          innocent      execution     \n",
      "beginning     like apologizeforgive       singing       people        death         \n",
      "statement     jack          life          says          im            time          \n",
      "real          apologize     just          began         man           years         \n",
      "bring         staff         dont          aunt          just          know          \n",
      "13            profanity     lord          living        family love   yall forgive  \n",
      "12            proceed wardenpeace         does          everybody     solve         \n",
      "dog           warden jones  going         row           continue      peace         \n",
      "shall         proceed       yall          society       thank         god           \n",
      "williams      guess thats   did           death row     tell family   did dont      \n",
      "\n",
      "\n",
      "topic 6       topic 7       topic 8       topic 9       topic 10      topic 11      \n",
      "--------      --------      --------      --------      --------      --------      \n",
      "officer       shall         holy          sorry         allah         thank         \n",
      "police        thou          thy           peace         unto          jesus         \n",
      "life          want          lord          love          return        family        \n",
      "statement     thy           praise        change        god allah     christ        \n",
      "goodbye       lord          forgive       hope          said          like thank    \n",
      "said          waters        heaven        yes           god           like          \n",
      "sentence      evil          love          know          bear          jesus christ  \n",
      "murderer      leadeth       come          accept        islam         bye           \n",
      "guilty        green         jesus         make          thy           spirit        \n",
      "angry         lord shepherd amen          past          witness       thank jesus   \n",
      "self defense  shepherd      god           years         extend        lord jesus    \n",
      "self          lie           kingdom       peace god     said love     yes           \n",
      "spoke         enemies       thank lord jesushope yall     belong unto   holy          \n",
      "committed     death         spirit        uncle         witness god allahreceive       \n",
      "fought        thank         evil          yall          bear witness godreceive spirit\n",
      "carry         fear          lord jesus    man           belong        thank family  \n",
      "defense       walk          thank lord    apology       bear witness  jesus receive spirit\n",
      "lots          valley        glory         god           witness god   jesus receive \n",
      "beat          shepherd shall wantearth         tell          brothers      love          \n",
      "capital       head oil cup  father        love sorry    theres        warden        \n",
      "\n",
      "\n"
     ]
    }
   ],
   "source": [
    "sorting = np.argsort(lda.components_,axis=1)[:,::-1]\n",
    "feature_names = np.array(vect.get_feature_names())\n",
    "mglearn.tools.print_topics(topics=range(num_topics),feature_names=feature_names,\n",
    "                           sorting=sorting,topics_per_chunk=6,n_words=20)"
   ]
  },
  {
   "cell_type": "code",
   "execution_count": 338,
   "metadata": {},
   "outputs": [
    {
     "data": {
      "text/html": [
       "<div>\n",
       "<style scoped>\n",
       "    .dataframe tbody tr th:only-of-type {\n",
       "        vertical-align: middle;\n",
       "    }\n",
       "\n",
       "    .dataframe tbody tr th {\n",
       "        vertical-align: top;\n",
       "    }\n",
       "\n",
       "    .dataframe thead th {\n",
       "        text-align: right;\n",
       "    }\n",
       "</style>\n",
       "<table border=\"1\" class=\"dataframe\">\n",
       "  <thead>\n",
       "    <tr style=\"text-align: right;\">\n",
       "      <th></th>\n",
       "      <th>Topic1</th>\n",
       "      <th>Topic2</th>\n",
       "      <th>Topic3</th>\n",
       "      <th>Topic4</th>\n",
       "      <th>Topic5</th>\n",
       "      <th>Topic6</th>\n",
       "      <th>Topic7</th>\n",
       "      <th>Topic8</th>\n",
       "      <th>Topic9</th>\n",
       "      <th>Topic10</th>\n",
       "      <th>Topic11</th>\n",
       "      <th>Topic12</th>\n",
       "    </tr>\n",
       "  </thead>\n",
       "  <tbody>\n",
       "    <tr>\n",
       "      <th>0</th>\n",
       "      <td>0.008333</td>\n",
       "      <td>0.008333</td>\n",
       "      <td>0.492165</td>\n",
       "      <td>0.008333</td>\n",
       "      <td>0.424501</td>\n",
       "      <td>0.008333</td>\n",
       "      <td>0.008333</td>\n",
       "      <td>0.008333</td>\n",
       "      <td>0.008333</td>\n",
       "      <td>0.008333</td>\n",
       "      <td>0.008333</td>\n",
       "      <td>0.008333</td>\n",
       "    </tr>\n",
       "    <tr>\n",
       "      <th>1</th>\n",
       "      <td>0.004902</td>\n",
       "      <td>0.004902</td>\n",
       "      <td>0.946078</td>\n",
       "      <td>0.004902</td>\n",
       "      <td>0.004902</td>\n",
       "      <td>0.004902</td>\n",
       "      <td>0.004902</td>\n",
       "      <td>0.004902</td>\n",
       "      <td>0.004902</td>\n",
       "      <td>0.004902</td>\n",
       "      <td>0.004902</td>\n",
       "      <td>0.004902</td>\n",
       "    </tr>\n",
       "    <tr>\n",
       "      <th>2</th>\n",
       "      <td>0.003472</td>\n",
       "      <td>0.003473</td>\n",
       "      <td>0.961804</td>\n",
       "      <td>0.003472</td>\n",
       "      <td>0.003472</td>\n",
       "      <td>0.003472</td>\n",
       "      <td>0.003472</td>\n",
       "      <td>0.003473</td>\n",
       "      <td>0.003472</td>\n",
       "      <td>0.003472</td>\n",
       "      <td>0.003472</td>\n",
       "      <td>0.003472</td>\n",
       "    </tr>\n",
       "    <tr>\n",
       "      <th>3</th>\n",
       "      <td>0.013889</td>\n",
       "      <td>0.013889</td>\n",
       "      <td>0.847221</td>\n",
       "      <td>0.013889</td>\n",
       "      <td>0.013890</td>\n",
       "      <td>0.013889</td>\n",
       "      <td>0.013889</td>\n",
       "      <td>0.013889</td>\n",
       "      <td>0.013889</td>\n",
       "      <td>0.013889</td>\n",
       "      <td>0.013889</td>\n",
       "      <td>0.013889</td>\n",
       "    </tr>\n",
       "    <tr>\n",
       "      <th>4</th>\n",
       "      <td>0.001055</td>\n",
       "      <td>0.001055</td>\n",
       "      <td>0.988396</td>\n",
       "      <td>0.001055</td>\n",
       "      <td>0.001055</td>\n",
       "      <td>0.001055</td>\n",
       "      <td>0.001055</td>\n",
       "      <td>0.001055</td>\n",
       "      <td>0.001055</td>\n",
       "      <td>0.001055</td>\n",
       "      <td>0.001055</td>\n",
       "      <td>0.001055</td>\n",
       "    </tr>\n",
       "  </tbody>\n",
       "</table>\n",
       "</div>"
      ],
      "text/plain": [
       "     Topic1    Topic2    Topic3    Topic4    Topic5    Topic6    Topic7  \\\n",
       "0  0.008333  0.008333  0.492165  0.008333  0.424501  0.008333  0.008333   \n",
       "1  0.004902  0.004902  0.946078  0.004902  0.004902  0.004902  0.004902   \n",
       "2  0.003472  0.003473  0.961804  0.003472  0.003472  0.003472  0.003472   \n",
       "3  0.013889  0.013889  0.847221  0.013889  0.013890  0.013889  0.013889   \n",
       "4  0.001055  0.001055  0.988396  0.001055  0.001055  0.001055  0.001055   \n",
       "\n",
       "     Topic8    Topic9   Topic10   Topic11   Topic12  \n",
       "0  0.008333  0.008333  0.008333  0.008333  0.008333  \n",
       "1  0.004902  0.004902  0.004902  0.004902  0.004902  \n",
       "2  0.003473  0.003472  0.003472  0.003472  0.003472  \n",
       "3  0.013889  0.013889  0.013889  0.013889  0.013889  \n",
       "4  0.001055  0.001055  0.001055  0.001055  0.001055  "
      ]
     },
     "execution_count": 338,
     "metadata": {},
     "output_type": "execute_result"
    }
   ],
   "source": [
    "df_document_topics = pd.DataFrame(document_topics, columns=[\"Topic\"+str(i+1) for i in range(num_topics)])\n",
    "df_document_topics.head()"
   ]
  },
  {
   "cell_type": "code",
   "execution_count": 339,
   "metadata": {},
   "outputs": [],
   "source": [
    "#document_topics['Words'] = words"
   ]
  },
  {
   "cell_type": "code",
   "execution_count": 340,
   "metadata": {},
   "outputs": [],
   "source": [
    "most_likely_topics = df_document_topics.idxmax(axis=1)"
   ]
  },
  {
   "cell_type": "code",
   "execution_count": 342,
   "metadata": {},
   "outputs": [
    {
     "data": {
      "text/plain": [
       "Topic1       5\n",
       "Topic11      2\n",
       "Topic12     11\n",
       "Topic2       4\n",
       "Topic3     321\n",
       "Topic5      72\n",
       "Topic6       1\n",
       "Topic7       8\n",
       "Topic8       4\n",
       "Topic9       8\n",
       "dtype: int64"
      ]
     },
     "execution_count": 342,
     "metadata": {},
     "output_type": "execute_result"
    }
   ],
   "source": [
    "most_likely_topics.groupby(most_likely_topics).count()"
   ]
  },
  {
   "cell_type": "markdown",
   "metadata": {},
   "source": [
    "## Print specific topic docs"
   ]
  },
  {
   "cell_type": "code",
   "execution_count": 344,
   "metadata": {},
   "outputs": [],
   "source": [
    "topics = np.array([range(num_topics)])"
   ]
  },
  {
   "cell_type": "code",
   "execution_count": 345,
   "metadata": {},
   "outputs": [
    {
     "name": "stdout",
     "output_type": "stream",
     "text": [
      "174  tell beth and them i am sorry, truly sorry for the pain that i caused your family.  i truly mean that too\n",
      "215  can you hear me, chris?  the lord is my shepherd; i shall not want.  he makes me to lie down in green pastures; he leads me beside the still waters\n",
      "240 the lord is my shepherd, i shall not want. he maketh me lie down in green pastures; he leadeth me beside the still waters, he restoreth my soul\n",
      "92 collins family, i know your not going to get the closure you are looking for tonight. i wish you the best\n",
      "310  mama isabel told me to tell you hello. holy, holy, holy! lord god almighty! early in the morning our song shall rise to thee; holy, holy, holy, merciful and mighty! god in three persons, blessed trinity\n"
     ]
    }
   ],
   "source": [
    "topic_4 = np.argsort(document_topics[:,2])\n",
    "\n",
    "for i in topic_4[:5]:\n",
    "    print(i,'.'.join(words[i].split(\".\")[:2]))"
   ]
  },
  {
   "cell_type": "code",
   "execution_count": 346,
   "metadata": {},
   "outputs": [
    {
     "name": "stdout",
     "output_type": "stream",
     "text": [
      "287     i would like to say that i did not kill bobby lambert. that im an innocent black man that is being murdered\n",
      "308     i want to start out by acknowledging the love that ive had in my family. no man in this world has had a better family than me\n",
      "174     tell beth and them i am sorry, truly sorry for the pain that i caused your family.  i truly mean that too\n",
      "296    yes, sir. james webb, i dont know which one you are out there\n",
      "294     can they talk back? say i pray for it, i accept it. pray with me\n",
      "266     yes, first i would like to speak to the victims family.  first of all, i would like to say that i do not know any of yall and that is unfortunate, because i would like to apologize to each and every one of you individually\n",
      "275    i am saying, i want yall to keep your heads up, hold on and stay strong for everybody. i mean ah, i dont want yall to look at me like i am a killer or something man, cause i aint no killer\n",
      "288     verbal: i have a written statement for the press. it will be released as soon as they can\n",
      "56    yes, you know i sat in my cell many days wondering what my last words would be: love for my family, grandson, friends. i love you very much\n",
      "215     can you hear me, chris?  the lord is my shepherd; i shall not want.  he makes me to lie down in green pastures; he leads me beside the still waters\n"
     ]
    }
   ],
   "source": [
    "topic = np.argsort(document_topics[:,1])\n",
    "\n",
    "for i in topic[:10]:\n",
    "    print(i,'  ','.'.join(words[i].split(\".\")[:2]))"
   ]
  },
  {
   "cell_type": "markdown",
   "metadata": {},
   "source": [
    "# Affect API"
   ]
  },
  {
   "cell_type": "code",
   "execution_count": 74,
   "metadata": {},
   "outputs": [
    {
     "name": "stderr",
     "output_type": "stream",
     "text": [
      "/anaconda3/lib/python3.6/site-packages/_pytest/fixtures.py:844: DeprecationWarning: The `convert` argument is deprecated in favor of `converter`.  It will be removed after 2019/01.\n",
      "  params = attr.ib(convert=attr.converters.optional(tuple))\n",
      "/anaconda3/lib/python3.6/site-packages/_pytest/fixtures.py:846: DeprecationWarning: The `convert` argument is deprecated in favor of `converter`.  It will be removed after 2019/01.\n",
      "  ids = attr.ib(default=None, convert=_ensure_immutable_ids)\n"
     ]
    },
    {
     "ename": "ModuleNotFoundError",
     "evalue": "No module named 'client'",
     "output_type": "error",
     "traceback": [
      "\u001b[0;31m---------------------------------------------------------------------------\u001b[0m",
      "\u001b[0;31mModuleNotFoundError\u001b[0m                       Traceback (most recent call last)",
      "\u001b[0;32m<ipython-input-74-ad8ed91b22f9>\u001b[0m in \u001b[0;36m<module>\u001b[0;34m()\u001b[0m\n\u001b[0;32m----> 1\u001b[0;31m \u001b[0;32mimport\u001b[0m \u001b[0maffectr\u001b[0m\u001b[0;34m\u001b[0m\u001b[0m\n\u001b[0m",
      "\u001b[0;32m/anaconda3/lib/python3.6/site-packages/affectr-0.1.0-py3.6.egg/affectr/__init__.py\u001b[0m in \u001b[0;36m<module>\u001b[0;34m()\u001b[0m\n\u001b[1;32m     15\u001b[0m \u001b[0;34m\u001b[0m\u001b[0m\n\u001b[1;32m     16\u001b[0m \u001b[0;31m#import as clientlib so that we don't shadow with the client variable\u001b[0m\u001b[0;34m\u001b[0m\u001b[0;34m\u001b[0m\u001b[0m\n\u001b[0;32m---> 17\u001b[0;31m \u001b[0;32mimport\u001b[0m \u001b[0mclient\u001b[0m \u001b[0;32mas\u001b[0m \u001b[0mclientlib\u001b[0m\u001b[0;34m\u001b[0m\u001b[0m\n\u001b[0m\u001b[1;32m     18\u001b[0m \u001b[0;34m\u001b[0m\u001b[0m\n\u001b[1;32m     19\u001b[0m \u001b[0mclient\u001b[0m \u001b[0;34m=\u001b[0m \u001b[0;32mNone\u001b[0m\u001b[0;34m\u001b[0m\u001b[0m\n",
      "\u001b[0;31mModuleNotFoundError\u001b[0m: No module named 'client'"
     ]
    }
   ],
   "source": [
    "import affectr"
   ]
  },
  {
   "cell_type": "code",
   "execution_count": null,
   "metadata": {
    "scrolled": true
   },
   "outputs": [],
   "source": [
    "affectr.set_details(\"your username\", \"your password\")"
   ]
  },
  {
   "cell_type": "code",
   "execution_count": null,
   "metadata": {},
   "outputs": [],
   "source": [
    "affectr.client.classify_intent(\n",
    "    \"We are planning to implement a real-time data service. \" +\n",
    "    \"What are the advantages/disadvantages of using a Foobar-compliant database over Hype.js?\")[0].intentType)"
   ]
  },
  {
   "cell_type": "code",
   "execution_count": null,
   "metadata": {},
   "outputs": [],
   "source": []
  }
 ],
 "metadata": {
  "kernelspec": {
   "display_name": "Python 3",
   "language": "python",
   "name": "python3"
  },
  "language_info": {
   "codemirror_mode": {
    "name": "ipython",
    "version": 3
   },
   "file_extension": ".py",
   "mimetype": "text/x-python",
   "name": "python",
   "nbconvert_exporter": "python",
   "pygments_lexer": "ipython3",
   "version": "3.6.4"
  },
  "toc": {
   "base_numbering": 1,
   "nav_menu": {},
   "number_sections": true,
   "sideBar": true,
   "skip_h1_title": false,
   "title_cell": "Table of Contents",
   "title_sidebar": "Contents",
   "toc_cell": false,
   "toc_position": {
    "height": "calc(100% - 180px)",
    "left": "10px",
    "top": "150px",
    "width": "244px"
   },
   "toc_section_display": true,
   "toc_window_display": true
  }
 },
 "nbformat": 4,
 "nbformat_minor": 2
}
