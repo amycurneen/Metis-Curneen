{
 "cells": [
  {
   "cell_type": "markdown",
   "metadata": {},
   "source": [
    "# Setup"
   ]
  },
  {
   "cell_type": "code",
   "execution_count": 352,
   "metadata": {},
   "outputs": [],
   "source": [
    "from __future__ import print_function, division\n",
    "import pandas as pd\n",
    "from datetime import datetime"
   ]
  },
  {
   "cell_type": "markdown",
   "metadata": {},
   "source": [
    "# Data import"
   ]
  },
  {
   "cell_type": "code",
   "execution_count": 214,
   "metadata": {},
   "outputs": [],
   "source": [
    "df = pd.read_csv(\"data/ebola_data.csv\")"
   ]
  },
  {
   "cell_type": "code",
   "execution_count": 215,
   "metadata": {},
   "outputs": [
    {
     "data": {
      "text/html": [
       "<div>\n",
       "<style scoped>\n",
       "    .dataframe tbody tr th:only-of-type {\n",
       "        vertical-align: middle;\n",
       "    }\n",
       "\n",
       "    .dataframe tbody tr th {\n",
       "        vertical-align: top;\n",
       "    }\n",
       "\n",
       "    .dataframe thead th {\n",
       "        text-align: right;\n",
       "    }\n",
       "</style>\n",
       "<table border=\"1\" class=\"dataframe\">\n",
       "  <thead>\n",
       "    <tr style=\"text-align: right;\">\n",
       "      <th></th>\n",
       "      <th>Indicator</th>\n",
       "      <th>Country</th>\n",
       "      <th>Date</th>\n",
       "      <th>value</th>\n",
       "    </tr>\n",
       "  </thead>\n",
       "  <tbody>\n",
       "    <tr>\n",
       "      <th>17473</th>\n",
       "      <td>Cumulative number of confirmed, probable and s...</td>\n",
       "      <td>Nigeria</td>\n",
       "      <td>2015-12-29</td>\n",
       "      <td>20.0</td>\n",
       "    </tr>\n",
       "    <tr>\n",
       "      <th>6035</th>\n",
       "      <td>Cumulative number of probable Ebola cases</td>\n",
       "      <td>Sierra Leone</td>\n",
       "      <td>2015-04-09</td>\n",
       "      <td>287.0</td>\n",
       "    </tr>\n",
       "    <tr>\n",
       "      <th>3668</th>\n",
       "      <td>Cumulative number of confirmed, probable and s...</td>\n",
       "      <td>Nigeria</td>\n",
       "      <td>2015-01-29</td>\n",
       "      <td>8.0</td>\n",
       "    </tr>\n",
       "  </tbody>\n",
       "</table>\n",
       "</div>"
      ],
      "text/plain": [
       "                                               Indicator       Country  \\\n",
       "17473  Cumulative number of confirmed, probable and s...       Nigeria   \n",
       "6035           Cumulative number of probable Ebola cases  Sierra Leone   \n",
       "3668   Cumulative number of confirmed, probable and s...       Nigeria   \n",
       "\n",
       "             Date  value  \n",
       "17473  2015-12-29   20.0  \n",
       "6035   2015-04-09  287.0  \n",
       "3668   2015-01-29    8.0  "
      ]
     },
     "execution_count": 215,
     "metadata": {},
     "output_type": "execute_result"
    }
   ],
   "source": [
    "df.sample(3)"
   ]
  },
  {
   "cell_type": "markdown",
   "metadata": {},
   "source": [
    "# Cleaning"
   ]
  },
  {
   "cell_type": "markdown",
   "metadata": {},
   "source": [
    "## Split up Indicator"
   ]
  },
  {
   "cell_type": "code",
   "execution_count": 216,
   "metadata": {},
   "outputs": [],
   "source": [
    "outcome = []\n",
    "for i in range(len(df.value)):\n",
    "    if 'CFR' in df.Indicator[i]:\n",
    "        outcome.append('CFR')\n",
    "    elif 'deaths' in df.Indicator[i]:\n",
    "        outcome.append('death')\n",
    "    elif 'cases' in df.Indicator[i]:\n",
    "        outcome.append('cases')\n",
    "    else:\n",
    "        print(check)"
   ]
  },
  {
   "cell_type": "code",
   "execution_count": 217,
   "metadata": {},
   "outputs": [],
   "source": [
    "status = []\n",
    "for i in range(len(df.value)):\n",
    "    if 'of confirmed Ebola' in df.Indicator[i]:\n",
    "        status.append('confirmed')\n",
    "    elif 'of probable Ebola' in df.Indicator[i]:\n",
    "        status.append('probable')\n",
    "    elif 'of confirmed, probable and suspected Ebola' in df.Indicator[i]:\n",
    "        status.append('all')\n",
    "    else:\n",
    "        status.append('suspected')"
   ]
  },
  {
   "cell_type": "code",
   "execution_count": 218,
   "metadata": {},
   "outputs": [],
   "source": [
    "days = []\n",
    "for i in range(len(df.value)):\n",
    "    if '21 days' in df.Indicator[i]:\n",
    "        days.append(21)\n",
    "    elif '7 days' in df.Indicator[i]:\n",
    "        days.append(7)\n",
    "    else:\n",
    "        days.append(0)"
   ]
  },
  {
   "cell_type": "code",
   "execution_count": 219,
   "metadata": {},
   "outputs": [],
   "source": [
    "df['outcome'] = outcome\n",
    "df['status'] = status\n",
    "df['days'] = days"
   ]
  },
  {
   "cell_type": "code",
   "execution_count": 220,
   "metadata": {},
   "outputs": [],
   "source": [
    "df = df.drop('Indicator',axis=1)"
   ]
  },
  {
   "cell_type": "code",
   "execution_count": 221,
   "metadata": {},
   "outputs": [
    {
     "data": {
      "text/html": [
       "<div>\n",
       "<style scoped>\n",
       "    .dataframe tbody tr th:only-of-type {\n",
       "        vertical-align: middle;\n",
       "    }\n",
       "\n",
       "    .dataframe tbody tr th {\n",
       "        vertical-align: top;\n",
       "    }\n",
       "\n",
       "    .dataframe thead th {\n",
       "        text-align: right;\n",
       "    }\n",
       "</style>\n",
       "<table border=\"1\" class=\"dataframe\">\n",
       "  <thead>\n",
       "    <tr style=\"text-align: right;\">\n",
       "      <th></th>\n",
       "      <th>Country</th>\n",
       "      <th>Date</th>\n",
       "      <th>value</th>\n",
       "      <th>outcome</th>\n",
       "      <th>status</th>\n",
       "      <th>days</th>\n",
       "    </tr>\n",
       "  </thead>\n",
       "  <tbody>\n",
       "    <tr>\n",
       "      <th>10044</th>\n",
       "      <td>Nigeria</td>\n",
       "      <td>2015-07-06</td>\n",
       "      <td>1.0</td>\n",
       "      <td>cases</td>\n",
       "      <td>probable</td>\n",
       "      <td>0</td>\n",
       "    </tr>\n",
       "    <tr>\n",
       "      <th>1990</th>\n",
       "      <td>Sierra Leone</td>\n",
       "      <td>2014-12-10</td>\n",
       "      <td>35.0</td>\n",
       "      <td>death</td>\n",
       "      <td>suspected</td>\n",
       "      <td>0</td>\n",
       "    </tr>\n",
       "    <tr>\n",
       "      <th>452</th>\n",
       "      <td>Guinea</td>\n",
       "      <td>2014-09-16</td>\n",
       "      <td>162.0</td>\n",
       "      <td>cases</td>\n",
       "      <td>probable</td>\n",
       "      <td>0</td>\n",
       "    </tr>\n",
       "  </tbody>\n",
       "</table>\n",
       "</div>"
      ],
      "text/plain": [
       "            Country        Date  value outcome     status  days\n",
       "10044       Nigeria  2015-07-06    1.0   cases   probable     0\n",
       "1990   Sierra Leone  2014-12-10   35.0   death  suspected     0\n",
       "452          Guinea  2014-09-16  162.0   cases   probable     0"
      ]
     },
     "execution_count": 221,
     "metadata": {},
     "output_type": "execute_result"
    }
   ],
   "source": [
    "df.sample(3)"
   ]
  },
  {
   "cell_type": "markdown",
   "metadata": {},
   "source": [
    "## Date"
   ]
  },
  {
   "cell_type": "code",
   "execution_count": 222,
   "metadata": {},
   "outputs": [],
   "source": [
    "date = []\n",
    "for i in range(len(df.value)):\n",
    "    datetime_object = datetime.strptime(df.Date[i], '%Y-%m-%d')\n",
    "    date.append(datetime_object)"
   ]
  },
  {
   "cell_type": "code",
   "execution_count": 223,
   "metadata": {},
   "outputs": [],
   "source": [
    "df['date'] = date"
   ]
  },
  {
   "cell_type": "code",
   "execution_count": 224,
   "metadata": {},
   "outputs": [],
   "source": [
    "df = df.drop('Date',axis=1)"
   ]
  },
  {
   "cell_type": "code",
   "execution_count": 225,
   "metadata": {},
   "outputs": [
    {
     "data": {
      "text/html": [
       "<div>\n",
       "<style scoped>\n",
       "    .dataframe tbody tr th:only-of-type {\n",
       "        vertical-align: middle;\n",
       "    }\n",
       "\n",
       "    .dataframe tbody tr th {\n",
       "        vertical-align: top;\n",
       "    }\n",
       "\n",
       "    .dataframe thead th {\n",
       "        text-align: right;\n",
       "    }\n",
       "</style>\n",
       "<table border=\"1\" class=\"dataframe\">\n",
       "  <thead>\n",
       "    <tr style=\"text-align: right;\">\n",
       "      <th></th>\n",
       "      <th>Country</th>\n",
       "      <th>value</th>\n",
       "      <th>outcome</th>\n",
       "      <th>status</th>\n",
       "      <th>days</th>\n",
       "      <th>date</th>\n",
       "    </tr>\n",
       "  </thead>\n",
       "  <tbody>\n",
       "    <tr>\n",
       "      <th>1144</th>\n",
       "      <td>Guinea</td>\n",
       "      <td>8.0</td>\n",
       "      <td>cases</td>\n",
       "      <td>confirmed</td>\n",
       "      <td>7</td>\n",
       "      <td>2014-10-22</td>\n",
       "    </tr>\n",
       "    <tr>\n",
       "      <th>12525</th>\n",
       "      <td>United Kingdom</td>\n",
       "      <td>1.0</td>\n",
       "      <td>cases</td>\n",
       "      <td>confirmed</td>\n",
       "      <td>0</td>\n",
       "      <td>2015-08-21</td>\n",
       "    </tr>\n",
       "    <tr>\n",
       "      <th>10582</th>\n",
       "      <td>Senegal</td>\n",
       "      <td>0.0</td>\n",
       "      <td>death</td>\n",
       "      <td>probable</td>\n",
       "      <td>0</td>\n",
       "      <td>2015-07-15</td>\n",
       "    </tr>\n",
       "  </tbody>\n",
       "</table>\n",
       "</div>"
      ],
      "text/plain": [
       "              Country  value outcome     status  days       date\n",
       "1144           Guinea    8.0   cases  confirmed     7 2014-10-22\n",
       "12525  United Kingdom    1.0   cases  confirmed     0 2015-08-21\n",
       "10582         Senegal    0.0   death   probable     0 2015-07-15"
      ]
     },
     "execution_count": 225,
     "metadata": {},
     "output_type": "execute_result"
    }
   ],
   "source": [
    "df.sample(3)"
   ]
  },
  {
   "cell_type": "markdown",
   "metadata": {},
   "source": [
    "## Value"
   ]
  },
  {
   "cell_type": "code",
   "execution_count": 226,
   "metadata": {},
   "outputs": [],
   "source": [
    "df['value'] = df['value'].astype('int')"
   ]
  },
  {
   "cell_type": "code",
   "execution_count": 227,
   "metadata": {},
   "outputs": [
    {
     "data": {
      "text/html": [
       "<div>\n",
       "<style scoped>\n",
       "    .dataframe tbody tr th:only-of-type {\n",
       "        vertical-align: middle;\n",
       "    }\n",
       "\n",
       "    .dataframe tbody tr th {\n",
       "        vertical-align: top;\n",
       "    }\n",
       "\n",
       "    .dataframe thead th {\n",
       "        text-align: right;\n",
       "    }\n",
       "</style>\n",
       "<table border=\"1\" class=\"dataframe\">\n",
       "  <thead>\n",
       "    <tr style=\"text-align: right;\">\n",
       "      <th></th>\n",
       "      <th>Country</th>\n",
       "      <th>value</th>\n",
       "      <th>outcome</th>\n",
       "      <th>status</th>\n",
       "      <th>days</th>\n",
       "      <th>date</th>\n",
       "    </tr>\n",
       "  </thead>\n",
       "  <tbody>\n",
       "    <tr>\n",
       "      <th>17527</th>\n",
       "      <td>Liberia 2</td>\n",
       "      <td>3</td>\n",
       "      <td>death</td>\n",
       "      <td>all</td>\n",
       "      <td>0</td>\n",
       "      <td>2016-03-23</td>\n",
       "    </tr>\n",
       "    <tr>\n",
       "      <th>15643</th>\n",
       "      <td>Guinea</td>\n",
       "      <td>3350</td>\n",
       "      <td>cases</td>\n",
       "      <td>confirmed</td>\n",
       "      <td>0</td>\n",
       "      <td>2015-10-27</td>\n",
       "    </tr>\n",
       "    <tr>\n",
       "      <th>2482</th>\n",
       "      <td>Guinea</td>\n",
       "      <td>2707</td>\n",
       "      <td>cases</td>\n",
       "      <td>all</td>\n",
       "      <td>0</td>\n",
       "      <td>2014-12-31</td>\n",
       "    </tr>\n",
       "  </tbody>\n",
       "</table>\n",
       "</div>"
      ],
      "text/plain": [
       "         Country  value outcome     status  days       date\n",
       "17527  Liberia 2      3   death        all     0 2016-03-23\n",
       "15643     Guinea   3350   cases  confirmed     0 2015-10-27\n",
       "2482      Guinea   2707   cases        all     0 2014-12-31"
      ]
     },
     "execution_count": 227,
     "metadata": {},
     "output_type": "execute_result"
    }
   ],
   "source": [
    "df.sample(3)"
   ]
  },
  {
   "cell_type": "markdown",
   "metadata": {},
   "source": [
    "## Country"
   ]
  },
  {
   "cell_type": "code",
   "execution_count": 228,
   "metadata": {},
   "outputs": [],
   "source": [
    "df.rename(columns={'Country': 'country'}, inplace=True)"
   ]
  },
  {
   "cell_type": "code",
   "execution_count": 229,
   "metadata": {},
   "outputs": [
    {
     "data": {
      "text/html": [
       "<div>\n",
       "<style scoped>\n",
       "    .dataframe tbody tr th:only-of-type {\n",
       "        vertical-align: middle;\n",
       "    }\n",
       "\n",
       "    .dataframe tbody tr th {\n",
       "        vertical-align: top;\n",
       "    }\n",
       "\n",
       "    .dataframe thead th {\n",
       "        text-align: right;\n",
       "    }\n",
       "</style>\n",
       "<table border=\"1\" class=\"dataframe\">\n",
       "  <thead>\n",
       "    <tr style=\"text-align: right;\">\n",
       "      <th></th>\n",
       "      <th>country</th>\n",
       "      <th>value</th>\n",
       "      <th>outcome</th>\n",
       "      <th>status</th>\n",
       "      <th>days</th>\n",
       "      <th>date</th>\n",
       "    </tr>\n",
       "  </thead>\n",
       "  <tbody>\n",
       "    <tr>\n",
       "      <th>9285</th>\n",
       "      <td>Senegal</td>\n",
       "      <td>1</td>\n",
       "      <td>cases</td>\n",
       "      <td>confirmed</td>\n",
       "      <td>0</td>\n",
       "      <td>2015-06-19</td>\n",
       "    </tr>\n",
       "    <tr>\n",
       "      <th>13020</th>\n",
       "      <td>Sierra Leone</td>\n",
       "      <td>4624</td>\n",
       "      <td>cases</td>\n",
       "      <td>suspected</td>\n",
       "      <td>0</td>\n",
       "      <td>2015-09-01</td>\n",
       "    </tr>\n",
       "    <tr>\n",
       "      <th>8310</th>\n",
       "      <td>Italy</td>\n",
       "      <td>1</td>\n",
       "      <td>cases</td>\n",
       "      <td>confirmed</td>\n",
       "      <td>0</td>\n",
       "      <td>2015-06-01</td>\n",
       "    </tr>\n",
       "  </tbody>\n",
       "</table>\n",
       "</div>"
      ],
      "text/plain": [
       "            country  value outcome     status  days       date\n",
       "9285        Senegal      1   cases  confirmed     0 2015-06-19\n",
       "13020  Sierra Leone   4624   cases  suspected     0 2015-09-01\n",
       "8310          Italy      1   cases  confirmed     0 2015-06-01"
      ]
     },
     "execution_count": 229,
     "metadata": {},
     "output_type": "execute_result"
    }
   ],
   "source": [
    "df.sample(3)"
   ]
  },
  {
   "cell_type": "markdown",
   "metadata": {},
   "source": [
    "# Africa countries"
   ]
  },
  {
   "cell_type": "code",
   "execution_count": 230,
   "metadata": {},
   "outputs": [],
   "source": [
    "countries = list(df.country.unique())"
   ]
  },
  {
   "cell_type": "code",
   "execution_count": 231,
   "metadata": {},
   "outputs": [],
   "source": [
    "africa_ebola = ['Guinea',\n",
    " 'Liberia',\n",
    " 'Sierra Leone',\n",
    " 'Nigeria',\n",
    " 'Senegal',\n",
    " 'Mali',\n",
    " 'Liberia 2',\n",
    " 'Guinea 2']"
   ]
  },
  {
   "cell_type": "code",
   "execution_count": 232,
   "metadata": {},
   "outputs": [],
   "source": [
    "africa_lat_long = {'Guinea':[9.935430, -9.695052],\n",
    " 'Liberia':[6.426983, -9.429671],\n",
    " 'Sierra Leone':[8.460466, -11.779898],\n",
    " 'Nigeria':[9.081746, 8.675196],\n",
    " 'Senegal':[14.496320, -14.452312],\n",
    " 'Mali':[17.570332, -3.996270],\n",
    " 'Liberia 2':[6.426983, -9.429671],\n",
    " 'Guinea 2':[9.935430, -9.695052]}"
   ]
  },
  {
   "cell_type": "code",
   "execution_count": 233,
   "metadata": {},
   "outputs": [],
   "source": [
    "africa_df = df[df['country'].isin(africa_ebola)]"
   ]
  },
  {
   "cell_type": "code",
   "execution_count": 234,
   "metadata": {},
   "outputs": [
    {
     "data": {
      "text/html": [
       "<div>\n",
       "<style scoped>\n",
       "    .dataframe tbody tr th:only-of-type {\n",
       "        vertical-align: middle;\n",
       "    }\n",
       "\n",
       "    .dataframe tbody tr th {\n",
       "        vertical-align: top;\n",
       "    }\n",
       "\n",
       "    .dataframe thead th {\n",
       "        text-align: right;\n",
       "    }\n",
       "</style>\n",
       "<table border=\"1\" class=\"dataframe\">\n",
       "  <thead>\n",
       "    <tr style=\"text-align: right;\">\n",
       "      <th></th>\n",
       "      <th>country</th>\n",
       "      <th>value</th>\n",
       "      <th>outcome</th>\n",
       "      <th>status</th>\n",
       "      <th>days</th>\n",
       "      <th>date</th>\n",
       "    </tr>\n",
       "  </thead>\n",
       "  <tbody>\n",
       "    <tr>\n",
       "      <th>5614</th>\n",
       "      <td>Nigeria</td>\n",
       "      <td>20</td>\n",
       "      <td>cases</td>\n",
       "      <td>all</td>\n",
       "      <td>0</td>\n",
       "      <td>2015-03-20</td>\n",
       "    </tr>\n",
       "    <tr>\n",
       "      <th>14069</th>\n",
       "      <td>Nigeria</td>\n",
       "      <td>1</td>\n",
       "      <td>cases</td>\n",
       "      <td>probable</td>\n",
       "      <td>0</td>\n",
       "      <td>2015-09-21</td>\n",
       "    </tr>\n",
       "    <tr>\n",
       "      <th>16168</th>\n",
       "      <td>Nigeria</td>\n",
       "      <td>19</td>\n",
       "      <td>cases</td>\n",
       "      <td>confirmed</td>\n",
       "      <td>0</td>\n",
       "      <td>2015-11-11</td>\n",
       "    </tr>\n",
       "  </tbody>\n",
       "</table>\n",
       "</div>"
      ],
      "text/plain": [
       "       country  value outcome     status  days       date\n",
       "5614   Nigeria     20   cases        all     0 2015-03-20\n",
       "14069  Nigeria      1   cases   probable     0 2015-09-21\n",
       "16168  Nigeria     19   cases  confirmed     0 2015-11-11"
      ]
     },
     "execution_count": 234,
     "metadata": {},
     "output_type": "execute_result"
    }
   ],
   "source": [
    "africa_df.sample(3)"
   ]
  },
  {
   "cell_type": "markdown",
   "metadata": {},
   "source": [
    "## Deal with Liberia 2, Guinea 2 -- Drop them"
   ]
  },
  {
   "cell_type": "code",
   "execution_count": 235,
   "metadata": {},
   "outputs": [
    {
     "data": {
      "text/plain": [
       "1470"
      ]
     },
     "execution_count": 235,
     "metadata": {},
     "output_type": "execute_result"
    }
   ],
   "source": [
    "#df[\"A\"][(df[\"B\"] > 50) & (df[\"C\"] == 900)]\n",
    "africa_df[(africa_df['country']==\"Liberia 2\") & (africa_df['outcome']== \"cases\")]['value'].sum()"
   ]
  },
  {
   "cell_type": "code",
   "execution_count": 236,
   "metadata": {},
   "outputs": [],
   "source": [
    "# drop Liberia 2 and Guinea 2\n",
    "africa_df = africa_df[(africa_df['country']!=\"Liberia 2\") & (africa_df['country']!=\"Guinea 2\")]"
   ]
  },
  {
   "cell_type": "code",
   "execution_count": 237,
   "metadata": {},
   "outputs": [],
   "source": [
    "africa_df = africa_df.reset_index(drop=True)"
   ]
  },
  {
   "cell_type": "markdown",
   "metadata": {},
   "source": [
    "## To Lat Long"
   ]
  },
  {
   "cell_type": "code",
   "execution_count": 238,
   "metadata": {},
   "outputs": [],
   "source": [
    "lat = []\n",
    "long = []\n",
    "for i in range(len(africa_df.value)):\n",
    "    lat.append(africa_lat_long[africa_df.country[i]][0])\n",
    "    long.append(africa_lat_long[africa_df.country[i]][1])"
   ]
  },
  {
   "cell_type": "code",
   "execution_count": 239,
   "metadata": {},
   "outputs": [
    {
     "data": {
      "text/plain": [
       "11368"
      ]
     },
     "execution_count": 239,
     "metadata": {},
     "output_type": "execute_result"
    }
   ],
   "source": [
    "len(lat)"
   ]
  },
  {
   "cell_type": "code",
   "execution_count": 240,
   "metadata": {},
   "outputs": [],
   "source": [
    "africa_df['lat'] = lat\n",
    "africa_df['long'] = long"
   ]
  },
  {
   "cell_type": "code",
   "execution_count": 308,
   "metadata": {},
   "outputs": [
    {
     "data": {
      "text/html": [
       "<div>\n",
       "<style scoped>\n",
       "    .dataframe tbody tr th:only-of-type {\n",
       "        vertical-align: middle;\n",
       "    }\n",
       "\n",
       "    .dataframe tbody tr th {\n",
       "        vertical-align: top;\n",
       "    }\n",
       "\n",
       "    .dataframe thead th {\n",
       "        text-align: right;\n",
       "    }\n",
       "</style>\n",
       "<table border=\"1\" class=\"dataframe\">\n",
       "  <thead>\n",
       "    <tr style=\"text-align: right;\">\n",
       "      <th></th>\n",
       "      <th>country</th>\n",
       "      <th>value</th>\n",
       "      <th>outcome</th>\n",
       "      <th>status</th>\n",
       "      <th>days</th>\n",
       "      <th>date</th>\n",
       "      <th>lat</th>\n",
       "      <th>long</th>\n",
       "    </tr>\n",
       "  </thead>\n",
       "  <tbody>\n",
       "    <tr>\n",
       "      <th>384</th>\n",
       "      <td>Nigeria</td>\n",
       "      <td>7</td>\n",
       "      <td>death</td>\n",
       "      <td>confirmed</td>\n",
       "      <td>0</td>\n",
       "      <td>2014-09-26</td>\n",
       "      <td>9.081746</td>\n",
       "      <td>8.675196</td>\n",
       "    </tr>\n",
       "    <tr>\n",
       "      <th>4415</th>\n",
       "      <td>Nigeria</td>\n",
       "      <td>19</td>\n",
       "      <td>cases</td>\n",
       "      <td>confirmed</td>\n",
       "      <td>0</td>\n",
       "      <td>2015-09-09</td>\n",
       "      <td>9.081746</td>\n",
       "      <td>8.675196</td>\n",
       "    </tr>\n",
       "    <tr>\n",
       "      <th>3399</th>\n",
       "      <td>Nigeria</td>\n",
       "      <td>7</td>\n",
       "      <td>death</td>\n",
       "      <td>confirmed</td>\n",
       "      <td>0</td>\n",
       "      <td>2015-07-01</td>\n",
       "      <td>9.081746</td>\n",
       "      <td>8.675196</td>\n",
       "    </tr>\n",
       "    <tr>\n",
       "      <th>3651</th>\n",
       "      <td>Liberia</td>\n",
       "      <td>3151</td>\n",
       "      <td>cases</td>\n",
       "      <td>confirmed</td>\n",
       "      <td>0</td>\n",
       "      <td>2015-07-20</td>\n",
       "      <td>6.426983</td>\n",
       "      <td>-9.429671</td>\n",
       "    </tr>\n",
       "    <tr>\n",
       "      <th>2594</th>\n",
       "      <td>Senegal</td>\n",
       "      <td>0</td>\n",
       "      <td>cases</td>\n",
       "      <td>probable</td>\n",
       "      <td>0</td>\n",
       "      <td>2015-05-07</td>\n",
       "      <td>14.496320</td>\n",
       "      <td>-14.452312</td>\n",
       "    </tr>\n",
       "    <tr>\n",
       "      <th>4541</th>\n",
       "      <td>Nigeria</td>\n",
       "      <td>7</td>\n",
       "      <td>death</td>\n",
       "      <td>confirmed</td>\n",
       "      <td>0</td>\n",
       "      <td>2015-09-17</td>\n",
       "      <td>9.081746</td>\n",
       "      <td>8.675196</td>\n",
       "    </tr>\n",
       "    <tr>\n",
       "      <th>4445</th>\n",
       "      <td>Sierra Leone</td>\n",
       "      <td>8703</td>\n",
       "      <td>cases</td>\n",
       "      <td>confirmed</td>\n",
       "      <td>0</td>\n",
       "      <td>2015-09-11</td>\n",
       "      <td>8.460466</td>\n",
       "      <td>-11.779898</td>\n",
       "    </tr>\n",
       "    <tr>\n",
       "      <th>3822</th>\n",
       "      <td>Mali</td>\n",
       "      <td>1</td>\n",
       "      <td>cases</td>\n",
       "      <td>probable</td>\n",
       "      <td>0</td>\n",
       "      <td>2015-07-30</td>\n",
       "      <td>17.570332</td>\n",
       "      <td>-3.996270</td>\n",
       "    </tr>\n",
       "    <tr>\n",
       "      <th>363</th>\n",
       "      <td>Sierra Leone</td>\n",
       "      <td>34</td>\n",
       "      <td>death</td>\n",
       "      <td>probable</td>\n",
       "      <td>0</td>\n",
       "      <td>2014-09-24</td>\n",
       "      <td>8.460466</td>\n",
       "      <td>-11.779898</td>\n",
       "    </tr>\n",
       "    <tr>\n",
       "      <th>2454</th>\n",
       "      <td>Senegal</td>\n",
       "      <td>0</td>\n",
       "      <td>death</td>\n",
       "      <td>confirmed</td>\n",
       "      <td>0</td>\n",
       "      <td>2015-04-27</td>\n",
       "      <td>14.496320</td>\n",
       "      <td>-14.452312</td>\n",
       "    </tr>\n",
       "  </tbody>\n",
       "</table>\n",
       "</div>"
      ],
      "text/plain": [
       "           country  value outcome     status  days       date        lat  \\\n",
       "384        Nigeria      7   death  confirmed     0 2014-09-26   9.081746   \n",
       "4415       Nigeria     19   cases  confirmed     0 2015-09-09   9.081746   \n",
       "3399       Nigeria      7   death  confirmed     0 2015-07-01   9.081746   \n",
       "3651       Liberia   3151   cases  confirmed     0 2015-07-20   6.426983   \n",
       "2594       Senegal      0   cases   probable     0 2015-05-07  14.496320   \n",
       "4541       Nigeria      7   death  confirmed     0 2015-09-17   9.081746   \n",
       "4445  Sierra Leone   8703   cases  confirmed     0 2015-09-11   8.460466   \n",
       "3822          Mali      1   cases   probable     0 2015-07-30  17.570332   \n",
       "363   Sierra Leone     34   death   probable     0 2014-09-24   8.460466   \n",
       "2454       Senegal      0   death  confirmed     0 2015-04-27  14.496320   \n",
       "\n",
       "           long  \n",
       "384    8.675196  \n",
       "4415   8.675196  \n",
       "3399   8.675196  \n",
       "3651  -9.429671  \n",
       "2594 -14.452312  \n",
       "4541   8.675196  \n",
       "4445 -11.779898  \n",
       "3822  -3.996270  \n",
       "363  -11.779898  \n",
       "2454 -14.452312  "
      ]
     },
     "execution_count": 308,
     "metadata": {},
     "output_type": "execute_result"
    }
   ],
   "source": [
    "africa_df.sample(10)"
   ]
  },
  {
   "cell_type": "markdown",
   "metadata": {},
   "source": [
    "# What are we counting?"
   ]
  },
  {
   "cell_type": "markdown",
   "metadata": {},
   "source": [
    "Confirmed and probable for cases and death - 2 data points per country/date"
   ]
  },
  {
   "cell_type": "code",
   "execution_count": 242,
   "metadata": {},
   "outputs": [
    {
     "data": {
      "text/plain": [
       "array(['confirmed', 'probable', 'suspected', 'all'], dtype=object)"
      ]
     },
     "execution_count": 242,
     "metadata": {},
     "output_type": "execute_result"
    }
   ],
   "source": [
    "africa_df['status'].unique()"
   ]
  },
  {
   "cell_type": "code",
   "execution_count": 243,
   "metadata": {},
   "outputs": [],
   "source": [
    "africa_df = africa_df[(africa_df['status']==\"confirmed\") | (africa_df['status']==\"probable\")]"
   ]
  },
  {
   "cell_type": "code",
   "execution_count": 247,
   "metadata": {},
   "outputs": [],
   "source": [
    "africa_df = africa_df.reset_index(drop=True)"
   ]
  },
  {
   "cell_type": "code",
   "execution_count": 311,
   "metadata": {},
   "outputs": [
    {
     "data": {
      "text/html": [
       "<div>\n",
       "<style scoped>\n",
       "    .dataframe tbody tr th:only-of-type {\n",
       "        vertical-align: middle;\n",
       "    }\n",
       "\n",
       "    .dataframe tbody tr th {\n",
       "        vertical-align: top;\n",
       "    }\n",
       "\n",
       "    .dataframe thead th {\n",
       "        text-align: right;\n",
       "    }\n",
       "</style>\n",
       "<table border=\"1\" class=\"dataframe\">\n",
       "  <thead>\n",
       "    <tr style=\"text-align: right;\">\n",
       "      <th></th>\n",
       "      <th>country</th>\n",
       "      <th>value</th>\n",
       "      <th>outcome</th>\n",
       "      <th>status</th>\n",
       "      <th>days</th>\n",
       "      <th>date</th>\n",
       "      <th>lat</th>\n",
       "      <th>long</th>\n",
       "    </tr>\n",
       "  </thead>\n",
       "  <tbody>\n",
       "    <tr>\n",
       "      <th>3831</th>\n",
       "      <td>Sierra Leone</td>\n",
       "      <td>287</td>\n",
       "      <td>cases</td>\n",
       "      <td>probable</td>\n",
       "      <td>0</td>\n",
       "      <td>2015-07-31</td>\n",
       "      <td>8.460466</td>\n",
       "      <td>-11.779898</td>\n",
       "    </tr>\n",
       "    <tr>\n",
       "      <th>4108</th>\n",
       "      <td>Mali</td>\n",
       "      <td>1</td>\n",
       "      <td>cases</td>\n",
       "      <td>probable</td>\n",
       "      <td>0</td>\n",
       "      <td>2015-08-19</td>\n",
       "      <td>17.570332</td>\n",
       "      <td>-3.996270</td>\n",
       "    </tr>\n",
       "    <tr>\n",
       "      <th>4774</th>\n",
       "      <td>Guinea</td>\n",
       "      <td>2081</td>\n",
       "      <td>death</td>\n",
       "      <td>confirmed</td>\n",
       "      <td>0</td>\n",
       "      <td>2015-10-05</td>\n",
       "      <td>9.935430</td>\n",
       "      <td>-9.695052</td>\n",
       "    </tr>\n",
       "    <tr>\n",
       "      <th>2330</th>\n",
       "      <td>Nigeria</td>\n",
       "      <td>1</td>\n",
       "      <td>death</td>\n",
       "      <td>probable</td>\n",
       "      <td>0</td>\n",
       "      <td>2015-04-17</td>\n",
       "      <td>9.081746</td>\n",
       "      <td>8.675196</td>\n",
       "    </tr>\n",
       "    <tr>\n",
       "      <th>1928</th>\n",
       "      <td>Sierra Leone</td>\n",
       "      <td>287</td>\n",
       "      <td>cases</td>\n",
       "      <td>probable</td>\n",
       "      <td>0</td>\n",
       "      <td>2015-03-10</td>\n",
       "      <td>8.460466</td>\n",
       "      <td>-11.779898</td>\n",
       "    </tr>\n",
       "    <tr>\n",
       "      <th>3448</th>\n",
       "      <td>Sierra Leone</td>\n",
       "      <td>8673</td>\n",
       "      <td>cases</td>\n",
       "      <td>confirmed</td>\n",
       "      <td>0</td>\n",
       "      <td>2015-07-06</td>\n",
       "      <td>8.460466</td>\n",
       "      <td>-11.779898</td>\n",
       "    </tr>\n",
       "    <tr>\n",
       "      <th>4243</th>\n",
       "      <td>Guinea</td>\n",
       "      <td>2076</td>\n",
       "      <td>death</td>\n",
       "      <td>confirmed</td>\n",
       "      <td>0</td>\n",
       "      <td>2015-08-28</td>\n",
       "      <td>9.935430</td>\n",
       "      <td>-9.695052</td>\n",
       "    </tr>\n",
       "    <tr>\n",
       "      <th>2118</th>\n",
       "      <td>Mali</td>\n",
       "      <td>1</td>\n",
       "      <td>cases</td>\n",
       "      <td>probable</td>\n",
       "      <td>0</td>\n",
       "      <td>2015-03-24</td>\n",
       "      <td>17.570332</td>\n",
       "      <td>-3.996270</td>\n",
       "    </tr>\n",
       "    <tr>\n",
       "      <th>306</th>\n",
       "      <td>Guinea</td>\n",
       "      <td>435</td>\n",
       "      <td>death</td>\n",
       "      <td>confirmed</td>\n",
       "      <td>0</td>\n",
       "      <td>2014-09-18</td>\n",
       "      <td>9.935430</td>\n",
       "      <td>-9.695052</td>\n",
       "    </tr>\n",
       "    <tr>\n",
       "      <th>1145</th>\n",
       "      <td>Guinea</td>\n",
       "      <td>344</td>\n",
       "      <td>cases</td>\n",
       "      <td>confirmed</td>\n",
       "      <td>21</td>\n",
       "      <td>2015-01-07</td>\n",
       "      <td>9.935430</td>\n",
       "      <td>-9.695052</td>\n",
       "    </tr>\n",
       "  </tbody>\n",
       "</table>\n",
       "</div>"
      ],
      "text/plain": [
       "           country  value outcome     status  days       date        lat  \\\n",
       "3831  Sierra Leone    287   cases   probable     0 2015-07-31   8.460466   \n",
       "4108          Mali      1   cases   probable     0 2015-08-19  17.570332   \n",
       "4774        Guinea   2081   death  confirmed     0 2015-10-05   9.935430   \n",
       "2330       Nigeria      1   death   probable     0 2015-04-17   9.081746   \n",
       "1928  Sierra Leone    287   cases   probable     0 2015-03-10   8.460466   \n",
       "3448  Sierra Leone   8673   cases  confirmed     0 2015-07-06   8.460466   \n",
       "4243        Guinea   2076   death  confirmed     0 2015-08-28   9.935430   \n",
       "2118          Mali      1   cases   probable     0 2015-03-24  17.570332   \n",
       "306         Guinea    435   death  confirmed     0 2014-09-18   9.935430   \n",
       "1145        Guinea    344   cases  confirmed    21 2015-01-07   9.935430   \n",
       "\n",
       "           long  \n",
       "3831 -11.779898  \n",
       "4108  -3.996270  \n",
       "4774  -9.695052  \n",
       "2330   8.675196  \n",
       "1928 -11.779898  \n",
       "3448 -11.779898  \n",
       "4243  -9.695052  \n",
       "2118  -3.996270  \n",
       "306   -9.695052  \n",
       "1145  -9.695052  "
      ]
     },
     "execution_count": 311,
     "metadata": {},
     "output_type": "execute_result"
    }
   ],
   "source": [
    "africa_df.sample(10)"
   ]
  },
  {
   "cell_type": "markdown",
   "metadata": {},
   "source": [
    "## split up days series"
   ]
  },
  {
   "cell_type": "code",
   "execution_count": 249,
   "metadata": {},
   "outputs": [
    {
     "data": {
      "text/plain": [
       "array([ 0, 21,  7])"
      ]
     },
     "execution_count": 249,
     "metadata": {},
     "output_type": "execute_result"
    }
   ],
   "source": [
    "africa_df['days'].unique()"
   ]
  },
  {
   "cell_type": "code",
   "execution_count": 255,
   "metadata": {},
   "outputs": [],
   "source": [
    "#split up to different data frames"
   ]
  },
  {
   "cell_type": "code",
   "execution_count": 254,
   "metadata": {},
   "outputs": [
    {
     "data": {
      "text/plain": [
       "(5187, 8)"
      ]
     },
     "execution_count": 254,
     "metadata": {},
     "output_type": "execute_result"
    }
   ],
   "source": [
    "africa_df_0 = africa_df[(africa_df['days']==0)]\n",
    "africa_df_0.shape"
   ]
  },
  {
   "cell_type": "code",
   "execution_count": 256,
   "metadata": {},
   "outputs": [
    {
     "data": {
      "text/plain": [
       "(24, 8)"
      ]
     },
     "execution_count": 256,
     "metadata": {},
     "output_type": "execute_result"
    }
   ],
   "source": [
    "africa_df_7 = africa_df[(africa_df['days']==7)]\n",
    "africa_df_7.shape"
   ]
  },
  {
   "cell_type": "code",
   "execution_count": 257,
   "metadata": {},
   "outputs": [
    {
     "data": {
      "text/plain": [
       "(350, 8)"
      ]
     },
     "execution_count": 257,
     "metadata": {},
     "output_type": "execute_result"
    }
   ],
   "source": [
    "africa_df_21 = africa_df[(africa_df['days']==21)]\n",
    "africa_df_21.shape"
   ]
  },
  {
   "cell_type": "markdown",
   "metadata": {},
   "source": [
    "## sum up confirmed and probable"
   ]
  },
  {
   "cell_type": "code",
   "execution_count": 279,
   "metadata": {},
   "outputs": [],
   "source": [
    "africa_df_0_sorting = africa_df_0[(africa_df_0['outcome']!='CFR')]"
   ]
  },
  {
   "cell_type": "code",
   "execution_count": 288,
   "metadata": {},
   "outputs": [],
   "source": [
    "africa_df_0_sorting = africa_df_0_sorting.drop('days',axis=1)"
   ]
  },
  {
   "cell_type": "code",
   "execution_count": 289,
   "metadata": {},
   "outputs": [
    {
     "data": {
      "text/html": [
       "<div>\n",
       "<style scoped>\n",
       "    .dataframe tbody tr th:only-of-type {\n",
       "        vertical-align: middle;\n",
       "    }\n",
       "\n",
       "    .dataframe tbody tr th {\n",
       "        vertical-align: top;\n",
       "    }\n",
       "\n",
       "    .dataframe thead th {\n",
       "        text-align: right;\n",
       "    }\n",
       "</style>\n",
       "<table border=\"1\" class=\"dataframe\">\n",
       "  <thead>\n",
       "    <tr style=\"text-align: right;\">\n",
       "      <th></th>\n",
       "      <th>country</th>\n",
       "      <th>value</th>\n",
       "      <th>outcome</th>\n",
       "      <th>status</th>\n",
       "      <th>date</th>\n",
       "      <th>lat</th>\n",
       "      <th>long</th>\n",
       "    </tr>\n",
       "  </thead>\n",
       "  <tbody>\n",
       "    <tr>\n",
       "      <th>0</th>\n",
       "      <td>Guinea</td>\n",
       "      <td>482</td>\n",
       "      <td>cases</td>\n",
       "      <td>confirmed</td>\n",
       "      <td>2014-08-29</td>\n",
       "      <td>9.935430</td>\n",
       "      <td>-9.695052</td>\n",
       "    </tr>\n",
       "    <tr>\n",
       "      <th>1</th>\n",
       "      <td>Guinea</td>\n",
       "      <td>141</td>\n",
       "      <td>cases</td>\n",
       "      <td>probable</td>\n",
       "      <td>2014-08-29</td>\n",
       "      <td>9.935430</td>\n",
       "      <td>-9.695052</td>\n",
       "    </tr>\n",
       "    <tr>\n",
       "      <th>2</th>\n",
       "      <td>Liberia</td>\n",
       "      <td>322</td>\n",
       "      <td>cases</td>\n",
       "      <td>confirmed</td>\n",
       "      <td>2014-08-29</td>\n",
       "      <td>6.426983</td>\n",
       "      <td>-9.429671</td>\n",
       "    </tr>\n",
       "    <tr>\n",
       "      <th>3</th>\n",
       "      <td>Liberia</td>\n",
       "      <td>674</td>\n",
       "      <td>cases</td>\n",
       "      <td>probable</td>\n",
       "      <td>2014-08-29</td>\n",
       "      <td>6.426983</td>\n",
       "      <td>-9.429671</td>\n",
       "    </tr>\n",
       "    <tr>\n",
       "      <th>4</th>\n",
       "      <td>Sierra Leone</td>\n",
       "      <td>935</td>\n",
       "      <td>cases</td>\n",
       "      <td>confirmed</td>\n",
       "      <td>2014-08-29</td>\n",
       "      <td>8.460466</td>\n",
       "      <td>-11.779898</td>\n",
       "    </tr>\n",
       "    <tr>\n",
       "      <th>5</th>\n",
       "      <td>Sierra Leone</td>\n",
       "      <td>37</td>\n",
       "      <td>cases</td>\n",
       "      <td>probable</td>\n",
       "      <td>2014-08-29</td>\n",
       "      <td>8.460466</td>\n",
       "      <td>-11.779898</td>\n",
       "    </tr>\n",
       "  </tbody>\n",
       "</table>\n",
       "</div>"
      ],
      "text/plain": [
       "        country  value outcome     status       date       lat       long\n",
       "0        Guinea    482   cases  confirmed 2014-08-29  9.935430  -9.695052\n",
       "1        Guinea    141   cases   probable 2014-08-29  9.935430  -9.695052\n",
       "2       Liberia    322   cases  confirmed 2014-08-29  6.426983  -9.429671\n",
       "3       Liberia    674   cases   probable 2014-08-29  6.426983  -9.429671\n",
       "4  Sierra Leone    935   cases  confirmed 2014-08-29  8.460466 -11.779898\n",
       "5  Sierra Leone     37   cases   probable 2014-08-29  8.460466 -11.779898"
      ]
     },
     "execution_count": 289,
     "metadata": {},
     "output_type": "execute_result"
    }
   ],
   "source": [
    "africa_df_0_sorting.head(6)"
   ]
  },
  {
   "cell_type": "code",
   "execution_count": 291,
   "metadata": {},
   "outputs": [],
   "source": [
    "africa_sorted = africa_df_0_sorting.groupby(['country','lat','long','outcome','date']).sum()"
   ]
  },
  {
   "cell_type": "code",
   "execution_count": 295,
   "metadata": {},
   "outputs": [],
   "source": [
    "africa_sorted = africa_sorted.reset_index()"
   ]
  },
  {
   "cell_type": "code",
   "execution_count": 318,
   "metadata": {},
   "outputs": [],
   "source": [
    "africa_sorted.to_csv(\"data/africa_sorted.csv\")"
   ]
  },
  {
   "cell_type": "markdown",
   "metadata": {},
   "source": [
    "# Make JSON sorted by each country, each bubble"
   ]
  },
  {
   "cell_type": "code",
   "execution_count": 323,
   "metadata": {},
   "outputs": [],
   "source": [
    "countries = list(africa_sorted.country.unique())"
   ]
  },
  {
   "cell_type": "code",
   "execution_count": 324,
   "metadata": {},
   "outputs": [],
   "source": [
    "dates = list(africa_sorted.date.unique())"
   ]
  },
  {
   "cell_type": "code",
   "execution_count": 434,
   "metadata": {},
   "outputs": [],
   "source": [
    "outcomes = list(africa_sorted.outcome.unique())"
   ]
  },
  {
   "cell_type": "code",
   "execution_count": 458,
   "metadata": {},
   "outputs": [],
   "source": [
    "myData = []"
   ]
  },
  {
   "cell_type": "code",
   "execution_count": 454,
   "metadata": {},
   "outputs": [],
   "source": [
    "for outs in outcomes:\n",
    "    for place in countries:\n",
    "        newDict = {}\n",
    "        for i in range(len(dates)):\n",
    "            newValue = africa_sorted[(africa_sorted['country']==place)&(africa_sorted['outcome']==outs)\n",
    "                      &(africa_sorted['date']==dates[i])]\n",
    "            if newValue.shape[0] == 0:\n",
    "                newValue = 0\n",
    "            else:\n",
    "                store = newValue\n",
    "                newValue = int(newValue.iloc[0,5])\n",
    "            newDate = str(dates[i])[:10]\n",
    "            newDict[newDate] = newValue\n",
    "        newDict['country'] = place\n",
    "        newDict['lat'] = float(store.iloc[0,1])\n",
    "        newDict['long'] = float(store.iloc[0,2])\n",
    "        newDict['outcome'] = str(store.iloc[0,3])\n",
    "        myData.append(newDict)"
   ]
  },
  {
   "cell_type": "code",
   "execution_count": 457,
   "metadata": {},
   "outputs": [],
   "source": [
    "# patient zero\n",
    "# https://www.livescience.com/48527-ebola-toddler-patient-zero.html\n",
    "newDict = {}\n",
    "newDict['country'] = 'Guinea'\n",
    "newDict['lat'] = 8.615048\n",
    "newDict['long'] = -10.061007\n",
    "newDict['outcome'] = \"patient zero\"\n",
    "newDict['2013-12-06'] = 1\n",
    "myData.append(newDict)"
   ]
  },
  {
   "cell_type": "code",
   "execution_count": 456,
   "metadata": {},
   "outputs": [],
   "source": [
    "import json\n",
    "with open('data/ebolaData.txt', 'w') as outfile:\n",
    "    json.dump(myData, outfile)"
   ]
  },
  {
   "cell_type": "markdown",
   "metadata": {},
   "source": [
    "# Make dataframe for data"
   ]
  },
  {
   "cell_type": "code",
   "execution_count": 474,
   "metadata": {},
   "outputs": [],
   "source": [
    "strDates = []\n",
    "for i in range(len(dates)):\n",
    "    a = str(dates[i])[:10]\n",
    "    strDates.append(a)"
   ]
  },
  {
   "cell_type": "code",
   "execution_count": 476,
   "metadata": {},
   "outputs": [],
   "source": [
    "columns = ['country','lat','long','outcome'] + strDates"
   ]
  },
  {
   "cell_type": "code",
   "execution_count": 490,
   "metadata": {},
   "outputs": [],
   "source": [
    "df_new = pd.DataFrame(columns = columns)"
   ]
  },
  {
   "cell_type": "code",
   "execution_count": 491,
   "metadata": {},
   "outputs": [],
   "source": [
    "for outs in outcomes:\n",
    "    for place in countries:\n",
    "        newList = []\n",
    "        newList1 = []\n",
    "        for i in range(len(dates)):\n",
    "            newValue = africa_sorted[(africa_sorted['country']==place)&(africa_sorted['outcome']==outs)\n",
    "                      &(africa_sorted['date']==dates[i])]\n",
    "            if newValue.shape[0] == 0:\n",
    "                newValue = 0\n",
    "            else:\n",
    "                store = newValue\n",
    "                newValue = int(newValue.iloc[0,5])\n",
    "            newList.append(newValue)\n",
    "        newList1.append(place)\n",
    "        newList1.append(float(store.iloc[0,1]))\n",
    "        newList1.append(float(store.iloc[0,2]))\n",
    "        newList1.append(str(store.iloc[0,3]))\n",
    "        newList = newList1 + newList\n",
    "        \n",
    "        df_new = df_new.append(pd.Series(newList, index=columns), ignore_index=True)\n",
    "        "
   ]
  },
  {
   "cell_type": "code",
   "execution_count": 492,
   "metadata": {},
   "outputs": [
    {
     "data": {
      "text/html": [
       "<div>\n",
       "<style scoped>\n",
       "    .dataframe tbody tr th:only-of-type {\n",
       "        vertical-align: middle;\n",
       "    }\n",
       "\n",
       "    .dataframe tbody tr th {\n",
       "        vertical-align: top;\n",
       "    }\n",
       "\n",
       "    .dataframe thead th {\n",
       "        text-align: right;\n",
       "    }\n",
       "</style>\n",
       "<table border=\"1\" class=\"dataframe\">\n",
       "  <thead>\n",
       "    <tr style=\"text-align: right;\">\n",
       "      <th></th>\n",
       "      <th>country</th>\n",
       "      <th>lat</th>\n",
       "      <th>long</th>\n",
       "      <th>outcome</th>\n",
       "      <th>2014-08-29</th>\n",
       "      <th>2014-09-05</th>\n",
       "      <th>2014-09-08</th>\n",
       "      <th>2014-09-12</th>\n",
       "      <th>2014-09-16</th>\n",
       "      <th>2014-09-18</th>\n",
       "      <th>...</th>\n",
       "      <th>2015-12-09</th>\n",
       "      <th>2015-12-10</th>\n",
       "      <th>2015-12-11</th>\n",
       "      <th>2015-12-15</th>\n",
       "      <th>2015-12-16</th>\n",
       "      <th>2015-12-17</th>\n",
       "      <th>2015-12-22</th>\n",
       "      <th>2015-12-23</th>\n",
       "      <th>2015-12-29</th>\n",
       "      <th>2016-03-23</th>\n",
       "    </tr>\n",
       "  </thead>\n",
       "  <tbody>\n",
       "    <tr>\n",
       "      <th>0</th>\n",
       "      <td>Guinea</td>\n",
       "      <td>9.935430</td>\n",
       "      <td>-9.695052</td>\n",
       "      <td>cases</td>\n",
       "      <td>623</td>\n",
       "      <td>756</td>\n",
       "      <td>815</td>\n",
       "      <td>829</td>\n",
       "      <td>905</td>\n",
       "      <td>912</td>\n",
       "      <td>...</td>\n",
       "      <td>3804</td>\n",
       "      <td>3804</td>\n",
       "      <td>3804</td>\n",
       "      <td>3804</td>\n",
       "      <td>3804</td>\n",
       "      <td>3804</td>\n",
       "      <td>3804</td>\n",
       "      <td>3804</td>\n",
       "      <td>3804</td>\n",
       "      <td>3804</td>\n",
       "    </tr>\n",
       "    <tr>\n",
       "      <th>1</th>\n",
       "      <td>Liberia</td>\n",
       "      <td>6.426983</td>\n",
       "      <td>-9.429671</td>\n",
       "      <td>cases</td>\n",
       "      <td>996</td>\n",
       "      <td>1502</td>\n",
       "      <td>1603</td>\n",
       "      <td>1628</td>\n",
       "      <td>1868</td>\n",
       "      <td>2045</td>\n",
       "      <td>...</td>\n",
       "      <td>5030</td>\n",
       "      <td>5030</td>\n",
       "      <td>5030</td>\n",
       "      <td>5030</td>\n",
       "      <td>5030</td>\n",
       "      <td>5030</td>\n",
       "      <td>5030</td>\n",
       "      <td>5030</td>\n",
       "      <td>5030</td>\n",
       "      <td>5030</td>\n",
       "    </tr>\n",
       "    <tr>\n",
       "      <th>2</th>\n",
       "      <td>Mali</td>\n",
       "      <td>17.570332</td>\n",
       "      <td>-3.996270</td>\n",
       "      <td>cases</td>\n",
       "      <td>0</td>\n",
       "      <td>0</td>\n",
       "      <td>0</td>\n",
       "      <td>0</td>\n",
       "      <td>0</td>\n",
       "      <td>0</td>\n",
       "      <td>...</td>\n",
       "      <td>8</td>\n",
       "      <td>8</td>\n",
       "      <td>8</td>\n",
       "      <td>8</td>\n",
       "      <td>8</td>\n",
       "      <td>8</td>\n",
       "      <td>8</td>\n",
       "      <td>8</td>\n",
       "      <td>8</td>\n",
       "      <td>8</td>\n",
       "    </tr>\n",
       "    <tr>\n",
       "      <th>3</th>\n",
       "      <td>Nigeria</td>\n",
       "      <td>9.081746</td>\n",
       "      <td>8.675196</td>\n",
       "      <td>cases</td>\n",
       "      <td>16</td>\n",
       "      <td>19</td>\n",
       "      <td>20</td>\n",
       "      <td>20</td>\n",
       "      <td>20</td>\n",
       "      <td>20</td>\n",
       "      <td>...</td>\n",
       "      <td>20</td>\n",
       "      <td>20</td>\n",
       "      <td>20</td>\n",
       "      <td>20</td>\n",
       "      <td>20</td>\n",
       "      <td>20</td>\n",
       "      <td>20</td>\n",
       "      <td>20</td>\n",
       "      <td>20</td>\n",
       "      <td>20</td>\n",
       "    </tr>\n",
       "    <tr>\n",
       "      <th>4</th>\n",
       "      <td>Senegal</td>\n",
       "      <td>14.496320</td>\n",
       "      <td>-14.452312</td>\n",
       "      <td>cases</td>\n",
       "      <td>0</td>\n",
       "      <td>1</td>\n",
       "      <td>1</td>\n",
       "      <td>1</td>\n",
       "      <td>1</td>\n",
       "      <td>1</td>\n",
       "      <td>...</td>\n",
       "      <td>1</td>\n",
       "      <td>1</td>\n",
       "      <td>1</td>\n",
       "      <td>1</td>\n",
       "      <td>1</td>\n",
       "      <td>1</td>\n",
       "      <td>1</td>\n",
       "      <td>1</td>\n",
       "      <td>1</td>\n",
       "      <td>1</td>\n",
       "    </tr>\n",
       "    <tr>\n",
       "      <th>5</th>\n",
       "      <td>Sierra Leone</td>\n",
       "      <td>8.460466</td>\n",
       "      <td>-11.779898</td>\n",
       "      <td>cases</td>\n",
       "      <td>972</td>\n",
       "      <td>1183</td>\n",
       "      <td>1271</td>\n",
       "      <td>1324</td>\n",
       "      <td>1501</td>\n",
       "      <td>1550</td>\n",
       "      <td>...</td>\n",
       "      <td>8991</td>\n",
       "      <td>8991</td>\n",
       "      <td>8991</td>\n",
       "      <td>8991</td>\n",
       "      <td>8991</td>\n",
       "      <td>8991</td>\n",
       "      <td>8991</td>\n",
       "      <td>8991</td>\n",
       "      <td>8991</td>\n",
       "      <td>8991</td>\n",
       "    </tr>\n",
       "    <tr>\n",
       "      <th>6</th>\n",
       "      <td>Guinea</td>\n",
       "      <td>9.935430</td>\n",
       "      <td>-9.695052</td>\n",
       "      <td>death</td>\n",
       "      <td>428</td>\n",
       "      <td>514</td>\n",
       "      <td>551</td>\n",
       "      <td>553</td>\n",
       "      <td>591</td>\n",
       "      <td>596</td>\n",
       "      <td>...</td>\n",
       "      <td>2536</td>\n",
       "      <td>2536</td>\n",
       "      <td>2536</td>\n",
       "      <td>2536</td>\n",
       "      <td>2536</td>\n",
       "      <td>2536</td>\n",
       "      <td>2536</td>\n",
       "      <td>2536</td>\n",
       "      <td>2536</td>\n",
       "      <td>2536</td>\n",
       "    </tr>\n",
       "    <tr>\n",
       "      <th>7</th>\n",
       "      <td>Liberia</td>\n",
       "      <td>6.426983</td>\n",
       "      <td>-9.429671</td>\n",
       "      <td>death</td>\n",
       "      <td>526</td>\n",
       "      <td>832</td>\n",
       "      <td>928</td>\n",
       "      <td>926</td>\n",
       "      <td>1035</td>\n",
       "      <td>1149</td>\n",
       "      <td>...</td>\n",
       "      <td>0</td>\n",
       "      <td>0</td>\n",
       "      <td>0</td>\n",
       "      <td>0</td>\n",
       "      <td>0</td>\n",
       "      <td>0</td>\n",
       "      <td>0</td>\n",
       "      <td>0</td>\n",
       "      <td>0</td>\n",
       "      <td>0</td>\n",
       "    </tr>\n",
       "    <tr>\n",
       "      <th>8</th>\n",
       "      <td>Mali</td>\n",
       "      <td>17.570332</td>\n",
       "      <td>-3.996270</td>\n",
       "      <td>death</td>\n",
       "      <td>0</td>\n",
       "      <td>0</td>\n",
       "      <td>0</td>\n",
       "      <td>0</td>\n",
       "      <td>0</td>\n",
       "      <td>0</td>\n",
       "      <td>...</td>\n",
       "      <td>0</td>\n",
       "      <td>0</td>\n",
       "      <td>0</td>\n",
       "      <td>0</td>\n",
       "      <td>0</td>\n",
       "      <td>0</td>\n",
       "      <td>0</td>\n",
       "      <td>0</td>\n",
       "      <td>0</td>\n",
       "      <td>0</td>\n",
       "    </tr>\n",
       "    <tr>\n",
       "      <th>9</th>\n",
       "      <td>Nigeria</td>\n",
       "      <td>9.081746</td>\n",
       "      <td>8.675196</td>\n",
       "      <td>death</td>\n",
       "      <td>7</td>\n",
       "      <td>8</td>\n",
       "      <td>8</td>\n",
       "      <td>8</td>\n",
       "      <td>8</td>\n",
       "      <td>8</td>\n",
       "      <td>...</td>\n",
       "      <td>8</td>\n",
       "      <td>8</td>\n",
       "      <td>8</td>\n",
       "      <td>8</td>\n",
       "      <td>8</td>\n",
       "      <td>8</td>\n",
       "      <td>8</td>\n",
       "      <td>8</td>\n",
       "      <td>8</td>\n",
       "      <td>8</td>\n",
       "    </tr>\n",
       "    <tr>\n",
       "      <th>10</th>\n",
       "      <td>Senegal</td>\n",
       "      <td>14.496320</td>\n",
       "      <td>-14.452312</td>\n",
       "      <td>death</td>\n",
       "      <td>0</td>\n",
       "      <td>0</td>\n",
       "      <td>0</td>\n",
       "      <td>0</td>\n",
       "      <td>0</td>\n",
       "      <td>0</td>\n",
       "      <td>...</td>\n",
       "      <td>0</td>\n",
       "      <td>0</td>\n",
       "      <td>0</td>\n",
       "      <td>0</td>\n",
       "      <td>0</td>\n",
       "      <td>0</td>\n",
       "      <td>0</td>\n",
       "      <td>0</td>\n",
       "      <td>0</td>\n",
       "      <td>0</td>\n",
       "    </tr>\n",
       "    <tr>\n",
       "      <th>11</th>\n",
       "      <td>Sierra Leone</td>\n",
       "      <td>8.460466</td>\n",
       "      <td>-11.779898</td>\n",
       "      <td>death</td>\n",
       "      <td>414</td>\n",
       "      <td>480</td>\n",
       "      <td>498</td>\n",
       "      <td>512</td>\n",
       "      <td>551</td>\n",
       "      <td>551</td>\n",
       "      <td>...</td>\n",
       "      <td>3797</td>\n",
       "      <td>3797</td>\n",
       "      <td>3797</td>\n",
       "      <td>3797</td>\n",
       "      <td>3797</td>\n",
       "      <td>3797</td>\n",
       "      <td>3797</td>\n",
       "      <td>3797</td>\n",
       "      <td>3797</td>\n",
       "      <td>3797</td>\n",
       "    </tr>\n",
       "  </tbody>\n",
       "</table>\n",
       "<p>12 rows × 263 columns</p>\n",
       "</div>"
      ],
      "text/plain": [
       "         country        lat       long outcome 2014-08-29 2014-09-05  \\\n",
       "0         Guinea   9.935430  -9.695052   cases        623        756   \n",
       "1        Liberia   6.426983  -9.429671   cases        996       1502   \n",
       "2           Mali  17.570332  -3.996270   cases          0          0   \n",
       "3        Nigeria   9.081746   8.675196   cases         16         19   \n",
       "4        Senegal  14.496320 -14.452312   cases          0          1   \n",
       "5   Sierra Leone   8.460466 -11.779898   cases        972       1183   \n",
       "6         Guinea   9.935430  -9.695052   death        428        514   \n",
       "7        Liberia   6.426983  -9.429671   death        526        832   \n",
       "8           Mali  17.570332  -3.996270   death          0          0   \n",
       "9        Nigeria   9.081746   8.675196   death          7          8   \n",
       "10       Senegal  14.496320 -14.452312   death          0          0   \n",
       "11  Sierra Leone   8.460466 -11.779898   death        414        480   \n",
       "\n",
       "   2014-09-08 2014-09-12 2014-09-16 2014-09-18    ...     2015-12-09  \\\n",
       "0         815        829        905        912    ...           3804   \n",
       "1        1603       1628       1868       2045    ...           5030   \n",
       "2           0          0          0          0    ...              8   \n",
       "3          20         20         20         20    ...             20   \n",
       "4           1          1          1          1    ...              1   \n",
       "5        1271       1324       1501       1550    ...           8991   \n",
       "6         551        553        591        596    ...           2536   \n",
       "7         928        926       1035       1149    ...              0   \n",
       "8           0          0          0          0    ...              0   \n",
       "9           8          8          8          8    ...              8   \n",
       "10          0          0          0          0    ...              0   \n",
       "11        498        512        551        551    ...           3797   \n",
       "\n",
       "   2015-12-10 2015-12-11 2015-12-15 2015-12-16 2015-12-17 2015-12-22  \\\n",
       "0        3804       3804       3804       3804       3804       3804   \n",
       "1        5030       5030       5030       5030       5030       5030   \n",
       "2           8          8          8          8          8          8   \n",
       "3          20         20         20         20         20         20   \n",
       "4           1          1          1          1          1          1   \n",
       "5        8991       8991       8991       8991       8991       8991   \n",
       "6        2536       2536       2536       2536       2536       2536   \n",
       "7           0          0          0          0          0          0   \n",
       "8           0          0          0          0          0          0   \n",
       "9           8          8          8          8          8          8   \n",
       "10          0          0          0          0          0          0   \n",
       "11       3797       3797       3797       3797       3797       3797   \n",
       "\n",
       "   2015-12-23 2015-12-29 2016-03-23  \n",
       "0        3804       3804       3804  \n",
       "1        5030       5030       5030  \n",
       "2           8          8          8  \n",
       "3          20         20         20  \n",
       "4           1          1          1  \n",
       "5        8991       8991       8991  \n",
       "6        2536       2536       2536  \n",
       "7           0          0          0  \n",
       "8           0          0          0  \n",
       "9           8          8          8  \n",
       "10          0          0          0  \n",
       "11       3797       3797       3797  \n",
       "\n",
       "[12 rows x 263 columns]"
      ]
     },
     "execution_count": 492,
     "metadata": {},
     "output_type": "execute_result"
    }
   ],
   "source": [
    "df_new"
   ]
  },
  {
   "cell_type": "code",
   "execution_count": 493,
   "metadata": {},
   "outputs": [],
   "source": [
    "df_new.to_csv(\"data/africa_d3.csv\")"
   ]
  }
 ],
 "metadata": {
  "kernelspec": {
   "display_name": "Python 3",
   "language": "python",
   "name": "python3"
  },
  "language_info": {
   "codemirror_mode": {
    "name": "ipython",
    "version": 3
   },
   "file_extension": ".py",
   "mimetype": "text/x-python",
   "name": "python",
   "nbconvert_exporter": "python",
   "pygments_lexer": "ipython3",
   "version": "3.6.4"
  },
  "toc": {
   "base_numbering": 1,
   "nav_menu": {},
   "number_sections": true,
   "sideBar": true,
   "skip_h1_title": false,
   "title_cell": "Table of Contents",
   "title_sidebar": "Contents",
   "toc_cell": false,
   "toc_position": {},
   "toc_section_display": true,
   "toc_window_display": false
  }
 },
 "nbformat": 4,
 "nbformat_minor": 2
}
