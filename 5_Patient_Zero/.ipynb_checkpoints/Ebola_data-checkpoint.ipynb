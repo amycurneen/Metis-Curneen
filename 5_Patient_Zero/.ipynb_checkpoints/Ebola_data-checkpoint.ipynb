{
 "cells": [
  {
   "cell_type": "markdown",
   "metadata": {},
   "source": [
    "# Setup"
   ]
  },
  {
   "cell_type": "code",
   "execution_count": 149,
   "metadata": {},
   "outputs": [],
   "source": [
    "from __future__ import print_function, division\n",
    "import pandas as pd\n",
    "from datetime import datetime"
   ]
  },
  {
   "cell_type": "markdown",
   "metadata": {},
   "source": [
    "# Data import"
   ]
  },
  {
   "cell_type": "code",
   "execution_count": 221,
   "metadata": {},
   "outputs": [],
   "source": [
    "df = pd.read_csv(\"data/ebola_data.csv\")"
   ]
  },
  {
   "cell_type": "code",
   "execution_count": 222,
   "metadata": {},
   "outputs": [
    {
     "data": {
      "text/html": [
       "<div>\n",
       "<style scoped>\n",
       "    .dataframe tbody tr th:only-of-type {\n",
       "        vertical-align: middle;\n",
       "    }\n",
       "\n",
       "    .dataframe tbody tr th {\n",
       "        vertical-align: top;\n",
       "    }\n",
       "\n",
       "    .dataframe thead th {\n",
       "        text-align: right;\n",
       "    }\n",
       "</style>\n",
       "<table border=\"1\" class=\"dataframe\">\n",
       "  <thead>\n",
       "    <tr style=\"text-align: right;\">\n",
       "      <th></th>\n",
       "      <th>Indicator</th>\n",
       "      <th>Country</th>\n",
       "      <th>Date</th>\n",
       "      <th>value</th>\n",
       "    </tr>\n",
       "  </thead>\n",
       "  <tbody>\n",
       "    <tr>\n",
       "      <th>3345</th>\n",
       "      <td>Cumulative number of confirmed Ebola cases</td>\n",
       "      <td>United States of America</td>\n",
       "      <td>2015-01-22</td>\n",
       "      <td>4.0</td>\n",
       "    </tr>\n",
       "    <tr>\n",
       "      <th>7927</th>\n",
       "      <td>Cumulative number of suspected Ebola cases</td>\n",
       "      <td>Spain</td>\n",
       "      <td>2015-05-22</td>\n",
       "      <td>0.0</td>\n",
       "    </tr>\n",
       "    <tr>\n",
       "      <th>15569</th>\n",
       "      <td>Cumulative number of probable Ebola deaths</td>\n",
       "      <td>Sierra Leone</td>\n",
       "      <td>2015-10-26</td>\n",
       "      <td>208.0</td>\n",
       "    </tr>\n",
       "  </tbody>\n",
       "</table>\n",
       "</div>"
      ],
      "text/plain": [
       "                                        Indicator                   Country  \\\n",
       "3345   Cumulative number of confirmed Ebola cases  United States of America   \n",
       "7927   Cumulative number of suspected Ebola cases                     Spain   \n",
       "15569  Cumulative number of probable Ebola deaths              Sierra Leone   \n",
       "\n",
       "             Date  value  \n",
       "3345   2015-01-22    4.0  \n",
       "7927   2015-05-22    0.0  \n",
       "15569  2015-10-26  208.0  "
      ]
     },
     "execution_count": 222,
     "metadata": {},
     "output_type": "execute_result"
    }
   ],
   "source": [
    "df.sample(3)"
   ]
  },
  {
   "cell_type": "markdown",
   "metadata": {},
   "source": [
    "# Cleaning"
   ]
  },
  {
   "cell_type": "markdown",
   "metadata": {},
   "source": [
    "## Split up Indicator"
   ]
  },
  {
   "cell_type": "code",
   "execution_count": 223,
   "metadata": {},
   "outputs": [],
   "source": [
    "outcome = []\n",
    "for i in range(len(df.value)):\n",
    "    if 'CFR' in df.Indicator[i]:\n",
    "        outcome.append('CFR')\n",
    "    elif 'deaths' in df.Indicator[i]:\n",
    "        outcome.append('death')\n",
    "    elif 'cases' in df.Indicator[i]:\n",
    "        outcome.append('cases')\n",
    "    else:\n",
    "        print(check)"
   ]
  },
  {
   "cell_type": "code",
   "execution_count": 224,
   "metadata": {},
   "outputs": [],
   "source": [
    "status = []\n",
    "for i in range(len(df.value)):\n",
    "    if 'of confirmed Ebola' in df.Indicator[i]:\n",
    "        status.append('confirmed')\n",
    "    elif 'of probable Ebola' in df.Indicator[i]:\n",
    "        status.append('probable')\n",
    "    elif 'of confirmed, probable and suspected Ebola' in df.Indicator[i]:\n",
    "        status.append('all')\n",
    "    else:\n",
    "        status.append('suspected')"
   ]
  },
  {
   "cell_type": "code",
   "execution_count": 225,
   "metadata": {},
   "outputs": [],
   "source": [
    "days = []\n",
    "for i in range(len(df.value)):\n",
    "    if '21 days' in df.Indicator[i]:\n",
    "        days.append(21)\n",
    "    elif '7 days' in df.Indicator[i]:\n",
    "        days.append(7)\n",
    "    else:\n",
    "        days.append(0)"
   ]
  },
  {
   "cell_type": "code",
   "execution_count": 226,
   "metadata": {},
   "outputs": [],
   "source": [
    "df['outcome'] = outcome\n",
    "df['status'] = status\n",
    "df['days'] = days"
   ]
  },
  {
   "cell_type": "code",
   "execution_count": 227,
   "metadata": {},
   "outputs": [],
   "source": [
    "df = df.drop('Indicator',axis=1)"
   ]
  },
  {
   "cell_type": "code",
   "execution_count": 228,
   "metadata": {},
   "outputs": [
    {
     "data": {
      "text/html": [
       "<div>\n",
       "<style scoped>\n",
       "    .dataframe tbody tr th:only-of-type {\n",
       "        vertical-align: middle;\n",
       "    }\n",
       "\n",
       "    .dataframe tbody tr th {\n",
       "        vertical-align: top;\n",
       "    }\n",
       "\n",
       "    .dataframe thead th {\n",
       "        text-align: right;\n",
       "    }\n",
       "</style>\n",
       "<table border=\"1\" class=\"dataframe\">\n",
       "  <thead>\n",
       "    <tr style=\"text-align: right;\">\n",
       "      <th></th>\n",
       "      <th>Country</th>\n",
       "      <th>Date</th>\n",
       "      <th>value</th>\n",
       "      <th>outcome</th>\n",
       "      <th>status</th>\n",
       "      <th>days</th>\n",
       "    </tr>\n",
       "  </thead>\n",
       "  <tbody>\n",
       "    <tr>\n",
       "      <th>3825</th>\n",
       "      <td>Sierra Leone</td>\n",
       "      <td>2015-02-03</td>\n",
       "      <td>3276.0</td>\n",
       "      <td>death</td>\n",
       "      <td>all</td>\n",
       "      <td>0</td>\n",
       "    </tr>\n",
       "    <tr>\n",
       "      <th>4233</th>\n",
       "      <td>Spain</td>\n",
       "      <td>2015-02-12</td>\n",
       "      <td>1.0</td>\n",
       "      <td>cases</td>\n",
       "      <td>all</td>\n",
       "      <td>0</td>\n",
       "    </tr>\n",
       "    <tr>\n",
       "      <th>8605</th>\n",
       "      <td>Senegal</td>\n",
       "      <td>2015-06-05</td>\n",
       "      <td>0.0</td>\n",
       "      <td>cases</td>\n",
       "      <td>suspected</td>\n",
       "      <td>0</td>\n",
       "    </tr>\n",
       "  </tbody>\n",
       "</table>\n",
       "</div>"
      ],
      "text/plain": [
       "           Country        Date   value outcome     status  days\n",
       "3825  Sierra Leone  2015-02-03  3276.0   death        all     0\n",
       "4233         Spain  2015-02-12     1.0   cases        all     0\n",
       "8605       Senegal  2015-06-05     0.0   cases  suspected     0"
      ]
     },
     "execution_count": 228,
     "metadata": {},
     "output_type": "execute_result"
    }
   ],
   "source": [
    "df.sample(3)"
   ]
  },
  {
   "cell_type": "markdown",
   "metadata": {},
   "source": [
    "## Date"
   ]
  },
  {
   "cell_type": "code",
   "execution_count": 229,
   "metadata": {},
   "outputs": [],
   "source": [
    "date = []\n",
    "for i in range(len(df.value)):\n",
    "    datetime_object = datetime.strptime(df.Date[i], '%Y-%m-%d')\n",
    "    date.append(datetime_object)"
   ]
  },
  {
   "cell_type": "code",
   "execution_count": 230,
   "metadata": {},
   "outputs": [],
   "source": [
    "df['date'] = date"
   ]
  },
  {
   "cell_type": "code",
   "execution_count": 231,
   "metadata": {},
   "outputs": [],
   "source": [
    "df = df.drop('Date',axis=1)"
   ]
  },
  {
   "cell_type": "code",
   "execution_count": 232,
   "metadata": {},
   "outputs": [
    {
     "data": {
      "text/html": [
       "<div>\n",
       "<style scoped>\n",
       "    .dataframe tbody tr th:only-of-type {\n",
       "        vertical-align: middle;\n",
       "    }\n",
       "\n",
       "    .dataframe tbody tr th {\n",
       "        vertical-align: top;\n",
       "    }\n",
       "\n",
       "    .dataframe thead th {\n",
       "        text-align: right;\n",
       "    }\n",
       "</style>\n",
       "<table border=\"1\" class=\"dataframe\">\n",
       "  <thead>\n",
       "    <tr style=\"text-align: right;\">\n",
       "      <th></th>\n",
       "      <th>Country</th>\n",
       "      <th>value</th>\n",
       "      <th>outcome</th>\n",
       "      <th>status</th>\n",
       "      <th>days</th>\n",
       "      <th>date</th>\n",
       "    </tr>\n",
       "  </thead>\n",
       "  <tbody>\n",
       "    <tr>\n",
       "      <th>5113</th>\n",
       "      <td>Spain</td>\n",
       "      <td>0.0</td>\n",
       "      <td>cases</td>\n",
       "      <td>suspected</td>\n",
       "      <td>0</td>\n",
       "      <td>2015-03-06</td>\n",
       "    </tr>\n",
       "    <tr>\n",
       "      <th>514</th>\n",
       "      <td>Liberia</td>\n",
       "      <td>472.0</td>\n",
       "      <td>death</td>\n",
       "      <td>probable</td>\n",
       "      <td>0</td>\n",
       "      <td>2014-09-16</td>\n",
       "    </tr>\n",
       "    <tr>\n",
       "      <th>13016</th>\n",
       "      <td>Guinea</td>\n",
       "      <td>3792.0</td>\n",
       "      <td>cases</td>\n",
       "      <td>all</td>\n",
       "      <td>0</td>\n",
       "      <td>2015-09-01</td>\n",
       "    </tr>\n",
       "  </tbody>\n",
       "</table>\n",
       "</div>"
      ],
      "text/plain": [
       "       Country   value outcome     status  days       date\n",
       "5113     Spain     0.0   cases  suspected     0 2015-03-06\n",
       "514    Liberia   472.0   death   probable     0 2014-09-16\n",
       "13016   Guinea  3792.0   cases        all     0 2015-09-01"
      ]
     },
     "execution_count": 232,
     "metadata": {},
     "output_type": "execute_result"
    }
   ],
   "source": [
    "df.sample(3)"
   ]
  },
  {
   "cell_type": "markdown",
   "metadata": {},
   "source": [
    "## Value"
   ]
  },
  {
   "cell_type": "code",
   "execution_count": 233,
   "metadata": {},
   "outputs": [],
   "source": [
    "df['value'] = df['value'].astype('int')"
   ]
  },
  {
   "cell_type": "code",
   "execution_count": 234,
   "metadata": {},
   "outputs": [
    {
     "data": {
      "text/html": [
       "<div>\n",
       "<style scoped>\n",
       "    .dataframe tbody tr th:only-of-type {\n",
       "        vertical-align: middle;\n",
       "    }\n",
       "\n",
       "    .dataframe tbody tr th {\n",
       "        vertical-align: top;\n",
       "    }\n",
       "\n",
       "    .dataframe thead th {\n",
       "        text-align: right;\n",
       "    }\n",
       "</style>\n",
       "<table border=\"1\" class=\"dataframe\">\n",
       "  <thead>\n",
       "    <tr style=\"text-align: right;\">\n",
       "      <th></th>\n",
       "      <th>Country</th>\n",
       "      <th>value</th>\n",
       "      <th>outcome</th>\n",
       "      <th>status</th>\n",
       "      <th>days</th>\n",
       "      <th>date</th>\n",
       "    </tr>\n",
       "  </thead>\n",
       "  <tbody>\n",
       "    <tr>\n",
       "      <th>9161</th>\n",
       "      <td>United States of America</td>\n",
       "      <td>0</td>\n",
       "      <td>cases</td>\n",
       "      <td>suspected</td>\n",
       "      <td>0</td>\n",
       "      <td>2015-06-17</td>\n",
       "    </tr>\n",
       "    <tr>\n",
       "      <th>7241</th>\n",
       "      <td>United Kingdom</td>\n",
       "      <td>1</td>\n",
       "      <td>cases</td>\n",
       "      <td>all</td>\n",
       "      <td>0</td>\n",
       "      <td>2015-05-08</td>\n",
       "    </tr>\n",
       "    <tr>\n",
       "      <th>55</th>\n",
       "      <td>Liberia</td>\n",
       "      <td>694</td>\n",
       "      <td>death</td>\n",
       "      <td>all</td>\n",
       "      <td>0</td>\n",
       "      <td>2014-08-29</td>\n",
       "    </tr>\n",
       "  </tbody>\n",
       "</table>\n",
       "</div>"
      ],
      "text/plain": [
       "                       Country  value outcome     status  days       date\n",
       "9161  United States of America      0   cases  suspected     0 2015-06-17\n",
       "7241            United Kingdom      1   cases        all     0 2015-05-08\n",
       "55                     Liberia    694   death        all     0 2014-08-29"
      ]
     },
     "execution_count": 234,
     "metadata": {},
     "output_type": "execute_result"
    }
   ],
   "source": [
    "df.sample(3)"
   ]
  },
  {
   "cell_type": "markdown",
   "metadata": {},
   "source": [
    "## Country"
   ]
  },
  {
   "cell_type": "code",
   "execution_count": 235,
   "metadata": {},
   "outputs": [],
   "source": [
    "df.rename(columns={'Country': 'country'}, inplace=True)"
   ]
  },
  {
   "cell_type": "code",
   "execution_count": 236,
   "metadata": {},
   "outputs": [
    {
     "data": {
      "text/html": [
       "<div>\n",
       "<style scoped>\n",
       "    .dataframe tbody tr th:only-of-type {\n",
       "        vertical-align: middle;\n",
       "    }\n",
       "\n",
       "    .dataframe tbody tr th {\n",
       "        vertical-align: top;\n",
       "    }\n",
       "\n",
       "    .dataframe thead th {\n",
       "        text-align: right;\n",
       "    }\n",
       "</style>\n",
       "<table border=\"1\" class=\"dataframe\">\n",
       "  <thead>\n",
       "    <tr style=\"text-align: right;\">\n",
       "      <th></th>\n",
       "      <th>country</th>\n",
       "      <th>value</th>\n",
       "      <th>outcome</th>\n",
       "      <th>status</th>\n",
       "      <th>days</th>\n",
       "      <th>date</th>\n",
       "    </tr>\n",
       "  </thead>\n",
       "  <tbody>\n",
       "    <tr>\n",
       "      <th>1680</th>\n",
       "      <td>Spain</td>\n",
       "      <td>0</td>\n",
       "      <td>death</td>\n",
       "      <td>probable</td>\n",
       "      <td>0</td>\n",
       "      <td>2014-11-19</td>\n",
       "    </tr>\n",
       "    <tr>\n",
       "      <th>11287</th>\n",
       "      <td>United Kingdom</td>\n",
       "      <td>1</td>\n",
       "      <td>cases</td>\n",
       "      <td>all</td>\n",
       "      <td>0</td>\n",
       "      <td>2015-07-29</td>\n",
       "    </tr>\n",
       "    <tr>\n",
       "      <th>5625</th>\n",
       "      <td>United States of America</td>\n",
       "      <td>0</td>\n",
       "      <td>cases</td>\n",
       "      <td>suspected</td>\n",
       "      <td>0</td>\n",
       "      <td>2015-03-20</td>\n",
       "    </tr>\n",
       "  </tbody>\n",
       "</table>\n",
       "</div>"
      ],
      "text/plain": [
       "                        country  value outcome     status  days       date\n",
       "1680                      Spain      0   death   probable     0 2014-11-19\n",
       "11287            United Kingdom      1   cases        all     0 2015-07-29\n",
       "5625   United States of America      0   cases  suspected     0 2015-03-20"
      ]
     },
     "execution_count": 236,
     "metadata": {},
     "output_type": "execute_result"
    }
   ],
   "source": [
    "df.sample(3)"
   ]
  },
  {
   "cell_type": "markdown",
   "metadata": {},
   "source": [
    "# Africa countries"
   ]
  },
  {
   "cell_type": "code",
   "execution_count": 237,
   "metadata": {},
   "outputs": [],
   "source": [
    "countries = list(df.country.unique())"
   ]
  },
  {
   "cell_type": "code",
   "execution_count": 238,
   "metadata": {},
   "outputs": [],
   "source": [
    "africa_ebola = ['Guinea',\n",
    " 'Liberia',\n",
    " 'Sierra Leone',\n",
    " 'Nigeria',\n",
    " 'Senegal',\n",
    " 'Mali',\n",
    " 'Liberia 2',\n",
    " 'Guinea 2']"
   ]
  },
  {
   "cell_type": "code",
   "execution_count": 239,
   "metadata": {},
   "outputs": [],
   "source": [
    "africa_lat_long = {'Guinea':[9.935430, -9.695052],\n",
    " 'Liberia':[6.426983, -9.429671],\n",
    " 'Sierra Leone':[8.460466, -11.779898],\n",
    " 'Nigeria':[9.081746, 8.675196],\n",
    " 'Senegal':[14.496320, -14.452312],\n",
    " 'Mali':[17.570332, -3.996270],\n",
    " 'Liberia 2':[6.426983, -9.429671],\n",
    " 'Guinea 2':[9.935430, -9.695052]}"
   ]
  },
  {
   "cell_type": "code",
   "execution_count": 240,
   "metadata": {},
   "outputs": [],
   "source": [
    "africa_df = df[df['country'].isin(africa_ebola)]"
   ]
  },
  {
   "cell_type": "code",
   "execution_count": 241,
   "metadata": {},
   "outputs": [
    {
     "data": {
      "text/html": [
       "<div>\n",
       "<style scoped>\n",
       "    .dataframe tbody tr th:only-of-type {\n",
       "        vertical-align: middle;\n",
       "    }\n",
       "\n",
       "    .dataframe tbody tr th {\n",
       "        vertical-align: top;\n",
       "    }\n",
       "\n",
       "    .dataframe thead th {\n",
       "        text-align: right;\n",
       "    }\n",
       "</style>\n",
       "<table border=\"1\" class=\"dataframe\">\n",
       "  <thead>\n",
       "    <tr style=\"text-align: right;\">\n",
       "      <th></th>\n",
       "      <th>country</th>\n",
       "      <th>value</th>\n",
       "      <th>outcome</th>\n",
       "      <th>status</th>\n",
       "      <th>days</th>\n",
       "      <th>date</th>\n",
       "    </tr>\n",
       "  </thead>\n",
       "  <tbody>\n",
       "    <tr>\n",
       "      <th>15969</th>\n",
       "      <td>Senegal</td>\n",
       "      <td>0</td>\n",
       "      <td>death</td>\n",
       "      <td>confirmed</td>\n",
       "      <td>0</td>\n",
       "      <td>2015-11-05</td>\n",
       "    </tr>\n",
       "    <tr>\n",
       "      <th>6990</th>\n",
       "      <td>Mali</td>\n",
       "      <td>0</td>\n",
       "      <td>cases</td>\n",
       "      <td>suspected</td>\n",
       "      <td>0</td>\n",
       "      <td>2015-05-04</td>\n",
       "    </tr>\n",
       "    <tr>\n",
       "      <th>14509</th>\n",
       "      <td>Senegal</td>\n",
       "      <td>1</td>\n",
       "      <td>cases</td>\n",
       "      <td>confirmed</td>\n",
       "      <td>0</td>\n",
       "      <td>2015-09-29</td>\n",
       "    </tr>\n",
       "  </tbody>\n",
       "</table>\n",
       "</div>"
      ],
      "text/plain": [
       "       country  value outcome     status  days       date\n",
       "15969  Senegal      0   death  confirmed     0 2015-11-05\n",
       "6990      Mali      0   cases  suspected     0 2015-05-04\n",
       "14509  Senegal      1   cases  confirmed     0 2015-09-29"
      ]
     },
     "execution_count": 241,
     "metadata": {},
     "output_type": "execute_result"
    }
   ],
   "source": [
    "africa_df.sample(3)"
   ]
  },
  {
   "cell_type": "markdown",
   "metadata": {},
   "source": [
    "## Deal with Liberia 2, Guinea 2 -- Drop them"
   ]
  },
  {
   "cell_type": "code",
   "execution_count": 242,
   "metadata": {},
   "outputs": [
    {
     "data": {
      "text/plain": [
       "1470"
      ]
     },
     "execution_count": 242,
     "metadata": {},
     "output_type": "execute_result"
    }
   ],
   "source": [
    "#df[\"A\"][(df[\"B\"] > 50) & (df[\"C\"] == 900)]\n",
    "africa_df[(africa_df['country']==\"Liberia 2\") & (africa_df['outcome']== \"cases\")]['value'].sum()"
   ]
  },
  {
   "cell_type": "code",
   "execution_count": 243,
   "metadata": {},
   "outputs": [],
   "source": [
    "# drop Liberia 2 and Guinea 2\n",
    "africa_df = africa_df[(africa_df['country']!=\"Liberia 2\") & (africa_df['country']!=\"Guinea 2\")]"
   ]
  },
  {
   "cell_type": "code",
   "execution_count": 244,
   "metadata": {},
   "outputs": [],
   "source": [
    "africa_df = africa_df.reset_index(drop=True)"
   ]
  },
  {
   "cell_type": "markdown",
   "metadata": {},
   "source": [
    "## To Lat Long"
   ]
  },
  {
   "cell_type": "code",
   "execution_count": 245,
   "metadata": {},
   "outputs": [],
   "source": [
    "lat = []\n",
    "long = []\n",
    "for i in range(len(africa_df.value)):\n",
    "    lat.append(africa_lat_long[africa_df.country[i]][0])\n",
    "    long.append(africa_lat_long[africa_df.country[i]][1])"
   ]
  },
  {
   "cell_type": "code",
   "execution_count": 246,
   "metadata": {},
   "outputs": [
    {
     "data": {
      "text/plain": [
       "11368"
      ]
     },
     "execution_count": 246,
     "metadata": {},
     "output_type": "execute_result"
    }
   ],
   "source": [
    "len(lat)"
   ]
  },
  {
   "cell_type": "code",
   "execution_count": 247,
   "metadata": {},
   "outputs": [],
   "source": [
    "africa_df['lat'] = lat\n",
    "africa_df['long'] = long"
   ]
  },
  {
   "cell_type": "code",
   "execution_count": 248,
   "metadata": {},
   "outputs": [
    {
     "data": {
      "text/html": [
       "<div>\n",
       "<style scoped>\n",
       "    .dataframe tbody tr th:only-of-type {\n",
       "        vertical-align: middle;\n",
       "    }\n",
       "\n",
       "    .dataframe tbody tr th {\n",
       "        vertical-align: top;\n",
       "    }\n",
       "\n",
       "    .dataframe thead th {\n",
       "        text-align: right;\n",
       "    }\n",
       "</style>\n",
       "<table border=\"1\" class=\"dataframe\">\n",
       "  <thead>\n",
       "    <tr style=\"text-align: right;\">\n",
       "      <th></th>\n",
       "      <th>country</th>\n",
       "      <th>value</th>\n",
       "      <th>outcome</th>\n",
       "      <th>status</th>\n",
       "      <th>days</th>\n",
       "      <th>date</th>\n",
       "      <th>lat</th>\n",
       "      <th>long</th>\n",
       "    </tr>\n",
       "  </thead>\n",
       "  <tbody>\n",
       "    <tr>\n",
       "      <th>6379</th>\n",
       "      <td>Nigeria</td>\n",
       "      <td>19</td>\n",
       "      <td>cases</td>\n",
       "      <td>confirmed</td>\n",
       "      <td>0</td>\n",
       "      <td>2015-06-12</td>\n",
       "      <td>9.081746</td>\n",
       "      <td>8.675196</td>\n",
       "    </tr>\n",
       "    <tr>\n",
       "      <th>7160</th>\n",
       "      <td>Guinea</td>\n",
       "      <td>2055</td>\n",
       "      <td>death</td>\n",
       "      <td>confirmed</td>\n",
       "      <td>0</td>\n",
       "      <td>2015-07-09</td>\n",
       "      <td>9.935430</td>\n",
       "      <td>-9.695052</td>\n",
       "    </tr>\n",
       "    <tr>\n",
       "      <th>4835</th>\n",
       "      <td>Senegal</td>\n",
       "      <td>0</td>\n",
       "      <td>death</td>\n",
       "      <td>all</td>\n",
       "      <td>0</td>\n",
       "      <td>2015-04-21</td>\n",
       "      <td>14.496320</td>\n",
       "      <td>-14.452312</td>\n",
       "    </tr>\n",
       "    <tr>\n",
       "      <th>3527</th>\n",
       "      <td>Nigeria</td>\n",
       "      <td>7</td>\n",
       "      <td>death</td>\n",
       "      <td>confirmed</td>\n",
       "      <td>0</td>\n",
       "      <td>2015-02-19</td>\n",
       "      <td>9.081746</td>\n",
       "      <td>8.675196</td>\n",
       "    </tr>\n",
       "    <tr>\n",
       "      <th>4799</th>\n",
       "      <td>Guinea</td>\n",
       "      <td>2358</td>\n",
       "      <td>death</td>\n",
       "      <td>all</td>\n",
       "      <td>0</td>\n",
       "      <td>2015-04-21</td>\n",
       "      <td>9.935430</td>\n",
       "      <td>-9.695052</td>\n",
       "    </tr>\n",
       "    <tr>\n",
       "      <th>1935</th>\n",
       "      <td>Nigeria</td>\n",
       "      <td>7</td>\n",
       "      <td>death</td>\n",
       "      <td>confirmed</td>\n",
       "      <td>0</td>\n",
       "      <td>2014-12-23</td>\n",
       "      <td>9.081746</td>\n",
       "      <td>8.675196</td>\n",
       "    </tr>\n",
       "    <tr>\n",
       "      <th>5513</th>\n",
       "      <td>Guinea</td>\n",
       "      <td>11</td>\n",
       "      <td>cases</td>\n",
       "      <td>suspected</td>\n",
       "      <td>0</td>\n",
       "      <td>2015-05-15</td>\n",
       "      <td>9.935430</td>\n",
       "      <td>-9.695052</td>\n",
       "    </tr>\n",
       "    <tr>\n",
       "      <th>3786</th>\n",
       "      <td>Senegal</td>\n",
       "      <td>0</td>\n",
       "      <td>death</td>\n",
       "      <td>all</td>\n",
       "      <td>0</td>\n",
       "      <td>2015-03-02</td>\n",
       "      <td>14.496320</td>\n",
       "      <td>-14.452312</td>\n",
       "    </tr>\n",
       "    <tr>\n",
       "      <th>5418</th>\n",
       "      <td>Senegal</td>\n",
       "      <td>0</td>\n",
       "      <td>death</td>\n",
       "      <td>confirmed</td>\n",
       "      <td>0</td>\n",
       "      <td>2015-05-12</td>\n",
       "      <td>14.496320</td>\n",
       "      <td>-14.452312</td>\n",
       "    </tr>\n",
       "    <tr>\n",
       "      <th>1959</th>\n",
       "      <td>Nigeria</td>\n",
       "      <td>19</td>\n",
       "      <td>cases</td>\n",
       "      <td>confirmed</td>\n",
       "      <td>0</td>\n",
       "      <td>2014-12-24</td>\n",
       "      <td>9.081746</td>\n",
       "      <td>8.675196</td>\n",
       "    </tr>\n",
       "  </tbody>\n",
       "</table>\n",
       "</div>"
      ],
      "text/plain": [
       "      country  value outcome     status  days       date        lat       long\n",
       "6379  Nigeria     19   cases  confirmed     0 2015-06-12   9.081746   8.675196\n",
       "7160   Guinea   2055   death  confirmed     0 2015-07-09   9.935430  -9.695052\n",
       "4835  Senegal      0   death        all     0 2015-04-21  14.496320 -14.452312\n",
       "3527  Nigeria      7   death  confirmed     0 2015-02-19   9.081746   8.675196\n",
       "4799   Guinea   2358   death        all     0 2015-04-21   9.935430  -9.695052\n",
       "1935  Nigeria      7   death  confirmed     0 2014-12-23   9.081746   8.675196\n",
       "5513   Guinea     11   cases  suspected     0 2015-05-15   9.935430  -9.695052\n",
       "3786  Senegal      0   death        all     0 2015-03-02  14.496320 -14.452312\n",
       "5418  Senegal      0   death  confirmed     0 2015-05-12  14.496320 -14.452312\n",
       "1959  Nigeria     19   cases  confirmed     0 2014-12-24   9.081746   8.675196"
      ]
     },
     "execution_count": 248,
     "metadata": {},
     "output_type": "execute_result"
    }
   ],
   "source": [
    "africa_df.sample(10)"
   ]
  },
  {
   "cell_type": "markdown",
   "metadata": {},
   "source": [
    "# What are we counting?"
   ]
  },
  {
   "cell_type": "markdown",
   "metadata": {},
   "source": [
    "Confirmed and probable for cases and death - 2 data points per country/date"
   ]
  },
  {
   "cell_type": "code",
   "execution_count": 249,
   "metadata": {},
   "outputs": [
    {
     "data": {
      "text/plain": [
       "array(['confirmed', 'probable', 'suspected', 'all'], dtype=object)"
      ]
     },
     "execution_count": 249,
     "metadata": {},
     "output_type": "execute_result"
    }
   ],
   "source": [
    "africa_df['status'].unique()"
   ]
  },
  {
   "cell_type": "code",
   "execution_count": 250,
   "metadata": {},
   "outputs": [],
   "source": [
    "africa_df = africa_df[(africa_df['status']==\"confirmed\") | (africa_df['status']==\"probable\")]"
   ]
  },
  {
   "cell_type": "code",
   "execution_count": 251,
   "metadata": {},
   "outputs": [],
   "source": [
    "africa_df = africa_df.reset_index(drop=True)"
   ]
  },
  {
   "cell_type": "code",
   "execution_count": 252,
   "metadata": {},
   "outputs": [
    {
     "data": {
      "text/html": [
       "<div>\n",
       "<style scoped>\n",
       "    .dataframe tbody tr th:only-of-type {\n",
       "        vertical-align: middle;\n",
       "    }\n",
       "\n",
       "    .dataframe tbody tr th {\n",
       "        vertical-align: top;\n",
       "    }\n",
       "\n",
       "    .dataframe thead th {\n",
       "        text-align: right;\n",
       "    }\n",
       "</style>\n",
       "<table border=\"1\" class=\"dataframe\">\n",
       "  <thead>\n",
       "    <tr style=\"text-align: right;\">\n",
       "      <th></th>\n",
       "      <th>country</th>\n",
       "      <th>value</th>\n",
       "      <th>outcome</th>\n",
       "      <th>status</th>\n",
       "      <th>days</th>\n",
       "      <th>date</th>\n",
       "      <th>lat</th>\n",
       "      <th>long</th>\n",
       "    </tr>\n",
       "  </thead>\n",
       "  <tbody>\n",
       "    <tr>\n",
       "      <th>4292</th>\n",
       "      <td>Nigeria</td>\n",
       "      <td>1</td>\n",
       "      <td>cases</td>\n",
       "      <td>probable</td>\n",
       "      <td>0</td>\n",
       "      <td>2015-09-01</td>\n",
       "      <td>9.081746</td>\n",
       "      <td>8.675196</td>\n",
       "    </tr>\n",
       "    <tr>\n",
       "      <th>4979</th>\n",
       "      <td>Guinea</td>\n",
       "      <td>453</td>\n",
       "      <td>cases</td>\n",
       "      <td>probable</td>\n",
       "      <td>0</td>\n",
       "      <td>2015-10-23</td>\n",
       "      <td>9.935430</td>\n",
       "      <td>-9.695052</td>\n",
       "    </tr>\n",
       "    <tr>\n",
       "      <th>1620</th>\n",
       "      <td>Sierra Leone</td>\n",
       "      <td>8138</td>\n",
       "      <td>cases</td>\n",
       "      <td>confirmed</td>\n",
       "      <td>0</td>\n",
       "      <td>2015-02-12</td>\n",
       "      <td>8.460466</td>\n",
       "      <td>-11.779898</td>\n",
       "    </tr>\n",
       "    <tr>\n",
       "      <th>2718</th>\n",
       "      <td>Nigeria</td>\n",
       "      <td>7</td>\n",
       "      <td>death</td>\n",
       "      <td>confirmed</td>\n",
       "      <td>0</td>\n",
       "      <td>2015-05-15</td>\n",
       "      <td>9.081746</td>\n",
       "      <td>8.675196</td>\n",
       "    </tr>\n",
       "    <tr>\n",
       "      <th>1531</th>\n",
       "      <td>Guinea</td>\n",
       "      <td>347</td>\n",
       "      <td>death</td>\n",
       "      <td>probable</td>\n",
       "      <td>0</td>\n",
       "      <td>2015-02-05</td>\n",
       "      <td>9.935430</td>\n",
       "      <td>-9.695052</td>\n",
       "    </tr>\n",
       "    <tr>\n",
       "      <th>4150</th>\n",
       "      <td>Nigeria</td>\n",
       "      <td>1</td>\n",
       "      <td>cases</td>\n",
       "      <td>probable</td>\n",
       "      <td>0</td>\n",
       "      <td>2015-08-21</td>\n",
       "      <td>9.081746</td>\n",
       "      <td>8.675196</td>\n",
       "    </tr>\n",
       "    <tr>\n",
       "      <th>12</th>\n",
       "      <td>Sierra Leone</td>\n",
       "      <td>308</td>\n",
       "      <td>cases</td>\n",
       "      <td>confirmed</td>\n",
       "      <td>21</td>\n",
       "      <td>2014-08-29</td>\n",
       "      <td>8.460466</td>\n",
       "      <td>-11.779898</td>\n",
       "    </tr>\n",
       "    <tr>\n",
       "      <th>2047</th>\n",
       "      <td>Guinea</td>\n",
       "      <td>1829</td>\n",
       "      <td>death</td>\n",
       "      <td>confirmed</td>\n",
       "      <td>0</td>\n",
       "      <td>2015-03-18</td>\n",
       "      <td>9.935430</td>\n",
       "      <td>-9.695052</td>\n",
       "    </tr>\n",
       "    <tr>\n",
       "      <th>5128</th>\n",
       "      <td>Nigeria</td>\n",
       "      <td>1</td>\n",
       "      <td>death</td>\n",
       "      <td>probable</td>\n",
       "      <td>0</td>\n",
       "      <td>2015-11-06</td>\n",
       "      <td>9.081746</td>\n",
       "      <td>8.675196</td>\n",
       "    </tr>\n",
       "    <tr>\n",
       "      <th>1405</th>\n",
       "      <td>Guinea</td>\n",
       "      <td>1578</td>\n",
       "      <td>death</td>\n",
       "      <td>confirmed</td>\n",
       "      <td>0</td>\n",
       "      <td>2015-01-28</td>\n",
       "      <td>9.935430</td>\n",
       "      <td>-9.695052</td>\n",
       "    </tr>\n",
       "  </tbody>\n",
       "</table>\n",
       "</div>"
      ],
      "text/plain": [
       "           country  value outcome     status  days       date       lat  \\\n",
       "4292       Nigeria      1   cases   probable     0 2015-09-01  9.081746   \n",
       "4979        Guinea    453   cases   probable     0 2015-10-23  9.935430   \n",
       "1620  Sierra Leone   8138   cases  confirmed     0 2015-02-12  8.460466   \n",
       "2718       Nigeria      7   death  confirmed     0 2015-05-15  9.081746   \n",
       "1531        Guinea    347   death   probable     0 2015-02-05  9.935430   \n",
       "4150       Nigeria      1   cases   probable     0 2015-08-21  9.081746   \n",
       "12    Sierra Leone    308   cases  confirmed    21 2014-08-29  8.460466   \n",
       "2047        Guinea   1829   death  confirmed     0 2015-03-18  9.935430   \n",
       "5128       Nigeria      1   death   probable     0 2015-11-06  9.081746   \n",
       "1405        Guinea   1578   death  confirmed     0 2015-01-28  9.935430   \n",
       "\n",
       "           long  \n",
       "4292   8.675196  \n",
       "4979  -9.695052  \n",
       "1620 -11.779898  \n",
       "2718   8.675196  \n",
       "1531  -9.695052  \n",
       "4150   8.675196  \n",
       "12   -11.779898  \n",
       "2047  -9.695052  \n",
       "5128   8.675196  \n",
       "1405  -9.695052  "
      ]
     },
     "execution_count": 252,
     "metadata": {},
     "output_type": "execute_result"
    }
   ],
   "source": [
    "africa_df.sample(10)"
   ]
  },
  {
   "cell_type": "markdown",
   "metadata": {},
   "source": [
    "## split up days series"
   ]
  },
  {
   "cell_type": "code",
   "execution_count": 253,
   "metadata": {},
   "outputs": [
    {
     "data": {
      "text/plain": [
       "array([ 0, 21,  7])"
      ]
     },
     "execution_count": 253,
     "metadata": {},
     "output_type": "execute_result"
    }
   ],
   "source": [
    "africa_df['days'].unique()"
   ]
  },
  {
   "cell_type": "code",
   "execution_count": 254,
   "metadata": {},
   "outputs": [],
   "source": [
    "#split up to different data frames"
   ]
  },
  {
   "cell_type": "code",
   "execution_count": 255,
   "metadata": {},
   "outputs": [
    {
     "data": {
      "text/plain": [
       "(5187, 8)"
      ]
     },
     "execution_count": 255,
     "metadata": {},
     "output_type": "execute_result"
    }
   ],
   "source": [
    "africa_df_0 = africa_df[(africa_df['days']==0)]\n",
    "africa_df_0.shape"
   ]
  },
  {
   "cell_type": "code",
   "execution_count": 256,
   "metadata": {},
   "outputs": [
    {
     "data": {
      "text/plain": [
       "(24, 8)"
      ]
     },
     "execution_count": 256,
     "metadata": {},
     "output_type": "execute_result"
    }
   ],
   "source": [
    "africa_df_7 = africa_df[(africa_df['days']==7)]\n",
    "africa_df_7.shape"
   ]
  },
  {
   "cell_type": "code",
   "execution_count": 257,
   "metadata": {},
   "outputs": [
    {
     "data": {
      "text/plain": [
       "(350, 8)"
      ]
     },
     "execution_count": 257,
     "metadata": {},
     "output_type": "execute_result"
    }
   ],
   "source": [
    "africa_df_21 = africa_df[(africa_df['days']==21)]\n",
    "africa_df_21.shape"
   ]
  },
  {
   "cell_type": "markdown",
   "metadata": {},
   "source": [
    "## sum up confirmed and probable"
   ]
  },
  {
   "cell_type": "code",
   "execution_count": 258,
   "metadata": {},
   "outputs": [],
   "source": [
    "africa_df_0_sorting = africa_df_0[(africa_df_0['outcome']!='CFR')]"
   ]
  },
  {
   "cell_type": "code",
   "execution_count": 259,
   "metadata": {},
   "outputs": [],
   "source": [
    "africa_df_0_sorting = africa_df_0_sorting.drop('days',axis=1)"
   ]
  },
  {
   "cell_type": "code",
   "execution_count": 260,
   "metadata": {},
   "outputs": [
    {
     "data": {
      "text/html": [
       "<div>\n",
       "<style scoped>\n",
       "    .dataframe tbody tr th:only-of-type {\n",
       "        vertical-align: middle;\n",
       "    }\n",
       "\n",
       "    .dataframe tbody tr th {\n",
       "        vertical-align: top;\n",
       "    }\n",
       "\n",
       "    .dataframe thead th {\n",
       "        text-align: right;\n",
       "    }\n",
       "</style>\n",
       "<table border=\"1\" class=\"dataframe\">\n",
       "  <thead>\n",
       "    <tr style=\"text-align: right;\">\n",
       "      <th></th>\n",
       "      <th>country</th>\n",
       "      <th>value</th>\n",
       "      <th>outcome</th>\n",
       "      <th>status</th>\n",
       "      <th>date</th>\n",
       "      <th>lat</th>\n",
       "      <th>long</th>\n",
       "    </tr>\n",
       "  </thead>\n",
       "  <tbody>\n",
       "    <tr>\n",
       "      <th>0</th>\n",
       "      <td>Guinea</td>\n",
       "      <td>482</td>\n",
       "      <td>cases</td>\n",
       "      <td>confirmed</td>\n",
       "      <td>2014-08-29</td>\n",
       "      <td>9.935430</td>\n",
       "      <td>-9.695052</td>\n",
       "    </tr>\n",
       "    <tr>\n",
       "      <th>1</th>\n",
       "      <td>Guinea</td>\n",
       "      <td>141</td>\n",
       "      <td>cases</td>\n",
       "      <td>probable</td>\n",
       "      <td>2014-08-29</td>\n",
       "      <td>9.935430</td>\n",
       "      <td>-9.695052</td>\n",
       "    </tr>\n",
       "    <tr>\n",
       "      <th>2</th>\n",
       "      <td>Liberia</td>\n",
       "      <td>322</td>\n",
       "      <td>cases</td>\n",
       "      <td>confirmed</td>\n",
       "      <td>2014-08-29</td>\n",
       "      <td>6.426983</td>\n",
       "      <td>-9.429671</td>\n",
       "    </tr>\n",
       "    <tr>\n",
       "      <th>3</th>\n",
       "      <td>Liberia</td>\n",
       "      <td>674</td>\n",
       "      <td>cases</td>\n",
       "      <td>probable</td>\n",
       "      <td>2014-08-29</td>\n",
       "      <td>6.426983</td>\n",
       "      <td>-9.429671</td>\n",
       "    </tr>\n",
       "    <tr>\n",
       "      <th>4</th>\n",
       "      <td>Sierra Leone</td>\n",
       "      <td>935</td>\n",
       "      <td>cases</td>\n",
       "      <td>confirmed</td>\n",
       "      <td>2014-08-29</td>\n",
       "      <td>8.460466</td>\n",
       "      <td>-11.779898</td>\n",
       "    </tr>\n",
       "    <tr>\n",
       "      <th>5</th>\n",
       "      <td>Sierra Leone</td>\n",
       "      <td>37</td>\n",
       "      <td>cases</td>\n",
       "      <td>probable</td>\n",
       "      <td>2014-08-29</td>\n",
       "      <td>8.460466</td>\n",
       "      <td>-11.779898</td>\n",
       "    </tr>\n",
       "  </tbody>\n",
       "</table>\n",
       "</div>"
      ],
      "text/plain": [
       "        country  value outcome     status       date       lat       long\n",
       "0        Guinea    482   cases  confirmed 2014-08-29  9.935430  -9.695052\n",
       "1        Guinea    141   cases   probable 2014-08-29  9.935430  -9.695052\n",
       "2       Liberia    322   cases  confirmed 2014-08-29  6.426983  -9.429671\n",
       "3       Liberia    674   cases   probable 2014-08-29  6.426983  -9.429671\n",
       "4  Sierra Leone    935   cases  confirmed 2014-08-29  8.460466 -11.779898\n",
       "5  Sierra Leone     37   cases   probable 2014-08-29  8.460466 -11.779898"
      ]
     },
     "execution_count": 260,
     "metadata": {},
     "output_type": "execute_result"
    }
   ],
   "source": [
    "africa_df_0_sorting.head(6)"
   ]
  },
  {
   "cell_type": "code",
   "execution_count": 261,
   "metadata": {},
   "outputs": [],
   "source": [
    "africa_sorted = africa_df_0_sorting.groupby(['country','lat','long','outcome','date']).sum()"
   ]
  },
  {
   "cell_type": "code",
   "execution_count": 262,
   "metadata": {},
   "outputs": [],
   "source": [
    "africa_sorted = africa_sorted.reset_index()"
   ]
  },
  {
   "cell_type": "code",
   "execution_count": 263,
   "metadata": {},
   "outputs": [],
   "source": [
    "africa_sorted.to_csv(\"data/africa_sorted.csv\")"
   ]
  },
  {
   "cell_type": "markdown",
   "metadata": {},
   "source": [
    "# Add patient zero stuff"
   ]
  },
  {
   "cell_type": "code",
   "execution_count": 264,
   "metadata": {},
   "outputs": [
    {
     "data": {
      "text/html": [
       "<div>\n",
       "<style scoped>\n",
       "    .dataframe tbody tr th:only-of-type {\n",
       "        vertical-align: middle;\n",
       "    }\n",
       "\n",
       "    .dataframe tbody tr th {\n",
       "        vertical-align: top;\n",
       "    }\n",
       "\n",
       "    .dataframe thead th {\n",
       "        text-align: right;\n",
       "    }\n",
       "</style>\n",
       "<table border=\"1\" class=\"dataframe\">\n",
       "  <thead>\n",
       "    <tr style=\"text-align: right;\">\n",
       "      <th></th>\n",
       "      <th>country</th>\n",
       "      <th>lat</th>\n",
       "      <th>long</th>\n",
       "      <th>outcome</th>\n",
       "      <th>date</th>\n",
       "      <th>value</th>\n",
       "    </tr>\n",
       "  </thead>\n",
       "  <tbody>\n",
       "    <tr>\n",
       "      <th>394</th>\n",
       "      <td>Guinea</td>\n",
       "      <td>9.935430</td>\n",
       "      <td>-9.695052</td>\n",
       "      <td>death</td>\n",
       "      <td>2015-06-10</td>\n",
       "      <td>2437</td>\n",
       "    </tr>\n",
       "    <tr>\n",
       "      <th>516</th>\n",
       "      <td>Liberia</td>\n",
       "      <td>6.426983</td>\n",
       "      <td>-9.429671</td>\n",
       "      <td>cases</td>\n",
       "      <td>2014-08-29</td>\n",
       "      <td>996</td>\n",
       "    </tr>\n",
       "    <tr>\n",
       "      <th>2266</th>\n",
       "      <td>Sierra Leone</td>\n",
       "      <td>8.460466</td>\n",
       "      <td>-11.779898</td>\n",
       "      <td>cases</td>\n",
       "      <td>2015-09-10</td>\n",
       "      <td>8989</td>\n",
       "    </tr>\n",
       "    <tr>\n",
       "      <th>2310</th>\n",
       "      <td>Sierra Leone</td>\n",
       "      <td>8.460466</td>\n",
       "      <td>-11.779898</td>\n",
       "      <td>cases</td>\n",
       "      <td>2015-12-02</td>\n",
       "      <td>8991</td>\n",
       "    </tr>\n",
       "    <tr>\n",
       "      <th>59</th>\n",
       "      <td>Guinea</td>\n",
       "      <td>9.935430</td>\n",
       "      <td>-9.695052</td>\n",
       "      <td>cases</td>\n",
       "      <td>2015-02-02</td>\n",
       "      <td>2935</td>\n",
       "    </tr>\n",
       "  </tbody>\n",
       "</table>\n",
       "</div>"
      ],
      "text/plain": [
       "           country       lat       long outcome       date  value\n",
       "394         Guinea  9.935430  -9.695052   death 2015-06-10   2437\n",
       "516        Liberia  6.426983  -9.429671   cases 2014-08-29    996\n",
       "2266  Sierra Leone  8.460466 -11.779898   cases 2015-09-10   8989\n",
       "2310  Sierra Leone  8.460466 -11.779898   cases 2015-12-02   8991\n",
       "59          Guinea  9.935430  -9.695052   cases 2015-02-02   2935"
      ]
     },
     "execution_count": 264,
     "metadata": {},
     "output_type": "execute_result"
    }
   ],
   "source": [
    "africa_sorted.sample(5)"
   ]
  },
  {
   "cell_type": "code",
   "execution_count": 265,
   "metadata": {},
   "outputs": [],
   "source": [
    "cols = list(africa_sorted.columns)"
   ]
  },
  {
   "cell_type": "code",
   "execution_count": 266,
   "metadata": {},
   "outputs": [],
   "source": [
    "datetime_object = datetime.strptime(\"2013-12-06\", '%Y-%m-%d')\n",
    "pz = [\"Meliandou\", 8.616038, -10.061179, \"death\", datetime_object, 1]\n",
    "patient_zero = pd.DataFrame([pz], columns=cols)\n",
    "start = patient_zero"
   ]
  },
  {
   "cell_type": "code",
   "execution_count": 267,
   "metadata": {},
   "outputs": [],
   "source": [
    "datetime_object = datetime.strptime(\"2013-12-13\", '%Y-%m-%d')\n",
    "pz = [\"Meliandou\", 8.616038, -10.061179, \"death\", datetime_object, 2]\n",
    "patient_zero = pd.DataFrame([pz], columns=cols)\n",
    "start = start.append(patient_zero)"
   ]
  },
  {
   "cell_type": "code",
   "execution_count": 268,
   "metadata": {},
   "outputs": [],
   "source": [
    "datetime_object = datetime.strptime(\"2013-12-29\", '%Y-%m-%d')\n",
    "pz = [\"Meliandou\", 8.616038, -10.061179, \"death\", datetime_object, 3]\n",
    "patient_zero = pd.DataFrame([pz], columns=cols)\n",
    "start = start.append(patient_zero)"
   ]
  },
  {
   "cell_type": "code",
   "execution_count": 269,
   "metadata": {},
   "outputs": [],
   "source": [
    "datetime_object = datetime.strptime(\"2014-01-01\", '%Y-%m-%d')\n",
    "pz = [\"Meliandou\", 8.616038, -10.061179, \"death\", datetime_object, 4]\n",
    "patient_zero = pd.DataFrame([pz], columns=cols)\n",
    "start = start.append(patient_zero)"
   ]
  },
  {
   "cell_type": "code",
   "execution_count": 270,
   "metadata": {},
   "outputs": [],
   "source": [
    "datetime_object = datetime.strptime(\"2014-02-02\", '%Y-%m-%d')\n",
    "pz = [\"Meliandou\", 8.616038, -10.061179, \"death\", datetime_object, 6]\n",
    "patient_zero = pd.DataFrame([pz], columns=cols)\n",
    "start = start.append(patient_zero)"
   ]
  },
  {
   "cell_type": "code",
   "execution_count": 271,
   "metadata": {},
   "outputs": [],
   "source": [
    "datetime_object = datetime.strptime(\"2014-03-12\", '%Y-%m-%d')\n",
    "pz = [\"Gbandou\", 8.526113, -10.288549, \"death\", datetime_object, 3]\n",
    "patient_zero = pd.DataFrame([pz], columns=cols)\n",
    "start = start.append(patient_zero)"
   ]
  },
  {
   "cell_type": "code",
   "execution_count": 272,
   "metadata": {},
   "outputs": [],
   "source": [
    "datetime_object = datetime.strptime(\"2014-02-11\", '%Y-%m-%d')\n",
    "pz = [\"Dandu Pombo\", 9.032877, -9.953984, \"death\", datetime_object, 1]\n",
    "patient_zero = pd.DataFrame([pz], columns=cols)\n",
    "start = start.append(patient_zero)"
   ]
  },
  {
   "cell_type": "code",
   "execution_count": 273,
   "metadata": {},
   "outputs": [],
   "source": [
    "datetime_object = datetime.strptime(\"2014-02-28\", '%Y-%m-%d')\n",
    "pz = [\"Dandu Pombo\", 9.032877, -9.953984, \"death\", datetime_object, 4]\n",
    "patient_zero = pd.DataFrame([pz], columns=cols)\n",
    "start = start.append(patient_zero)"
   ]
  },
  {
   "cell_type": "code",
   "execution_count": 274,
   "metadata": {},
   "outputs": [],
   "source": [
    "datetime_object = datetime.strptime(\"2014-03-31\", '%Y-%m-%d')\n",
    "pz = [\"Dandu Pombo\", 9.032877, -9.953984, \"death\", datetime_object, 6]\n",
    "patient_zero = pd.DataFrame([pz], columns=cols)\n",
    "start = start.append(patient_zero)"
   ]
  },
  {
   "cell_type": "code",
   "execution_count": 275,
   "metadata": {},
   "outputs": [],
   "source": [
    "datetime_object = datetime.strptime(\"2014-01-26\", '%Y-%m-%d')\n",
    "pz = [\"Dawa\", 9.032877, -9.953984, \"death\", datetime_object, 1]\n",
    "patient_zero = pd.DataFrame([pz], columns=cols)\n",
    "start = start.append(patient_zero)"
   ]
  },
  {
   "cell_type": "code",
   "execution_count": 276,
   "metadata": {},
   "outputs": [],
   "source": [
    "datetime_object = datetime.strptime(\"2014-02-11\", '%Y-%m-%d')\n",
    "pz = [\"Dawa\", 9.032877, -9.953984, \"death\", datetime_object, 3]\n",
    "patient_zero = pd.DataFrame([pz], columns=cols)\n",
    "start = start.append(patient_zero)"
   ]
  },
  {
   "cell_type": "code",
   "execution_count": 277,
   "metadata": {},
   "outputs": [],
   "source": [
    "datetime_object = datetime.strptime(\"2014-03-27\", '%Y-%m-%d')\n",
    "pz = [\"Dawa\", 9.032877, -9.953984, \"death\", datetime_object, 8]\n",
    "patient_zero = pd.DataFrame([pz], columns=cols)\n",
    "start = start.append(patient_zero)"
   ]
  },
  {
   "cell_type": "code",
   "execution_count": 278,
   "metadata": {},
   "outputs": [],
   "source": [
    "start = start.append(africa_sorted)"
   ]
  },
  {
   "cell_type": "code",
   "execution_count": 279,
   "metadata": {},
   "outputs": [],
   "source": [
    "start = start.reset_index(drop=True)"
   ]
  },
  {
   "cell_type": "code",
   "execution_count": 280,
   "metadata": {},
   "outputs": [
    {
     "data": {
      "text/html": [
       "<div>\n",
       "<style scoped>\n",
       "    .dataframe tbody tr th:only-of-type {\n",
       "        vertical-align: middle;\n",
       "    }\n",
       "\n",
       "    .dataframe tbody tr th {\n",
       "        vertical-align: top;\n",
       "    }\n",
       "\n",
       "    .dataframe thead th {\n",
       "        text-align: right;\n",
       "    }\n",
       "</style>\n",
       "<table border=\"1\" class=\"dataframe\">\n",
       "  <thead>\n",
       "    <tr style=\"text-align: right;\">\n",
       "      <th></th>\n",
       "      <th>country</th>\n",
       "      <th>lat</th>\n",
       "      <th>long</th>\n",
       "      <th>outcome</th>\n",
       "      <th>date</th>\n",
       "      <th>value</th>\n",
       "    </tr>\n",
       "  </thead>\n",
       "  <tbody>\n",
       "    <tr>\n",
       "      <th>1377</th>\n",
       "      <td>Nigeria</td>\n",
       "      <td>9.081746</td>\n",
       "      <td>8.675196</td>\n",
       "      <td>death</td>\n",
       "      <td>2015-02-17</td>\n",
       "      <td>8</td>\n",
       "    </tr>\n",
       "    <tr>\n",
       "      <th>624</th>\n",
       "      <td>Liberia</td>\n",
       "      <td>6.426983</td>\n",
       "      <td>-9.429671</td>\n",
       "      <td>cases</td>\n",
       "      <td>2015-04-14</td>\n",
       "      <td>5030</td>\n",
       "    </tr>\n",
       "    <tr>\n",
       "      <th>338</th>\n",
       "      <td>Guinea</td>\n",
       "      <td>9.935430</td>\n",
       "      <td>-9.695052</td>\n",
       "      <td>death</td>\n",
       "      <td>2015-02-17</td>\n",
       "      <td>2057</td>\n",
       "    </tr>\n",
       "    <tr>\n",
       "      <th>896</th>\n",
       "      <td>Mali</td>\n",
       "      <td>17.570332</td>\n",
       "      <td>-3.996270</td>\n",
       "      <td>cases</td>\n",
       "      <td>2015-04-28</td>\n",
       "      <td>8</td>\n",
       "    </tr>\n",
       "    <tr>\n",
       "      <th>48</th>\n",
       "      <td>Guinea</td>\n",
       "      <td>9.935430</td>\n",
       "      <td>-9.695052</td>\n",
       "      <td>cases</td>\n",
       "      <td>2014-12-30</td>\n",
       "      <td>2672</td>\n",
       "    </tr>\n",
       "  </tbody>\n",
       "</table>\n",
       "</div>"
      ],
      "text/plain": [
       "      country        lat      long outcome       date  value\n",
       "1377  Nigeria   9.081746  8.675196   death 2015-02-17      8\n",
       "624   Liberia   6.426983 -9.429671   cases 2015-04-14   5030\n",
       "338    Guinea   9.935430 -9.695052   death 2015-02-17   2057\n",
       "896      Mali  17.570332 -3.996270   cases 2015-04-28      8\n",
       "48     Guinea   9.935430 -9.695052   cases 2014-12-30   2672"
      ]
     },
     "execution_count": 280,
     "metadata": {},
     "output_type": "execute_result"
    }
   ],
   "source": [
    "start.sample(5)"
   ]
  },
  {
   "cell_type": "code",
   "execution_count": 292,
   "metadata": {},
   "outputs": [],
   "source": [
    "africa_sorted = start"
   ]
  },
  {
   "cell_type": "markdown",
   "metadata": {},
   "source": [
    "# Make JSON sorted by each country, each bubble"
   ]
  },
  {
   "cell_type": "code",
   "execution_count": 299,
   "metadata": {},
   "outputs": [],
   "source": [
    "countries = list(africa_sorted.country.unique())"
   ]
  },
  {
   "cell_type": "code",
   "execution_count": 300,
   "metadata": {},
   "outputs": [],
   "source": [
    "dates = list(africa_sorted.date.unique())"
   ]
  },
  {
   "cell_type": "code",
   "execution_count": 301,
   "metadata": {},
   "outputs": [],
   "source": [
    "outcomes = list(africa_sorted.outcome.unique())"
   ]
  },
  {
   "cell_type": "code",
   "execution_count": 302,
   "metadata": {},
   "outputs": [],
   "source": [
    "myData = []"
   ]
  },
  {
   "cell_type": "code",
   "execution_count": 285,
   "metadata": {},
   "outputs": [],
   "source": [
    "for outs in outcomes:\n",
    "    for place in countries:\n",
    "        newDict = {}\n",
    "        for i in range(len(dates)):\n",
    "            newValue = africa_sorted[(africa_sorted['country']==place)&(africa_sorted['outcome']==outs)\n",
    "                      &(africa_sorted['date']==dates[i])]\n",
    "            if newValue.shape[0] == 0:\n",
    "                newValue = 0\n",
    "            else:\n",
    "                store = newValue\n",
    "                newValue = int(newValue.iloc[0,5])\n",
    "            newDate = str(dates[i])[:10]\n",
    "            newDict[newDate] = newValue\n",
    "        newDict['country'] = place\n",
    "        newDict['lat'] = float(store.iloc[0,1])\n",
    "        newDict['long'] = float(store.iloc[0,2])\n",
    "        newDict['outcome'] = str(store.iloc[0,3])\n",
    "        myData.append(newDict)"
   ]
  },
  {
   "cell_type": "code",
   "execution_count": 457,
   "metadata": {},
   "outputs": [],
   "source": [
    "# patient zero\n",
    "# https://www.livescience.com/48527-ebola-toddler-patient-zero.html\n",
    "newDict = {}\n",
    "newDict['country'] = 'Guinea'\n",
    "newDict['lat'] = 8.615048\n",
    "newDict['long'] = -10.061007\n",
    "newDict['outcome'] = \"patient zero\"\n",
    "newDict['2013-12-06'] = 1\n",
    "myData.append(newDict)"
   ]
  },
  {
   "cell_type": "code",
   "execution_count": 456,
   "metadata": {},
   "outputs": [],
   "source": [
    "import json\n",
    "with open('data/ebolaData.txt', 'w') as outfile:\n",
    "    json.dump(myData, outfile)"
   ]
  },
  {
   "cell_type": "markdown",
   "metadata": {},
   "source": [
    "# Make dataframe for data"
   ]
  },
  {
   "cell_type": "code",
   "execution_count": 303,
   "metadata": {},
   "outputs": [],
   "source": [
    "strDates = []\n",
    "for i in range(len(dates)):\n",
    "    a = str(dates[i])[:10]\n",
    "    strDates.append(a)"
   ]
  },
  {
   "cell_type": "code",
   "execution_count": 304,
   "metadata": {},
   "outputs": [],
   "source": [
    "columns = ['country','lat','long','outcome'] + strDates"
   ]
  },
  {
   "cell_type": "code",
   "execution_count": 305,
   "metadata": {},
   "outputs": [],
   "source": [
    "df_new = pd.DataFrame(columns = columns)"
   ]
  },
  {
   "cell_type": "code",
   "execution_count": 306,
   "metadata": {},
   "outputs": [],
   "source": [
    "for outs in outcomes:\n",
    "    for place in countries:\n",
    "        newList = []\n",
    "        newList1 = []\n",
    "        for i in range(len(dates)):\n",
    "            newValue = africa_sorted[(africa_sorted['country']==place)&(africa_sorted['outcome']==outs)\n",
    "                      &(africa_sorted['date']==dates[i])]\n",
    "            if newValue.shape[0] == 0:\n",
    "                newValue = 0\n",
    "            else:\n",
    "                store = newValue\n",
    "                newValue = int(newValue.iloc[0,5])\n",
    "            newList.append(newValue)\n",
    "        newList1.append(place)\n",
    "        newList1.append(float(store.iloc[0,1]))\n",
    "        newList1.append(float(store.iloc[0,2]))\n",
    "        newList1.append(str(store.iloc[0,3]))\n",
    "        newList = newList1 + newList\n",
    "        \n",
    "        df_new = df_new.append(pd.Series(newList, index=columns), ignore_index=True)\n",
    "        "
   ]
  },
  {
   "cell_type": "code",
   "execution_count": 307,
   "metadata": {},
   "outputs": [
    {
     "data": {
      "text/html": [
       "<div>\n",
       "<style scoped>\n",
       "    .dataframe tbody tr th:only-of-type {\n",
       "        vertical-align: middle;\n",
       "    }\n",
       "\n",
       "    .dataframe tbody tr th {\n",
       "        vertical-align: top;\n",
       "    }\n",
       "\n",
       "    .dataframe thead th {\n",
       "        text-align: right;\n",
       "    }\n",
       "</style>\n",
       "<table border=\"1\" class=\"dataframe\">\n",
       "  <thead>\n",
       "    <tr style=\"text-align: right;\">\n",
       "      <th></th>\n",
       "      <th>lat</th>\n",
       "      <th>long</th>\n",
       "    </tr>\n",
       "  </thead>\n",
       "  <tbody>\n",
       "    <tr>\n",
       "      <th>count</th>\n",
       "      <td>20.000000</td>\n",
       "      <td>20.000000</td>\n",
       "    </tr>\n",
       "    <tr>\n",
       "      <th>mean</th>\n",
       "      <td>10.049616</td>\n",
       "      <td>-8.436665</td>\n",
       "    </tr>\n",
       "    <tr>\n",
       "      <th>std</th>\n",
       "      <td>3.263929</td>\n",
       "      <td>6.408536</td>\n",
       "    </tr>\n",
       "    <tr>\n",
       "      <th>min</th>\n",
       "      <td>6.426983</td>\n",
       "      <td>-14.452312</td>\n",
       "    </tr>\n",
       "    <tr>\n",
       "      <th>25%</th>\n",
       "      <td>8.460466</td>\n",
       "      <td>-11.779898</td>\n",
       "    </tr>\n",
       "    <tr>\n",
       "      <th>50%</th>\n",
       "      <td>8.824457</td>\n",
       "      <td>-10.007582</td>\n",
       "    </tr>\n",
       "    <tr>\n",
       "      <th>75%</th>\n",
       "      <td>9.935430</td>\n",
       "      <td>-9.429671</td>\n",
       "    </tr>\n",
       "    <tr>\n",
       "      <th>max</th>\n",
       "      <td>17.570332</td>\n",
       "      <td>8.675196</td>\n",
       "    </tr>\n",
       "  </tbody>\n",
       "</table>\n",
       "</div>"
      ],
      "text/plain": [
       "             lat       long\n",
       "count  20.000000  20.000000\n",
       "mean   10.049616  -8.436665\n",
       "std     3.263929   6.408536\n",
       "min     6.426983 -14.452312\n",
       "25%     8.460466 -11.779898\n",
       "50%     8.824457 -10.007582\n",
       "75%     9.935430  -9.429671\n",
       "max    17.570332   8.675196"
      ]
     },
     "execution_count": 307,
     "metadata": {},
     "output_type": "execute_result"
    }
   ],
   "source": [
    "df_new.describe()"
   ]
  },
  {
   "cell_type": "code",
   "execution_count": 308,
   "metadata": {},
   "outputs": [
    {
     "data": {
      "text/html": [
       "<div>\n",
       "<style scoped>\n",
       "    .dataframe tbody tr th:only-of-type {\n",
       "        vertical-align: middle;\n",
       "    }\n",
       "\n",
       "    .dataframe tbody tr th {\n",
       "        vertical-align: top;\n",
       "    }\n",
       "\n",
       "    .dataframe thead th {\n",
       "        text-align: right;\n",
       "    }\n",
       "</style>\n",
       "<table border=\"1\" class=\"dataframe\">\n",
       "  <thead>\n",
       "    <tr style=\"text-align: right;\">\n",
       "      <th></th>\n",
       "      <th>country</th>\n",
       "      <th>lat</th>\n",
       "      <th>long</th>\n",
       "      <th>outcome</th>\n",
       "      <th>2013-12-06</th>\n",
       "      <th>2013-12-13</th>\n",
       "      <th>2013-12-29</th>\n",
       "      <th>2014-01-01</th>\n",
       "      <th>2014-02-02</th>\n",
       "      <th>2014-03-12</th>\n",
       "      <th>...</th>\n",
       "      <th>2015-12-09</th>\n",
       "      <th>2015-12-10</th>\n",
       "      <th>2015-12-11</th>\n",
       "      <th>2015-12-15</th>\n",
       "      <th>2015-12-16</th>\n",
       "      <th>2015-12-17</th>\n",
       "      <th>2015-12-22</th>\n",
       "      <th>2015-12-23</th>\n",
       "      <th>2015-12-29</th>\n",
       "      <th>2016-03-23</th>\n",
       "    </tr>\n",
       "  </thead>\n",
       "  <tbody>\n",
       "    <tr>\n",
       "      <th>0</th>\n",
       "      <td>Meliandou</td>\n",
       "      <td>8.616038</td>\n",
       "      <td>-10.061179</td>\n",
       "      <td>death</td>\n",
       "      <td>1</td>\n",
       "      <td>2</td>\n",
       "      <td>3</td>\n",
       "      <td>4</td>\n",
       "      <td>6</td>\n",
       "      <td>0</td>\n",
       "      <td>...</td>\n",
       "      <td>0</td>\n",
       "      <td>0</td>\n",
       "      <td>0</td>\n",
       "      <td>0</td>\n",
       "      <td>0</td>\n",
       "      <td>0</td>\n",
       "      <td>0</td>\n",
       "      <td>0</td>\n",
       "      <td>0</td>\n",
       "      <td>0</td>\n",
       "    </tr>\n",
       "    <tr>\n",
       "      <th>1</th>\n",
       "      <td>Gbandou</td>\n",
       "      <td>8.526113</td>\n",
       "      <td>-10.288549</td>\n",
       "      <td>death</td>\n",
       "      <td>0</td>\n",
       "      <td>0</td>\n",
       "      <td>0</td>\n",
       "      <td>0</td>\n",
       "      <td>0</td>\n",
       "      <td>3</td>\n",
       "      <td>...</td>\n",
       "      <td>0</td>\n",
       "      <td>0</td>\n",
       "      <td>0</td>\n",
       "      <td>0</td>\n",
       "      <td>0</td>\n",
       "      <td>0</td>\n",
       "      <td>0</td>\n",
       "      <td>0</td>\n",
       "      <td>0</td>\n",
       "      <td>0</td>\n",
       "    </tr>\n",
       "    <tr>\n",
       "      <th>2</th>\n",
       "      <td>Dandu Pombo</td>\n",
       "      <td>9.032877</td>\n",
       "      <td>-9.953984</td>\n",
       "      <td>death</td>\n",
       "      <td>0</td>\n",
       "      <td>0</td>\n",
       "      <td>0</td>\n",
       "      <td>0</td>\n",
       "      <td>0</td>\n",
       "      <td>0</td>\n",
       "      <td>...</td>\n",
       "      <td>0</td>\n",
       "      <td>0</td>\n",
       "      <td>0</td>\n",
       "      <td>0</td>\n",
       "      <td>0</td>\n",
       "      <td>0</td>\n",
       "      <td>0</td>\n",
       "      <td>0</td>\n",
       "      <td>0</td>\n",
       "      <td>0</td>\n",
       "    </tr>\n",
       "    <tr>\n",
       "      <th>3</th>\n",
       "      <td>Dawa</td>\n",
       "      <td>9.032877</td>\n",
       "      <td>-9.953984</td>\n",
       "      <td>death</td>\n",
       "      <td>0</td>\n",
       "      <td>0</td>\n",
       "      <td>0</td>\n",
       "      <td>0</td>\n",
       "      <td>0</td>\n",
       "      <td>0</td>\n",
       "      <td>...</td>\n",
       "      <td>0</td>\n",
       "      <td>0</td>\n",
       "      <td>0</td>\n",
       "      <td>0</td>\n",
       "      <td>0</td>\n",
       "      <td>0</td>\n",
       "      <td>0</td>\n",
       "      <td>0</td>\n",
       "      <td>0</td>\n",
       "      <td>0</td>\n",
       "    </tr>\n",
       "    <tr>\n",
       "      <th>4</th>\n",
       "      <td>Guinea</td>\n",
       "      <td>9.935430</td>\n",
       "      <td>-9.695052</td>\n",
       "      <td>death</td>\n",
       "      <td>0</td>\n",
       "      <td>0</td>\n",
       "      <td>0</td>\n",
       "      <td>0</td>\n",
       "      <td>0</td>\n",
       "      <td>0</td>\n",
       "      <td>...</td>\n",
       "      <td>2536</td>\n",
       "      <td>2536</td>\n",
       "      <td>2536</td>\n",
       "      <td>2536</td>\n",
       "      <td>2536</td>\n",
       "      <td>2536</td>\n",
       "      <td>2536</td>\n",
       "      <td>2536</td>\n",
       "      <td>2536</td>\n",
       "      <td>2536</td>\n",
       "    </tr>\n",
       "    <tr>\n",
       "      <th>5</th>\n",
       "      <td>Liberia</td>\n",
       "      <td>6.426983</td>\n",
       "      <td>-9.429671</td>\n",
       "      <td>death</td>\n",
       "      <td>0</td>\n",
       "      <td>0</td>\n",
       "      <td>0</td>\n",
       "      <td>0</td>\n",
       "      <td>0</td>\n",
       "      <td>0</td>\n",
       "      <td>...</td>\n",
       "      <td>0</td>\n",
       "      <td>0</td>\n",
       "      <td>0</td>\n",
       "      <td>0</td>\n",
       "      <td>0</td>\n",
       "      <td>0</td>\n",
       "      <td>0</td>\n",
       "      <td>0</td>\n",
       "      <td>0</td>\n",
       "      <td>0</td>\n",
       "    </tr>\n",
       "    <tr>\n",
       "      <th>6</th>\n",
       "      <td>Mali</td>\n",
       "      <td>17.570332</td>\n",
       "      <td>-3.996270</td>\n",
       "      <td>death</td>\n",
       "      <td>0</td>\n",
       "      <td>0</td>\n",
       "      <td>0</td>\n",
       "      <td>0</td>\n",
       "      <td>0</td>\n",
       "      <td>0</td>\n",
       "      <td>...</td>\n",
       "      <td>0</td>\n",
       "      <td>0</td>\n",
       "      <td>0</td>\n",
       "      <td>0</td>\n",
       "      <td>0</td>\n",
       "      <td>0</td>\n",
       "      <td>0</td>\n",
       "      <td>0</td>\n",
       "      <td>0</td>\n",
       "      <td>0</td>\n",
       "    </tr>\n",
       "    <tr>\n",
       "      <th>7</th>\n",
       "      <td>Nigeria</td>\n",
       "      <td>9.081746</td>\n",
       "      <td>8.675196</td>\n",
       "      <td>death</td>\n",
       "      <td>0</td>\n",
       "      <td>0</td>\n",
       "      <td>0</td>\n",
       "      <td>0</td>\n",
       "      <td>0</td>\n",
       "      <td>0</td>\n",
       "      <td>...</td>\n",
       "      <td>8</td>\n",
       "      <td>8</td>\n",
       "      <td>8</td>\n",
       "      <td>8</td>\n",
       "      <td>8</td>\n",
       "      <td>8</td>\n",
       "      <td>8</td>\n",
       "      <td>8</td>\n",
       "      <td>8</td>\n",
       "      <td>8</td>\n",
       "    </tr>\n",
       "    <tr>\n",
       "      <th>8</th>\n",
       "      <td>Senegal</td>\n",
       "      <td>14.496320</td>\n",
       "      <td>-14.452312</td>\n",
       "      <td>death</td>\n",
       "      <td>0</td>\n",
       "      <td>0</td>\n",
       "      <td>0</td>\n",
       "      <td>0</td>\n",
       "      <td>0</td>\n",
       "      <td>0</td>\n",
       "      <td>...</td>\n",
       "      <td>0</td>\n",
       "      <td>0</td>\n",
       "      <td>0</td>\n",
       "      <td>0</td>\n",
       "      <td>0</td>\n",
       "      <td>0</td>\n",
       "      <td>0</td>\n",
       "      <td>0</td>\n",
       "      <td>0</td>\n",
       "      <td>0</td>\n",
       "    </tr>\n",
       "    <tr>\n",
       "      <th>9</th>\n",
       "      <td>Sierra Leone</td>\n",
       "      <td>8.460466</td>\n",
       "      <td>-11.779898</td>\n",
       "      <td>death</td>\n",
       "      <td>0</td>\n",
       "      <td>0</td>\n",
       "      <td>0</td>\n",
       "      <td>0</td>\n",
       "      <td>0</td>\n",
       "      <td>0</td>\n",
       "      <td>...</td>\n",
       "      <td>3797</td>\n",
       "      <td>3797</td>\n",
       "      <td>3797</td>\n",
       "      <td>3797</td>\n",
       "      <td>3797</td>\n",
       "      <td>3797</td>\n",
       "      <td>3797</td>\n",
       "      <td>3797</td>\n",
       "      <td>3797</td>\n",
       "      <td>3797</td>\n",
       "    </tr>\n",
       "    <tr>\n",
       "      <th>10</th>\n",
       "      <td>Meliandou</td>\n",
       "      <td>8.460466</td>\n",
       "      <td>-11.779898</td>\n",
       "      <td>death</td>\n",
       "      <td>0</td>\n",
       "      <td>0</td>\n",
       "      <td>0</td>\n",
       "      <td>0</td>\n",
       "      <td>0</td>\n",
       "      <td>0</td>\n",
       "      <td>...</td>\n",
       "      <td>0</td>\n",
       "      <td>0</td>\n",
       "      <td>0</td>\n",
       "      <td>0</td>\n",
       "      <td>0</td>\n",
       "      <td>0</td>\n",
       "      <td>0</td>\n",
       "      <td>0</td>\n",
       "      <td>0</td>\n",
       "      <td>0</td>\n",
       "    </tr>\n",
       "    <tr>\n",
       "      <th>11</th>\n",
       "      <td>Gbandou</td>\n",
       "      <td>8.460466</td>\n",
       "      <td>-11.779898</td>\n",
       "      <td>death</td>\n",
       "      <td>0</td>\n",
       "      <td>0</td>\n",
       "      <td>0</td>\n",
       "      <td>0</td>\n",
       "      <td>0</td>\n",
       "      <td>0</td>\n",
       "      <td>...</td>\n",
       "      <td>0</td>\n",
       "      <td>0</td>\n",
       "      <td>0</td>\n",
       "      <td>0</td>\n",
       "      <td>0</td>\n",
       "      <td>0</td>\n",
       "      <td>0</td>\n",
       "      <td>0</td>\n",
       "      <td>0</td>\n",
       "      <td>0</td>\n",
       "    </tr>\n",
       "    <tr>\n",
       "      <th>12</th>\n",
       "      <td>Dandu Pombo</td>\n",
       "      <td>8.460466</td>\n",
       "      <td>-11.779898</td>\n",
       "      <td>death</td>\n",
       "      <td>0</td>\n",
       "      <td>0</td>\n",
       "      <td>0</td>\n",
       "      <td>0</td>\n",
       "      <td>0</td>\n",
       "      <td>0</td>\n",
       "      <td>...</td>\n",
       "      <td>0</td>\n",
       "      <td>0</td>\n",
       "      <td>0</td>\n",
       "      <td>0</td>\n",
       "      <td>0</td>\n",
       "      <td>0</td>\n",
       "      <td>0</td>\n",
       "      <td>0</td>\n",
       "      <td>0</td>\n",
       "      <td>0</td>\n",
       "    </tr>\n",
       "    <tr>\n",
       "      <th>13</th>\n",
       "      <td>Dawa</td>\n",
       "      <td>8.460466</td>\n",
       "      <td>-11.779898</td>\n",
       "      <td>death</td>\n",
       "      <td>0</td>\n",
       "      <td>0</td>\n",
       "      <td>0</td>\n",
       "      <td>0</td>\n",
       "      <td>0</td>\n",
       "      <td>0</td>\n",
       "      <td>...</td>\n",
       "      <td>0</td>\n",
       "      <td>0</td>\n",
       "      <td>0</td>\n",
       "      <td>0</td>\n",
       "      <td>0</td>\n",
       "      <td>0</td>\n",
       "      <td>0</td>\n",
       "      <td>0</td>\n",
       "      <td>0</td>\n",
       "      <td>0</td>\n",
       "    </tr>\n",
       "    <tr>\n",
       "      <th>14</th>\n",
       "      <td>Guinea</td>\n",
       "      <td>9.935430</td>\n",
       "      <td>-9.695052</td>\n",
       "      <td>cases</td>\n",
       "      <td>0</td>\n",
       "      <td>0</td>\n",
       "      <td>0</td>\n",
       "      <td>0</td>\n",
       "      <td>0</td>\n",
       "      <td>0</td>\n",
       "      <td>...</td>\n",
       "      <td>3804</td>\n",
       "      <td>3804</td>\n",
       "      <td>3804</td>\n",
       "      <td>3804</td>\n",
       "      <td>3804</td>\n",
       "      <td>3804</td>\n",
       "      <td>3804</td>\n",
       "      <td>3804</td>\n",
       "      <td>3804</td>\n",
       "      <td>3804</td>\n",
       "    </tr>\n",
       "    <tr>\n",
       "      <th>15</th>\n",
       "      <td>Liberia</td>\n",
       "      <td>6.426983</td>\n",
       "      <td>-9.429671</td>\n",
       "      <td>cases</td>\n",
       "      <td>0</td>\n",
       "      <td>0</td>\n",
       "      <td>0</td>\n",
       "      <td>0</td>\n",
       "      <td>0</td>\n",
       "      <td>0</td>\n",
       "      <td>...</td>\n",
       "      <td>5030</td>\n",
       "      <td>5030</td>\n",
       "      <td>5030</td>\n",
       "      <td>5030</td>\n",
       "      <td>5030</td>\n",
       "      <td>5030</td>\n",
       "      <td>5030</td>\n",
       "      <td>5030</td>\n",
       "      <td>5030</td>\n",
       "      <td>5030</td>\n",
       "    </tr>\n",
       "    <tr>\n",
       "      <th>16</th>\n",
       "      <td>Mali</td>\n",
       "      <td>17.570332</td>\n",
       "      <td>-3.996270</td>\n",
       "      <td>cases</td>\n",
       "      <td>0</td>\n",
       "      <td>0</td>\n",
       "      <td>0</td>\n",
       "      <td>0</td>\n",
       "      <td>0</td>\n",
       "      <td>0</td>\n",
       "      <td>...</td>\n",
       "      <td>8</td>\n",
       "      <td>8</td>\n",
       "      <td>8</td>\n",
       "      <td>8</td>\n",
       "      <td>8</td>\n",
       "      <td>8</td>\n",
       "      <td>8</td>\n",
       "      <td>8</td>\n",
       "      <td>8</td>\n",
       "      <td>8</td>\n",
       "    </tr>\n",
       "    <tr>\n",
       "      <th>17</th>\n",
       "      <td>Nigeria</td>\n",
       "      <td>9.081746</td>\n",
       "      <td>8.675196</td>\n",
       "      <td>cases</td>\n",
       "      <td>0</td>\n",
       "      <td>0</td>\n",
       "      <td>0</td>\n",
       "      <td>0</td>\n",
       "      <td>0</td>\n",
       "      <td>0</td>\n",
       "      <td>...</td>\n",
       "      <td>20</td>\n",
       "      <td>20</td>\n",
       "      <td>20</td>\n",
       "      <td>20</td>\n",
       "      <td>20</td>\n",
       "      <td>20</td>\n",
       "      <td>20</td>\n",
       "      <td>20</td>\n",
       "      <td>20</td>\n",
       "      <td>20</td>\n",
       "    </tr>\n",
       "    <tr>\n",
       "      <th>18</th>\n",
       "      <td>Senegal</td>\n",
       "      <td>14.496320</td>\n",
       "      <td>-14.452312</td>\n",
       "      <td>cases</td>\n",
       "      <td>0</td>\n",
       "      <td>0</td>\n",
       "      <td>0</td>\n",
       "      <td>0</td>\n",
       "      <td>0</td>\n",
       "      <td>0</td>\n",
       "      <td>...</td>\n",
       "      <td>1</td>\n",
       "      <td>1</td>\n",
       "      <td>1</td>\n",
       "      <td>1</td>\n",
       "      <td>1</td>\n",
       "      <td>1</td>\n",
       "      <td>1</td>\n",
       "      <td>1</td>\n",
       "      <td>1</td>\n",
       "      <td>1</td>\n",
       "    </tr>\n",
       "    <tr>\n",
       "      <th>19</th>\n",
       "      <td>Sierra Leone</td>\n",
       "      <td>8.460466</td>\n",
       "      <td>-11.779898</td>\n",
       "      <td>cases</td>\n",
       "      <td>0</td>\n",
       "      <td>0</td>\n",
       "      <td>0</td>\n",
       "      <td>0</td>\n",
       "      <td>0</td>\n",
       "      <td>0</td>\n",
       "      <td>...</td>\n",
       "      <td>8991</td>\n",
       "      <td>8991</td>\n",
       "      <td>8991</td>\n",
       "      <td>8991</td>\n",
       "      <td>8991</td>\n",
       "      <td>8991</td>\n",
       "      <td>8991</td>\n",
       "      <td>8991</td>\n",
       "      <td>8991</td>\n",
       "      <td>8991</td>\n",
       "    </tr>\n",
       "  </tbody>\n",
       "</table>\n",
       "<p>20 rows × 274 columns</p>\n",
       "</div>"
      ],
      "text/plain": [
       "         country        lat       long outcome 2013-12-06 2013-12-13  \\\n",
       "0      Meliandou   8.616038 -10.061179   death          1          2   \n",
       "1        Gbandou   8.526113 -10.288549   death          0          0   \n",
       "2    Dandu Pombo   9.032877  -9.953984   death          0          0   \n",
       "3           Dawa   9.032877  -9.953984   death          0          0   \n",
       "4         Guinea   9.935430  -9.695052   death          0          0   \n",
       "5        Liberia   6.426983  -9.429671   death          0          0   \n",
       "6           Mali  17.570332  -3.996270   death          0          0   \n",
       "7        Nigeria   9.081746   8.675196   death          0          0   \n",
       "8        Senegal  14.496320 -14.452312   death          0          0   \n",
       "9   Sierra Leone   8.460466 -11.779898   death          0          0   \n",
       "10     Meliandou   8.460466 -11.779898   death          0          0   \n",
       "11       Gbandou   8.460466 -11.779898   death          0          0   \n",
       "12   Dandu Pombo   8.460466 -11.779898   death          0          0   \n",
       "13          Dawa   8.460466 -11.779898   death          0          0   \n",
       "14        Guinea   9.935430  -9.695052   cases          0          0   \n",
       "15       Liberia   6.426983  -9.429671   cases          0          0   \n",
       "16          Mali  17.570332  -3.996270   cases          0          0   \n",
       "17       Nigeria   9.081746   8.675196   cases          0          0   \n",
       "18       Senegal  14.496320 -14.452312   cases          0          0   \n",
       "19  Sierra Leone   8.460466 -11.779898   cases          0          0   \n",
       "\n",
       "   2013-12-29 2014-01-01 2014-02-02 2014-03-12    ...     2015-12-09  \\\n",
       "0           3          4          6          0    ...              0   \n",
       "1           0          0          0          3    ...              0   \n",
       "2           0          0          0          0    ...              0   \n",
       "3           0          0          0          0    ...              0   \n",
       "4           0          0          0          0    ...           2536   \n",
       "5           0          0          0          0    ...              0   \n",
       "6           0          0          0          0    ...              0   \n",
       "7           0          0          0          0    ...              8   \n",
       "8           0          0          0          0    ...              0   \n",
       "9           0          0          0          0    ...           3797   \n",
       "10          0          0          0          0    ...              0   \n",
       "11          0          0          0          0    ...              0   \n",
       "12          0          0          0          0    ...              0   \n",
       "13          0          0          0          0    ...              0   \n",
       "14          0          0          0          0    ...           3804   \n",
       "15          0          0          0          0    ...           5030   \n",
       "16          0          0          0          0    ...              8   \n",
       "17          0          0          0          0    ...             20   \n",
       "18          0          0          0          0    ...              1   \n",
       "19          0          0          0          0    ...           8991   \n",
       "\n",
       "   2015-12-10 2015-12-11 2015-12-15 2015-12-16 2015-12-17 2015-12-22  \\\n",
       "0           0          0          0          0          0          0   \n",
       "1           0          0          0          0          0          0   \n",
       "2           0          0          0          0          0          0   \n",
       "3           0          0          0          0          0          0   \n",
       "4        2536       2536       2536       2536       2536       2536   \n",
       "5           0          0          0          0          0          0   \n",
       "6           0          0          0          0          0          0   \n",
       "7           8          8          8          8          8          8   \n",
       "8           0          0          0          0          0          0   \n",
       "9        3797       3797       3797       3797       3797       3797   \n",
       "10          0          0          0          0          0          0   \n",
       "11          0          0          0          0          0          0   \n",
       "12          0          0          0          0          0          0   \n",
       "13          0          0          0          0          0          0   \n",
       "14       3804       3804       3804       3804       3804       3804   \n",
       "15       5030       5030       5030       5030       5030       5030   \n",
       "16          8          8          8          8          8          8   \n",
       "17         20         20         20         20         20         20   \n",
       "18          1          1          1          1          1          1   \n",
       "19       8991       8991       8991       8991       8991       8991   \n",
       "\n",
       "   2015-12-23 2015-12-29 2016-03-23  \n",
       "0           0          0          0  \n",
       "1           0          0          0  \n",
       "2           0          0          0  \n",
       "3           0          0          0  \n",
       "4        2536       2536       2536  \n",
       "5           0          0          0  \n",
       "6           0          0          0  \n",
       "7           8          8          8  \n",
       "8           0          0          0  \n",
       "9        3797       3797       3797  \n",
       "10          0          0          0  \n",
       "11          0          0          0  \n",
       "12          0          0          0  \n",
       "13          0          0          0  \n",
       "14       3804       3804       3804  \n",
       "15       5030       5030       5030  \n",
       "16          8          8          8  \n",
       "17         20         20         20  \n",
       "18          1          1          1  \n",
       "19       8991       8991       8991  \n",
       "\n",
       "[20 rows x 274 columns]"
      ]
     },
     "execution_count": 308,
     "metadata": {},
     "output_type": "execute_result"
    }
   ],
   "source": [
    "df_new"
   ]
  },
  {
   "cell_type": "code",
   "execution_count": 309,
   "metadata": {},
   "outputs": [],
   "source": [
    "df_new.to_csv(\"data/patient_zero.csv\")"
   ]
  },
  {
   "cell_type": "code",
   "execution_count": null,
   "metadata": {},
   "outputs": [],
   "source": []
  }
 ],
 "metadata": {
  "kernelspec": {
   "display_name": "Python 3",
   "language": "python",
   "name": "python3"
  },
  "language_info": {
   "codemirror_mode": {
    "name": "ipython",
    "version": 3
   },
   "file_extension": ".py",
   "mimetype": "text/x-python",
   "name": "python",
   "nbconvert_exporter": "python",
   "pygments_lexer": "ipython3",
   "version": "3.6.4"
  },
  "toc": {
   "base_numbering": 1,
   "nav_menu": {},
   "number_sections": true,
   "sideBar": true,
   "skip_h1_title": false,
   "title_cell": "Table of Contents",
   "title_sidebar": "Contents",
   "toc_cell": false,
   "toc_position": {},
   "toc_section_display": true,
   "toc_window_display": false
  }
 },
 "nbformat": 4,
 "nbformat_minor": 2
}
