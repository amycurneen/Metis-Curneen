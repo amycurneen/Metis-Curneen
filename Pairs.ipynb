{
 "cells": [
  {
   "cell_type": "code",
   "execution_count": 36,
   "metadata": {},
   "outputs": [],
   "source": [
    "import os\n",
    "import re\n",
    "import string\n",
    "from math import log"
   ]
  },
  {
   "cell_type": "code",
   "execution_count": 31,
   "metadata": {},
   "outputs": [],
   "source": [
    "neg_list = os.listdir(\"./review_polarity/txt_sentoken/neg\")\n",
    "neg_list_train = neg_list[:751]\n",
    "neg_list_test = neg_list[751:]"
   ]
  },
  {
   "cell_type": "code",
   "execution_count": 32,
   "metadata": {},
   "outputs": [],
   "source": [
    "pos_list = os.listdir(\"./review_polarity/txt_sentoken/pos\")\n",
    "pos_list_train = pos_list[:751]\n",
    "pos_list_test = pos_list[751:]"
   ]
  },
  {
   "cell_type": "code",
   "execution_count": 65,
   "metadata": {},
   "outputs": [],
   "source": [
    "neg_dict = {}\n",
    "pos_dict = {}"
   ]
  },
  {
   "cell_type": "code",
   "execution_count": 66,
   "metadata": {},
   "outputs": [],
   "source": [
    "def process_file_neg(data):\n",
    "    for line in data:\n",
    "        for word in line.split():\n",
    "            word = word.strip(string.punctuation + string.whitespace)\n",
    "            word = word.lower()\n",
    "\n",
    "            # update the histogram\n",
    "            neg_dict[word] = neg_dict.get(word, 0) + 1\n",
    "            "
   ]
  },
  {
   "cell_type": "code",
   "execution_count": 67,
   "metadata": {},
   "outputs": [],
   "source": [
    "def process_file_pos(data):\n",
    "    for line in data:\n",
    "        for word in line.split():\n",
    "            word = word.strip(string.punctuation + string.whitespace)\n",
    "            word = word.lower()\n",
    "\n",
    "            # update the histogram\n",
    "            pos_dict[word] = pos_dict.get(word, 0) + 1"
   ]
  },
  {
   "cell_type": "code",
   "execution_count": 68,
   "metadata": {},
   "outputs": [],
   "source": [
    "# negative = re.compile(\"./review_polarity/txt_sentoken/neg/*.txt\")\n",
    "\n",
    "for i in neg_list_train:\n",
    "    #if negative.match(i):\n",
    "        filename = './review_polarity/txt_sentoken/neg/' + i\n",
    "        with open (filename, \"r\") as myfile:\n",
    "            data=myfile.readlines()\n",
    "            process_file_neg(data)\n",
    "            "
   ]
  },
  {
   "cell_type": "code",
   "execution_count": 69,
   "metadata": {},
   "outputs": [],
   "source": [
    "for i in pos_list_train:\n",
    "    #if negative.match(i):\n",
    "        filename = './review_polarity/txt_sentoken/pos/' + i\n",
    "        with open (filename, \"r\") as myfile:\n",
    "            data=myfile.readlines()\n",
    "            process_file_pos(data)\n",
    "            "
   ]
  },
  {
   "cell_type": "code",
   "execution_count": 76,
   "metadata": {},
   "outputs": [],
   "source": [
    "log_pos_dict = {}\n",
    "total = sum(pos_dict.values())\n",
    "for key,value in pos_dict.items():\n",
    "    pos_dict[key] = log(value/total)"
   ]
  },
  {
   "cell_type": "code",
   "execution_count": 77,
   "metadata": {},
   "outputs": [],
   "source": [
    "log_neg_dict = {}\n",
    "total = sum(neg_dict.values())\n",
    "for key,value in neg_dict.items():\n",
    "    neg_dict[key] = log(value/total)"
   ]
  },
  {
   "cell_type": "code",
   "execution_count": 57,
   "metadata": {},
   "outputs": [],
   "source": [
    "pos_test_list = []"
   ]
  },
  {
   "cell_type": "code",
   "execution_count": 79,
   "metadata": {},
   "outputs": [],
   "source": [
    "def process_file_test(data):\n",
    "    neg_prob = 0\n",
    "    pos_prob = 0\n",
    "    for line in data:\n",
    "        for word in line.split():\n",
    "            word = word.strip(string.punctuation + string.whitespace)\n",
    "            word = word.lower()\n",
    "            \n",
    "            if word in neg_dict:\n",
    "                neg_prob += neg_dict[word]\n",
    "            if word in pos_dict:\n",
    "                pos_prob += pos_dict[word]        \n",
    "    if neg_prob > pos_prob:\n",
    "        pos_test_list.append(0)\n",
    "    else: pos_test_list.append(1)"
   ]
  },
  {
   "cell_type": "code",
   "execution_count": 80,
   "metadata": {
    "scrolled": true
   },
   "outputs": [],
   "source": [
    "for i in pos_list_test:\n",
    "    #if negative.match(i):\n",
    "        filename = './review_polarity/txt_sentoken/pos/' + i\n",
    "        with open (filename, \"r\") as myfile:\n",
    "            data=myfile.readlines()\n",
    "            process_file_test(data)"
   ]
  },
  {
   "cell_type": "code",
   "execution_count": null,
   "metadata": {},
   "outputs": [],
   "source": []
  }
 ],
 "metadata": {
  "kernelspec": {
   "display_name": "Python 3",
   "language": "python",
   "name": "python3"
  },
  "language_info": {
   "codemirror_mode": {
    "name": "ipython",
    "version": 3
   },
   "file_extension": ".py",
   "mimetype": "text/x-python",
   "name": "python",
   "nbconvert_exporter": "python",
   "pygments_lexer": "ipython3",
   "version": "3.6.4"
  },
  "toc": {
   "base_numbering": 1,
   "nav_menu": {},
   "number_sections": true,
   "sideBar": true,
   "skip_h1_title": false,
   "title_cell": "Table of Contents",
   "title_sidebar": "Contents",
   "toc_cell": false,
   "toc_position": {},
   "toc_section_display": true,
   "toc_window_display": false
  }
 },
 "nbformat": 4,
 "nbformat_minor": 2
}
