{
 "cells": [
  {
   "cell_type": "markdown",
   "metadata": {},
   "source": [
    "# Project 3 - Water Pump Clasificaiton"
   ]
  },
  {
   "cell_type": "markdown",
   "metadata": {},
   "source": [
    "## Executive Summary"
   ]
  },
  {
   "cell_type": "markdown",
   "metadata": {},
   "source": [
    "Text"
   ]
  },
  {
   "cell_type": "markdown",
   "metadata": {},
   "source": [
    "# Notes"
   ]
  },
  {
   "cell_type": "markdown",
   "metadata": {},
   "source": [
    "**Things to add to my project - ideas from class**\n",
    "\n",
    "* SQL\n",
    "* dummy set\n",
    "    * DONE\n",
    "* linear/rbf SVM\n",
    "    * DONE on 15% of training data\n",
    "* tableau\n",
    "* decision tree\n",
    "    * random forest\n",
    "    * bagging\n",
    "    \n",
    "\n",
    "\n",
    "**To Do**\n",
    "* MVP presentation\n"
   ]
  },
  {
   "cell_type": "markdown",
   "metadata": {},
   "source": [
    "# Setup"
   ]
  },
  {
   "cell_type": "code",
   "execution_count": 1,
   "metadata": {},
   "outputs": [],
   "source": [
    "from __future__ import print_function"
   ]
  },
  {
   "cell_type": "code",
   "execution_count": 2,
   "metadata": {},
   "outputs": [],
   "source": [
    "import pandas as pd\n",
    "import numpy as np\n",
    "import seaborn as sns\n",
    "\n",
    "import matplotlib.pyplot as plt\n",
    "%matplotlib inline\n",
    "\n",
    "from __future__ import division\n",
    "pd.set_option('display.width',5000)"
   ]
  },
  {
   "cell_type": "code",
   "execution_count": 3,
   "metadata": {},
   "outputs": [
    {
     "name": "stderr",
     "output_type": "stream",
     "text": [
      "/anaconda3/lib/python3.6/site-packages/sklearn/cross_validation.py:41: DeprecationWarning: This module was deprecated in version 0.18 in favor of the model_selection module into which all the refactored classes and functions are moved. Also note that the interface of the new CV iterators are different from that of this module. This module will be removed in 0.20.\n",
      "  \"This module will be removed in 0.20.\", DeprecationWarning)\n"
     ]
    }
   ],
   "source": [
    "import patsy\n",
    "\n",
    "from sklearn import linear_model as lm\n",
    "from sklearn.linear_model import LogisticRegression\n",
    "from sklearn import cross_validation\n",
    "from sklearn import metrics\n",
    "from sklearn.metrics import confusion_matrix"
   ]
  },
  {
   "cell_type": "markdown",
   "metadata": {},
   "source": [
    "# Data Import - Training Data"
   ]
  },
  {
   "cell_type": "markdown",
   "metadata": {},
   "source": [
    "This data is part of the Data Driven Competition\n",
    "\n",
    "https://www.drivendata.org/competitions/7/pump-it-up-data-mining-the-water-table/page/23/\n"
   ]
  },
  {
   "cell_type": "code",
   "execution_count": 4,
   "metadata": {},
   "outputs": [
    {
     "data": {
      "text/html": [
       "<div>\n",
       "<style scoped>\n",
       "    .dataframe tbody tr th:only-of-type {\n",
       "        vertical-align: middle;\n",
       "    }\n",
       "\n",
       "    .dataframe tbody tr th {\n",
       "        vertical-align: top;\n",
       "    }\n",
       "\n",
       "    .dataframe thead th {\n",
       "        text-align: right;\n",
       "    }\n",
       "</style>\n",
       "<table border=\"1\" class=\"dataframe\">\n",
       "  <thead>\n",
       "    <tr style=\"text-align: right;\">\n",
       "      <th></th>\n",
       "      <th>id</th>\n",
       "      <th>amount_tsh</th>\n",
       "      <th>date_recorded</th>\n",
       "      <th>funder</th>\n",
       "      <th>gps_height</th>\n",
       "      <th>installer</th>\n",
       "      <th>longitude</th>\n",
       "      <th>latitude</th>\n",
       "      <th>wpt_name</th>\n",
       "      <th>num_private</th>\n",
       "      <th>...</th>\n",
       "      <th>payment_type</th>\n",
       "      <th>water_quality</th>\n",
       "      <th>quality_group</th>\n",
       "      <th>quantity</th>\n",
       "      <th>quantity_group</th>\n",
       "      <th>source</th>\n",
       "      <th>source_type</th>\n",
       "      <th>source_class</th>\n",
       "      <th>waterpoint_type</th>\n",
       "      <th>waterpoint_type_group</th>\n",
       "    </tr>\n",
       "  </thead>\n",
       "  <tbody>\n",
       "    <tr>\n",
       "      <th>26613</th>\n",
       "      <td>67551</td>\n",
       "      <td>0.0</td>\n",
       "      <td>2011-08-04</td>\n",
       "      <td>Hifab</td>\n",
       "      <td>0</td>\n",
       "      <td>Hesawa</td>\n",
       "      <td>33.328170</td>\n",
       "      <td>-2.949675</td>\n",
       "      <td>Ilamba</td>\n",
       "      <td>0</td>\n",
       "      <td>...</td>\n",
       "      <td>never pay</td>\n",
       "      <td>soft</td>\n",
       "      <td>good</td>\n",
       "      <td>enough</td>\n",
       "      <td>enough</td>\n",
       "      <td>machine dbh</td>\n",
       "      <td>borehole</td>\n",
       "      <td>groundwater</td>\n",
       "      <td>other</td>\n",
       "      <td>other</td>\n",
       "    </tr>\n",
       "    <tr>\n",
       "      <th>49220</th>\n",
       "      <td>12116</td>\n",
       "      <td>0.0</td>\n",
       "      <td>2011-03-01</td>\n",
       "      <td>Kuwait</td>\n",
       "      <td>42</td>\n",
       "      <td>KUWAIT</td>\n",
       "      <td>39.173800</td>\n",
       "      <td>-7.211194</td>\n",
       "      <td>Kwa Nyamsingwa</td>\n",
       "      <td>0</td>\n",
       "      <td>...</td>\n",
       "      <td>never pay</td>\n",
       "      <td>soft</td>\n",
       "      <td>good</td>\n",
       "      <td>seasonal</td>\n",
       "      <td>seasonal</td>\n",
       "      <td>shallow well</td>\n",
       "      <td>shallow well</td>\n",
       "      <td>groundwater</td>\n",
       "      <td>other</td>\n",
       "      <td>other</td>\n",
       "    </tr>\n",
       "    <tr>\n",
       "      <th>11960</th>\n",
       "      <td>52163</td>\n",
       "      <td>0.0</td>\n",
       "      <td>2013-07-03</td>\n",
       "      <td>Jaica</td>\n",
       "      <td>1118</td>\n",
       "      <td>Government</td>\n",
       "      <td>34.849693</td>\n",
       "      <td>-10.596195</td>\n",
       "      <td>Kwa Mzee Enock</td>\n",
       "      <td>0</td>\n",
       "      <td>...</td>\n",
       "      <td>never pay</td>\n",
       "      <td>soft</td>\n",
       "      <td>good</td>\n",
       "      <td>dry</td>\n",
       "      <td>dry</td>\n",
       "      <td>spring</td>\n",
       "      <td>spring</td>\n",
       "      <td>groundwater</td>\n",
       "      <td>communal standpipe</td>\n",
       "      <td>communal standpipe</td>\n",
       "    </tr>\n",
       "    <tr>\n",
       "      <th>45475</th>\n",
       "      <td>35911</td>\n",
       "      <td>500.0</td>\n",
       "      <td>2013-02-23</td>\n",
       "      <td>Tasaf</td>\n",
       "      <td>554</td>\n",
       "      <td>UMOJA DRILLING</td>\n",
       "      <td>36.660789</td>\n",
       "      <td>-11.474336</td>\n",
       "      <td>Kwa Mantana</td>\n",
       "      <td>0</td>\n",
       "      <td>...</td>\n",
       "      <td>monthly</td>\n",
       "      <td>soft</td>\n",
       "      <td>good</td>\n",
       "      <td>insufficient</td>\n",
       "      <td>insufficient</td>\n",
       "      <td>shallow well</td>\n",
       "      <td>shallow well</td>\n",
       "      <td>groundwater</td>\n",
       "      <td>hand pump</td>\n",
       "      <td>hand pump</td>\n",
       "    </tr>\n",
       "    <tr>\n",
       "      <th>49322</th>\n",
       "      <td>9459</td>\n",
       "      <td>6000.0</td>\n",
       "      <td>2013-11-03</td>\n",
       "      <td>Oikos E.Afrika</td>\n",
       "      <td>1458</td>\n",
       "      <td>Community</td>\n",
       "      <td>36.840822</td>\n",
       "      <td>-3.154700</td>\n",
       "      <td>Paulo</td>\n",
       "      <td>0</td>\n",
       "      <td>...</td>\n",
       "      <td>annually</td>\n",
       "      <td>fluoride</td>\n",
       "      <td>fluoride</td>\n",
       "      <td>insufficient</td>\n",
       "      <td>insufficient</td>\n",
       "      <td>spring</td>\n",
       "      <td>spring</td>\n",
       "      <td>groundwater</td>\n",
       "      <td>communal standpipe multiple</td>\n",
       "      <td>communal standpipe</td>\n",
       "    </tr>\n",
       "  </tbody>\n",
       "</table>\n",
       "<p>5 rows × 40 columns</p>\n",
       "</div>"
      ],
      "text/plain": [
       "          id  amount_tsh date_recorded          funder  gps_height       installer  longitude   latitude        wpt_name  num_private          ...          payment_type water_quality quality_group      quantity  quantity_group        source   source_type  source_class              waterpoint_type waterpoint_type_group\n",
       "26613  67551         0.0    2011-08-04           Hifab           0          Hesawa  33.328170  -2.949675          Ilamba            0          ...             never pay          soft          good        enough          enough   machine dbh      borehole   groundwater                        other                 other\n",
       "49220  12116         0.0    2011-03-01          Kuwait          42          KUWAIT  39.173800  -7.211194  Kwa Nyamsingwa            0          ...             never pay          soft          good      seasonal        seasonal  shallow well  shallow well   groundwater                        other                 other\n",
       "11960  52163         0.0    2013-07-03           Jaica        1118      Government  34.849693 -10.596195  Kwa Mzee Enock            0          ...             never pay          soft          good           dry             dry        spring        spring   groundwater           communal standpipe    communal standpipe\n",
       "45475  35911       500.0    2013-02-23           Tasaf         554  UMOJA DRILLING  36.660789 -11.474336     Kwa Mantana            0          ...               monthly          soft          good  insufficient    insufficient  shallow well  shallow well   groundwater                    hand pump             hand pump\n",
       "49322   9459      6000.0    2013-11-03  Oikos E.Afrika        1458       Community  36.840822  -3.154700           Paulo            0          ...              annually      fluoride      fluoride  insufficient    insufficient        spring        spring   groundwater  communal standpipe multiple    communal standpipe\n",
       "\n",
       "[5 rows x 40 columns]"
      ]
     },
     "execution_count": 4,
     "metadata": {},
     "output_type": "execute_result"
    }
   ],
   "source": [
    "# 'Values' provided for each pump location - features\n",
    "\n",
    "df_values = pd.read_csv('/Users/amycurneen/ds/metis/metisgh/Metis-Curneen/3 - Water Pumps/Data Downloads/Training set values.csv')\n",
    "df_values.sample(5)"
   ]
  },
  {
   "cell_type": "code",
   "execution_count": 5,
   "metadata": {},
   "outputs": [
    {
     "data": {
      "text/html": [
       "<div>\n",
       "<style scoped>\n",
       "    .dataframe tbody tr th:only-of-type {\n",
       "        vertical-align: middle;\n",
       "    }\n",
       "\n",
       "    .dataframe tbody tr th {\n",
       "        vertical-align: top;\n",
       "    }\n",
       "\n",
       "    .dataframe thead th {\n",
       "        text-align: right;\n",
       "    }\n",
       "</style>\n",
       "<table border=\"1\" class=\"dataframe\">\n",
       "  <thead>\n",
       "    <tr style=\"text-align: right;\">\n",
       "      <th></th>\n",
       "      <th>id</th>\n",
       "      <th>status_group</th>\n",
       "    </tr>\n",
       "  </thead>\n",
       "  <tbody>\n",
       "    <tr>\n",
       "      <th>9356</th>\n",
       "      <td>69041</td>\n",
       "      <td>functional</td>\n",
       "    </tr>\n",
       "    <tr>\n",
       "      <th>3941</th>\n",
       "      <td>39891</td>\n",
       "      <td>non functional</td>\n",
       "    </tr>\n",
       "    <tr>\n",
       "      <th>46402</th>\n",
       "      <td>56421</td>\n",
       "      <td>non functional</td>\n",
       "    </tr>\n",
       "    <tr>\n",
       "      <th>15262</th>\n",
       "      <td>41815</td>\n",
       "      <td>functional needs repair</td>\n",
       "    </tr>\n",
       "    <tr>\n",
       "      <th>2329</th>\n",
       "      <td>36407</td>\n",
       "      <td>functional</td>\n",
       "    </tr>\n",
       "  </tbody>\n",
       "</table>\n",
       "</div>"
      ],
      "text/plain": [
       "          id             status_group\n",
       "9356   69041               functional\n",
       "3941   39891           non functional\n",
       "46402  56421           non functional\n",
       "15262  41815  functional needs repair\n",
       "2329   36407               functional"
      ]
     },
     "execution_count": 5,
     "metadata": {},
     "output_type": "execute_result"
    }
   ],
   "source": [
    "# 'Labels' provided for each pump location - clasificaiton - what I am predicting\n",
    "\n",
    "df_labels = pd.read_csv('/Users/amycurneen/ds/metis/metisgh/Metis-Curneen/3 - Water Pumps/Data Downloads/Training set labels.csv')\n",
    "df_labels.sample(5)"
   ]
  },
  {
   "cell_type": "markdown",
   "metadata": {
    "heading_collapsed": true
   },
   "source": [
    "# Exploratory Data Analysis"
   ]
  },
  {
   "cell_type": "markdown",
   "metadata": {
    "heading_collapsed": true,
    "hidden": true
   },
   "source": [
    "## Colum descriptions"
   ]
  },
  {
   "cell_type": "markdown",
   "metadata": {
    "hidden": true
   },
   "source": [
    "My goal is to predict the operating condition of a waterpoint for each record in the dataset. I was provided the following set of information about the waterpoints:\n",
    "\n",
    "* amount_tsh - Total static head (amount water available to waterpoint)\n",
    "    * 98 unique\n",
    "* date_recorded - The date the row was entered\n",
    "    * 365 unique\n",
    "    * year - month - day\n",
    "* funder - Who funded the well\n",
    "    * 1897 unique\n",
    "    * look at top ones?\n",
    "* installer - Organization that installed the well\n",
    "    * 2145 unique\n",
    "    * DWE is main one - 10x closest other, 17k\n",
    "* wpt_name - Name of the waterpoint if there is one\n",
    "    * 37400 unique\n",
    "    * look at top ones?\n",
    "* num_private - (NO PROVIDED DESC)\n",
    "    * 65 unique\n",
    "    * USELESS FEATURE\n",
    "* population - Population around the well\n",
    "    * 1049 unique\n",
    "    * a lot are zero\n",
    "* public_meeting - True/False\n",
    "    * 2 unique\n",
    "* recorded_by - Group entering this row of data\n",
    "    * 1 unique\n",
    "    * all the same - USELESS FEATURE\n",
    "* scheme_management - Who operates the waterpoint\n",
    "    * 12 unique\n",
    "* scheme_name - Who operates the waterpoint\n",
    "    * 2696 unique\n",
    "    * USELESS FEATURE\n",
    "* permit - If the waterpoint is permitted\n",
    "    * 2 unique\n",
    "* construction_year - Year the waterpoint was constructed\n",
    "    * 55 unique\n",
    "    * third are 0 - USELESS FEATURE\n",
    "\n",
    "\n",
    "* Geography\n",
    "    * gps_height - Altitude of the well\n",
    "        * numerical\n",
    "    * longitude - GPS coordinate\n",
    "        * numerical\n",
    "    * latitude - GPS coordinate\n",
    "        * numerical\n",
    "    * basin - Geographic water basin\n",
    "        * 9 unique\n",
    "    * subvillage - Geographic location\n",
    "        * 19287 unique\n",
    "    * region - Geographic location\n",
    "        * 21 unique\n",
    "    * region_code - Geographic location (coded)\n",
    "        * 27 unique\n",
    "    * district_code - Geographic location (coded)\n",
    "        * 20 unique\n",
    "    * lga - Geographic location\n",
    "        * 125 unique\n",
    "    * ward - Geographic location\n",
    "        * 2092 unique\n",
    "\n",
    "\n",
    "* Extraction\n",
    "    * extraction_type - The kind of extraction the waterpoint uses\n",
    "        * 18 unique\n",
    "        * Most descriptive of extraction\n",
    "    * extraction_type_group - The kind of extraction the waterpoint uses\n",
    "        * 13 unique\n",
    "        * Parent of extraction_type\n",
    "    * extraction_type_class - The kind of extraction the waterpoint uses\n",
    "        * 7 unique\n",
    "        * Parent of extraction_type_group\n",
    "\n",
    "\n",
    "* Overhead\n",
    "    * management - How the waterpoint is managed\n",
    "        * 12 unique\n",
    "    * management_group - How the waterpoint is managed\n",
    "        * 5 unique\n",
    "    * payment - What the water costs\n",
    "        * 7 unique\n",
    "        * same as payment type\n",
    "    * payment_type - What the water costs\n",
    "        * 7 unique\n",
    "        * same as payment\n",
    "\n",
    "\n",
    "* Water\n",
    "    * water_quality - The quality of the water \n",
    "        * 3 unique\n",
    "        * Subset of quality_group\n",
    "    * quality_group - The quality of the water\n",
    "        * 6 unique\n",
    "        * Parent group of water_quality\n",
    "    * quantity - The quantity of water\n",
    "        * 5 unique\n",
    "        * Same as quantity_group\n",
    "    * quantity_group - The quantity of water\n",
    "        * 5 unique\n",
    "        * Same as quantity\n",
    "    * source - The source of the water\n",
    "        * 10 unique\n",
    "    * source_type - The source of the water\n",
    "        * 7 unique\n",
    "        * Subset of source\n",
    "    * source_class - The source of the water\n",
    "        * 3 unique\n",
    "        * Subset of source_type\n",
    "    * waterpoint_type - The kind of waterpoint\n",
    "        * 6 unique\n",
    "        * Parent of waterpoint_type_group\n",
    "    * waterpoint_type_group - The kind of waterpoint\n",
    "        * 7 unique\n",
    "        * Subset of waterpoint_type"
   ]
  },
  {
   "cell_type": "markdown",
   "metadata": {
    "heading_collapsed": true,
    "hidden": true
   },
   "source": [
    "## Various EDA"
   ]
  },
  {
   "cell_type": "markdown",
   "metadata": {
    "hidden": true
   },
   "source": [
    "##### Status"
   ]
  },
  {
   "cell_type": "code",
   "execution_count": null,
   "metadata": {
    "hidden": true
   },
   "outputs": [],
   "source": [
    "# 3 Unique status present\n",
    "df_labels.status_group.value_counts()"
   ]
  },
  {
   "cell_type": "markdown",
   "metadata": {
    "hidden": true
   },
   "source": [
    "##### Finding features"
   ]
  },
  {
   "cell_type": "code",
   "execution_count": null,
   "metadata": {
    "hidden": true
   },
   "outputs": [],
   "source": []
  },
  {
   "cell_type": "markdown",
   "metadata": {
    "hidden": true
   },
   "source": [
    "##### Review histograms of extraction data\n",
    "\n",
    "* extraction_type - The kind of extraction the waterpoint uses\n",
    "* extraction_type_group - The kind of extraction the waterpoint uses\n",
    "* extraction_type_class - The kind of extraction the waterpoint uses"
   ]
  },
  {
   "cell_type": "code",
   "execution_count": null,
   "metadata": {
    "hidden": true
   },
   "outputs": [],
   "source": [
    "df_values.extraction_type.value_counts().plot('barh')\n",
    "len(df_values.extraction_type.value_counts())"
   ]
  },
  {
   "cell_type": "code",
   "execution_count": null,
   "metadata": {
    "hidden": true
   },
   "outputs": [],
   "source": [
    "df_values.extraction_type_group.value_counts().plot('barh')\n",
    "len(df_values.extraction_type_group.value_counts())"
   ]
  },
  {
   "cell_type": "code",
   "execution_count": null,
   "metadata": {
    "hidden": true,
    "scrolled": true
   },
   "outputs": [],
   "source": [
    "df_values.extraction_type_class.value_counts().plot('barh')\n",
    "len(df_values.extraction_type_class.value_counts())"
   ]
  },
  {
   "cell_type": "markdown",
   "metadata": {
    "hidden": true
   },
   "source": [
    "##### Other"
   ]
  },
  {
   "cell_type": "code",
   "execution_count": null,
   "metadata": {
    "hidden": true
   },
   "outputs": [],
   "source": [
    "# df_values.population.value_counts()"
   ]
  },
  {
   "cell_type": "code",
   "execution_count": null,
   "metadata": {
    "hidden": true
   },
   "outputs": [],
   "source": [
    "len(df_values.ward.value_counts())"
   ]
  },
  {
   "cell_type": "code",
   "execution_count": null,
   "metadata": {
    "hidden": true
   },
   "outputs": [],
   "source": [
    "# len(df_values.management.value_counts())"
   ]
  },
  {
   "cell_type": "code",
   "execution_count": null,
   "metadata": {
    "hidden": true
   },
   "outputs": [],
   "source": [
    "# print(df_values.region.value_counts())\n",
    "# print('Length: ',len(df_values.region.value_counts()))"
   ]
  },
  {
   "cell_type": "code",
   "execution_count": null,
   "metadata": {
    "hidden": true
   },
   "outputs": [],
   "source": [
    "#print(df_values.region_code.value_counts())\n",
    "#print('Length: ',len(df_values.region_code.value_counts()))"
   ]
  },
  {
   "cell_type": "code",
   "execution_count": null,
   "metadata": {
    "hidden": true
   },
   "outputs": [],
   "source": [
    "# df_values.water_quality.value_counts()"
   ]
  },
  {
   "cell_type": "code",
   "execution_count": null,
   "metadata": {
    "hidden": true
   },
   "outputs": [],
   "source": [
    "#df_values.installer.value_counts()"
   ]
  },
  {
   "cell_type": "markdown",
   "metadata": {},
   "source": [
    "# Test Train Split"
   ]
  },
  {
   "cell_type": "code",
   "execution_count": 6,
   "metadata": {},
   "outputs": [],
   "source": [
    "# randomize data\n",
    "# df_lables, df_values - combine and shuffle this data\n",
    "\n",
    "df = pd.merge(df_labels,df_values,how = 'left')\n",
    "df = df.sample(frac=1).reset_index(drop=True)"
   ]
  },
  {
   "cell_type": "code",
   "execution_count": 7,
   "metadata": {},
   "outputs": [],
   "source": [
    "# Split back to X and y and then TTS\n",
    "y = df[[\"id\",\"status_group\"]]\n",
    "X = df.drop('status_group', axis=1)\n",
    "\n",
    "from sklearn.cross_validation import train_test_split\n",
    "\n",
    "X_train, X_test, y_train, y_test = train_test_split(X, y, test_size=0.2)"
   ]
  },
  {
   "cell_type": "markdown",
   "metadata": {},
   "source": [
    "# Data Import - Challenge Data"
   ]
  },
  {
   "cell_type": "code",
   "execution_count": 8,
   "metadata": {},
   "outputs": [
    {
     "data": {
      "text/html": [
       "<div>\n",
       "<style scoped>\n",
       "    .dataframe tbody tr th:only-of-type {\n",
       "        vertical-align: middle;\n",
       "    }\n",
       "\n",
       "    .dataframe tbody tr th {\n",
       "        vertical-align: top;\n",
       "    }\n",
       "\n",
       "    .dataframe thead th {\n",
       "        text-align: right;\n",
       "    }\n",
       "</style>\n",
       "<table border=\"1\" class=\"dataframe\">\n",
       "  <thead>\n",
       "    <tr style=\"text-align: right;\">\n",
       "      <th></th>\n",
       "      <th>id</th>\n",
       "      <th>amount_tsh</th>\n",
       "      <th>date_recorded</th>\n",
       "      <th>funder</th>\n",
       "      <th>gps_height</th>\n",
       "      <th>installer</th>\n",
       "      <th>longitude</th>\n",
       "      <th>latitude</th>\n",
       "      <th>wpt_name</th>\n",
       "      <th>num_private</th>\n",
       "      <th>...</th>\n",
       "      <th>payment_type</th>\n",
       "      <th>water_quality</th>\n",
       "      <th>quality_group</th>\n",
       "      <th>quantity</th>\n",
       "      <th>quantity_group</th>\n",
       "      <th>source</th>\n",
       "      <th>source_type</th>\n",
       "      <th>source_class</th>\n",
       "      <th>waterpoint_type</th>\n",
       "      <th>waterpoint_type_group</th>\n",
       "    </tr>\n",
       "  </thead>\n",
       "  <tbody>\n",
       "    <tr>\n",
       "      <th>12248</th>\n",
       "      <td>14118</td>\n",
       "      <td>500.0</td>\n",
       "      <td>2011-04-03</td>\n",
       "      <td>Shipo</td>\n",
       "      <td>1516</td>\n",
       "      <td>Shipo</td>\n",
       "      <td>35.061824</td>\n",
       "      <td>-8.862388</td>\n",
       "      <td>Kwa Hosea Kihombo</td>\n",
       "      <td>0</td>\n",
       "      <td>...</td>\n",
       "      <td>on failure</td>\n",
       "      <td>soft</td>\n",
       "      <td>good</td>\n",
       "      <td>enough</td>\n",
       "      <td>enough</td>\n",
       "      <td>hand dtw</td>\n",
       "      <td>borehole</td>\n",
       "      <td>groundwater</td>\n",
       "      <td>hand pump</td>\n",
       "      <td>hand pump</td>\n",
       "    </tr>\n",
       "    <tr>\n",
       "      <th>14731</th>\n",
       "      <td>44737</td>\n",
       "      <td>0.0</td>\n",
       "      <td>2011-12-07</td>\n",
       "      <td>Danida</td>\n",
       "      <td>0</td>\n",
       "      <td>Central government</td>\n",
       "      <td>33.920749</td>\n",
       "      <td>-9.639047</td>\n",
       "      <td>Kwa Tuta Mwakatimbe</td>\n",
       "      <td>0</td>\n",
       "      <td>...</td>\n",
       "      <td>never pay</td>\n",
       "      <td>soft</td>\n",
       "      <td>good</td>\n",
       "      <td>dry</td>\n",
       "      <td>dry</td>\n",
       "      <td>spring</td>\n",
       "      <td>spring</td>\n",
       "      <td>groundwater</td>\n",
       "      <td>communal standpipe</td>\n",
       "      <td>communal standpipe</td>\n",
       "    </tr>\n",
       "    <tr>\n",
       "      <th>6565</th>\n",
       "      <td>50387</td>\n",
       "      <td>250.0</td>\n",
       "      <td>2013-01-25</td>\n",
       "      <td>Kadp</td>\n",
       "      <td>1268</td>\n",
       "      <td>KADP</td>\n",
       "      <td>30.050038</td>\n",
       "      <td>-4.690313</td>\n",
       "      <td>Kwa Robson</td>\n",
       "      <td>0</td>\n",
       "      <td>...</td>\n",
       "      <td>monthly</td>\n",
       "      <td>soft</td>\n",
       "      <td>good</td>\n",
       "      <td>enough</td>\n",
       "      <td>enough</td>\n",
       "      <td>river</td>\n",
       "      <td>river/lake</td>\n",
       "      <td>surface</td>\n",
       "      <td>communal standpipe</td>\n",
       "      <td>communal standpipe</td>\n",
       "    </tr>\n",
       "    <tr>\n",
       "      <th>769</th>\n",
       "      <td>16100</td>\n",
       "      <td>0.0</td>\n",
       "      <td>2011-03-06</td>\n",
       "      <td>Dhv</td>\n",
       "      <td>326</td>\n",
       "      <td>DWE</td>\n",
       "      <td>36.825067</td>\n",
       "      <td>-8.911435</td>\n",
       "      <td>Mnazi Mmoja</td>\n",
       "      <td>0</td>\n",
       "      <td>...</td>\n",
       "      <td>never pay</td>\n",
       "      <td>soft</td>\n",
       "      <td>good</td>\n",
       "      <td>insufficient</td>\n",
       "      <td>insufficient</td>\n",
       "      <td>river</td>\n",
       "      <td>river/lake</td>\n",
       "      <td>surface</td>\n",
       "      <td>communal standpipe</td>\n",
       "      <td>communal standpipe</td>\n",
       "    </tr>\n",
       "    <tr>\n",
       "      <th>12392</th>\n",
       "      <td>53079</td>\n",
       "      <td>0.0</td>\n",
       "      <td>2011-04-01</td>\n",
       "      <td>NaN</td>\n",
       "      <td>0</td>\n",
       "      <td>NaN</td>\n",
       "      <td>33.387249</td>\n",
       "      <td>-9.526928</td>\n",
       "      <td>Shuleni</td>\n",
       "      <td>0</td>\n",
       "      <td>...</td>\n",
       "      <td>unknown</td>\n",
       "      <td>soft</td>\n",
       "      <td>good</td>\n",
       "      <td>seasonal</td>\n",
       "      <td>seasonal</td>\n",
       "      <td>spring</td>\n",
       "      <td>spring</td>\n",
       "      <td>groundwater</td>\n",
       "      <td>communal standpipe</td>\n",
       "      <td>communal standpipe</td>\n",
       "    </tr>\n",
       "  </tbody>\n",
       "</table>\n",
       "<p>5 rows × 40 columns</p>\n",
       "</div>"
      ],
      "text/plain": [
       "          id  amount_tsh date_recorded  funder  gps_height           installer  longitude  latitude             wpt_name  num_private          ...          payment_type water_quality quality_group      quantity  quantity_group    source source_type  source_class     waterpoint_type waterpoint_type_group\n",
       "12248  14118       500.0    2011-04-03   Shipo        1516               Shipo  35.061824 -8.862388    Kwa Hosea Kihombo            0          ...            on failure          soft          good        enough          enough  hand dtw    borehole   groundwater           hand pump             hand pump\n",
       "14731  44737         0.0    2011-12-07  Danida           0  Central government  33.920749 -9.639047  Kwa Tuta Mwakatimbe            0          ...             never pay          soft          good           dry             dry    spring      spring   groundwater  communal standpipe    communal standpipe\n",
       "6565   50387       250.0    2013-01-25    Kadp        1268                KADP  30.050038 -4.690313           Kwa Robson            0          ...               monthly          soft          good        enough          enough     river  river/lake       surface  communal standpipe    communal standpipe\n",
       "769    16100         0.0    2011-03-06     Dhv         326                 DWE  36.825067 -8.911435          Mnazi Mmoja            0          ...             never pay          soft          good  insufficient    insufficient     river  river/lake       surface  communal standpipe    communal standpipe\n",
       "12392  53079         0.0    2011-04-01     NaN           0                 NaN  33.387249 -9.526928              Shuleni            0          ...               unknown          soft          good      seasonal        seasonal    spring      spring   groundwater  communal standpipe    communal standpipe\n",
       "\n",
       "[5 rows x 40 columns]"
      ]
     },
     "execution_count": 8,
     "metadata": {},
     "output_type": "execute_result"
    }
   ],
   "source": [
    "# 'Values' provided for each competition pump location - features\n",
    "\n",
    "df_test_values = pd.read_csv('/Users/amycurneen/ds/metis/metisgh/Metis-Curneen/3 - Water Pumps/Data Downloads/Test set values.csv')\n",
    "df_test_values.sample(5)"
   ]
  },
  {
   "cell_type": "code",
   "execution_count": 9,
   "metadata": {},
   "outputs": [
    {
     "data": {
      "text/html": [
       "<div>\n",
       "<style scoped>\n",
       "    .dataframe tbody tr th:only-of-type {\n",
       "        vertical-align: middle;\n",
       "    }\n",
       "\n",
       "    .dataframe tbody tr th {\n",
       "        vertical-align: top;\n",
       "    }\n",
       "\n",
       "    .dataframe thead th {\n",
       "        text-align: right;\n",
       "    }\n",
       "</style>\n",
       "<table border=\"1\" class=\"dataframe\">\n",
       "  <thead>\n",
       "    <tr style=\"text-align: right;\">\n",
       "      <th></th>\n",
       "      <th>id</th>\n",
       "      <th>status_group</th>\n",
       "    </tr>\n",
       "  </thead>\n",
       "  <tbody>\n",
       "    <tr>\n",
       "      <th>1341</th>\n",
       "      <td>19492</td>\n",
       "      <td>predicted label</td>\n",
       "    </tr>\n",
       "    <tr>\n",
       "      <th>14283</th>\n",
       "      <td>60798</td>\n",
       "      <td>predicted label</td>\n",
       "    </tr>\n",
       "    <tr>\n",
       "      <th>8852</th>\n",
       "      <td>58659</td>\n",
       "      <td>predicted label</td>\n",
       "    </tr>\n",
       "    <tr>\n",
       "      <th>7750</th>\n",
       "      <td>71273</td>\n",
       "      <td>predicted label</td>\n",
       "    </tr>\n",
       "    <tr>\n",
       "      <th>13310</th>\n",
       "      <td>5868</td>\n",
       "      <td>predicted label</td>\n",
       "    </tr>\n",
       "  </tbody>\n",
       "</table>\n",
       "</div>"
      ],
      "text/plain": [
       "          id     status_group\n",
       "1341   19492  predicted label\n",
       "14283  60798  predicted label\n",
       "8852   58659  predicted label\n",
       "7750   71273  predicted label\n",
       "13310   5868  predicted label"
      ]
     },
     "execution_count": 9,
     "metadata": {},
     "output_type": "execute_result"
    }
   ],
   "source": [
    "# 'Labels' I will provide for each pump location - clasificaiton\n",
    "\n",
    "df_sub = pd.read_csv('/Users/amycurneen/ds/metis/metisgh/Metis-Curneen/3 - Water Pumps/Data Downloads/SubmissionFormat.csv')\n",
    "df_sub.sample(5)"
   ]
  },
  {
   "cell_type": "code",
   "execution_count": 10,
   "metadata": {
    "scrolled": true
   },
   "outputs": [
    {
     "data": {
      "text/html": [
       "<div>\n",
       "<style scoped>\n",
       "    .dataframe tbody tr th:only-of-type {\n",
       "        vertical-align: middle;\n",
       "    }\n",
       "\n",
       "    .dataframe tbody tr th {\n",
       "        vertical-align: top;\n",
       "    }\n",
       "\n",
       "    .dataframe thead th {\n",
       "        text-align: right;\n",
       "    }\n",
       "</style>\n",
       "<table border=\"1\" class=\"dataframe\">\n",
       "  <thead>\n",
       "    <tr style=\"text-align: right;\">\n",
       "      <th></th>\n",
       "      <th>id</th>\n",
       "    </tr>\n",
       "  </thead>\n",
       "  <tbody>\n",
       "    <tr>\n",
       "      <th>6440</th>\n",
       "      <td>23203</td>\n",
       "    </tr>\n",
       "    <tr>\n",
       "      <th>119</th>\n",
       "      <td>44492</td>\n",
       "    </tr>\n",
       "    <tr>\n",
       "      <th>9506</th>\n",
       "      <td>7004</td>\n",
       "    </tr>\n",
       "    <tr>\n",
       "      <th>2306</th>\n",
       "      <td>57912</td>\n",
       "    </tr>\n",
       "    <tr>\n",
       "      <th>1780</th>\n",
       "      <td>54078</td>\n",
       "    </tr>\n",
       "  </tbody>\n",
       "</table>\n",
       "</div>"
      ],
      "text/plain": [
       "         id\n",
       "6440  23203\n",
       "119   44492\n",
       "9506   7004\n",
       "2306  57912\n",
       "1780  54078"
      ]
     },
     "execution_count": 10,
     "metadata": {},
     "output_type": "execute_result"
    }
   ],
   "source": [
    "df_sub = df_sub.drop('status_group', axis = 1)\n",
    "df_sub.sample(5)"
   ]
  },
  {
   "cell_type": "markdown",
   "metadata": {},
   "source": [
    "# Dummy Classification\n",
    "\n",
    "Functional is the highest output"
   ]
  },
  {
   "cell_type": "code",
   "execution_count": 11,
   "metadata": {},
   "outputs": [],
   "source": [
    "# set everything to functional - most common - and submit for a baseline\n",
    "\n",
    "df_sub['status_group'] = pd.Series('functional', index=df_sub.index)\n",
    "df_sub.to_csv('./Submissions/dummy_classification.csv',index=False)"
   ]
  },
  {
   "cell_type": "markdown",
   "metadata": {},
   "source": [
    "<table>\n",
    "  <tr>\n",
    "    <th>Best</th>\n",
    "    <th>Current Rank</th>\n",
    "    <th>Competitors</th>\n",
    "    <th>Time</th>\n",
    "  </tr>\n",
    "  <tr>\n",
    "    <td>0.5461</td>\n",
    "    <td>1342</td>\n",
    "    <td>5030</td>\n",
    "    <td>May 3, 2018, 8:37 p.m.</td>\n",
    "  </tr>\n",
    "</table>"
   ]
  },
  {
   "cell_type": "markdown",
   "metadata": {},
   "source": [
    "# Decision Tree"
   ]
  },
  {
   "cell_type": "code",
   "execution_count": 12,
   "metadata": {},
   "outputs": [],
   "source": [
    "import matplotlib.pyplot as plt\n",
    "%matplotlib inline\n",
    "import matplotlib.cm as cm\n",
    "import numpy as np\n",
    "import random\n",
    "\n",
    "from sklearn.tree import DecisionTreeClassifier\n",
    "from sklearn.svm import LinearSVC\n",
    "from sklearn.svm import SVC\n",
    "from sklearn.ensemble import RandomForestClassifier\n",
    "from sklearn.linear_model import LogisticRegression"
   ]
  },
  {
   "cell_type": "code",
   "execution_count": 14,
   "metadata": {},
   "outputs": [
    {
     "data": {
      "text/html": [
       "<div>\n",
       "<style scoped>\n",
       "    .dataframe tbody tr th:only-of-type {\n",
       "        vertical-align: middle;\n",
       "    }\n",
       "\n",
       "    .dataframe tbody tr th {\n",
       "        vertical-align: top;\n",
       "    }\n",
       "\n",
       "    .dataframe thead th {\n",
       "        text-align: right;\n",
       "    }\n",
       "</style>\n",
       "<table border=\"1\" class=\"dataframe\">\n",
       "  <thead>\n",
       "    <tr style=\"text-align: right;\">\n",
       "      <th></th>\n",
       "      <th>id</th>\n",
       "      <th>status_group</th>\n",
       "      <th>amount_tsh</th>\n",
       "      <th>date_recorded</th>\n",
       "      <th>funder</th>\n",
       "      <th>gps_height</th>\n",
       "      <th>installer</th>\n",
       "      <th>longitude</th>\n",
       "      <th>latitude</th>\n",
       "      <th>wpt_name</th>\n",
       "      <th>...</th>\n",
       "      <th>payment_type</th>\n",
       "      <th>water_quality</th>\n",
       "      <th>quality_group</th>\n",
       "      <th>quantity</th>\n",
       "      <th>quantity_group</th>\n",
       "      <th>source</th>\n",
       "      <th>source_type</th>\n",
       "      <th>source_class</th>\n",
       "      <th>waterpoint_type</th>\n",
       "      <th>waterpoint_type_group</th>\n",
       "    </tr>\n",
       "  </thead>\n",
       "  <tbody>\n",
       "    <tr>\n",
       "      <th>33398</th>\n",
       "      <td>7490</td>\n",
       "      <td>non functional</td>\n",
       "      <td>0.0</td>\n",
       "      <td>2012-10-12</td>\n",
       "      <td>Rural Water Supply And Sanitat</td>\n",
       "      <td>0</td>\n",
       "      <td>DWE</td>\n",
       "      <td>31.842241</td>\n",
       "      <td>-3.345323</td>\n",
       "      <td>Nyikonga</td>\n",
       "      <td>...</td>\n",
       "      <td>unknown</td>\n",
       "      <td>soft</td>\n",
       "      <td>good</td>\n",
       "      <td>enough</td>\n",
       "      <td>enough</td>\n",
       "      <td>shallow well</td>\n",
       "      <td>shallow well</td>\n",
       "      <td>groundwater</td>\n",
       "      <td>other</td>\n",
       "      <td>other</td>\n",
       "    </tr>\n",
       "    <tr>\n",
       "      <th>38989</th>\n",
       "      <td>44039</td>\n",
       "      <td>functional</td>\n",
       "      <td>100.0</td>\n",
       "      <td>2011-03-04</td>\n",
       "      <td>Government Of Tanzania</td>\n",
       "      <td>600</td>\n",
       "      <td>DWE</td>\n",
       "      <td>38.196422</td>\n",
       "      <td>-4.455360</td>\n",
       "      <td>Kwe Mkwazu</td>\n",
       "      <td>...</td>\n",
       "      <td>monthly</td>\n",
       "      <td>soft</td>\n",
       "      <td>good</td>\n",
       "      <td>enough</td>\n",
       "      <td>enough</td>\n",
       "      <td>spring</td>\n",
       "      <td>spring</td>\n",
       "      <td>groundwater</td>\n",
       "      <td>communal standpipe</td>\n",
       "      <td>communal standpipe</td>\n",
       "    </tr>\n",
       "    <tr>\n",
       "      <th>58950</th>\n",
       "      <td>39228</td>\n",
       "      <td>functional</td>\n",
       "      <td>200.0</td>\n",
       "      <td>2011-03-25</td>\n",
       "      <td>Government Of Tanzania</td>\n",
       "      <td>260</td>\n",
       "      <td>DWE</td>\n",
       "      <td>36.905730</td>\n",
       "      <td>-7.833002</td>\n",
       "      <td>Kwakirwanda</td>\n",
       "      <td>...</td>\n",
       "      <td>monthly</td>\n",
       "      <td>soft</td>\n",
       "      <td>good</td>\n",
       "      <td>insufficient</td>\n",
       "      <td>insufficient</td>\n",
       "      <td>river</td>\n",
       "      <td>river/lake</td>\n",
       "      <td>surface</td>\n",
       "      <td>communal standpipe</td>\n",
       "      <td>communal standpipe</td>\n",
       "    </tr>\n",
       "  </tbody>\n",
       "</table>\n",
       "<p>3 rows × 41 columns</p>\n",
       "</div>"
      ],
      "text/plain": [
       "          id    status_group  amount_tsh date_recorded                          funder  gps_height installer  longitude  latitude     wpt_name          ...           payment_type water_quality quality_group      quantity  quantity_group        source   source_type source_class     waterpoint_type waterpoint_type_group\n",
       "33398   7490  non functional         0.0    2012-10-12  Rural Water Supply And Sanitat           0       DWE  31.842241 -3.345323     Nyikonga          ...                unknown          soft          good        enough          enough  shallow well  shallow well  groundwater               other                 other\n",
       "38989  44039      functional       100.0    2011-03-04          Government Of Tanzania         600       DWE  38.196422 -4.455360   Kwe Mkwazu          ...                monthly          soft          good        enough          enough        spring        spring  groundwater  communal standpipe    communal standpipe\n",
       "58950  39228      functional       200.0    2011-03-25          Government Of Tanzania         260       DWE  36.905730 -7.833002  Kwakirwanda          ...                monthly          soft          good  insufficient    insufficient         river    river/lake      surface  communal standpipe    communal standpipe\n",
       "\n",
       "[3 rows x 41 columns]"
      ]
     },
     "execution_count": 14,
     "metadata": {},
     "output_type": "execute_result"
    }
   ],
   "source": [
    "df.sample(3)"
   ]
  },
  {
   "cell_type": "code",
   "execution_count": 15,
   "metadata": {},
   "outputs": [],
   "source": [
    "# try with a few less features first \n",
    "\n",
    "feature_no_sel = df[['amount_tsh', 'date_recorded', 'funder', 'installer', \n",
    "                   'wpt_name', 'num_private', 'subvillage', 'region', \n",
    "                   'region_code', 'district_code', 'lga', 'ward', 'public_meeting', 'recorded_by', \n",
    "                   'scheme_management', 'scheme_name', 'permit', 'construction_year', 'extraction_type', \n",
    "                   'extraction_type_group', 'management', 'management_group', 'payment', \n",
    "                   'payment_type', 'water_quality', 'quality_group', 'quantity_group', 'source', \n",
    "                   'source_type', 'waterpoint_type','region_code', \n",
    "                  'district_code']]\n",
    "\n",
    "feature_sel = df[['id', 'status_group', 'gps_height', 'longitude', 'latitude', 'basin',\n",
    "                  'extraction_type_class','payment','quantity','water_quality', 'source_class',\n",
    "                  'waterpoint_type_group','population','public_meeting','scheme_management']]"
   ]
  },
  {
   "cell_type": "code",
   "execution_count": 16,
   "metadata": {
    "scrolled": true
   },
   "outputs": [
    {
     "data": {
      "text/html": [
       "<div>\n",
       "<style scoped>\n",
       "    .dataframe tbody tr th:only-of-type {\n",
       "        vertical-align: middle;\n",
       "    }\n",
       "\n",
       "    .dataframe tbody tr th {\n",
       "        vertical-align: top;\n",
       "    }\n",
       "\n",
       "    .dataframe thead th {\n",
       "        text-align: right;\n",
       "    }\n",
       "</style>\n",
       "<table border=\"1\" class=\"dataframe\">\n",
       "  <thead>\n",
       "    <tr style=\"text-align: right;\">\n",
       "      <th></th>\n",
       "      <th>id</th>\n",
       "      <th>status_group</th>\n",
       "      <th>gps_height</th>\n",
       "      <th>longitude</th>\n",
       "      <th>latitude</th>\n",
       "      <th>basin</th>\n",
       "      <th>extraction_type_class</th>\n",
       "      <th>payment</th>\n",
       "      <th>quantity</th>\n",
       "      <th>water_quality</th>\n",
       "      <th>source_class</th>\n",
       "      <th>waterpoint_type_group</th>\n",
       "      <th>population</th>\n",
       "      <th>public_meeting</th>\n",
       "      <th>scheme_management</th>\n",
       "    </tr>\n",
       "  </thead>\n",
       "  <tbody>\n",
       "    <tr>\n",
       "      <th>39498</th>\n",
       "      <td>36320</td>\n",
       "      <td>non functional</td>\n",
       "      <td>1549</td>\n",
       "      <td>34.755213</td>\n",
       "      <td>-5.001197</td>\n",
       "      <td>Internal</td>\n",
       "      <td>submersible</td>\n",
       "      <td>unknown</td>\n",
       "      <td>unknown</td>\n",
       "      <td>unknown</td>\n",
       "      <td>groundwater</td>\n",
       "      <td>communal standpipe</td>\n",
       "      <td>1</td>\n",
       "      <td>True</td>\n",
       "      <td>VWC</td>\n",
       "    </tr>\n",
       "    <tr>\n",
       "      <th>32275</th>\n",
       "      <td>30992</td>\n",
       "      <td>functional</td>\n",
       "      <td>1242</td>\n",
       "      <td>34.215950</td>\n",
       "      <td>-1.314896</td>\n",
       "      <td>Lake Victoria</td>\n",
       "      <td>handpump</td>\n",
       "      <td>pay per bucket</td>\n",
       "      <td>seasonal</td>\n",
       "      <td>salty</td>\n",
       "      <td>groundwater</td>\n",
       "      <td>hand pump</td>\n",
       "      <td>300</td>\n",
       "      <td>False</td>\n",
       "      <td>NaN</td>\n",
       "    </tr>\n",
       "    <tr>\n",
       "      <th>55418</th>\n",
       "      <td>53864</td>\n",
       "      <td>non functional</td>\n",
       "      <td>1111</td>\n",
       "      <td>34.963928</td>\n",
       "      <td>-5.832368</td>\n",
       "      <td>Internal</td>\n",
       "      <td>motorpump</td>\n",
       "      <td>unknown</td>\n",
       "      <td>enough</td>\n",
       "      <td>soft</td>\n",
       "      <td>groundwater</td>\n",
       "      <td>communal standpipe</td>\n",
       "      <td>250</td>\n",
       "      <td>True</td>\n",
       "      <td>VWC</td>\n",
       "    </tr>\n",
       "  </tbody>\n",
       "</table>\n",
       "</div>"
      ],
      "text/plain": [
       "          id    status_group  gps_height  longitude  latitude          basin extraction_type_class         payment  quantity water_quality source_class waterpoint_type_group  population public_meeting scheme_management\n",
       "39498  36320  non functional        1549  34.755213 -5.001197       Internal           submersible         unknown   unknown       unknown  groundwater    communal standpipe           1           True               VWC\n",
       "32275  30992      functional        1242  34.215950 -1.314896  Lake Victoria              handpump  pay per bucket  seasonal         salty  groundwater             hand pump         300          False               NaN\n",
       "55418  53864  non functional        1111  34.963928 -5.832368       Internal             motorpump         unknown    enough          soft  groundwater    communal standpipe         250           True               VWC"
      ]
     },
     "execution_count": 16,
     "metadata": {},
     "output_type": "execute_result"
    }
   ],
   "source": [
    "feature_sel.sample(3)"
   ]
  },
  {
   "cell_type": "code",
   "execution_count": 17,
   "metadata": {},
   "outputs": [],
   "source": [
    "# Change what I predict to 1,2,3\n",
    "\n",
    "for i in range(len(feature_sel.status_group)):\n",
    "    if feature_sel.status_group[i] == 'functional':\n",
    "        feature_sel.at[i, 'status_group'] = 3\n",
    "    elif feature_sel.status_group[i] == 'functional needs repair':\n",
    "        feature_sel.at[i, 'status_group'] = 2\n",
    "    else:\n",
    "        feature_sel.at[i, 'status_group'] = 1"
   ]
  },
  {
   "cell_type": "code",
   "execution_count": 18,
   "metadata": {},
   "outputs": [],
   "source": [
    "feature_sel=feature_sel.drop('id', axis=1)"
   ]
  },
  {
   "cell_type": "code",
   "execution_count": 19,
   "metadata": {},
   "outputs": [
    {
     "data": {
      "text/html": [
       "<div>\n",
       "<style scoped>\n",
       "    .dataframe tbody tr th:only-of-type {\n",
       "        vertical-align: middle;\n",
       "    }\n",
       "\n",
       "    .dataframe tbody tr th {\n",
       "        vertical-align: top;\n",
       "    }\n",
       "\n",
       "    .dataframe thead th {\n",
       "        text-align: right;\n",
       "    }\n",
       "</style>\n",
       "<table border=\"1\" class=\"dataframe\">\n",
       "  <thead>\n",
       "    <tr style=\"text-align: right;\">\n",
       "      <th></th>\n",
       "      <th>status_group</th>\n",
       "      <th>gps_height</th>\n",
       "      <th>longitude</th>\n",
       "      <th>latitude</th>\n",
       "      <th>population</th>\n",
       "      <th>basin</th>\n",
       "      <th>extraction_type_class</th>\n",
       "      <th>payment</th>\n",
       "      <th>quantity</th>\n",
       "      <th>water_quality</th>\n",
       "      <th>source_class</th>\n",
       "      <th>waterpoint_type_group</th>\n",
       "      <th>public_meeting</th>\n",
       "      <th>scheme_management</th>\n",
       "    </tr>\n",
       "  </thead>\n",
       "  <tbody>\n",
       "    <tr>\n",
       "      <th>2249</th>\n",
       "      <td>1</td>\n",
       "      <td>-9</td>\n",
       "      <td>39.435871</td>\n",
       "      <td>-7.098583</td>\n",
       "      <td>80</td>\n",
       "      <td>Wami / Ruvu</td>\n",
       "      <td>motorpump</td>\n",
       "      <td>never pay</td>\n",
       "      <td>dry</td>\n",
       "      <td>salty</td>\n",
       "      <td>groundwater</td>\n",
       "      <td>communal standpipe</td>\n",
       "      <td>True</td>\n",
       "      <td>VWC</td>\n",
       "    </tr>\n",
       "    <tr>\n",
       "      <th>36209</th>\n",
       "      <td>1</td>\n",
       "      <td>0</td>\n",
       "      <td>33.425374</td>\n",
       "      <td>-2.588938</td>\n",
       "      <td>0</td>\n",
       "      <td>Lake Victoria</td>\n",
       "      <td>handpump</td>\n",
       "      <td>never pay</td>\n",
       "      <td>enough</td>\n",
       "      <td>soft</td>\n",
       "      <td>groundwater</td>\n",
       "      <td>hand pump</td>\n",
       "      <td>True</td>\n",
       "      <td>VWC</td>\n",
       "    </tr>\n",
       "    <tr>\n",
       "      <th>17597</th>\n",
       "      <td>3</td>\n",
       "      <td>544</td>\n",
       "      <td>36.984454</td>\n",
       "      <td>-11.464673</td>\n",
       "      <td>1</td>\n",
       "      <td>Ruvuma / Southern Coast</td>\n",
       "      <td>handpump</td>\n",
       "      <td>pay annually</td>\n",
       "      <td>enough</td>\n",
       "      <td>soft</td>\n",
       "      <td>groundwater</td>\n",
       "      <td>hand pump</td>\n",
       "      <td>True</td>\n",
       "      <td>VWC</td>\n",
       "    </tr>\n",
       "  </tbody>\n",
       "</table>\n",
       "</div>"
      ],
      "text/plain": [
       "      status_group  gps_height  longitude   latitude  population                    basin extraction_type_class       payment quantity water_quality source_class waterpoint_type_group public_meeting scheme_management\n",
       "2249             1          -9  39.435871  -7.098583          80              Wami / Ruvu             motorpump     never pay      dry         salty  groundwater    communal standpipe           True               VWC\n",
       "36209            1           0  33.425374  -2.588938           0            Lake Victoria              handpump     never pay   enough          soft  groundwater             hand pump           True               VWC\n",
       "17597            3         544  36.984454 -11.464673           1  Ruvuma / Southern Coast              handpump  pay annually   enough          soft  groundwater             hand pump           True               VWC"
      ]
     },
     "execution_count": 19,
     "metadata": {},
     "output_type": "execute_result"
    }
   ],
   "source": [
    "# rearange columns\n",
    "cols = feature_sel.columns.tolist()\n",
    "cols = ['status_group',\n",
    "             'gps_height',\n",
    "             'longitude',\n",
    "             'latitude',\n",
    "             'population',\n",
    "             'basin',\n",
    "             'extraction_type_class',\n",
    "             'payment',\n",
    "             'quantity',\n",
    "             'water_quality',\n",
    "             'source_class',\n",
    "             'waterpoint_type_group',\n",
    "             'public_meeting',\n",
    "             'scheme_management']\n",
    "feature_sel = feature_sel[cols]\n",
    "feature_sel.sample(3)"
   ]
  },
  {
   "cell_type": "code",
   "execution_count": 20,
   "metadata": {},
   "outputs": [
    {
     "data": {
      "text/html": [
       "<div>\n",
       "<style scoped>\n",
       "    .dataframe tbody tr th:only-of-type {\n",
       "        vertical-align: middle;\n",
       "    }\n",
       "\n",
       "    .dataframe tbody tr th {\n",
       "        vertical-align: top;\n",
       "    }\n",
       "\n",
       "    .dataframe thead th {\n",
       "        text-align: right;\n",
       "    }\n",
       "</style>\n",
       "<table border=\"1\" class=\"dataframe\">\n",
       "  <thead>\n",
       "    <tr style=\"text-align: right;\">\n",
       "      <th></th>\n",
       "      <th>status_group</th>\n",
       "      <th>gps_height</th>\n",
       "      <th>longitude</th>\n",
       "      <th>latitude</th>\n",
       "      <th>population</th>\n",
       "      <th>basin_Internal</th>\n",
       "      <th>basin_Lake Nyasa</th>\n",
       "      <th>basin_Lake Rukwa</th>\n",
       "      <th>basin_Lake Tanganyika</th>\n",
       "      <th>basin_Lake Victoria</th>\n",
       "      <th>...</th>\n",
       "      <th>scheme_management_Other</th>\n",
       "      <th>scheme_management_Parastatal</th>\n",
       "      <th>scheme_management_Private operator</th>\n",
       "      <th>scheme_management_SWC</th>\n",
       "      <th>scheme_management_Trust</th>\n",
       "      <th>scheme_management_VWC</th>\n",
       "      <th>scheme_management_WUA</th>\n",
       "      <th>scheme_management_WUG</th>\n",
       "      <th>scheme_management_Water Board</th>\n",
       "      <th>scheme_management_Water authority</th>\n",
       "    </tr>\n",
       "  </thead>\n",
       "  <tbody>\n",
       "    <tr>\n",
       "      <th>17913</th>\n",
       "      <td>2</td>\n",
       "      <td>0</td>\n",
       "      <td>0.000000</td>\n",
       "      <td>-2.000000e-08</td>\n",
       "      <td>0</td>\n",
       "      <td>0</td>\n",
       "      <td>0</td>\n",
       "      <td>0</td>\n",
       "      <td>0</td>\n",
       "      <td>1</td>\n",
       "      <td>...</td>\n",
       "      <td>0</td>\n",
       "      <td>0</td>\n",
       "      <td>0</td>\n",
       "      <td>0</td>\n",
       "      <td>0</td>\n",
       "      <td>0</td>\n",
       "      <td>0</td>\n",
       "      <td>1</td>\n",
       "      <td>0</td>\n",
       "      <td>0</td>\n",
       "    </tr>\n",
       "    <tr>\n",
       "      <th>668</th>\n",
       "      <td>3</td>\n",
       "      <td>382</td>\n",
       "      <td>37.776650</td>\n",
       "      <td>-7.092046e+00</td>\n",
       "      <td>200</td>\n",
       "      <td>0</td>\n",
       "      <td>0</td>\n",
       "      <td>0</td>\n",
       "      <td>0</td>\n",
       "      <td>0</td>\n",
       "      <td>...</td>\n",
       "      <td>0</td>\n",
       "      <td>0</td>\n",
       "      <td>0</td>\n",
       "      <td>0</td>\n",
       "      <td>0</td>\n",
       "      <td>1</td>\n",
       "      <td>0</td>\n",
       "      <td>0</td>\n",
       "      <td>0</td>\n",
       "      <td>0</td>\n",
       "    </tr>\n",
       "    <tr>\n",
       "      <th>47038</th>\n",
       "      <td>3</td>\n",
       "      <td>0</td>\n",
       "      <td>32.746381</td>\n",
       "      <td>-8.820167e+00</td>\n",
       "      <td>0</td>\n",
       "      <td>0</td>\n",
       "      <td>0</td>\n",
       "      <td>1</td>\n",
       "      <td>0</td>\n",
       "      <td>0</td>\n",
       "      <td>...</td>\n",
       "      <td>0</td>\n",
       "      <td>0</td>\n",
       "      <td>0</td>\n",
       "      <td>0</td>\n",
       "      <td>0</td>\n",
       "      <td>1</td>\n",
       "      <td>0</td>\n",
       "      <td>0</td>\n",
       "      <td>0</td>\n",
       "      <td>0</td>\n",
       "    </tr>\n",
       "  </tbody>\n",
       "</table>\n",
       "<p>3 rows × 64 columns</p>\n",
       "</div>"
      ],
      "text/plain": [
       "      status_group  gps_height  longitude      latitude  population  basin_Internal  basin_Lake Nyasa  basin_Lake Rukwa  basin_Lake Tanganyika  basin_Lake Victoria                ...                  scheme_management_Other  scheme_management_Parastatal  scheme_management_Private operator  scheme_management_SWC  scheme_management_Trust  scheme_management_VWC  scheme_management_WUA  scheme_management_WUG  scheme_management_Water Board  scheme_management_Water authority\n",
       "17913            2           0   0.000000 -2.000000e-08           0               0                 0                 0                      0                    1                ...                                        0                             0                                   0                      0                        0                      0                      0                      1                              0                                  0\n",
       "668              3         382  37.776650 -7.092046e+00         200               0                 0                 0                      0                    0                ...                                        0                             0                                   0                      0                        0                      1                      0                      0                              0                                  0\n",
       "47038            3           0  32.746381 -8.820167e+00           0               0                 0                 1                      0                    0                ...                                        0                             0                                   0                      0                        0                      1                      0                      0                              0                                  0\n",
       "\n",
       "[3 rows x 64 columns]"
      ]
     },
     "execution_count": 20,
     "metadata": {},
     "output_type": "execute_result"
    }
   ],
   "source": [
    "#create dummy features for applicabe\n",
    "\n",
    "feature_sel = pd.get_dummies(feature_sel,columns=list(feature_sel.columns[5:]))\n",
    "feature_sel.sample(3)"
   ]
  },
  {
   "cell_type": "code",
   "execution_count": null,
   "metadata": {},
   "outputs": [],
   "source": []
  },
  {
   "cell_type": "code",
   "execution_count": null,
   "metadata": {},
   "outputs": [],
   "source": []
  },
  {
   "cell_type": "code",
   "execution_count": null,
   "metadata": {},
   "outputs": [],
   "source": []
  },
  {
   "cell_type": "code",
   "execution_count": null,
   "metadata": {},
   "outputs": [],
   "source": []
  },
  {
   "cell_type": "code",
   "execution_count": null,
   "metadata": {},
   "outputs": [],
   "source": [
    "randomforest = RandomForestClassifier()\n",
    "quick_test_afew_times(randomforest, X, y1)"
   ]
  },
  {
   "cell_type": "code",
   "execution_count": null,
   "metadata": {},
   "outputs": [],
   "source": []
  },
  {
   "cell_type": "code",
   "execution_count": null,
   "metadata": {},
   "outputs": [],
   "source": []
  },
  {
   "cell_type": "code",
   "execution_count": null,
   "metadata": {},
   "outputs": [],
   "source": []
  },
  {
   "cell_type": "code",
   "execution_count": null,
   "metadata": {},
   "outputs": [],
   "source": []
  },
  {
   "cell_type": "code",
   "execution_count": null,
   "metadata": {},
   "outputs": [],
   "source": []
  },
  {
   "cell_type": "code",
   "execution_count": null,
   "metadata": {},
   "outputs": [],
   "source": []
  },
  {
   "cell_type": "markdown",
   "metadata": {},
   "source": [
    "# SVM - dont edit here"
   ]
  },
  {
   "cell_type": "code",
   "execution_count": null,
   "metadata": {},
   "outputs": [],
   "source": [
    "columns = list(feature_sel.columns)\n",
    "feature_sel[columns[5:]] = feature_sel[columns[5:]].astype(int)\n",
    "feature_sel[columns[0]] = feature_sel[columns[0]].astype(int)"
   ]
  },
  {
   "cell_type": "code",
   "execution_count": null,
   "metadata": {},
   "outputs": [],
   "source": [
    "feature_sel = feature_sel.sample(frac=1).reset_index(drop=True)\n",
    "y = feature_sel.status_group\n",
    "X = feature_sel.drop('status_group', axis=1)\n",
    "\n",
    "from sklearn.cross_validation import train_test_split\n",
    "\n",
    "X_train, X_test, y_train, y_test = train_test_split(X, y, test_size=0.84)"
   ]
  },
  {
   "cell_type": "code",
   "execution_count": null,
   "metadata": {},
   "outputs": [],
   "source": [
    "X_train.head(1)"
   ]
  },
  {
   "cell_type": "markdown",
   "metadata": {},
   "source": [
    "## Adjust competition data"
   ]
  },
  {
   "cell_type": "code",
   "execution_count": null,
   "metadata": {},
   "outputs": [],
   "source": [
    "df_test_values = df_test_values[['gps_height', 'longitude', 'latitude', 'basin',\n",
    "                  'extraction_type_class','payment','quantity','water_quality', 'source_class',\n",
    "                  'waterpoint_type_group','population','public_meeting','scheme_management']]"
   ]
  },
  {
   "cell_type": "code",
   "execution_count": null,
   "metadata": {},
   "outputs": [],
   "source": [
    "# rearange columns\n",
    "cols = df_test_values.columns.tolist()\n",
    "cols = ['gps_height',\n",
    "             'longitude',\n",
    "             'latitude',\n",
    "             'population',\n",
    "             'basin',\n",
    "             'extraction_type_class',\n",
    "             'payment',\n",
    "             'quantity',\n",
    "             'water_quality',\n",
    "             'source_class',\n",
    "             'waterpoint_type_group',\n",
    "             'public_meeting',\n",
    "             'scheme_management']\n",
    "df_test_values = df_test_values[cols]"
   ]
  },
  {
   "cell_type": "code",
   "execution_count": null,
   "metadata": {},
   "outputs": [],
   "source": [
    "a = [0] * len(df_test_values['gps_height'])"
   ]
  },
  {
   "cell_type": "code",
   "execution_count": null,
   "metadata": {},
   "outputs": [],
   "source": [
    "df_test_values = pd.get_dummies(df_test_values,columns=list(df_test_values.columns[4:]))\n",
    "df_test_values.sample(5)\n",
    "df_test_values.head(10)"
   ]
  },
  {
   "cell_type": "code",
   "execution_count": null,
   "metadata": {},
   "outputs": [],
   "source": [
    "df_test_values['scheme_management_None'] = a\n",
    "df_test_values.head(10)"
   ]
  },
  {
   "cell_type": "code",
   "execution_count": null,
   "metadata": {},
   "outputs": [],
   "source": [
    "list(set(X_train.columns)-set(df_test_values.columns))"
   ]
  },
  {
   "cell_type": "markdown",
   "metadata": {},
   "source": [
    "# From class on SVM"
   ]
  },
  {
   "cell_type": "code",
   "execution_count": null,
   "metadata": {},
   "outputs": [],
   "source": [
    "from __future__ import print_function\n",
    "\n",
    "import numpy as np\n",
    "import pandas as pd\n",
    "\n",
    "from IPython.display import Image\n",
    "\n",
    "from sklearn import datasets\n",
    "from sklearn.decomposition import PCA\n",
    "from sklearn.metrics import accuracy_score, confusion_matrix\n",
    "from sklearn.cross_validation import train_test_split\n",
    "from sklearn import svm\n",
    "\n",
    "from matplotlib import pyplot as plt\n",
    "%matplotlib inline"
   ]
  },
  {
   "cell_type": "code",
   "execution_count": null,
   "metadata": {},
   "outputs": [],
   "source": [
    "pd.Series(y_train).value_counts()"
   ]
  },
  {
   "cell_type": "markdown",
   "metadata": {},
   "source": [
    "## Principle Component Analysis"
   ]
  },
  {
   "cell_type": "code",
   "execution_count": null,
   "metadata": {},
   "outputs": [],
   "source": [
    "pca = PCA(n_components=2)\n",
    "pca.fit(X_train)"
   ]
  },
  {
   "cell_type": "code",
   "execution_count": null,
   "metadata": {},
   "outputs": [],
   "source": [
    "pcafeatures_train = pca.transform(X_train)"
   ]
  },
  {
   "cell_type": "code",
   "execution_count": null,
   "metadata": {},
   "outputs": [],
   "source": [
    "from itertools import cycle"
   ]
  },
  {
   "cell_type": "code",
   "execution_count": null,
   "metadata": {},
   "outputs": [],
   "source": [
    "# def plot_PCA_2D(data, target, target_names):\n",
    "#     colors = cycle(['r','g','b'])\n",
    "#     target_ids = range(len(target_names))\n",
    "#     plt.figure()\n",
    "#     for i, c, label in zip(target_ids, colors, target_names):\n",
    "#         plt.scatter(data[target == i, 0], data[target == i, 1],\n",
    "#                    c=c, label=label)\n",
    "#     plt.legend()"
   ]
  },
  {
   "cell_type": "code",
   "execution_count": null,
   "metadata": {},
   "outputs": [],
   "source": [
    "# plot_PCA_2D(pcafeatures_train, target=y_train, target_names=digits.target_names)"
   ]
  },
  {
   "cell_type": "markdown",
   "metadata": {},
   "source": [
    "## Fitting Linear and RBF SVM Models"
   ]
  },
  {
   "cell_type": "code",
   "execution_count": null,
   "metadata": {},
   "outputs": [],
   "source": [
    "# fit linear model\n",
    "model_svm = svm.SVC(kernel='rbf',probability=False,cache_size=2000)\n",
    "model_svm.fit(X_train, y_train)"
   ]
  },
  {
   "cell_type": "code",
   "execution_count": null,
   "metadata": {},
   "outputs": [],
   "source": [
    "# predict out of sample\n",
    "y_pred = model_svm.predict(X_test)"
   ]
  },
  {
   "cell_type": "code",
   "execution_count": null,
   "metadata": {},
   "outputs": [],
   "source": [
    "# check accuracy\n",
    "accuracy_score(y_test,y_pred)"
   ]
  },
  {
   "cell_type": "code",
   "execution_count": null,
   "metadata": {},
   "outputs": [],
   "source": [
    "# confusion matrix\n",
    "confusion_matrix(y_test,y_pred)"
   ]
  },
  {
   "cell_type": "code",
   "execution_count": null,
   "metadata": {},
   "outputs": [],
   "source": [
    "# fit rbf model\n",
    "# model_svm2 = svm.SVC(kernel='rbf', gamma = 0.001)\n",
    "# model_svm2.fit(X_train, y_train)"
   ]
  },
  {
   "cell_type": "code",
   "execution_count": null,
   "metadata": {},
   "outputs": [],
   "source": [
    "# predict out of sample\n",
    "y_pred2 = model_svm2.predict(X_test)"
   ]
  },
  {
   "cell_type": "code",
   "execution_count": null,
   "metadata": {},
   "outputs": [],
   "source": [
    "# check accuracy\n",
    "accuracy_score(y_test,y_pred2)"
   ]
  },
  {
   "cell_type": "code",
   "execution_count": null,
   "metadata": {},
   "outputs": [],
   "source": [
    "# confusion matrix\n",
    "confusion_matrix(y_test,y_pred2)"
   ]
  },
  {
   "cell_type": "code",
   "execution_count": null,
   "metadata": {},
   "outputs": [],
   "source": [
    "df_test_labels = model_svm.predict(df_test_values)"
   ]
  },
  {
   "cell_type": "code",
   "execution_count": null,
   "metadata": {},
   "outputs": [],
   "source": [
    "df_test_labels.shape"
   ]
  },
  {
   "cell_type": "code",
   "execution_count": null,
   "metadata": {},
   "outputs": [],
   "source": [
    "df_sub['status_group'] = df_test_labels"
   ]
  },
  {
   "cell_type": "code",
   "execution_count": null,
   "metadata": {},
   "outputs": [],
   "source": [
    "df_sub['status_group'] = df_sub['status_group'].astype(str)\n",
    "\n",
    "for i in range(len(df_sub.status_group)):\n",
    "    if df_sub.status_group[i] == '3':\n",
    "        df_sub.at[i, 'status_group'] = 'functional'\n",
    "    elif df_sub.status_group[i] == '2':\n",
    "        df_sub.at[i, 'status_group'] = 'functional needs repair'\n",
    "    else:\n",
    "        df_sub.at[i, 'status_group'] = 'non functional'\n",
    "df_sub.sample(30)"
   ]
  },
  {
   "cell_type": "code",
   "execution_count": null,
   "metadata": {},
   "outputs": [],
   "source": [
    "df_sub.status_group.value_counts()"
   ]
  },
  {
   "cell_type": "code",
   "execution_count": null,
   "metadata": {},
   "outputs": [],
   "source": [
    "df_sub.to_csv('./Submissions/partSVM_classification.csv',index=False)"
   ]
  },
  {
   "cell_type": "markdown",
   "metadata": {},
   "source": [
    "<table>\n",
    "  <tr>\n",
    "    <th>Best</th>\n",
    "    <th>Current Rank</th>\n",
    "    <th>Competitors</th>\n",
    "    <th>Time</th>\n",
    "  </tr>\n",
    "  <tr>\n",
    "    <td>0.6253</td>\n",
    "    <td>1314</td>\n",
    "    <td>5030</td>\n",
    "    <td>May 4, 2018, 4:56 a.m.</td>\n",
    "  </tr>\n",
    "</table>"
   ]
  },
  {
   "cell_type": "markdown",
   "metadata": {
    "heading_collapsed": true
   },
   "source": [
    "# Appendix"
   ]
  },
  {
   "cell_type": "markdown",
   "metadata": {
    "hidden": true
   },
   "source": [
    "Extra code from class to utilize"
   ]
  },
  {
   "cell_type": "code",
   "execution_count": null,
   "metadata": {
    "hidden": true
   },
   "outputs": [],
   "source": [
    "df.age=df.age.fillna(df.age.mean())"
   ]
  },
  {
   "cell_type": "code",
   "execution_count": null,
   "metadata": {
    "hidden": true
   },
   "outputs": [],
   "source": [
    "y,X=dmatrices('survived~ pclass +age+sibsp+parch+fare',data=df,return_type='dataframe')"
   ]
  },
  {
   "cell_type": "code",
   "execution_count": null,
   "metadata": {
    "hidden": true
   },
   "outputs": [],
   "source": [
    "# Generate a confusion matrix plot: \n",
    "\n",
    "def plot_confusion_matrix(cm,title='Confusion matrix', cmap=plt.cm.Reds):\n",
    "    plt.imshow(cm, interpolation='nearest',cmap=cmap)\n",
    "    plt.title(title)\n",
    "    plt.colorbar()\n",
    "    plt.tight_layout()\n",
    "    plt.ylabel('True label')\n",
    "    plt.xlabel('Predicted label')\n",
    "\n",
    "#Could be a typical function for classifying:\n",
    "\n",
    "def train_score(classifier,x,y):\n",
    "    xtrain, xtest, ytrain, ytest = cross_validation.train_test_split(x, y, test_size=0.2, random_state=1234)\n",
    "    ytrain=np.ravel(ytrain)\n",
    "    clf = classifier.fit(xtrain, ytrain)\n",
    "    # accuracy for test & train:\n",
    "    train_acc=clf.score(xtrain, ytrain)\n",
    "    test_acc=clf.score(xtest,ytest)\n",
    "    print(\"Training Data Accuracy: %0.2f\" %(train_acc))\n",
    "    print(\"Test Data Accuracy:     %0.2f\" %(test_acc))\n",
    "    \n",
    "    y_true = ytest\n",
    "    y_pred = clf.predict(xtest)\n",
    "\n",
    "\n",
    "    conf = confusion_matrix(y_true, y_pred)\n",
    "    print(conf)\n",
    "\n",
    "    print ('\\n')\n",
    "    print (\"Precision:              %0.2f\" %(conf[0, 0] / (conf[0, 0] + conf[1, 0])))\n",
    "    print (\"Recall:                 %0.2f\"% (conf[0, 0] / (conf[0, 0] + conf[0, 1])))\n",
    "    \n",
    "    cm=confusion_matrix(y_true, y_pred, labels=None)\n",
    "    \n",
    "    plt.figure()\n",
    "    plot_confusion_matrix(cm)"
   ]
  },
  {
   "cell_type": "code",
   "execution_count": null,
   "metadata": {
    "hidden": true
   },
   "outputs": [],
   "source": [
    "log_clf=LogisticRegression()\n",
    "train_score(log_clf,X,y)"
   ]
  },
  {
   "cell_type": "code",
   "execution_count": null,
   "metadata": {
    "hidden": true
   },
   "outputs": [],
   "source": [
    "# What about ROC ? \n",
    "\n",
    "from sklearn.metrics import roc_curve, auc\n",
    "\n",
    "xtrain, xtest, ytrain, ytest = cross_validation.train_test_split(X, y, test_size=0.2, random_state=1234)\n",
    "log = LogisticRegression()\n",
    "log.fit(xtrain,np.ravel(ytrain))\n",
    "y_score=log.predict_proba(xtest)[:,1]\n",
    "\n",
    "fpr, tpr,_ = roc_curve(ytest, y_score)\n",
    "roc_auc = auc(fpr, tpr)\n",
    "\n",
    "plt.figure()\n",
    "# Plotting our Baseline..\n",
    "plt.plot([0,1],[0,1])\n",
    "plt.plot(fpr,tpr)\n",
    "plt.xlabel('FPR')\n",
    "plt.ylabel('TPR')"
   ]
  },
  {
   "cell_type": "code",
   "execution_count": null,
   "metadata": {
    "hidden": true
   },
   "outputs": [],
   "source": [
    "tpr"
   ]
  },
  {
   "cell_type": "markdown",
   "metadata": {
    "hidden": true
   },
   "source": [
    "####  Cost Benefit Example: \n",
    "\n",
    "We can also optimize our models based on specific costs associated with our classification errors; here we will use specific dollar amounts as weights.\n",
    "\n",
    "Let's say we were developing a classification model for Aircraft Delay prediction.  For this example let's assume that a true positive would \n",
    "lead to a cost savings of 2160 dollars, a false negative would cost us 2900 dollars a false positive would cost 750 dollars.  \n",
    "\n",
    "cb = np.array([[2160, -750.0], [-2900, 0]])  \n",
    "\n",
    "Expected_Value = #TPs(2160) - #FNs(2900) -#FPs(750)  "
   ]
  },
  {
   "cell_type": "code",
   "execution_count": null,
   "metadata": {
    "hidden": true
   },
   "outputs": [],
   "source": []
  },
  {
   "cell_type": "markdown",
   "metadata": {},
   "source": [
    "# New heading"
   ]
  },
  {
   "cell_type": "code",
   "execution_count": null,
   "metadata": {},
   "outputs": [],
   "source": []
  },
  {
   "cell_type": "code",
   "execution_count": null,
   "metadata": {},
   "outputs": [],
   "source": []
  },
  {
   "cell_type": "code",
   "execution_count": null,
   "metadata": {},
   "outputs": [],
   "source": []
  },
  {
   "cell_type": "code",
   "execution_count": null,
   "metadata": {},
   "outputs": [],
   "source": []
  },
  {
   "cell_type": "code",
   "execution_count": null,
   "metadata": {},
   "outputs": [],
   "source": []
  }
 ],
 "metadata": {
  "kernelspec": {
   "display_name": "Python 3",
   "language": "python",
   "name": "python3"
  },
  "language_info": {
   "codemirror_mode": {
    "name": "ipython",
    "version": 3
   },
   "file_extension": ".py",
   "mimetype": "text/x-python",
   "name": "python",
   "nbconvert_exporter": "python",
   "pygments_lexer": "ipython3",
   "version": "3.6.4"
  },
  "toc": {
   "base_numbering": 1,
   "nav_menu": {},
   "number_sections": true,
   "sideBar": true,
   "skip_h1_title": false,
   "title_cell": "Table of Contents",
   "title_sidebar": "Contents",
   "toc_cell": false,
   "toc_position": {},
   "toc_section_display": true,
   "toc_window_display": false
  }
 },
 "nbformat": 4,
 "nbformat_minor": 1
}
