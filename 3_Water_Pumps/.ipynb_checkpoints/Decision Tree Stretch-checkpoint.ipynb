{
 "cells": [
  {
   "cell_type": "markdown",
   "metadata": {},
   "source": [
    "# Project 3 - Water Pump Clasificaiton"
   ]
  },
  {
   "cell_type": "markdown",
   "metadata": {},
   "source": [
    "# Setup"
   ]
  },
  {
   "cell_type": "code",
   "execution_count": 73,
   "metadata": {},
   "outputs": [],
   "source": [
    "from __future__ import print_function"
   ]
  },
  {
   "cell_type": "code",
   "execution_count": 74,
   "metadata": {},
   "outputs": [],
   "source": [
    "import pandas as pd\n",
    "import numpy as np\n",
    "import seaborn as sns\n",
    "\n",
    "import matplotlib.pyplot as plt\n",
    "%matplotlib inline\n",
    "\n",
    "from __future__ import division\n",
    "pd.set_option('display.width',5000)"
   ]
  },
  {
   "cell_type": "code",
   "execution_count": 75,
   "metadata": {},
   "outputs": [],
   "source": [
    "import patsy\n",
    "\n",
    "from sklearn import linear_model as lm\n",
    "from sklearn.linear_model import LogisticRegression\n",
    "from sklearn import cross_validation\n",
    "from sklearn import metrics\n",
    "from sklearn.metrics import confusion_matrix"
   ]
  },
  {
   "cell_type": "code",
   "execution_count": 92,
   "metadata": {},
   "outputs": [],
   "source": [
    "from sklearn.tree import DecisionTreeClassifier\n",
    "from sklearn.svm import LinearSVC\n",
    "from sklearn.svm import SVC\n",
    "from sklearn.ensemble import RandomForestClassifier\n",
    "from sklearn.model_selection import train_test_split"
   ]
  },
  {
   "cell_type": "code",
   "execution_count": 170,
   "metadata": {},
   "outputs": [],
   "source": [
    "# from os import system\n",
    "# system('say I am Done!')"
   ]
  },
  {
   "cell_type": "markdown",
   "metadata": {},
   "source": [
    "# Data Import - Training Data"
   ]
  },
  {
   "cell_type": "markdown",
   "metadata": {},
   "source": [
    "This data is part of the Data Driven Competition\n",
    "\n",
    "https://www.drivendata.org/competitions/7/pump-it-up-data-mining-the-water-table/page/23/\n"
   ]
  },
  {
   "cell_type": "code",
   "execution_count": 53,
   "metadata": {},
   "outputs": [
    {
     "data": {
      "text/html": [
       "<div>\n",
       "<style scoped>\n",
       "    .dataframe tbody tr th:only-of-type {\n",
       "        vertical-align: middle;\n",
       "    }\n",
       "\n",
       "    .dataframe tbody tr th {\n",
       "        vertical-align: top;\n",
       "    }\n",
       "\n",
       "    .dataframe thead th {\n",
       "        text-align: right;\n",
       "    }\n",
       "</style>\n",
       "<table border=\"1\" class=\"dataframe\">\n",
       "  <thead>\n",
       "    <tr style=\"text-align: right;\">\n",
       "      <th></th>\n",
       "      <th>id</th>\n",
       "      <th>amount_tsh</th>\n",
       "      <th>date_recorded</th>\n",
       "      <th>funder</th>\n",
       "      <th>gps_height</th>\n",
       "      <th>installer</th>\n",
       "      <th>longitude</th>\n",
       "      <th>latitude</th>\n",
       "      <th>wpt_name</th>\n",
       "      <th>num_private</th>\n",
       "      <th>...</th>\n",
       "      <th>payment_type</th>\n",
       "      <th>water_quality</th>\n",
       "      <th>quality_group</th>\n",
       "      <th>quantity</th>\n",
       "      <th>quantity_group</th>\n",
       "      <th>source</th>\n",
       "      <th>source_type</th>\n",
       "      <th>source_class</th>\n",
       "      <th>waterpoint_type</th>\n",
       "      <th>waterpoint_type_group</th>\n",
       "    </tr>\n",
       "  </thead>\n",
       "  <tbody>\n",
       "    <tr>\n",
       "      <th>50141</th>\n",
       "      <td>19161</td>\n",
       "      <td>0.0</td>\n",
       "      <td>2013-02-24</td>\n",
       "      <td>Tasaf</td>\n",
       "      <td>698</td>\n",
       "      <td>DWE</td>\n",
       "      <td>36.288768</td>\n",
       "      <td>-11.210622</td>\n",
       "      <td>Shuleni</td>\n",
       "      <td>0</td>\n",
       "      <td>...</td>\n",
       "      <td>never pay</td>\n",
       "      <td>soft</td>\n",
       "      <td>good</td>\n",
       "      <td>insufficient</td>\n",
       "      <td>insufficient</td>\n",
       "      <td>shallow well</td>\n",
       "      <td>shallow well</td>\n",
       "      <td>groundwater</td>\n",
       "      <td>hand pump</td>\n",
       "      <td>hand pump</td>\n",
       "    </tr>\n",
       "  </tbody>\n",
       "</table>\n",
       "<p>1 rows × 40 columns</p>\n",
       "</div>"
      ],
      "text/plain": [
       "          id  amount_tsh date_recorded funder  gps_height installer  longitude   latitude wpt_name  num_private          ...          payment_type water_quality quality_group      quantity  quantity_group        source   source_type  source_class waterpoint_type waterpoint_type_group\n",
       "50141  19161         0.0    2013-02-24  Tasaf         698       DWE  36.288768 -11.210622  Shuleni            0          ...             never pay          soft          good  insufficient    insufficient  shallow well  shallow well   groundwater       hand pump             hand pump\n",
       "\n",
       "[1 rows x 40 columns]"
      ]
     },
     "execution_count": 53,
     "metadata": {},
     "output_type": "execute_result"
    }
   ],
   "source": [
    "# 'Values' provided for each pump location - features\n",
    "\n",
    "df_values = pd.read_csv('/Users/amycurneen/ds/metis/metisgh/Metis-Curneen/3 - Water Pumps/Data Downloads/Training set values.csv')\n",
    "df_values.sample(1)"
   ]
  },
  {
   "cell_type": "code",
   "execution_count": 54,
   "metadata": {},
   "outputs": [
    {
     "data": {
      "text/html": [
       "<div>\n",
       "<style scoped>\n",
       "    .dataframe tbody tr th:only-of-type {\n",
       "        vertical-align: middle;\n",
       "    }\n",
       "\n",
       "    .dataframe tbody tr th {\n",
       "        vertical-align: top;\n",
       "    }\n",
       "\n",
       "    .dataframe thead th {\n",
       "        text-align: right;\n",
       "    }\n",
       "</style>\n",
       "<table border=\"1\" class=\"dataframe\">\n",
       "  <thead>\n",
       "    <tr style=\"text-align: right;\">\n",
       "      <th></th>\n",
       "      <th>id</th>\n",
       "      <th>status_group</th>\n",
       "    </tr>\n",
       "  </thead>\n",
       "  <tbody>\n",
       "    <tr>\n",
       "      <th>41824</th>\n",
       "      <td>28256</td>\n",
       "      <td>functional</td>\n",
       "    </tr>\n",
       "  </tbody>\n",
       "</table>\n",
       "</div>"
      ],
      "text/plain": [
       "          id status_group\n",
       "41824  28256   functional"
      ]
     },
     "execution_count": 54,
     "metadata": {},
     "output_type": "execute_result"
    }
   ],
   "source": [
    "# 'Labels' provided for each pump location - clasificaiton - what I am predicting\n",
    "\n",
    "df_labels = pd.read_csv('/Users/amycurneen/ds/metis/metisgh/Metis-Curneen/3 - Water Pumps/Data Downloads/Training set labels.csv')\n",
    "df_labels.sample(1)"
   ]
  },
  {
   "cell_type": "markdown",
   "metadata": {},
   "source": [
    "# Data Import - Challenge Data"
   ]
  },
  {
   "cell_type": "code",
   "execution_count": 134,
   "metadata": {},
   "outputs": [
    {
     "data": {
      "text/html": [
       "<div>\n",
       "<style scoped>\n",
       "    .dataframe tbody tr th:only-of-type {\n",
       "        vertical-align: middle;\n",
       "    }\n",
       "\n",
       "    .dataframe tbody tr th {\n",
       "        vertical-align: top;\n",
       "    }\n",
       "\n",
       "    .dataframe thead th {\n",
       "        text-align: right;\n",
       "    }\n",
       "</style>\n",
       "<table border=\"1\" class=\"dataframe\">\n",
       "  <thead>\n",
       "    <tr style=\"text-align: right;\">\n",
       "      <th></th>\n",
       "      <th>id</th>\n",
       "      <th>amount_tsh</th>\n",
       "      <th>date_recorded</th>\n",
       "      <th>funder</th>\n",
       "      <th>gps_height</th>\n",
       "      <th>installer</th>\n",
       "      <th>longitude</th>\n",
       "      <th>latitude</th>\n",
       "      <th>wpt_name</th>\n",
       "      <th>num_private</th>\n",
       "      <th>...</th>\n",
       "      <th>payment_type</th>\n",
       "      <th>water_quality</th>\n",
       "      <th>quality_group</th>\n",
       "      <th>quantity</th>\n",
       "      <th>quantity_group</th>\n",
       "      <th>source</th>\n",
       "      <th>source_type</th>\n",
       "      <th>source_class</th>\n",
       "      <th>waterpoint_type</th>\n",
       "      <th>waterpoint_type_group</th>\n",
       "    </tr>\n",
       "  </thead>\n",
       "  <tbody>\n",
       "    <tr>\n",
       "      <th>5150</th>\n",
       "      <td>71766</td>\n",
       "      <td>0.0</td>\n",
       "      <td>2013-02-22</td>\n",
       "      <td>NaN</td>\n",
       "      <td>1374</td>\n",
       "      <td>NaN</td>\n",
       "      <td>34.94291</td>\n",
       "      <td>-4.849501</td>\n",
       "      <td>Mwamba Primary</td>\n",
       "      <td>0</td>\n",
       "      <td>...</td>\n",
       "      <td>unknown</td>\n",
       "      <td>unknown</td>\n",
       "      <td>unknown</td>\n",
       "      <td>dry</td>\n",
       "      <td>dry</td>\n",
       "      <td>machine dbh</td>\n",
       "      <td>borehole</td>\n",
       "      <td>groundwater</td>\n",
       "      <td>communal standpipe</td>\n",
       "      <td>communal standpipe</td>\n",
       "    </tr>\n",
       "  </tbody>\n",
       "</table>\n",
       "<p>1 rows × 40 columns</p>\n",
       "</div>"
      ],
      "text/plain": [
       "         id  amount_tsh date_recorded funder  gps_height installer  longitude  latitude        wpt_name  num_private          ...          payment_type water_quality quality_group  quantity  quantity_group       source source_type  source_class     waterpoint_type waterpoint_type_group\n",
       "5150  71766         0.0    2013-02-22    NaN        1374       NaN   34.94291 -4.849501  Mwamba Primary            0          ...               unknown       unknown       unknown       dry             dry  machine dbh    borehole   groundwater  communal standpipe    communal standpipe\n",
       "\n",
       "[1 rows x 40 columns]"
      ]
     },
     "execution_count": 134,
     "metadata": {},
     "output_type": "execute_result"
    }
   ],
   "source": [
    "# 'Values' provided for each competition pump location - features\n",
    "\n",
    "df_test_values = pd.read_csv('/Users/amycurneen/ds/metis/metisgh/Metis-Curneen/3 - Water Pumps/Data Downloads/Test set values.csv')\n",
    "df_test_values.sample(1)"
   ]
  },
  {
   "cell_type": "code",
   "execution_count": 135,
   "metadata": {},
   "outputs": [
    {
     "data": {
      "text/html": [
       "<div>\n",
       "<style scoped>\n",
       "    .dataframe tbody tr th:only-of-type {\n",
       "        vertical-align: middle;\n",
       "    }\n",
       "\n",
       "    .dataframe tbody tr th {\n",
       "        vertical-align: top;\n",
       "    }\n",
       "\n",
       "    .dataframe thead th {\n",
       "        text-align: right;\n",
       "    }\n",
       "</style>\n",
       "<table border=\"1\" class=\"dataframe\">\n",
       "  <thead>\n",
       "    <tr style=\"text-align: right;\">\n",
       "      <th></th>\n",
       "      <th>id</th>\n",
       "    </tr>\n",
       "  </thead>\n",
       "  <tbody>\n",
       "    <tr>\n",
       "      <th>849</th>\n",
       "      <td>63779</td>\n",
       "    </tr>\n",
       "  </tbody>\n",
       "</table>\n",
       "</div>"
      ],
      "text/plain": [
       "        id\n",
       "849  63779"
      ]
     },
     "execution_count": 135,
     "metadata": {},
     "output_type": "execute_result"
    }
   ],
   "source": [
    "# 'Labels' I will provide for each pump location - clasificaiton\n",
    "\n",
    "df_sub = pd.read_csv('/Users/amycurneen/ds/metis/metisgh/Metis-Curneen/3 - Water Pumps/Data Downloads/SubmissionFormat.csv')\n",
    "df_sub = df_sub.drop('status_group', axis = 1)\n",
    "df_sub.sample(1)"
   ]
  },
  {
   "cell_type": "markdown",
   "metadata": {},
   "source": [
    "# Feature Analysis"
   ]
  },
  {
   "cell_type": "markdown",
   "metadata": {},
   "source": [
    "My goal is to predict the operating condition of a waterpoint for each record in the dataset. I was provided the following set of information about the waterpoints:\n",
    "\n",
    "* amount_tsh - Total static head (amount water available to waterpoint)\n",
    "    * 98 unique\n",
    "* date_recorded - The date the row was entered\n",
    "    * 365 unique\n",
    "    * year - month - day\n",
    "* funder - Who funded the well\n",
    "    * 1897 unique\n",
    "    * look at top ones?\n",
    "* installer - Organization that installed the well\n",
    "    * 2145 unique\n",
    "    * DWE is main one - 10x closest other, 17k\n",
    "* wpt_name - Name of the waterpoint if there is one\n",
    "    * 37400 unique\n",
    "    * look at top ones?\n",
    "* num_private - (NO PROVIDED DESC)\n",
    "    * 65 unique\n",
    "    * USELESS FEATURE\n",
    "* population - Population around the well\n",
    "    * 1049 unique\n",
    "    * a lot are zero\n",
    "* public_meeting - True/False\n",
    "    * 2 unique\n",
    "* recorded_by - Group entering this row of data\n",
    "    * 1 unique\n",
    "    * all the same - USELESS FEATURE\n",
    "* scheme_management - Who operates the waterpoint\n",
    "    * 12 unique\n",
    "* scheme_name - Who operates the waterpoint\n",
    "    * 2696 unique\n",
    "    * USELESS FEATURE\n",
    "* permit - If the waterpoint is permitted\n",
    "    * 2 unique\n",
    "* construction_year - Year the waterpoint was constructed\n",
    "    * 55 unique\n",
    "    * third are 0 - USELESS FEATURE\n",
    "    \n",
    "\n",
    "* Geography\n",
    "    * gps_height - Altitude of the well\n",
    "        * numerical\n",
    "    * longitude - GPS coordinate\n",
    "        * numerical\n",
    "    * latitude - GPS coordinate\n",
    "        * numerical\n",
    "    * basin - Geographic water basin\n",
    "        * 9 unique\n",
    "    * subvillage - Geographic location\n",
    "        * 19287 unique\n",
    "    * region - Geographic location\n",
    "        * 21 unique\n",
    "    * region_code - Geographic location (coded)\n",
    "        * 27 unique\n",
    "    * district_code - Geographic location (coded)\n",
    "        * 20 unique\n",
    "    * lga - Geographic location\n",
    "        * 125 unique\n",
    "    * ward - Geographic location\n",
    "        * 2092 unique\n",
    "\n",
    "\n",
    "* Extraction\n",
    "    * extraction_type - The kind of extraction the waterpoint uses\n",
    "        * 18 unique\n",
    "        * Most descriptive of extraction\n",
    "    * extraction_type_group - The kind of extraction the waterpoint uses\n",
    "        * 13 unique\n",
    "        * Parent of extraction_type\n",
    "    * extraction_type_class - The kind of extraction the waterpoint uses\n",
    "        * 7 unique\n",
    "        * Parent of extraction_type_group\n",
    "\n",
    "\n",
    "* Overhead\n",
    "    * management - How the waterpoint is managed\n",
    "        * 12 unique\n",
    "    * management_group - How the waterpoint is managed\n",
    "        * 5 unique\n",
    "    * payment - What the water costs\n",
    "        * 7 unique\n",
    "        * same as payment type\n",
    "    * payment_type - What the water costs\n",
    "        * 7 unique\n",
    "        * same as payment\n",
    "\n",
    "\n",
    "* Water\n",
    "    * water_quality - The quality of the water \n",
    "        * 3 unique\n",
    "        * Subset of quality_group\n",
    "    * quality_group - The quality of the water\n",
    "        * 6 unique\n",
    "        * Parent group of water_quality\n",
    "    * quantity - The quantity of water\n",
    "        * 5 unique\n",
    "        * Same as quantity_group\n",
    "    * quantity_group - The quantity of water\n",
    "        * 5 unique\n",
    "        * Same as quantity\n",
    "    * source - The source of the water\n",
    "        * 10 unique\n",
    "    * source_type - The source of the water\n",
    "        * 7 unique\n",
    "        * Subset of source\n",
    "    * source_class - The source of the water\n",
    "        * 3 unique\n",
    "        * Subset of source_type\n",
    "    * waterpoint_type - The kind of waterpoint\n",
    "        * 6 unique\n",
    "        * Parent of waterpoint_type_group\n",
    "    * waterpoint_type_group - The kind of waterpoint\n",
    "        * 7 unique\n",
    "        * Subset of waterpoint_type"
   ]
  },
  {
   "cell_type": "markdown",
   "metadata": {},
   "source": [
    "# Sorting features"
   ]
  },
  {
   "cell_type": "code",
   "execution_count": 57,
   "metadata": {},
   "outputs": [],
   "source": [
    "total = list(df_values.columns)"
   ]
  },
  {
   "cell_type": "code",
   "execution_count": 58,
   "metadata": {},
   "outputs": [],
   "source": [
    "useless = ['id','date_recorded','num_private','recorded_by','scheme_name','construction_year','subvillage','ward',\n",
    "          'payment_type','quantity_group','wpt_name']"
   ]
  },
  {
   "cell_type": "code",
   "execution_count": 59,
   "metadata": {},
   "outputs": [],
   "source": [
    "subsets_to_go = ['quality_group','extraction_type_group','extraction_type','source','source_type', \n",
    "                 'waterpoint_type_group','management']"
   ]
  },
  {
   "cell_type": "code",
   "execution_count": 60,
   "metadata": {},
   "outputs": [],
   "source": [
    "numerical = ['amount_tsh','population','latitude','longitude','gps_height']"
   ]
  },
  {
   "cell_type": "code",
   "execution_count": 61,
   "metadata": {},
   "outputs": [],
   "source": [
    "non_numerical = list(set(total) - set(useless) - set(subsets_to_go) - set(numerical))"
   ]
  },
  {
   "cell_type": "code",
   "execution_count": 79,
   "metadata": {},
   "outputs": [],
   "source": [
    "my_features = numerical+non_numerical"
   ]
  },
  {
   "cell_type": "code",
   "execution_count": 63,
   "metadata": {},
   "outputs": [],
   "source": [
    "# get rid of features that dont show often\n",
    "\n",
    "map_funder = df_values.funder.value_counts().to_dict()\n",
    "for i in range(len(map_funder.keys())):\n",
    "    keys = list(map_funder.keys())\n",
    "    a = keys[i]\n",
    "    if map_funder[a] > 800:\n",
    "        map_funder[a] = a\n",
    "    else:\n",
    "        map_funder[a] = 'nan'"
   ]
  },
  {
   "cell_type": "code",
   "execution_count": 64,
   "metadata": {},
   "outputs": [],
   "source": [
    "df_values['funder'].replace(map_funder, inplace=True)"
   ]
  },
  {
   "cell_type": "code",
   "execution_count": 65,
   "metadata": {},
   "outputs": [],
   "source": [
    "# get rid of features that dont show often\n",
    "\n",
    "map_installer = df_values.installer.value_counts().to_dict()\n",
    "for i in range(len(map_installer.keys())):\n",
    "    keys = list(map_installer.keys())\n",
    "    a = keys[i]\n",
    "    if map_installer[a] > 800:\n",
    "        map_installer[a] = a\n",
    "    else:\n",
    "        map_installer[a] = 'nan'    "
   ]
  },
  {
   "cell_type": "code",
   "execution_count": 66,
   "metadata": {},
   "outputs": [],
   "source": [
    "df_values['installer'].replace(map_installer, inplace=True)"
   ]
  },
  {
   "cell_type": "markdown",
   "metadata": {},
   "source": [
    "# Create selected feature DataFrame"
   ]
  },
  {
   "cell_type": "markdown",
   "metadata": {},
   "source": [
    "## Randomize"
   ]
  },
  {
   "cell_type": "code",
   "execution_count": 123,
   "metadata": {},
   "outputs": [],
   "source": [
    "# randomize data\n",
    "# df_lables, df_values - combine and shuffle this data\n",
    "\n",
    "df = pd.merge(df_labels,df_values,how = 'left')\n",
    "df = df.sample(frac=1).reset_index(drop=True)"
   ]
  },
  {
   "cell_type": "code",
   "execution_count": 124,
   "metadata": {},
   "outputs": [],
   "source": [
    "my_features.insert(0,'status_group')"
   ]
  },
  {
   "cell_type": "code",
   "execution_count": 125,
   "metadata": {},
   "outputs": [],
   "source": [
    "df_features = df[my_features]"
   ]
  },
  {
   "cell_type": "code",
   "execution_count": 126,
   "metadata": {},
   "outputs": [
    {
     "data": {
      "text/html": [
       "<div>\n",
       "<style scoped>\n",
       "    .dataframe tbody tr th:only-of-type {\n",
       "        vertical-align: middle;\n",
       "    }\n",
       "\n",
       "    .dataframe tbody tr th {\n",
       "        vertical-align: top;\n",
       "    }\n",
       "\n",
       "    .dataframe thead th {\n",
       "        text-align: right;\n",
       "    }\n",
       "</style>\n",
       "<table border=\"1\" class=\"dataframe\">\n",
       "  <thead>\n",
       "    <tr style=\"text-align: right;\">\n",
       "      <th></th>\n",
       "      <th>status_group</th>\n",
       "      <th>status_group</th>\n",
       "      <th>amount_tsh</th>\n",
       "      <th>population</th>\n",
       "      <th>latitude</th>\n",
       "      <th>longitude</th>\n",
       "      <th>gps_height_-90</th>\n",
       "      <th>gps_height_-63</th>\n",
       "      <th>gps_height_-59</th>\n",
       "      <th>gps_height_-57</th>\n",
       "      <th>...</th>\n",
       "      <th>installer_nan</th>\n",
       "      <th>basin_Internal</th>\n",
       "      <th>basin_Lake Nyasa</th>\n",
       "      <th>basin_Lake Rukwa</th>\n",
       "      <th>basin_Lake Tanganyika</th>\n",
       "      <th>basin_Lake Victoria</th>\n",
       "      <th>basin_Pangani</th>\n",
       "      <th>basin_Rufiji</th>\n",
       "      <th>basin_Ruvuma / Southern Coast</th>\n",
       "      <th>basin_Wami / Ruvu</th>\n",
       "    </tr>\n",
       "  </thead>\n",
       "  <tbody>\n",
       "    <tr>\n",
       "      <th>47853</th>\n",
       "      <td>functional</td>\n",
       "      <td>functional</td>\n",
       "      <td>0.0</td>\n",
       "      <td>0</td>\n",
       "      <td>-2.640880e+00</td>\n",
       "      <td>30.482392</td>\n",
       "      <td>0</td>\n",
       "      <td>0</td>\n",
       "      <td>0</td>\n",
       "      <td>0</td>\n",
       "      <td>...</td>\n",
       "      <td>1</td>\n",
       "      <td>0</td>\n",
       "      <td>0</td>\n",
       "      <td>0</td>\n",
       "      <td>0</td>\n",
       "      <td>1</td>\n",
       "      <td>0</td>\n",
       "      <td>0</td>\n",
       "      <td>0</td>\n",
       "      <td>0</td>\n",
       "    </tr>\n",
       "    <tr>\n",
       "      <th>22628</th>\n",
       "      <td>functional</td>\n",
       "      <td>functional</td>\n",
       "      <td>0.0</td>\n",
       "      <td>0</td>\n",
       "      <td>-2.000000e-08</td>\n",
       "      <td>0.000000</td>\n",
       "      <td>0</td>\n",
       "      <td>0</td>\n",
       "      <td>0</td>\n",
       "      <td>0</td>\n",
       "      <td>...</td>\n",
       "      <td>0</td>\n",
       "      <td>0</td>\n",
       "      <td>0</td>\n",
       "      <td>0</td>\n",
       "      <td>0</td>\n",
       "      <td>1</td>\n",
       "      <td>0</td>\n",
       "      <td>0</td>\n",
       "      <td>0</td>\n",
       "      <td>0</td>\n",
       "    </tr>\n",
       "    <tr>\n",
       "      <th>19830</th>\n",
       "      <td>non functional</td>\n",
       "      <td>non functional</td>\n",
       "      <td>0.0</td>\n",
       "      <td>0</td>\n",
       "      <td>-2.527239e+00</td>\n",
       "      <td>32.483631</td>\n",
       "      <td>0</td>\n",
       "      <td>0</td>\n",
       "      <td>0</td>\n",
       "      <td>0</td>\n",
       "      <td>...</td>\n",
       "      <td>1</td>\n",
       "      <td>0</td>\n",
       "      <td>0</td>\n",
       "      <td>0</td>\n",
       "      <td>0</td>\n",
       "      <td>1</td>\n",
       "      <td>0</td>\n",
       "      <td>0</td>\n",
       "      <td>0</td>\n",
       "      <td>0</td>\n",
       "    </tr>\n",
       "  </tbody>\n",
       "</table>\n",
       "<p>3 rows × 2716 columns</p>\n",
       "</div>"
      ],
      "text/plain": [
       "         status_group    status_group  amount_tsh  population      latitude  longitude  gps_height_-90  gps_height_-63  gps_height_-59  gps_height_-57        ...          installer_nan  basin_Internal  basin_Lake Nyasa  basin_Lake Rukwa  basin_Lake Tanganyika  basin_Lake Victoria  basin_Pangani  basin_Rufiji  basin_Ruvuma / Southern Coast  basin_Wami / Ruvu\n",
       "47853      functional      functional         0.0           0 -2.640880e+00  30.482392               0               0               0               0        ...                      1               0                 0                 0                      0                    1              0             0                              0                  0\n",
       "22628      functional      functional         0.0           0 -2.000000e-08   0.000000               0               0               0               0        ...                      0               0                 0                 0                      0                    1              0             0                              0                  0\n",
       "19830  non functional  non functional         0.0           0 -2.527239e+00  32.483631               0               0               0               0        ...                      1               0                 0                 0                      0                    1              0             0                              0                  0\n",
       "\n",
       "[3 rows x 2716 columns]"
      ]
     },
     "execution_count": 126,
     "metadata": {},
     "output_type": "execute_result"
    }
   ],
   "source": [
    "# create dummy features\n",
    "\n",
    "dummy_start = 6\n",
    "df_features = pd.get_dummies(df_features,columns=list(df_features.columns[dummy_start:]))\n",
    "df_features.sample(3)"
   ]
  },
  {
   "cell_type": "code",
   "execution_count": 20,
   "metadata": {},
   "outputs": [],
   "source": [
    "map_status_group = {'functional':0,'functional needs repair':1,'non functional':2}"
   ]
  },
  {
   "cell_type": "code",
   "execution_count": 85,
   "metadata": {},
   "outputs": [],
   "source": [
    "# turn y into 3 class 0,1,2\n",
    "df_features['status_group'].replace(map_status_group, inplace=True)"
   ]
  },
  {
   "cell_type": "code",
   "execution_count": 86,
   "metadata": {},
   "outputs": [],
   "source": [
    "columns = list(df_features.columns)\n",
    "df_features[columns[dummy_start:]] = df_features[columns[dummy_start:]].astype(int)\n",
    "df_features[columns[0]] = df_features[columns[0]].astype(int)"
   ]
  },
  {
   "cell_type": "markdown",
   "metadata": {},
   "source": [
    "## Create X and Y"
   ]
  },
  {
   "cell_type": "code",
   "execution_count": 89,
   "metadata": {},
   "outputs": [],
   "source": [
    "y = df_features.status_group\n",
    "X = df_features.drop('status_group', axis=1)"
   ]
  },
  {
   "cell_type": "markdown",
   "metadata": {},
   "source": [
    "## Test train split"
   ]
  },
  {
   "cell_type": "code",
   "execution_count": 93,
   "metadata": {},
   "outputs": [],
   "source": [
    "X_train, X_test, y_train, y_test = train_test_split(X, y, test_size=0.2)"
   ]
  },
  {
   "cell_type": "markdown",
   "metadata": {},
   "source": [
    "# Create selected feature on comp data"
   ]
  },
  {
   "cell_type": "code",
   "execution_count": 140,
   "metadata": {},
   "outputs": [],
   "source": [
    "my_features_comp = my_features[1:]"
   ]
  },
  {
   "cell_type": "code",
   "execution_count": 141,
   "metadata": {},
   "outputs": [],
   "source": [
    "df_test_values = df_test_values[my_features_comp]"
   ]
  },
  {
   "cell_type": "code",
   "execution_count": 142,
   "metadata": {},
   "outputs": [
    {
     "name": "stderr",
     "output_type": "stream",
     "text": [
      "/anaconda3/lib/python3.6/site-packages/pandas/core/generic.py:4619: SettingWithCopyWarning: \n",
      "A value is trying to be set on a copy of a slice from a DataFrame\n",
      "\n",
      "See the caveats in the documentation: http://pandas.pydata.org/pandas-docs/stable/indexing.html#indexing-view-versus-copy\n",
      "  self._update_inplace(new_data)\n"
     ]
    }
   ],
   "source": [
    "df_test_values['funder'].replace(map_funder, inplace=True)"
   ]
  },
  {
   "cell_type": "code",
   "execution_count": 144,
   "metadata": {},
   "outputs": [
    {
     "name": "stderr",
     "output_type": "stream",
     "text": [
      "/anaconda3/lib/python3.6/site-packages/pandas/core/generic.py:4619: SettingWithCopyWarning: \n",
      "A value is trying to be set on a copy of a slice from a DataFrame\n",
      "\n",
      "See the caveats in the documentation: http://pandas.pydata.org/pandas-docs/stable/indexing.html#indexing-view-versus-copy\n",
      "  self._update_inplace(new_data)\n"
     ]
    }
   ],
   "source": [
    "df_test_values['installer'].replace(map_installer, inplace=True)"
   ]
  },
  {
   "cell_type": "code",
   "execution_count": null,
   "metadata": {},
   "outputs": [],
   "source": []
  },
  {
   "cell_type": "code",
   "execution_count": null,
   "metadata": {},
   "outputs": [],
   "source": []
  },
  {
   "cell_type": "code",
   "execution_count": null,
   "metadata": {},
   "outputs": [],
   "source": []
  },
  {
   "cell_type": "code",
   "execution_count": 145,
   "metadata": {},
   "outputs": [
    {
     "data": {
      "text/html": [
       "<div>\n",
       "<style scoped>\n",
       "    .dataframe tbody tr th:only-of-type {\n",
       "        vertical-align: middle;\n",
       "    }\n",
       "\n",
       "    .dataframe tbody tr th {\n",
       "        vertical-align: top;\n",
       "    }\n",
       "\n",
       "    .dataframe thead th {\n",
       "        text-align: right;\n",
       "    }\n",
       "</style>\n",
       "<table border=\"1\" class=\"dataframe\">\n",
       "  <thead>\n",
       "    <tr style=\"text-align: right;\">\n",
       "      <th></th>\n",
       "      <th>amount_tsh</th>\n",
       "      <th>population</th>\n",
       "      <th>latitude</th>\n",
       "      <th>longitude</th>\n",
       "      <th>gps_height</th>\n",
       "      <th>region_code_1</th>\n",
       "      <th>region_code_2</th>\n",
       "      <th>region_code_3</th>\n",
       "      <th>region_code_4</th>\n",
       "      <th>region_code_5</th>\n",
       "      <th>...</th>\n",
       "      <th>installer_wachina</th>\n",
       "      <th>basin_Internal</th>\n",
       "      <th>basin_Lake Nyasa</th>\n",
       "      <th>basin_Lake Rukwa</th>\n",
       "      <th>basin_Lake Tanganyika</th>\n",
       "      <th>basin_Lake Victoria</th>\n",
       "      <th>basin_Pangani</th>\n",
       "      <th>basin_Rufiji</th>\n",
       "      <th>basin_Ruvuma / Southern Coast</th>\n",
       "      <th>basin_Wami / Ruvu</th>\n",
       "    </tr>\n",
       "  </thead>\n",
       "  <tbody>\n",
       "    <tr>\n",
       "      <th>5054</th>\n",
       "      <td>500.0</td>\n",
       "      <td>80</td>\n",
       "      <td>-8.928630</td>\n",
       "      <td>35.104521</td>\n",
       "      <td>1272</td>\n",
       "      <td>0</td>\n",
       "      <td>0</td>\n",
       "      <td>0</td>\n",
       "      <td>0</td>\n",
       "      <td>0</td>\n",
       "      <td>...</td>\n",
       "      <td>0</td>\n",
       "      <td>0</td>\n",
       "      <td>0</td>\n",
       "      <td>0</td>\n",
       "      <td>0</td>\n",
       "      <td>0</td>\n",
       "      <td>0</td>\n",
       "      <td>1</td>\n",
       "      <td>0</td>\n",
       "      <td>0</td>\n",
       "    </tr>\n",
       "    <tr>\n",
       "      <th>1536</th>\n",
       "      <td>0.0</td>\n",
       "      <td>1</td>\n",
       "      <td>-10.765262</td>\n",
       "      <td>38.624369</td>\n",
       "      <td>369</td>\n",
       "      <td>0</td>\n",
       "      <td>0</td>\n",
       "      <td>0</td>\n",
       "      <td>0</td>\n",
       "      <td>0</td>\n",
       "      <td>...</td>\n",
       "      <td>0</td>\n",
       "      <td>0</td>\n",
       "      <td>0</td>\n",
       "      <td>0</td>\n",
       "      <td>0</td>\n",
       "      <td>0</td>\n",
       "      <td>0</td>\n",
       "      <td>0</td>\n",
       "      <td>1</td>\n",
       "      <td>0</td>\n",
       "    </tr>\n",
       "    <tr>\n",
       "      <th>9436</th>\n",
       "      <td>4000.0</td>\n",
       "      <td>450</td>\n",
       "      <td>-8.955581</td>\n",
       "      <td>34.602664</td>\n",
       "      <td>1449</td>\n",
       "      <td>0</td>\n",
       "      <td>0</td>\n",
       "      <td>0</td>\n",
       "      <td>0</td>\n",
       "      <td>0</td>\n",
       "      <td>...</td>\n",
       "      <td>0</td>\n",
       "      <td>0</td>\n",
       "      <td>0</td>\n",
       "      <td>0</td>\n",
       "      <td>0</td>\n",
       "      <td>0</td>\n",
       "      <td>0</td>\n",
       "      <td>1</td>\n",
       "      <td>0</td>\n",
       "      <td>0</td>\n",
       "    </tr>\n",
       "  </tbody>\n",
       "</table>\n",
       "<p>3 rows × 793 columns</p>\n",
       "</div>"
      ],
      "text/plain": [
       "      amount_tsh  population   latitude  longitude  gps_height  region_code_1  region_code_2  region_code_3  region_code_4  region_code_5        ...          installer_wachina  basin_Internal  basin_Lake Nyasa  basin_Lake Rukwa  basin_Lake Tanganyika  basin_Lake Victoria  basin_Pangani  basin_Rufiji  basin_Ruvuma / Southern Coast  basin_Wami / Ruvu\n",
       "5054       500.0          80  -8.928630  35.104521        1272              0              0              0              0              0        ...                          0               0                 0                 0                      0                    0              0             1                              0                  0\n",
       "1536         0.0           1 -10.765262  38.624369         369              0              0              0              0              0        ...                          0               0                 0                 0                      0                    0              0             0                              1                  0\n",
       "9436      4000.0         450  -8.955581  34.602664        1449              0              0              0              0              0        ...                          0               0                 0                 0                      0                    0              0             1                              0                  0\n",
       "\n",
       "[3 rows x 793 columns]"
      ]
     },
     "execution_count": 145,
     "metadata": {},
     "output_type": "execute_result"
    }
   ],
   "source": [
    "# create dummy features\n",
    "\n",
    "dummy_start_comp = dummy_start - 1\n",
    "df_test_values = pd.get_dummies(df_test_values,columns=list(df_test_values.columns[dummy_start_comp:]))\n",
    "df_test_values.sample(3)"
   ]
  },
  {
   "cell_type": "code",
   "execution_count": 146,
   "metadata": {},
   "outputs": [],
   "source": [
    "columns = list(df_test_values.columns)\n",
    "df_test_values[columns[dummy_start_comp:]] = df_test_values[columns[dummy_start_comp:]].astype(int)"
   ]
  },
  {
   "cell_type": "markdown",
   "metadata": {},
   "source": [
    "## Missing features"
   ]
  },
  {
   "cell_type": "code",
   "execution_count": 151,
   "metadata": {},
   "outputs": [],
   "source": [
    "miss = list(set(X_train.columns)-set(df_test_values.columns))\n",
    "for item in miss:\n",
    "    a = [0] * len(df_test_values['population'])\n",
    "    df_test_values[item] = a"
   ]
  },
  {
   "cell_type": "code",
   "execution_count": 155,
   "metadata": {},
   "outputs": [],
   "source": [
    "b = list(X_train.columns)\n",
    "df_test_values_new = df_test_values[b]"
   ]
  },
  {
   "cell_type": "markdown",
   "metadata": {},
   "source": [
    "# Create selected feature DataFrame"
   ]
  },
  {
   "cell_type": "markdown",
   "metadata": {},
   "source": [
    "## Randomize"
   ]
  },
  {
   "cell_type": "code",
   "execution_count": 67,
   "metadata": {},
   "outputs": [],
   "source": [
    "# randomize data\n",
    "# df_lables, df_values - combine and shuffle this data\n",
    "\n",
    "df = pd.merge(df_labels,df_values,how = 'left')\n",
    "df = df.sample(frac=1).reset_index(drop=True)"
   ]
  },
  {
   "cell_type": "code",
   "execution_count": 80,
   "metadata": {},
   "outputs": [],
   "source": [
    "my_features.insert(0,'status_group')"
   ]
  },
  {
   "cell_type": "code",
   "execution_count": 82,
   "metadata": {},
   "outputs": [],
   "source": [
    "df_features = df[my_features]"
   ]
  },
  {
   "cell_type": "code",
   "execution_count": 84,
   "metadata": {},
   "outputs": [
    {
     "data": {
      "text/html": [
       "<div>\n",
       "<style scoped>\n",
       "    .dataframe tbody tr th:only-of-type {\n",
       "        vertical-align: middle;\n",
       "    }\n",
       "\n",
       "    .dataframe tbody tr th {\n",
       "        vertical-align: top;\n",
       "    }\n",
       "\n",
       "    .dataframe thead th {\n",
       "        text-align: right;\n",
       "    }\n",
       "</style>\n",
       "<table border=\"1\" class=\"dataframe\">\n",
       "  <thead>\n",
       "    <tr style=\"text-align: right;\">\n",
       "      <th></th>\n",
       "      <th>status_group</th>\n",
       "      <th>amount_tsh</th>\n",
       "      <th>population</th>\n",
       "      <th>latitude</th>\n",
       "      <th>longitude</th>\n",
       "      <th>gps_height</th>\n",
       "      <th>region_code_1</th>\n",
       "      <th>region_code_2</th>\n",
       "      <th>region_code_3</th>\n",
       "      <th>region_code_4</th>\n",
       "      <th>...</th>\n",
       "      <th>installer_nan</th>\n",
       "      <th>basin_Internal</th>\n",
       "      <th>basin_Lake Nyasa</th>\n",
       "      <th>basin_Lake Rukwa</th>\n",
       "      <th>basin_Lake Tanganyika</th>\n",
       "      <th>basin_Lake Victoria</th>\n",
       "      <th>basin_Pangani</th>\n",
       "      <th>basin_Rufiji</th>\n",
       "      <th>basin_Ruvuma / Southern Coast</th>\n",
       "      <th>basin_Wami / Ruvu</th>\n",
       "    </tr>\n",
       "  </thead>\n",
       "  <tbody>\n",
       "    <tr>\n",
       "      <th>58753</th>\n",
       "      <td>functional</td>\n",
       "      <td>500.0</td>\n",
       "      <td>80</td>\n",
       "      <td>-8.829995</td>\n",
       "      <td>34.931789</td>\n",
       "      <td>1589</td>\n",
       "      <td>0</td>\n",
       "      <td>0</td>\n",
       "      <td>0</td>\n",
       "      <td>0</td>\n",
       "      <td>...</td>\n",
       "      <td>1</td>\n",
       "      <td>0</td>\n",
       "      <td>0</td>\n",
       "      <td>0</td>\n",
       "      <td>0</td>\n",
       "      <td>0</td>\n",
       "      <td>0</td>\n",
       "      <td>1</td>\n",
       "      <td>0</td>\n",
       "      <td>0</td>\n",
       "    </tr>\n",
       "    <tr>\n",
       "      <th>24759</th>\n",
       "      <td>functional</td>\n",
       "      <td>0.0</td>\n",
       "      <td>0</td>\n",
       "      <td>-3.278277</td>\n",
       "      <td>31.909012</td>\n",
       "      <td>0</td>\n",
       "      <td>0</td>\n",
       "      <td>0</td>\n",
       "      <td>0</td>\n",
       "      <td>0</td>\n",
       "      <td>...</td>\n",
       "      <td>1</td>\n",
       "      <td>0</td>\n",
       "      <td>0</td>\n",
       "      <td>0</td>\n",
       "      <td>1</td>\n",
       "      <td>0</td>\n",
       "      <td>0</td>\n",
       "      <td>0</td>\n",
       "      <td>0</td>\n",
       "      <td>0</td>\n",
       "    </tr>\n",
       "    <tr>\n",
       "      <th>11447</th>\n",
       "      <td>functional</td>\n",
       "      <td>0.0</td>\n",
       "      <td>250</td>\n",
       "      <td>-7.620373</td>\n",
       "      <td>37.014316</td>\n",
       "      <td>301</td>\n",
       "      <td>0</td>\n",
       "      <td>0</td>\n",
       "      <td>0</td>\n",
       "      <td>0</td>\n",
       "      <td>...</td>\n",
       "      <td>1</td>\n",
       "      <td>0</td>\n",
       "      <td>0</td>\n",
       "      <td>0</td>\n",
       "      <td>0</td>\n",
       "      <td>0</td>\n",
       "      <td>0</td>\n",
       "      <td>1</td>\n",
       "      <td>0</td>\n",
       "      <td>0</td>\n",
       "    </tr>\n",
       "  </tbody>\n",
       "</table>\n",
       "<p>3 rows × 288 columns</p>\n",
       "</div>"
      ],
      "text/plain": [
       "      status_group  amount_tsh  population  latitude  longitude  gps_height  region_code_1  region_code_2  region_code_3  region_code_4        ...          installer_nan  basin_Internal  basin_Lake Nyasa  basin_Lake Rukwa  basin_Lake Tanganyika  basin_Lake Victoria  basin_Pangani  basin_Rufiji  basin_Ruvuma / Southern Coast  basin_Wami / Ruvu\n",
       "58753   functional       500.0          80 -8.829995  34.931789        1589              0              0              0              0        ...                      1               0                 0                 0                      0                    0              0             1                              0                  0\n",
       "24759   functional         0.0           0 -3.278277  31.909012           0              0              0              0              0        ...                      1               0                 0                 0                      1                    0              0             0                              0                  0\n",
       "11447   functional         0.0         250 -7.620373  37.014316         301              0              0              0              0        ...                      1               0                 0                 0                      0                    0              0             1                              0                  0\n",
       "\n",
       "[3 rows x 288 columns]"
      ]
     },
     "execution_count": 84,
     "metadata": {},
     "output_type": "execute_result"
    }
   ],
   "source": [
    "# create dummy features\n",
    "\n",
    "dummy_start = 6\n",
    "df_features = pd.get_dummies(df_features,columns=list(df_features.columns[dummy_start:]))\n",
    "df_features.sample(3)"
   ]
  },
  {
   "cell_type": "code",
   "execution_count": 20,
   "metadata": {},
   "outputs": [],
   "source": [
    "map_status_group = {'functional':0,'functional needs repair':1,'non functional':2}"
   ]
  },
  {
   "cell_type": "code",
   "execution_count": 85,
   "metadata": {},
   "outputs": [],
   "source": [
    "# turn y into 3 class 0,1,2\n",
    "df_features['status_group'].replace(map_status_group, inplace=True)"
   ]
  },
  {
   "cell_type": "code",
   "execution_count": 86,
   "metadata": {},
   "outputs": [],
   "source": [
    "columns = list(df_features.columns)\n",
    "df_features[columns[dummy_start:]] = df_features[columns[dummy_start:]].astype(int)\n",
    "df_features[columns[0]] = df_features[columns[0]].astype(int)"
   ]
  },
  {
   "cell_type": "markdown",
   "metadata": {},
   "source": [
    "## Create X and Y"
   ]
  },
  {
   "cell_type": "code",
   "execution_count": 89,
   "metadata": {},
   "outputs": [],
   "source": [
    "y = df_features.status_group\n",
    "X = df_features.drop('status_group', axis=1)"
   ]
  },
  {
   "cell_type": "markdown",
   "metadata": {},
   "source": [
    "## Test train split"
   ]
  },
  {
   "cell_type": "code",
   "execution_count": 93,
   "metadata": {},
   "outputs": [],
   "source": [
    "X_train, X_test, y_train, y_test = train_test_split(X, y, test_size=0.2)"
   ]
  },
  {
   "cell_type": "markdown",
   "metadata": {},
   "source": [
    "# Decision Tree"
   ]
  },
  {
   "cell_type": "markdown",
   "metadata": {},
   "source": [
    "## Create DT on test-train-split"
   ]
  },
  {
   "cell_type": "code",
   "execution_count": 24,
   "metadata": {},
   "outputs": [],
   "source": [
    "y = feature_sel.status_group\n",
    "X = feature_sel.drop('status_group', axis=1)"
   ]
  },
  {
   "cell_type": "code",
   "execution_count": 25,
   "metadata": {},
   "outputs": [],
   "source": [
    "X_train, X_test, y_train, y_test = train_test_split(X, y, test_size=0.2)"
   ]
  },
  {
   "cell_type": "code",
   "execution_count": 26,
   "metadata": {},
   "outputs": [
    {
     "data": {
      "text/plain": [
       "DecisionTreeClassifier(class_weight=None, criterion='gini', max_depth=None,\n",
       "            max_features=None, max_leaf_nodes=None,\n",
       "            min_impurity_decrease=0.0, min_impurity_split=None,\n",
       "            min_samples_leaf=1, min_samples_split=2,\n",
       "            min_weight_fraction_leaf=0.0, presort=False, random_state=0,\n",
       "            splitter='best')"
      ]
     },
     "execution_count": 26,
     "metadata": {},
     "output_type": "execute_result"
    }
   ],
   "source": [
    "decisiontree = DecisionTreeClassifier(random_state=0)\n",
    "decisiontree.fit(X_train,y_train)"
   ]
  },
  {
   "cell_type": "code",
   "execution_count": 27,
   "metadata": {},
   "outputs": [
    {
     "data": {
      "text/plain": [
       "0.7430976430976431"
      ]
     },
     "execution_count": 27,
     "metadata": {},
     "output_type": "execute_result"
    }
   ],
   "source": [
    "decisiontree.score(X_test,y_test)"
   ]
  },
  {
   "cell_type": "markdown",
   "metadata": {},
   "source": [
    "## DT on competition datsa"
   ]
  },
  {
   "cell_type": "code",
   "execution_count": 115,
   "metadata": {},
   "outputs": [],
   "source": [
    "df_test_values = df_test_values[['gps_height', 'longitude', 'latitude', 'population','basin',\n",
    "                  'extraction_type_class','payment','quantity','water_quality', 'source_class',\n",
    "                  'waterpoint_type_group','public_meeting','scheme_management']]"
   ]
  },
  {
   "cell_type": "code",
   "execution_count": 116,
   "metadata": {},
   "outputs": [
    {
     "data": {
      "text/html": [
       "<div>\n",
       "<style scoped>\n",
       "    .dataframe tbody tr th:only-of-type {\n",
       "        vertical-align: middle;\n",
       "    }\n",
       "\n",
       "    .dataframe tbody tr th {\n",
       "        vertical-align: top;\n",
       "    }\n",
       "\n",
       "    .dataframe thead th {\n",
       "        text-align: right;\n",
       "    }\n",
       "</style>\n",
       "<table border=\"1\" class=\"dataframe\">\n",
       "  <thead>\n",
       "    <tr style=\"text-align: right;\">\n",
       "      <th></th>\n",
       "      <th>gps_height</th>\n",
       "      <th>longitude</th>\n",
       "      <th>latitude</th>\n",
       "      <th>population</th>\n",
       "      <th>basin</th>\n",
       "      <th>extraction_type_class</th>\n",
       "      <th>payment</th>\n",
       "      <th>quantity</th>\n",
       "      <th>water_quality</th>\n",
       "      <th>source_class</th>\n",
       "      <th>waterpoint_type_group</th>\n",
       "      <th>public_meeting</th>\n",
       "      <th>scheme_management</th>\n",
       "    </tr>\n",
       "  </thead>\n",
       "  <tbody>\n",
       "    <tr>\n",
       "      <th>0</th>\n",
       "      <td>1996</td>\n",
       "      <td>35.290799</td>\n",
       "      <td>-4.059696e+00</td>\n",
       "      <td>321</td>\n",
       "      <td>Internal</td>\n",
       "      <td>other</td>\n",
       "      <td>never pay</td>\n",
       "      <td>seasonal</td>\n",
       "      <td>soft</td>\n",
       "      <td>surface</td>\n",
       "      <td>other</td>\n",
       "      <td>True</td>\n",
       "      <td>Parastatal</td>\n",
       "    </tr>\n",
       "    <tr>\n",
       "      <th>1</th>\n",
       "      <td>1569</td>\n",
       "      <td>36.656709</td>\n",
       "      <td>-3.309214e+00</td>\n",
       "      <td>300</td>\n",
       "      <td>Pangani</td>\n",
       "      <td>gravity</td>\n",
       "      <td>never pay</td>\n",
       "      <td>insufficient</td>\n",
       "      <td>soft</td>\n",
       "      <td>groundwater</td>\n",
       "      <td>communal standpipe</td>\n",
       "      <td>True</td>\n",
       "      <td>VWC</td>\n",
       "    </tr>\n",
       "    <tr>\n",
       "      <th>2</th>\n",
       "      <td>1567</td>\n",
       "      <td>34.767863</td>\n",
       "      <td>-5.004344e+00</td>\n",
       "      <td>500</td>\n",
       "      <td>Internal</td>\n",
       "      <td>other</td>\n",
       "      <td>never pay</td>\n",
       "      <td>insufficient</td>\n",
       "      <td>soft</td>\n",
       "      <td>surface</td>\n",
       "      <td>other</td>\n",
       "      <td>True</td>\n",
       "      <td>VWC</td>\n",
       "    </tr>\n",
       "    <tr>\n",
       "      <th>3</th>\n",
       "      <td>267</td>\n",
       "      <td>38.058046</td>\n",
       "      <td>-9.418672e+00</td>\n",
       "      <td>250</td>\n",
       "      <td>Ruvuma / Southern Coast</td>\n",
       "      <td>other</td>\n",
       "      <td>unknown</td>\n",
       "      <td>dry</td>\n",
       "      <td>soft</td>\n",
       "      <td>groundwater</td>\n",
       "      <td>other</td>\n",
       "      <td>NaN</td>\n",
       "      <td>VWC</td>\n",
       "    </tr>\n",
       "    <tr>\n",
       "      <th>4</th>\n",
       "      <td>1260</td>\n",
       "      <td>35.006123</td>\n",
       "      <td>-1.095041e+01</td>\n",
       "      <td>60</td>\n",
       "      <td>Ruvuma / Southern Coast</td>\n",
       "      <td>gravity</td>\n",
       "      <td>pay monthly</td>\n",
       "      <td>enough</td>\n",
       "      <td>soft</td>\n",
       "      <td>groundwater</td>\n",
       "      <td>communal standpipe</td>\n",
       "      <td>NaN</td>\n",
       "      <td>Water Board</td>\n",
       "    </tr>\n",
       "    <tr>\n",
       "      <th>5</th>\n",
       "      <td>1685</td>\n",
       "      <td>36.685279</td>\n",
       "      <td>-3.302420e+00</td>\n",
       "      <td>200</td>\n",
       "      <td>Pangani</td>\n",
       "      <td>gravity</td>\n",
       "      <td>never pay</td>\n",
       "      <td>enough</td>\n",
       "      <td>soft</td>\n",
       "      <td>groundwater</td>\n",
       "      <td>communal standpipe</td>\n",
       "      <td>True</td>\n",
       "      <td>VWC</td>\n",
       "    </tr>\n",
       "    <tr>\n",
       "      <th>6</th>\n",
       "      <td>550</td>\n",
       "      <td>36.398041</td>\n",
       "      <td>-7.541382e+00</td>\n",
       "      <td>600</td>\n",
       "      <td>Rufiji</td>\n",
       "      <td>handpump</td>\n",
       "      <td>never pay</td>\n",
       "      <td>enough</td>\n",
       "      <td>salty</td>\n",
       "      <td>groundwater</td>\n",
       "      <td>hand pump</td>\n",
       "      <td>True</td>\n",
       "      <td>VWC</td>\n",
       "    </tr>\n",
       "    <tr>\n",
       "      <th>7</th>\n",
       "      <td>234</td>\n",
       "      <td>39.607420</td>\n",
       "      <td>-1.089379e+01</td>\n",
       "      <td>1</td>\n",
       "      <td>Ruvuma / Southern Coast</td>\n",
       "      <td>submersible</td>\n",
       "      <td>never pay</td>\n",
       "      <td>dry</td>\n",
       "      <td>soft</td>\n",
       "      <td>groundwater</td>\n",
       "      <td>communal standpipe</td>\n",
       "      <td>True</td>\n",
       "      <td>Water Board</td>\n",
       "    </tr>\n",
       "    <tr>\n",
       "      <th>8</th>\n",
       "      <td>584</td>\n",
       "      <td>39.262951</td>\n",
       "      <td>-1.082359e+01</td>\n",
       "      <td>40</td>\n",
       "      <td>Ruvuma / Southern Coast</td>\n",
       "      <td>gravity</td>\n",
       "      <td>pay per bucket</td>\n",
       "      <td>insufficient</td>\n",
       "      <td>soft</td>\n",
       "      <td>groundwater</td>\n",
       "      <td>communal standpipe</td>\n",
       "      <td>True</td>\n",
       "      <td>VWC</td>\n",
       "    </tr>\n",
       "    <tr>\n",
       "      <th>9</th>\n",
       "      <td>1083</td>\n",
       "      <td>37.096108</td>\n",
       "      <td>-3.251754e+00</td>\n",
       "      <td>1</td>\n",
       "      <td>Pangani</td>\n",
       "      <td>gravity</td>\n",
       "      <td>pay monthly</td>\n",
       "      <td>enough</td>\n",
       "      <td>soft</td>\n",
       "      <td>groundwater</td>\n",
       "      <td>communal standpipe</td>\n",
       "      <td>True</td>\n",
       "      <td>Water Board</td>\n",
       "    </tr>\n",
       "    <tr>\n",
       "      <th>10</th>\n",
       "      <td>1259</td>\n",
       "      <td>37.233248</td>\n",
       "      <td>-3.241121e+00</td>\n",
       "      <td>75</td>\n",
       "      <td>Pangani</td>\n",
       "      <td>gravity</td>\n",
       "      <td>pay per bucket</td>\n",
       "      <td>enough</td>\n",
       "      <td>soft</td>\n",
       "      <td>groundwater</td>\n",
       "      <td>communal standpipe</td>\n",
       "      <td>True</td>\n",
       "      <td>Water Board</td>\n",
       "    </tr>\n",
       "    <tr>\n",
       "      <th>11</th>\n",
       "      <td>608</td>\n",
       "      <td>37.686392</td>\n",
       "      <td>-4.555975e+00</td>\n",
       "      <td>500</td>\n",
       "      <td>Pangani</td>\n",
       "      <td>other</td>\n",
       "      <td>never pay</td>\n",
       "      <td>dry</td>\n",
       "      <td>soft</td>\n",
       "      <td>surface</td>\n",
       "      <td>other</td>\n",
       "      <td>True</td>\n",
       "      <td>NaN</td>\n",
       "    </tr>\n",
       "    <tr>\n",
       "      <th>12</th>\n",
       "      <td>0</td>\n",
       "      <td>33.661074</td>\n",
       "      <td>-4.165720e+00</td>\n",
       "      <td>0</td>\n",
       "      <td>Internal</td>\n",
       "      <td>motorpump</td>\n",
       "      <td>unknown</td>\n",
       "      <td>dry</td>\n",
       "      <td>soft</td>\n",
       "      <td>groundwater</td>\n",
       "      <td>communal standpipe</td>\n",
       "      <td>True</td>\n",
       "      <td>Other</td>\n",
       "    </tr>\n",
       "    <tr>\n",
       "      <th>13</th>\n",
       "      <td>0</td>\n",
       "      <td>33.007680</td>\n",
       "      <td>-3.209529e+00</td>\n",
       "      <td>0</td>\n",
       "      <td>Lake Victoria</td>\n",
       "      <td>motorpump</td>\n",
       "      <td>pay per bucket</td>\n",
       "      <td>enough</td>\n",
       "      <td>soft</td>\n",
       "      <td>groundwater</td>\n",
       "      <td>communal standpipe</td>\n",
       "      <td>True</td>\n",
       "      <td>VWC</td>\n",
       "    </tr>\n",
       "    <tr>\n",
       "      <th>14</th>\n",
       "      <td>1625</td>\n",
       "      <td>35.615624</td>\n",
       "      <td>-7.870290e+00</td>\n",
       "      <td>1</td>\n",
       "      <td>Rufiji</td>\n",
       "      <td>gravity</td>\n",
       "      <td>pay monthly</td>\n",
       "      <td>enough</td>\n",
       "      <td>soft</td>\n",
       "      <td>groundwater</td>\n",
       "      <td>communal standpipe</td>\n",
       "      <td>True</td>\n",
       "      <td>VWC</td>\n",
       "    </tr>\n",
       "    <tr>\n",
       "      <th>15</th>\n",
       "      <td>916</td>\n",
       "      <td>35.482886</td>\n",
       "      <td>-1.091260e+01</td>\n",
       "      <td>0</td>\n",
       "      <td>Ruvuma / Southern Coast</td>\n",
       "      <td>gravity</td>\n",
       "      <td>pay annually</td>\n",
       "      <td>enough</td>\n",
       "      <td>soft</td>\n",
       "      <td>surface</td>\n",
       "      <td>communal standpipe</td>\n",
       "      <td>True</td>\n",
       "      <td>VWC</td>\n",
       "    </tr>\n",
       "    <tr>\n",
       "      <th>16</th>\n",
       "      <td>-39</td>\n",
       "      <td>39.850190</td>\n",
       "      <td>-7.727946e+00</td>\n",
       "      <td>900</td>\n",
       "      <td>Rufiji</td>\n",
       "      <td>handpump</td>\n",
       "      <td>never pay</td>\n",
       "      <td>enough</td>\n",
       "      <td>soft</td>\n",
       "      <td>groundwater</td>\n",
       "      <td>hand pump</td>\n",
       "      <td>True</td>\n",
       "      <td>VWC</td>\n",
       "    </tr>\n",
       "    <tr>\n",
       "      <th>17</th>\n",
       "      <td>1793</td>\n",
       "      <td>38.254024</td>\n",
       "      <td>-4.565802e+00</td>\n",
       "      <td>1</td>\n",
       "      <td>Pangani</td>\n",
       "      <td>gravity</td>\n",
       "      <td>pay monthly</td>\n",
       "      <td>enough</td>\n",
       "      <td>soft</td>\n",
       "      <td>groundwater</td>\n",
       "      <td>communal standpipe</td>\n",
       "      <td>True</td>\n",
       "      <td>VWC</td>\n",
       "    </tr>\n",
       "    <tr>\n",
       "      <th>18</th>\n",
       "      <td>0</td>\n",
       "      <td>31.586798</td>\n",
       "      <td>-3.387808e+00</td>\n",
       "      <td>0</td>\n",
       "      <td>Lake Tanganyika</td>\n",
       "      <td>gravity</td>\n",
       "      <td>unknown</td>\n",
       "      <td>seasonal</td>\n",
       "      <td>soft</td>\n",
       "      <td>surface</td>\n",
       "      <td>communal standpipe</td>\n",
       "      <td>True</td>\n",
       "      <td>Parastatal</td>\n",
       "    </tr>\n",
       "    <tr>\n",
       "      <th>19</th>\n",
       "      <td>368</td>\n",
       "      <td>39.438526</td>\n",
       "      <td>-1.058337e+01</td>\n",
       "      <td>300</td>\n",
       "      <td>Ruvuma / Southern Coast</td>\n",
       "      <td>submersible</td>\n",
       "      <td>never pay</td>\n",
       "      <td>dry</td>\n",
       "      <td>soft</td>\n",
       "      <td>groundwater</td>\n",
       "      <td>communal standpipe</td>\n",
       "      <td>True</td>\n",
       "      <td>Water Board</td>\n",
       "    </tr>\n",
       "    <tr>\n",
       "      <th>20</th>\n",
       "      <td>-27</td>\n",
       "      <td>39.322307</td>\n",
       "      <td>-6.850262e+00</td>\n",
       "      <td>120</td>\n",
       "      <td>Wami / Ruvu</td>\n",
       "      <td>submersible</td>\n",
       "      <td>never pay</td>\n",
       "      <td>enough</td>\n",
       "      <td>soft</td>\n",
       "      <td>groundwater</td>\n",
       "      <td>communal standpipe</td>\n",
       "      <td>True</td>\n",
       "      <td>SWC</td>\n",
       "    </tr>\n",
       "    <tr>\n",
       "      <th>21</th>\n",
       "      <td>1674</td>\n",
       "      <td>34.943620</td>\n",
       "      <td>-9.352515e+00</td>\n",
       "      <td>30</td>\n",
       "      <td>Rufiji</td>\n",
       "      <td>gravity</td>\n",
       "      <td>never pay</td>\n",
       "      <td>insufficient</td>\n",
       "      <td>soft</td>\n",
       "      <td>groundwater</td>\n",
       "      <td>communal standpipe</td>\n",
       "      <td>True</td>\n",
       "      <td>VWC</td>\n",
       "    </tr>\n",
       "    <tr>\n",
       "      <th>22</th>\n",
       "      <td>1087</td>\n",
       "      <td>31.046088</td>\n",
       "      <td>-5.054196e+00</td>\n",
       "      <td>1750</td>\n",
       "      <td>Lake Tanganyika</td>\n",
       "      <td>other</td>\n",
       "      <td>unknown</td>\n",
       "      <td>enough</td>\n",
       "      <td>milky</td>\n",
       "      <td>groundwater</td>\n",
       "      <td>other</td>\n",
       "      <td>True</td>\n",
       "      <td>VWC</td>\n",
       "    </tr>\n",
       "    <tr>\n",
       "      <th>23</th>\n",
       "      <td>1441</td>\n",
       "      <td>34.621048</td>\n",
       "      <td>-5.165926e+00</td>\n",
       "      <td>1</td>\n",
       "      <td>Internal</td>\n",
       "      <td>motorpump</td>\n",
       "      <td>unknown</td>\n",
       "      <td>dry</td>\n",
       "      <td>unknown</td>\n",
       "      <td>groundwater</td>\n",
       "      <td>communal standpipe</td>\n",
       "      <td>True</td>\n",
       "      <td>VWC</td>\n",
       "    </tr>\n",
       "    <tr>\n",
       "      <th>24</th>\n",
       "      <td>0</td>\n",
       "      <td>33.722359</td>\n",
       "      <td>-3.047122e+00</td>\n",
       "      <td>0</td>\n",
       "      <td>Lake Victoria</td>\n",
       "      <td>handpump</td>\n",
       "      <td>never pay</td>\n",
       "      <td>enough</td>\n",
       "      <td>soft</td>\n",
       "      <td>groundwater</td>\n",
       "      <td>hand pump</td>\n",
       "      <td>True</td>\n",
       "      <td>WUG</td>\n",
       "    </tr>\n",
       "    <tr>\n",
       "      <th>25</th>\n",
       "      <td>1726</td>\n",
       "      <td>34.929592</td>\n",
       "      <td>-9.152872e+00</td>\n",
       "      <td>50</td>\n",
       "      <td>Rufiji</td>\n",
       "      <td>gravity</td>\n",
       "      <td>pay monthly</td>\n",
       "      <td>enough</td>\n",
       "      <td>soft</td>\n",
       "      <td>groundwater</td>\n",
       "      <td>communal standpipe</td>\n",
       "      <td>True</td>\n",
       "      <td>VWC</td>\n",
       "    </tr>\n",
       "    <tr>\n",
       "      <th>26</th>\n",
       "      <td>986</td>\n",
       "      <td>35.424443</td>\n",
       "      <td>-1.057969e+01</td>\n",
       "      <td>0</td>\n",
       "      <td>Ruvuma / Southern Coast</td>\n",
       "      <td>gravity</td>\n",
       "      <td>never pay</td>\n",
       "      <td>dry</td>\n",
       "      <td>soft</td>\n",
       "      <td>surface</td>\n",
       "      <td>communal standpipe</td>\n",
       "      <td>True</td>\n",
       "      <td>VWC</td>\n",
       "    </tr>\n",
       "    <tr>\n",
       "      <th>27</th>\n",
       "      <td>0</td>\n",
       "      <td>35.894877</td>\n",
       "      <td>-6.147522e+00</td>\n",
       "      <td>0</td>\n",
       "      <td>Wami / Ruvu</td>\n",
       "      <td>motorpump</td>\n",
       "      <td>pay per bucket</td>\n",
       "      <td>dry</td>\n",
       "      <td>salty</td>\n",
       "      <td>groundwater</td>\n",
       "      <td>communal standpipe</td>\n",
       "      <td>True</td>\n",
       "      <td>VWC</td>\n",
       "    </tr>\n",
       "    <tr>\n",
       "      <th>28</th>\n",
       "      <td>0</td>\n",
       "      <td>0.000000</td>\n",
       "      <td>-2.000000e-08</td>\n",
       "      <td>0</td>\n",
       "      <td>Lake Victoria</td>\n",
       "      <td>handpump</td>\n",
       "      <td>pay when scheme fails</td>\n",
       "      <td>enough</td>\n",
       "      <td>salty abandoned</td>\n",
       "      <td>groundwater</td>\n",
       "      <td>hand pump</td>\n",
       "      <td>True</td>\n",
       "      <td>WUG</td>\n",
       "    </tr>\n",
       "    <tr>\n",
       "      <th>29</th>\n",
       "      <td>1309</td>\n",
       "      <td>36.291761</td>\n",
       "      <td>-5.242313e+00</td>\n",
       "      <td>860</td>\n",
       "      <td>Internal</td>\n",
       "      <td>gravity</td>\n",
       "      <td>never pay</td>\n",
       "      <td>seasonal</td>\n",
       "      <td>soft</td>\n",
       "      <td>surface</td>\n",
       "      <td>communal standpipe</td>\n",
       "      <td>True</td>\n",
       "      <td>VWC</td>\n",
       "    </tr>\n",
       "    <tr>\n",
       "      <th>...</th>\n",
       "      <td>...</td>\n",
       "      <td>...</td>\n",
       "      <td>...</td>\n",
       "      <td>...</td>\n",
       "      <td>...</td>\n",
       "      <td>...</td>\n",
       "      <td>...</td>\n",
       "      <td>...</td>\n",
       "      <td>...</td>\n",
       "      <td>...</td>\n",
       "      <td>...</td>\n",
       "      <td>...</td>\n",
       "      <td>...</td>\n",
       "    </tr>\n",
       "    <tr>\n",
       "      <th>14820</th>\n",
       "      <td>265</td>\n",
       "      <td>38.504640</td>\n",
       "      <td>-1.016990e+01</td>\n",
       "      <td>749</td>\n",
       "      <td>Ruvuma / Southern Coast</td>\n",
       "      <td>gravity</td>\n",
       "      <td>never pay</td>\n",
       "      <td>seasonal</td>\n",
       "      <td>soft</td>\n",
       "      <td>surface</td>\n",
       "      <td>communal standpipe</td>\n",
       "      <td>True</td>\n",
       "      <td>VWC</td>\n",
       "    </tr>\n",
       "    <tr>\n",
       "      <th>14821</th>\n",
       "      <td>1322</td>\n",
       "      <td>37.261731</td>\n",
       "      <td>-3.235687e+00</td>\n",
       "      <td>45</td>\n",
       "      <td>Pangani</td>\n",
       "      <td>gravity</td>\n",
       "      <td>pay per bucket</td>\n",
       "      <td>enough</td>\n",
       "      <td>soft</td>\n",
       "      <td>surface</td>\n",
       "      <td>communal standpipe</td>\n",
       "      <td>True</td>\n",
       "      <td>Water Board</td>\n",
       "    </tr>\n",
       "    <tr>\n",
       "      <th>14822</th>\n",
       "      <td>640</td>\n",
       "      <td>39.297410</td>\n",
       "      <td>-1.092504e+01</td>\n",
       "      <td>360</td>\n",
       "      <td>Ruvuma / Southern Coast</td>\n",
       "      <td>gravity</td>\n",
       "      <td>pay per bucket</td>\n",
       "      <td>insufficient</td>\n",
       "      <td>soft</td>\n",
       "      <td>groundwater</td>\n",
       "      <td>communal standpipe</td>\n",
       "      <td>True</td>\n",
       "      <td>Other</td>\n",
       "    </tr>\n",
       "    <tr>\n",
       "      <th>14823</th>\n",
       "      <td>0</td>\n",
       "      <td>33.918953</td>\n",
       "      <td>-9.298466e+00</td>\n",
       "      <td>0</td>\n",
       "      <td>Lake Nyasa</td>\n",
       "      <td>gravity</td>\n",
       "      <td>unknown</td>\n",
       "      <td>enough</td>\n",
       "      <td>soft</td>\n",
       "      <td>groundwater</td>\n",
       "      <td>communal standpipe</td>\n",
       "      <td>True</td>\n",
       "      <td>Parastatal</td>\n",
       "    </tr>\n",
       "    <tr>\n",
       "      <th>14824</th>\n",
       "      <td>574</td>\n",
       "      <td>37.070462</td>\n",
       "      <td>-6.575076e+00</td>\n",
       "      <td>250</td>\n",
       "      <td>Wami / Ruvu</td>\n",
       "      <td>handpump</td>\n",
       "      <td>never pay</td>\n",
       "      <td>insufficient</td>\n",
       "      <td>soft</td>\n",
       "      <td>groundwater</td>\n",
       "      <td>hand pump</td>\n",
       "      <td>True</td>\n",
       "      <td>VWC</td>\n",
       "    </tr>\n",
       "    <tr>\n",
       "      <th>14825</th>\n",
       "      <td>331</td>\n",
       "      <td>38.761961</td>\n",
       "      <td>-1.091314e+01</td>\n",
       "      <td>89</td>\n",
       "      <td>Ruvuma / Southern Coast</td>\n",
       "      <td>handpump</td>\n",
       "      <td>never pay</td>\n",
       "      <td>insufficient</td>\n",
       "      <td>soft</td>\n",
       "      <td>groundwater</td>\n",
       "      <td>hand pump</td>\n",
       "      <td>True</td>\n",
       "      <td>VWC</td>\n",
       "    </tr>\n",
       "    <tr>\n",
       "      <th>14826</th>\n",
       "      <td>0</td>\n",
       "      <td>32.243937</td>\n",
       "      <td>-3.311621e+00</td>\n",
       "      <td>0</td>\n",
       "      <td>Lake Tanganyika</td>\n",
       "      <td>handpump</td>\n",
       "      <td>unknown</td>\n",
       "      <td>enough</td>\n",
       "      <td>soft</td>\n",
       "      <td>groundwater</td>\n",
       "      <td>hand pump</td>\n",
       "      <td>NaN</td>\n",
       "      <td>WUG</td>\n",
       "    </tr>\n",
       "    <tr>\n",
       "      <th>14827</th>\n",
       "      <td>0</td>\n",
       "      <td>32.985694</td>\n",
       "      <td>-2.734208e+00</td>\n",
       "      <td>0</td>\n",
       "      <td>Lake Victoria</td>\n",
       "      <td>handpump</td>\n",
       "      <td>pay annually</td>\n",
       "      <td>enough</td>\n",
       "      <td>soft</td>\n",
       "      <td>groundwater</td>\n",
       "      <td>hand pump</td>\n",
       "      <td>True</td>\n",
       "      <td>VWC</td>\n",
       "    </tr>\n",
       "    <tr>\n",
       "      <th>14828</th>\n",
       "      <td>78</td>\n",
       "      <td>39.254272</td>\n",
       "      <td>-7.060921e+00</td>\n",
       "      <td>70</td>\n",
       "      <td>Wami / Ruvu</td>\n",
       "      <td>other</td>\n",
       "      <td>pay per bucket</td>\n",
       "      <td>enough</td>\n",
       "      <td>salty</td>\n",
       "      <td>groundwater</td>\n",
       "      <td>other</td>\n",
       "      <td>False</td>\n",
       "      <td>Private operator</td>\n",
       "    </tr>\n",
       "    <tr>\n",
       "      <th>14829</th>\n",
       "      <td>836</td>\n",
       "      <td>35.227320</td>\n",
       "      <td>-1.103905e+01</td>\n",
       "      <td>80</td>\n",
       "      <td>Ruvuma / Southern Coast</td>\n",
       "      <td>gravity</td>\n",
       "      <td>unknown</td>\n",
       "      <td>enough</td>\n",
       "      <td>soft</td>\n",
       "      <td>groundwater</td>\n",
       "      <td>communal standpipe</td>\n",
       "      <td>NaN</td>\n",
       "      <td>VWC</td>\n",
       "    </tr>\n",
       "    <tr>\n",
       "      <th>14830</th>\n",
       "      <td>1651</td>\n",
       "      <td>37.962243</td>\n",
       "      <td>-4.494348e+00</td>\n",
       "      <td>150</td>\n",
       "      <td>Pangani</td>\n",
       "      <td>gravity</td>\n",
       "      <td>never pay</td>\n",
       "      <td>insufficient</td>\n",
       "      <td>soft</td>\n",
       "      <td>groundwater</td>\n",
       "      <td>communal standpipe</td>\n",
       "      <td>True</td>\n",
       "      <td>Water authority</td>\n",
       "    </tr>\n",
       "    <tr>\n",
       "      <th>14831</th>\n",
       "      <td>0</td>\n",
       "      <td>0.000000</td>\n",
       "      <td>-2.000000e-08</td>\n",
       "      <td>0</td>\n",
       "      <td>Lake Victoria</td>\n",
       "      <td>handpump</td>\n",
       "      <td>never pay</td>\n",
       "      <td>enough</td>\n",
       "      <td>salty</td>\n",
       "      <td>groundwater</td>\n",
       "      <td>hand pump</td>\n",
       "      <td>True</td>\n",
       "      <td>VWC</td>\n",
       "    </tr>\n",
       "    <tr>\n",
       "      <th>14832</th>\n",
       "      <td>1393</td>\n",
       "      <td>36.930169</td>\n",
       "      <td>-3.255077e+00</td>\n",
       "      <td>260</td>\n",
       "      <td>Pangani</td>\n",
       "      <td>submersible</td>\n",
       "      <td>unknown</td>\n",
       "      <td>enough</td>\n",
       "      <td>fluoride abandoned</td>\n",
       "      <td>groundwater</td>\n",
       "      <td>communal standpipe</td>\n",
       "      <td>True</td>\n",
       "      <td>VWC</td>\n",
       "    </tr>\n",
       "    <tr>\n",
       "      <th>14833</th>\n",
       "      <td>1729</td>\n",
       "      <td>34.302104</td>\n",
       "      <td>-9.455737e+00</td>\n",
       "      <td>0</td>\n",
       "      <td>Lake Nyasa</td>\n",
       "      <td>gravity</td>\n",
       "      <td>pay annually</td>\n",
       "      <td>enough</td>\n",
       "      <td>soft</td>\n",
       "      <td>groundwater</td>\n",
       "      <td>communal standpipe</td>\n",
       "      <td>True</td>\n",
       "      <td>VWC</td>\n",
       "    </tr>\n",
       "    <tr>\n",
       "      <th>14834</th>\n",
       "      <td>0</td>\n",
       "      <td>35.840727</td>\n",
       "      <td>-4.633272e+00</td>\n",
       "      <td>0</td>\n",
       "      <td>Internal</td>\n",
       "      <td>gravity</td>\n",
       "      <td>pay monthly</td>\n",
       "      <td>insufficient</td>\n",
       "      <td>soft</td>\n",
       "      <td>groundwater</td>\n",
       "      <td>communal standpipe</td>\n",
       "      <td>True</td>\n",
       "      <td>VWC</td>\n",
       "    </tr>\n",
       "    <tr>\n",
       "      <th>14835</th>\n",
       "      <td>0</td>\n",
       "      <td>32.442886</td>\n",
       "      <td>-3.644662e+00</td>\n",
       "      <td>0</td>\n",
       "      <td>Lake Tanganyika</td>\n",
       "      <td>handpump</td>\n",
       "      <td>unknown</td>\n",
       "      <td>enough</td>\n",
       "      <td>soft</td>\n",
       "      <td>groundwater</td>\n",
       "      <td>hand pump</td>\n",
       "      <td>True</td>\n",
       "      <td>NaN</td>\n",
       "    </tr>\n",
       "    <tr>\n",
       "      <th>14836</th>\n",
       "      <td>-7</td>\n",
       "      <td>39.140091</td>\n",
       "      <td>-7.477423e+00</td>\n",
       "      <td>40</td>\n",
       "      <td>Rufiji</td>\n",
       "      <td>handpump</td>\n",
       "      <td>never pay</td>\n",
       "      <td>enough</td>\n",
       "      <td>soft</td>\n",
       "      <td>groundwater</td>\n",
       "      <td>hand pump</td>\n",
       "      <td>True</td>\n",
       "      <td>VWC</td>\n",
       "    </tr>\n",
       "    <tr>\n",
       "      <th>14837</th>\n",
       "      <td>1241</td>\n",
       "      <td>30.114667</td>\n",
       "      <td>-4.162845e+00</td>\n",
       "      <td>780</td>\n",
       "      <td>Lake Tanganyika</td>\n",
       "      <td>handpump</td>\n",
       "      <td>pay annually</td>\n",
       "      <td>enough</td>\n",
       "      <td>soft</td>\n",
       "      <td>groundwater</td>\n",
       "      <td>hand pump</td>\n",
       "      <td>True</td>\n",
       "      <td>Water authority</td>\n",
       "    </tr>\n",
       "    <tr>\n",
       "      <th>14838</th>\n",
       "      <td>2046</td>\n",
       "      <td>34.345525</td>\n",
       "      <td>-9.547077e+00</td>\n",
       "      <td>0</td>\n",
       "      <td>Lake Nyasa</td>\n",
       "      <td>gravity</td>\n",
       "      <td>pay annually</td>\n",
       "      <td>enough</td>\n",
       "      <td>soft</td>\n",
       "      <td>groundwater</td>\n",
       "      <td>communal standpipe</td>\n",
       "      <td>True</td>\n",
       "      <td>VWC</td>\n",
       "    </tr>\n",
       "    <tr>\n",
       "      <th>14839</th>\n",
       "      <td>347</td>\n",
       "      <td>38.613415</td>\n",
       "      <td>-4.815222e+00</td>\n",
       "      <td>300</td>\n",
       "      <td>Pangani</td>\n",
       "      <td>gravity</td>\n",
       "      <td>never pay</td>\n",
       "      <td>insufficient</td>\n",
       "      <td>soft</td>\n",
       "      <td>groundwater</td>\n",
       "      <td>communal standpipe</td>\n",
       "      <td>True</td>\n",
       "      <td>Other</td>\n",
       "    </tr>\n",
       "    <tr>\n",
       "      <th>14840</th>\n",
       "      <td>1291</td>\n",
       "      <td>35.345384</td>\n",
       "      <td>-9.831170e+00</td>\n",
       "      <td>0</td>\n",
       "      <td>Lake Nyasa</td>\n",
       "      <td>gravity</td>\n",
       "      <td>never pay</td>\n",
       "      <td>enough</td>\n",
       "      <td>soft</td>\n",
       "      <td>surface</td>\n",
       "      <td>communal standpipe</td>\n",
       "      <td>True</td>\n",
       "      <td>VWC</td>\n",
       "    </tr>\n",
       "    <tr>\n",
       "      <th>14841</th>\n",
       "      <td>0</td>\n",
       "      <td>0.000000</td>\n",
       "      <td>-2.000000e-08</td>\n",
       "      <td>0</td>\n",
       "      <td>Lake Victoria</td>\n",
       "      <td>handpump</td>\n",
       "      <td>unknown</td>\n",
       "      <td>enough</td>\n",
       "      <td>soft</td>\n",
       "      <td>groundwater</td>\n",
       "      <td>hand pump</td>\n",
       "      <td>NaN</td>\n",
       "      <td>WUG</td>\n",
       "    </tr>\n",
       "    <tr>\n",
       "      <th>14842</th>\n",
       "      <td>808</td>\n",
       "      <td>29.740224</td>\n",
       "      <td>-4.882705e+00</td>\n",
       "      <td>230</td>\n",
       "      <td>Lake Tanganyika</td>\n",
       "      <td>gravity</td>\n",
       "      <td>pay monthly</td>\n",
       "      <td>enough</td>\n",
       "      <td>soft</td>\n",
       "      <td>surface</td>\n",
       "      <td>communal standpipe</td>\n",
       "      <td>True</td>\n",
       "      <td>WUG</td>\n",
       "    </tr>\n",
       "    <tr>\n",
       "      <th>14843</th>\n",
       "      <td>1641</td>\n",
       "      <td>29.768139</td>\n",
       "      <td>-4.480618e+00</td>\n",
       "      <td>1400</td>\n",
       "      <td>Lake Tanganyika</td>\n",
       "      <td>other</td>\n",
       "      <td>never pay</td>\n",
       "      <td>enough</td>\n",
       "      <td>soft</td>\n",
       "      <td>groundwater</td>\n",
       "      <td>other</td>\n",
       "      <td>True</td>\n",
       "      <td>Water authority</td>\n",
       "    </tr>\n",
       "    <tr>\n",
       "      <th>14844</th>\n",
       "      <td>0</td>\n",
       "      <td>34.096878</td>\n",
       "      <td>-3.079689e+00</td>\n",
       "      <td>0</td>\n",
       "      <td>Lake Victoria</td>\n",
       "      <td>handpump</td>\n",
       "      <td>other</td>\n",
       "      <td>enough</td>\n",
       "      <td>soft</td>\n",
       "      <td>groundwater</td>\n",
       "      <td>hand pump</td>\n",
       "      <td>True</td>\n",
       "      <td>WUG</td>\n",
       "    </tr>\n",
       "    <tr>\n",
       "      <th>14845</th>\n",
       "      <td>34</td>\n",
       "      <td>38.852669</td>\n",
       "      <td>-6.582841e+00</td>\n",
       "      <td>20</td>\n",
       "      <td>Wami / Ruvu</td>\n",
       "      <td>motorpump</td>\n",
       "      <td>never pay</td>\n",
       "      <td>enough</td>\n",
       "      <td>soft</td>\n",
       "      <td>surface</td>\n",
       "      <td>communal standpipe</td>\n",
       "      <td>True</td>\n",
       "      <td>VWC</td>\n",
       "    </tr>\n",
       "    <tr>\n",
       "      <th>14846</th>\n",
       "      <td>0</td>\n",
       "      <td>37.451633</td>\n",
       "      <td>-5.350428e+00</td>\n",
       "      <td>2960</td>\n",
       "      <td>Pangani</td>\n",
       "      <td>handpump</td>\n",
       "      <td>pay annually</td>\n",
       "      <td>insufficient</td>\n",
       "      <td>salty</td>\n",
       "      <td>groundwater</td>\n",
       "      <td>hand pump</td>\n",
       "      <td>True</td>\n",
       "      <td>VWC</td>\n",
       "    </tr>\n",
       "    <tr>\n",
       "      <th>14847</th>\n",
       "      <td>1476</td>\n",
       "      <td>34.739804</td>\n",
       "      <td>-4.585587e+00</td>\n",
       "      <td>200</td>\n",
       "      <td>Internal</td>\n",
       "      <td>gravity</td>\n",
       "      <td>never pay</td>\n",
       "      <td>insufficient</td>\n",
       "      <td>soft</td>\n",
       "      <td>surface</td>\n",
       "      <td>communal standpipe</td>\n",
       "      <td>True</td>\n",
       "      <td>VWC</td>\n",
       "    </tr>\n",
       "    <tr>\n",
       "      <th>14848</th>\n",
       "      <td>998</td>\n",
       "      <td>35.432732</td>\n",
       "      <td>-1.058416e+01</td>\n",
       "      <td>150</td>\n",
       "      <td>Lake Nyasa</td>\n",
       "      <td>gravity</td>\n",
       "      <td>never pay</td>\n",
       "      <td>insufficient</td>\n",
       "      <td>soft</td>\n",
       "      <td>surface</td>\n",
       "      <td>communal standpipe</td>\n",
       "      <td>True</td>\n",
       "      <td>VWC</td>\n",
       "    </tr>\n",
       "    <tr>\n",
       "      <th>14849</th>\n",
       "      <td>481</td>\n",
       "      <td>34.765054</td>\n",
       "      <td>-1.122601e+01</td>\n",
       "      <td>40</td>\n",
       "      <td>Lake Nyasa</td>\n",
       "      <td>gravity</td>\n",
       "      <td>never pay</td>\n",
       "      <td>dry</td>\n",
       "      <td>soft</td>\n",
       "      <td>groundwater</td>\n",
       "      <td>communal standpipe</td>\n",
       "      <td>True</td>\n",
       "      <td>VWC</td>\n",
       "    </tr>\n",
       "  </tbody>\n",
       "</table>\n",
       "<p>14850 rows × 13 columns</p>\n",
       "</div>"
      ],
      "text/plain": [
       "       gps_height  longitude      latitude  population                    basin extraction_type_class                payment      quantity       water_quality source_class waterpoint_type_group public_meeting scheme_management\n",
       "0            1996  35.290799 -4.059696e+00         321                 Internal                 other              never pay      seasonal                soft      surface                 other           True        Parastatal\n",
       "1            1569  36.656709 -3.309214e+00         300                  Pangani               gravity              never pay  insufficient                soft  groundwater    communal standpipe           True               VWC\n",
       "2            1567  34.767863 -5.004344e+00         500                 Internal                 other              never pay  insufficient                soft      surface                 other           True               VWC\n",
       "3             267  38.058046 -9.418672e+00         250  Ruvuma / Southern Coast                 other                unknown           dry                soft  groundwater                 other            NaN               VWC\n",
       "4            1260  35.006123 -1.095041e+01          60  Ruvuma / Southern Coast               gravity            pay monthly        enough                soft  groundwater    communal standpipe            NaN       Water Board\n",
       "5            1685  36.685279 -3.302420e+00         200                  Pangani               gravity              never pay        enough                soft  groundwater    communal standpipe           True               VWC\n",
       "6             550  36.398041 -7.541382e+00         600                   Rufiji              handpump              never pay        enough               salty  groundwater             hand pump           True               VWC\n",
       "7             234  39.607420 -1.089379e+01           1  Ruvuma / Southern Coast           submersible              never pay           dry                soft  groundwater    communal standpipe           True       Water Board\n",
       "8             584  39.262951 -1.082359e+01          40  Ruvuma / Southern Coast               gravity         pay per bucket  insufficient                soft  groundwater    communal standpipe           True               VWC\n",
       "9            1083  37.096108 -3.251754e+00           1                  Pangani               gravity            pay monthly        enough                soft  groundwater    communal standpipe           True       Water Board\n",
       "10           1259  37.233248 -3.241121e+00          75                  Pangani               gravity         pay per bucket        enough                soft  groundwater    communal standpipe           True       Water Board\n",
       "11            608  37.686392 -4.555975e+00         500                  Pangani                 other              never pay           dry                soft      surface                 other           True               NaN\n",
       "12              0  33.661074 -4.165720e+00           0                 Internal             motorpump                unknown           dry                soft  groundwater    communal standpipe           True             Other\n",
       "13              0  33.007680 -3.209529e+00           0            Lake Victoria             motorpump         pay per bucket        enough                soft  groundwater    communal standpipe           True               VWC\n",
       "14           1625  35.615624 -7.870290e+00           1                   Rufiji               gravity            pay monthly        enough                soft  groundwater    communal standpipe           True               VWC\n",
       "15            916  35.482886 -1.091260e+01           0  Ruvuma / Southern Coast               gravity           pay annually        enough                soft      surface    communal standpipe           True               VWC\n",
       "16            -39  39.850190 -7.727946e+00         900                   Rufiji              handpump              never pay        enough                soft  groundwater             hand pump           True               VWC\n",
       "17           1793  38.254024 -4.565802e+00           1                  Pangani               gravity            pay monthly        enough                soft  groundwater    communal standpipe           True               VWC\n",
       "18              0  31.586798 -3.387808e+00           0          Lake Tanganyika               gravity                unknown      seasonal                soft      surface    communal standpipe           True        Parastatal\n",
       "19            368  39.438526 -1.058337e+01         300  Ruvuma / Southern Coast           submersible              never pay           dry                soft  groundwater    communal standpipe           True       Water Board\n",
       "20            -27  39.322307 -6.850262e+00         120              Wami / Ruvu           submersible              never pay        enough                soft  groundwater    communal standpipe           True               SWC\n",
       "21           1674  34.943620 -9.352515e+00          30                   Rufiji               gravity              never pay  insufficient                soft  groundwater    communal standpipe           True               VWC\n",
       "22           1087  31.046088 -5.054196e+00        1750          Lake Tanganyika                 other                unknown        enough               milky  groundwater                 other           True               VWC\n",
       "23           1441  34.621048 -5.165926e+00           1                 Internal             motorpump                unknown           dry             unknown  groundwater    communal standpipe           True               VWC\n",
       "24              0  33.722359 -3.047122e+00           0            Lake Victoria              handpump              never pay        enough                soft  groundwater             hand pump           True               WUG\n",
       "25           1726  34.929592 -9.152872e+00          50                   Rufiji               gravity            pay monthly        enough                soft  groundwater    communal standpipe           True               VWC\n",
       "26            986  35.424443 -1.057969e+01           0  Ruvuma / Southern Coast               gravity              never pay           dry                soft      surface    communal standpipe           True               VWC\n",
       "27              0  35.894877 -6.147522e+00           0              Wami / Ruvu             motorpump         pay per bucket           dry               salty  groundwater    communal standpipe           True               VWC\n",
       "28              0   0.000000 -2.000000e-08           0            Lake Victoria              handpump  pay when scheme fails        enough     salty abandoned  groundwater             hand pump           True               WUG\n",
       "29           1309  36.291761 -5.242313e+00         860                 Internal               gravity              never pay      seasonal                soft      surface    communal standpipe           True               VWC\n",
       "...           ...        ...           ...         ...                      ...                   ...                    ...           ...                 ...          ...                   ...            ...               ...\n",
       "14820         265  38.504640 -1.016990e+01         749  Ruvuma / Southern Coast               gravity              never pay      seasonal                soft      surface    communal standpipe           True               VWC\n",
       "14821        1322  37.261731 -3.235687e+00          45                  Pangani               gravity         pay per bucket        enough                soft      surface    communal standpipe           True       Water Board\n",
       "14822         640  39.297410 -1.092504e+01         360  Ruvuma / Southern Coast               gravity         pay per bucket  insufficient                soft  groundwater    communal standpipe           True             Other\n",
       "14823           0  33.918953 -9.298466e+00           0               Lake Nyasa               gravity                unknown        enough                soft  groundwater    communal standpipe           True        Parastatal\n",
       "14824         574  37.070462 -6.575076e+00         250              Wami / Ruvu              handpump              never pay  insufficient                soft  groundwater             hand pump           True               VWC\n",
       "14825         331  38.761961 -1.091314e+01          89  Ruvuma / Southern Coast              handpump              never pay  insufficient                soft  groundwater             hand pump           True               VWC\n",
       "14826           0  32.243937 -3.311621e+00           0          Lake Tanganyika              handpump                unknown        enough                soft  groundwater             hand pump            NaN               WUG\n",
       "14827           0  32.985694 -2.734208e+00           0            Lake Victoria              handpump           pay annually        enough                soft  groundwater             hand pump           True               VWC\n",
       "14828          78  39.254272 -7.060921e+00          70              Wami / Ruvu                 other         pay per bucket        enough               salty  groundwater                 other          False  Private operator\n",
       "14829         836  35.227320 -1.103905e+01          80  Ruvuma / Southern Coast               gravity                unknown        enough                soft  groundwater    communal standpipe            NaN               VWC\n",
       "14830        1651  37.962243 -4.494348e+00         150                  Pangani               gravity              never pay  insufficient                soft  groundwater    communal standpipe           True   Water authority\n",
       "14831           0   0.000000 -2.000000e-08           0            Lake Victoria              handpump              never pay        enough               salty  groundwater             hand pump           True               VWC\n",
       "14832        1393  36.930169 -3.255077e+00         260                  Pangani           submersible                unknown        enough  fluoride abandoned  groundwater    communal standpipe           True               VWC\n",
       "14833        1729  34.302104 -9.455737e+00           0               Lake Nyasa               gravity           pay annually        enough                soft  groundwater    communal standpipe           True               VWC\n",
       "14834           0  35.840727 -4.633272e+00           0                 Internal               gravity            pay monthly  insufficient                soft  groundwater    communal standpipe           True               VWC\n",
       "14835           0  32.442886 -3.644662e+00           0          Lake Tanganyika              handpump                unknown        enough                soft  groundwater             hand pump           True               NaN\n",
       "14836          -7  39.140091 -7.477423e+00          40                   Rufiji              handpump              never pay        enough                soft  groundwater             hand pump           True               VWC\n",
       "14837        1241  30.114667 -4.162845e+00         780          Lake Tanganyika              handpump           pay annually        enough                soft  groundwater             hand pump           True   Water authority\n",
       "14838        2046  34.345525 -9.547077e+00           0               Lake Nyasa               gravity           pay annually        enough                soft  groundwater    communal standpipe           True               VWC\n",
       "14839         347  38.613415 -4.815222e+00         300                  Pangani               gravity              never pay  insufficient                soft  groundwater    communal standpipe           True             Other\n",
       "14840        1291  35.345384 -9.831170e+00           0               Lake Nyasa               gravity              never pay        enough                soft      surface    communal standpipe           True               VWC\n",
       "14841           0   0.000000 -2.000000e-08           0            Lake Victoria              handpump                unknown        enough                soft  groundwater             hand pump            NaN               WUG\n",
       "14842         808  29.740224 -4.882705e+00         230          Lake Tanganyika               gravity            pay monthly        enough                soft      surface    communal standpipe           True               WUG\n",
       "14843        1641  29.768139 -4.480618e+00        1400          Lake Tanganyika                 other              never pay        enough                soft  groundwater                 other           True   Water authority\n",
       "14844           0  34.096878 -3.079689e+00           0            Lake Victoria              handpump                  other        enough                soft  groundwater             hand pump           True               WUG\n",
       "14845          34  38.852669 -6.582841e+00          20              Wami / Ruvu             motorpump              never pay        enough                soft      surface    communal standpipe           True               VWC\n",
       "14846           0  37.451633 -5.350428e+00        2960                  Pangani              handpump           pay annually  insufficient               salty  groundwater             hand pump           True               VWC\n",
       "14847        1476  34.739804 -4.585587e+00         200                 Internal               gravity              never pay  insufficient                soft      surface    communal standpipe           True               VWC\n",
       "14848         998  35.432732 -1.058416e+01         150               Lake Nyasa               gravity              never pay  insufficient                soft      surface    communal standpipe           True               VWC\n",
       "14849         481  34.765054 -1.122601e+01          40               Lake Nyasa               gravity              never pay           dry                soft  groundwater    communal standpipe           True               VWC\n",
       "\n",
       "[14850 rows x 13 columns]"
      ]
     },
     "execution_count": 116,
     "metadata": {},
     "output_type": "execute_result"
    }
   ],
   "source": [
    "df_test_values"
   ]
  },
  {
   "cell_type": "code",
   "execution_count": 29,
   "metadata": {},
   "outputs": [],
   "source": [
    "# rearange columns\n",
    "# cols = df_test_values.columns.tolist()\n",
    "# cols = ['gps_height',\n",
    "#              'longitude',\n",
    "#              'latitude',\n",
    "#              'population',\n",
    "#              'basin',\n",
    "#              'extraction_type_class',\n",
    "#              'payment',\n",
    "#              'quantity',\n",
    "#              'water_quality',\n",
    "#              'source_class',\n",
    "#              'waterpoint_type_group',\n",
    "#              'public_meeting',\n",
    "#              'scheme_management']\n",
    "# df_test_values = df_test_values[cols]"
   ]
  },
  {
   "cell_type": "code",
   "execution_count": 117,
   "metadata": {},
   "outputs": [
    {
     "data": {
      "text/html": [
       "<div>\n",
       "<style scoped>\n",
       "    .dataframe tbody tr th:only-of-type {\n",
       "        vertical-align: middle;\n",
       "    }\n",
       "\n",
       "    .dataframe tbody tr th {\n",
       "        vertical-align: top;\n",
       "    }\n",
       "\n",
       "    .dataframe thead th {\n",
       "        text-align: right;\n",
       "    }\n",
       "</style>\n",
       "<table border=\"1\" class=\"dataframe\">\n",
       "  <thead>\n",
       "    <tr style=\"text-align: right;\">\n",
       "      <th></th>\n",
       "      <th>gps_height</th>\n",
       "      <th>longitude</th>\n",
       "      <th>latitude</th>\n",
       "      <th>population</th>\n",
       "      <th>basin_Internal</th>\n",
       "      <th>basin_Lake Nyasa</th>\n",
       "      <th>basin_Lake Rukwa</th>\n",
       "      <th>basin_Lake Tanganyika</th>\n",
       "      <th>basin_Lake Victoria</th>\n",
       "      <th>basin_Pangani</th>\n",
       "      <th>...</th>\n",
       "      <th>scheme_management_Other</th>\n",
       "      <th>scheme_management_Parastatal</th>\n",
       "      <th>scheme_management_Private operator</th>\n",
       "      <th>scheme_management_SWC</th>\n",
       "      <th>scheme_management_Trust</th>\n",
       "      <th>scheme_management_VWC</th>\n",
       "      <th>scheme_management_WUA</th>\n",
       "      <th>scheme_management_WUG</th>\n",
       "      <th>scheme_management_Water Board</th>\n",
       "      <th>scheme_management_Water authority</th>\n",
       "    </tr>\n",
       "  </thead>\n",
       "  <tbody>\n",
       "    <tr>\n",
       "      <th>4280</th>\n",
       "      <td>0</td>\n",
       "      <td>34.224404</td>\n",
       "      <td>-8.802241</td>\n",
       "      <td>0</td>\n",
       "      <td>0</td>\n",
       "      <td>0</td>\n",
       "      <td>0</td>\n",
       "      <td>0</td>\n",
       "      <td>0</td>\n",
       "      <td>0</td>\n",
       "      <td>...</td>\n",
       "      <td>0</td>\n",
       "      <td>0</td>\n",
       "      <td>0</td>\n",
       "      <td>0</td>\n",
       "      <td>0</td>\n",
       "      <td>1</td>\n",
       "      <td>0</td>\n",
       "      <td>0</td>\n",
       "      <td>0</td>\n",
       "      <td>0</td>\n",
       "    </tr>\n",
       "    <tr>\n",
       "      <th>173</th>\n",
       "      <td>0</td>\n",
       "      <td>33.378153</td>\n",
       "      <td>-2.792809</td>\n",
       "      <td>0</td>\n",
       "      <td>0</td>\n",
       "      <td>0</td>\n",
       "      <td>0</td>\n",
       "      <td>0</td>\n",
       "      <td>1</td>\n",
       "      <td>0</td>\n",
       "      <td>...</td>\n",
       "      <td>0</td>\n",
       "      <td>0</td>\n",
       "      <td>0</td>\n",
       "      <td>0</td>\n",
       "      <td>0</td>\n",
       "      <td>1</td>\n",
       "      <td>0</td>\n",
       "      <td>0</td>\n",
       "      <td>0</td>\n",
       "      <td>0</td>\n",
       "    </tr>\n",
       "    <tr>\n",
       "      <th>5569</th>\n",
       "      <td>1738</td>\n",
       "      <td>35.374811</td>\n",
       "      <td>-8.205277</td>\n",
       "      <td>0</td>\n",
       "      <td>0</td>\n",
       "      <td>0</td>\n",
       "      <td>0</td>\n",
       "      <td>0</td>\n",
       "      <td>0</td>\n",
       "      <td>0</td>\n",
       "      <td>...</td>\n",
       "      <td>0</td>\n",
       "      <td>0</td>\n",
       "      <td>0</td>\n",
       "      <td>0</td>\n",
       "      <td>0</td>\n",
       "      <td>1</td>\n",
       "      <td>0</td>\n",
       "      <td>0</td>\n",
       "      <td>0</td>\n",
       "      <td>0</td>\n",
       "    </tr>\n",
       "  </tbody>\n",
       "</table>\n",
       "<p>3 rows × 62 columns</p>\n",
       "</div>"
      ],
      "text/plain": [
       "      gps_height  longitude  latitude  population  basin_Internal  basin_Lake Nyasa  basin_Lake Rukwa  basin_Lake Tanganyika  basin_Lake Victoria  basin_Pangani                ...                  scheme_management_Other  scheme_management_Parastatal  scheme_management_Private operator  scheme_management_SWC  scheme_management_Trust  scheme_management_VWC  scheme_management_WUA  scheme_management_WUG  scheme_management_Water Board  scheme_management_Water authority\n",
       "4280           0  34.224404 -8.802241           0               0                 0                 0                      0                    0              0                ...                                        0                             0                                   0                      0                        0                      1                      0                      0                              0                                  0\n",
       "173            0  33.378153 -2.792809           0               0                 0                 0                      0                    1              0                ...                                        0                             0                                   0                      0                        0                      1                      0                      0                              0                                  0\n",
       "5569        1738  35.374811 -8.205277           0               0                 0                 0                      0                    0              0                ...                                        0                             0                                   0                      0                        0                      1                      0                      0                              0                                  0\n",
       "\n",
       "[3 rows x 62 columns]"
      ]
     },
     "execution_count": 117,
     "metadata": {},
     "output_type": "execute_result"
    }
   ],
   "source": [
    "df_test_values = pd.get_dummies(df_test_values,columns=list(df_test_values.columns[4:]))\n",
    "df_test_values.sample(3)"
   ]
  },
  {
   "cell_type": "code",
   "execution_count": 118,
   "metadata": {},
   "outputs": [
    {
     "data": {
      "text/html": [
       "<div>\n",
       "<style scoped>\n",
       "    .dataframe tbody tr th:only-of-type {\n",
       "        vertical-align: middle;\n",
       "    }\n",
       "\n",
       "    .dataframe tbody tr th {\n",
       "        vertical-align: top;\n",
       "    }\n",
       "\n",
       "    .dataframe thead th {\n",
       "        text-align: right;\n",
       "    }\n",
       "</style>\n",
       "<table border=\"1\" class=\"dataframe\">\n",
       "  <thead>\n",
       "    <tr style=\"text-align: right;\">\n",
       "      <th></th>\n",
       "      <th>gps_height</th>\n",
       "      <th>longitude</th>\n",
       "      <th>latitude</th>\n",
       "      <th>population</th>\n",
       "      <th>basin_Internal</th>\n",
       "      <th>basin_Lake Nyasa</th>\n",
       "      <th>basin_Lake Rukwa</th>\n",
       "      <th>basin_Lake Tanganyika</th>\n",
       "      <th>basin_Lake Victoria</th>\n",
       "      <th>basin_Pangani</th>\n",
       "      <th>...</th>\n",
       "      <th>scheme_management_Parastatal</th>\n",
       "      <th>scheme_management_Private operator</th>\n",
       "      <th>scheme_management_SWC</th>\n",
       "      <th>scheme_management_Trust</th>\n",
       "      <th>scheme_management_VWC</th>\n",
       "      <th>scheme_management_WUA</th>\n",
       "      <th>scheme_management_WUG</th>\n",
       "      <th>scheme_management_Water Board</th>\n",
       "      <th>scheme_management_Water authority</th>\n",
       "      <th>scheme_management_None</th>\n",
       "    </tr>\n",
       "  </thead>\n",
       "  <tbody>\n",
       "    <tr>\n",
       "      <th>5146</th>\n",
       "      <td>-17</td>\n",
       "      <td>39.456380</td>\n",
       "      <td>-8.847157</td>\n",
       "      <td>230</td>\n",
       "      <td>0</td>\n",
       "      <td>0</td>\n",
       "      <td>0</td>\n",
       "      <td>0</td>\n",
       "      <td>0</td>\n",
       "      <td>0</td>\n",
       "      <td>...</td>\n",
       "      <td>0</td>\n",
       "      <td>0</td>\n",
       "      <td>0</td>\n",
       "      <td>0</td>\n",
       "      <td>0</td>\n",
       "      <td>0</td>\n",
       "      <td>0</td>\n",
       "      <td>0</td>\n",
       "      <td>0</td>\n",
       "      <td>0</td>\n",
       "    </tr>\n",
       "    <tr>\n",
       "      <th>14047</th>\n",
       "      <td>0</td>\n",
       "      <td>32.771707</td>\n",
       "      <td>-4.868387</td>\n",
       "      <td>0</td>\n",
       "      <td>0</td>\n",
       "      <td>0</td>\n",
       "      <td>0</td>\n",
       "      <td>1</td>\n",
       "      <td>0</td>\n",
       "      <td>0</td>\n",
       "      <td>...</td>\n",
       "      <td>0</td>\n",
       "      <td>0</td>\n",
       "      <td>0</td>\n",
       "      <td>0</td>\n",
       "      <td>0</td>\n",
       "      <td>0</td>\n",
       "      <td>0</td>\n",
       "      <td>1</td>\n",
       "      <td>0</td>\n",
       "      <td>0</td>\n",
       "    </tr>\n",
       "    <tr>\n",
       "      <th>6760</th>\n",
       "      <td>1006</td>\n",
       "      <td>29.725329</td>\n",
       "      <td>-4.755255</td>\n",
       "      <td>211</td>\n",
       "      <td>0</td>\n",
       "      <td>0</td>\n",
       "      <td>0</td>\n",
       "      <td>1</td>\n",
       "      <td>0</td>\n",
       "      <td>0</td>\n",
       "      <td>...</td>\n",
       "      <td>0</td>\n",
       "      <td>0</td>\n",
       "      <td>0</td>\n",
       "      <td>0</td>\n",
       "      <td>1</td>\n",
       "      <td>0</td>\n",
       "      <td>0</td>\n",
       "      <td>0</td>\n",
       "      <td>0</td>\n",
       "      <td>0</td>\n",
       "    </tr>\n",
       "  </tbody>\n",
       "</table>\n",
       "<p>3 rows × 63 columns</p>\n",
       "</div>"
      ],
      "text/plain": [
       "       gps_height  longitude  latitude  population  basin_Internal  basin_Lake Nyasa  basin_Lake Rukwa  basin_Lake Tanganyika  basin_Lake Victoria  basin_Pangani           ...            scheme_management_Parastatal  scheme_management_Private operator  scheme_management_SWC  scheme_management_Trust  scheme_management_VWC  scheme_management_WUA  scheme_management_WUG  scheme_management_Water Board  scheme_management_Water authority  scheme_management_None\n",
       "5146          -17  39.456380 -8.847157         230               0                 0                 0                      0                    0              0           ...                                       0                                   0                      0                        0                      0                      0                      0                              0                                  0                       0\n",
       "14047           0  32.771707 -4.868387           0               0                 0                 0                      1                    0              0           ...                                       0                                   0                      0                        0                      0                      0                      0                              1                                  0                       0\n",
       "6760         1006  29.725329 -4.755255         211               0                 0                 0                      1                    0              0           ...                                       0                                   0                      0                        0                      1                      0                      0                              0                                  0                       0\n",
       "\n",
       "[3 rows x 63 columns]"
      ]
     },
     "execution_count": 118,
     "metadata": {},
     "output_type": "execute_result"
    }
   ],
   "source": [
    "a = [0] * len(df_test_values['gps_height'])\n",
    "df_test_values['scheme_management_None'] = a\n",
    "df_test_values.sample(3)"
   ]
  },
  {
   "cell_type": "code",
   "execution_count": 119,
   "metadata": {},
   "outputs": [],
   "source": [
    "columns = list(df_test_values.columns)\n",
    "df_test_values[columns[5:]] = df_test_values[columns[5:]].astype(int)\n",
    "df_test_values[columns[0]] = df_test_values[columns[0]].astype(int)"
   ]
  },
  {
   "cell_type": "markdown",
   "metadata": {},
   "source": [
    "## Apply to competition data"
   ]
  },
  {
   "cell_type": "code",
   "execution_count": null,
   "metadata": {},
   "outputs": [],
   "source": [
    "df_test_labels = decisiontree.predict(df_test_values)"
   ]
  },
  {
   "cell_type": "code",
   "execution_count": null,
   "metadata": {},
   "outputs": [],
   "source": [
    "df_test_labels.shape"
   ]
  },
  {
   "cell_type": "code",
   "execution_count": null,
   "metadata": {},
   "outputs": [],
   "source": [
    "df_sub['status_group'] = df_test_labels"
   ]
  },
  {
   "cell_type": "code",
   "execution_count": null,
   "metadata": {},
   "outputs": [],
   "source": [
    "df_sub['status_group'] = df_sub['status_group'].astype(str)\n",
    "\n",
    "for i in range(len(df_sub.status_group)):\n",
    "    if df_sub.status_group[i] == '3':\n",
    "        df_sub.at[i, 'status_group'] = 'functional'\n",
    "    elif df_sub.status_group[i] == '2':\n",
    "        df_sub.at[i, 'status_group'] = 'functional needs repair'\n",
    "    else:\n",
    "        df_sub.at[i, 'status_group'] = 'non functional'\n",
    "df_sub.sample(3)"
   ]
  },
  {
   "cell_type": "code",
   "execution_count": null,
   "metadata": {},
   "outputs": [],
   "source": [
    "df_sub.status_group.value_counts()"
   ]
  },
  {
   "cell_type": "code",
   "execution_count": null,
   "metadata": {},
   "outputs": [],
   "source": [
    "df_sub.to_csv('./Submissions/decisionTree.csv',index=False)"
   ]
  },
  {
   "cell_type": "markdown",
   "metadata": {},
   "source": [
    "## Ranking"
   ]
  },
  {
   "cell_type": "markdown",
   "metadata": {},
   "source": [
    "<table>\n",
    "  <tr>\n",
    "    <th>Best</th>\n",
    "    <th>Current Rank</th>\n",
    "    <th>Competitors</th>\n",
    "    <th>Time</th>\n",
    "  </tr>\n",
    "  <tr>\n",
    "    <td>0.6449</td>\n",
    "    <td>1309</td>\n",
    "    <td>5059</td>\n",
    "    <td>May 7, 2018, 11:50 p.m.</td>\n",
    "  </tr>\n",
    "</table>"
   ]
  },
  {
   "cell_type": "markdown",
   "metadata": {},
   "source": [
    "## Adding depths to tree"
   ]
  },
  {
   "cell_type": "code",
   "execution_count": 35,
   "metadata": {},
   "outputs": [
    {
     "name": "stdout",
     "output_type": "stream",
     "text": [
      "[(3, 0.6933672940058565), (4, 0.7014481277774461), (5, 0.7074076640671273), (6, 0.7138723251449507), (7, 0.7196972711208949), (8, 0.7248148250084826), (9, 0.7298822743078776), (10, 0.7353201608784905), (11, 0.7413808625996199), (12, 0.7455050707863776), (13, 0.7500506362634685), (14, 0.7530640564635427), (15, 0.7560100336891841), (16, 0.7591920404217628), (17, 0.76151517870262), (18, 0.7620879944308843), (19, 0.7628117864963532)]\n"
     ]
    }
   ],
   "source": [
    "from sklearn.cross_validation import cross_val_score\n",
    "\n",
    "depth = []\n",
    "for i in range(3,20):\n",
    "    clf = DecisionTreeClassifier(max_depth=i)\n",
    "    # Perform 7-fold cross validation \n",
    "    scores = cross_val_score(estimator=clf, X=X, y=y, cv=7, n_jobs=4)\n",
    "    depth.append((i,scores.mean()))\n",
    "print(depth)"
   ]
  },
  {
   "cell_type": "markdown",
   "metadata": {},
   "source": [
    "## Gridsearchcv?"
   ]
  },
  {
   "cell_type": "code",
   "execution_count": 42,
   "metadata": {},
   "outputs": [
    {
     "name": "stdout",
     "output_type": "stream",
     "text": [
      "0.7481481481481481 {'max_depth': 19}\n"
     ]
    }
   ],
   "source": [
    "from sklearn.model_selection import GridSearchCV\n",
    "\n",
    "parameters = {'max_depth':range(3,20)}\n",
    "clf = GridSearchCV(DecisionTreeClassifier(), parameters, n_jobs=4)\n",
    "clf.fit(X_train, y_train)\n",
    "tree_model = clf.best_estimator_\n",
    "print (clf.best_score_, clf.best_params_) "
   ]
  },
  {
   "cell_type": "code",
   "execution_count": 44,
   "metadata": {},
   "outputs": [
    {
     "data": {
      "text/plain": [
       "0.7593434343434343"
      ]
     },
     "execution_count": 44,
     "metadata": {},
     "output_type": "execute_result"
    }
   ],
   "source": [
    "clf.score(X_test,y_test)"
   ]
  },
  {
   "cell_type": "code",
   "execution_count": 45,
   "metadata": {},
   "outputs": [],
   "source": [
    "df_test_labels3 = clf.predict(df_test_values)"
   ]
  },
  {
   "cell_type": "code",
   "execution_count": 46,
   "metadata": {},
   "outputs": [],
   "source": [
    "df_sub['status_group'] = df_test_labels3"
   ]
  },
  {
   "cell_type": "code",
   "execution_count": 47,
   "metadata": {},
   "outputs": [
    {
     "data": {
      "text/html": [
       "<div>\n",
       "<style scoped>\n",
       "    .dataframe tbody tr th:only-of-type {\n",
       "        vertical-align: middle;\n",
       "    }\n",
       "\n",
       "    .dataframe tbody tr th {\n",
       "        vertical-align: top;\n",
       "    }\n",
       "\n",
       "    .dataframe thead th {\n",
       "        text-align: right;\n",
       "    }\n",
       "</style>\n",
       "<table border=\"1\" class=\"dataframe\">\n",
       "  <thead>\n",
       "    <tr style=\"text-align: right;\">\n",
       "      <th></th>\n",
       "      <th>id</th>\n",
       "      <th>status_group</th>\n",
       "    </tr>\n",
       "  </thead>\n",
       "  <tbody>\n",
       "    <tr>\n",
       "      <th>4544</th>\n",
       "      <td>65748</td>\n",
       "      <td>functional</td>\n",
       "    </tr>\n",
       "    <tr>\n",
       "      <th>1462</th>\n",
       "      <td>56896</td>\n",
       "      <td>non functional</td>\n",
       "    </tr>\n",
       "    <tr>\n",
       "      <th>9760</th>\n",
       "      <td>54331</td>\n",
       "      <td>functional</td>\n",
       "    </tr>\n",
       "  </tbody>\n",
       "</table>\n",
       "</div>"
      ],
      "text/plain": [
       "         id    status_group\n",
       "4544  65748      functional\n",
       "1462  56896  non functional\n",
       "9760  54331      functional"
      ]
     },
     "execution_count": 47,
     "metadata": {},
     "output_type": "execute_result"
    }
   ],
   "source": [
    "df_sub['status_group'] = df_sub['status_group'].astype(str)\n",
    "\n",
    "for i in range(len(df_sub.status_group)):\n",
    "    if df_sub.status_group[i] == '3':\n",
    "        df_sub.at[i, 'status_group'] = 'functional'\n",
    "    elif df_sub.status_group[i] == '2':\n",
    "        df_sub.at[i, 'status_group'] = 'functional needs repair'\n",
    "    else:\n",
    "        df_sub.at[i, 'status_group'] = 'non functional'\n",
    "df_sub.sample(3)"
   ]
  },
  {
   "cell_type": "code",
   "execution_count": 48,
   "metadata": {},
   "outputs": [
    {
     "data": {
      "text/plain": [
       "functional                 8548\n",
       "non functional             4428\n",
       "functional needs repair    1874\n",
       "Name: status_group, dtype: int64"
      ]
     },
     "execution_count": 48,
     "metadata": {},
     "output_type": "execute_result"
    }
   ],
   "source": [
    "df_sub.status_group.value_counts()"
   ]
  },
  {
   "cell_type": "code",
   "execution_count": 49,
   "metadata": {},
   "outputs": [],
   "source": [
    "df_sub.to_csv('./Submissions/decisionTree5_8_2pm.csv',index=False)"
   ]
  },
  {
   "cell_type": "markdown",
   "metadata": {},
   "source": [
    "## Ranking"
   ]
  },
  {
   "cell_type": "markdown",
   "metadata": {},
   "source": [
    "<table>\n",
    "  <tr>\n",
    "    <th>Best</th>\n",
    "    <th>Current Rank</th>\n",
    "    <th>Competitors</th>\n",
    "    <th>Time</th>\n",
    "  </tr>\n",
    "  <tr>\n",
    "    <td>0.6527</td>\n",
    "    <td>Not Best</td>\n",
    "    <td>1277</td>\n",
    "    <td>May 8, 2018, 9:04 p.m.</td>\n",
    "  </tr>\n",
    "</table>"
   ]
  },
  {
   "cell_type": "markdown",
   "metadata": {},
   "source": [
    "## Random forest"
   ]
  },
  {
   "cell_type": "code",
   "execution_count": 95,
   "metadata": {},
   "outputs": [],
   "source": [
    "from sklearn.ensemble import RandomForestClassifier"
   ]
  },
  {
   "cell_type": "code",
   "execution_count": 96,
   "metadata": {},
   "outputs": [
    {
     "data": {
      "text/plain": [
       "RandomForestClassifier(bootstrap=True, class_weight=None, criterion='gini',\n",
       "            max_depth=4, max_features='auto', max_leaf_nodes=None,\n",
       "            min_impurity_decrease=0.0, min_impurity_split=None,\n",
       "            min_samples_leaf=1, min_samples_split=2,\n",
       "            min_weight_fraction_leaf=0.0, n_estimators=10, n_jobs=1,\n",
       "            oob_score=False, random_state=0, verbose=0, warm_start=False)"
      ]
     },
     "execution_count": 96,
     "metadata": {},
     "output_type": "execute_result"
    }
   ],
   "source": [
    "clf = RandomForestClassifier(max_depth = 4,random_state=0)\n",
    "clf.fit(X_train, y_train)"
   ]
  },
  {
   "cell_type": "code",
   "execution_count": 113,
   "metadata": {},
   "outputs": [
    {
     "name": "stdout",
     "output_type": "stream",
     "text": [
      "74 [('status_group', 0.095068002872861), ('amount_tsh', 0.0007553448403511924), ('population', 0.0064418546827212765), ('latitude', 0.0323111380422475), ('longitude', 0.04219760610264458), ('region_code_1', 0.0017100980871774484), ('region_code_2', 5.7430196425321216e-05), ('region_code_4', 0.00013791932982497817), ('region_code_5', 0.00017989386400874523), ('region_code_10', 0.028369332993668), ('region_code_15', 0.00789521734778333), ('region_code_16', 0.012186131796517778), ('region_code_18', 0.0001193427834499857), ('region_code_99', 0.003002785824599587), ('lga_Bahi', 0.004287103858994933), ('lga_Dodoma Urban', 0.002344103668995936), ('lga_Karatu', 0.000734018289777858), ('lga_Kilolo', 0.0007509250711387261), ('lga_Kisarawe', 0.0002468792607916525), ('lga_Kongwa', 0.000232934543586482), ('lga_Meatu', 0.00023799909997696992), ('lga_Morogoro Urban', 0.00030603280779806225), ('lga_Musoma Rural', 0.0010853905987366322), ('lga_Pangani', 0.0007479406581947224), ('lga_Rufiji', 0.004261236177544397), ('lga_Sikonge', 0.00035505330445919253), ('lga_Uyui', 0.06607226633319688), ('payment_pay annually', 0.03602940168997084), ('payment_pay monthly', 0.007226958423505486), ('payment_pay when scheme fails', 0.0012599129439455116), ('management_group_unknown', 0.006525056267531332), ('funder_Dhv', 4.7842454737826753e-05), ('funder_Dwsp', 0.016554553677002436), ('funder_Private Individual', 0.0005919512823386644), ('funder_nan', 0.001722418984324978), ('region_Dodoma', 0.011511476557116219), ('district_code_1', 0.00051185718646682), ('district_code_2', 8.120652423927542e-06), ('district_code_4', 5.63372834981769e-05), ('district_code_6', 0.0010023130306444509), ('district_code_30', 0.0008857923664108433), ('district_code_43', 0.003488025678657284), ('district_code_80', 0.002819700733088124), ('public_meeting_False', 0.0006554497770329377), ('public_meeting_True', 0.016785686717884635), ('extraction_type_class_gravity', 0.06281171817806944), ('extraction_type_class_motorpump', 0.0002958676782744485), ('extraction_type_class_wind-powered', 0.23844267162945085), ('quantity_dry', 0.05103220542075926), ('quantity_enough', 0.0003602351177569286), ('quantity_seasonal', 0.008316584430940285), ('quantity_unknown', 1.9233715821794292e-05), ('waterpoint_type_cattle trough', 0.019394459432692326), ('waterpoint_type_communal standpipe', 0.033604974595098105), ('waterpoint_type_dam', 0.011746834822077983), ('waterpoint_type_improved spring', 0.0432394301886785), ('waterpoint_type_other', 0.0010776362619741397), ('scheme_management_None', 0.0010553318367668109), ('scheme_management_Other', 0.00010138542223685838), ('scheme_management_Trust', 0.005051666315802765), ('scheme_management_WUA', 0.006425128915532948), ('scheme_management_Water Board', 0.0006617903975422134), ('water_quality_coloured', 0.0025232409275809764), ('water_quality_milky', 0.00724539898918429), ('water_quality_salty abandoned', 0.02960043369580903), ('water_quality_soft', 0.03819404446765937), ('installer_DWE', 0.00026274381610138283), ('installer_Hesawa', 0.0002615387707186508), ('basin_Internal', 0.00360197825770963), ('basin_Lake Nyasa', 0.00011593159134361115), ('basin_Lake Rukwa', 0.002357797244334705), ('basin_Lake Victoria', 0.004961107565041023), ('basin_Pangani', 0.0005252614927211694), ('basin_Rufiji', 0.006936530678266839)]\n"
     ]
    }
   ],
   "source": [
    "importance = clf.feature_importances_\n",
    "features = list(df_features.columns)\n",
    "\n",
    "a = list(zip(features,importance))\n",
    "\n",
    "feature_of_importances = []\n",
    "for i in range(len(a)):\n",
    "    if a[i][1] != 0:\n",
    "        feature_of_importances.append(a[i])\n",
    "print(len(feature_of_importances),feature_of_importances)"
   ]
  },
  {
   "cell_type": "code",
   "execution_count": 158,
   "metadata": {},
   "outputs": [],
   "source": [
    "df_test_labels3 = clf.predict(df_test_values_new)"
   ]
  },
  {
   "cell_type": "code",
   "execution_count": 159,
   "metadata": {},
   "outputs": [],
   "source": [
    "df_sub['status_group'] = df_test_labels3"
   ]
  },
  {
   "cell_type": "code",
   "execution_count": null,
   "metadata": {},
   "outputs": [],
   "source": [
    "inv_map_status_group = {v: k for k, v in map_status_group.items()}"
   ]
  },
  {
   "cell_type": "code",
   "execution_count": 163,
   "metadata": {},
   "outputs": [],
   "source": [
    "# turn y into 3 class 0,1,2\n",
    "df_sub['status_group'].replace(inv_map_status_group, inplace=True)"
   ]
  },
  {
   "cell_type": "code",
   "execution_count": 164,
   "metadata": {},
   "outputs": [
    {
     "data": {
      "text/plain": [
       "functional        11875\n",
       "non functional     2975\n",
       "Name: status_group, dtype: int64"
      ]
     },
     "execution_count": 164,
     "metadata": {},
     "output_type": "execute_result"
    }
   ],
   "source": [
    "df_sub.status_group.value_counts()"
   ]
  },
  {
   "cell_type": "code",
   "execution_count": 165,
   "metadata": {},
   "outputs": [],
   "source": [
    "#df_sub.to_csv('./Submissions/decisionTree59_1pm.csv',index=False)"
   ]
  },
  {
   "cell_type": "markdown",
   "metadata": {},
   "source": [
    "## Ranking"
   ]
  },
  {
   "cell_type": "markdown",
   "metadata": {},
   "source": [
    "<table>\n",
    "  <tr>\n",
    "    <th>Best</th>\n",
    "    <th>Current Rank</th>\n",
    "    <th>Competitors</th>\n",
    "    <th>Time</th>\n",
    "  </tr>\n",
    "  <tr>\n",
    "    <td>0.6988</td>\n",
    "    <td>1276</td>\n",
    "    <td>5059</td>\n",
    "    <td>May 8, 2018, 12:13 a.m.</td>\n",
    "  </tr>\n",
    "</table>"
   ]
  },
  {
   "cell_type": "markdown",
   "metadata": {},
   "source": [
    "## Gridsearchcv?"
   ]
  },
  {
   "cell_type": "code",
   "execution_count": 166,
   "metadata": {},
   "outputs": [
    {
     "name": "stdout",
     "output_type": "stream",
     "text": [
      "0.7877314814814815 {'max_depth': 23}\n"
     ]
    }
   ],
   "source": [
    "from sklearn.model_selection import GridSearchCV\n",
    "\n",
    "parameters = {'max_depth':range(3,40)}\n",
    "clf = GridSearchCV(RandomForestClassifier(), parameters, n_jobs=-1)\n",
    "clf.fit(X_train, y_train)\n",
    "tree_model = clf.best_estimator_\n",
    "print (clf.best_score_, clf.best_params_) "
   ]
  },
  {
   "cell_type": "code",
   "execution_count": 167,
   "metadata": {},
   "outputs": [
    {
     "data": {
      "text/plain": [
       "0.7957070707070707"
      ]
     },
     "execution_count": 167,
     "metadata": {},
     "output_type": "execute_result"
    }
   ],
   "source": [
    "clf.score(X_test,y_test)"
   ]
  },
  {
   "cell_type": "code",
   "execution_count": 171,
   "metadata": {},
   "outputs": [],
   "source": [
    "df_test_labels4 = clf.predict(df_test_values_new)"
   ]
  },
  {
   "cell_type": "code",
   "execution_count": 173,
   "metadata": {},
   "outputs": [],
   "source": [
    "prob = clf.predict_proba(df_test_values_new)"
   ]
  },
  {
   "cell_type": "code",
   "execution_count": 179,
   "metadata": {},
   "outputs": [],
   "source": [
    "df_sub['status_group'] = df_test_labels4"
   ]
  },
  {
   "cell_type": "code",
   "execution_count": 180,
   "metadata": {},
   "outputs": [
    {
     "data": {
      "text/plain": [
       "0    9302\n",
       "2    5029\n",
       "1     519\n",
       "Name: status_group, dtype: int64"
      ]
     },
     "execution_count": 180,
     "metadata": {},
     "output_type": "execute_result"
    }
   ],
   "source": [
    "df_sub['status_group'].value_counts()"
   ]
  },
  {
   "cell_type": "code",
   "execution_count": 181,
   "metadata": {
    "scrolled": true
   },
   "outputs": [],
   "source": [
    "for i in range(len(prob)):\n",
    "    if prob[i].max() <= 0.54:\n",
    "        df_sub.at[i,'status_group'] = 2"
   ]
  },
  {
   "cell_type": "code",
   "execution_count": 182,
   "metadata": {},
   "outputs": [
    {
     "data": {
      "text/plain": [
       "0    8435\n",
       "2    6055\n",
       "1     360\n",
       "Name: status_group, dtype: int64"
      ]
     },
     "execution_count": 182,
     "metadata": {},
     "output_type": "execute_result"
    }
   ],
   "source": [
    "df_sub['status_group'].value_counts()"
   ]
  },
  {
   "cell_type": "code",
   "execution_count": 183,
   "metadata": {},
   "outputs": [],
   "source": [
    "# turn y into 3 class 0,1,2\n",
    "df_sub['status_group'].replace(inv_map_status_group, inplace=True)"
   ]
  },
  {
   "cell_type": "code",
   "execution_count": 184,
   "metadata": {},
   "outputs": [
    {
     "data": {
      "text/plain": [
       "functional                 8435\n",
       "non functional             6055\n",
       "functional needs repair     360\n",
       "Name: status_group, dtype: int64"
      ]
     },
     "execution_count": 184,
     "metadata": {},
     "output_type": "execute_result"
    }
   ],
   "source": [
    "df_sub.status_group.value_counts()"
   ]
  },
  {
   "cell_type": "code",
   "execution_count": 185,
   "metadata": {},
   "outputs": [],
   "source": [
    "df_sub.to_csv('./Submissions/decisionTree5_9_110pm.csv',index=False)"
   ]
  },
  {
   "cell_type": "markdown",
   "metadata": {
    "heading_collapsed": true
   },
   "source": [
    "# Appendix"
   ]
  },
  {
   "cell_type": "markdown",
   "metadata": {
    "heading_collapsed": true,
    "hidden": true
   },
   "source": [
    "## A"
   ]
  },
  {
   "cell_type": "code",
   "execution_count": null,
   "metadata": {
    "hidden": true
   },
   "outputs": [],
   "source": [
    "columns = list(feature_sel.columns)\n",
    "feature_sel[columns[5:]] = feature_sel[columns[5:]].astype(int)\n",
    "feature_sel[columns[0]] = feature_sel[columns[0]].astype(int)"
   ]
  },
  {
   "cell_type": "code",
   "execution_count": null,
   "metadata": {
    "hidden": true
   },
   "outputs": [],
   "source": [
    "feature_sel = feature_sel.sample(frac=1).reset_index(drop=True)\n",
    "y = feature_sel.status_group\n",
    "X = feature_sel.drop('status_group', axis=1)\n",
    "\n",
    "from sklearn.cross_validation import train_test_split\n",
    "\n",
    "X_train, X_test, y_train, y_test = train_test_split(X, y, test_size=0.84)"
   ]
  },
  {
   "cell_type": "code",
   "execution_count": null,
   "metadata": {
    "hidden": true
   },
   "outputs": [],
   "source": [
    "X_train.head(1)"
   ]
  },
  {
   "cell_type": "markdown",
   "metadata": {
    "heading_collapsed": true,
    "hidden": true
   },
   "source": [
    "## Adjust competition data"
   ]
  },
  {
   "cell_type": "code",
   "execution_count": null,
   "metadata": {
    "hidden": true
   },
   "outputs": [],
   "source": [
    "df_test_values = df_test_values[['gps_height', 'longitude', 'latitude', 'basin',\n",
    "                  'extraction_type_class','payment','quantity','water_quality', 'source_class',\n",
    "                  'waterpoint_type_group','population','public_meeting','scheme_management']]"
   ]
  },
  {
   "cell_type": "code",
   "execution_count": null,
   "metadata": {
    "hidden": true
   },
   "outputs": [],
   "source": [
    "# rearange columns\n",
    "cols = df_test_values.columns.tolist()\n",
    "cols = ['gps_height',\n",
    "             'longitude',\n",
    "             'latitude',\n",
    "             'population',\n",
    "             'basin',\n",
    "             'extraction_type_class',\n",
    "             'payment',\n",
    "             'quantity',\n",
    "             'water_quality',\n",
    "             'source_class',\n",
    "             'waterpoint_type_group',\n",
    "             'public_meeting',\n",
    "             'scheme_management']\n",
    "df_test_values = df_test_values[cols]"
   ]
  },
  {
   "cell_type": "code",
   "execution_count": null,
   "metadata": {
    "hidden": true
   },
   "outputs": [],
   "source": [
    "a = [0] * len(df_test_values['gps_height'])"
   ]
  },
  {
   "cell_type": "code",
   "execution_count": null,
   "metadata": {
    "hidden": true
   },
   "outputs": [],
   "source": [
    "df_test_values = pd.get_dummies(df_test_values,columns=list(df_test_values.columns[4:]))\n",
    "df_test_values.sample(5)"
   ]
  },
  {
   "cell_type": "code",
   "execution_count": null,
   "metadata": {
    "hidden": true
   },
   "outputs": [],
   "source": [
    "columns = list(feature_sel.columns)\n",
    "feature_sel[columns[5:]] = feature_sel[columns[5:]].astype(int)\n",
    "feature_sel[columns[0]] = feature_sel[columns[0]].astype(int)"
   ]
  },
  {
   "cell_type": "code",
   "execution_count": null,
   "metadata": {
    "hidden": true
   },
   "outputs": [],
   "source": [
    "df_test_values['scheme_management_None'] = a\n",
    "df_test_values.head(10)"
   ]
  },
  {
   "cell_type": "code",
   "execution_count": null,
   "metadata": {
    "hidden": true
   },
   "outputs": [],
   "source": [
    "list(set(X_train.columns)-set(df_test_values.columns))"
   ]
  },
  {
   "cell_type": "code",
   "execution_count": null,
   "metadata": {
    "hidden": true
   },
   "outputs": [],
   "source": []
  },
  {
   "cell_type": "markdown",
   "metadata": {
    "heading_collapsed": true,
    "hidden": true
   },
   "source": [
    "##  B"
   ]
  },
  {
   "cell_type": "code",
   "execution_count": null,
   "metadata": {
    "hidden": true
   },
   "outputs": [],
   "source": [
    "from __future__ import print_function\n",
    "\n",
    "import numpy as np\n",
    "import pandas as pd\n",
    "\n",
    "from IPython.display import Image\n",
    "\n",
    "from sklearn import datasets\n",
    "from sklearn.decomposition import PCA\n",
    "from sklearn.metrics import accuracy_score, confusion_matrix\n",
    "from sklearn.cross_validation import train_test_split\n",
    "from sklearn import svm\n",
    "\n",
    "from matplotlib import pyplot as plt\n",
    "%matplotlib inline"
   ]
  },
  {
   "cell_type": "code",
   "execution_count": null,
   "metadata": {
    "hidden": true
   },
   "outputs": [],
   "source": [
    "pd.Series(y_train).value_counts()"
   ]
  },
  {
   "cell_type": "markdown",
   "metadata": {
    "heading_collapsed": true,
    "hidden": true
   },
   "source": [
    "## Principle Component Analysis"
   ]
  },
  {
   "cell_type": "code",
   "execution_count": null,
   "metadata": {
    "hidden": true
   },
   "outputs": [],
   "source": [
    "pca = PCA(n_components=2)\n",
    "pca.fit(X_train)"
   ]
  },
  {
   "cell_type": "code",
   "execution_count": null,
   "metadata": {
    "hidden": true
   },
   "outputs": [],
   "source": [
    "pcafeatures_train = pca.transform(X_train)"
   ]
  },
  {
   "cell_type": "code",
   "execution_count": null,
   "metadata": {
    "hidden": true
   },
   "outputs": [],
   "source": [
    "from itertools import cycle"
   ]
  },
  {
   "cell_type": "code",
   "execution_count": null,
   "metadata": {
    "hidden": true
   },
   "outputs": [],
   "source": [
    "# def plot_PCA_2D(data, target, target_names):\n",
    "#     colors = cycle(['r','g','b'])\n",
    "#     target_ids = range(len(target_names))\n",
    "#     plt.figure()\n",
    "#     for i, c, label in zip(target_ids, colors, target_names):\n",
    "#         plt.scatter(data[target == i, 0], data[target == i, 1],\n",
    "#                    c=c, label=label)\n",
    "#     plt.legend()"
   ]
  },
  {
   "cell_type": "code",
   "execution_count": null,
   "metadata": {
    "hidden": true
   },
   "outputs": [],
   "source": [
    "# plot_PCA_2D(pcafeatures_train, target=y_train, target_names=digits.target_names)"
   ]
  },
  {
   "cell_type": "markdown",
   "metadata": {
    "heading_collapsed": true,
    "hidden": true
   },
   "source": [
    "## Fitting Linear and RBF SVM Models"
   ]
  },
  {
   "cell_type": "code",
   "execution_count": null,
   "metadata": {
    "hidden": true
   },
   "outputs": [],
   "source": [
    "# fit linear model\n",
    "model_svm = svm.SVC(kernel='rbf',probability=False,cache_size=2000)\n",
    "model_svm.fit(X_train, y_train)"
   ]
  },
  {
   "cell_type": "code",
   "execution_count": null,
   "metadata": {
    "hidden": true
   },
   "outputs": [],
   "source": [
    "# predict out of sample\n",
    "y_pred = model_svm.predict(X_test)"
   ]
  },
  {
   "cell_type": "code",
   "execution_count": null,
   "metadata": {
    "hidden": true
   },
   "outputs": [],
   "source": [
    "# check accuracy\n",
    "accuracy_score(y_test,y_pred)"
   ]
  },
  {
   "cell_type": "code",
   "execution_count": null,
   "metadata": {
    "hidden": true
   },
   "outputs": [],
   "source": [
    "# confusion matrix\n",
    "confusion_matrix(y_test,y_pred)"
   ]
  },
  {
   "cell_type": "code",
   "execution_count": null,
   "metadata": {
    "hidden": true
   },
   "outputs": [],
   "source": [
    "# fit rbf model\n",
    "# model_svm2 = svm.SVC(kernel='rbf', gamma = 0.001)\n",
    "# model_svm2.fit(X_train, y_train)"
   ]
  },
  {
   "cell_type": "code",
   "execution_count": null,
   "metadata": {
    "hidden": true
   },
   "outputs": [],
   "source": [
    "# predict out of sample\n",
    "y_pred2 = model_svm2.predict(X_test)"
   ]
  },
  {
   "cell_type": "code",
   "execution_count": null,
   "metadata": {
    "hidden": true
   },
   "outputs": [],
   "source": [
    "# check accuracy\n",
    "accuracy_score(y_test,y_pred2)"
   ]
  },
  {
   "cell_type": "code",
   "execution_count": null,
   "metadata": {
    "hidden": true
   },
   "outputs": [],
   "source": [
    "# confusion matrix\n",
    "confusion_matrix(y_test,y_pred2)"
   ]
  },
  {
   "cell_type": "markdown",
   "metadata": {
    "heading_collapsed": true,
    "hidden": true
   },
   "source": [
    "## C"
   ]
  },
  {
   "cell_type": "markdown",
   "metadata": {
    "hidden": true
   },
   "source": [
    "Extra code from class to utilize"
   ]
  },
  {
   "cell_type": "code",
   "execution_count": null,
   "metadata": {
    "hidden": true
   },
   "outputs": [],
   "source": [
    "df.age=df.age.fillna(df.age.mean())"
   ]
  },
  {
   "cell_type": "code",
   "execution_count": null,
   "metadata": {
    "hidden": true
   },
   "outputs": [],
   "source": [
    "y,X=dmatrices('survived~ pclass +age+sibsp+parch+fare',data=df,return_type='dataframe')"
   ]
  },
  {
   "cell_type": "code",
   "execution_count": null,
   "metadata": {
    "hidden": true
   },
   "outputs": [],
   "source": [
    "# Generate a confusion matrix plot: \n",
    "\n",
    "def plot_confusion_matrix(cm,title='Confusion matrix', cmap=plt.cm.Reds):\n",
    "    plt.imshow(cm, interpolation='nearest',cmap=cmap)\n",
    "    plt.title(title)\n",
    "    plt.colorbar()\n",
    "    plt.tight_layout()\n",
    "    plt.ylabel('True label')\n",
    "    plt.xlabel('Predicted label')\n",
    "\n",
    "#Could be a typical function for classifying:\n",
    "\n",
    "def train_score(classifier,x,y):\n",
    "    xtrain, xtest, ytrain, ytest = cross_validation.train_test_split(x, y, test_size=0.2, random_state=1234)\n",
    "    ytrain=np.ravel(ytrain)\n",
    "    clf = classifier.fit(xtrain, ytrain)\n",
    "    # accuracy for test & train:\n",
    "    train_acc=clf.score(xtrain, ytrain)\n",
    "    test_acc=clf.score(xtest,ytest)\n",
    "    print(\"Training Data Accuracy: %0.2f\" %(train_acc))\n",
    "    print(\"Test Data Accuracy:     %0.2f\" %(test_acc))\n",
    "    \n",
    "    y_true = ytest\n",
    "    y_pred = clf.predict(xtest)\n",
    "\n",
    "\n",
    "    conf = confusion_matrix(y_true, y_pred)\n",
    "    print(conf)\n",
    "\n",
    "    print ('\\n')\n",
    "    print (\"Precision:              %0.2f\" %(conf[0, 0] / (conf[0, 0] + conf[1, 0])))\n",
    "    print (\"Recall:                 %0.2f\"% (conf[0, 0] / (conf[0, 0] + conf[0, 1])))\n",
    "    \n",
    "    cm=confusion_matrix(y_true, y_pred, labels=None)\n",
    "    \n",
    "    plt.figure()\n",
    "    plot_confusion_matrix(cm)"
   ]
  },
  {
   "cell_type": "code",
   "execution_count": null,
   "metadata": {
    "hidden": true
   },
   "outputs": [],
   "source": [
    "log_clf=LogisticRegression()\n",
    "train_score(log_clf,X,y)"
   ]
  },
  {
   "cell_type": "code",
   "execution_count": null,
   "metadata": {
    "hidden": true
   },
   "outputs": [],
   "source": [
    "# What about ROC ? \n",
    "\n",
    "from sklearn.metrics import roc_curve, auc\n",
    "\n",
    "xtrain, xtest, ytrain, ytest = cross_validation.train_test_split(X, y, test_size=0.2, random_state=1234)\n",
    "log = LogisticRegression()\n",
    "log.fit(xtrain,np.ravel(ytrain))\n",
    "y_score=log.predict_proba(xtest)[:,1]\n",
    "\n",
    "fpr, tpr,_ = roc_curve(ytest, y_score)\n",
    "roc_auc = auc(fpr, tpr)\n",
    "\n",
    "plt.figure()\n",
    "# Plotting our Baseline..\n",
    "plt.plot([0,1],[0,1])\n",
    "plt.plot(fpr,tpr)\n",
    "plt.xlabel('FPR')\n",
    "plt.ylabel('TPR')"
   ]
  },
  {
   "cell_type": "code",
   "execution_count": null,
   "metadata": {
    "hidden": true
   },
   "outputs": [],
   "source": [
    "tpr"
   ]
  },
  {
   "cell_type": "markdown",
   "metadata": {
    "hidden": true
   },
   "source": [
    "####  Cost Benefit Example: \n",
    "\n",
    "We can also optimize our models based on specific costs associated with our classification errors; here we will use specific dollar amounts as weights.\n",
    "\n",
    "Let's say we were developing a classification model for Aircraft Delay prediction.  For this example let's assume that a true positive would \n",
    "lead to a cost savings of 2160 dollars, a false negative would cost us 2900 dollars a false positive would cost 750 dollars.  \n",
    "\n",
    "cb = np.array([[2160, -750.0], [-2900, 0]])  \n",
    "\n",
    "Expected_Value = #TPs(2160) - #FNs(2900) -#FPs(750)  "
   ]
  }
 ],
 "metadata": {
  "kernelspec": {
   "display_name": "Python 3",
   "language": "python",
   "name": "python3"
  },
  "language_info": {
   "codemirror_mode": {
    "name": "ipython",
    "version": 3
   },
   "file_extension": ".py",
   "mimetype": "text/x-python",
   "name": "python",
   "nbconvert_exporter": "python",
   "pygments_lexer": "ipython3",
   "version": "3.6.4"
  },
  "toc": {
   "base_numbering": 1,
   "nav_menu": {},
   "number_sections": true,
   "sideBar": true,
   "skip_h1_title": false,
   "title_cell": "Table of Contents",
   "title_sidebar": "Contents",
   "toc_cell": false,
   "toc_position": {},
   "toc_section_display": true,
   "toc_window_display": false
  }
 },
 "nbformat": 4,
 "nbformat_minor": 1
}
