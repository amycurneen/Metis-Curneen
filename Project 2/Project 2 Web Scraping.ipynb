{
 "cells": [
  {
   "cell_type": "markdown",
   "metadata": {},
   "source": [
    "## Project 2\n",
    "\n",
    "Scraping Data from Websites"
   ]
  },
  {
   "cell_type": "code",
   "execution_count": 298,
   "metadata": {},
   "outputs": [],
   "source": [
    "from __future__ import print_function, division"
   ]
  },
  {
   "cell_type": "code",
   "execution_count": 299,
   "metadata": {},
   "outputs": [],
   "source": [
    "import pandas as pd\n",
    "import unicodedata"
   ]
  },
  {
   "cell_type": "markdown",
   "metadata": {},
   "source": [
    "_____\n",
    "### State ranking data"
   ]
  },
  {
   "cell_type": "code",
   "execution_count": 300,
   "metadata": {},
   "outputs": [],
   "source": [
    "import requests\n",
    "\n",
    "url = 'https://wallethub.com/edu/states-with-the-best-schools/5335/'\n",
    "\n",
    "response = requests.get(url)"
   ]
  },
  {
   "cell_type": "code",
   "execution_count": 301,
   "metadata": {},
   "outputs": [],
   "source": [
    "page = response.text"
   ]
  },
  {
   "cell_type": "code",
   "execution_count": 302,
   "metadata": {},
   "outputs": [],
   "source": [
    "from bs4 import BeautifulSoup\n",
    "\n",
    "soup = BeautifulSoup(page,\"lxml\")"
   ]
  },
  {
   "cell_type": "code",
   "execution_count": 303,
   "metadata": {},
   "outputs": [],
   "source": [
    "rank_dict = {}"
   ]
  },
  {
   "cell_type": "code",
   "execution_count": 304,
   "metadata": {},
   "outputs": [],
   "source": [
    "for i in range(51):\n",
    "    rank = soup.find(class_='cardhub-edu-table center-aligned sortable').find_all('td')[5*i].text\n",
    "    state = soup.find(class_='cardhub-edu-table center-aligned sortable').find_all('td')[1+5*i].text\n",
    "    score = soup.find(class_='cardhub-edu-table center-aligned sortable').find_all('td')[2+5*i].text\n",
    "    quality = soup.find(class_='cardhub-edu-table center-aligned sortable').find_all('td')[3+5*i].text\n",
    "    safety = soup.find(class_='cardhub-edu-table center-aligned sortable').find_all('td')[4+5*i].text\n",
    "    rank_dict[rank] = [state,score,quality,safety]"
   ]
  },
  {
   "cell_type": "code",
   "execution_count": 305,
   "metadata": {},
   "outputs": [],
   "source": [
    "df_rank = pd.DataFrame.from_dict(rank_dict, orient='index', dtype=None)\n",
    "df_rank.rename(index=str, columns={0: 'State', 1: 'Overall_score',2:'Quality_score', \n",
    "                                   3:'Safety_score'}, inplace = True)"
   ]
  },
  {
   "cell_type": "markdown",
   "metadata": {},
   "source": [
    "##### State Rank data frame"
   ]
  },
  {
   "cell_type": "code",
   "execution_count": 306,
   "metadata": {},
   "outputs": [
    {
     "data": {
      "text/html": [
       "<div>\n",
       "<style scoped>\n",
       "    .dataframe tbody tr th:only-of-type {\n",
       "        vertical-align: middle;\n",
       "    }\n",
       "\n",
       "    .dataframe tbody tr th {\n",
       "        vertical-align: top;\n",
       "    }\n",
       "\n",
       "    .dataframe thead th {\n",
       "        text-align: right;\n",
       "    }\n",
       "</style>\n",
       "<table border=\"1\" class=\"dataframe\">\n",
       "  <thead>\n",
       "    <tr style=\"text-align: right;\">\n",
       "      <th></th>\n",
       "      <th>State</th>\n",
       "      <th>Overall_score</th>\n",
       "      <th>Quality_score</th>\n",
       "      <th>Safety_score</th>\n",
       "    </tr>\n",
       "  </thead>\n",
       "  <tbody>\n",
       "    <tr>\n",
       "      <th>1</th>\n",
       "      <td>Massachusetts</td>\n",
       "      <td>78.16</td>\n",
       "      <td>1</td>\n",
       "      <td>1</td>\n",
       "    </tr>\n",
       "    <tr>\n",
       "      <th>2</th>\n",
       "      <td>New Jersey</td>\n",
       "      <td>66.92</td>\n",
       "      <td>2</td>\n",
       "      <td>15</td>\n",
       "    </tr>\n",
       "    <tr>\n",
       "      <th>3</th>\n",
       "      <td>New Hampshire</td>\n",
       "      <td>64.65</td>\n",
       "      <td>4</td>\n",
       "      <td>14</td>\n",
       "    </tr>\n",
       "    <tr>\n",
       "      <th>4</th>\n",
       "      <td>Wisconsin</td>\n",
       "      <td>64.25</td>\n",
       "      <td>6</td>\n",
       "      <td>7</td>\n",
       "    </tr>\n",
       "    <tr>\n",
       "      <th>5</th>\n",
       "      <td>Vermont</td>\n",
       "      <td>64.09</td>\n",
       "      <td>5</td>\n",
       "      <td>11</td>\n",
       "    </tr>\n",
       "  </tbody>\n",
       "</table>\n",
       "</div>"
      ],
      "text/plain": [
       "           State Overall_score Quality_score Safety_score\n",
       "1  Massachusetts         78.16             1            1\n",
       "2     New Jersey         66.92             2           15\n",
       "3  New Hampshire         64.65             4           14\n",
       "4      Wisconsin         64.25             6            7\n",
       "5        Vermont         64.09             5           11"
      ]
     },
     "execution_count": 306,
     "metadata": {},
     "output_type": "execute_result"
    }
   ],
   "source": [
    "df_rank.head()"
   ]
  },
  {
   "cell_type": "markdown",
   "metadata": {},
   "source": [
    "____\n",
    "### State budget data"
   ]
  },
  {
   "cell_type": "code",
   "execution_count": 307,
   "metadata": {},
   "outputs": [],
   "source": [
    "url = 'https://en.wikipedia.org/wiki/List_of_U.S._state_budgets'\n",
    "response = requests.get(url)\n",
    "page = response.text\n",
    "soup = BeautifulSoup(page,\"lxml\")"
   ]
  },
  {
   "cell_type": "code",
   "execution_count": 308,
   "metadata": {},
   "outputs": [],
   "source": [
    "budget_dict = {}"
   ]
  },
  {
   "cell_type": "code",
   "execution_count": 309,
   "metadata": {},
   "outputs": [],
   "source": [
    "for i in range(50):\n",
    "    state = soup.find(class_='mw-parser-output').find_all('td')[6*i].text\n",
    "    state = state.lstrip()\n",
    "    \n",
    "    budget = soup.find(class_='mw-parser-output').find_all('td')[1+6*i].text\n",
    "    budget = float(budget)\n",
    "    \n",
    "    fy = soup.find(class_='mw-parser-output').find_all('td')[2+6*i].text\n",
    "    loc = fy.find('–')\n",
    "    if fy.find('–') != -1:\n",
    "        back = int('20' + fy[loc+1:])\n",
    "        years = back - front + 1\n",
    "    else: \n",
    "        back = int(fy)\n",
    "        years = 1\n",
    "    \n",
    "    budget_per_capita = soup.find(class_='mw-parser-output').find_all('td')[4+6*i].text\n",
    "    budget_per_capita = int(budget_per_capita.replace(',',''))\n",
    "    \n",
    "    credit_rating = soup.find(class_='mw-parser-output').find_all('td')[5+6*i].text\n",
    "    \n",
    "    budget_dict[state] = [budget,back,years,budget_per_capita,credit_rating]"
   ]
  },
  {
   "cell_type": "code",
   "execution_count": 310,
   "metadata": {},
   "outputs": [],
   "source": [
    "df_budget = pd.DataFrame.from_dict(budget_dict, orient='index', dtype=None)\n",
    "df_budget.rename(index=str, columns={0: 'Budget_billion', 1: 'Year_end',2:'No_years', 3:'Per_capita',\n",
    "                                     4:'Credit_rating'}, inplace = True)"
   ]
  },
  {
   "cell_type": "code",
   "execution_count": 311,
   "metadata": {},
   "outputs": [],
   "source": [
    "df_budget = df_budget.reset_index(level=0)\n",
    "df_budget.rename(columns = {'index' : 'State'}, inplace = True)"
   ]
  },
  {
   "cell_type": "markdown",
   "metadata": {},
   "source": [
    "##### State Budget data drame"
   ]
  },
  {
   "cell_type": "code",
   "execution_count": 312,
   "metadata": {},
   "outputs": [
    {
     "data": {
      "text/html": [
       "<div>\n",
       "<style scoped>\n",
       "    .dataframe tbody tr th:only-of-type {\n",
       "        vertical-align: middle;\n",
       "    }\n",
       "\n",
       "    .dataframe tbody tr th {\n",
       "        vertical-align: top;\n",
       "    }\n",
       "\n",
       "    .dataframe thead th {\n",
       "        text-align: right;\n",
       "    }\n",
       "</style>\n",
       "<table border=\"1\" class=\"dataframe\">\n",
       "  <thead>\n",
       "    <tr style=\"text-align: right;\">\n",
       "      <th></th>\n",
       "      <th>State</th>\n",
       "      <th>Budget_billion</th>\n",
       "      <th>Year_end</th>\n",
       "      <th>No_years</th>\n",
       "      <th>Per_capita</th>\n",
       "      <th>Credit_rating</th>\n",
       "    </tr>\n",
       "  </thead>\n",
       "  <tbody>\n",
       "    <tr>\n",
       "      <th>0</th>\n",
       "      <td>Alabama</td>\n",
       "      <td>30.0</td>\n",
       "      <td>2017</td>\n",
       "      <td>1</td>\n",
       "      <td>6009</td>\n",
       "      <td>AA</td>\n",
       "    </tr>\n",
       "    <tr>\n",
       "      <th>1</th>\n",
       "      <td>Alaska</td>\n",
       "      <td>7.2</td>\n",
       "      <td>2017</td>\n",
       "      <td>1</td>\n",
       "      <td>9750</td>\n",
       "      <td>AA</td>\n",
       "    </tr>\n",
       "    <tr>\n",
       "      <th>2</th>\n",
       "      <td>Arizona</td>\n",
       "      <td>36.6</td>\n",
       "      <td>2017</td>\n",
       "      <td>1</td>\n",
       "      <td>5360</td>\n",
       "      <td>AA</td>\n",
       "    </tr>\n",
       "    <tr>\n",
       "      <th>3</th>\n",
       "      <td>Arkansas</td>\n",
       "      <td>28.6</td>\n",
       "      <td>2016</td>\n",
       "      <td>1</td>\n",
       "      <td>9603</td>\n",
       "      <td>AA</td>\n",
       "    </tr>\n",
       "    <tr>\n",
       "      <th>4</th>\n",
       "      <td>California</td>\n",
       "      <td>170.9</td>\n",
       "      <td>2017</td>\n",
       "      <td>3</td>\n",
       "      <td>4366</td>\n",
       "      <td>AA-</td>\n",
       "    </tr>\n",
       "  </tbody>\n",
       "</table>\n",
       "</div>"
      ],
      "text/plain": [
       "        State  Budget_billion  Year_end  No_years  Per_capita Credit_rating\n",
       "0     Alabama            30.0      2017         1        6009            AA\n",
       "1      Alaska             7.2      2017         1        9750            AA\n",
       "2     Arizona            36.6      2017         1        5360            AA\n",
       "3    Arkansas            28.6      2016         1        9603            AA\n",
       "4  California           170.9      2017         3        4366           AA-"
      ]
     },
     "execution_count": 312,
     "metadata": {},
     "output_type": "execute_result"
    }
   ],
   "source": [
    "df_budget.head()"
   ]
  },
  {
   "cell_type": "markdown",
   "metadata": {},
   "source": [
    "____\n",
    "### Teacher salary data"
   ]
  },
  {
   "cell_type": "code",
   "execution_count": 313,
   "metadata": {},
   "outputs": [],
   "source": [
    "from urllib.request import Request, urlopen\n",
    "\n",
    "site= \"https://articles.niche.com/teacher-salaries-in-america/\"\n",
    "hdr = {'User-Agent': 'Mozilla/5.0'}\n",
    "req = Request(site,headers=hdr)\n",
    "page = urlopen(req)\n",
    "soup = BeautifulSoup(page,'lxml')"
   ]
  },
  {
   "cell_type": "code",
   "execution_count": 314,
   "metadata": {},
   "outputs": [],
   "source": [
    "salary_dict = {}"
   ]
  },
  {
   "cell_type": "code",
   "execution_count": 315,
   "metadata": {},
   "outputs": [],
   "source": [
    "for i in range(50):\n",
    "    state = soup.find(class_='table-wrap ').find_all('td')[3*i].text\n",
    "    state = state.replace('\\n','').replace('State','')\n",
    "    \n",
    "    start_salary = soup.find(class_='table-wrap ').find_all('td')[3*i + 1].text\n",
    "    start_salary = int(start_salary.replace('\\n','').replace('Average Starting Salary','')\n",
    "                       .replace(',','').replace('$',''))\n",
    "    \n",
    "    salary = soup.find(class_='table-wrap ').find_all('td')[3*i + 2].text\n",
    "    salary = int(salary.replace('\\n','').replace('Average Salary','').replace(',','').replace('$',''))\n",
    "    \n",
    "    salary_dict[state] = [start_salary, salary]"
   ]
  },
  {
   "cell_type": "code",
   "execution_count": 317,
   "metadata": {},
   "outputs": [],
   "source": [
    "df_salary = pd.DataFrame.from_dict(salary_dict, orient='index', dtype=None)\n",
    "df_salary.rename(index=str, columns={0: 'Starting_salary', 1: 'Salary'}, inplace = True)"
   ]
  },
  {
   "cell_type": "code",
   "execution_count": 318,
   "metadata": {},
   "outputs": [],
   "source": [
    "df_salary = df_salary.reset_index(level=0)\n",
    "df_salary.rename(columns = {'index' : 'State'}, inplace = True)"
   ]
  },
  {
   "cell_type": "markdown",
   "metadata": {},
   "source": [
    "##### Teacher Salary data frame"
   ]
  },
  {
   "cell_type": "code",
   "execution_count": 320,
   "metadata": {},
   "outputs": [
    {
     "data": {
      "text/html": [
       "<div>\n",
       "<style scoped>\n",
       "    .dataframe tbody tr th:only-of-type {\n",
       "        vertical-align: middle;\n",
       "    }\n",
       "\n",
       "    .dataframe tbody tr th {\n",
       "        vertical-align: top;\n",
       "    }\n",
       "\n",
       "    .dataframe thead th {\n",
       "        text-align: right;\n",
       "    }\n",
       "</style>\n",
       "<table border=\"1\" class=\"dataframe\">\n",
       "  <thead>\n",
       "    <tr style=\"text-align: right;\">\n",
       "      <th></th>\n",
       "      <th>State</th>\n",
       "      <th>Starting_salary</th>\n",
       "      <th>Salary</th>\n",
       "    </tr>\n",
       "  </thead>\n",
       "  <tbody>\n",
       "    <tr>\n",
       "      <th>0</th>\n",
       "      <td>Alabama</td>\n",
       "      <td>38477</td>\n",
       "      <td>48868</td>\n",
       "    </tr>\n",
       "    <tr>\n",
       "      <th>1</th>\n",
       "      <td>Alaska</td>\n",
       "      <td>46785</td>\n",
       "      <td>68138</td>\n",
       "    </tr>\n",
       "    <tr>\n",
       "      <th>2</th>\n",
       "      <td>Arizona</td>\n",
       "      <td>34068</td>\n",
       "      <td>47403</td>\n",
       "    </tr>\n",
       "    <tr>\n",
       "      <th>3</th>\n",
       "      <td>Arkansas</td>\n",
       "      <td>33973</td>\n",
       "      <td>48616</td>\n",
       "    </tr>\n",
       "    <tr>\n",
       "      <th>4</th>\n",
       "      <td>California</td>\n",
       "      <td>44782</td>\n",
       "      <td>78711</td>\n",
       "    </tr>\n",
       "  </tbody>\n",
       "</table>\n",
       "</div>"
      ],
      "text/plain": [
       "        State  Starting_salary  Salary\n",
       "0     Alabama            38477   48868\n",
       "1      Alaska            46785   68138\n",
       "2     Arizona            34068   47403\n",
       "3    Arkansas            33973   48616\n",
       "4  California            44782   78711"
      ]
     },
     "execution_count": 320,
     "metadata": {},
     "output_type": "execute_result"
    }
   ],
   "source": [
    "df_salary.head()"
   ]
  },
  {
   "cell_type": "markdown",
   "metadata": {},
   "source": [
    "___\n",
    "### Medium Income"
   ]
  },
  {
   "cell_type": "code",
   "execution_count": 368,
   "metadata": {},
   "outputs": [],
   "source": [
    "url = 'https://en.wikipedia.org/wiki/List_of_U.S._states_by_income'\n",
    "response = requests.get(url)\n",
    "page = response.text\n",
    "soup = BeautifulSoup(page,\"lxml\")"
   ]
  },
  {
   "cell_type": "code",
   "execution_count": 369,
   "metadata": {},
   "outputs": [],
   "source": [
    "income_dict = {}"
   ]
  },
  {
   "cell_type": "code",
   "execution_count": 370,
   "metadata": {},
   "outputs": [],
   "source": [
    "for i in range(54):\n",
    "    rank = soup.find(class_='mw-parser-output').find_all('td')[6+7*i].text\n",
    "    if rank:\n",
    "        state = soup.find(class_='mw-parser-output').find_all('td')[7+7*i].text\n",
    "        income = soup.find(class_='mw-parser-output').find_all('td')[8+7*i].text\n",
    "        income = int(income.replace(',','').replace('$',''))\n",
    "        income_dict[rank] = [state, income]\n",
    "    "
   ]
  },
  {
   "cell_type": "code",
   "execution_count": 371,
   "metadata": {},
   "outputs": [],
   "source": [
    "df_income = pd.DataFrame.from_dict(income_dict, orient='index', dtype=None)\n",
    "df_income.rename(index=str, columns={0: 'State', 1: 'Income'}, inplace = True)"
   ]
  },
  {
   "cell_type": "markdown",
   "metadata": {},
   "source": [
    "##### Income data frame"
   ]
  },
  {
   "cell_type": "code",
   "execution_count": 373,
   "metadata": {},
   "outputs": [
    {
     "data": {
      "text/html": [
       "<div>\n",
       "<style scoped>\n",
       "    .dataframe tbody tr th:only-of-type {\n",
       "        vertical-align: middle;\n",
       "    }\n",
       "\n",
       "    .dataframe tbody tr th {\n",
       "        vertical-align: top;\n",
       "    }\n",
       "\n",
       "    .dataframe thead th {\n",
       "        text-align: right;\n",
       "    }\n",
       "</style>\n",
       "<table border=\"1\" class=\"dataframe\">\n",
       "  <thead>\n",
       "    <tr style=\"text-align: right;\">\n",
       "      <th></th>\n",
       "      <th>State</th>\n",
       "      <th>Income</th>\n",
       "    </tr>\n",
       "  </thead>\n",
       "  <tbody>\n",
       "    <tr>\n",
       "      <th>1</th>\n",
       "      <td>Maryland</td>\n",
       "      <td>75847</td>\n",
       "    </tr>\n",
       "    <tr>\n",
       "      <th>2</th>\n",
       "      <td>Hawaii</td>\n",
       "      <td>73486</td>\n",
       "    </tr>\n",
       "    <tr>\n",
       "      <th>3</th>\n",
       "      <td>Alaska</td>\n",
       "      <td>73355</td>\n",
       "    </tr>\n",
       "    <tr>\n",
       "      <th>4</th>\n",
       "      <td>New Jersey</td>\n",
       "      <td>72222</td>\n",
       "    </tr>\n",
       "    <tr>\n",
       "      <th>5</th>\n",
       "      <td>Connecticut</td>\n",
       "      <td>71346</td>\n",
       "    </tr>\n",
       "  </tbody>\n",
       "</table>\n",
       "</div>"
      ],
      "text/plain": [
       "         State  Income\n",
       "1     Maryland   75847\n",
       "2       Hawaii   73486\n",
       "3       Alaska   73355\n",
       "4   New Jersey   72222\n",
       "5  Connecticut   71346"
      ]
     },
     "execution_count": 373,
     "metadata": {},
     "output_type": "execute_result"
    }
   ],
   "source": [
    "df_income.head()"
   ]
  },
  {
   "cell_type": "code",
   "execution_count": null,
   "metadata": {},
   "outputs": [],
   "source": []
  }
 ],
 "metadata": {
  "kernelspec": {
   "display_name": "Python 3",
   "language": "python",
   "name": "python3"
  },
  "language_info": {
   "codemirror_mode": {
    "name": "ipython",
    "version": 3
   },
   "file_extension": ".py",
   "mimetype": "text/x-python",
   "name": "python",
   "nbconvert_exporter": "python",
   "pygments_lexer": "ipython3",
   "version": "3.6.4"
  }
 },
 "nbformat": 4,
 "nbformat_minor": 2
}
