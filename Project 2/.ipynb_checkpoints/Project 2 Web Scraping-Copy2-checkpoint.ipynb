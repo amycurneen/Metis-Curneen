{
 "cells": [
  {
   "cell_type": "markdown",
   "metadata": {},
   "source": [
    "## Project 2\n",
    "\n",
    "Scraping Data from Websites"
   ]
  },
  {
   "cell_type": "code",
   "execution_count": 2,
   "metadata": {},
   "outputs": [
    {
     "name": "stderr",
     "output_type": "stream",
     "text": [
      "/anaconda3/lib/python3.6/site-packages/statsmodels/compat/pandas.py:56: FutureWarning: The pandas.core.datetools module is deprecated and will be removed in a future version. Please use the pandas.tseries module instead.\n",
      "  from pandas.core import datetools\n"
     ]
    }
   ],
   "source": [
    "# Python 2 & 3 Compatibility\n",
    "from __future__ import print_function, division\n",
    "\n",
    "# Necessary imports\n",
    "import unicodedata\n",
    "import pandas as pd\n",
    "import numpy as np\n",
    "import statsmodels.api as sm\n",
    "import statsmodels.formula.api as smf\n",
    "import patsy\n",
    "\n",
    "import seaborn as sns\n",
    "import matplotlib.pyplot as plt\n",
    "from sklearn.linear_model import LinearRegression\n",
    "from sklearn.linear_model import RidgeCV\n",
    "%matplotlib inline"
   ]
  },
  {
   "cell_type": "markdown",
   "metadata": {},
   "source": [
    "_____\n",
    "### State ranking data"
   ]
  },
  {
   "cell_type": "code",
   "execution_count": 3,
   "metadata": {},
   "outputs": [],
   "source": [
    "import requests\n",
    "\n",
    "url = 'https://wallethub.com/edu/states-with-the-best-schools/5335/'\n",
    "\n",
    "response = requests.get(url)"
   ]
  },
  {
   "cell_type": "code",
   "execution_count": 4,
   "metadata": {},
   "outputs": [],
   "source": [
    "page = response.text"
   ]
  },
  {
   "cell_type": "code",
   "execution_count": 5,
   "metadata": {},
   "outputs": [],
   "source": [
    "from bs4 import BeautifulSoup\n",
    "\n",
    "soup = BeautifulSoup(page,\"lxml\")"
   ]
  },
  {
   "cell_type": "code",
   "execution_count": 6,
   "metadata": {},
   "outputs": [],
   "source": [
    "rank_dict = {}\n",
    "\n",
    "for i in range(51):\n",
    "    rank = soup.find(class_='cardhub-edu-table center-aligned sortable').find_all('td')[5*i].text\n",
    "    state = soup.find(class_='cardhub-edu-table center-aligned sortable').find_all('td')[1+5*i].text\n",
    "    state = state.replace(' ','')\n",
    "    score = soup.find(class_='cardhub-edu-table center-aligned sortable').find_all('td')[2+5*i].text\n",
    "    quality = soup.find(class_='cardhub-edu-table center-aligned sortable').find_all('td')[3+5*i].text\n",
    "    safety = soup.find(class_='cardhub-edu-table center-aligned sortable').find_all('td')[4+5*i].text\n",
    "    rank_dict[rank] = [state,float(score),int(quality),int(safety)]"
   ]
  },
  {
   "cell_type": "code",
   "execution_count": 7,
   "metadata": {},
   "outputs": [],
   "source": [
    "df_rank = pd.DataFrame.from_dict(rank_dict, orient='index', dtype=None)\n",
    "df_rank.rename(index=str, columns={0: 'State', 1: 'Overall_score',2:'Quality_rank', \n",
    "                                   3:'Safety_rank'}, inplace = True)"
   ]
  },
  {
   "cell_type": "markdown",
   "metadata": {},
   "source": [
    "##### State Rank data frame"
   ]
  },
  {
   "cell_type": "code",
   "execution_count": 8,
   "metadata": {},
   "outputs": [
    {
     "data": {
      "text/html": [
       "<div>\n",
       "<style scoped>\n",
       "    .dataframe tbody tr th:only-of-type {\n",
       "        vertical-align: middle;\n",
       "    }\n",
       "\n",
       "    .dataframe tbody tr th {\n",
       "        vertical-align: top;\n",
       "    }\n",
       "\n",
       "    .dataframe thead th {\n",
       "        text-align: right;\n",
       "    }\n",
       "</style>\n",
       "<table border=\"1\" class=\"dataframe\">\n",
       "  <thead>\n",
       "    <tr style=\"text-align: right;\">\n",
       "      <th></th>\n",
       "      <th>State</th>\n",
       "      <th>Overall_score</th>\n",
       "      <th>Quality_rank</th>\n",
       "      <th>Safety_rank</th>\n",
       "    </tr>\n",
       "  </thead>\n",
       "  <tbody>\n",
       "    <tr>\n",
       "      <th>38</th>\n",
       "      <td>Georgia</td>\n",
       "      <td>47.32</td>\n",
       "      <td>36</td>\n",
       "      <td>38</td>\n",
       "    </tr>\n",
       "    <tr>\n",
       "      <th>40</th>\n",
       "      <td>Nevada</td>\n",
       "      <td>40.99</td>\n",
       "      <td>45</td>\n",
       "      <td>34</td>\n",
       "    </tr>\n",
       "    <tr>\n",
       "      <th>15</th>\n",
       "      <td>Kansas</td>\n",
       "      <td>56.24</td>\n",
       "      <td>23</td>\n",
       "      <td>16</td>\n",
       "    </tr>\n",
       "    <tr>\n",
       "      <th>30</th>\n",
       "      <td>Nebraska</td>\n",
       "      <td>51.22</td>\n",
       "      <td>12</td>\n",
       "      <td>44</td>\n",
       "    </tr>\n",
       "    <tr>\n",
       "      <th>45</th>\n",
       "      <td>Alaska</td>\n",
       "      <td>38.20</td>\n",
       "      <td>47</td>\n",
       "      <td>43</td>\n",
       "    </tr>\n",
       "  </tbody>\n",
       "</table>\n",
       "</div>"
      ],
      "text/plain": [
       "       State  Overall_score  Quality_rank  Safety_rank\n",
       "38   Georgia          47.32            36           38\n",
       "40    Nevada          40.99            45           34\n",
       "15    Kansas          56.24            23           16\n",
       "30  Nebraska          51.22            12           44\n",
       "45    Alaska          38.20            47           43"
      ]
     },
     "execution_count": 8,
     "metadata": {},
     "output_type": "execute_result"
    }
   ],
   "source": [
    "df_rank.sample(5)"
   ]
  },
  {
   "cell_type": "markdown",
   "metadata": {},
   "source": [
    "____\n",
    "### State budget data"
   ]
  },
  {
   "cell_type": "code",
   "execution_count": 9,
   "metadata": {},
   "outputs": [],
   "source": [
    "url = 'https://en.wikipedia.org/wiki/List_of_U.S._state_budgets'\n",
    "response = requests.get(url)\n",
    "page = response.text\n",
    "soup = BeautifulSoup(page,\"lxml\")"
   ]
  },
  {
   "cell_type": "code",
   "execution_count": 10,
   "metadata": {},
   "outputs": [],
   "source": [
    "budget_dict = {}\n",
    "\n",
    "for i in range(50):\n",
    "    state = soup.find(class_='mw-parser-output').find_all('td')[6*i].text\n",
    "    state = state.replace(' ','')\n",
    "    \n",
    "    budget = soup.find(class_='mw-parser-output').find_all('td')[1+6*i].text\n",
    "    budget = float(budget)\n",
    "    \n",
    "    fy = soup.find(class_='mw-parser-output').find_all('td')[2+6*i].text\n",
    "    loc = fy.find('–')\n",
    "    if fy.find('–') != -1:\n",
    "        front = int(fy[:loc])\n",
    "        back = int('20' + fy[loc+1:])\n",
    "        years = back - front + 1\n",
    "    else: \n",
    "        back = int(fy)\n",
    "        years = 1\n",
    "    \n",
    "    budget_per_capita = soup.find(class_='mw-parser-output').find_all('td')[4+6*i].text\n",
    "    budget_per_capita = int(budget_per_capita.replace(',',''))\n",
    "    \n",
    "    credit_rating = soup.find(class_='mw-parser-output').find_all('td')[5+6*i].text\n",
    "    \n",
    "    budget_dict[state] = [budget,back,years,budget_per_capita,credit_rating]"
   ]
  },
  {
   "cell_type": "code",
   "execution_count": 11,
   "metadata": {},
   "outputs": [],
   "source": [
    "df_budget = pd.DataFrame.from_dict(budget_dict, orient='index', dtype=None)\n",
    "df_budget.rename(index=str, columns={0: 'Budget_billion', 1: 'Year_end',2:'No_years', 3:'Per_capita',\n",
    "                                     4:'Credit_rating'}, inplace = True)"
   ]
  },
  {
   "cell_type": "code",
   "execution_count": 12,
   "metadata": {},
   "outputs": [],
   "source": [
    "df_budget = df_budget.reset_index(level=0)\n",
    "df_budget.rename(columns = {'index' : 'State'}, inplace = True)"
   ]
  },
  {
   "cell_type": "markdown",
   "metadata": {},
   "source": [
    "##### State Budget data drame"
   ]
  },
  {
   "cell_type": "code",
   "execution_count": 13,
   "metadata": {},
   "outputs": [
    {
     "data": {
      "text/html": [
       "<div>\n",
       "<style scoped>\n",
       "    .dataframe tbody tr th:only-of-type {\n",
       "        vertical-align: middle;\n",
       "    }\n",
       "\n",
       "    .dataframe tbody tr th {\n",
       "        vertical-align: top;\n",
       "    }\n",
       "\n",
       "    .dataframe thead th {\n",
       "        text-align: right;\n",
       "    }\n",
       "</style>\n",
       "<table border=\"1\" class=\"dataframe\">\n",
       "  <thead>\n",
       "    <tr style=\"text-align: right;\">\n",
       "      <th></th>\n",
       "      <th>State</th>\n",
       "      <th>Budget_billion</th>\n",
       "      <th>Year_end</th>\n",
       "      <th>No_years</th>\n",
       "      <th>Per_capita</th>\n",
       "      <th>Credit_rating</th>\n",
       "    </tr>\n",
       "  </thead>\n",
       "  <tbody>\n",
       "    <tr>\n",
       "      <th>28</th>\n",
       "      <td>NewHampshire</td>\n",
       "      <td>5.7</td>\n",
       "      <td>2017</td>\n",
       "      <td>1</td>\n",
       "      <td>4284</td>\n",
       "      <td>AA</td>\n",
       "    </tr>\n",
       "    <tr>\n",
       "      <th>10</th>\n",
       "      <td>Hawaii</td>\n",
       "      <td>13.5</td>\n",
       "      <td>2017</td>\n",
       "      <td>1</td>\n",
       "      <td>9430</td>\n",
       "      <td>AA+</td>\n",
       "    </tr>\n",
       "    <tr>\n",
       "      <th>31</th>\n",
       "      <td>NewYork</td>\n",
       "      <td>149.0</td>\n",
       "      <td>2017</td>\n",
       "      <td>1</td>\n",
       "      <td>7527</td>\n",
       "      <td>AA+</td>\n",
       "    </tr>\n",
       "    <tr>\n",
       "      <th>7</th>\n",
       "      <td>Delaware</td>\n",
       "      <td>4.1</td>\n",
       "      <td>2017</td>\n",
       "      <td>1</td>\n",
       "      <td>4334</td>\n",
       "      <td>AAA</td>\n",
       "    </tr>\n",
       "    <tr>\n",
       "      <th>29</th>\n",
       "      <td>NewJersey</td>\n",
       "      <td>50.5</td>\n",
       "      <td>2017</td>\n",
       "      <td>1</td>\n",
       "      <td>5637</td>\n",
       "      <td>A-</td>\n",
       "    </tr>\n",
       "  </tbody>\n",
       "</table>\n",
       "</div>"
      ],
      "text/plain": [
       "            State  Budget_billion  Year_end  No_years  Per_capita  \\\n",
       "28   NewHampshire             5.7      2017         1        4284   \n",
       "10         Hawaii            13.5      2017         1        9430   \n",
       "31        NewYork           149.0      2017         1        7527   \n",
       "7        Delaware             4.1      2017         1        4334   \n",
       "29      NewJersey            50.5      2017         1        5637   \n",
       "\n",
       "   Credit_rating  \n",
       "28            AA  \n",
       "10           AA+  \n",
       "31           AA+  \n",
       "7            AAA  \n",
       "29            A-  "
      ]
     },
     "execution_count": 13,
     "metadata": {},
     "output_type": "execute_result"
    }
   ],
   "source": [
    "df_budget.sample(5)"
   ]
  },
  {
   "cell_type": "markdown",
   "metadata": {},
   "source": [
    "____\n",
    "### Teacher salary data"
   ]
  },
  {
   "cell_type": "code",
   "execution_count": 14,
   "metadata": {},
   "outputs": [],
   "source": [
    "from urllib.request import Request, urlopen\n",
    "\n",
    "site= \"https://articles.niche.com/teacher-salaries-in-america/\"\n",
    "hdr = {'User-Agent': 'Mozilla/5.0'}\n",
    "req = Request(site,headers=hdr)\n",
    "page = urlopen(req)\n",
    "soup = BeautifulSoup(page,'lxml')"
   ]
  },
  {
   "cell_type": "code",
   "execution_count": 15,
   "metadata": {},
   "outputs": [],
   "source": [
    "salary_dict = {}\n",
    "\n",
    "for i in range(50):\n",
    "    state = soup.find(class_='table-wrap ').find_all('td')[3*i].text\n",
    "    state = state.replace('\\n','').replace('State','').replace(' ','')\n",
    "    \n",
    "    start_salary = soup.find(class_='table-wrap ').find_all('td')[3*i + 1].text\n",
    "    start_salary = int(start_salary.replace('\\n','').replace('Average Starting Salary','')\n",
    "                       .replace(',','').replace('$',''))\n",
    "    \n",
    "    salary = soup.find(class_='table-wrap ').find_all('td')[3*i + 2].text\n",
    "    salary = int(salary.replace('\\n','').replace('Average Salary','').replace(',','').replace('$',''))\n",
    "    \n",
    "    salary_dict[state] = [start_salary, salary]"
   ]
  },
  {
   "cell_type": "code",
   "execution_count": 16,
   "metadata": {},
   "outputs": [],
   "source": [
    "df_salary = pd.DataFrame.from_dict(salary_dict, orient='index', dtype=None)\n",
    "df_salary.rename(index=str, columns={0: 'Starting_salary', 1: 'Salary'}, inplace = True)"
   ]
  },
  {
   "cell_type": "code",
   "execution_count": 17,
   "metadata": {},
   "outputs": [],
   "source": [
    "df_salary = df_salary.reset_index(level=0)\n",
    "df_salary.rename(columns = {'index' : 'State'}, inplace = True)"
   ]
  },
  {
   "cell_type": "markdown",
   "metadata": {},
   "source": [
    "##### Teacher Salary data frame"
   ]
  },
  {
   "cell_type": "code",
   "execution_count": 18,
   "metadata": {},
   "outputs": [
    {
     "data": {
      "text/html": [
       "<div>\n",
       "<style scoped>\n",
       "    .dataframe tbody tr th:only-of-type {\n",
       "        vertical-align: middle;\n",
       "    }\n",
       "\n",
       "    .dataframe tbody tr th {\n",
       "        vertical-align: top;\n",
       "    }\n",
       "\n",
       "    .dataframe thead th {\n",
       "        text-align: right;\n",
       "    }\n",
       "</style>\n",
       "<table border=\"1\" class=\"dataframe\">\n",
       "  <thead>\n",
       "    <tr style=\"text-align: right;\">\n",
       "      <th></th>\n",
       "      <th>State</th>\n",
       "      <th>Starting_salary</th>\n",
       "      <th>Salary</th>\n",
       "    </tr>\n",
       "  </thead>\n",
       "  <tbody>\n",
       "    <tr>\n",
       "      <th>28</th>\n",
       "      <td>Nevada</td>\n",
       "      <td>37973</td>\n",
       "      <td>57376</td>\n",
       "    </tr>\n",
       "    <tr>\n",
       "      <th>1</th>\n",
       "      <td>Alaska</td>\n",
       "      <td>46785</td>\n",
       "      <td>68138</td>\n",
       "    </tr>\n",
       "    <tr>\n",
       "      <th>26</th>\n",
       "      <td>Montana</td>\n",
       "      <td>30036</td>\n",
       "      <td>51422</td>\n",
       "    </tr>\n",
       "    <tr>\n",
       "      <th>13</th>\n",
       "      <td>Illinois</td>\n",
       "      <td>38820</td>\n",
       "      <td>61602</td>\n",
       "    </tr>\n",
       "    <tr>\n",
       "      <th>25</th>\n",
       "      <td>Missouri</td>\n",
       "      <td>31842</td>\n",
       "      <td>48293</td>\n",
       "    </tr>\n",
       "  </tbody>\n",
       "</table>\n",
       "</div>"
      ],
      "text/plain": [
       "       State  Starting_salary  Salary\n",
       "28    Nevada            37973   57376\n",
       "1     Alaska            46785   68138\n",
       "26   Montana            30036   51422\n",
       "13  Illinois            38820   61602\n",
       "25  Missouri            31842   48293"
      ]
     },
     "execution_count": 18,
     "metadata": {},
     "output_type": "execute_result"
    }
   ],
   "source": [
    "df_salary.sample(5)"
   ]
  },
  {
   "cell_type": "markdown",
   "metadata": {},
   "source": [
    "___\n",
    "### Medium Income"
   ]
  },
  {
   "cell_type": "code",
   "execution_count": 19,
   "metadata": {},
   "outputs": [],
   "source": [
    "url = 'https://en.wikipedia.org/wiki/List_of_U.S._states_by_income'\n",
    "response = requests.get(url)\n",
    "page = response.text\n",
    "soup = BeautifulSoup(page,\"lxml\")"
   ]
  },
  {
   "cell_type": "code",
   "execution_count": 20,
   "metadata": {},
   "outputs": [],
   "source": [
    "income_dict = {}\n",
    "\n",
    "for i in range(54):\n",
    "    rank = soup.find(class_='mw-parser-output').find_all('td')[6+7*i].text\n",
    "    if rank:\n",
    "        state = soup.find(class_='mw-parser-output').find_all('td')[7+7*i].text\n",
    "        state = state.replace(' ','')\n",
    "        income = soup.find(class_='mw-parser-output').find_all('td')[8+7*i].text\n",
    "        income = int(income.replace(',','').replace('$',''))\n",
    "        income_dict[rank] = [state, income]\n",
    "    "
   ]
  },
  {
   "cell_type": "code",
   "execution_count": 21,
   "metadata": {},
   "outputs": [],
   "source": [
    "df_income = pd.DataFrame.from_dict(income_dict, orient='index', dtype=None)\n",
    "df_income.rename(index=str, columns={0: 'State', 1: 'Income'}, inplace = True)"
   ]
  },
  {
   "cell_type": "markdown",
   "metadata": {},
   "source": [
    "##### Income data frame"
   ]
  },
  {
   "cell_type": "code",
   "execution_count": 22,
   "metadata": {},
   "outputs": [
    {
     "data": {
      "text/html": [
       "<div>\n",
       "<style scoped>\n",
       "    .dataframe tbody tr th:only-of-type {\n",
       "        vertical-align: middle;\n",
       "    }\n",
       "\n",
       "    .dataframe tbody tr th {\n",
       "        vertical-align: top;\n",
       "    }\n",
       "\n",
       "    .dataframe thead th {\n",
       "        text-align: right;\n",
       "    }\n",
       "</style>\n",
       "<table border=\"1\" class=\"dataframe\">\n",
       "  <thead>\n",
       "    <tr style=\"text-align: right;\">\n",
       "      <th></th>\n",
       "      <th>State</th>\n",
       "      <th>Income</th>\n",
       "    </tr>\n",
       "  </thead>\n",
       "  <tbody>\n",
       "    <tr>\n",
       "      <th>18</th>\n",
       "      <td>Illinois</td>\n",
       "      <td>59588</td>\n",
       "    </tr>\n",
       "    <tr>\n",
       "      <th>16</th>\n",
       "      <td>NorthDakota</td>\n",
       "      <td>60557</td>\n",
       "    </tr>\n",
       "    <tr>\n",
       "      <th>23</th>\n",
       "      <td>Wisconsin</td>\n",
       "      <td>55638</td>\n",
       "    </tr>\n",
       "    <tr>\n",
       "      <th>45</th>\n",
       "      <td>NewMexico</td>\n",
       "      <td>45382</td>\n",
       "    </tr>\n",
       "    <tr>\n",
       "      <th>31</th>\n",
       "      <td>Arizona</td>\n",
       "      <td>51492</td>\n",
       "    </tr>\n",
       "  </tbody>\n",
       "</table>\n",
       "</div>"
      ],
      "text/plain": [
       "          State  Income\n",
       "18     Illinois   59588\n",
       "16  NorthDakota   60557\n",
       "23    Wisconsin   55638\n",
       "45    NewMexico   45382\n",
       "31      Arizona   51492"
      ]
     },
     "execution_count": 22,
     "metadata": {},
     "output_type": "execute_result"
    }
   ],
   "source": [
    "df_income.sample(5)"
   ]
  },
  {
   "cell_type": "markdown",
   "metadata": {},
   "source": [
    "___ \n",
    "### Class Size"
   ]
  },
  {
   "cell_type": "code",
   "execution_count": 23,
   "metadata": {},
   "outputs": [],
   "source": [
    "url = 'https://nces.ed.gov/surveys/sass/tables/sass1112_2013314_t1s_007.asp'\n",
    "response = requests.get(url)\n",
    "page = response.text\n",
    "soup = BeautifulSoup(page,\"lxml\")"
   ]
  },
  {
   "cell_type": "code",
   "execution_count": 24,
   "metadata": {},
   "outputs": [],
   "source": [
    "class_size_dict = {}\n",
    "\n",
    "for i in range(60):\n",
    "    warning = ''\n",
    "    state = soup.find('tbody').find_all('th')[2+i].text\n",
    "    state = state.replace('\\r','').replace('\\n','').replace(' ','')\n",
    "    state = state.strip()\n",
    "    if state: # ignores blank cells\n",
    "        \n",
    "        # Primary School\n",
    "        PS_selfcont = soup.find('tbody').find_all('td')[32+16*i].text\n",
    "        if PS_selfcont == '‡': PS_selfcont = '0'\n",
    "        warning = soup.find('tbody').find_all('td')[33+16*i].text\n",
    "        if warning == '!': PS_selfcont = '0'\n",
    "        PS_selfcont = float(PS_selfcont)\n",
    "        \n",
    "        PS_dep = soup.find('tbody').find_all('td')[34+16*i].text\n",
    "        if PS_dep == '‡': PS_dep = '0'\n",
    "        warning = soup.find('tbody').find_all('td')[35+16*i].text\n",
    "        if warning =='!': PS_dep = '0'\n",
    "        PS_dep = float(PS_dep)\n",
    "        \n",
    "        # Middle School\n",
    "        MS_selfcont = soup.find('tbody').find_all('td')[36+16*i].text\n",
    "        if MS_selfcont == '‡': MS_selfcont = '0'\n",
    "        warning = soup.find('tbody').find_all('td')[37+16*i].text\n",
    "        if warning == '!': MS_selfcont = '0'\n",
    "        MS_selfcont = float(MS_selfcont)\n",
    "        \n",
    "        MS_dep = soup.find('tbody').find_all('td')[38+16*i].text\n",
    "        if MS_dep == '‡': MS_dep = '0'\n",
    "        warning = soup.find('tbody').find_all('td')[39+16*i].text\n",
    "        if warning == '!': MS_dep = '0'\n",
    "        MS_dep = float(MS_dep)\n",
    "        \n",
    "        # High School\n",
    "        HS_selfcont = soup.find('tbody').find_all('td')[40+16*i].text\n",
    "        if HS_selfcont == '‡': HS_selfcont = '0'\n",
    "        warning = soup.find('tbody').find_all('td')[41+16*i].text\n",
    "        if warning == '!': HS_selfcont = '0'\n",
    "        HS_selfcont = float(HS_selfcont)\n",
    "        \n",
    "        HS_dep = soup.find('tbody').find_all('td')[42+16*i].text\n",
    "        if HS_dep == '‡': HS_dep = '0'\n",
    "        warning = soup.find('tbody').find_all('td')[43+16*i].text\n",
    "        if warning == '!': HS_dep = '0'\n",
    "        HS_dep = float(HS_dep)\n",
    "        \n",
    "        # Combined Grades\n",
    "        CG_selfcont = soup.find('tbody').find_all('td')[44+16*i].text\n",
    "        if CG_selfcont == '‡': CG_selfcont = '0'\n",
    "        warning = soup.find('tbody').find_all('td')[45+16*i].text\n",
    "        if warning == '!': CG_selfcont = '0'\n",
    "        CG_selfcont = float(CG_selfcont)\n",
    "        \n",
    "        CG_dep = soup.find('tbody').find_all('td')[46+16*i].text\n",
    "        if CG_dep == '‡': CG_dep = '0'\n",
    "        warning = soup.find('tbody').find_all('td')[47+16*i].text\n",
    "        if warning == '!': CG_dep = '0'\n",
    "        CG_dep = float(CG_dep)\n",
    "\n",
    "        class_size_dict[state] = [PS_selfcont, PS_dep, MS_selfcont, MS_dep, HS_selfcont, HS_dep, \n",
    "                                  CG_selfcont, CG_dep]"
   ]
  },
  {
   "cell_type": "code",
   "execution_count": 25,
   "metadata": {},
   "outputs": [],
   "source": [
    "df_class_size = pd.DataFrame.from_dict(class_size_dict, orient='index', dtype=None)\n",
    "df_class_size.rename(index=str, columns={0: 'Primary_SCC', 1: 'Primary_DI',2:'Middle_SCC',\n",
    "                                         3:'Middle_DI',4:'High_SCC',5:'High_DI',6:'Combine_SCC',\n",
    "                                         7:'Combine_DI'}, inplace = True)\n",
    "df_class_size = df_class_size.reset_index(level=0)\n",
    "df_class_size.rename(columns = {'index' : 'State'}, inplace = True)"
   ]
  },
  {
   "cell_type": "markdown",
   "metadata": {},
   "source": [
    "##### Class Size Data Frame"
   ]
  },
  {
   "cell_type": "code",
   "execution_count": 26,
   "metadata": {},
   "outputs": [
    {
     "data": {
      "text/html": [
       "<div>\n",
       "<style scoped>\n",
       "    .dataframe tbody tr th:only-of-type {\n",
       "        vertical-align: middle;\n",
       "    }\n",
       "\n",
       "    .dataframe tbody tr th {\n",
       "        vertical-align: top;\n",
       "    }\n",
       "\n",
       "    .dataframe thead th {\n",
       "        text-align: right;\n",
       "    }\n",
       "</style>\n",
       "<table border=\"1\" class=\"dataframe\">\n",
       "  <thead>\n",
       "    <tr style=\"text-align: right;\">\n",
       "      <th></th>\n",
       "      <th>State</th>\n",
       "      <th>Primary_SCC</th>\n",
       "      <th>Primary_DI</th>\n",
       "      <th>Middle_SCC</th>\n",
       "      <th>Middle_DI</th>\n",
       "      <th>High_SCC</th>\n",
       "      <th>High_DI</th>\n",
       "      <th>Combine_SCC</th>\n",
       "      <th>Combine_DI</th>\n",
       "    </tr>\n",
       "  </thead>\n",
       "  <tbody>\n",
       "    <tr>\n",
       "      <th>48</th>\n",
       "      <td>WestVirginia</td>\n",
       "      <td>19.2</td>\n",
       "      <td>27.8</td>\n",
       "      <td>0.0</td>\n",
       "      <td>23.5</td>\n",
       "      <td>0.0</td>\n",
       "      <td>19.8</td>\n",
       "      <td>0.0</td>\n",
       "      <td>20.3</td>\n",
       "    </tr>\n",
       "    <tr>\n",
       "      <th>45</th>\n",
       "      <td>Vermont</td>\n",
       "      <td>16.7</td>\n",
       "      <td>19.3</td>\n",
       "      <td>16.8</td>\n",
       "      <td>20.9</td>\n",
       "      <td>12.7</td>\n",
       "      <td>17.7</td>\n",
       "      <td>14.2</td>\n",
       "      <td>10.9</td>\n",
       "    </tr>\n",
       "    <tr>\n",
       "      <th>31</th>\n",
       "      <td>NewMexico</td>\n",
       "      <td>20.5</td>\n",
       "      <td>0.0</td>\n",
       "      <td>0.0</td>\n",
       "      <td>23.2</td>\n",
       "      <td>0.0</td>\n",
       "      <td>22.0</td>\n",
       "      <td>14.4</td>\n",
       "      <td>13.3</td>\n",
       "    </tr>\n",
       "    <tr>\n",
       "      <th>43</th>\n",
       "      <td>Texas</td>\n",
       "      <td>18.6</td>\n",
       "      <td>26.4</td>\n",
       "      <td>13.4</td>\n",
       "      <td>24.4</td>\n",
       "      <td>0.0</td>\n",
       "      <td>23.6</td>\n",
       "      <td>15.1</td>\n",
       "      <td>16.8</td>\n",
       "    </tr>\n",
       "    <tr>\n",
       "      <th>32</th>\n",
       "      <td>NewYork</td>\n",
       "      <td>21.5</td>\n",
       "      <td>25.9</td>\n",
       "      <td>13.8</td>\n",
       "      <td>24.5</td>\n",
       "      <td>17.4</td>\n",
       "      <td>22.5</td>\n",
       "      <td>0.0</td>\n",
       "      <td>19.2</td>\n",
       "    </tr>\n",
       "  </tbody>\n",
       "</table>\n",
       "</div>"
      ],
      "text/plain": [
       "           State  Primary_SCC  Primary_DI  Middle_SCC  Middle_DI  High_SCC  \\\n",
       "48  WestVirginia         19.2        27.8         0.0       23.5       0.0   \n",
       "45       Vermont         16.7        19.3        16.8       20.9      12.7   \n",
       "31     NewMexico         20.5         0.0         0.0       23.2       0.0   \n",
       "43         Texas         18.6        26.4        13.4       24.4       0.0   \n",
       "32       NewYork         21.5        25.9        13.8       24.5      17.4   \n",
       "\n",
       "    High_DI  Combine_SCC  Combine_DI  \n",
       "48     19.8          0.0        20.3  \n",
       "45     17.7         14.2        10.9  \n",
       "31     22.0         14.4        13.3  \n",
       "43     23.6         15.1        16.8  \n",
       "32     22.5          0.0        19.2  "
      ]
     },
     "execution_count": 26,
     "metadata": {},
     "output_type": "execute_result"
    }
   ],
   "source": [
    "df_class_size.sample(5)"
   ]
  },
  {
   "cell_type": "markdown",
   "metadata": {},
   "source": [
    "____ \n",
    "\n",
    "### Education budget, itemized"
   ]
  },
  {
   "cell_type": "code",
   "execution_count": 27,
   "metadata": {},
   "outputs": [],
   "source": [
    "money = {\n",
    "      \"State\": [\n",
    "        \"Utah\",\n",
    "        \"Idaho\",\n",
    "        \"Arizona\",\n",
    "        \"Oklahoma\",\n",
    "        \"Mississippi\",\n",
    "        \"Nevada\",\n",
    "        \"North Carolina\",\n",
    "        \"Texas\",\n",
    "        \"Tennessee\",\n",
    "        \"Florida\",\n",
    "        \"South Dakota\",\n",
    "        \"Colorado\",\n",
    "        \"Alabama\",\n",
    "        \"Georgia\",\n",
    "        \"Kentucky\",\n",
    "        \"Indiana\",\n",
    "        \"California\",\n",
    "        \"Arkansas\",\n",
    "        \"South Carolina\",\n",
    "        \"New Mexico\",\n",
    "        \"Missouri\",\n",
    "        \"Oregon\",\n",
    "        \"Kansas\",\n",
    "        \"Washington\",\n",
    "        \"Iowa\",\n",
    "        \"Louisiana\",\n",
    "        \"Virginia\",\n",
    "        \"U.S. Total\",\n",
    "        \"Montana\",\n",
    "        \"Michigan\",\n",
    "        \"Wisconsin\",\n",
    "        \"West Virginia\",\n",
    "        \"Ohio\",\n",
    "        \"Minnesota\",\n",
    "        \"Nebraska\",\n",
    "        \"North Dakota\",\n",
    "        \"Hawaii\",\n",
    "        \"Maine\",\n",
    "        \"Illinois\",\n",
    "        \"Delaware\",\n",
    "        \"Pennsylvania\",\n",
    "        \"Maryland\",\n",
    "        \"New Hampshire\",\n",
    "        \"Rhode Island\",\n",
    "        \"Massachusetts\",\n",
    "        \"Wyoming\",\n",
    "        \"Vermont\",\n",
    "        \"Connecticut\",\n",
    "        \"New Jersey\",\n",
    "        \"Alaska\",\n",
    "        \"District of Columbia\",\n",
    "        \"New York\"],\n",
    "      \"Instruction_Employee_Salaries\": [\n",
    "        \"2,562\",\n",
    "        \"2,741\",\n",
    "        \"2,855\",\n",
    "        \"2,883\",\n",
    "        \"3,098\",\n",
    "        \"3,180\",\n",
    "        \"3,609\",\n",
    "        \"3,934\",\n",
    "        \"3,555\",\n",
    "        \"3,214\",\n",
    "        \"3,592\",\n",
    "        \"3,620\",\n",
    "        \"3,359\",\n",
    "        \"3,785\",\n",
    "        \"3,747\",\n",
    "        \"3,516\",\n",
    "        \"3,779\",\n",
    "        \"3,631\",\n",
    "        \"3,737\",\n",
    "        \"3,595\",\n",
    "        \"4,096\",\n",
    "        \"3,350\",\n",
    "        \"3,833\",\n",
    "        \"3,958\",\n",
    "        \"4,508\",\n",
    "        \"3,789\",\n",
    "        \"4,580\",\n",
    "        \"4,378\",\n",
    "        \"4,243\",\n",
    "        \"3,857\",\n",
    "        \"4,310\",\n",
    "        \"3,862\",\n",
    "        \"4,435\",\n",
    "        \"5,085\",\n",
    "        \"4,938\",\n",
    "        \"5,073\",\n",
    "        \"4,711\",\n",
    "        \"5,050\",\n",
    "        \"4,747\",\n",
    "        \"5,374\",\n",
    "        \"5,368\",\n",
    "        \"5,544\",\n",
    "        \"5,673\",\n",
    "        \"5,961\",\n",
    "        \"6,343\",\n",
    "        \"6,094\",\n",
    "        \"6,564\",\n",
    "        \"6,997\",\n",
    "        \"6,888\",\n",
    "        \"5,260\",\n",
    "        \"8,704\",\n",
    "        \"8,712\"],\n",
    "      \"Instruction_Employee_Benefits\": [\n",
    "        \"1,193\",\n",
    "        \"957\",\n",
    "        \"889\",\n",
    "        \"977\",\n",
    "        \"1,049\",\n",
    "        \"1,272\",\n",
    "        \"1,221\",\n",
    "        \"626\",\n",
    "        \"1,188\",\n",
    "        \"954\",\n",
    "        \"1,050\",\n",
    "        \"983\",\n",
    "        \"1,234\",\n",
    "        \"1,389\",\n",
    "        \"1,329\",\n",
    "        \"1,808\",\n",
    "        \"1,288\",\n",
    "        \"1,058\",\n",
    "        \"1,279\",\n",
    "        \"1,249\",\n",
    "        \"1,218\",\n",
    "        \"1,912\",\n",
    "        \"1,202\",\n",
    "        \"1,386\",\n",
    "        \"1,502\",\n",
    "        \"1,832\",\n",
    "        \"1,690\",\n",
    "        \"1,691\",\n",
    "        \"1,321\",\n",
    "        \"2,196\",\n",
    "        \"1,877\",\n",
    "        \"1,991\",\n",
    "        \"1,617\",\n",
    "        \"1,689\",\n",
    "        \"1,705\",\n",
    "        \"1,721\",\n",
    "        \"1,738\",\n",
    "        \"2,168\",\n",
    "        \"2,504\",\n",
    "        \"2,734\",\n",
    "        \"2,623\",\n",
    "        \"2,561\",\n",
    "        \"2,563\",\n",
    "        \"2,551\",\n",
    "        \"2,447\",\n",
    "        \"2,495\",\n",
    "        \"2,756\",\n",
    "        \"3,409\",\n",
    "        \"2,782\",\n",
    "        \"4,127\",\n",
    "        \"1,452\",\n",
    "        \"4,660\"],\n",
    "      \"Pupil_Support\": [\n",
    "        \"233\",\n",
    "        \"366\",\n",
    "        \"578\",\n",
    "        \"548\",\n",
    "        \"404\",\n",
    "        \"452\",\n",
    "        \"452\",\n",
    "        \"429\",\n",
    "        \"382\",\n",
    "        \"383\",\n",
    "        \"479\",\n",
    "        \"435\",\n",
    "        \"526\",\n",
    "        \"427\",\n",
    "        \"436\",\n",
    "        \"459\",\n",
    "        \"511\",\n",
    "        \"500\",\n",
    "        \"766\",\n",
    "        \"734\",\n",
    "        \"458\",\n",
    "        \"702\",\n",
    "        \"497\",\n",
    "        \"697\",\n",
    "        \"609\",\n",
    "        \"658\",\n",
    "        \"548\",\n",
    "        \"619\",\n",
    "        \"704\",\n",
    "        \"885\",\n",
    "        \"546\",\n",
    "        \"558\",\n",
    "        \"767\",\n",
    "        \"317\",\n",
    "        \"488\",\n",
    "        \"497\",\n",
    "        \"1,120\",\n",
    "        \"886\",\n",
    "        \"877\",\n",
    "        \"651\",\n",
    "        \"773\",\n",
    "        \"647\",\n",
    "        \"1,102\",\n",
    "        \"1,665\",\n",
    "        \"1,161\",\n",
    "        \"933\",\n",
    "        \"1,423\",\n",
    "        \"1,149\",\n",
    "        \"1,919\",\n",
    "        \"1,488\",\n",
    "        \"970\",\n",
    "        \"636\"],\n",
    "      \"Instructional_Staff_Support\": [\n",
    "        \"261\",\n",
    "        \"309\",\n",
    "        \"433\",\n",
    "        \"330\",\n",
    "        \"397\",\n",
    "        \"488\",\n",
    "        \"284\",\n",
    "        \"436\",\n",
    "        \"544\",\n",
    "        \"544\",\n",
    "        \"335\",\n",
    "        \"524\",\n",
    "        \"387\",\n",
    "        \"465\",\n",
    "        \"516\",\n",
    "        \"355\",\n",
    "        \"541\",\n",
    "        \"806\",\n",
    "        \"583\",\n",
    "        \"253\",\n",
    "        \"450\",\n",
    "        \"361\",\n",
    "        \"393\",\n",
    "        \"638\",\n",
    "        \"523\",\n",
    "        \"574\",\n",
    "        \"710\",\n",
    "        \"509\",\n",
    "        \"417\",\n",
    "        \"535\",\n",
    "        \"565\",\n",
    "        \"458\",\n",
    "        \"493\",\n",
    "        \"546\",\n",
    "        \"369\",\n",
    "        \"414\",\n",
    "        \"420\",\n",
    "        \"634\",\n",
    "        \"508\",\n",
    "        \"263\",\n",
    "        \"478\",\n",
    "        \"754\",\n",
    "        \"447\",\n",
    "        \"611\",\n",
    "        \"877\",\n",
    "        \"904\",\n",
    "        \"772\",\n",
    "        \"530\",\n",
    "        \"576\",\n",
    "        \"1,259\",\n",
    "        \"1,098\",\n",
    "        \"509\"],\n",
    "      \"General_Administration\": [\n",
    "        \"63\",\n",
    "        \"142\",\n",
    "        \"101\",\n",
    "        \"252\",\n",
    "        \"265\",\n",
    "        \"102\",\n",
    "        \"97\",\n",
    "        \"129\",\n",
    "        \"190\",\n",
    "        \"78\",\n",
    "        \"298\",\n",
    "        \"139\",\n",
    "        \"235\",\n",
    "        \"115\",\n",
    "        \"222\",\n",
    "        \"185\",\n",
    "        \"95\",\n",
    "        \"223\",\n",
    "        \"98\",\n",
    "        \"186\",\n",
    "        \"332\",\n",
    "        \"136\",\n",
    "        \"246\",\n",
    "        \"116\",\n",
    "        \"276\",\n",
    "        \"274\",\n",
    "        \"179\",\n",
    "        \"210\",\n",
    "        \"342\",\n",
    "        \"183\",\n",
    "        \"305\",\n",
    "        \"223\",\n",
    "        \"324\",\n",
    "        \"388\",\n",
    "        \"335\",\n",
    "        \"536\",\n",
    "        \"53\",\n",
    "        \"453\",\n",
    "        \"518\",\n",
    "        \"183\",\n",
    "        \"393\",\n",
    "        \"125\",\n",
    "        \"495\",\n",
    "        \"182\",\n",
    "        \"204\",\n",
    "        \"309\",\n",
    "        \"386\",\n",
    "        \"389\",\n",
    "        \"367\",\n",
    "        \"256\",\n",
    "        \"1,767\",\n",
    "        \"341\"],\n",
    "      \"School_Administration\": [\n",
    "        \"400\",\n",
    "        \"381\",\n",
    "        \"348\",\n",
    "        \"447\",\n",
    "        \"495\",\n",
    "        \"601\",\n",
    "        \"545\",\n",
    "        \"485\",\n",
    "        \"511\",\n",
    "        \"481\",\n",
    "        \"435\",\n",
    "        \"629\",\n",
    "        \"560\",\n",
    "        \"562\",\n",
    "        \"540\",\n",
    "        \"561\",\n",
    "        \"627\",\n",
    "        \"497\",\n",
    "        \"603\",\n",
    "        \"1,274\",\n",
    "        \"574\",\n",
    "        \"642\",\n",
    "        \"582\",\n",
    "        \"608\",\n",
    "        \"608\",\n",
    "        \"629\",\n",
    "        \"651\",\n",
    "        \"607\",\n",
    "        \"601\",\n",
    "        \"599\",\n",
    "        \"563\",\n",
    "        \"606\",\n",
    "        \"601\",\n",
    "        \"453\",\n",
    "        \"557\",\n",
    "        \"620\",\n",
    "        \"806\",\n",
    "        \"720\",\n",
    "        \"648\",\n",
    "        \"881\",\n",
    "        \"577\",\n",
    "        \"981\",\n",
    "        \"821\",\n",
    "        \"719\",\n",
    "        \"670\",\n",
    "        \"861\",\n",
    "        \"1,191\",\n",
    "        \"1,057\",\n",
    "        \"904\",\n",
    "        \"1,158\",\n",
    "        \"1,636\",\n",
    "        \"767\"],\n",
    "      \"Other\": [\n",
    "        \"1,788\",\n",
    "        \"1,726\",\n",
    "        \"2,323\",\n",
    "        \"2,391\",\n",
    "        \"2,554\",\n",
    "        \"2,319\",\n",
    "        \"2,304\",\n",
    "        \"2,553\",\n",
    "        \"2,259\",\n",
    "        \"3,102\",\n",
    "        \"2,693\",\n",
    "        \"2,655\",\n",
    "        \"2,727\",\n",
    "        \"2,458\",\n",
    "        \"2,522\",\n",
    "        \"2,664\",\n",
    "        \"2,754\",\n",
    "        \"2,899\",\n",
    "        \"2,666\",\n",
    "        \"2,443\",\n",
    "        \"2,748\",\n",
    "        \"2,841\",\n",
    "        \"3,219\",\n",
    "        \"2,799\",\n",
    "        \"2,643\",\n",
    "        \"2,993\",\n",
    "        \"2,614\",\n",
    "        \"2,995\",\n",
    "        \"3,390\",\n",
    "        \"2,855\",\n",
    "        \"3,021\",\n",
    "        \"3,562\",\n",
    "        \"3,117\",\n",
    "        \"2,985\",\n",
    "        \"3,334\",\n",
    "        \"3,496\",\n",
    "        \"3,609\",\n",
    "        \"2,795\",\n",
    "        \"3,275\",\n",
    "        \"3,851\",\n",
    "        \"3,749\",\n",
    "        \"3,392\",\n",
    "        \"3,233\",\n",
    "        \"3,078\",\n",
    "        \"3,384\",\n",
    "        \"4,203\",\n",
    "        \"3,896\",\n",
    "        \"4,214\",\n",
    "        \"4,470\",\n",
    "        \"4,866\",\n",
    "        \"2,859\",\n",
    "        \"4,985\"]\n",
    "}"
   ]
  },
  {
   "cell_type": "code",
   "execution_count": 28,
   "metadata": {},
   "outputs": [],
   "source": [
    "df_money = pd.DataFrame.from_dict(money, orient='columns')"
   ]
  },
  {
   "cell_type": "code",
   "execution_count": 29,
   "metadata": {},
   "outputs": [],
   "source": [
    "df_money['Budget'] = [3] * len(df_money['General_Administration'])\n",
    "\n",
    "for i in range(len(df_money['General_Administration'])):\n",
    "    a = df_money['State'][i].replace(' ','')\n",
    "    df_money.iloc[i,df_money.columns.get_loc('State')] = a\n",
    "    a = str(df_money['General_Administration'][i]).replace(',','')\n",
    "    df_money.iloc[i,df_money.columns.get_loc('General_Administration')] = int(a)\n",
    "    a = str(df_money['Instruction_Employee_Benefits'][i]).replace(',','')\n",
    "    df_money.iloc[i,df_money.columns.get_loc('Instruction_Employee_Benefits')] = int(a)\n",
    "    a = str(df_money['Instruction_Employee_Salaries'][i]).replace(',','')\n",
    "    df_money.iloc[i,df_money.columns.get_loc('Instruction_Employee_Salaries')] = int(a)\n",
    "    a = str(df_money['Instructional_Staff_Support'][i]).replace(',','')\n",
    "    df_money.iloc[i,df_money.columns.get_loc('Instructional_Staff_Support')] = int(a)\n",
    "    a = str(df_money['Pupil_Support'][i]).replace(',','')\n",
    "    df_money.iloc[i,df_money.columns.get_loc('Pupil_Support')] = int(a)\n",
    "    a = str(df_money['Other'][i]).replace(',','')\n",
    "    df_money.iloc[i,df_money.columns.get_loc('Other')] = int(a)\n",
    "    a = str(df_money['School_Administration'][i]).replace(',','')\n",
    "    df_money.iloc[i,df_money.columns.get_loc('School_Administration')] = int(a)\n",
    "    \n",
    "    \n",
    "    b = (df_money['General_Administration'][i]+df_money['Instruction_Employee_Benefits'][i]+\n",
    "        df_money['Instruction_Employee_Salaries'][i]+df_money['Instructional_Staff_Support'][i]+\n",
    "        df_money['Pupil_Support'][i]+df_money['Other'][i]+\n",
    "        df_money['School_Administration'][i])\n",
    "    \n",
    "    df_money.iloc[i,df_money.columns.get_loc('Budget')] = int(b)\n",
    "    "
   ]
  },
  {
   "cell_type": "markdown",
   "metadata": {},
   "source": [
    "##### Education budget data frame"
   ]
  },
  {
   "cell_type": "code",
   "execution_count": 30,
   "metadata": {},
   "outputs": [
    {
     "data": {
      "text/html": [
       "<div>\n",
       "<style scoped>\n",
       "    .dataframe tbody tr th:only-of-type {\n",
       "        vertical-align: middle;\n",
       "    }\n",
       "\n",
       "    .dataframe tbody tr th {\n",
       "        vertical-align: top;\n",
       "    }\n",
       "\n",
       "    .dataframe thead th {\n",
       "        text-align: right;\n",
       "    }\n",
       "</style>\n",
       "<table border=\"1\" class=\"dataframe\">\n",
       "  <thead>\n",
       "    <tr style=\"text-align: right;\">\n",
       "      <th></th>\n",
       "      <th>General_Administration</th>\n",
       "      <th>Instruction_Employee_Benefits</th>\n",
       "      <th>Instruction_Employee_Salaries</th>\n",
       "      <th>Instructional_Staff_Support</th>\n",
       "      <th>Other</th>\n",
       "      <th>Pupil_Support</th>\n",
       "      <th>School_Administration</th>\n",
       "      <th>State</th>\n",
       "      <th>Budget</th>\n",
       "    </tr>\n",
       "  </thead>\n",
       "  <tbody>\n",
       "    <tr>\n",
       "      <th>10</th>\n",
       "      <td>298</td>\n",
       "      <td>1050</td>\n",
       "      <td>3592</td>\n",
       "      <td>335</td>\n",
       "      <td>2693</td>\n",
       "      <td>479</td>\n",
       "      <td>435</td>\n",
       "      <td>SouthDakota</td>\n",
       "      <td>8882</td>\n",
       "    </tr>\n",
       "    <tr>\n",
       "      <th>3</th>\n",
       "      <td>252</td>\n",
       "      <td>977</td>\n",
       "      <td>2883</td>\n",
       "      <td>330</td>\n",
       "      <td>2391</td>\n",
       "      <td>548</td>\n",
       "      <td>447</td>\n",
       "      <td>Oklahoma</td>\n",
       "      <td>7828</td>\n",
       "    </tr>\n",
       "    <tr>\n",
       "      <th>18</th>\n",
       "      <td>98</td>\n",
       "      <td>1279</td>\n",
       "      <td>3737</td>\n",
       "      <td>583</td>\n",
       "      <td>2666</td>\n",
       "      <td>766</td>\n",
       "      <td>603</td>\n",
       "      <td>SouthCarolina</td>\n",
       "      <td>9732</td>\n",
       "    </tr>\n",
       "    <tr>\n",
       "      <th>31</th>\n",
       "      <td>223</td>\n",
       "      <td>1991</td>\n",
       "      <td>3862</td>\n",
       "      <td>458</td>\n",
       "      <td>3562</td>\n",
       "      <td>558</td>\n",
       "      <td>606</td>\n",
       "      <td>WestVirginia</td>\n",
       "      <td>11260</td>\n",
       "    </tr>\n",
       "    <tr>\n",
       "      <th>38</th>\n",
       "      <td>518</td>\n",
       "      <td>2504</td>\n",
       "      <td>4747</td>\n",
       "      <td>508</td>\n",
       "      <td>3275</td>\n",
       "      <td>877</td>\n",
       "      <td>648</td>\n",
       "      <td>Illinois</td>\n",
       "      <td>13077</td>\n",
       "    </tr>\n",
       "  </tbody>\n",
       "</table>\n",
       "</div>"
      ],
      "text/plain": [
       "    General_Administration  Instruction_Employee_Benefits  \\\n",
       "10                     298                           1050   \n",
       "3                      252                            977   \n",
       "18                      98                           1279   \n",
       "31                     223                           1991   \n",
       "38                     518                           2504   \n",
       "\n",
       "    Instruction_Employee_Salaries  Instructional_Staff_Support  Other  \\\n",
       "10                           3592                          335   2693   \n",
       "3                            2883                          330   2391   \n",
       "18                           3737                          583   2666   \n",
       "31                           3862                          458   3562   \n",
       "38                           4747                          508   3275   \n",
       "\n",
       "    Pupil_Support  School_Administration          State  Budget  \n",
       "10            479                    435    SouthDakota    8882  \n",
       "3             548                    447       Oklahoma    7828  \n",
       "18            766                    603  SouthCarolina    9732  \n",
       "31            558                    606   WestVirginia   11260  \n",
       "38            877                    648       Illinois   13077  "
      ]
     },
     "execution_count": 30,
     "metadata": {},
     "output_type": "execute_result"
    }
   ],
   "source": [
    "df_money.sample(5)"
   ]
  },
  {
   "cell_type": "markdown",
   "metadata": {},
   "source": [
    "_____\n",
    "### Days of instuction data\n",
    "\n",
    "http://www.ecs.org/clearinghouse/95/05/9505.pdf\n",
    "Pdf so manual entry was used. Also took some deciphering"
   ]
  },
  {
   "cell_type": "code",
   "execution_count": 31,
   "metadata": {},
   "outputs": [],
   "source": [
    "days_instruction_dict = {\n",
    "'Alabama':180,\n",
    "'Alaska':170,\n",
    "'Arizona':180,\n",
    "'Arkansas':178,\n",
    "'California':180,\n",
    "'Colorado':160,\n",
    "'Connecticut':180,\n",
    "'Delaware':181,\n",
    "'DistrictofColumbia':178,\n",
    "'Florida':180,\n",
    "'Georgia':180,\n",
    "'Hawaii':180,\n",
    "'Idaho':173,\n",
    "'Illinois':176,\n",
    "'Indiana':180,\n",
    "'Iowa':180,\n",
    "'Kansas':186,\n",
    "'Kentucky':175,\n",
    "'Louisiana':178,\n",
    "'Maine':175,\n",
    "'Maryland':180,\n",
    "'Massachusetts':180,\n",
    "'Michigan':170,\n",
    "'Minnesota':165,\n",
    "'Mississippi':180,\n",
    "'Missouri':142,\n",
    "'Montana':174,\n",
    "'Nebraska':176,\n",
    "'Nevada':180,\n",
    "'NewHampshire':180,\n",
    "'NewJersey':180,\n",
    "'NewMexico':180,\n",
    "'NewYork':180,\n",
    "'NorthCarolina':180,\n",
    "'NorthDakota':175,\n",
    "'Ohio':182,\n",
    "'Oklahoma':180,\n",
    "'Oregon':175,\n",
    "'Pennsylvania':180,\n",
    "'RhodeIsland':180,\n",
    "'SouthCarolina':180,\n",
    "'SouthDakota':180,\n",
    "'Tennessee':180,\n",
    "'Texas':180,\n",
    "'Utah':180,\n",
    "'Vermont':175,\n",
    "'Virginia':180,\n",
    "'Washington':180,\n",
    "'WestVirginia':180,\n",
    "'Wisconsin':180,\n",
    "'Wyoming':180}"
   ]
  },
  {
   "cell_type": "code",
   "execution_count": 32,
   "metadata": {},
   "outputs": [],
   "source": [
    "df_instruction = pd.DataFrame.from_dict(days_instruction_dict, orient='index')\n",
    "df_instruction.rename(index=str, columns={0: 'Days_of_instruction'}, inplace = True)\n",
    "df_instruction = df_instruction.reset_index(level=0)\n",
    "df_instruction.rename(columns = {'index' : 'State'}, inplace = True)"
   ]
  },
  {
   "cell_type": "markdown",
   "metadata": {},
   "source": [
    "##### Days of instruction data frame"
   ]
  },
  {
   "cell_type": "code",
   "execution_count": 33,
   "metadata": {},
   "outputs": [
    {
     "data": {
      "text/html": [
       "<div>\n",
       "<style scoped>\n",
       "    .dataframe tbody tr th:only-of-type {\n",
       "        vertical-align: middle;\n",
       "    }\n",
       "\n",
       "    .dataframe tbody tr th {\n",
       "        vertical-align: top;\n",
       "    }\n",
       "\n",
       "    .dataframe thead th {\n",
       "        text-align: right;\n",
       "    }\n",
       "</style>\n",
       "<table border=\"1\" class=\"dataframe\">\n",
       "  <thead>\n",
       "    <tr style=\"text-align: right;\">\n",
       "      <th></th>\n",
       "      <th>State</th>\n",
       "      <th>Days_of_instruction</th>\n",
       "    </tr>\n",
       "  </thead>\n",
       "  <tbody>\n",
       "    <tr>\n",
       "      <th>41</th>\n",
       "      <td>SouthDakota</td>\n",
       "      <td>180</td>\n",
       "    </tr>\n",
       "    <tr>\n",
       "      <th>11</th>\n",
       "      <td>Hawaii</td>\n",
       "      <td>180</td>\n",
       "    </tr>\n",
       "    <tr>\n",
       "      <th>10</th>\n",
       "      <td>Georgia</td>\n",
       "      <td>180</td>\n",
       "    </tr>\n",
       "    <tr>\n",
       "      <th>16</th>\n",
       "      <td>Kansas</td>\n",
       "      <td>186</td>\n",
       "    </tr>\n",
       "    <tr>\n",
       "      <th>40</th>\n",
       "      <td>SouthCarolina</td>\n",
       "      <td>180</td>\n",
       "    </tr>\n",
       "  </tbody>\n",
       "</table>\n",
       "</div>"
      ],
      "text/plain": [
       "            State  Days_of_instruction\n",
       "41    SouthDakota                  180\n",
       "11         Hawaii                  180\n",
       "10        Georgia                  180\n",
       "16         Kansas                  186\n",
       "40  SouthCarolina                  180"
      ]
     },
     "execution_count": 33,
     "metadata": {},
     "output_type": "execute_result"
    }
   ],
   "source": [
    "df_instruction.sample(5)"
   ]
  },
  {
   "cell_type": "markdown",
   "metadata": {},
   "source": [
    "_____\n",
    "\n",
    "### Incarceration data"
   ]
  },
  {
   "cell_type": "code",
   "execution_count": 34,
   "metadata": {},
   "outputs": [],
   "source": [
    "url = 'https://en.wikipedia.org/wiki/List_of_U.S._states_by_incarceration_and_correctional_supervision_rate'\n",
    "response = requests.get(url)\n",
    "page = response.text\n",
    "soup = BeautifulSoup(page,\"lxml\")"
   ]
  },
  {
   "cell_type": "code",
   "execution_count": 35,
   "metadata": {},
   "outputs": [],
   "source": [
    "incarceration_dict = {}\n",
    "\n",
    "for i in range(51):\n",
    "    state = soup.find(class_='mw-parser-output').find_all('td')[53+4*i].text\n",
    "    state = state.replace(' ','')\n",
    "    number = soup.find(class_='mw-parser-output').find_all('td')[55+4*i].text\n",
    "    number = int(number.replace(',',''))\n",
    "    incarceration_dict[state] = [number]"
   ]
  },
  {
   "cell_type": "code",
   "execution_count": 36,
   "metadata": {},
   "outputs": [],
   "source": [
    "df_incarceration = pd.DataFrame.from_dict(incarceration_dict, orient='index')\n",
    "df_incarceration.rename(index=str, columns={0: 'Number_of_incarceration'}, inplace = True)\n",
    "df_incarceration = df_incarceration.reset_index(level=0)\n",
    "df_incarceration.rename(columns = {'index' : 'State'}, inplace = True)"
   ]
  },
  {
   "cell_type": "markdown",
   "metadata": {},
   "source": [
    "##### Number of incarcerated per 100,000"
   ]
  },
  {
   "cell_type": "code",
   "execution_count": 37,
   "metadata": {},
   "outputs": [
    {
     "data": {
      "text/html": [
       "<div>\n",
       "<style scoped>\n",
       "    .dataframe tbody tr th:only-of-type {\n",
       "        vertical-align: middle;\n",
       "    }\n",
       "\n",
       "    .dataframe tbody tr th {\n",
       "        vertical-align: top;\n",
       "    }\n",
       "\n",
       "    .dataframe thead th {\n",
       "        text-align: right;\n",
       "    }\n",
       "</style>\n",
       "<table border=\"1\" class=\"dataframe\">\n",
       "  <thead>\n",
       "    <tr style=\"text-align: right;\">\n",
       "      <th></th>\n",
       "      <th>State</th>\n",
       "      <th>Number_of_incarceration</th>\n",
       "    </tr>\n",
       "  </thead>\n",
       "  <tbody>\n",
       "    <tr>\n",
       "      <th>19</th>\n",
       "      <td>Maine</td>\n",
       "      <td>350</td>\n",
       "    </tr>\n",
       "    <tr>\n",
       "      <th>47</th>\n",
       "      <td>Washington</td>\n",
       "      <td>550</td>\n",
       "    </tr>\n",
       "    <tr>\n",
       "      <th>28</th>\n",
       "      <td>Nevada</td>\n",
       "      <td>930</td>\n",
       "    </tr>\n",
       "    <tr>\n",
       "      <th>39</th>\n",
       "      <td>RhodeIsland</td>\n",
       "      <td>400</td>\n",
       "    </tr>\n",
       "    <tr>\n",
       "      <th>24</th>\n",
       "      <td>Mississippi</td>\n",
       "      <td>1270</td>\n",
       "    </tr>\n",
       "  </tbody>\n",
       "</table>\n",
       "</div>"
      ],
      "text/plain": [
       "          State  Number_of_incarceration\n",
       "19        Maine                      350\n",
       "47   Washington                      550\n",
       "28       Nevada                      930\n",
       "39  RhodeIsland                      400\n",
       "24  Mississippi                     1270"
      ]
     },
     "execution_count": 37,
     "metadata": {},
     "output_type": "execute_result"
    }
   ],
   "source": [
    "df_incarceration.sample(5)"
   ]
  },
  {
   "cell_type": "markdown",
   "metadata": {},
   "source": [
    "___\n",
    "### Mental illness rate"
   ]
  },
  {
   "cell_type": "code",
   "execution_count": 38,
   "metadata": {},
   "outputs": [],
   "source": [
    "url = 'http://oas.samhsa.gov/2k11/078/WEB_SR_078.htm'\n",
    "response = requests.get(url)\n",
    "page = response.text\n",
    "soup = BeautifulSoup(page,\"lxml\")"
   ]
  },
  {
   "cell_type": "code",
   "execution_count": 39,
   "metadata": {},
   "outputs": [],
   "source": [
    "mental_dict = {}\n",
    "\n",
    "a = \"A table comparing serious mental illness (SMI) in past year among persons aged 18 or older, by location: percentages, annual averages based on 2008 and 2009 NSDUHs.\"\n",
    "b = \"A table comparing any mental illness in past year among persons aged 18 or older, by location: percentages, annual averages based on 2008 and 2009 NSDUHs.\"\n",
    "for i in range(51):\n",
    "    state = soup.find(summary=a).find_all('td')[3+3*i].text\n",
    "    state = state.replace(' ','')\n",
    "    number_SMI = soup.find(summary=a).find_all('td')[4+3*i].text\n",
    "    number_SMI = float(number_SMI.replace('%',''))\n",
    "    number_AMI = soup.find(summary=b).find_all('td')[4+3*i].text\n",
    "    number_AMI = float(number_AMI.replace('%',''))\n",
    "    mental_dict[state] = [number_SMI, number_AMI]"
   ]
  },
  {
   "cell_type": "code",
   "execution_count": 40,
   "metadata": {},
   "outputs": [],
   "source": [
    "df_mental_health = pd.DataFrame.from_dict(mental_dict, orient='index')\n",
    "df_mental_health.rename(index=str, columns={0: 'Percent_SMI', 1: 'Percent_AMI'}, inplace = True)\n",
    "df_mental_health = df_mental_health.reset_index(level=0)\n",
    "df_mental_health.rename(columns = {'index' : 'State'}, inplace = True)"
   ]
  },
  {
   "cell_type": "markdown",
   "metadata": {},
   "source": [
    "##### Mental illness rate data frame"
   ]
  },
  {
   "cell_type": "code",
   "execution_count": 41,
   "metadata": {},
   "outputs": [
    {
     "data": {
      "text/html": [
       "<div>\n",
       "<style scoped>\n",
       "    .dataframe tbody tr th:only-of-type {\n",
       "        vertical-align: middle;\n",
       "    }\n",
       "\n",
       "    .dataframe tbody tr th {\n",
       "        vertical-align: top;\n",
       "    }\n",
       "\n",
       "    .dataframe thead th {\n",
       "        text-align: right;\n",
       "    }\n",
       "</style>\n",
       "<table border=\"1\" class=\"dataframe\">\n",
       "  <thead>\n",
       "    <tr style=\"text-align: right;\">\n",
       "      <th></th>\n",
       "      <th>State</th>\n",
       "      <th>Percent_SMI</th>\n",
       "      <th>Percent_AMI</th>\n",
       "    </tr>\n",
       "  </thead>\n",
       "  <tbody>\n",
       "    <tr>\n",
       "      <th>17</th>\n",
       "      <td>Kentucky</td>\n",
       "      <td>5.4</td>\n",
       "      <td>20.0</td>\n",
       "    </tr>\n",
       "    <tr>\n",
       "      <th>35</th>\n",
       "      <td>Ohio</td>\n",
       "      <td>5.2</td>\n",
       "      <td>20.4</td>\n",
       "    </tr>\n",
       "    <tr>\n",
       "      <th>8</th>\n",
       "      <td>DistrictofColumbia</td>\n",
       "      <td>3.8</td>\n",
       "      <td>21.0</td>\n",
       "    </tr>\n",
       "    <tr>\n",
       "      <th>41</th>\n",
       "      <td>SouthDakota</td>\n",
       "      <td>3.5</td>\n",
       "      <td>18.1</td>\n",
       "    </tr>\n",
       "    <tr>\n",
       "      <th>7</th>\n",
       "      <td>Delaware</td>\n",
       "      <td>4.4</td>\n",
       "      <td>19.6</td>\n",
       "    </tr>\n",
       "  </tbody>\n",
       "</table>\n",
       "</div>"
      ],
      "text/plain": [
       "                 State  Percent_SMI  Percent_AMI\n",
       "17            Kentucky          5.4         20.0\n",
       "35                Ohio          5.2         20.4\n",
       "8   DistrictofColumbia          3.8         21.0\n",
       "41         SouthDakota          3.5         18.1\n",
       "7             Delaware          4.4         19.6"
      ]
     },
     "execution_count": 41,
     "metadata": {},
     "output_type": "execute_result"
    }
   ],
   "source": [
    "df_mental_health.sample(5)"
   ]
  },
  {
   "cell_type": "markdown",
   "metadata": {},
   "source": [
    "____\n",
    "### Married parent data\n",
    "https://www.nytimes.com/2015/06/13/upshot/red-vs-blue-america-on-marriage.html?rref=upshot&smid=tw-upshotnyt"
   ]
  },
  {
   "cell_type": "code",
   "execution_count": 42,
   "metadata": {},
   "outputs": [],
   "source": [
    "married_dict = {\n",
    "'Alabama':38,\n",
    "'Alaska':45,\n",
    "'Arizona':41,\n",
    "'Arkansas':37,\n",
    "'California':47,\n",
    "'Colorado':48,\n",
    "'Connecticut':51,\n",
    "'Delaware':42,\n",
    "'DistrictofColumbia':46,\n",
    "'Florida':41,\n",
    "'Georgia':39,\n",
    "'Hawaii':50,\n",
    "'Idaho':51,\n",
    "'Illinois':49,\n",
    "'Indiana':44,\n",
    "'Iowa':51,\n",
    "'Kansas':49,\n",
    "'Kentucky':42,\n",
    "'Louisiana':36,\n",
    "'Maine':45,\n",
    "'Maryland':46,\n",
    "'Massachusetts':52,\n",
    "'Michigan':46,\n",
    "'Minnesota':56,\n",
    "'Mississippi':32,\n",
    "'Missouri':43,\n",
    "'Montana':48,\n",
    "'Nebraska':55,\n",
    "'Nevada':39,\n",
    "'NewHampshire':53,\n",
    "'NewJersey':54,\n",
    "'NewMexico':39,\n",
    "'NewYork':48,\n",
    "'NorthCarolina':42,\n",
    "'NorthDakota':49,\n",
    "'Ohio':45,\n",
    "'Oklahoma':39,\n",
    "'Oregon':46,\n",
    "'Pennsylvania':49,\n",
    "'RhodeIsland':44,\n",
    "'SouthCarolina':39,\n",
    "'SouthDakota':49,\n",
    "'Tennessee':40,\n",
    "'Texas':45,\n",
    "'Utah':57,\n",
    "'Vermont':49,\n",
    "'Virginia':48,\n",
    "'Washington':48,\n",
    "'WestVirginia':41,\n",
    "'Wisconsin':50,\n",
    "'Wyoming':46}"
   ]
  },
  {
   "cell_type": "code",
   "execution_count": 43,
   "metadata": {},
   "outputs": [],
   "source": [
    "df_married = pd.DataFrame.from_dict(married_dict, orient='index')\n",
    "df_married.rename(index=str, columns={0: 'Percent_married'}, inplace = True)\n",
    "df_married = df_married.reset_index(level=0)\n",
    "df_married.rename(columns = {'index' : 'State'}, inplace = True)"
   ]
  },
  {
   "cell_type": "markdown",
   "metadata": {},
   "source": [
    "##### Married percent data frame"
   ]
  },
  {
   "cell_type": "code",
   "execution_count": 44,
   "metadata": {},
   "outputs": [
    {
     "data": {
      "text/html": [
       "<div>\n",
       "<style scoped>\n",
       "    .dataframe tbody tr th:only-of-type {\n",
       "        vertical-align: middle;\n",
       "    }\n",
       "\n",
       "    .dataframe tbody tr th {\n",
       "        vertical-align: top;\n",
       "    }\n",
       "\n",
       "    .dataframe thead th {\n",
       "        text-align: right;\n",
       "    }\n",
       "</style>\n",
       "<table border=\"1\" class=\"dataframe\">\n",
       "  <thead>\n",
       "    <tr style=\"text-align: right;\">\n",
       "      <th></th>\n",
       "      <th>State</th>\n",
       "      <th>Percent_married</th>\n",
       "    </tr>\n",
       "  </thead>\n",
       "  <tbody>\n",
       "    <tr>\n",
       "      <th>43</th>\n",
       "      <td>Texas</td>\n",
       "      <td>45</td>\n",
       "    </tr>\n",
       "    <tr>\n",
       "      <th>15</th>\n",
       "      <td>Iowa</td>\n",
       "      <td>51</td>\n",
       "    </tr>\n",
       "    <tr>\n",
       "      <th>33</th>\n",
       "      <td>NorthCarolina</td>\n",
       "      <td>42</td>\n",
       "    </tr>\n",
       "    <tr>\n",
       "      <th>41</th>\n",
       "      <td>SouthDakota</td>\n",
       "      <td>49</td>\n",
       "    </tr>\n",
       "    <tr>\n",
       "      <th>45</th>\n",
       "      <td>Vermont</td>\n",
       "      <td>49</td>\n",
       "    </tr>\n",
       "  </tbody>\n",
       "</table>\n",
       "</div>"
      ],
      "text/plain": [
       "            State  Percent_married\n",
       "43          Texas               45\n",
       "15           Iowa               51\n",
       "33  NorthCarolina               42\n",
       "41    SouthDakota               49\n",
       "45        Vermont               49"
      ]
     },
     "execution_count": 44,
     "metadata": {},
     "output_type": "execute_result"
    }
   ],
   "source": [
    "df_married.sample(5)"
   ]
  },
  {
   "cell_type": "markdown",
   "metadata": {},
   "source": [
    "____\n",
    "### Poverty rate"
   ]
  },
  {
   "cell_type": "code",
   "execution_count": 45,
   "metadata": {},
   "outputs": [],
   "source": [
    "url = 'https://en.wikipedia.org/wiki/List_of_U.S._states_and_territories_by_poverty_rate'\n",
    "response = requests.get(url)\n",
    "page = response.text\n",
    "soup = BeautifulSoup(page,\"lxml\")"
   ]
  },
  {
   "cell_type": "code",
   "execution_count": 46,
   "metadata": {},
   "outputs": [],
   "source": [
    "poverty_dict = {}\n",
    "\n",
    "for i in range(51):\n",
    "    state = soup.find(class_='mw-content-ltr').find_all('td')[13+6*i].text\n",
    "    state = state.replace(' ','').replace('\\xa0','')\n",
    "    poverty = soup.find(class_='mw-content-ltr').find_all('td')[14+6*i].text\n",
    "    poverty = float(poverty.replace('%',''))\n",
    "    poverty_dict[state] = [poverty]    "
   ]
  },
  {
   "cell_type": "code",
   "execution_count": 47,
   "metadata": {},
   "outputs": [],
   "source": [
    "df_poverty = pd.DataFrame.from_dict(poverty_dict, orient='index')\n",
    "df_poverty.rename(index=str, columns={0: 'Percent_poverty'}, inplace = True)\n",
    "df_poverty = df_poverty.reset_index(level=0)\n",
    "df_poverty.rename(columns = {'index' : 'State'}, inplace = True)"
   ]
  },
  {
   "cell_type": "markdown",
   "metadata": {},
   "source": [
    "##### Percent poverty data frame"
   ]
  },
  {
   "cell_type": "code",
   "execution_count": 48,
   "metadata": {},
   "outputs": [
    {
     "data": {
      "text/html": [
       "<div>\n",
       "<style scoped>\n",
       "    .dataframe tbody tr th:only-of-type {\n",
       "        vertical-align: middle;\n",
       "    }\n",
       "\n",
       "    .dataframe tbody tr th {\n",
       "        vertical-align: top;\n",
       "    }\n",
       "\n",
       "    .dataframe thead th {\n",
       "        text-align: right;\n",
       "    }\n",
       "</style>\n",
       "<table border=\"1\" class=\"dataframe\">\n",
       "  <thead>\n",
       "    <tr style=\"text-align: right;\">\n",
       "      <th></th>\n",
       "      <th>State</th>\n",
       "      <th>Percent_poverty</th>\n",
       "    </tr>\n",
       "  </thead>\n",
       "  <tbody>\n",
       "    <tr>\n",
       "      <th>12</th>\n",
       "      <td>Colorado</td>\n",
       "      <td>12.1</td>\n",
       "    </tr>\n",
       "    <tr>\n",
       "      <th>42</th>\n",
       "      <td>WestVirginia</td>\n",
       "      <td>18.3</td>\n",
       "    </tr>\n",
       "    <tr>\n",
       "      <th>2</th>\n",
       "      <td>Wyoming</td>\n",
       "      <td>10.6</td>\n",
       "    </tr>\n",
       "    <tr>\n",
       "      <th>17</th>\n",
       "      <td>Wisconsin</td>\n",
       "      <td>13.2</td>\n",
       "    </tr>\n",
       "    <tr>\n",
       "      <th>22</th>\n",
       "      <td>SouthDakota</td>\n",
       "      <td>14.1</td>\n",
       "    </tr>\n",
       "  </tbody>\n",
       "</table>\n",
       "</div>"
      ],
      "text/plain": [
       "           State  Percent_poverty\n",
       "12      Colorado             12.1\n",
       "42  WestVirginia             18.3\n",
       "2        Wyoming             10.6\n",
       "17     Wisconsin             13.2\n",
       "22   SouthDakota             14.1"
      ]
     },
     "execution_count": 48,
     "metadata": {},
     "output_type": "execute_result"
    }
   ],
   "source": [
    "df_poverty.sample(5)"
   ]
  },
  {
   "cell_type": "markdown",
   "metadata": {},
   "source": [
    "___ \n",
    "### Health care ranking"
   ]
  },
  {
   "cell_type": "code",
   "execution_count": 49,
   "metadata": {},
   "outputs": [],
   "source": [
    "url = 'https://wallethub.com/edu/states-with-best-health-care/23457/'\n",
    "response = requests.get(url)\n",
    "page = response.text\n",
    "soup = BeautifulSoup(page,\"lxml\")"
   ]
  },
  {
   "cell_type": "code",
   "execution_count": 50,
   "metadata": {},
   "outputs": [],
   "source": [
    "healthcare_dict = {}\n",
    "\n",
    "for i in range(51):\n",
    "    state = soup.find(class_=\"container content\").find_all('td')[1+6*i].text\n",
    "    state = state.replace(' ','')\n",
    "    Overall_score_H = soup.find(class_=\"container content\").find_all('td')[2+6*i].text\n",
    "    Overall_score_H = float(Overall_score_H)\n",
    "    Cost_H = soup.find(class_=\"container content\").find_all('td')[3+6*i].text\n",
    "    Cost_H = int(Cost_H)\n",
    "    Access_H = soup.find(class_=\"container content\").find_all('td')[4+6*i].text\n",
    "    Access_H = int(Access_H)\n",
    "    Outcome_H = soup.find(class_=\"container content\").find_all('td')[5+6*i].text\n",
    "    Outcome_H = int(Outcome_H)\n",
    "    healthcare_dict[state] = [Overall_score_H,Cost_H,Access_H,Outcome_H]"
   ]
  },
  {
   "cell_type": "code",
   "execution_count": 51,
   "metadata": {},
   "outputs": [],
   "source": [
    "df_healthcare = pd.DataFrame.from_dict(healthcare_dict, orient='index')\n",
    "df_healthcare.rename(index=str, columns={0: 'Overall_score_H', 1:'Cost_h_rank', 2:'Access_h_rank',\n",
    "                                        3:'Outcome_h_rank'}, inplace = True)\n",
    "df_healthcare = df_healthcare.reset_index(level=0)\n",
    "df_healthcare.rename(columns = {'index' : 'State'}, inplace = True)"
   ]
  },
  {
   "cell_type": "markdown",
   "metadata": {},
   "source": [
    "##### Healthcare data frame"
   ]
  },
  {
   "cell_type": "code",
   "execution_count": 52,
   "metadata": {},
   "outputs": [
    {
     "data": {
      "text/html": [
       "<div>\n",
       "<style scoped>\n",
       "    .dataframe tbody tr th:only-of-type {\n",
       "        vertical-align: middle;\n",
       "    }\n",
       "\n",
       "    .dataframe tbody tr th {\n",
       "        vertical-align: top;\n",
       "    }\n",
       "\n",
       "    .dataframe thead th {\n",
       "        text-align: right;\n",
       "    }\n",
       "</style>\n",
       "<table border=\"1\" class=\"dataframe\">\n",
       "  <thead>\n",
       "    <tr style=\"text-align: right;\">\n",
       "      <th></th>\n",
       "      <th>State</th>\n",
       "      <th>Overall_score_H</th>\n",
       "      <th>Cost_h_rank</th>\n",
       "      <th>Access_h_rank</th>\n",
       "      <th>Outcome_h_rank</th>\n",
       "    </tr>\n",
       "  </thead>\n",
       "  <tbody>\n",
       "    <tr>\n",
       "      <th>26</th>\n",
       "      <td>Michigan</td>\n",
       "      <td>55.82</td>\n",
       "      <td>19</td>\n",
       "      <td>12</td>\n",
       "      <td>39</td>\n",
       "    </tr>\n",
       "    <tr>\n",
       "      <th>12</th>\n",
       "      <td>Colorado</td>\n",
       "      <td>62.62</td>\n",
       "      <td>23</td>\n",
       "      <td>20</td>\n",
       "      <td>4</td>\n",
       "    </tr>\n",
       "    <tr>\n",
       "      <th>18</th>\n",
       "      <td>Illinois</td>\n",
       "      <td>58.51</td>\n",
       "      <td>10</td>\n",
       "      <td>24</td>\n",
       "      <td>29</td>\n",
       "    </tr>\n",
       "    <tr>\n",
       "      <th>15</th>\n",
       "      <td>NorthDakota</td>\n",
       "      <td>61.05</td>\n",
       "      <td>12</td>\n",
       "      <td>21</td>\n",
       "      <td>18</td>\n",
       "    </tr>\n",
       "    <tr>\n",
       "      <th>47</th>\n",
       "      <td>Arkansas</td>\n",
       "      <td>42.82</td>\n",
       "      <td>42</td>\n",
       "      <td>34</td>\n",
       "      <td>49</td>\n",
       "    </tr>\n",
       "  </tbody>\n",
       "</table>\n",
       "</div>"
      ],
      "text/plain": [
       "          State  Overall_score_H  Cost_h_rank  Access_h_rank  Outcome_h_rank\n",
       "26     Michigan            55.82           19             12              39\n",
       "12     Colorado            62.62           23             20               4\n",
       "18     Illinois            58.51           10             24              29\n",
       "15  NorthDakota            61.05           12             21              18\n",
       "47     Arkansas            42.82           42             34              49"
      ]
     },
     "execution_count": 52,
     "metadata": {},
     "output_type": "execute_result"
    }
   ],
   "source": [
    "df_healthcare.sample(5)"
   ]
  },
  {
   "cell_type": "markdown",
   "metadata": {},
   "source": [
    "____\n",
    "\n",
    "### Testing relationships\n",
    "\n",
    "#### Salary vs Rank"
   ]
  },
  {
   "cell_type": "code",
   "execution_count": 53,
   "metadata": {},
   "outputs": [
    {
     "data": {
      "text/html": [
       "<div>\n",
       "<style scoped>\n",
       "    .dataframe tbody tr th:only-of-type {\n",
       "        vertical-align: middle;\n",
       "    }\n",
       "\n",
       "    .dataframe tbody tr th {\n",
       "        vertical-align: top;\n",
       "    }\n",
       "\n",
       "    .dataframe thead th {\n",
       "        text-align: right;\n",
       "    }\n",
       "</style>\n",
       "<table border=\"1\" class=\"dataframe\">\n",
       "  <thead>\n",
       "    <tr style=\"text-align: right;\">\n",
       "      <th></th>\n",
       "      <th>State</th>\n",
       "      <th>Overall_score</th>\n",
       "      <th>Quality_rank</th>\n",
       "      <th>Safety_rank</th>\n",
       "      <th>Starting_salary</th>\n",
       "      <th>Salary</th>\n",
       "    </tr>\n",
       "  </thead>\n",
       "  <tbody>\n",
       "    <tr>\n",
       "      <th>0</th>\n",
       "      <td>Massachusetts</td>\n",
       "      <td>78.16</td>\n",
       "      <td>1</td>\n",
       "      <td>1</td>\n",
       "      <td>44726</td>\n",
       "      <td>77804</td>\n",
       "    </tr>\n",
       "    <tr>\n",
       "      <th>1</th>\n",
       "      <td>NewJersey</td>\n",
       "      <td>66.92</td>\n",
       "      <td>2</td>\n",
       "      <td>15</td>\n",
       "      <td>51179</td>\n",
       "      <td>69623</td>\n",
       "    </tr>\n",
       "    <tr>\n",
       "      <th>2</th>\n",
       "      <td>NewHampshire</td>\n",
       "      <td>64.65</td>\n",
       "      <td>4</td>\n",
       "      <td>14</td>\n",
       "      <td>36845</td>\n",
       "      <td>57253</td>\n",
       "    </tr>\n",
       "    <tr>\n",
       "      <th>3</th>\n",
       "      <td>Wisconsin</td>\n",
       "      <td>64.25</td>\n",
       "      <td>6</td>\n",
       "      <td>7</td>\n",
       "      <td>36983</td>\n",
       "      <td>54998</td>\n",
       "    </tr>\n",
       "    <tr>\n",
       "      <th>4</th>\n",
       "      <td>Vermont</td>\n",
       "      <td>64.09</td>\n",
       "      <td>5</td>\n",
       "      <td>11</td>\n",
       "      <td>38483</td>\n",
       "      <td>60187</td>\n",
       "    </tr>\n",
       "  </tbody>\n",
       "</table>\n",
       "</div>"
      ],
      "text/plain": [
       "           State  Overall_score  Quality_rank  Safety_rank  Starting_salary  \\\n",
       "0  Massachusetts          78.16             1            1            44726   \n",
       "1      NewJersey          66.92             2           15            51179   \n",
       "2   NewHampshire          64.65             4           14            36845   \n",
       "3      Wisconsin          64.25             6            7            36983   \n",
       "4        Vermont          64.09             5           11            38483   \n",
       "\n",
       "   Salary  \n",
       "0   77804  \n",
       "1   69623  \n",
       "2   57253  \n",
       "3   54998  \n",
       "4   60187  "
      ]
     },
     "execution_count": 53,
     "metadata": {},
     "output_type": "execute_result"
    }
   ],
   "source": [
    "result = pd.merge(df_rank,df_salary,on='State')\n",
    "result.head()"
   ]
  },
  {
   "cell_type": "code",
   "execution_count": 54,
   "metadata": {},
   "outputs": [],
   "source": [
    "result4 = pd.merge(result,df_income,on='State')"
   ]
  },
  {
   "cell_type": "code",
   "execution_count": 55,
   "metadata": {},
   "outputs": [],
   "source": [
    "result6 = pd.merge(result4,df_money,on='State')"
   ]
  },
  {
   "cell_type": "code",
   "execution_count": 56,
   "metadata": {},
   "outputs": [],
   "source": [
    "result7 = pd.merge(result6,df_instruction,on='State')"
   ]
  },
  {
   "cell_type": "code",
   "execution_count": 57,
   "metadata": {},
   "outputs": [],
   "source": [
    "result8 = pd.merge(result7,df_incarceration,on='State')"
   ]
  },
  {
   "cell_type": "code",
   "execution_count": 58,
   "metadata": {},
   "outputs": [],
   "source": [
    "result9 = pd.merge(result8,df_mental_health,on='State')"
   ]
  },
  {
   "cell_type": "code",
   "execution_count": 59,
   "metadata": {},
   "outputs": [],
   "source": [
    "result10 = pd.merge(result9,df_poverty,on='State')"
   ]
  },
  {
   "cell_type": "code",
   "execution_count": 60,
   "metadata": {},
   "outputs": [],
   "source": [
    "result10['log_Overall_score']=np.log(result10.Overall_score)"
   ]
  },
  {
   "cell_type": "code",
   "execution_count": 61,
   "metadata": {},
   "outputs": [],
   "source": [
    "result10['log_Quality_rank']=np.log(result10.Quality_rank)\n",
    "result10['log_Safety_rank']=np.log(result10.Safety_rank)"
   ]
  },
  {
   "cell_type": "code",
   "execution_count": 62,
   "metadata": {},
   "outputs": [],
   "source": [
    "result11 = pd.merge(result10,df_healthcare,on='State')"
   ]
  },
  {
   "cell_type": "code",
   "execution_count": 63,
   "metadata": {},
   "outputs": [],
   "source": [
    "result12 = pd.merge(result11,df_married,on='State')"
   ]
  },
  {
   "cell_type": "code",
   "execution_count": 72,
   "metadata": {},
   "outputs": [],
   "source": [
    "result13 = result12.drop(['General_Administration','Instruction_Employee_Benefits',\n",
    "                          'Instruction_Employee_Salaries','Instructional_Staff_Support',\n",
    "                          'Other','Pupil_Support','School_Administration','Days_of_instruction'],1)\n",
    "result13 = result13.drop(['Percent_AMI','log_Overall_score','log_Quality_rank','log_Safety_rank',\n",
    "                          'Cost_h_rank','Access_h_rank','Outcome_h_rank','Starting_salary'],1)"
   ]
  },
  {
   "cell_type": "markdown",
   "metadata": {},
   "source": [
    "# Current correlation values"
   ]
  },
  {
   "cell_type": "code",
   "execution_count": 86,
   "metadata": {},
   "outputs": [
    {
     "data": {
      "image/png": "[encoded data removed]",
      "text/plain": [
       "<matplotlib.figure.Figure at 0x1c11983940>"
      ]
     },
     "metadata": {},
     "output_type": "display_data"
    }
   ],
   "source": [
    "plt.figure(figsize = (16,10))\n",
    "\n",
    "ax = sns.heatmap(result13.corr(),vmin=-1,vmax=1,linewidths=2,fmt=\"d\")"
   ]
  },
  {
   "cell_type": "code",
   "execution_count": 242,
   "metadata": {},
   "outputs": [],
   "source": [
    "import matplotlib.pyplot as plt\n",
    "%matplotlib inline\n",
    "\n",
    "# Verify our versions\n",
    "import matplotlib"
   ]
  },
  {
   "cell_type": "code",
   "execution_count": 651,
   "metadata": {
    "scrolled": true
   },
   "outputs": [
    {
     "data": {
      "text/plain": [
       "<matplotlib.collections.PathCollection at 0x1c1a8f5080>"
      ]
     },
     "execution_count": 651,
     "metadata": {},
     "output_type": "execute_result"
    },
    {
     "data": {
      "image/png": "[encoded data removed]",
      "text/plain": [
       "<matplotlib.figure.Figure at 0x1c19a80dd8>"
      ]
     },
     "metadata": {},
     "output_type": "display_data"
    }
   ],
   "source": [
    "plt.scatter(result9.Number_of_incarceration,result9.Safety_rank)"
   ]
  },
  {
   "cell_type": "code",
   "execution_count": 570,
   "metadata": {},
   "outputs": [
    {
     "ename": "SyntaxError",
     "evalue": "unexpected EOF while parsing (<ipython-input-570-6583246e5de9>, line 1)",
     "output_type": "error",
     "traceback": [
      "\u001b[0;36m  File \u001b[0;32m\"<ipython-input-570-6583246e5de9>\"\u001b[0;36m, line \u001b[0;32m1\u001b[0m\n\u001b[0;31m    plt.scatter(result.Salary,log(result.Quality_score)\u001b[0m\n\u001b[0m                                                       ^\u001b[0m\n\u001b[0;31mSyntaxError\u001b[0m\u001b[0;31m:\u001b[0m unexpected EOF while parsing\n"
     ]
    }
   ],
   "source": [
    "plt.scatter(result.Salary,log(result.Quality_score)"
   ]
  },
  {
   "cell_type": "code",
   "execution_count": 277,
   "metadata": {},
   "outputs": [
    {
     "name": "stderr",
     "output_type": "stream",
     "text": [
      "/anaconda3/lib/python3.6/site-packages/matplotlib/figure.py:418: UserWarning: matplotlib is currently using a non-GUI backend, so cannot show the figure\n",
      "  \"matplotlib is currently using a non-GUI backend, \"\n"
     ]
    },
    {
     "data": {
      "image/png": "[encoded data removed]",
      "text/plain": [
       "<matplotlib.figure.Figure at 0x116d598d0>"
      ]
     },
     "metadata": {},
     "output_type": "display_data"
    }
   ],
   "source": [
    "fig, ax = plt.subplots()\n",
    "fit = np.polyfit(result.Salary, result.Quality_score, deg=1)\n",
    "ax.plot(result.Salary, fit[0] * result.Salary + fit[1], color='red')\n",
    "ax.scatter(result.Salary,result.Quality_score)\n",
    "\n",
    "fig.show()"
   ]
  },
  {
   "cell_type": "code",
   "execution_count": 274,
   "metadata": {},
   "outputs": [
    {
     "ename": "IndexError",
     "evalue": "index 2 is out of bounds for axis 0 with size 2",
     "output_type": "error",
     "traceback": [
      "\u001b[0;31m---------------------------------------------------------------------------\u001b[0m",
      "\u001b[0;31mIndexError\u001b[0m                                Traceback (most recent call last)",
      "\u001b[0;32m<ipython-input-274-a49687df0681>\u001b[0m in \u001b[0;36m<module>\u001b[0;34m()\u001b[0m\n\u001b[0;32m----> 1\u001b[0;31m \u001b[0mfit\u001b[0m\u001b[0;34m[\u001b[0m\u001b[0;36m2\u001b[0m\u001b[0;34m]\u001b[0m\u001b[0;34m\u001b[0m\u001b[0m\n\u001b[0m",
      "\u001b[0;31mIndexError\u001b[0m: index 2 is out of bounds for axis 0 with size 2"
     ]
    }
   ],
   "source": []
  },
  {
   "cell_type": "markdown",
   "metadata": {},
   "source": [
    "#### Class size vs rank"
   ]
  },
  {
   "cell_type": "code",
   "execution_count": 287,
   "metadata": {},
   "outputs": [],
   "source": [
    "result1 = pd.merge(df_rank[['State','Overall_score']],\n",
    "                   df_class_size[['State','Combine_SCC','Combine_DI']],on='State')"
   ]
  },
  {
   "cell_type": "code",
   "execution_count": 288,
   "metadata": {},
   "outputs": [],
   "source": [
    "result2 = pd.merge(df_rank[['State','Overall_score']],df_class_size[['State','High_SCC','High_DI']],on='State')"
   ]
  },
  {
   "cell_type": "code",
   "execution_count": 289,
   "metadata": {},
   "outputs": [],
   "source": [
    "#plt.scatter(result2.High_DI,result2.Overall_score)"
   ]
  },
  {
   "cell_type": "code",
   "execution_count": 290,
   "metadata": {},
   "outputs": [],
   "source": [
    "#plt.scatter(result2.High_SCC,result2.Overall_score)"
   ]
  },
  {
   "cell_type": "code",
   "execution_count": null,
   "metadata": {},
   "outputs": [],
   "source": []
  },
  {
   "cell_type": "code",
   "execution_count": null,
   "metadata": {},
   "outputs": [],
   "source": []
  },
  {
   "cell_type": "code",
   "execution_count": null,
   "metadata": {},
   "outputs": [],
   "source": []
  }
 ],
 "metadata": {
  "kernelspec": {
   "display_name": "Python 3",
   "language": "python",
   "name": "python3"
  },
  "language_info": {
   "codemirror_mode": {
    "name": "ipython",
    "version": 3
   },
   "file_extension": ".py",
   "mimetype": "text/x-python",
   "name": "python",
   "nbconvert_exporter": "python",
   "pygments_lexer": "ipython3",
   "version": "3.6.4"
  }
 },
 "nbformat": 4,
 "nbformat_minor": 2
}
