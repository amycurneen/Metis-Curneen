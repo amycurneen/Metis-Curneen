{
 "cells": [
  {
   "cell_type": "markdown",
   "metadata": {},
   "source": [
    "# Project 3 - Water Pump Clasificaiton"
   ]
  },
  {
   "cell_type": "markdown",
   "metadata": {},
   "source": [
    "# Notes"
   ]
  },
  {
   "cell_type": "markdown",
   "metadata": {},
   "source": [
    "**Things to add to my project - ideas from class**\n",
    "\n",
    "Anything?\n"
   ]
  },
  {
   "cell_type": "markdown",
   "metadata": {},
   "source": [
    "# Setup"
   ]
  },
  {
   "cell_type": "code",
   "execution_count": 1,
   "metadata": {},
   "outputs": [],
   "source": [
    "from __future__ import print_function"
   ]
  },
  {
   "cell_type": "code",
   "execution_count": 2,
   "metadata": {},
   "outputs": [],
   "source": [
    "import pandas as pd\n",
    "import numpy as np\n",
    "import seaborn as sns\n",
    "\n",
    "import matplotlib.pyplot as plt\n",
    "%matplotlib inline\n",
    "\n",
    "from __future__ import division\n",
    "pd.set_option('display.width',5000)"
   ]
  },
  {
   "cell_type": "code",
   "execution_count": 3,
   "metadata": {},
   "outputs": [
    {
     "name": "stderr",
     "output_type": "stream",
     "text": [
      "/anaconda3/lib/python3.6/site-packages/sklearn/cross_validation.py:41: DeprecationWarning: This module was deprecated in version 0.18 in favor of the model_selection module into which all the refactored classes and functions are moved. Also note that the interface of the new CV iterators are different from that of this module. This module will be removed in 0.20.\n",
      "  \"This module will be removed in 0.20.\", DeprecationWarning)\n"
     ]
    }
   ],
   "source": [
    "import patsy\n",
    "\n",
    "from sklearn import linear_model as lm\n",
    "from sklearn.linear_model import LogisticRegression\n",
    "from sklearn import cross_validation\n",
    "from sklearn import metrics\n",
    "from sklearn.metrics import confusion_matrix"
   ]
  },
  {
   "cell_type": "markdown",
   "metadata": {},
   "source": [
    "# Data Import - Training Data"
   ]
  },
  {
   "cell_type": "markdown",
   "metadata": {},
   "source": [
    "This data is part of the Data Driven Competition\n",
    "\n",
    "https://www.drivendata.org/competitions/7/pump-it-up-data-mining-the-water-table/page/23/\n"
   ]
  },
  {
   "cell_type": "code",
   "execution_count": 4,
   "metadata": {},
   "outputs": [
    {
     "data": {
      "text/html": [
       "<div>\n",
       "<style scoped>\n",
       "    .dataframe tbody tr th:only-of-type {\n",
       "        vertical-align: middle;\n",
       "    }\n",
       "\n",
       "    .dataframe tbody tr th {\n",
       "        vertical-align: top;\n",
       "    }\n",
       "\n",
       "    .dataframe thead th {\n",
       "        text-align: right;\n",
       "    }\n",
       "</style>\n",
       "<table border=\"1\" class=\"dataframe\">\n",
       "  <thead>\n",
       "    <tr style=\"text-align: right;\">\n",
       "      <th></th>\n",
       "      <th>id</th>\n",
       "      <th>amount_tsh</th>\n",
       "      <th>date_recorded</th>\n",
       "      <th>funder</th>\n",
       "      <th>gps_height</th>\n",
       "      <th>installer</th>\n",
       "      <th>longitude</th>\n",
       "      <th>latitude</th>\n",
       "      <th>wpt_name</th>\n",
       "      <th>num_private</th>\n",
       "      <th>...</th>\n",
       "      <th>payment_type</th>\n",
       "      <th>water_quality</th>\n",
       "      <th>quality_group</th>\n",
       "      <th>quantity</th>\n",
       "      <th>quantity_group</th>\n",
       "      <th>source</th>\n",
       "      <th>source_type</th>\n",
       "      <th>source_class</th>\n",
       "      <th>waterpoint_type</th>\n",
       "      <th>waterpoint_type_group</th>\n",
       "    </tr>\n",
       "  </thead>\n",
       "  <tbody>\n",
       "    <tr>\n",
       "      <th>49396</th>\n",
       "      <td>46465</td>\n",
       "      <td>0.0</td>\n",
       "      <td>2012-10-21</td>\n",
       "      <td>Rwssp</td>\n",
       "      <td>0</td>\n",
       "      <td>DWE</td>\n",
       "      <td>32.316785</td>\n",
       "      <td>-4.031537</td>\n",
       "      <td>Butibu A</td>\n",
       "      <td>0</td>\n",
       "      <td>...</td>\n",
       "      <td>unknown</td>\n",
       "      <td>milky</td>\n",
       "      <td>milky</td>\n",
       "      <td>enough</td>\n",
       "      <td>enough</td>\n",
       "      <td>shallow well</td>\n",
       "      <td>shallow well</td>\n",
       "      <td>groundwater</td>\n",
       "      <td>other</td>\n",
       "      <td>other</td>\n",
       "    </tr>\n",
       "    <tr>\n",
       "      <th>18003</th>\n",
       "      <td>57882</td>\n",
       "      <td>200.0</td>\n",
       "      <td>2011-03-23</td>\n",
       "      <td>Is</td>\n",
       "      <td>275</td>\n",
       "      <td>Is</td>\n",
       "      <td>37.035127</td>\n",
       "      <td>-7.692044</td>\n",
       "      <td>Kwa Kalua</td>\n",
       "      <td>0</td>\n",
       "      <td>...</td>\n",
       "      <td>on failure</td>\n",
       "      <td>salty</td>\n",
       "      <td>salty</td>\n",
       "      <td>enough</td>\n",
       "      <td>enough</td>\n",
       "      <td>shallow well</td>\n",
       "      <td>shallow well</td>\n",
       "      <td>groundwater</td>\n",
       "      <td>hand pump</td>\n",
       "      <td>hand pump</td>\n",
       "    </tr>\n",
       "    <tr>\n",
       "      <th>49975</th>\n",
       "      <td>60360</td>\n",
       "      <td>0.0</td>\n",
       "      <td>2012-10-30</td>\n",
       "      <td>Grumeti</td>\n",
       "      <td>1330</td>\n",
       "      <td>GRUMETI</td>\n",
       "      <td>34.465963</td>\n",
       "      <td>-2.047859</td>\n",
       "      <td>Shule Ya Msingi Makundusi</td>\n",
       "      <td>0</td>\n",
       "      <td>...</td>\n",
       "      <td>never pay</td>\n",
       "      <td>salty</td>\n",
       "      <td>salty</td>\n",
       "      <td>insufficient</td>\n",
       "      <td>insufficient</td>\n",
       "      <td>machine dbh</td>\n",
       "      <td>borehole</td>\n",
       "      <td>groundwater</td>\n",
       "      <td>communal standpipe</td>\n",
       "      <td>communal standpipe</td>\n",
       "    </tr>\n",
       "  </tbody>\n",
       "</table>\n",
       "<p>3 rows × 40 columns</p>\n",
       "</div>"
      ],
      "text/plain": [
       "          id  amount_tsh date_recorded   funder  gps_height installer  longitude  latitude                   wpt_name  num_private          ...          payment_type water_quality quality_group      quantity  quantity_group        source   source_type  source_class     waterpoint_type waterpoint_type_group\n",
       "49396  46465         0.0    2012-10-21    Rwssp           0       DWE  32.316785 -4.031537                   Butibu A            0          ...               unknown         milky         milky        enough          enough  shallow well  shallow well   groundwater               other                 other\n",
       "18003  57882       200.0    2011-03-23       Is         275        Is  37.035127 -7.692044                  Kwa Kalua            0          ...            on failure         salty         salty        enough          enough  shallow well  shallow well   groundwater           hand pump             hand pump\n",
       "49975  60360         0.0    2012-10-30  Grumeti        1330   GRUMETI  34.465963 -2.047859  Shule Ya Msingi Makundusi            0          ...             never pay         salty         salty  insufficient    insufficient   machine dbh      borehole   groundwater  communal standpipe    communal standpipe\n",
       "\n",
       "[3 rows x 40 columns]"
      ]
     },
     "execution_count": 4,
     "metadata": {},
     "output_type": "execute_result"
    }
   ],
   "source": [
    "# 'Values' provided for each pump location - features\n",
    "\n",
    "df_values = pd.read_csv('/Users/amycurneen/ds/metis/metisgh/Metis-Curneen/3 - Water Pumps/Data Downloads/Training set values.csv')\n",
    "df_values.sample(3)"
   ]
  },
  {
   "cell_type": "code",
   "execution_count": 5,
   "metadata": {},
   "outputs": [
    {
     "data": {
      "text/html": [
       "<div>\n",
       "<style scoped>\n",
       "    .dataframe tbody tr th:only-of-type {\n",
       "        vertical-align: middle;\n",
       "    }\n",
       "\n",
       "    .dataframe tbody tr th {\n",
       "        vertical-align: top;\n",
       "    }\n",
       "\n",
       "    .dataframe thead th {\n",
       "        text-align: right;\n",
       "    }\n",
       "</style>\n",
       "<table border=\"1\" class=\"dataframe\">\n",
       "  <thead>\n",
       "    <tr style=\"text-align: right;\">\n",
       "      <th></th>\n",
       "      <th>id</th>\n",
       "      <th>status_group</th>\n",
       "    </tr>\n",
       "  </thead>\n",
       "  <tbody>\n",
       "    <tr>\n",
       "      <th>49038</th>\n",
       "      <td>42229</td>\n",
       "      <td>functional</td>\n",
       "    </tr>\n",
       "    <tr>\n",
       "      <th>53877</th>\n",
       "      <td>9616</td>\n",
       "      <td>non functional</td>\n",
       "    </tr>\n",
       "    <tr>\n",
       "      <th>21883</th>\n",
       "      <td>68361</td>\n",
       "      <td>functional</td>\n",
       "    </tr>\n",
       "  </tbody>\n",
       "</table>\n",
       "</div>"
      ],
      "text/plain": [
       "          id    status_group\n",
       "49038  42229      functional\n",
       "53877   9616  non functional\n",
       "21883  68361      functional"
      ]
     },
     "execution_count": 5,
     "metadata": {},
     "output_type": "execute_result"
    }
   ],
   "source": [
    "# 'Labels' provided for each pump location - clasificaiton - what I am predicting\n",
    "\n",
    "df_labels = pd.read_csv('/Users/amycurneen/ds/metis/metisgh/Metis-Curneen/3 - Water Pumps/Data Downloads/Training set labels.csv')\n",
    "df_labels.sample(3)"
   ]
  },
  {
   "cell_type": "markdown",
   "metadata": {},
   "source": [
    "# Data Import - Challenge Data"
   ]
  },
  {
   "cell_type": "code",
   "execution_count": 35,
   "metadata": {},
   "outputs": [
    {
     "data": {
      "text/html": [
       "<div>\n",
       "<style scoped>\n",
       "    .dataframe tbody tr th:only-of-type {\n",
       "        vertical-align: middle;\n",
       "    }\n",
       "\n",
       "    .dataframe tbody tr th {\n",
       "        vertical-align: top;\n",
       "    }\n",
       "\n",
       "    .dataframe thead th {\n",
       "        text-align: right;\n",
       "    }\n",
       "</style>\n",
       "<table border=\"1\" class=\"dataframe\">\n",
       "  <thead>\n",
       "    <tr style=\"text-align: right;\">\n",
       "      <th></th>\n",
       "      <th>id</th>\n",
       "      <th>amount_tsh</th>\n",
       "      <th>date_recorded</th>\n",
       "      <th>funder</th>\n",
       "      <th>gps_height</th>\n",
       "      <th>installer</th>\n",
       "      <th>longitude</th>\n",
       "      <th>latitude</th>\n",
       "      <th>wpt_name</th>\n",
       "      <th>num_private</th>\n",
       "      <th>...</th>\n",
       "      <th>payment_type</th>\n",
       "      <th>water_quality</th>\n",
       "      <th>quality_group</th>\n",
       "      <th>quantity</th>\n",
       "      <th>quantity_group</th>\n",
       "      <th>source</th>\n",
       "      <th>source_type</th>\n",
       "      <th>source_class</th>\n",
       "      <th>waterpoint_type</th>\n",
       "      <th>waterpoint_type_group</th>\n",
       "    </tr>\n",
       "  </thead>\n",
       "  <tbody>\n",
       "    <tr>\n",
       "      <th>2225</th>\n",
       "      <td>33644</td>\n",
       "      <td>20.0</td>\n",
       "      <td>2011-03-02</td>\n",
       "      <td>Government Of Tanzania</td>\n",
       "      <td>45</td>\n",
       "      <td>DWE</td>\n",
       "      <td>38.575684</td>\n",
       "      <td>-6.801949</td>\n",
       "      <td>Enzimbali</td>\n",
       "      <td>0</td>\n",
       "      <td>...</td>\n",
       "      <td>per bucket</td>\n",
       "      <td>soft</td>\n",
       "      <td>good</td>\n",
       "      <td>enough</td>\n",
       "      <td>enough</td>\n",
       "      <td>river</td>\n",
       "      <td>river/lake</td>\n",
       "      <td>surface</td>\n",
       "      <td>communal standpipe</td>\n",
       "      <td>communal standpipe</td>\n",
       "    </tr>\n",
       "    <tr>\n",
       "      <th>6683</th>\n",
       "      <td>43537</td>\n",
       "      <td>0.0</td>\n",
       "      <td>2013-03-15</td>\n",
       "      <td>Vwc</td>\n",
       "      <td>1337</td>\n",
       "      <td>VWC</td>\n",
       "      <td>36.754739</td>\n",
       "      <td>-2.590400</td>\n",
       "      <td>Kwa Alaatati</td>\n",
       "      <td>0</td>\n",
       "      <td>...</td>\n",
       "      <td>on failure</td>\n",
       "      <td>soft</td>\n",
       "      <td>good</td>\n",
       "      <td>insufficient</td>\n",
       "      <td>insufficient</td>\n",
       "      <td>river</td>\n",
       "      <td>river/lake</td>\n",
       "      <td>surface</td>\n",
       "      <td>cattle trough</td>\n",
       "      <td>cattle trough</td>\n",
       "    </tr>\n",
       "    <tr>\n",
       "      <th>6506</th>\n",
       "      <td>11725</td>\n",
       "      <td>50.0</td>\n",
       "      <td>2013-01-26</td>\n",
       "      <td>Jica</td>\n",
       "      <td>273</td>\n",
       "      <td>Kokeni</td>\n",
       "      <td>38.841901</td>\n",
       "      <td>-10.150719</td>\n",
       "      <td>Namchachamba</td>\n",
       "      <td>0</td>\n",
       "      <td>...</td>\n",
       "      <td>per bucket</td>\n",
       "      <td>soft</td>\n",
       "      <td>good</td>\n",
       "      <td>enough</td>\n",
       "      <td>enough</td>\n",
       "      <td>machine dbh</td>\n",
       "      <td>borehole</td>\n",
       "      <td>groundwater</td>\n",
       "      <td>hand pump</td>\n",
       "      <td>hand pump</td>\n",
       "    </tr>\n",
       "  </tbody>\n",
       "</table>\n",
       "<p>3 rows × 40 columns</p>\n",
       "</div>"
      ],
      "text/plain": [
       "         id  amount_tsh date_recorded                  funder  gps_height installer  longitude   latitude      wpt_name  num_private          ...          payment_type water_quality quality_group      quantity  quantity_group       source source_type  source_class     waterpoint_type waterpoint_type_group\n",
       "2225  33644        20.0    2011-03-02  Government Of Tanzania          45       DWE  38.575684  -6.801949     Enzimbali            0          ...            per bucket          soft          good        enough          enough        river  river/lake       surface  communal standpipe    communal standpipe\n",
       "6683  43537         0.0    2013-03-15                     Vwc        1337       VWC  36.754739  -2.590400  Kwa Alaatati            0          ...            on failure          soft          good  insufficient    insufficient        river  river/lake       surface       cattle trough         cattle trough\n",
       "6506  11725        50.0    2013-01-26                    Jica         273    Kokeni  38.841901 -10.150719  Namchachamba            0          ...            per bucket          soft          good        enough          enough  machine dbh    borehole   groundwater           hand pump             hand pump\n",
       "\n",
       "[3 rows x 40 columns]"
      ]
     },
     "execution_count": 35,
     "metadata": {},
     "output_type": "execute_result"
    }
   ],
   "source": [
    "# 'Values' provided for each competition pump location - features\n",
    "\n",
    "df_test_values = pd.read_csv('/Users/amycurneen/ds/metis/metisgh/Metis-Curneen/3 - Water Pumps/Data Downloads/Test set values.csv')\n",
    "df_test_values.sample(3)"
   ]
  },
  {
   "cell_type": "code",
   "execution_count": 36,
   "metadata": {},
   "outputs": [
    {
     "data": {
      "text/html": [
       "<div>\n",
       "<style scoped>\n",
       "    .dataframe tbody tr th:only-of-type {\n",
       "        vertical-align: middle;\n",
       "    }\n",
       "\n",
       "    .dataframe tbody tr th {\n",
       "        vertical-align: top;\n",
       "    }\n",
       "\n",
       "    .dataframe thead th {\n",
       "        text-align: right;\n",
       "    }\n",
       "</style>\n",
       "<table border=\"1\" class=\"dataframe\">\n",
       "  <thead>\n",
       "    <tr style=\"text-align: right;\">\n",
       "      <th></th>\n",
       "      <th>id</th>\n",
       "      <th>status_group</th>\n",
       "    </tr>\n",
       "  </thead>\n",
       "  <tbody>\n",
       "    <tr>\n",
       "      <th>169</th>\n",
       "      <td>16862</td>\n",
       "      <td>predicted label</td>\n",
       "    </tr>\n",
       "    <tr>\n",
       "      <th>8430</th>\n",
       "      <td>45277</td>\n",
       "      <td>predicted label</td>\n",
       "    </tr>\n",
       "    <tr>\n",
       "      <th>7662</th>\n",
       "      <td>70655</td>\n",
       "      <td>predicted label</td>\n",
       "    </tr>\n",
       "  </tbody>\n",
       "</table>\n",
       "</div>"
      ],
      "text/plain": [
       "         id     status_group\n",
       "169   16862  predicted label\n",
       "8430  45277  predicted label\n",
       "7662  70655  predicted label"
      ]
     },
     "execution_count": 36,
     "metadata": {},
     "output_type": "execute_result"
    }
   ],
   "source": [
    "# 'Labels' I will provide for each pump location - clasificaiton\n",
    "\n",
    "df_sub = pd.read_csv('/Users/amycurneen/ds/metis/metisgh/Metis-Curneen/3 - Water Pumps/Data Downloads/SubmissionFormat.csv')\n",
    "df_sub.sample(3)"
   ]
  },
  {
   "cell_type": "code",
   "execution_count": 37,
   "metadata": {
    "scrolled": true
   },
   "outputs": [],
   "source": [
    "df_sub = df_sub.drop('status_group', axis = 1)"
   ]
  },
  {
   "cell_type": "markdown",
   "metadata": {},
   "source": [
    "# Exploratory Data Analysis"
   ]
  },
  {
   "cell_type": "markdown",
   "metadata": {},
   "source": [
    "## Colum descriptions"
   ]
  },
  {
   "cell_type": "markdown",
   "metadata": {},
   "source": [
    "My goal is to predict the operating condition of a waterpoint for each record in the dataset. I was provided the following set of information about the waterpoints:\n",
    "\n",
    "* amount_tsh - Total static head (amount water available to waterpoint)\n",
    "    * 98 unique\n",
    "* date_recorded - The date the row was entered\n",
    "    * 365 unique\n",
    "    * year - month - day\n",
    "* funder - Who funded the well\n",
    "    * 1897 unique\n",
    "    * look at top ones?\n",
    "* installer - Organization that installed the well\n",
    "    * 2145 unique\n",
    "    * DWE is main one - 10x closest other, 17k\n",
    "* wpt_name - Name of the waterpoint if there is one\n",
    "    * 37400 unique\n",
    "    * look at top ones?\n",
    "* num_private - (NO PROVIDED DESC)\n",
    "    * 65 unique\n",
    "    * USELESS FEATURE\n",
    "* population - Population around the well\n",
    "    * 1049 unique\n",
    "    * a lot are zero\n",
    "* public_meeting - True/False\n",
    "    * 2 unique\n",
    "* recorded_by - Group entering this row of data\n",
    "    * 1 unique\n",
    "    * all the same - USELESS FEATURE\n",
    "* scheme_management - Who operates the waterpoint\n",
    "    * 12 unique\n",
    "* scheme_name - Who operates the waterpoint\n",
    "    * 2696 unique\n",
    "    * USELESS FEATURE\n",
    "* permit - If the waterpoint is permitted\n",
    "    * 2 unique\n",
    "* construction_year - Year the waterpoint was constructed\n",
    "    * 55 unique\n",
    "    * third are 0 - USELESS FEATURE\n",
    "\n",
    "\n",
    "* Geography\n",
    "    * gps_height - Altitude of the well\n",
    "        * numerical\n",
    "    * longitude - GPS coordinate\n",
    "        * numerical\n",
    "    * latitude - GPS coordinate\n",
    "        * numerical\n",
    "    * basin - Geographic water basin\n",
    "        * 9 unique\n",
    "    * subvillage - Geographic location\n",
    "        * 19287 unique\n",
    "    * region - Geographic location\n",
    "        * 21 unique\n",
    "    * region_code - Geographic location (coded)\n",
    "        * 27 unique\n",
    "    * district_code - Geographic location (coded)\n",
    "        * 20 unique\n",
    "    * lga - Geographic location\n",
    "        * 125 unique\n",
    "    * ward - Geographic location\n",
    "        * 2092 unique\n",
    "\n",
    "\n",
    "* Extraction\n",
    "    * extraction_type - The kind of extraction the waterpoint uses\n",
    "        * 18 unique\n",
    "        * Most descriptive of extraction\n",
    "    * extraction_type_group - The kind of extraction the waterpoint uses\n",
    "        * 13 unique\n",
    "        * Parent of extraction_type\n",
    "    * extraction_type_class - The kind of extraction the waterpoint uses\n",
    "        * 7 unique\n",
    "        * Parent of extraction_type_group\n",
    "\n",
    "\n",
    "* Overhead\n",
    "    * management - How the waterpoint is managed\n",
    "        * 12 unique\n",
    "    * management_group - How the waterpoint is managed\n",
    "        * 5 unique\n",
    "    * payment - What the water costs\n",
    "        * 7 unique\n",
    "        * same as payment type\n",
    "    * payment_type - What the water costs\n",
    "        * 7 unique\n",
    "        * same as payment\n",
    "\n",
    "\n",
    "* Water\n",
    "    * water_quality - The quality of the water \n",
    "        * 3 unique\n",
    "        * Subset of quality_group\n",
    "    * quality_group - The quality of the water\n",
    "        * 6 unique\n",
    "        * Parent group of water_quality\n",
    "    * quantity - The quantity of water\n",
    "        * 5 unique\n",
    "        * Same as quantity_group\n",
    "    * quantity_group - The quantity of water\n",
    "        * 5 unique\n",
    "        * Same as quantity\n",
    "    * source - The source of the water\n",
    "        * 10 unique\n",
    "    * source_type - The source of the water\n",
    "        * 7 unique\n",
    "        * Subset of source\n",
    "    * source_class - The source of the water\n",
    "        * 3 unique\n",
    "        * Subset of source_type\n",
    "    * waterpoint_type - The kind of waterpoint\n",
    "        * 6 unique\n",
    "        * Parent of waterpoint_type_group\n",
    "    * waterpoint_type_group - The kind of waterpoint\n",
    "        * 7 unique\n",
    "        * Subset of waterpoint_type"
   ]
  },
  {
   "cell_type": "markdown",
   "metadata": {},
   "source": [
    "## Various EDA"
   ]
  },
  {
   "cell_type": "markdown",
   "metadata": {},
   "source": [
    "##### Status"
   ]
  },
  {
   "cell_type": "code",
   "execution_count": null,
   "metadata": {},
   "outputs": [],
   "source": [
    "# 3 Unique status present\n",
    "df_labels.status_group.value_counts()"
   ]
  },
  {
   "cell_type": "markdown",
   "metadata": {},
   "source": [
    "##### Review histograms of extraction data\n",
    "\n",
    "* extraction_type - The kind of extraction the waterpoint uses\n",
    "* extraction_type_group - The kind of extraction the waterpoint uses\n",
    "* extraction_type_class - The kind of extraction the waterpoint uses"
   ]
  },
  {
   "cell_type": "code",
   "execution_count": null,
   "metadata": {},
   "outputs": [],
   "source": [
    "df_values.extraction_type.value_counts().plot('barh')\n",
    "len(df_values.extraction_type.value_counts())"
   ]
  },
  {
   "cell_type": "code",
   "execution_count": null,
   "metadata": {},
   "outputs": [],
   "source": [
    "df_values.extraction_type_group.value_counts().plot('barh')\n",
    "len(df_values.extraction_type_group.value_counts())"
   ]
  },
  {
   "cell_type": "code",
   "execution_count": null,
   "metadata": {
    "scrolled": true
   },
   "outputs": [],
   "source": [
    "df_values.extraction_type_class.value_counts().plot('barh')\n",
    "len(df_values.extraction_type_class.value_counts())"
   ]
  },
  {
   "cell_type": "markdown",
   "metadata": {},
   "source": [
    "##### Other"
   ]
  },
  {
   "cell_type": "code",
   "execution_count": null,
   "metadata": {},
   "outputs": [],
   "source": [
    "# df_values.population.value_counts()"
   ]
  },
  {
   "cell_type": "code",
   "execution_count": 8,
   "metadata": {},
   "outputs": [
    {
     "data": {
      "text/plain": [
       "2092"
      ]
     },
     "execution_count": 8,
     "metadata": {},
     "output_type": "execute_result"
    }
   ],
   "source": [
    "len(df_values.ward.value_counts())"
   ]
  },
  {
   "cell_type": "code",
   "execution_count": null,
   "metadata": {},
   "outputs": [],
   "source": [
    "# len(df_values.management.value_counts())"
   ]
  },
  {
   "cell_type": "code",
   "execution_count": null,
   "metadata": {},
   "outputs": [],
   "source": [
    "# print(df_values.region.value_counts())\n",
    "# print('Length: ',len(df_values.region.value_counts()))"
   ]
  },
  {
   "cell_type": "code",
   "execution_count": null,
   "metadata": {},
   "outputs": [],
   "source": [
    "#print(df_values.region_code.value_counts())\n",
    "#print('Length: ',len(df_values.region_code.value_counts()))"
   ]
  },
  {
   "cell_type": "code",
   "execution_count": null,
   "metadata": {},
   "outputs": [],
   "source": [
    "# df_values.water_quality.value_counts()"
   ]
  },
  {
   "cell_type": "code",
   "execution_count": null,
   "metadata": {},
   "outputs": [],
   "source": [
    "#df_values.installer.value_counts()"
   ]
  },
  {
   "cell_type": "markdown",
   "metadata": {},
   "source": [
    "# Test Train Split"
   ]
  },
  {
   "cell_type": "code",
   "execution_count": 9,
   "metadata": {},
   "outputs": [],
   "source": [
    "# randomize data\n",
    "# df_lables, df_values - combine and shuffle this data\n",
    "\n",
    "df = pd.merge(df_labels,df_values,how = 'left')\n",
    "df = df.sample(frac=1).reset_index(drop=True)"
   ]
  },
  {
   "cell_type": "code",
   "execution_count": 10,
   "metadata": {},
   "outputs": [],
   "source": [
    "# Split back to X and y and then TTS\n",
    "y = df[[\"id\",\"status_group\"]]\n",
    "X = df.drop('status_group', axis=1)\n",
    "\n",
    "from sklearn.cross_validation import train_test_split\n",
    "\n",
    "X_train, X_test, y_train, y_test = train_test_split(X, y, test_size=0)"
   ]
  },
  {
   "cell_type": "code",
   "execution_count": 13,
   "metadata": {},
   "outputs": [
    {
     "data": {
      "text/plain": [
       "(59400, 40)"
      ]
     },
     "execution_count": 13,
     "metadata": {},
     "output_type": "execute_result"
    }
   ],
   "source": [
    "X_train.shape"
   ]
  },
  {
   "cell_type": "markdown",
   "metadata": {},
   "source": [
    "# Decision Tree"
   ]
  },
  {
   "cell_type": "markdown",
   "metadata": {},
   "source": [
    "## Create DT on test-train-split"
   ]
  },
  {
   "cell_type": "code",
   "execution_count": 14,
   "metadata": {},
   "outputs": [],
   "source": [
    "import matplotlib.pyplot as plt\n",
    "%matplotlib inline\n",
    "import matplotlib.cm as cm\n",
    "import numpy as np\n",
    "\n",
    "from sklearn.tree import DecisionTreeClassifier\n",
    "from sklearn.svm import LinearSVC\n",
    "from sklearn.svm import SVC\n",
    "from sklearn.ensemble import RandomForestClassifier\n",
    "from sklearn.linear_model import LogisticRegression"
   ]
  },
  {
   "cell_type": "code",
   "execution_count": 15,
   "metadata": {},
   "outputs": [
    {
     "data": {
      "text/html": [
       "<div>\n",
       "<style scoped>\n",
       "    .dataframe tbody tr th:only-of-type {\n",
       "        vertical-align: middle;\n",
       "    }\n",
       "\n",
       "    .dataframe tbody tr th {\n",
       "        vertical-align: top;\n",
       "    }\n",
       "\n",
       "    .dataframe thead th {\n",
       "        text-align: right;\n",
       "    }\n",
       "</style>\n",
       "<table border=\"1\" class=\"dataframe\">\n",
       "  <thead>\n",
       "    <tr style=\"text-align: right;\">\n",
       "      <th></th>\n",
       "      <th>id</th>\n",
       "      <th>status_group</th>\n",
       "      <th>amount_tsh</th>\n",
       "      <th>date_recorded</th>\n",
       "      <th>funder</th>\n",
       "      <th>gps_height</th>\n",
       "      <th>installer</th>\n",
       "      <th>longitude</th>\n",
       "      <th>latitude</th>\n",
       "      <th>wpt_name</th>\n",
       "      <th>...</th>\n",
       "      <th>payment_type</th>\n",
       "      <th>water_quality</th>\n",
       "      <th>quality_group</th>\n",
       "      <th>quantity</th>\n",
       "      <th>quantity_group</th>\n",
       "      <th>source</th>\n",
       "      <th>source_type</th>\n",
       "      <th>source_class</th>\n",
       "      <th>waterpoint_type</th>\n",
       "      <th>waterpoint_type_group</th>\n",
       "    </tr>\n",
       "  </thead>\n",
       "  <tbody>\n",
       "    <tr>\n",
       "      <th>21789</th>\n",
       "      <td>71926</td>\n",
       "      <td>non functional</td>\n",
       "      <td>0.0</td>\n",
       "      <td>2011-02-28</td>\n",
       "      <td>Government Of Tanzania</td>\n",
       "      <td>18</td>\n",
       "      <td>Centr</td>\n",
       "      <td>38.236501</td>\n",
       "      <td>-7.773575</td>\n",
       "      <td>Mwenyekiti</td>\n",
       "      <td>...</td>\n",
       "      <td>never pay</td>\n",
       "      <td>soft</td>\n",
       "      <td>good</td>\n",
       "      <td>dry</td>\n",
       "      <td>dry</td>\n",
       "      <td>machine dbh</td>\n",
       "      <td>borehole</td>\n",
       "      <td>groundwater</td>\n",
       "      <td>communal standpipe multiple</td>\n",
       "      <td>communal standpipe</td>\n",
       "    </tr>\n",
       "    <tr>\n",
       "      <th>56815</th>\n",
       "      <td>3571</td>\n",
       "      <td>functional needs repair</td>\n",
       "      <td>0.0</td>\n",
       "      <td>2011-04-08</td>\n",
       "      <td>Dwe</td>\n",
       "      <td>0</td>\n",
       "      <td>DWE</td>\n",
       "      <td>33.100161</td>\n",
       "      <td>-8.967003</td>\n",
       "      <td>Msukwa</td>\n",
       "      <td>...</td>\n",
       "      <td>on failure</td>\n",
       "      <td>soft</td>\n",
       "      <td>good</td>\n",
       "      <td>enough</td>\n",
       "      <td>enough</td>\n",
       "      <td>river</td>\n",
       "      <td>river/lake</td>\n",
       "      <td>surface</td>\n",
       "      <td>communal standpipe</td>\n",
       "      <td>communal standpipe</td>\n",
       "    </tr>\n",
       "    <tr>\n",
       "      <th>26898</th>\n",
       "      <td>4044</td>\n",
       "      <td>functional</td>\n",
       "      <td>4000.0</td>\n",
       "      <td>2011-02-20</td>\n",
       "      <td>Cefa</td>\n",
       "      <td>1963</td>\n",
       "      <td>CEFA</td>\n",
       "      <td>35.884190</td>\n",
       "      <td>-8.226280</td>\n",
       "      <td>none</td>\n",
       "      <td>...</td>\n",
       "      <td>annually</td>\n",
       "      <td>soft</td>\n",
       "      <td>good</td>\n",
       "      <td>enough</td>\n",
       "      <td>enough</td>\n",
       "      <td>river</td>\n",
       "      <td>river/lake</td>\n",
       "      <td>surface</td>\n",
       "      <td>communal standpipe</td>\n",
       "      <td>communal standpipe</td>\n",
       "    </tr>\n",
       "  </tbody>\n",
       "</table>\n",
       "<p>3 rows × 41 columns</p>\n",
       "</div>"
      ],
      "text/plain": [
       "          id             status_group  amount_tsh date_recorded                  funder  gps_height installer  longitude  latitude    wpt_name          ...           payment_type water_quality quality_group quantity  quantity_group       source source_type source_class              waterpoint_type waterpoint_type_group\n",
       "21789  71926           non functional         0.0    2011-02-28  Government Of Tanzania          18     Centr  38.236501 -7.773575  Mwenyekiti          ...              never pay          soft          good      dry             dry  machine dbh    borehole  groundwater  communal standpipe multiple    communal standpipe\n",
       "56815   3571  functional needs repair         0.0    2011-04-08                     Dwe           0       DWE  33.100161 -8.967003      Msukwa          ...             on failure          soft          good   enough          enough        river  river/lake      surface           communal standpipe    communal standpipe\n",
       "26898   4044               functional      4000.0    2011-02-20                    Cefa        1963      CEFA  35.884190 -8.226280        none          ...               annually          soft          good   enough          enough        river  river/lake      surface           communal standpipe    communal standpipe\n",
       "\n",
       "[3 rows x 41 columns]"
      ]
     },
     "execution_count": 15,
     "metadata": {},
     "output_type": "execute_result"
    }
   ],
   "source": [
    "df.sample(3)"
   ]
  },
  {
   "cell_type": "code",
   "execution_count": 16,
   "metadata": {},
   "outputs": [],
   "source": [
    "# try with a few less features first \n",
    "\n",
    "feature_no_sel = df[['amount_tsh', 'date_recorded', 'funder', 'installer', \n",
    "                   'wpt_name', 'num_private', 'subvillage', 'region', \n",
    "                   'region_code', 'district_code', 'lga', 'ward', 'public_meeting', 'recorded_by', \n",
    "                   'scheme_management', 'scheme_name', 'permit', 'construction_year', 'extraction_type', \n",
    "                   'extraction_type_group', 'management', 'management_group', 'payment', \n",
    "                   'payment_type', 'water_quality', 'quality_group', 'quantity_group', 'source', \n",
    "                   'source_type', 'waterpoint_type','region_code', \n",
    "                  'district_code','public_meeting','scheme_management']]\n",
    "\n",
    "feature_sel = df[['id', 'status_group', 'gps_height', 'longitude', 'latitude', 'basin',\n",
    "                  'extraction_type_class','payment','quantity','water_quality', 'source_class',\n",
    "                  'waterpoint_type_group','population','public_meeting','scheme_management']]"
   ]
  },
  {
   "cell_type": "code",
   "execution_count": 17,
   "metadata": {
    "scrolled": true
   },
   "outputs": [
    {
     "data": {
      "text/html": [
       "<div>\n",
       "<style scoped>\n",
       "    .dataframe tbody tr th:only-of-type {\n",
       "        vertical-align: middle;\n",
       "    }\n",
       "\n",
       "    .dataframe tbody tr th {\n",
       "        vertical-align: top;\n",
       "    }\n",
       "\n",
       "    .dataframe thead th {\n",
       "        text-align: right;\n",
       "    }\n",
       "</style>\n",
       "<table border=\"1\" class=\"dataframe\">\n",
       "  <thead>\n",
       "    <tr style=\"text-align: right;\">\n",
       "      <th></th>\n",
       "      <th>id</th>\n",
       "      <th>status_group</th>\n",
       "      <th>gps_height</th>\n",
       "      <th>longitude</th>\n",
       "      <th>latitude</th>\n",
       "      <th>basin</th>\n",
       "      <th>extraction_type_class</th>\n",
       "      <th>payment</th>\n",
       "      <th>quantity</th>\n",
       "      <th>water_quality</th>\n",
       "      <th>source_class</th>\n",
       "      <th>waterpoint_type_group</th>\n",
       "      <th>population</th>\n",
       "      <th>public_meeting</th>\n",
       "      <th>scheme_management</th>\n",
       "    </tr>\n",
       "  </thead>\n",
       "  <tbody>\n",
       "    <tr>\n",
       "      <th>20704</th>\n",
       "      <td>12335</td>\n",
       "      <td>functional</td>\n",
       "      <td>0</td>\n",
       "      <td>31.541619</td>\n",
       "      <td>-1.672945</td>\n",
       "      <td>Lake Victoria</td>\n",
       "      <td>gravity</td>\n",
       "      <td>never pay</td>\n",
       "      <td>enough</td>\n",
       "      <td>soft</td>\n",
       "      <td>groundwater</td>\n",
       "      <td>communal standpipe</td>\n",
       "      <td>0</td>\n",
       "      <td>True</td>\n",
       "      <td>VWC</td>\n",
       "    </tr>\n",
       "    <tr>\n",
       "      <th>26593</th>\n",
       "      <td>17633</td>\n",
       "      <td>functional</td>\n",
       "      <td>1283</td>\n",
       "      <td>35.184865</td>\n",
       "      <td>-8.738531</td>\n",
       "      <td>Rufiji</td>\n",
       "      <td>handpump</td>\n",
       "      <td>never pay</td>\n",
       "      <td>enough</td>\n",
       "      <td>soft</td>\n",
       "      <td>groundwater</td>\n",
       "      <td>hand pump</td>\n",
       "      <td>0</td>\n",
       "      <td>True</td>\n",
       "      <td>VWC</td>\n",
       "    </tr>\n",
       "    <tr>\n",
       "      <th>42366</th>\n",
       "      <td>14705</td>\n",
       "      <td>functional</td>\n",
       "      <td>984</td>\n",
       "      <td>35.484878</td>\n",
       "      <td>-10.628221</td>\n",
       "      <td>Lake Nyasa</td>\n",
       "      <td>gravity</td>\n",
       "      <td>pay when scheme fails</td>\n",
       "      <td>enough</td>\n",
       "      <td>soft</td>\n",
       "      <td>surface</td>\n",
       "      <td>communal standpipe</td>\n",
       "      <td>0</td>\n",
       "      <td>True</td>\n",
       "      <td>VWC</td>\n",
       "    </tr>\n",
       "  </tbody>\n",
       "</table>\n",
       "</div>"
      ],
      "text/plain": [
       "          id status_group  gps_height  longitude   latitude          basin extraction_type_class                payment quantity water_quality source_class waterpoint_type_group  population public_meeting scheme_management\n",
       "20704  12335   functional           0  31.541619  -1.672945  Lake Victoria               gravity              never pay   enough          soft  groundwater    communal standpipe           0           True               VWC\n",
       "26593  17633   functional        1283  35.184865  -8.738531         Rufiji              handpump              never pay   enough          soft  groundwater             hand pump           0           True               VWC\n",
       "42366  14705   functional         984  35.484878 -10.628221     Lake Nyasa               gravity  pay when scheme fails   enough          soft      surface    communal standpipe           0           True               VWC"
      ]
     },
     "execution_count": 17,
     "metadata": {},
     "output_type": "execute_result"
    }
   ],
   "source": [
    "feature_sel.sample(3)"
   ]
  },
  {
   "cell_type": "code",
   "execution_count": 18,
   "metadata": {},
   "outputs": [],
   "source": [
    "# Change what I predict to 1,2,3\n",
    "\n",
    "for i in range(len(feature_sel.status_group)):\n",
    "    if feature_sel.status_group[i] == 'functional':\n",
    "        feature_sel.at[i, 'status_group'] = 3\n",
    "    elif feature_sel.status_group[i] == 'functional needs repair':\n",
    "        feature_sel.at[i, 'status_group'] = 2\n",
    "    else:\n",
    "        feature_sel.at[i, 'status_group'] = 1"
   ]
  },
  {
   "cell_type": "code",
   "execution_count": 19,
   "metadata": {},
   "outputs": [
    {
     "data": {
      "text/html": [
       "<div>\n",
       "<style scoped>\n",
       "    .dataframe tbody tr th:only-of-type {\n",
       "        vertical-align: middle;\n",
       "    }\n",
       "\n",
       "    .dataframe tbody tr th {\n",
       "        vertical-align: top;\n",
       "    }\n",
       "\n",
       "    .dataframe thead th {\n",
       "        text-align: right;\n",
       "    }\n",
       "</style>\n",
       "<table border=\"1\" class=\"dataframe\">\n",
       "  <thead>\n",
       "    <tr style=\"text-align: right;\">\n",
       "      <th></th>\n",
       "      <th>status_group</th>\n",
       "      <th>gps_height</th>\n",
       "      <th>longitude</th>\n",
       "      <th>latitude</th>\n",
       "      <th>basin</th>\n",
       "      <th>extraction_type_class</th>\n",
       "      <th>payment</th>\n",
       "      <th>quantity</th>\n",
       "      <th>water_quality</th>\n",
       "      <th>source_class</th>\n",
       "      <th>waterpoint_type_group</th>\n",
       "      <th>population</th>\n",
       "      <th>public_meeting</th>\n",
       "      <th>scheme_management</th>\n",
       "    </tr>\n",
       "  </thead>\n",
       "  <tbody>\n",
       "    <tr>\n",
       "      <th>40435</th>\n",
       "      <td>3</td>\n",
       "      <td>1578</td>\n",
       "      <td>34.456198</td>\n",
       "      <td>-9.064051</td>\n",
       "      <td>Rufiji</td>\n",
       "      <td>gravity</td>\n",
       "      <td>pay when scheme fails</td>\n",
       "      <td>enough</td>\n",
       "      <td>soft</td>\n",
       "      <td>surface</td>\n",
       "      <td>communal standpipe</td>\n",
       "      <td>56</td>\n",
       "      <td>True</td>\n",
       "      <td>WUA</td>\n",
       "    </tr>\n",
       "    <tr>\n",
       "      <th>21286</th>\n",
       "      <td>3</td>\n",
       "      <td>206</td>\n",
       "      <td>39.078220</td>\n",
       "      <td>-9.862540</td>\n",
       "      <td>Ruvuma / Southern Coast</td>\n",
       "      <td>handpump</td>\n",
       "      <td>never pay</td>\n",
       "      <td>enough</td>\n",
       "      <td>salty</td>\n",
       "      <td>groundwater</td>\n",
       "      <td>hand pump</td>\n",
       "      <td>1680</td>\n",
       "      <td>True</td>\n",
       "      <td>VWC</td>\n",
       "    </tr>\n",
       "    <tr>\n",
       "      <th>38402</th>\n",
       "      <td>2</td>\n",
       "      <td>281</td>\n",
       "      <td>39.011854</td>\n",
       "      <td>-10.487682</td>\n",
       "      <td>Ruvuma / Southern Coast</td>\n",
       "      <td>gravity</td>\n",
       "      <td>never pay</td>\n",
       "      <td>insufficient</td>\n",
       "      <td>soft</td>\n",
       "      <td>groundwater</td>\n",
       "      <td>communal standpipe</td>\n",
       "      <td>49</td>\n",
       "      <td>True</td>\n",
       "      <td>VWC</td>\n",
       "    </tr>\n",
       "  </tbody>\n",
       "</table>\n",
       "</div>"
      ],
      "text/plain": [
       "      status_group  gps_height  longitude   latitude                    basin extraction_type_class                payment      quantity water_quality source_class waterpoint_type_group  population public_meeting scheme_management\n",
       "40435            3        1578  34.456198  -9.064051                   Rufiji               gravity  pay when scheme fails        enough          soft      surface    communal standpipe          56           True               WUA\n",
       "21286            3         206  39.078220  -9.862540  Ruvuma / Southern Coast              handpump              never pay        enough         salty  groundwater             hand pump        1680           True               VWC\n",
       "38402            2         281  39.011854 -10.487682  Ruvuma / Southern Coast               gravity              never pay  insufficient          soft  groundwater    communal standpipe          49           True               VWC"
      ]
     },
     "execution_count": 19,
     "metadata": {},
     "output_type": "execute_result"
    }
   ],
   "source": [
    "feature_sel=feature_sel.drop('id', axis=1)\n",
    "feature_sel.sample(3)"
   ]
  },
  {
   "cell_type": "code",
   "execution_count": 20,
   "metadata": {},
   "outputs": [
    {
     "data": {
      "text/html": [
       "<div>\n",
       "<style scoped>\n",
       "    .dataframe tbody tr th:only-of-type {\n",
       "        vertical-align: middle;\n",
       "    }\n",
       "\n",
       "    .dataframe tbody tr th {\n",
       "        vertical-align: top;\n",
       "    }\n",
       "\n",
       "    .dataframe thead th {\n",
       "        text-align: right;\n",
       "    }\n",
       "</style>\n",
       "<table border=\"1\" class=\"dataframe\">\n",
       "  <thead>\n",
       "    <tr style=\"text-align: right;\">\n",
       "      <th></th>\n",
       "      <th>status_group</th>\n",
       "      <th>gps_height</th>\n",
       "      <th>longitude</th>\n",
       "      <th>latitude</th>\n",
       "      <th>population</th>\n",
       "      <th>basin</th>\n",
       "      <th>extraction_type_class</th>\n",
       "      <th>payment</th>\n",
       "      <th>quantity</th>\n",
       "      <th>water_quality</th>\n",
       "      <th>source_class</th>\n",
       "      <th>waterpoint_type_group</th>\n",
       "      <th>public_meeting</th>\n",
       "      <th>scheme_management</th>\n",
       "    </tr>\n",
       "  </thead>\n",
       "  <tbody>\n",
       "    <tr>\n",
       "      <th>18146</th>\n",
       "      <td>3</td>\n",
       "      <td>1403</td>\n",
       "      <td>34.686050</td>\n",
       "      <td>-2.146819</td>\n",
       "      <td>140</td>\n",
       "      <td>Lake Victoria</td>\n",
       "      <td>motorpump</td>\n",
       "      <td>never pay</td>\n",
       "      <td>insufficient</td>\n",
       "      <td>salty</td>\n",
       "      <td>groundwater</td>\n",
       "      <td>communal standpipe</td>\n",
       "      <td>NaN</td>\n",
       "      <td>WUG</td>\n",
       "    </tr>\n",
       "    <tr>\n",
       "      <th>48082</th>\n",
       "      <td>1</td>\n",
       "      <td>1313</td>\n",
       "      <td>30.524735</td>\n",
       "      <td>-3.798826</td>\n",
       "      <td>230</td>\n",
       "      <td>Lake Tanganyika</td>\n",
       "      <td>gravity</td>\n",
       "      <td>unknown</td>\n",
       "      <td>enough</td>\n",
       "      <td>soft</td>\n",
       "      <td>surface</td>\n",
       "      <td>communal standpipe</td>\n",
       "      <td>True</td>\n",
       "      <td>VWC</td>\n",
       "    </tr>\n",
       "    <tr>\n",
       "      <th>39670</th>\n",
       "      <td>3</td>\n",
       "      <td>1290</td>\n",
       "      <td>36.893674</td>\n",
       "      <td>-3.108039</td>\n",
       "      <td>350</td>\n",
       "      <td>Internal</td>\n",
       "      <td>gravity</td>\n",
       "      <td>unknown</td>\n",
       "      <td>insufficient</td>\n",
       "      <td>soft</td>\n",
       "      <td>groundwater</td>\n",
       "      <td>communal standpipe</td>\n",
       "      <td>True</td>\n",
       "      <td>VWC</td>\n",
       "    </tr>\n",
       "  </tbody>\n",
       "</table>\n",
       "</div>"
      ],
      "text/plain": [
       "      status_group  gps_height  longitude  latitude  population            basin extraction_type_class    payment      quantity water_quality source_class waterpoint_type_group public_meeting scheme_management\n",
       "18146            3        1403  34.686050 -2.146819         140    Lake Victoria             motorpump  never pay  insufficient         salty  groundwater    communal standpipe            NaN               WUG\n",
       "48082            1        1313  30.524735 -3.798826         230  Lake Tanganyika               gravity    unknown        enough          soft      surface    communal standpipe           True               VWC\n",
       "39670            3        1290  36.893674 -3.108039         350         Internal               gravity    unknown  insufficient          soft  groundwater    communal standpipe           True               VWC"
      ]
     },
     "execution_count": 20,
     "metadata": {},
     "output_type": "execute_result"
    }
   ],
   "source": [
    "# rearange columns\n",
    "cols = feature_sel.columns.tolist()\n",
    "cols = ['status_group',\n",
    "             'gps_height',\n",
    "             'longitude',\n",
    "             'latitude',\n",
    "             'population',\n",
    "             'basin',\n",
    "             'extraction_type_class',\n",
    "             'payment',\n",
    "             'quantity',\n",
    "             'water_quality',\n",
    "             'source_class',\n",
    "             'waterpoint_type_group',\n",
    "             'public_meeting',\n",
    "             'scheme_management']\n",
    "feature_sel = feature_sel[cols]\n",
    "feature_sel.sample(3)"
   ]
  },
  {
   "cell_type": "code",
   "execution_count": 21,
   "metadata": {},
   "outputs": [
    {
     "data": {
      "text/html": [
       "<div>\n",
       "<style scoped>\n",
       "    .dataframe tbody tr th:only-of-type {\n",
       "        vertical-align: middle;\n",
       "    }\n",
       "\n",
       "    .dataframe tbody tr th {\n",
       "        vertical-align: top;\n",
       "    }\n",
       "\n",
       "    .dataframe thead th {\n",
       "        text-align: right;\n",
       "    }\n",
       "</style>\n",
       "<table border=\"1\" class=\"dataframe\">\n",
       "  <thead>\n",
       "    <tr style=\"text-align: right;\">\n",
       "      <th></th>\n",
       "      <th>status_group</th>\n",
       "      <th>gps_height</th>\n",
       "      <th>longitude</th>\n",
       "      <th>latitude</th>\n",
       "      <th>population</th>\n",
       "      <th>basin_Internal</th>\n",
       "      <th>basin_Lake Nyasa</th>\n",
       "      <th>basin_Lake Rukwa</th>\n",
       "      <th>basin_Lake Tanganyika</th>\n",
       "      <th>basin_Lake Victoria</th>\n",
       "      <th>...</th>\n",
       "      <th>scheme_management_Other</th>\n",
       "      <th>scheme_management_Parastatal</th>\n",
       "      <th>scheme_management_Private operator</th>\n",
       "      <th>scheme_management_SWC</th>\n",
       "      <th>scheme_management_Trust</th>\n",
       "      <th>scheme_management_VWC</th>\n",
       "      <th>scheme_management_WUA</th>\n",
       "      <th>scheme_management_WUG</th>\n",
       "      <th>scheme_management_Water Board</th>\n",
       "      <th>scheme_management_Water authority</th>\n",
       "    </tr>\n",
       "  </thead>\n",
       "  <tbody>\n",
       "    <tr>\n",
       "      <th>40688</th>\n",
       "      <td>3</td>\n",
       "      <td>0</td>\n",
       "      <td>0.000000</td>\n",
       "      <td>-2.000000e-08</td>\n",
       "      <td>0</td>\n",
       "      <td>0</td>\n",
       "      <td>0</td>\n",
       "      <td>0</td>\n",
       "      <td>0</td>\n",
       "      <td>1</td>\n",
       "      <td>...</td>\n",
       "      <td>0</td>\n",
       "      <td>0</td>\n",
       "      <td>0</td>\n",
       "      <td>0</td>\n",
       "      <td>0</td>\n",
       "      <td>0</td>\n",
       "      <td>0</td>\n",
       "      <td>0</td>\n",
       "      <td>0</td>\n",
       "      <td>1</td>\n",
       "    </tr>\n",
       "    <tr>\n",
       "      <th>28447</th>\n",
       "      <td>3</td>\n",
       "      <td>0</td>\n",
       "      <td>31.173026</td>\n",
       "      <td>-1.560288e+00</td>\n",
       "      <td>0</td>\n",
       "      <td>0</td>\n",
       "      <td>0</td>\n",
       "      <td>0</td>\n",
       "      <td>0</td>\n",
       "      <td>1</td>\n",
       "      <td>...</td>\n",
       "      <td>0</td>\n",
       "      <td>0</td>\n",
       "      <td>0</td>\n",
       "      <td>0</td>\n",
       "      <td>0</td>\n",
       "      <td>1</td>\n",
       "      <td>0</td>\n",
       "      <td>0</td>\n",
       "      <td>0</td>\n",
       "      <td>0</td>\n",
       "    </tr>\n",
       "    <tr>\n",
       "      <th>19920</th>\n",
       "      <td>2</td>\n",
       "      <td>983</td>\n",
       "      <td>29.724092</td>\n",
       "      <td>-4.786516e+00</td>\n",
       "      <td>400</td>\n",
       "      <td>0</td>\n",
       "      <td>0</td>\n",
       "      <td>0</td>\n",
       "      <td>1</td>\n",
       "      <td>0</td>\n",
       "      <td>...</td>\n",
       "      <td>0</td>\n",
       "      <td>0</td>\n",
       "      <td>0</td>\n",
       "      <td>0</td>\n",
       "      <td>0</td>\n",
       "      <td>0</td>\n",
       "      <td>0</td>\n",
       "      <td>1</td>\n",
       "      <td>0</td>\n",
       "      <td>0</td>\n",
       "    </tr>\n",
       "  </tbody>\n",
       "</table>\n",
       "<p>3 rows × 64 columns</p>\n",
       "</div>"
      ],
      "text/plain": [
       "      status_group  gps_height  longitude      latitude  population  basin_Internal  basin_Lake Nyasa  basin_Lake Rukwa  basin_Lake Tanganyika  basin_Lake Victoria                ...                  scheme_management_Other  scheme_management_Parastatal  scheme_management_Private operator  scheme_management_SWC  scheme_management_Trust  scheme_management_VWC  scheme_management_WUA  scheme_management_WUG  scheme_management_Water Board  scheme_management_Water authority\n",
       "40688            3           0   0.000000 -2.000000e-08           0               0                 0                 0                      0                    1                ...                                        0                             0                                   0                      0                        0                      0                      0                      0                              0                                  1\n",
       "28447            3           0  31.173026 -1.560288e+00           0               0                 0                 0                      0                    1                ...                                        0                             0                                   0                      0                        0                      1                      0                      0                              0                                  0\n",
       "19920            2         983  29.724092 -4.786516e+00         400               0                 0                 0                      1                    0                ...                                        0                             0                                   0                      0                        0                      0                      0                      1                              0                                  0\n",
       "\n",
       "[3 rows x 64 columns]"
      ]
     },
     "execution_count": 21,
     "metadata": {},
     "output_type": "execute_result"
    }
   ],
   "source": [
    "#create dummy features for applicabe\n",
    "\n",
    "feature_sel = pd.get_dummies(feature_sel,columns=list(feature_sel.columns[5:]))\n",
    "feature_sel.sample(3)"
   ]
  },
  {
   "cell_type": "code",
   "execution_count": 22,
   "metadata": {},
   "outputs": [],
   "source": [
    "columns = list(feature_sel.columns)\n",
    "feature_sel[columns[5:]] = feature_sel[columns[5:]].astype(int)\n",
    "feature_sel[columns[0]] = feature_sel[columns[0]].astype(int)"
   ]
  },
  {
   "cell_type": "code",
   "execution_count": 23,
   "metadata": {},
   "outputs": [],
   "source": [
    "y = feature_sel.status_group\n",
    "X = feature_sel.drop('status_group', axis=1)"
   ]
  },
  {
   "cell_type": "code",
   "execution_count": 24,
   "metadata": {},
   "outputs": [],
   "source": [
    "X_train, X_test, y_train, y_test = train_test_split(X, y, test_size=0)"
   ]
  },
  {
   "cell_type": "code",
   "execution_count": 25,
   "metadata": {},
   "outputs": [
    {
     "data": {
      "text/plain": [
       "DecisionTreeClassifier(class_weight=None, criterion='gini', max_depth=None,\n",
       "            max_features=None, max_leaf_nodes=None,\n",
       "            min_impurity_decrease=0.0, min_impurity_split=None,\n",
       "            min_samples_leaf=1, min_samples_split=2,\n",
       "            min_weight_fraction_leaf=0.0, presort=False, random_state=0,\n",
       "            splitter='best')"
      ]
     },
     "execution_count": 25,
     "metadata": {},
     "output_type": "execute_result"
    }
   ],
   "source": [
    "decisiontree = DecisionTreeClassifier(random_state=0)\n",
    "decisiontree.fit(X_train,y_train)"
   ]
  },
  {
   "cell_type": "code",
   "execution_count": 26,
   "metadata": {},
   "outputs": [
    {
     "ename": "ValueError",
     "evalue": "Found array with 0 sample(s) (shape=(0, 63)) while a minimum of 1 is required.",
     "output_type": "error",
     "traceback": [
      "\u001b[0;31m---------------------------------------------------------------------------\u001b[0m",
      "\u001b[0;31mValueError\u001b[0m                                Traceback (most recent call last)",
      "\u001b[0;32m<ipython-input-26-8bf88947bc54>\u001b[0m in \u001b[0;36m<module>\u001b[0;34m()\u001b[0m\n\u001b[0;32m----> 1\u001b[0;31m \u001b[0mdecisiontree\u001b[0m\u001b[0;34m.\u001b[0m\u001b[0mscore\u001b[0m\u001b[0;34m(\u001b[0m\u001b[0mX_test\u001b[0m\u001b[0;34m,\u001b[0m\u001b[0my_test\u001b[0m\u001b[0;34m)\u001b[0m\u001b[0;34m\u001b[0m\u001b[0m\n\u001b[0m",
      "\u001b[0;32m/anaconda3/lib/python3.6/site-packages/sklearn/base.py\u001b[0m in \u001b[0;36mscore\u001b[0;34m(self, X, y, sample_weight)\u001b[0m\n\u001b[1;32m    347\u001b[0m         \"\"\"\n\u001b[1;32m    348\u001b[0m         \u001b[0;32mfrom\u001b[0m \u001b[0;34m.\u001b[0m\u001b[0mmetrics\u001b[0m \u001b[0;32mimport\u001b[0m \u001b[0maccuracy_score\u001b[0m\u001b[0;34m\u001b[0m\u001b[0m\n\u001b[0;32m--> 349\u001b[0;31m         \u001b[0;32mreturn\u001b[0m \u001b[0maccuracy_score\u001b[0m\u001b[0;34m(\u001b[0m\u001b[0my\u001b[0m\u001b[0;34m,\u001b[0m \u001b[0mself\u001b[0m\u001b[0;34m.\u001b[0m\u001b[0mpredict\u001b[0m\u001b[0;34m(\u001b[0m\u001b[0mX\u001b[0m\u001b[0;34m)\u001b[0m\u001b[0;34m,\u001b[0m \u001b[0msample_weight\u001b[0m\u001b[0;34m=\u001b[0m\u001b[0msample_weight\u001b[0m\u001b[0;34m)\u001b[0m\u001b[0;34m\u001b[0m\u001b[0m\n\u001b[0m\u001b[1;32m    350\u001b[0m \u001b[0;34m\u001b[0m\u001b[0m\n\u001b[1;32m    351\u001b[0m \u001b[0;34m\u001b[0m\u001b[0m\n",
      "\u001b[0;32m/anaconda3/lib/python3.6/site-packages/sklearn/tree/tree.py\u001b[0m in \u001b[0;36mpredict\u001b[0;34m(self, X, check_input)\u001b[0m\n\u001b[1;32m    410\u001b[0m         \"\"\"\n\u001b[1;32m    411\u001b[0m         \u001b[0mcheck_is_fitted\u001b[0m\u001b[0;34m(\u001b[0m\u001b[0mself\u001b[0m\u001b[0;34m,\u001b[0m \u001b[0;34m'tree_'\u001b[0m\u001b[0;34m)\u001b[0m\u001b[0;34m\u001b[0m\u001b[0m\n\u001b[0;32m--> 412\u001b[0;31m         \u001b[0mX\u001b[0m \u001b[0;34m=\u001b[0m \u001b[0mself\u001b[0m\u001b[0;34m.\u001b[0m\u001b[0m_validate_X_predict\u001b[0m\u001b[0;34m(\u001b[0m\u001b[0mX\u001b[0m\u001b[0;34m,\u001b[0m \u001b[0mcheck_input\u001b[0m\u001b[0;34m)\u001b[0m\u001b[0;34m\u001b[0m\u001b[0m\n\u001b[0m\u001b[1;32m    413\u001b[0m         \u001b[0mproba\u001b[0m \u001b[0;34m=\u001b[0m \u001b[0mself\u001b[0m\u001b[0;34m.\u001b[0m\u001b[0mtree_\u001b[0m\u001b[0;34m.\u001b[0m\u001b[0mpredict\u001b[0m\u001b[0;34m(\u001b[0m\u001b[0mX\u001b[0m\u001b[0;34m)\u001b[0m\u001b[0;34m\u001b[0m\u001b[0m\n\u001b[1;32m    414\u001b[0m         \u001b[0mn_samples\u001b[0m \u001b[0;34m=\u001b[0m \u001b[0mX\u001b[0m\u001b[0;34m.\u001b[0m\u001b[0mshape\u001b[0m\u001b[0;34m[\u001b[0m\u001b[0;36m0\u001b[0m\u001b[0;34m]\u001b[0m\u001b[0;34m\u001b[0m\u001b[0m\n",
      "\u001b[0;32m/anaconda3/lib/python3.6/site-packages/sklearn/tree/tree.py\u001b[0m in \u001b[0;36m_validate_X_predict\u001b[0;34m(self, X, check_input)\u001b[0m\n\u001b[1;32m    371\u001b[0m         \u001b[0;34m\"\"\"Validate X whenever one tries to predict, apply, predict_proba\"\"\"\u001b[0m\u001b[0;34m\u001b[0m\u001b[0m\n\u001b[1;32m    372\u001b[0m         \u001b[0;32mif\u001b[0m \u001b[0mcheck_input\u001b[0m\u001b[0;34m:\u001b[0m\u001b[0;34m\u001b[0m\u001b[0m\n\u001b[0;32m--> 373\u001b[0;31m             \u001b[0mX\u001b[0m \u001b[0;34m=\u001b[0m \u001b[0mcheck_array\u001b[0m\u001b[0;34m(\u001b[0m\u001b[0mX\u001b[0m\u001b[0;34m,\u001b[0m \u001b[0mdtype\u001b[0m\u001b[0;34m=\u001b[0m\u001b[0mDTYPE\u001b[0m\u001b[0;34m,\u001b[0m \u001b[0maccept_sparse\u001b[0m\u001b[0;34m=\u001b[0m\u001b[0;34m\"csr\"\u001b[0m\u001b[0;34m)\u001b[0m\u001b[0;34m\u001b[0m\u001b[0m\n\u001b[0m\u001b[1;32m    374\u001b[0m             if issparse(X) and (X.indices.dtype != np.intc or\n\u001b[1;32m    375\u001b[0m                                 X.indptr.dtype != np.intc):\n",
      "\u001b[0;32m/anaconda3/lib/python3.6/site-packages/sklearn/utils/validation.py\u001b[0m in \u001b[0;36mcheck_array\u001b[0;34m(array, accept_sparse, dtype, order, copy, force_all_finite, ensure_2d, allow_nd, ensure_min_samples, ensure_min_features, warn_on_dtype, estimator)\u001b[0m\n\u001b[1;32m    460\u001b[0m                              \u001b[0;34m\" minimum of %d is required%s.\"\u001b[0m\u001b[0;34m\u001b[0m\u001b[0m\n\u001b[1;32m    461\u001b[0m                              % (n_samples, shape_repr, ensure_min_samples,\n\u001b[0;32m--> 462\u001b[0;31m                                 context))\n\u001b[0m\u001b[1;32m    463\u001b[0m \u001b[0;34m\u001b[0m\u001b[0m\n\u001b[1;32m    464\u001b[0m     \u001b[0;32mif\u001b[0m \u001b[0mensure_min_features\u001b[0m \u001b[0;34m>\u001b[0m \u001b[0;36m0\u001b[0m \u001b[0;32mand\u001b[0m \u001b[0marray\u001b[0m\u001b[0;34m.\u001b[0m\u001b[0mndim\u001b[0m \u001b[0;34m==\u001b[0m \u001b[0;36m2\u001b[0m\u001b[0;34m:\u001b[0m\u001b[0;34m\u001b[0m\u001b[0m\n",
      "\u001b[0;31mValueError\u001b[0m: Found array with 0 sample(s) (shape=(0, 63)) while a minimum of 1 is required."
     ]
    }
   ],
   "source": [
    "decisiontree.score(X_test,y_test)"
   ]
  },
  {
   "cell_type": "markdown",
   "metadata": {},
   "source": [
    "## DT on competition datsa"
   ]
  },
  {
   "cell_type": "code",
   "execution_count": 38,
   "metadata": {},
   "outputs": [],
   "source": [
    "df_test_values = df_test_values[['gps_height', 'longitude', 'latitude', 'population','basin',\n",
    "                  'extraction_type_class','payment','quantity','water_quality', 'source_class',\n",
    "                  'waterpoint_type_group','public_meeting','scheme_management']]"
   ]
  },
  {
   "cell_type": "code",
   "execution_count": 39,
   "metadata": {},
   "outputs": [
    {
     "data": {
      "text/html": [
       "<div>\n",
       "<style scoped>\n",
       "    .dataframe tbody tr th:only-of-type {\n",
       "        vertical-align: middle;\n",
       "    }\n",
       "\n",
       "    .dataframe tbody tr th {\n",
       "        vertical-align: top;\n",
       "    }\n",
       "\n",
       "    .dataframe thead th {\n",
       "        text-align: right;\n",
       "    }\n",
       "</style>\n",
       "<table border=\"1\" class=\"dataframe\">\n",
       "  <thead>\n",
       "    <tr style=\"text-align: right;\">\n",
       "      <th></th>\n",
       "      <th>gps_height</th>\n",
       "      <th>longitude</th>\n",
       "      <th>latitude</th>\n",
       "      <th>population</th>\n",
       "      <th>basin</th>\n",
       "      <th>extraction_type_class</th>\n",
       "      <th>payment</th>\n",
       "      <th>quantity</th>\n",
       "      <th>water_quality</th>\n",
       "      <th>source_class</th>\n",
       "      <th>waterpoint_type_group</th>\n",
       "      <th>public_meeting</th>\n",
       "      <th>scheme_management</th>\n",
       "    </tr>\n",
       "  </thead>\n",
       "  <tbody>\n",
       "    <tr>\n",
       "      <th>0</th>\n",
       "      <td>1996</td>\n",
       "      <td>35.290799</td>\n",
       "      <td>-4.059696e+00</td>\n",
       "      <td>321</td>\n",
       "      <td>Internal</td>\n",
       "      <td>other</td>\n",
       "      <td>never pay</td>\n",
       "      <td>seasonal</td>\n",
       "      <td>soft</td>\n",
       "      <td>surface</td>\n",
       "      <td>other</td>\n",
       "      <td>True</td>\n",
       "      <td>Parastatal</td>\n",
       "    </tr>\n",
       "    <tr>\n",
       "      <th>1</th>\n",
       "      <td>1569</td>\n",
       "      <td>36.656709</td>\n",
       "      <td>-3.309214e+00</td>\n",
       "      <td>300</td>\n",
       "      <td>Pangani</td>\n",
       "      <td>gravity</td>\n",
       "      <td>never pay</td>\n",
       "      <td>insufficient</td>\n",
       "      <td>soft</td>\n",
       "      <td>groundwater</td>\n",
       "      <td>communal standpipe</td>\n",
       "      <td>True</td>\n",
       "      <td>VWC</td>\n",
       "    </tr>\n",
       "    <tr>\n",
       "      <th>2</th>\n",
       "      <td>1567</td>\n",
       "      <td>34.767863</td>\n",
       "      <td>-5.004344e+00</td>\n",
       "      <td>500</td>\n",
       "      <td>Internal</td>\n",
       "      <td>other</td>\n",
       "      <td>never pay</td>\n",
       "      <td>insufficient</td>\n",
       "      <td>soft</td>\n",
       "      <td>surface</td>\n",
       "      <td>other</td>\n",
       "      <td>True</td>\n",
       "      <td>VWC</td>\n",
       "    </tr>\n",
       "    <tr>\n",
       "      <th>3</th>\n",
       "      <td>267</td>\n",
       "      <td>38.058046</td>\n",
       "      <td>-9.418672e+00</td>\n",
       "      <td>250</td>\n",
       "      <td>Ruvuma / Southern Coast</td>\n",
       "      <td>other</td>\n",
       "      <td>unknown</td>\n",
       "      <td>dry</td>\n",
       "      <td>soft</td>\n",
       "      <td>groundwater</td>\n",
       "      <td>other</td>\n",
       "      <td>NaN</td>\n",
       "      <td>VWC</td>\n",
       "    </tr>\n",
       "    <tr>\n",
       "      <th>4</th>\n",
       "      <td>1260</td>\n",
       "      <td>35.006123</td>\n",
       "      <td>-1.095041e+01</td>\n",
       "      <td>60</td>\n",
       "      <td>Ruvuma / Southern Coast</td>\n",
       "      <td>gravity</td>\n",
       "      <td>pay monthly</td>\n",
       "      <td>enough</td>\n",
       "      <td>soft</td>\n",
       "      <td>groundwater</td>\n",
       "      <td>communal standpipe</td>\n",
       "      <td>NaN</td>\n",
       "      <td>Water Board</td>\n",
       "    </tr>\n",
       "    <tr>\n",
       "      <th>5</th>\n",
       "      <td>1685</td>\n",
       "      <td>36.685279</td>\n",
       "      <td>-3.302420e+00</td>\n",
       "      <td>200</td>\n",
       "      <td>Pangani</td>\n",
       "      <td>gravity</td>\n",
       "      <td>never pay</td>\n",
       "      <td>enough</td>\n",
       "      <td>soft</td>\n",
       "      <td>groundwater</td>\n",
       "      <td>communal standpipe</td>\n",
       "      <td>True</td>\n",
       "      <td>VWC</td>\n",
       "    </tr>\n",
       "    <tr>\n",
       "      <th>6</th>\n",
       "      <td>550</td>\n",
       "      <td>36.398041</td>\n",
       "      <td>-7.541382e+00</td>\n",
       "      <td>600</td>\n",
       "      <td>Rufiji</td>\n",
       "      <td>handpump</td>\n",
       "      <td>never pay</td>\n",
       "      <td>enough</td>\n",
       "      <td>salty</td>\n",
       "      <td>groundwater</td>\n",
       "      <td>hand pump</td>\n",
       "      <td>True</td>\n",
       "      <td>VWC</td>\n",
       "    </tr>\n",
       "    <tr>\n",
       "      <th>7</th>\n",
       "      <td>234</td>\n",
       "      <td>39.607420</td>\n",
       "      <td>-1.089379e+01</td>\n",
       "      <td>1</td>\n",
       "      <td>Ruvuma / Southern Coast</td>\n",
       "      <td>submersible</td>\n",
       "      <td>never pay</td>\n",
       "      <td>dry</td>\n",
       "      <td>soft</td>\n",
       "      <td>groundwater</td>\n",
       "      <td>communal standpipe</td>\n",
       "      <td>True</td>\n",
       "      <td>Water Board</td>\n",
       "    </tr>\n",
       "    <tr>\n",
       "      <th>8</th>\n",
       "      <td>584</td>\n",
       "      <td>39.262951</td>\n",
       "      <td>-1.082359e+01</td>\n",
       "      <td>40</td>\n",
       "      <td>Ruvuma / Southern Coast</td>\n",
       "      <td>gravity</td>\n",
       "      <td>pay per bucket</td>\n",
       "      <td>insufficient</td>\n",
       "      <td>soft</td>\n",
       "      <td>groundwater</td>\n",
       "      <td>communal standpipe</td>\n",
       "      <td>True</td>\n",
       "      <td>VWC</td>\n",
       "    </tr>\n",
       "    <tr>\n",
       "      <th>9</th>\n",
       "      <td>1083</td>\n",
       "      <td>37.096108</td>\n",
       "      <td>-3.251754e+00</td>\n",
       "      <td>1</td>\n",
       "      <td>Pangani</td>\n",
       "      <td>gravity</td>\n",
       "      <td>pay monthly</td>\n",
       "      <td>enough</td>\n",
       "      <td>soft</td>\n",
       "      <td>groundwater</td>\n",
       "      <td>communal standpipe</td>\n",
       "      <td>True</td>\n",
       "      <td>Water Board</td>\n",
       "    </tr>\n",
       "    <tr>\n",
       "      <th>10</th>\n",
       "      <td>1259</td>\n",
       "      <td>37.233248</td>\n",
       "      <td>-3.241121e+00</td>\n",
       "      <td>75</td>\n",
       "      <td>Pangani</td>\n",
       "      <td>gravity</td>\n",
       "      <td>pay per bucket</td>\n",
       "      <td>enough</td>\n",
       "      <td>soft</td>\n",
       "      <td>groundwater</td>\n",
       "      <td>communal standpipe</td>\n",
       "      <td>True</td>\n",
       "      <td>Water Board</td>\n",
       "    </tr>\n",
       "    <tr>\n",
       "      <th>11</th>\n",
       "      <td>608</td>\n",
       "      <td>37.686392</td>\n",
       "      <td>-4.555975e+00</td>\n",
       "      <td>500</td>\n",
       "      <td>Pangani</td>\n",
       "      <td>other</td>\n",
       "      <td>never pay</td>\n",
       "      <td>dry</td>\n",
       "      <td>soft</td>\n",
       "      <td>surface</td>\n",
       "      <td>other</td>\n",
       "      <td>True</td>\n",
       "      <td>NaN</td>\n",
       "    </tr>\n",
       "    <tr>\n",
       "      <th>12</th>\n",
       "      <td>0</td>\n",
       "      <td>33.661074</td>\n",
       "      <td>-4.165720e+00</td>\n",
       "      <td>0</td>\n",
       "      <td>Internal</td>\n",
       "      <td>motorpump</td>\n",
       "      <td>unknown</td>\n",
       "      <td>dry</td>\n",
       "      <td>soft</td>\n",
       "      <td>groundwater</td>\n",
       "      <td>communal standpipe</td>\n",
       "      <td>True</td>\n",
       "      <td>Other</td>\n",
       "    </tr>\n",
       "    <tr>\n",
       "      <th>13</th>\n",
       "      <td>0</td>\n",
       "      <td>33.007680</td>\n",
       "      <td>-3.209529e+00</td>\n",
       "      <td>0</td>\n",
       "      <td>Lake Victoria</td>\n",
       "      <td>motorpump</td>\n",
       "      <td>pay per bucket</td>\n",
       "      <td>enough</td>\n",
       "      <td>soft</td>\n",
       "      <td>groundwater</td>\n",
       "      <td>communal standpipe</td>\n",
       "      <td>True</td>\n",
       "      <td>VWC</td>\n",
       "    </tr>\n",
       "    <tr>\n",
       "      <th>14</th>\n",
       "      <td>1625</td>\n",
       "      <td>35.615624</td>\n",
       "      <td>-7.870290e+00</td>\n",
       "      <td>1</td>\n",
       "      <td>Rufiji</td>\n",
       "      <td>gravity</td>\n",
       "      <td>pay monthly</td>\n",
       "      <td>enough</td>\n",
       "      <td>soft</td>\n",
       "      <td>groundwater</td>\n",
       "      <td>communal standpipe</td>\n",
       "      <td>True</td>\n",
       "      <td>VWC</td>\n",
       "    </tr>\n",
       "    <tr>\n",
       "      <th>15</th>\n",
       "      <td>916</td>\n",
       "      <td>35.482886</td>\n",
       "      <td>-1.091260e+01</td>\n",
       "      <td>0</td>\n",
       "      <td>Ruvuma / Southern Coast</td>\n",
       "      <td>gravity</td>\n",
       "      <td>pay annually</td>\n",
       "      <td>enough</td>\n",
       "      <td>soft</td>\n",
       "      <td>surface</td>\n",
       "      <td>communal standpipe</td>\n",
       "      <td>True</td>\n",
       "      <td>VWC</td>\n",
       "    </tr>\n",
       "    <tr>\n",
       "      <th>16</th>\n",
       "      <td>-39</td>\n",
       "      <td>39.850190</td>\n",
       "      <td>-7.727946e+00</td>\n",
       "      <td>900</td>\n",
       "      <td>Rufiji</td>\n",
       "      <td>handpump</td>\n",
       "      <td>never pay</td>\n",
       "      <td>enough</td>\n",
       "      <td>soft</td>\n",
       "      <td>groundwater</td>\n",
       "      <td>hand pump</td>\n",
       "      <td>True</td>\n",
       "      <td>VWC</td>\n",
       "    </tr>\n",
       "    <tr>\n",
       "      <th>17</th>\n",
       "      <td>1793</td>\n",
       "      <td>38.254024</td>\n",
       "      <td>-4.565802e+00</td>\n",
       "      <td>1</td>\n",
       "      <td>Pangani</td>\n",
       "      <td>gravity</td>\n",
       "      <td>pay monthly</td>\n",
       "      <td>enough</td>\n",
       "      <td>soft</td>\n",
       "      <td>groundwater</td>\n",
       "      <td>communal standpipe</td>\n",
       "      <td>True</td>\n",
       "      <td>VWC</td>\n",
       "    </tr>\n",
       "    <tr>\n",
       "      <th>18</th>\n",
       "      <td>0</td>\n",
       "      <td>31.586798</td>\n",
       "      <td>-3.387808e+00</td>\n",
       "      <td>0</td>\n",
       "      <td>Lake Tanganyika</td>\n",
       "      <td>gravity</td>\n",
       "      <td>unknown</td>\n",
       "      <td>seasonal</td>\n",
       "      <td>soft</td>\n",
       "      <td>surface</td>\n",
       "      <td>communal standpipe</td>\n",
       "      <td>True</td>\n",
       "      <td>Parastatal</td>\n",
       "    </tr>\n",
       "    <tr>\n",
       "      <th>19</th>\n",
       "      <td>368</td>\n",
       "      <td>39.438526</td>\n",
       "      <td>-1.058337e+01</td>\n",
       "      <td>300</td>\n",
       "      <td>Ruvuma / Southern Coast</td>\n",
       "      <td>submersible</td>\n",
       "      <td>never pay</td>\n",
       "      <td>dry</td>\n",
       "      <td>soft</td>\n",
       "      <td>groundwater</td>\n",
       "      <td>communal standpipe</td>\n",
       "      <td>True</td>\n",
       "      <td>Water Board</td>\n",
       "    </tr>\n",
       "    <tr>\n",
       "      <th>20</th>\n",
       "      <td>-27</td>\n",
       "      <td>39.322307</td>\n",
       "      <td>-6.850262e+00</td>\n",
       "      <td>120</td>\n",
       "      <td>Wami / Ruvu</td>\n",
       "      <td>submersible</td>\n",
       "      <td>never pay</td>\n",
       "      <td>enough</td>\n",
       "      <td>soft</td>\n",
       "      <td>groundwater</td>\n",
       "      <td>communal standpipe</td>\n",
       "      <td>True</td>\n",
       "      <td>SWC</td>\n",
       "    </tr>\n",
       "    <tr>\n",
       "      <th>21</th>\n",
       "      <td>1674</td>\n",
       "      <td>34.943620</td>\n",
       "      <td>-9.352515e+00</td>\n",
       "      <td>30</td>\n",
       "      <td>Rufiji</td>\n",
       "      <td>gravity</td>\n",
       "      <td>never pay</td>\n",
       "      <td>insufficient</td>\n",
       "      <td>soft</td>\n",
       "      <td>groundwater</td>\n",
       "      <td>communal standpipe</td>\n",
       "      <td>True</td>\n",
       "      <td>VWC</td>\n",
       "    </tr>\n",
       "    <tr>\n",
       "      <th>22</th>\n",
       "      <td>1087</td>\n",
       "      <td>31.046088</td>\n",
       "      <td>-5.054196e+00</td>\n",
       "      <td>1750</td>\n",
       "      <td>Lake Tanganyika</td>\n",
       "      <td>other</td>\n",
       "      <td>unknown</td>\n",
       "      <td>enough</td>\n",
       "      <td>milky</td>\n",
       "      <td>groundwater</td>\n",
       "      <td>other</td>\n",
       "      <td>True</td>\n",
       "      <td>VWC</td>\n",
       "    </tr>\n",
       "    <tr>\n",
       "      <th>23</th>\n",
       "      <td>1441</td>\n",
       "      <td>34.621048</td>\n",
       "      <td>-5.165926e+00</td>\n",
       "      <td>1</td>\n",
       "      <td>Internal</td>\n",
       "      <td>motorpump</td>\n",
       "      <td>unknown</td>\n",
       "      <td>dry</td>\n",
       "      <td>unknown</td>\n",
       "      <td>groundwater</td>\n",
       "      <td>communal standpipe</td>\n",
       "      <td>True</td>\n",
       "      <td>VWC</td>\n",
       "    </tr>\n",
       "    <tr>\n",
       "      <th>24</th>\n",
       "      <td>0</td>\n",
       "      <td>33.722359</td>\n",
       "      <td>-3.047122e+00</td>\n",
       "      <td>0</td>\n",
       "      <td>Lake Victoria</td>\n",
       "      <td>handpump</td>\n",
       "      <td>never pay</td>\n",
       "      <td>enough</td>\n",
       "      <td>soft</td>\n",
       "      <td>groundwater</td>\n",
       "      <td>hand pump</td>\n",
       "      <td>True</td>\n",
       "      <td>WUG</td>\n",
       "    </tr>\n",
       "    <tr>\n",
       "      <th>25</th>\n",
       "      <td>1726</td>\n",
       "      <td>34.929592</td>\n",
       "      <td>-9.152872e+00</td>\n",
       "      <td>50</td>\n",
       "      <td>Rufiji</td>\n",
       "      <td>gravity</td>\n",
       "      <td>pay monthly</td>\n",
       "      <td>enough</td>\n",
       "      <td>soft</td>\n",
       "      <td>groundwater</td>\n",
       "      <td>communal standpipe</td>\n",
       "      <td>True</td>\n",
       "      <td>VWC</td>\n",
       "    </tr>\n",
       "    <tr>\n",
       "      <th>26</th>\n",
       "      <td>986</td>\n",
       "      <td>35.424443</td>\n",
       "      <td>-1.057969e+01</td>\n",
       "      <td>0</td>\n",
       "      <td>Ruvuma / Southern Coast</td>\n",
       "      <td>gravity</td>\n",
       "      <td>never pay</td>\n",
       "      <td>dry</td>\n",
       "      <td>soft</td>\n",
       "      <td>surface</td>\n",
       "      <td>communal standpipe</td>\n",
       "      <td>True</td>\n",
       "      <td>VWC</td>\n",
       "    </tr>\n",
       "    <tr>\n",
       "      <th>27</th>\n",
       "      <td>0</td>\n",
       "      <td>35.894877</td>\n",
       "      <td>-6.147522e+00</td>\n",
       "      <td>0</td>\n",
       "      <td>Wami / Ruvu</td>\n",
       "      <td>motorpump</td>\n",
       "      <td>pay per bucket</td>\n",
       "      <td>dry</td>\n",
       "      <td>salty</td>\n",
       "      <td>groundwater</td>\n",
       "      <td>communal standpipe</td>\n",
       "      <td>True</td>\n",
       "      <td>VWC</td>\n",
       "    </tr>\n",
       "    <tr>\n",
       "      <th>28</th>\n",
       "      <td>0</td>\n",
       "      <td>0.000000</td>\n",
       "      <td>-2.000000e-08</td>\n",
       "      <td>0</td>\n",
       "      <td>Lake Victoria</td>\n",
       "      <td>handpump</td>\n",
       "      <td>pay when scheme fails</td>\n",
       "      <td>enough</td>\n",
       "      <td>salty abandoned</td>\n",
       "      <td>groundwater</td>\n",
       "      <td>hand pump</td>\n",
       "      <td>True</td>\n",
       "      <td>WUG</td>\n",
       "    </tr>\n",
       "    <tr>\n",
       "      <th>29</th>\n",
       "      <td>1309</td>\n",
       "      <td>36.291761</td>\n",
       "      <td>-5.242313e+00</td>\n",
       "      <td>860</td>\n",
       "      <td>Internal</td>\n",
       "      <td>gravity</td>\n",
       "      <td>never pay</td>\n",
       "      <td>seasonal</td>\n",
       "      <td>soft</td>\n",
       "      <td>surface</td>\n",
       "      <td>communal standpipe</td>\n",
       "      <td>True</td>\n",
       "      <td>VWC</td>\n",
       "    </tr>\n",
       "    <tr>\n",
       "      <th>...</th>\n",
       "      <td>...</td>\n",
       "      <td>...</td>\n",
       "      <td>...</td>\n",
       "      <td>...</td>\n",
       "      <td>...</td>\n",
       "      <td>...</td>\n",
       "      <td>...</td>\n",
       "      <td>...</td>\n",
       "      <td>...</td>\n",
       "      <td>...</td>\n",
       "      <td>...</td>\n",
       "      <td>...</td>\n",
       "      <td>...</td>\n",
       "    </tr>\n",
       "    <tr>\n",
       "      <th>14820</th>\n",
       "      <td>265</td>\n",
       "      <td>38.504640</td>\n",
       "      <td>-1.016990e+01</td>\n",
       "      <td>749</td>\n",
       "      <td>Ruvuma / Southern Coast</td>\n",
       "      <td>gravity</td>\n",
       "      <td>never pay</td>\n",
       "      <td>seasonal</td>\n",
       "      <td>soft</td>\n",
       "      <td>surface</td>\n",
       "      <td>communal standpipe</td>\n",
       "      <td>True</td>\n",
       "      <td>VWC</td>\n",
       "    </tr>\n",
       "    <tr>\n",
       "      <th>14821</th>\n",
       "      <td>1322</td>\n",
       "      <td>37.261731</td>\n",
       "      <td>-3.235687e+00</td>\n",
       "      <td>45</td>\n",
       "      <td>Pangani</td>\n",
       "      <td>gravity</td>\n",
       "      <td>pay per bucket</td>\n",
       "      <td>enough</td>\n",
       "      <td>soft</td>\n",
       "      <td>surface</td>\n",
       "      <td>communal standpipe</td>\n",
       "      <td>True</td>\n",
       "      <td>Water Board</td>\n",
       "    </tr>\n",
       "    <tr>\n",
       "      <th>14822</th>\n",
       "      <td>640</td>\n",
       "      <td>39.297410</td>\n",
       "      <td>-1.092504e+01</td>\n",
       "      <td>360</td>\n",
       "      <td>Ruvuma / Southern Coast</td>\n",
       "      <td>gravity</td>\n",
       "      <td>pay per bucket</td>\n",
       "      <td>insufficient</td>\n",
       "      <td>soft</td>\n",
       "      <td>groundwater</td>\n",
       "      <td>communal standpipe</td>\n",
       "      <td>True</td>\n",
       "      <td>Other</td>\n",
       "    </tr>\n",
       "    <tr>\n",
       "      <th>14823</th>\n",
       "      <td>0</td>\n",
       "      <td>33.918953</td>\n",
       "      <td>-9.298466e+00</td>\n",
       "      <td>0</td>\n",
       "      <td>Lake Nyasa</td>\n",
       "      <td>gravity</td>\n",
       "      <td>unknown</td>\n",
       "      <td>enough</td>\n",
       "      <td>soft</td>\n",
       "      <td>groundwater</td>\n",
       "      <td>communal standpipe</td>\n",
       "      <td>True</td>\n",
       "      <td>Parastatal</td>\n",
       "    </tr>\n",
       "    <tr>\n",
       "      <th>14824</th>\n",
       "      <td>574</td>\n",
       "      <td>37.070462</td>\n",
       "      <td>-6.575076e+00</td>\n",
       "      <td>250</td>\n",
       "      <td>Wami / Ruvu</td>\n",
       "      <td>handpump</td>\n",
       "      <td>never pay</td>\n",
       "      <td>insufficient</td>\n",
       "      <td>soft</td>\n",
       "      <td>groundwater</td>\n",
       "      <td>hand pump</td>\n",
       "      <td>True</td>\n",
       "      <td>VWC</td>\n",
       "    </tr>\n",
       "    <tr>\n",
       "      <th>14825</th>\n",
       "      <td>331</td>\n",
       "      <td>38.761961</td>\n",
       "      <td>-1.091314e+01</td>\n",
       "      <td>89</td>\n",
       "      <td>Ruvuma / Southern Coast</td>\n",
       "      <td>handpump</td>\n",
       "      <td>never pay</td>\n",
       "      <td>insufficient</td>\n",
       "      <td>soft</td>\n",
       "      <td>groundwater</td>\n",
       "      <td>hand pump</td>\n",
       "      <td>True</td>\n",
       "      <td>VWC</td>\n",
       "    </tr>\n",
       "    <tr>\n",
       "      <th>14826</th>\n",
       "      <td>0</td>\n",
       "      <td>32.243937</td>\n",
       "      <td>-3.311621e+00</td>\n",
       "      <td>0</td>\n",
       "      <td>Lake Tanganyika</td>\n",
       "      <td>handpump</td>\n",
       "      <td>unknown</td>\n",
       "      <td>enough</td>\n",
       "      <td>soft</td>\n",
       "      <td>groundwater</td>\n",
       "      <td>hand pump</td>\n",
       "      <td>NaN</td>\n",
       "      <td>WUG</td>\n",
       "    </tr>\n",
       "    <tr>\n",
       "      <th>14827</th>\n",
       "      <td>0</td>\n",
       "      <td>32.985694</td>\n",
       "      <td>-2.734208e+00</td>\n",
       "      <td>0</td>\n",
       "      <td>Lake Victoria</td>\n",
       "      <td>handpump</td>\n",
       "      <td>pay annually</td>\n",
       "      <td>enough</td>\n",
       "      <td>soft</td>\n",
       "      <td>groundwater</td>\n",
       "      <td>hand pump</td>\n",
       "      <td>True</td>\n",
       "      <td>VWC</td>\n",
       "    </tr>\n",
       "    <tr>\n",
       "      <th>14828</th>\n",
       "      <td>78</td>\n",
       "      <td>39.254272</td>\n",
       "      <td>-7.060921e+00</td>\n",
       "      <td>70</td>\n",
       "      <td>Wami / Ruvu</td>\n",
       "      <td>other</td>\n",
       "      <td>pay per bucket</td>\n",
       "      <td>enough</td>\n",
       "      <td>salty</td>\n",
       "      <td>groundwater</td>\n",
       "      <td>other</td>\n",
       "      <td>False</td>\n",
       "      <td>Private operator</td>\n",
       "    </tr>\n",
       "    <tr>\n",
       "      <th>14829</th>\n",
       "      <td>836</td>\n",
       "      <td>35.227320</td>\n",
       "      <td>-1.103905e+01</td>\n",
       "      <td>80</td>\n",
       "      <td>Ruvuma / Southern Coast</td>\n",
       "      <td>gravity</td>\n",
       "      <td>unknown</td>\n",
       "      <td>enough</td>\n",
       "      <td>soft</td>\n",
       "      <td>groundwater</td>\n",
       "      <td>communal standpipe</td>\n",
       "      <td>NaN</td>\n",
       "      <td>VWC</td>\n",
       "    </tr>\n",
       "    <tr>\n",
       "      <th>14830</th>\n",
       "      <td>1651</td>\n",
       "      <td>37.962243</td>\n",
       "      <td>-4.494348e+00</td>\n",
       "      <td>150</td>\n",
       "      <td>Pangani</td>\n",
       "      <td>gravity</td>\n",
       "      <td>never pay</td>\n",
       "      <td>insufficient</td>\n",
       "      <td>soft</td>\n",
       "      <td>groundwater</td>\n",
       "      <td>communal standpipe</td>\n",
       "      <td>True</td>\n",
       "      <td>Water authority</td>\n",
       "    </tr>\n",
       "    <tr>\n",
       "      <th>14831</th>\n",
       "      <td>0</td>\n",
       "      <td>0.000000</td>\n",
       "      <td>-2.000000e-08</td>\n",
       "      <td>0</td>\n",
       "      <td>Lake Victoria</td>\n",
       "      <td>handpump</td>\n",
       "      <td>never pay</td>\n",
       "      <td>enough</td>\n",
       "      <td>salty</td>\n",
       "      <td>groundwater</td>\n",
       "      <td>hand pump</td>\n",
       "      <td>True</td>\n",
       "      <td>VWC</td>\n",
       "    </tr>\n",
       "    <tr>\n",
       "      <th>14832</th>\n",
       "      <td>1393</td>\n",
       "      <td>36.930169</td>\n",
       "      <td>-3.255077e+00</td>\n",
       "      <td>260</td>\n",
       "      <td>Pangani</td>\n",
       "      <td>submersible</td>\n",
       "      <td>unknown</td>\n",
       "      <td>enough</td>\n",
       "      <td>fluoride abandoned</td>\n",
       "      <td>groundwater</td>\n",
       "      <td>communal standpipe</td>\n",
       "      <td>True</td>\n",
       "      <td>VWC</td>\n",
       "    </tr>\n",
       "    <tr>\n",
       "      <th>14833</th>\n",
       "      <td>1729</td>\n",
       "      <td>34.302104</td>\n",
       "      <td>-9.455737e+00</td>\n",
       "      <td>0</td>\n",
       "      <td>Lake Nyasa</td>\n",
       "      <td>gravity</td>\n",
       "      <td>pay annually</td>\n",
       "      <td>enough</td>\n",
       "      <td>soft</td>\n",
       "      <td>groundwater</td>\n",
       "      <td>communal standpipe</td>\n",
       "      <td>True</td>\n",
       "      <td>VWC</td>\n",
       "    </tr>\n",
       "    <tr>\n",
       "      <th>14834</th>\n",
       "      <td>0</td>\n",
       "      <td>35.840727</td>\n",
       "      <td>-4.633272e+00</td>\n",
       "      <td>0</td>\n",
       "      <td>Internal</td>\n",
       "      <td>gravity</td>\n",
       "      <td>pay monthly</td>\n",
       "      <td>insufficient</td>\n",
       "      <td>soft</td>\n",
       "      <td>groundwater</td>\n",
       "      <td>communal standpipe</td>\n",
       "      <td>True</td>\n",
       "      <td>VWC</td>\n",
       "    </tr>\n",
       "    <tr>\n",
       "      <th>14835</th>\n",
       "      <td>0</td>\n",
       "      <td>32.442886</td>\n",
       "      <td>-3.644662e+00</td>\n",
       "      <td>0</td>\n",
       "      <td>Lake Tanganyika</td>\n",
       "      <td>handpump</td>\n",
       "      <td>unknown</td>\n",
       "      <td>enough</td>\n",
       "      <td>soft</td>\n",
       "      <td>groundwater</td>\n",
       "      <td>hand pump</td>\n",
       "      <td>True</td>\n",
       "      <td>NaN</td>\n",
       "    </tr>\n",
       "    <tr>\n",
       "      <th>14836</th>\n",
       "      <td>-7</td>\n",
       "      <td>39.140091</td>\n",
       "      <td>-7.477423e+00</td>\n",
       "      <td>40</td>\n",
       "      <td>Rufiji</td>\n",
       "      <td>handpump</td>\n",
       "      <td>never pay</td>\n",
       "      <td>enough</td>\n",
       "      <td>soft</td>\n",
       "      <td>groundwater</td>\n",
       "      <td>hand pump</td>\n",
       "      <td>True</td>\n",
       "      <td>VWC</td>\n",
       "    </tr>\n",
       "    <tr>\n",
       "      <th>14837</th>\n",
       "      <td>1241</td>\n",
       "      <td>30.114667</td>\n",
       "      <td>-4.162845e+00</td>\n",
       "      <td>780</td>\n",
       "      <td>Lake Tanganyika</td>\n",
       "      <td>handpump</td>\n",
       "      <td>pay annually</td>\n",
       "      <td>enough</td>\n",
       "      <td>soft</td>\n",
       "      <td>groundwater</td>\n",
       "      <td>hand pump</td>\n",
       "      <td>True</td>\n",
       "      <td>Water authority</td>\n",
       "    </tr>\n",
       "    <tr>\n",
       "      <th>14838</th>\n",
       "      <td>2046</td>\n",
       "      <td>34.345525</td>\n",
       "      <td>-9.547077e+00</td>\n",
       "      <td>0</td>\n",
       "      <td>Lake Nyasa</td>\n",
       "      <td>gravity</td>\n",
       "      <td>pay annually</td>\n",
       "      <td>enough</td>\n",
       "      <td>soft</td>\n",
       "      <td>groundwater</td>\n",
       "      <td>communal standpipe</td>\n",
       "      <td>True</td>\n",
       "      <td>VWC</td>\n",
       "    </tr>\n",
       "    <tr>\n",
       "      <th>14839</th>\n",
       "      <td>347</td>\n",
       "      <td>38.613415</td>\n",
       "      <td>-4.815222e+00</td>\n",
       "      <td>300</td>\n",
       "      <td>Pangani</td>\n",
       "      <td>gravity</td>\n",
       "      <td>never pay</td>\n",
       "      <td>insufficient</td>\n",
       "      <td>soft</td>\n",
       "      <td>groundwater</td>\n",
       "      <td>communal standpipe</td>\n",
       "      <td>True</td>\n",
       "      <td>Other</td>\n",
       "    </tr>\n",
       "    <tr>\n",
       "      <th>14840</th>\n",
       "      <td>1291</td>\n",
       "      <td>35.345384</td>\n",
       "      <td>-9.831170e+00</td>\n",
       "      <td>0</td>\n",
       "      <td>Lake Nyasa</td>\n",
       "      <td>gravity</td>\n",
       "      <td>never pay</td>\n",
       "      <td>enough</td>\n",
       "      <td>soft</td>\n",
       "      <td>surface</td>\n",
       "      <td>communal standpipe</td>\n",
       "      <td>True</td>\n",
       "      <td>VWC</td>\n",
       "    </tr>\n",
       "    <tr>\n",
       "      <th>14841</th>\n",
       "      <td>0</td>\n",
       "      <td>0.000000</td>\n",
       "      <td>-2.000000e-08</td>\n",
       "      <td>0</td>\n",
       "      <td>Lake Victoria</td>\n",
       "      <td>handpump</td>\n",
       "      <td>unknown</td>\n",
       "      <td>enough</td>\n",
       "      <td>soft</td>\n",
       "      <td>groundwater</td>\n",
       "      <td>hand pump</td>\n",
       "      <td>NaN</td>\n",
       "      <td>WUG</td>\n",
       "    </tr>\n",
       "    <tr>\n",
       "      <th>14842</th>\n",
       "      <td>808</td>\n",
       "      <td>29.740224</td>\n",
       "      <td>-4.882705e+00</td>\n",
       "      <td>230</td>\n",
       "      <td>Lake Tanganyika</td>\n",
       "      <td>gravity</td>\n",
       "      <td>pay monthly</td>\n",
       "      <td>enough</td>\n",
       "      <td>soft</td>\n",
       "      <td>surface</td>\n",
       "      <td>communal standpipe</td>\n",
       "      <td>True</td>\n",
       "      <td>WUG</td>\n",
       "    </tr>\n",
       "    <tr>\n",
       "      <th>14843</th>\n",
       "      <td>1641</td>\n",
       "      <td>29.768139</td>\n",
       "      <td>-4.480618e+00</td>\n",
       "      <td>1400</td>\n",
       "      <td>Lake Tanganyika</td>\n",
       "      <td>other</td>\n",
       "      <td>never pay</td>\n",
       "      <td>enough</td>\n",
       "      <td>soft</td>\n",
       "      <td>groundwater</td>\n",
       "      <td>other</td>\n",
       "      <td>True</td>\n",
       "      <td>Water authority</td>\n",
       "    </tr>\n",
       "    <tr>\n",
       "      <th>14844</th>\n",
       "      <td>0</td>\n",
       "      <td>34.096878</td>\n",
       "      <td>-3.079689e+00</td>\n",
       "      <td>0</td>\n",
       "      <td>Lake Victoria</td>\n",
       "      <td>handpump</td>\n",
       "      <td>other</td>\n",
       "      <td>enough</td>\n",
       "      <td>soft</td>\n",
       "      <td>groundwater</td>\n",
       "      <td>hand pump</td>\n",
       "      <td>True</td>\n",
       "      <td>WUG</td>\n",
       "    </tr>\n",
       "    <tr>\n",
       "      <th>14845</th>\n",
       "      <td>34</td>\n",
       "      <td>38.852669</td>\n",
       "      <td>-6.582841e+00</td>\n",
       "      <td>20</td>\n",
       "      <td>Wami / Ruvu</td>\n",
       "      <td>motorpump</td>\n",
       "      <td>never pay</td>\n",
       "      <td>enough</td>\n",
       "      <td>soft</td>\n",
       "      <td>surface</td>\n",
       "      <td>communal standpipe</td>\n",
       "      <td>True</td>\n",
       "      <td>VWC</td>\n",
       "    </tr>\n",
       "    <tr>\n",
       "      <th>14846</th>\n",
       "      <td>0</td>\n",
       "      <td>37.451633</td>\n",
       "      <td>-5.350428e+00</td>\n",
       "      <td>2960</td>\n",
       "      <td>Pangani</td>\n",
       "      <td>handpump</td>\n",
       "      <td>pay annually</td>\n",
       "      <td>insufficient</td>\n",
       "      <td>salty</td>\n",
       "      <td>groundwater</td>\n",
       "      <td>hand pump</td>\n",
       "      <td>True</td>\n",
       "      <td>VWC</td>\n",
       "    </tr>\n",
       "    <tr>\n",
       "      <th>14847</th>\n",
       "      <td>1476</td>\n",
       "      <td>34.739804</td>\n",
       "      <td>-4.585587e+00</td>\n",
       "      <td>200</td>\n",
       "      <td>Internal</td>\n",
       "      <td>gravity</td>\n",
       "      <td>never pay</td>\n",
       "      <td>insufficient</td>\n",
       "      <td>soft</td>\n",
       "      <td>surface</td>\n",
       "      <td>communal standpipe</td>\n",
       "      <td>True</td>\n",
       "      <td>VWC</td>\n",
       "    </tr>\n",
       "    <tr>\n",
       "      <th>14848</th>\n",
       "      <td>998</td>\n",
       "      <td>35.432732</td>\n",
       "      <td>-1.058416e+01</td>\n",
       "      <td>150</td>\n",
       "      <td>Lake Nyasa</td>\n",
       "      <td>gravity</td>\n",
       "      <td>never pay</td>\n",
       "      <td>insufficient</td>\n",
       "      <td>soft</td>\n",
       "      <td>surface</td>\n",
       "      <td>communal standpipe</td>\n",
       "      <td>True</td>\n",
       "      <td>VWC</td>\n",
       "    </tr>\n",
       "    <tr>\n",
       "      <th>14849</th>\n",
       "      <td>481</td>\n",
       "      <td>34.765054</td>\n",
       "      <td>-1.122601e+01</td>\n",
       "      <td>40</td>\n",
       "      <td>Lake Nyasa</td>\n",
       "      <td>gravity</td>\n",
       "      <td>never pay</td>\n",
       "      <td>dry</td>\n",
       "      <td>soft</td>\n",
       "      <td>groundwater</td>\n",
       "      <td>communal standpipe</td>\n",
       "      <td>True</td>\n",
       "      <td>VWC</td>\n",
       "    </tr>\n",
       "  </tbody>\n",
       "</table>\n",
       "<p>14850 rows × 13 columns</p>\n",
       "</div>"
      ],
      "text/plain": [
       "       gps_height  longitude      latitude  population                    basin extraction_type_class                payment      quantity       water_quality source_class waterpoint_type_group public_meeting scheme_management\n",
       "0            1996  35.290799 -4.059696e+00         321                 Internal                 other              never pay      seasonal                soft      surface                 other           True        Parastatal\n",
       "1            1569  36.656709 -3.309214e+00         300                  Pangani               gravity              never pay  insufficient                soft  groundwater    communal standpipe           True               VWC\n",
       "2            1567  34.767863 -5.004344e+00         500                 Internal                 other              never pay  insufficient                soft      surface                 other           True               VWC\n",
       "3             267  38.058046 -9.418672e+00         250  Ruvuma / Southern Coast                 other                unknown           dry                soft  groundwater                 other            NaN               VWC\n",
       "4            1260  35.006123 -1.095041e+01          60  Ruvuma / Southern Coast               gravity            pay monthly        enough                soft  groundwater    communal standpipe            NaN       Water Board\n",
       "5            1685  36.685279 -3.302420e+00         200                  Pangani               gravity              never pay        enough                soft  groundwater    communal standpipe           True               VWC\n",
       "6             550  36.398041 -7.541382e+00         600                   Rufiji              handpump              never pay        enough               salty  groundwater             hand pump           True               VWC\n",
       "7             234  39.607420 -1.089379e+01           1  Ruvuma / Southern Coast           submersible              never pay           dry                soft  groundwater    communal standpipe           True       Water Board\n",
       "8             584  39.262951 -1.082359e+01          40  Ruvuma / Southern Coast               gravity         pay per bucket  insufficient                soft  groundwater    communal standpipe           True               VWC\n",
       "9            1083  37.096108 -3.251754e+00           1                  Pangani               gravity            pay monthly        enough                soft  groundwater    communal standpipe           True       Water Board\n",
       "10           1259  37.233248 -3.241121e+00          75                  Pangani               gravity         pay per bucket        enough                soft  groundwater    communal standpipe           True       Water Board\n",
       "11            608  37.686392 -4.555975e+00         500                  Pangani                 other              never pay           dry                soft      surface                 other           True               NaN\n",
       "12              0  33.661074 -4.165720e+00           0                 Internal             motorpump                unknown           dry                soft  groundwater    communal standpipe           True             Other\n",
       "13              0  33.007680 -3.209529e+00           0            Lake Victoria             motorpump         pay per bucket        enough                soft  groundwater    communal standpipe           True               VWC\n",
       "14           1625  35.615624 -7.870290e+00           1                   Rufiji               gravity            pay monthly        enough                soft  groundwater    communal standpipe           True               VWC\n",
       "15            916  35.482886 -1.091260e+01           0  Ruvuma / Southern Coast               gravity           pay annually        enough                soft      surface    communal standpipe           True               VWC\n",
       "16            -39  39.850190 -7.727946e+00         900                   Rufiji              handpump              never pay        enough                soft  groundwater             hand pump           True               VWC\n",
       "17           1793  38.254024 -4.565802e+00           1                  Pangani               gravity            pay monthly        enough                soft  groundwater    communal standpipe           True               VWC\n",
       "18              0  31.586798 -3.387808e+00           0          Lake Tanganyika               gravity                unknown      seasonal                soft      surface    communal standpipe           True        Parastatal\n",
       "19            368  39.438526 -1.058337e+01         300  Ruvuma / Southern Coast           submersible              never pay           dry                soft  groundwater    communal standpipe           True       Water Board\n",
       "20            -27  39.322307 -6.850262e+00         120              Wami / Ruvu           submersible              never pay        enough                soft  groundwater    communal standpipe           True               SWC\n",
       "21           1674  34.943620 -9.352515e+00          30                   Rufiji               gravity              never pay  insufficient                soft  groundwater    communal standpipe           True               VWC\n",
       "22           1087  31.046088 -5.054196e+00        1750          Lake Tanganyika                 other                unknown        enough               milky  groundwater                 other           True               VWC\n",
       "23           1441  34.621048 -5.165926e+00           1                 Internal             motorpump                unknown           dry             unknown  groundwater    communal standpipe           True               VWC\n",
       "24              0  33.722359 -3.047122e+00           0            Lake Victoria              handpump              never pay        enough                soft  groundwater             hand pump           True               WUG\n",
       "25           1726  34.929592 -9.152872e+00          50                   Rufiji               gravity            pay monthly        enough                soft  groundwater    communal standpipe           True               VWC\n",
       "26            986  35.424443 -1.057969e+01           0  Ruvuma / Southern Coast               gravity              never pay           dry                soft      surface    communal standpipe           True               VWC\n",
       "27              0  35.894877 -6.147522e+00           0              Wami / Ruvu             motorpump         pay per bucket           dry               salty  groundwater    communal standpipe           True               VWC\n",
       "28              0   0.000000 -2.000000e-08           0            Lake Victoria              handpump  pay when scheme fails        enough     salty abandoned  groundwater             hand pump           True               WUG\n",
       "29           1309  36.291761 -5.242313e+00         860                 Internal               gravity              never pay      seasonal                soft      surface    communal standpipe           True               VWC\n",
       "...           ...        ...           ...         ...                      ...                   ...                    ...           ...                 ...          ...                   ...            ...               ...\n",
       "14820         265  38.504640 -1.016990e+01         749  Ruvuma / Southern Coast               gravity              never pay      seasonal                soft      surface    communal standpipe           True               VWC\n",
       "14821        1322  37.261731 -3.235687e+00          45                  Pangani               gravity         pay per bucket        enough                soft      surface    communal standpipe           True       Water Board\n",
       "14822         640  39.297410 -1.092504e+01         360  Ruvuma / Southern Coast               gravity         pay per bucket  insufficient                soft  groundwater    communal standpipe           True             Other\n",
       "14823           0  33.918953 -9.298466e+00           0               Lake Nyasa               gravity                unknown        enough                soft  groundwater    communal standpipe           True        Parastatal\n",
       "14824         574  37.070462 -6.575076e+00         250              Wami / Ruvu              handpump              never pay  insufficient                soft  groundwater             hand pump           True               VWC\n",
       "14825         331  38.761961 -1.091314e+01          89  Ruvuma / Southern Coast              handpump              never pay  insufficient                soft  groundwater             hand pump           True               VWC\n",
       "14826           0  32.243937 -3.311621e+00           0          Lake Tanganyika              handpump                unknown        enough                soft  groundwater             hand pump            NaN               WUG\n",
       "14827           0  32.985694 -2.734208e+00           0            Lake Victoria              handpump           pay annually        enough                soft  groundwater             hand pump           True               VWC\n",
       "14828          78  39.254272 -7.060921e+00          70              Wami / Ruvu                 other         pay per bucket        enough               salty  groundwater                 other          False  Private operator\n",
       "14829         836  35.227320 -1.103905e+01          80  Ruvuma / Southern Coast               gravity                unknown        enough                soft  groundwater    communal standpipe            NaN               VWC\n",
       "14830        1651  37.962243 -4.494348e+00         150                  Pangani               gravity              never pay  insufficient                soft  groundwater    communal standpipe           True   Water authority\n",
       "14831           0   0.000000 -2.000000e-08           0            Lake Victoria              handpump              never pay        enough               salty  groundwater             hand pump           True               VWC\n",
       "14832        1393  36.930169 -3.255077e+00         260                  Pangani           submersible                unknown        enough  fluoride abandoned  groundwater    communal standpipe           True               VWC\n",
       "14833        1729  34.302104 -9.455737e+00           0               Lake Nyasa               gravity           pay annually        enough                soft  groundwater    communal standpipe           True               VWC\n",
       "14834           0  35.840727 -4.633272e+00           0                 Internal               gravity            pay monthly  insufficient                soft  groundwater    communal standpipe           True               VWC\n",
       "14835           0  32.442886 -3.644662e+00           0          Lake Tanganyika              handpump                unknown        enough                soft  groundwater             hand pump           True               NaN\n",
       "14836          -7  39.140091 -7.477423e+00          40                   Rufiji              handpump              never pay        enough                soft  groundwater             hand pump           True               VWC\n",
       "14837        1241  30.114667 -4.162845e+00         780          Lake Tanganyika              handpump           pay annually        enough                soft  groundwater             hand pump           True   Water authority\n",
       "14838        2046  34.345525 -9.547077e+00           0               Lake Nyasa               gravity           pay annually        enough                soft  groundwater    communal standpipe           True               VWC\n",
       "14839         347  38.613415 -4.815222e+00         300                  Pangani               gravity              never pay  insufficient                soft  groundwater    communal standpipe           True             Other\n",
       "14840        1291  35.345384 -9.831170e+00           0               Lake Nyasa               gravity              never pay        enough                soft      surface    communal standpipe           True               VWC\n",
       "14841           0   0.000000 -2.000000e-08           0            Lake Victoria              handpump                unknown        enough                soft  groundwater             hand pump            NaN               WUG\n",
       "14842         808  29.740224 -4.882705e+00         230          Lake Tanganyika               gravity            pay monthly        enough                soft      surface    communal standpipe           True               WUG\n",
       "14843        1641  29.768139 -4.480618e+00        1400          Lake Tanganyika                 other              never pay        enough                soft  groundwater                 other           True   Water authority\n",
       "14844           0  34.096878 -3.079689e+00           0            Lake Victoria              handpump                  other        enough                soft  groundwater             hand pump           True               WUG\n",
       "14845          34  38.852669 -6.582841e+00          20              Wami / Ruvu             motorpump              never pay        enough                soft      surface    communal standpipe           True               VWC\n",
       "14846           0  37.451633 -5.350428e+00        2960                  Pangani              handpump           pay annually  insufficient               salty  groundwater             hand pump           True               VWC\n",
       "14847        1476  34.739804 -4.585587e+00         200                 Internal               gravity              never pay  insufficient                soft      surface    communal standpipe           True               VWC\n",
       "14848         998  35.432732 -1.058416e+01         150               Lake Nyasa               gravity              never pay  insufficient                soft      surface    communal standpipe           True               VWC\n",
       "14849         481  34.765054 -1.122601e+01          40               Lake Nyasa               gravity              never pay           dry                soft  groundwater    communal standpipe           True               VWC\n",
       "\n",
       "[14850 rows x 13 columns]"
      ]
     },
     "execution_count": 39,
     "metadata": {},
     "output_type": "execute_result"
    }
   ],
   "source": [
    "df_test_values"
   ]
  },
  {
   "cell_type": "code",
   "execution_count": 29,
   "metadata": {},
   "outputs": [],
   "source": [
    "# rearange columns\n",
    "# cols = df_test_values.columns.tolist()\n",
    "# cols = ['gps_height',\n",
    "#              'longitude',\n",
    "#              'latitude',\n",
    "#              'population',\n",
    "#              'basin',\n",
    "#              'extraction_type_class',\n",
    "#              'payment',\n",
    "#              'quantity',\n",
    "#              'water_quality',\n",
    "#              'source_class',\n",
    "#              'waterpoint_type_group',\n",
    "#              'public_meeting',\n",
    "#              'scheme_management']\n",
    "# df_test_values = df_test_values[cols]"
   ]
  },
  {
   "cell_type": "code",
   "execution_count": 40,
   "metadata": {},
   "outputs": [
    {
     "data": {
      "text/html": [
       "<div>\n",
       "<style scoped>\n",
       "    .dataframe tbody tr th:only-of-type {\n",
       "        vertical-align: middle;\n",
       "    }\n",
       "\n",
       "    .dataframe tbody tr th {\n",
       "        vertical-align: top;\n",
       "    }\n",
       "\n",
       "    .dataframe thead th {\n",
       "        text-align: right;\n",
       "    }\n",
       "</style>\n",
       "<table border=\"1\" class=\"dataframe\">\n",
       "  <thead>\n",
       "    <tr style=\"text-align: right;\">\n",
       "      <th></th>\n",
       "      <th>gps_height</th>\n",
       "      <th>longitude</th>\n",
       "      <th>latitude</th>\n",
       "      <th>population</th>\n",
       "      <th>basin_Internal</th>\n",
       "      <th>basin_Lake Nyasa</th>\n",
       "      <th>basin_Lake Rukwa</th>\n",
       "      <th>basin_Lake Tanganyika</th>\n",
       "      <th>basin_Lake Victoria</th>\n",
       "      <th>basin_Pangani</th>\n",
       "      <th>...</th>\n",
       "      <th>scheme_management_Other</th>\n",
       "      <th>scheme_management_Parastatal</th>\n",
       "      <th>scheme_management_Private operator</th>\n",
       "      <th>scheme_management_SWC</th>\n",
       "      <th>scheme_management_Trust</th>\n",
       "      <th>scheme_management_VWC</th>\n",
       "      <th>scheme_management_WUA</th>\n",
       "      <th>scheme_management_WUG</th>\n",
       "      <th>scheme_management_Water Board</th>\n",
       "      <th>scheme_management_Water authority</th>\n",
       "    </tr>\n",
       "  </thead>\n",
       "  <tbody>\n",
       "    <tr>\n",
       "      <th>3132</th>\n",
       "      <td>0</td>\n",
       "      <td>32.967188</td>\n",
       "      <td>-2.639319</td>\n",
       "      <td>0</td>\n",
       "      <td>0</td>\n",
       "      <td>0</td>\n",
       "      <td>0</td>\n",
       "      <td>0</td>\n",
       "      <td>1</td>\n",
       "      <td>0</td>\n",
       "      <td>...</td>\n",
       "      <td>0</td>\n",
       "      <td>0</td>\n",
       "      <td>0</td>\n",
       "      <td>0</td>\n",
       "      <td>0</td>\n",
       "      <td>1</td>\n",
       "      <td>0</td>\n",
       "      <td>0</td>\n",
       "      <td>0</td>\n",
       "      <td>0</td>\n",
       "    </tr>\n",
       "    <tr>\n",
       "      <th>5890</th>\n",
       "      <td>1625</td>\n",
       "      <td>37.121072</td>\n",
       "      <td>-3.160426</td>\n",
       "      <td>1</td>\n",
       "      <td>0</td>\n",
       "      <td>0</td>\n",
       "      <td>0</td>\n",
       "      <td>0</td>\n",
       "      <td>0</td>\n",
       "      <td>1</td>\n",
       "      <td>...</td>\n",
       "      <td>0</td>\n",
       "      <td>0</td>\n",
       "      <td>0</td>\n",
       "      <td>0</td>\n",
       "      <td>0</td>\n",
       "      <td>0</td>\n",
       "      <td>0</td>\n",
       "      <td>0</td>\n",
       "      <td>1</td>\n",
       "      <td>0</td>\n",
       "    </tr>\n",
       "    <tr>\n",
       "      <th>7742</th>\n",
       "      <td>1800</td>\n",
       "      <td>34.663946</td>\n",
       "      <td>-1.362950</td>\n",
       "      <td>200</td>\n",
       "      <td>0</td>\n",
       "      <td>0</td>\n",
       "      <td>0</td>\n",
       "      <td>0</td>\n",
       "      <td>1</td>\n",
       "      <td>0</td>\n",
       "      <td>...</td>\n",
       "      <td>0</td>\n",
       "      <td>0</td>\n",
       "      <td>0</td>\n",
       "      <td>0</td>\n",
       "      <td>0</td>\n",
       "      <td>0</td>\n",
       "      <td>0</td>\n",
       "      <td>0</td>\n",
       "      <td>0</td>\n",
       "      <td>0</td>\n",
       "    </tr>\n",
       "  </tbody>\n",
       "</table>\n",
       "<p>3 rows × 62 columns</p>\n",
       "</div>"
      ],
      "text/plain": [
       "      gps_height  longitude  latitude  population  basin_Internal  basin_Lake Nyasa  basin_Lake Rukwa  basin_Lake Tanganyika  basin_Lake Victoria  basin_Pangani                ...                  scheme_management_Other  scheme_management_Parastatal  scheme_management_Private operator  scheme_management_SWC  scheme_management_Trust  scheme_management_VWC  scheme_management_WUA  scheme_management_WUG  scheme_management_Water Board  scheme_management_Water authority\n",
       "3132           0  32.967188 -2.639319           0               0                 0                 0                      0                    1              0                ...                                        0                             0                                   0                      0                        0                      1                      0                      0                              0                                  0\n",
       "5890        1625  37.121072 -3.160426           1               0                 0                 0                      0                    0              1                ...                                        0                             0                                   0                      0                        0                      0                      0                      0                              1                                  0\n",
       "7742        1800  34.663946 -1.362950         200               0                 0                 0                      0                    1              0                ...                                        0                             0                                   0                      0                        0                      0                      0                      0                              0                                  0\n",
       "\n",
       "[3 rows x 62 columns]"
      ]
     },
     "execution_count": 40,
     "metadata": {},
     "output_type": "execute_result"
    }
   ],
   "source": [
    "df_test_values = pd.get_dummies(df_test_values,columns=list(df_test_values.columns[4:]))\n",
    "df_test_values.sample(3)"
   ]
  },
  {
   "cell_type": "code",
   "execution_count": 41,
   "metadata": {},
   "outputs": [
    {
     "data": {
      "text/html": [
       "<div>\n",
       "<style scoped>\n",
       "    .dataframe tbody tr th:only-of-type {\n",
       "        vertical-align: middle;\n",
       "    }\n",
       "\n",
       "    .dataframe tbody tr th {\n",
       "        vertical-align: top;\n",
       "    }\n",
       "\n",
       "    .dataframe thead th {\n",
       "        text-align: right;\n",
       "    }\n",
       "</style>\n",
       "<table border=\"1\" class=\"dataframe\">\n",
       "  <thead>\n",
       "    <tr style=\"text-align: right;\">\n",
       "      <th></th>\n",
       "      <th>gps_height</th>\n",
       "      <th>longitude</th>\n",
       "      <th>latitude</th>\n",
       "      <th>population</th>\n",
       "      <th>basin_Internal</th>\n",
       "      <th>basin_Lake Nyasa</th>\n",
       "      <th>basin_Lake Rukwa</th>\n",
       "      <th>basin_Lake Tanganyika</th>\n",
       "      <th>basin_Lake Victoria</th>\n",
       "      <th>basin_Pangani</th>\n",
       "      <th>...</th>\n",
       "      <th>scheme_management_Parastatal</th>\n",
       "      <th>scheme_management_Private operator</th>\n",
       "      <th>scheme_management_SWC</th>\n",
       "      <th>scheme_management_Trust</th>\n",
       "      <th>scheme_management_VWC</th>\n",
       "      <th>scheme_management_WUA</th>\n",
       "      <th>scheme_management_WUG</th>\n",
       "      <th>scheme_management_Water Board</th>\n",
       "      <th>scheme_management_Water authority</th>\n",
       "      <th>scheme_management_None</th>\n",
       "    </tr>\n",
       "  </thead>\n",
       "  <tbody>\n",
       "    <tr>\n",
       "      <th>1216</th>\n",
       "      <td>1246</td>\n",
       "      <td>30.136968</td>\n",
       "      <td>-4.540764</td>\n",
       "      <td>320</td>\n",
       "      <td>0</td>\n",
       "      <td>0</td>\n",
       "      <td>0</td>\n",
       "      <td>1</td>\n",
       "      <td>0</td>\n",
       "      <td>0</td>\n",
       "      <td>...</td>\n",
       "      <td>0</td>\n",
       "      <td>0</td>\n",
       "      <td>0</td>\n",
       "      <td>0</td>\n",
       "      <td>0</td>\n",
       "      <td>0</td>\n",
       "      <td>0</td>\n",
       "      <td>0</td>\n",
       "      <td>1</td>\n",
       "      <td>0</td>\n",
       "    </tr>\n",
       "    <tr>\n",
       "      <th>6218</th>\n",
       "      <td>0</td>\n",
       "      <td>32.809861</td>\n",
       "      <td>-4.180536</td>\n",
       "      <td>0</td>\n",
       "      <td>0</td>\n",
       "      <td>0</td>\n",
       "      <td>0</td>\n",
       "      <td>1</td>\n",
       "      <td>0</td>\n",
       "      <td>0</td>\n",
       "      <td>...</td>\n",
       "      <td>0</td>\n",
       "      <td>0</td>\n",
       "      <td>0</td>\n",
       "      <td>0</td>\n",
       "      <td>1</td>\n",
       "      <td>0</td>\n",
       "      <td>0</td>\n",
       "      <td>0</td>\n",
       "      <td>0</td>\n",
       "      <td>0</td>\n",
       "    </tr>\n",
       "    <tr>\n",
       "      <th>2323</th>\n",
       "      <td>0</td>\n",
       "      <td>31.025836</td>\n",
       "      <td>-1.006316</td>\n",
       "      <td>0</td>\n",
       "      <td>0</td>\n",
       "      <td>0</td>\n",
       "      <td>0</td>\n",
       "      <td>0</td>\n",
       "      <td>1</td>\n",
       "      <td>0</td>\n",
       "      <td>...</td>\n",
       "      <td>0</td>\n",
       "      <td>0</td>\n",
       "      <td>0</td>\n",
       "      <td>0</td>\n",
       "      <td>0</td>\n",
       "      <td>0</td>\n",
       "      <td>0</td>\n",
       "      <td>0</td>\n",
       "      <td>0</td>\n",
       "      <td>0</td>\n",
       "    </tr>\n",
       "  </tbody>\n",
       "</table>\n",
       "<p>3 rows × 63 columns</p>\n",
       "</div>"
      ],
      "text/plain": [
       "      gps_height  longitude  latitude  population  basin_Internal  basin_Lake Nyasa  basin_Lake Rukwa  basin_Lake Tanganyika  basin_Lake Victoria  basin_Pangani           ...            scheme_management_Parastatal  scheme_management_Private operator  scheme_management_SWC  scheme_management_Trust  scheme_management_VWC  scheme_management_WUA  scheme_management_WUG  scheme_management_Water Board  scheme_management_Water authority  scheme_management_None\n",
       "1216        1246  30.136968 -4.540764         320               0                 0                 0                      1                    0              0           ...                                       0                                   0                      0                        0                      0                      0                      0                              0                                  1                       0\n",
       "6218           0  32.809861 -4.180536           0               0                 0                 0                      1                    0              0           ...                                       0                                   0                      0                        0                      1                      0                      0                              0                                  0                       0\n",
       "2323           0  31.025836 -1.006316           0               0                 0                 0                      0                    1              0           ...                                       0                                   0                      0                        0                      0                      0                      0                              0                                  0                       0\n",
       "\n",
       "[3 rows x 63 columns]"
      ]
     },
     "execution_count": 41,
     "metadata": {},
     "output_type": "execute_result"
    }
   ],
   "source": [
    "a = [0] * len(df_test_values['gps_height'])\n",
    "df_test_values['scheme_management_None'] = a\n",
    "df_test_values.sample(3)"
   ]
  },
  {
   "cell_type": "code",
   "execution_count": 42,
   "metadata": {},
   "outputs": [],
   "source": [
    "columns = list(df_test_values.columns)\n",
    "df_test_values[columns[4:]] = df_test_values[columns[4:]].astype(int)\n",
    "df_test_values[columns[0]] = df_test_values[columns[0]].astype(int)"
   ]
  },
  {
   "cell_type": "markdown",
   "metadata": {},
   "source": [
    "## Apply to competition data"
   ]
  },
  {
   "cell_type": "code",
   "execution_count": null,
   "metadata": {},
   "outputs": [],
   "source": [
    "df_test_labels = decisiontree.predict(df_test_values)"
   ]
  },
  {
   "cell_type": "code",
   "execution_count": null,
   "metadata": {},
   "outputs": [],
   "source": [
    "df_test_labels.shape"
   ]
  },
  {
   "cell_type": "code",
   "execution_count": null,
   "metadata": {},
   "outputs": [],
   "source": [
    "df_sub['status_group'] = df_test_labels"
   ]
  },
  {
   "cell_type": "code",
   "execution_count": null,
   "metadata": {},
   "outputs": [],
   "source": [
    "df_sub['status_group'] = df_sub['status_group'].astype(str)\n",
    "\n",
    "for i in range(len(df_sub.status_group)):\n",
    "    if df_sub.status_group[i] == '3':\n",
    "        df_sub.at[i, 'status_group'] = 'functional'\n",
    "    elif df_sub.status_group[i] == '2':\n",
    "        df_sub.at[i, 'status_group'] = 'functional needs repair'\n",
    "    else:\n",
    "        df_sub.at[i, 'status_group'] = 'non functional'\n",
    "df_sub.sample(3)"
   ]
  },
  {
   "cell_type": "code",
   "execution_count": null,
   "metadata": {},
   "outputs": [],
   "source": [
    "df_sub.status_group.value_counts()"
   ]
  },
  {
   "cell_type": "code",
   "execution_count": null,
   "metadata": {},
   "outputs": [],
   "source": [
    "df_sub.to_csv('./Submissions/decisionTree.csv',index=False)"
   ]
  },
  {
   "cell_type": "markdown",
   "metadata": {},
   "source": [
    "## Ranking"
   ]
  },
  {
   "cell_type": "markdown",
   "metadata": {},
   "source": [
    "<table>\n",
    "  <tr>\n",
    "    <th>Best</th>\n",
    "    <th>Current Rank</th>\n",
    "    <th>Competitors</th>\n",
    "    <th>Time</th>\n",
    "  </tr>\n",
    "  <tr>\n",
    "    <td>0.6449</td>\n",
    "    <td>1309</td>\n",
    "    <td>5059</td>\n",
    "    <td>May 7, 2018, 11:50 p.m.</td>\n",
    "  </tr>\n",
    "</table>"
   ]
  },
  {
   "cell_type": "markdown",
   "metadata": {},
   "source": [
    "## Adding depths to tree"
   ]
  },
  {
   "cell_type": "code",
   "execution_count": 35,
   "metadata": {},
   "outputs": [
    {
     "name": "stdout",
     "output_type": "stream",
     "text": [
      "[(3, 0.6933672940058565), (4, 0.7014481277774461), (5, 0.7074076640671273), (6, 0.7138723251449507), (7, 0.7196972711208949), (8, 0.7248148250084826), (9, 0.7298822743078776), (10, 0.7353201608784905), (11, 0.7413808625996199), (12, 0.7455050707863776), (13, 0.7500506362634685), (14, 0.7530640564635427), (15, 0.7560100336891841), (16, 0.7591920404217628), (17, 0.76151517870262), (18, 0.7620879944308843), (19, 0.7628117864963532)]\n"
     ]
    }
   ],
   "source": [
    "from sklearn.cross_validation import cross_val_score\n",
    "\n",
    "depth = []\n",
    "for i in range(3,20):\n",
    "    clf = DecisionTreeClassifier(max_depth=i)\n",
    "    # Perform 7-fold cross validation \n",
    "    scores = cross_val_score(estimator=clf, X=X, y=y, cv=7, n_jobs=4)\n",
    "    depth.append((i,scores.mean()))\n",
    "print(depth)"
   ]
  },
  {
   "cell_type": "markdown",
   "metadata": {},
   "source": [
    "## Gridsearchcv?"
   ]
  },
  {
   "cell_type": "code",
   "execution_count": 42,
   "metadata": {},
   "outputs": [
    {
     "name": "stdout",
     "output_type": "stream",
     "text": [
      "0.7481481481481481 {'max_depth': 19}\n"
     ]
    }
   ],
   "source": [
    "from sklearn.model_selection import GridSearchCV\n",
    "\n",
    "parameters = {'max_depth':range(3,20)}\n",
    "clf = GridSearchCV(DecisionTreeClassifier(), parameters, n_jobs=4)\n",
    "clf.fit(X_train, y_train)\n",
    "tree_model = clf.best_estimator_\n",
    "print (clf.best_score_, clf.best_params_) "
   ]
  },
  {
   "cell_type": "code",
   "execution_count": 44,
   "metadata": {},
   "outputs": [
    {
     "data": {
      "text/plain": [
       "0.7593434343434343"
      ]
     },
     "execution_count": 44,
     "metadata": {},
     "output_type": "execute_result"
    }
   ],
   "source": [
    "clf.score(X_test,y_test)"
   ]
  },
  {
   "cell_type": "code",
   "execution_count": 45,
   "metadata": {},
   "outputs": [],
   "source": [
    "df_test_labels3 = clf.predict(df_test_values)"
   ]
  },
  {
   "cell_type": "code",
   "execution_count": 46,
   "metadata": {},
   "outputs": [],
   "source": [
    "df_sub['status_group'] = df_test_labels3"
   ]
  },
  {
   "cell_type": "code",
   "execution_count": 47,
   "metadata": {},
   "outputs": [
    {
     "data": {
      "text/html": [
       "<div>\n",
       "<style scoped>\n",
       "    .dataframe tbody tr th:only-of-type {\n",
       "        vertical-align: middle;\n",
       "    }\n",
       "\n",
       "    .dataframe tbody tr th {\n",
       "        vertical-align: top;\n",
       "    }\n",
       "\n",
       "    .dataframe thead th {\n",
       "        text-align: right;\n",
       "    }\n",
       "</style>\n",
       "<table border=\"1\" class=\"dataframe\">\n",
       "  <thead>\n",
       "    <tr style=\"text-align: right;\">\n",
       "      <th></th>\n",
       "      <th>id</th>\n",
       "      <th>status_group</th>\n",
       "    </tr>\n",
       "  </thead>\n",
       "  <tbody>\n",
       "    <tr>\n",
       "      <th>4544</th>\n",
       "      <td>65748</td>\n",
       "      <td>functional</td>\n",
       "    </tr>\n",
       "    <tr>\n",
       "      <th>1462</th>\n",
       "      <td>56896</td>\n",
       "      <td>non functional</td>\n",
       "    </tr>\n",
       "    <tr>\n",
       "      <th>9760</th>\n",
       "      <td>54331</td>\n",
       "      <td>functional</td>\n",
       "    </tr>\n",
       "  </tbody>\n",
       "</table>\n",
       "</div>"
      ],
      "text/plain": [
       "         id    status_group\n",
       "4544  65748      functional\n",
       "1462  56896  non functional\n",
       "9760  54331      functional"
      ]
     },
     "execution_count": 47,
     "metadata": {},
     "output_type": "execute_result"
    }
   ],
   "source": [
    "df_sub['status_group'] = df_sub['status_group'].astype(str)\n",
    "\n",
    "for i in range(len(df_sub.status_group)):\n",
    "    if df_sub.status_group[i] == '3':\n",
    "        df_sub.at[i, 'status_group'] = 'functional'\n",
    "    elif df_sub.status_group[i] == '2':\n",
    "        df_sub.at[i, 'status_group'] = 'functional needs repair'\n",
    "    else:\n",
    "        df_sub.at[i, 'status_group'] = 'non functional'\n",
    "df_sub.sample(3)"
   ]
  },
  {
   "cell_type": "code",
   "execution_count": 48,
   "metadata": {},
   "outputs": [
    {
     "data": {
      "text/plain": [
       "functional                 8548\n",
       "non functional             4428\n",
       "functional needs repair    1874\n",
       "Name: status_group, dtype: int64"
      ]
     },
     "execution_count": 48,
     "metadata": {},
     "output_type": "execute_result"
    }
   ],
   "source": [
    "df_sub.status_group.value_counts()"
   ]
  },
  {
   "cell_type": "code",
   "execution_count": 49,
   "metadata": {},
   "outputs": [],
   "source": [
    "df_sub.to_csv('./Submissions/decisionTree5_8_2pm.csv',index=False)"
   ]
  },
  {
   "cell_type": "markdown",
   "metadata": {},
   "source": [
    "## Ranking"
   ]
  },
  {
   "cell_type": "markdown",
   "metadata": {},
   "source": [
    "<table>\n",
    "  <tr>\n",
    "    <th>Best</th>\n",
    "    <th>Current Rank</th>\n",
    "    <th>Competitors</th>\n",
    "    <th>Time</th>\n",
    "  </tr>\n",
    "  <tr>\n",
    "    <td>0.6527</td>\n",
    "    <td>Not Best</td>\n",
    "    <td>1277</td>\n",
    "    <td>May 8, 2018, 9:04 p.m.</td>\n",
    "  </tr>\n",
    "</table>"
   ]
  },
  {
   "cell_type": "markdown",
   "metadata": {},
   "source": [
    "## Random forest"
   ]
  },
  {
   "cell_type": "code",
   "execution_count": 32,
   "metadata": {},
   "outputs": [],
   "source": [
    "from sklearn.ensemble import RandomForestClassifier"
   ]
  },
  {
   "cell_type": "code",
   "execution_count": 33,
   "metadata": {},
   "outputs": [
    {
     "data": {
      "text/plain": [
       "RandomForestClassifier(bootstrap=True, class_weight=None, criterion='gini',\n",
       "            max_depth=4, max_features='auto', max_leaf_nodes=None,\n",
       "            min_impurity_decrease=0.0, min_impurity_split=None,\n",
       "            min_samples_leaf=1, min_samples_split=2,\n",
       "            min_weight_fraction_leaf=0.0, n_estimators=10, n_jobs=1,\n",
       "            oob_score=False, random_state=0, verbose=0, warm_start=False)"
      ]
     },
     "execution_count": 33,
     "metadata": {},
     "output_type": "execute_result"
    }
   ],
   "source": [
    "clf = RandomForestClassifier(max_depth = 4,random_state=0)\n",
    "clf.fit(X_train, y_train)"
   ]
  },
  {
   "cell_type": "code",
   "execution_count": 34,
   "metadata": {},
   "outputs": [
    {
     "name": "stdout",
     "output_type": "stream",
     "text": [
      "[2.93795595e-02 5.89454173e-03 1.98662616e-02 4.86895152e-03\n",
      " 0.00000000e+00 3.15100067e-03 1.61185660e-03 1.04629073e-03\n",
      " 7.95584103e-05 7.70558867e-04 5.13397963e-03 4.29024272e-04\n",
      " 0.00000000e+00 2.22169935e-02 1.68787983e-02 6.57595198e-03\n",
      " 3.57331111e-02 1.45383383e-04 2.73851949e-03 0.00000000e+00\n",
      " 4.13003337e-02 6.94984854e-05 3.30483445e-03 2.50998123e-02\n",
      " 0.00000000e+00 3.56657123e-06 0.00000000e+00 3.07938771e-01\n",
      " 1.39937799e-01 5.67622310e-04 5.05061876e-03 2.14568017e-03\n",
      " 6.81474747e-05 1.13772297e-03 0.00000000e+00 0.00000000e+00\n",
      " 1.14925042e-02 0.00000000e+00 6.88810831e-03 6.02363293e-02\n",
      " 3.59157350e-03 1.50798850e-03 0.00000000e+00 0.00000000e+00\n",
      " 9.27505190e-03 0.00000000e+00 6.53611821e-03 5.90272604e-03\n",
      " 1.87034217e-01 3.49291035e-03 1.47500555e-04 9.05279686e-06\n",
      " 0.00000000e+00 0.00000000e+00 0.00000000e+00 0.00000000e+00\n",
      " 1.25120350e-03 5.57978629e-04 2.92545986e-03 4.12947385e-04\n",
      " 2.62478229e-03 1.29687981e-02 0.00000000e+00]\n"
     ]
    }
   ],
   "source": [
    "print(clf.feature_importances_)"
   ]
  },
  {
   "cell_type": "code",
   "execution_count": 53,
   "metadata": {},
   "outputs": [],
   "source": [
    "df_test_labels2 = clf.predict(df_test_values)"
   ]
  },
  {
   "cell_type": "code",
   "execution_count": 54,
   "metadata": {},
   "outputs": [],
   "source": [
    "df_sub['status_group'] = df_test_labels2"
   ]
  },
  {
   "cell_type": "code",
   "execution_count": 55,
   "metadata": {},
   "outputs": [
    {
     "data": {
      "text/html": [
       "<div>\n",
       "<style scoped>\n",
       "    .dataframe tbody tr th:only-of-type {\n",
       "        vertical-align: middle;\n",
       "    }\n",
       "\n",
       "    .dataframe tbody tr th {\n",
       "        vertical-align: top;\n",
       "    }\n",
       "\n",
       "    .dataframe thead th {\n",
       "        text-align: right;\n",
       "    }\n",
       "</style>\n",
       "<table border=\"1\" class=\"dataframe\">\n",
       "  <thead>\n",
       "    <tr style=\"text-align: right;\">\n",
       "      <th></th>\n",
       "      <th>id</th>\n",
       "      <th>status_group</th>\n",
       "    </tr>\n",
       "  </thead>\n",
       "  <tbody>\n",
       "    <tr>\n",
       "      <th>12303</th>\n",
       "      <td>12395</td>\n",
       "      <td>functional</td>\n",
       "    </tr>\n",
       "    <tr>\n",
       "      <th>212</th>\n",
       "      <td>3782</td>\n",
       "      <td>functional</td>\n",
       "    </tr>\n",
       "    <tr>\n",
       "      <th>14581</th>\n",
       "      <td>8930</td>\n",
       "      <td>functional</td>\n",
       "    </tr>\n",
       "  </tbody>\n",
       "</table>\n",
       "</div>"
      ],
      "text/plain": [
       "          id status_group\n",
       "12303  12395   functional\n",
       "212     3782   functional\n",
       "14581   8930   functional"
      ]
     },
     "execution_count": 55,
     "metadata": {},
     "output_type": "execute_result"
    }
   ],
   "source": [
    "df_sub['status_group'] = df_sub['status_group'].astype(str)\n",
    "\n",
    "for i in range(len(df_sub.status_group)):\n",
    "    if df_sub.status_group[i] == '3':\n",
    "        df_sub.at[i, 'status_group'] = 'functional'\n",
    "    elif df_sub.status_group[i] == '2':\n",
    "        df_sub.at[i, 'status_group'] = 'functional needs repair'\n",
    "    else:\n",
    "        df_sub.at[i, 'status_group'] = 'non functional'\n",
    "df_sub.sample(3)"
   ]
  },
  {
   "cell_type": "code",
   "execution_count": 56,
   "metadata": {},
   "outputs": [
    {
     "data": {
      "text/plain": [
       "functional        11901\n",
       "non functional     2949\n",
       "Name: status_group, dtype: int64"
      ]
     },
     "execution_count": 56,
     "metadata": {},
     "output_type": "execute_result"
    }
   ],
   "source": [
    "df_sub.status_group.value_counts()"
   ]
  },
  {
   "cell_type": "code",
   "execution_count": 57,
   "metadata": {},
   "outputs": [],
   "source": [
    "#df_sub.to_csv('./Submissions/decisionTree2.csv',index=False)"
   ]
  },
  {
   "cell_type": "markdown",
   "metadata": {},
   "source": [
    "## Ranking"
   ]
  },
  {
   "cell_type": "markdown",
   "metadata": {},
   "source": [
    "<table>\n",
    "  <tr>\n",
    "    <th>Best</th>\n",
    "    <th>Current Rank</th>\n",
    "    <th>Competitors</th>\n",
    "    <th>Time</th>\n",
    "  </tr>\n",
    "  <tr>\n",
    "    <td>0.6988</td>\n",
    "    <td>1276</td>\n",
    "    <td>5059</td>\n",
    "    <td>May 8, 2018, 12:13 a.m.</td>\n",
    "  </tr>\n",
    "</table>"
   ]
  },
  {
   "cell_type": "markdown",
   "metadata": {},
   "source": [
    "## Gridsearchcv?"
   ]
  },
  {
   "cell_type": "code",
   "execution_count": 43,
   "metadata": {},
   "outputs": [
    {
     "name": "stdout",
     "output_type": "stream",
     "text": [
      "0.7786531986531987 {'max_depth': 19}\n"
     ]
    }
   ],
   "source": [
    "from sklearn.model_selection import GridSearchCV\n",
    "\n",
    "parameters = {'max_depth':range(3,20)}\n",
    "clf = GridSearchCV(RandomForestClassifier(), parameters, n_jobs=4)\n",
    "clf.fit(X_train, y_train)\n",
    "tree_model = clf.best_estimator_\n",
    "print (clf.best_score_, clf.best_params_) "
   ]
  },
  {
   "cell_type": "code",
   "execution_count": 120,
   "metadata": {},
   "outputs": [
    {
     "data": {
      "text/plain": [
       "0.7859427609427609"
      ]
     },
     "execution_count": 120,
     "metadata": {},
     "output_type": "execute_result"
    }
   ],
   "source": [
    "clf.score(X_test,y_test)"
   ]
  },
  {
   "cell_type": "code",
   "execution_count": 44,
   "metadata": {},
   "outputs": [],
   "source": [
    "df_test_labels3 = clf.predict(df_test_values)"
   ]
  },
  {
   "cell_type": "code",
   "execution_count": 46,
   "metadata": {},
   "outputs": [
    {
     "data": {
      "text/plain": [
       "array([[5.00000000e-01, 1.00000000e-01, 4.00000000e-01],\n",
       "       [2.74530974e-01, 5.72254485e-02, 6.68243578e-01],\n",
       "       [5.00000000e-01, 1.00000000e-01, 4.00000000e-01],\n",
       "       ...,\n",
       "       [8.73853319e-02, 1.07532319e-01, 8.05082349e-01],\n",
       "       [2.29487179e-01, 8.33333333e-03, 7.62179487e-01],\n",
       "       [9.94149898e-01, 1.21506683e-04, 5.72859556e-03]])"
      ]
     },
     "execution_count": 46,
     "metadata": {},
     "output_type": "execute_result"
    }
   ],
   "source": [
    "prob = clf.predict_proba(df_test_values)\n",
    "prob"
   ]
  },
  {
   "cell_type": "code",
   "execution_count": 47,
   "metadata": {},
   "outputs": [
    {
     "data": {
      "text/plain": [
       "0.5"
      ]
     },
     "execution_count": 47,
     "metadata": {},
     "output_type": "execute_result"
    }
   ],
   "source": [
    "prob[0].max()"
   ]
  },
  {
   "cell_type": "code",
   "execution_count": 48,
   "metadata": {},
   "outputs": [],
   "source": [
    "df_sub['status_group'] = df_test_labels3"
   ]
  },
  {
   "cell_type": "code",
   "execution_count": 49,
   "metadata": {},
   "outputs": [
    {
     "data": {
      "text/html": [
       "<div>\n",
       "<style scoped>\n",
       "    .dataframe tbody tr th:only-of-type {\n",
       "        vertical-align: middle;\n",
       "    }\n",
       "\n",
       "    .dataframe tbody tr th {\n",
       "        vertical-align: top;\n",
       "    }\n",
       "\n",
       "    .dataframe thead th {\n",
       "        text-align: right;\n",
       "    }\n",
       "</style>\n",
       "<table border=\"1\" class=\"dataframe\">\n",
       "  <thead>\n",
       "    <tr style=\"text-align: right;\">\n",
       "      <th></th>\n",
       "      <th>id</th>\n",
       "      <th>status_group</th>\n",
       "    </tr>\n",
       "  </thead>\n",
       "  <tbody>\n",
       "    <tr>\n",
       "      <th>3680</th>\n",
       "      <td>63260</td>\n",
       "      <td>3</td>\n",
       "    </tr>\n",
       "    <tr>\n",
       "      <th>6162</th>\n",
       "      <td>48626</td>\n",
       "      <td>3</td>\n",
       "    </tr>\n",
       "    <tr>\n",
       "      <th>4275</th>\n",
       "      <td>4815</td>\n",
       "      <td>3</td>\n",
       "    </tr>\n",
       "    <tr>\n",
       "      <th>4199</th>\n",
       "      <td>54001</td>\n",
       "      <td>3</td>\n",
       "    </tr>\n",
       "    <tr>\n",
       "      <th>2747</th>\n",
       "      <td>26700</td>\n",
       "      <td>1</td>\n",
       "    </tr>\n",
       "  </tbody>\n",
       "</table>\n",
       "</div>"
      ],
      "text/plain": [
       "         id  status_group\n",
       "3680  63260             3\n",
       "6162  48626             3\n",
       "4275   4815             3\n",
       "4199  54001             3\n",
       "2747  26700             1"
      ]
     },
     "execution_count": 49,
     "metadata": {},
     "output_type": "execute_result"
    }
   ],
   "source": [
    "df_sub.sample(5)"
   ]
  },
  {
   "cell_type": "code",
   "execution_count": 50,
   "metadata": {},
   "outputs": [
    {
     "data": {
      "text/html": [
       "<div>\n",
       "<style scoped>\n",
       "    .dataframe tbody tr th:only-of-type {\n",
       "        vertical-align: middle;\n",
       "    }\n",
       "\n",
       "    .dataframe tbody tr th {\n",
       "        vertical-align: top;\n",
       "    }\n",
       "\n",
       "    .dataframe thead th {\n",
       "        text-align: right;\n",
       "    }\n",
       "</style>\n",
       "<table border=\"1\" class=\"dataframe\">\n",
       "  <thead>\n",
       "    <tr style=\"text-align: right;\">\n",
       "      <th></th>\n",
       "      <th>id</th>\n",
       "      <th>status_group</th>\n",
       "    </tr>\n",
       "  </thead>\n",
       "  <tbody>\n",
       "    <tr>\n",
       "      <th>11885</th>\n",
       "      <td>23669</td>\n",
       "      <td>3</td>\n",
       "    </tr>\n",
       "    <tr>\n",
       "      <th>13827</th>\n",
       "      <td>39037</td>\n",
       "      <td>3</td>\n",
       "    </tr>\n",
       "    <tr>\n",
       "      <th>9993</th>\n",
       "      <td>69856</td>\n",
       "      <td>3</td>\n",
       "    </tr>\n",
       "    <tr>\n",
       "      <th>11845</th>\n",
       "      <td>16647</td>\n",
       "      <td>1</td>\n",
       "    </tr>\n",
       "    <tr>\n",
       "      <th>8569</th>\n",
       "      <td>31637</td>\n",
       "      <td>3</td>\n",
       "    </tr>\n",
       "    <tr>\n",
       "      <th>6760</th>\n",
       "      <td>20021</td>\n",
       "      <td>2</td>\n",
       "    </tr>\n",
       "    <tr>\n",
       "      <th>12030</th>\n",
       "      <td>29178</td>\n",
       "      <td>3</td>\n",
       "    </tr>\n",
       "    <tr>\n",
       "      <th>5152</th>\n",
       "      <td>53553</td>\n",
       "      <td>3</td>\n",
       "    </tr>\n",
       "    <tr>\n",
       "      <th>94</th>\n",
       "      <td>57508</td>\n",
       "      <td>3</td>\n",
       "    </tr>\n",
       "    <tr>\n",
       "      <th>13343</th>\n",
       "      <td>54310</td>\n",
       "      <td>3</td>\n",
       "    </tr>\n",
       "  </tbody>\n",
       "</table>\n",
       "</div>"
      ],
      "text/plain": [
       "          id  status_group\n",
       "11885  23669             3\n",
       "13827  39037             3\n",
       "9993   69856             3\n",
       "11845  16647             1\n",
       "8569   31637             3\n",
       "6760   20021             2\n",
       "12030  29178             3\n",
       "5152   53553             3\n",
       "94     57508             3\n",
       "13343  54310             3"
      ]
     },
     "execution_count": 50,
     "metadata": {},
     "output_type": "execute_result"
    }
   ],
   "source": [
    "how = []\n",
    "for i in range(len(prob)):\n",
    "    if prob[i].max() <= 0.54:\n",
    "        df_sub.at[i,'status_group'] = 3\n",
    "df_sub.sample(10)"
   ]
  },
  {
   "cell_type": "code",
   "execution_count": 51,
   "metadata": {},
   "outputs": [
    {
     "data": {
      "text/html": [
       "<div>\n",
       "<style scoped>\n",
       "    .dataframe tbody tr th:only-of-type {\n",
       "        vertical-align: middle;\n",
       "    }\n",
       "\n",
       "    .dataframe tbody tr th {\n",
       "        vertical-align: top;\n",
       "    }\n",
       "\n",
       "    .dataframe thead th {\n",
       "        text-align: right;\n",
       "    }\n",
       "</style>\n",
       "<table border=\"1\" class=\"dataframe\">\n",
       "  <thead>\n",
       "    <tr style=\"text-align: right;\">\n",
       "      <th></th>\n",
       "      <th>id</th>\n",
       "      <th>status_group</th>\n",
       "    </tr>\n",
       "  </thead>\n",
       "  <tbody>\n",
       "    <tr>\n",
       "      <th>3829</th>\n",
       "      <td>20660</td>\n",
       "      <td>functional</td>\n",
       "    </tr>\n",
       "    <tr>\n",
       "      <th>7467</th>\n",
       "      <td>72539</td>\n",
       "      <td>functional</td>\n",
       "    </tr>\n",
       "    <tr>\n",
       "      <th>955</th>\n",
       "      <td>55439</td>\n",
       "      <td>functional</td>\n",
       "    </tr>\n",
       "  </tbody>\n",
       "</table>\n",
       "</div>"
      ],
      "text/plain": [
       "         id status_group\n",
       "3829  20660   functional\n",
       "7467  72539   functional\n",
       "955   55439   functional"
      ]
     },
     "execution_count": 51,
     "metadata": {},
     "output_type": "execute_result"
    }
   ],
   "source": [
    "df_sub['status_group'] = df_sub['status_group'].astype(str)\n",
    "\n",
    "for i in range(len(df_sub.status_group)):\n",
    "    if df_sub.status_group[i] == '3':\n",
    "        df_sub.at[i, 'status_group'] = 'functional'\n",
    "    elif df_sub.status_group[i] == '2':\n",
    "        df_sub.at[i, 'status_group'] = 'functional needs repair'\n",
    "    else:\n",
    "        df_sub.at[i, 'status_group'] = 'non functional'\n",
    "df_sub.sample(3)"
   ]
  },
  {
   "cell_type": "code",
   "execution_count": 52,
   "metadata": {},
   "outputs": [
    {
     "data": {
      "text/plain": [
       "functional                 10929\n",
       "non functional              3797\n",
       "functional needs repair      124\n",
       "Name: status_group, dtype: int64"
      ]
     },
     "execution_count": 52,
     "metadata": {},
     "output_type": "execute_result"
    }
   ],
   "source": [
    "df_sub.status_group.value_counts()"
   ]
  },
  {
   "cell_type": "code",
   "execution_count": 53,
   "metadata": {},
   "outputs": [],
   "source": [
    "df_sub.to_csv('./Submissions/decisionTree5_8_730pm.csv',index=False)"
   ]
  },
  {
   "cell_type": "markdown",
   "metadata": {
    "heading_collapsed": true
   },
   "source": [
    "# Appendix"
   ]
  },
  {
   "cell_type": "markdown",
   "metadata": {
    "heading_collapsed": true,
    "hidden": true
   },
   "source": [
    "## A"
   ]
  },
  {
   "cell_type": "code",
   "execution_count": null,
   "metadata": {
    "hidden": true
   },
   "outputs": [],
   "source": [
    "columns = list(feature_sel.columns)\n",
    "feature_sel[columns[5:]] = feature_sel[columns[5:]].astype(int)\n",
    "feature_sel[columns[0]] = feature_sel[columns[0]].astype(int)"
   ]
  },
  {
   "cell_type": "code",
   "execution_count": null,
   "metadata": {
    "hidden": true
   },
   "outputs": [],
   "source": [
    "feature_sel = feature_sel.sample(frac=1).reset_index(drop=True)\n",
    "y = feature_sel.status_group\n",
    "X = feature_sel.drop('status_group', axis=1)\n",
    "\n",
    "from sklearn.cross_validation import train_test_split\n",
    "\n",
    "X_train, X_test, y_train, y_test = train_test_split(X, y, test_size=0.84)"
   ]
  },
  {
   "cell_type": "code",
   "execution_count": null,
   "metadata": {
    "hidden": true
   },
   "outputs": [],
   "source": [
    "X_train.head(1)"
   ]
  },
  {
   "cell_type": "markdown",
   "metadata": {
    "heading_collapsed": true,
    "hidden": true
   },
   "source": [
    "## Adjust competition data"
   ]
  },
  {
   "cell_type": "code",
   "execution_count": null,
   "metadata": {
    "hidden": true
   },
   "outputs": [],
   "source": [
    "df_test_values = df_test_values[['gps_height', 'longitude', 'latitude', 'basin',\n",
    "                  'extraction_type_class','payment','quantity','water_quality', 'source_class',\n",
    "                  'waterpoint_type_group','population','public_meeting','scheme_management']]"
   ]
  },
  {
   "cell_type": "code",
   "execution_count": null,
   "metadata": {
    "hidden": true
   },
   "outputs": [],
   "source": [
    "# rearange columns\n",
    "cols = df_test_values.columns.tolist()\n",
    "cols = ['gps_height',\n",
    "             'longitude',\n",
    "             'latitude',\n",
    "             'population',\n",
    "             'basin',\n",
    "             'extraction_type_class',\n",
    "             'payment',\n",
    "             'quantity',\n",
    "             'water_quality',\n",
    "             'source_class',\n",
    "             'waterpoint_type_group',\n",
    "             'public_meeting',\n",
    "             'scheme_management']\n",
    "df_test_values = df_test_values[cols]"
   ]
  },
  {
   "cell_type": "code",
   "execution_count": null,
   "metadata": {
    "hidden": true
   },
   "outputs": [],
   "source": [
    "a = [0] * len(df_test_values['gps_height'])"
   ]
  },
  {
   "cell_type": "code",
   "execution_count": null,
   "metadata": {
    "hidden": true
   },
   "outputs": [],
   "source": [
    "df_test_values = pd.get_dummies(df_test_values,columns=list(df_test_values.columns[4:]))\n",
    "df_test_values.sample(5)"
   ]
  },
  {
   "cell_type": "code",
   "execution_count": null,
   "metadata": {
    "hidden": true
   },
   "outputs": [],
   "source": [
    "columns = list(feature_sel.columns)\n",
    "feature_sel[columns[5:]] = feature_sel[columns[5:]].astype(int)\n",
    "feature_sel[columns[0]] = feature_sel[columns[0]].astype(int)"
   ]
  },
  {
   "cell_type": "code",
   "execution_count": null,
   "metadata": {
    "hidden": true
   },
   "outputs": [],
   "source": [
    "df_test_values['scheme_management_None'] = a\n",
    "df_test_values.head(10)"
   ]
  },
  {
   "cell_type": "code",
   "execution_count": null,
   "metadata": {
    "hidden": true
   },
   "outputs": [],
   "source": [
    "list(set(X_train.columns)-set(df_test_values.columns))"
   ]
  },
  {
   "cell_type": "code",
   "execution_count": null,
   "metadata": {
    "hidden": true
   },
   "outputs": [],
   "source": []
  },
  {
   "cell_type": "markdown",
   "metadata": {
    "heading_collapsed": true,
    "hidden": true
   },
   "source": [
    "##  B"
   ]
  },
  {
   "cell_type": "code",
   "execution_count": null,
   "metadata": {
    "hidden": true
   },
   "outputs": [],
   "source": [
    "from __future__ import print_function\n",
    "\n",
    "import numpy as np\n",
    "import pandas as pd\n",
    "\n",
    "from IPython.display import Image\n",
    "\n",
    "from sklearn import datasets\n",
    "from sklearn.decomposition import PCA\n",
    "from sklearn.metrics import accuracy_score, confusion_matrix\n",
    "from sklearn.cross_validation import train_test_split\n",
    "from sklearn import svm\n",
    "\n",
    "from matplotlib import pyplot as plt\n",
    "%matplotlib inline"
   ]
  },
  {
   "cell_type": "code",
   "execution_count": null,
   "metadata": {
    "hidden": true
   },
   "outputs": [],
   "source": [
    "pd.Series(y_train).value_counts()"
   ]
  },
  {
   "cell_type": "markdown",
   "metadata": {
    "heading_collapsed": true,
    "hidden": true
   },
   "source": [
    "## Principle Component Analysis"
   ]
  },
  {
   "cell_type": "code",
   "execution_count": null,
   "metadata": {
    "hidden": true
   },
   "outputs": [],
   "source": [
    "pca = PCA(n_components=2)\n",
    "pca.fit(X_train)"
   ]
  },
  {
   "cell_type": "code",
   "execution_count": null,
   "metadata": {
    "hidden": true
   },
   "outputs": [],
   "source": [
    "pcafeatures_train = pca.transform(X_train)"
   ]
  },
  {
   "cell_type": "code",
   "execution_count": null,
   "metadata": {
    "hidden": true
   },
   "outputs": [],
   "source": [
    "from itertools import cycle"
   ]
  },
  {
   "cell_type": "code",
   "execution_count": null,
   "metadata": {
    "hidden": true
   },
   "outputs": [],
   "source": [
    "# def plot_PCA_2D(data, target, target_names):\n",
    "#     colors = cycle(['r','g','b'])\n",
    "#     target_ids = range(len(target_names))\n",
    "#     plt.figure()\n",
    "#     for i, c, label in zip(target_ids, colors, target_names):\n",
    "#         plt.scatter(data[target == i, 0], data[target == i, 1],\n",
    "#                    c=c, label=label)\n",
    "#     plt.legend()"
   ]
  },
  {
   "cell_type": "code",
   "execution_count": null,
   "metadata": {
    "hidden": true
   },
   "outputs": [],
   "source": [
    "# plot_PCA_2D(pcafeatures_train, target=y_train, target_names=digits.target_names)"
   ]
  },
  {
   "cell_type": "markdown",
   "metadata": {
    "heading_collapsed": true,
    "hidden": true
   },
   "source": [
    "## Fitting Linear and RBF SVM Models"
   ]
  },
  {
   "cell_type": "code",
   "execution_count": null,
   "metadata": {
    "hidden": true
   },
   "outputs": [],
   "source": [
    "# fit linear model\n",
    "model_svm = svm.SVC(kernel='rbf',probability=False,cache_size=2000)\n",
    "model_svm.fit(X_train, y_train)"
   ]
  },
  {
   "cell_type": "code",
   "execution_count": null,
   "metadata": {
    "hidden": true
   },
   "outputs": [],
   "source": [
    "# predict out of sample\n",
    "y_pred = model_svm.predict(X_test)"
   ]
  },
  {
   "cell_type": "code",
   "execution_count": null,
   "metadata": {
    "hidden": true
   },
   "outputs": [],
   "source": [
    "# check accuracy\n",
    "accuracy_score(y_test,y_pred)"
   ]
  },
  {
   "cell_type": "code",
   "execution_count": null,
   "metadata": {
    "hidden": true
   },
   "outputs": [],
   "source": [
    "# confusion matrix\n",
    "confusion_matrix(y_test,y_pred)"
   ]
  },
  {
   "cell_type": "code",
   "execution_count": null,
   "metadata": {
    "hidden": true
   },
   "outputs": [],
   "source": [
    "# fit rbf model\n",
    "# model_svm2 = svm.SVC(kernel='rbf', gamma = 0.001)\n",
    "# model_svm2.fit(X_train, y_train)"
   ]
  },
  {
   "cell_type": "code",
   "execution_count": null,
   "metadata": {
    "hidden": true
   },
   "outputs": [],
   "source": [
    "# predict out of sample\n",
    "y_pred2 = model_svm2.predict(X_test)"
   ]
  },
  {
   "cell_type": "code",
   "execution_count": null,
   "metadata": {
    "hidden": true
   },
   "outputs": [],
   "source": [
    "# check accuracy\n",
    "accuracy_score(y_test,y_pred2)"
   ]
  },
  {
   "cell_type": "code",
   "execution_count": null,
   "metadata": {
    "hidden": true
   },
   "outputs": [],
   "source": [
    "# confusion matrix\n",
    "confusion_matrix(y_test,y_pred2)"
   ]
  },
  {
   "cell_type": "markdown",
   "metadata": {
    "heading_collapsed": true,
    "hidden": true
   },
   "source": [
    "## C"
   ]
  },
  {
   "cell_type": "markdown",
   "metadata": {
    "hidden": true
   },
   "source": [
    "Extra code from class to utilize"
   ]
  },
  {
   "cell_type": "code",
   "execution_count": null,
   "metadata": {
    "hidden": true
   },
   "outputs": [],
   "source": [
    "df.age=df.age.fillna(df.age.mean())"
   ]
  },
  {
   "cell_type": "code",
   "execution_count": null,
   "metadata": {
    "hidden": true
   },
   "outputs": [],
   "source": [
    "y,X=dmatrices('survived~ pclass +age+sibsp+parch+fare',data=df,return_type='dataframe')"
   ]
  },
  {
   "cell_type": "code",
   "execution_count": null,
   "metadata": {
    "hidden": true
   },
   "outputs": [],
   "source": [
    "# Generate a confusion matrix plot: \n",
    "\n",
    "def plot_confusion_matrix(cm,title='Confusion matrix', cmap=plt.cm.Reds):\n",
    "    plt.imshow(cm, interpolation='nearest',cmap=cmap)\n",
    "    plt.title(title)\n",
    "    plt.colorbar()\n",
    "    plt.tight_layout()\n",
    "    plt.ylabel('True label')\n",
    "    plt.xlabel('Predicted label')\n",
    "\n",
    "#Could be a typical function for classifying:\n",
    "\n",
    "def train_score(classifier,x,y):\n",
    "    xtrain, xtest, ytrain, ytest = cross_validation.train_test_split(x, y, test_size=0.2, random_state=1234)\n",
    "    ytrain=np.ravel(ytrain)\n",
    "    clf = classifier.fit(xtrain, ytrain)\n",
    "    # accuracy for test & train:\n",
    "    train_acc=clf.score(xtrain, ytrain)\n",
    "    test_acc=clf.score(xtest,ytest)\n",
    "    print(\"Training Data Accuracy: %0.2f\" %(train_acc))\n",
    "    print(\"Test Data Accuracy:     %0.2f\" %(test_acc))\n",
    "    \n",
    "    y_true = ytest\n",
    "    y_pred = clf.predict(xtest)\n",
    "\n",
    "\n",
    "    conf = confusion_matrix(y_true, y_pred)\n",
    "    print(conf)\n",
    "\n",
    "    print ('\\n')\n",
    "    print (\"Precision:              %0.2f\" %(conf[0, 0] / (conf[0, 0] + conf[1, 0])))\n",
    "    print (\"Recall:                 %0.2f\"% (conf[0, 0] / (conf[0, 0] + conf[0, 1])))\n",
    "    \n",
    "    cm=confusion_matrix(y_true, y_pred, labels=None)\n",
    "    \n",
    "    plt.figure()\n",
    "    plot_confusion_matrix(cm)"
   ]
  },
  {
   "cell_type": "code",
   "execution_count": null,
   "metadata": {
    "hidden": true
   },
   "outputs": [],
   "source": [
    "log_clf=LogisticRegression()\n",
    "train_score(log_clf,X,y)"
   ]
  },
  {
   "cell_type": "code",
   "execution_count": null,
   "metadata": {
    "hidden": true
   },
   "outputs": [],
   "source": [
    "# What about ROC ? \n",
    "\n",
    "from sklearn.metrics import roc_curve, auc\n",
    "\n",
    "xtrain, xtest, ytrain, ytest = cross_validation.train_test_split(X, y, test_size=0.2, random_state=1234)\n",
    "log = LogisticRegression()\n",
    "log.fit(xtrain,np.ravel(ytrain))\n",
    "y_score=log.predict_proba(xtest)[:,1]\n",
    "\n",
    "fpr, tpr,_ = roc_curve(ytest, y_score)\n",
    "roc_auc = auc(fpr, tpr)\n",
    "\n",
    "plt.figure()\n",
    "# Plotting our Baseline..\n",
    "plt.plot([0,1],[0,1])\n",
    "plt.plot(fpr,tpr)\n",
    "plt.xlabel('FPR')\n",
    "plt.ylabel('TPR')"
   ]
  },
  {
   "cell_type": "code",
   "execution_count": null,
   "metadata": {
    "hidden": true
   },
   "outputs": [],
   "source": [
    "tpr"
   ]
  },
  {
   "cell_type": "markdown",
   "metadata": {
    "hidden": true
   },
   "source": [
    "####  Cost Benefit Example: \n",
    "\n",
    "We can also optimize our models based on specific costs associated with our classification errors; here we will use specific dollar amounts as weights.\n",
    "\n",
    "Let's say we were developing a classification model for Aircraft Delay prediction.  For this example let's assume that a true positive would \n",
    "lead to a cost savings of 2160 dollars, a false negative would cost us 2900 dollars a false positive would cost 750 dollars.  \n",
    "\n",
    "cb = np.array([[2160, -750.0], [-2900, 0]])  \n",
    "\n",
    "Expected_Value = #TPs(2160) - #FNs(2900) -#FPs(750)  "
   ]
  }
 ],
 "metadata": {
  "kernelspec": {
   "display_name": "Python 3",
   "language": "python",
   "name": "python3"
  },
  "language_info": {
   "codemirror_mode": {
    "name": "ipython",
    "version": 3
   },
   "file_extension": ".py",
   "mimetype": "text/x-python",
   "name": "python",
   "nbconvert_exporter": "python",
   "pygments_lexer": "ipython3",
   "version": "3.6.4"
  },
  "toc": {
   "base_numbering": 1,
   "nav_menu": {},
   "number_sections": true,
   "sideBar": true,
   "skip_h1_title": false,
   "title_cell": "Table of Contents",
   "title_sidebar": "Contents",
   "toc_cell": false,
   "toc_position": {},
   "toc_section_display": true,
   "toc_window_display": false
  }
 },
 "nbformat": 4,
 "nbformat_minor": 1
}
