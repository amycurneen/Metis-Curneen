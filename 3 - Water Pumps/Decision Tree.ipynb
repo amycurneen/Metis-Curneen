{
 "cells": [
  {
   "cell_type": "markdown",
   "metadata": {},
   "source": [
    "# Project 3 - Water Pump Clasificaiton"
   ]
  },
  {
   "cell_type": "markdown",
   "metadata": {},
   "source": [
    "# Notes"
   ]
  },
  {
   "cell_type": "markdown",
   "metadata": {},
   "source": [
    "**Things to add to my project - ideas from class**\n",
    "\n",
    "Anything?\n"
   ]
  },
  {
   "cell_type": "markdown",
   "metadata": {},
   "source": [
    "# Setup"
   ]
  },
  {
   "cell_type": "code",
   "execution_count": 13,
   "metadata": {},
   "outputs": [],
   "source": [
    "from __future__ import print_function"
   ]
  },
  {
   "cell_type": "code",
   "execution_count": 14,
   "metadata": {},
   "outputs": [],
   "source": [
    "import pandas as pd\n",
    "import numpy as np\n",
    "import seaborn as sns\n",
    "\n",
    "import matplotlib.pyplot as plt\n",
    "%matplotlib inline\n",
    "\n",
    "from __future__ import division\n",
    "pd.set_option('display.width',5000)"
   ]
  },
  {
   "cell_type": "code",
   "execution_count": 15,
   "metadata": {},
   "outputs": [],
   "source": [
    "import patsy\n",
    "\n",
    "from sklearn import linear_model as lm\n",
    "from sklearn.linear_model import LogisticRegression\n",
    "from sklearn import cross_validation\n",
    "from sklearn import metrics\n",
    "from sklearn.metrics import confusion_matrix"
   ]
  },
  {
   "cell_type": "markdown",
   "metadata": {},
   "source": [
    "# Data Import - Training Data"
   ]
  },
  {
   "cell_type": "markdown",
   "metadata": {},
   "source": [
    "This data is part of the Data Driven Competition\n",
    "\n",
    "https://www.drivendata.org/competitions/7/pump-it-up-data-mining-the-water-table/page/23/\n"
   ]
  },
  {
   "cell_type": "code",
   "execution_count": 28,
   "metadata": {},
   "outputs": [
    {
     "data": {
      "text/html": [
       "<div>\n",
       "<style scoped>\n",
       "    .dataframe tbody tr th:only-of-type {\n",
       "        vertical-align: middle;\n",
       "    }\n",
       "\n",
       "    .dataframe tbody tr th {\n",
       "        vertical-align: top;\n",
       "    }\n",
       "\n",
       "    .dataframe thead th {\n",
       "        text-align: right;\n",
       "    }\n",
       "</style>\n",
       "<table border=\"1\" class=\"dataframe\">\n",
       "  <thead>\n",
       "    <tr style=\"text-align: right;\">\n",
       "      <th></th>\n",
       "      <th>id</th>\n",
       "      <th>amount_tsh</th>\n",
       "      <th>date_recorded</th>\n",
       "      <th>funder</th>\n",
       "      <th>gps_height</th>\n",
       "      <th>installer</th>\n",
       "      <th>longitude</th>\n",
       "      <th>latitude</th>\n",
       "      <th>wpt_name</th>\n",
       "      <th>num_private</th>\n",
       "      <th>...</th>\n",
       "      <th>payment_type</th>\n",
       "      <th>water_quality</th>\n",
       "      <th>quality_group</th>\n",
       "      <th>quantity</th>\n",
       "      <th>quantity_group</th>\n",
       "      <th>source</th>\n",
       "      <th>source_type</th>\n",
       "      <th>source_class</th>\n",
       "      <th>waterpoint_type</th>\n",
       "      <th>waterpoint_type_group</th>\n",
       "    </tr>\n",
       "  </thead>\n",
       "  <tbody>\n",
       "    <tr>\n",
       "      <th>29100</th>\n",
       "      <td>2773</td>\n",
       "      <td>30.0</td>\n",
       "      <td>2013-05-04</td>\n",
       "      <td>Lowasa</td>\n",
       "      <td>1533</td>\n",
       "      <td>DWE</td>\n",
       "      <td>36.569454</td>\n",
       "      <td>-3.311880e+00</td>\n",
       "      <td>Lomishila</td>\n",
       "      <td>0</td>\n",
       "      <td>...</td>\n",
       "      <td>per bucket</td>\n",
       "      <td>soft</td>\n",
       "      <td>good</td>\n",
       "      <td>enough</td>\n",
       "      <td>enough</td>\n",
       "      <td>machine dbh</td>\n",
       "      <td>borehole</td>\n",
       "      <td>groundwater</td>\n",
       "      <td>communal standpipe multiple</td>\n",
       "      <td>communal standpipe</td>\n",
       "    </tr>\n",
       "    <tr>\n",
       "      <th>36391</th>\n",
       "      <td>28103</td>\n",
       "      <td>20.0</td>\n",
       "      <td>2013-01-19</td>\n",
       "      <td>Government Of Tanzania</td>\n",
       "      <td>1504</td>\n",
       "      <td>DWE</td>\n",
       "      <td>30.718354</td>\n",
       "      <td>-3.583671e+00</td>\n",
       "      <td>Community Center</td>\n",
       "      <td>0</td>\n",
       "      <td>...</td>\n",
       "      <td>per bucket</td>\n",
       "      <td>soft</td>\n",
       "      <td>good</td>\n",
       "      <td>insufficient</td>\n",
       "      <td>insufficient</td>\n",
       "      <td>river</td>\n",
       "      <td>river/lake</td>\n",
       "      <td>surface</td>\n",
       "      <td>communal standpipe multiple</td>\n",
       "      <td>communal standpipe</td>\n",
       "    </tr>\n",
       "    <tr>\n",
       "      <th>8811</th>\n",
       "      <td>9769</td>\n",
       "      <td>0.0</td>\n",
       "      <td>2012-10-13</td>\n",
       "      <td>Government Of Tanzania</td>\n",
       "      <td>0</td>\n",
       "      <td>DWE</td>\n",
       "      <td>0.000000</td>\n",
       "      <td>-2.000000e-08</td>\n",
       "      <td>Kwamasuke</td>\n",
       "      <td>0</td>\n",
       "      <td>...</td>\n",
       "      <td>monthly</td>\n",
       "      <td>salty</td>\n",
       "      <td>salty</td>\n",
       "      <td>insufficient</td>\n",
       "      <td>insufficient</td>\n",
       "      <td>shallow well</td>\n",
       "      <td>shallow well</td>\n",
       "      <td>groundwater</td>\n",
       "      <td>hand pump</td>\n",
       "      <td>hand pump</td>\n",
       "    </tr>\n",
       "  </tbody>\n",
       "</table>\n",
       "<p>3 rows × 40 columns</p>\n",
       "</div>"
      ],
      "text/plain": [
       "          id  amount_tsh date_recorded                  funder  gps_height installer  longitude      latitude          wpt_name  num_private          ...          payment_type water_quality quality_group      quantity  quantity_group        source   source_type  source_class              waterpoint_type waterpoint_type_group\n",
       "29100   2773        30.0    2013-05-04                  Lowasa        1533       DWE  36.569454 -3.311880e+00         Lomishila            0          ...            per bucket          soft          good        enough          enough   machine dbh      borehole   groundwater  communal standpipe multiple    communal standpipe\n",
       "36391  28103        20.0    2013-01-19  Government Of Tanzania        1504       DWE  30.718354 -3.583671e+00  Community Center            0          ...            per bucket          soft          good  insufficient    insufficient         river    river/lake       surface  communal standpipe multiple    communal standpipe\n",
       "8811    9769         0.0    2012-10-13  Government Of Tanzania           0       DWE   0.000000 -2.000000e-08         Kwamasuke            0          ...               monthly         salty         salty  insufficient    insufficient  shallow well  shallow well   groundwater                    hand pump             hand pump\n",
       "\n",
       "[3 rows x 40 columns]"
      ]
     },
     "execution_count": 28,
     "metadata": {},
     "output_type": "execute_result"
    }
   ],
   "source": [
    "# 'Values' provided for each pump location - features\n",
    "\n",
    "df_values = pd.read_csv('/Users/amycurneen/ds/metis/metisgh/Metis-Curneen/3 - Water Pumps/Data Downloads/Training set values.csv')\n",
    "df_values.sample(3)"
   ]
  },
  {
   "cell_type": "code",
   "execution_count": 27,
   "metadata": {},
   "outputs": [
    {
     "data": {
      "text/html": [
       "<div>\n",
       "<style scoped>\n",
       "    .dataframe tbody tr th:only-of-type {\n",
       "        vertical-align: middle;\n",
       "    }\n",
       "\n",
       "    .dataframe tbody tr th {\n",
       "        vertical-align: top;\n",
       "    }\n",
       "\n",
       "    .dataframe thead th {\n",
       "        text-align: right;\n",
       "    }\n",
       "</style>\n",
       "<table border=\"1\" class=\"dataframe\">\n",
       "  <thead>\n",
       "    <tr style=\"text-align: right;\">\n",
       "      <th></th>\n",
       "      <th>id</th>\n",
       "      <th>status_group</th>\n",
       "    </tr>\n",
       "  </thead>\n",
       "  <tbody>\n",
       "    <tr>\n",
       "      <th>6199</th>\n",
       "      <td>28907</td>\n",
       "      <td>non functional</td>\n",
       "    </tr>\n",
       "    <tr>\n",
       "      <th>23053</th>\n",
       "      <td>73626</td>\n",
       "      <td>functional</td>\n",
       "    </tr>\n",
       "    <tr>\n",
       "      <th>52133</th>\n",
       "      <td>73805</td>\n",
       "      <td>functional</td>\n",
       "    </tr>\n",
       "  </tbody>\n",
       "</table>\n",
       "</div>"
      ],
      "text/plain": [
       "          id    status_group\n",
       "6199   28907  non functional\n",
       "23053  73626      functional\n",
       "52133  73805      functional"
      ]
     },
     "execution_count": 27,
     "metadata": {},
     "output_type": "execute_result"
    }
   ],
   "source": [
    "# 'Labels' provided for each pump location - clasificaiton - what I am predicting\n",
    "\n",
    "df_labels = pd.read_csv('/Users/amycurneen/ds/metis/metisgh/Metis-Curneen/3 - Water Pumps/Data Downloads/Training set labels.csv')\n",
    "df_labels.sample(3)"
   ]
  },
  {
   "cell_type": "markdown",
   "metadata": {},
   "source": [
    "# Data Import - Challenge Data"
   ]
  },
  {
   "cell_type": "code",
   "execution_count": 133,
   "metadata": {},
   "outputs": [
    {
     "data": {
      "text/html": [
       "<div>\n",
       "<style scoped>\n",
       "    .dataframe tbody tr th:only-of-type {\n",
       "        vertical-align: middle;\n",
       "    }\n",
       "\n",
       "    .dataframe tbody tr th {\n",
       "        vertical-align: top;\n",
       "    }\n",
       "\n",
       "    .dataframe thead th {\n",
       "        text-align: right;\n",
       "    }\n",
       "</style>\n",
       "<table border=\"1\" class=\"dataframe\">\n",
       "  <thead>\n",
       "    <tr style=\"text-align: right;\">\n",
       "      <th></th>\n",
       "      <th>id</th>\n",
       "      <th>amount_tsh</th>\n",
       "      <th>date_recorded</th>\n",
       "      <th>funder</th>\n",
       "      <th>gps_height</th>\n",
       "      <th>installer</th>\n",
       "      <th>longitude</th>\n",
       "      <th>latitude</th>\n",
       "      <th>wpt_name</th>\n",
       "      <th>num_private</th>\n",
       "      <th>...</th>\n",
       "      <th>payment_type</th>\n",
       "      <th>water_quality</th>\n",
       "      <th>quality_group</th>\n",
       "      <th>quantity</th>\n",
       "      <th>quantity_group</th>\n",
       "      <th>source</th>\n",
       "      <th>source_type</th>\n",
       "      <th>source_class</th>\n",
       "      <th>waterpoint_type</th>\n",
       "      <th>waterpoint_type_group</th>\n",
       "    </tr>\n",
       "  </thead>\n",
       "  <tbody>\n",
       "    <tr>\n",
       "      <th>868</th>\n",
       "      <td>66920</td>\n",
       "      <td>20.0</td>\n",
       "      <td>2013-01-22</td>\n",
       "      <td>Dmdd</td>\n",
       "      <td>1798</td>\n",
       "      <td>DMDD</td>\n",
       "      <td>35.537130</td>\n",
       "      <td>-3.778552</td>\n",
       "      <td>Kwa Arberto Ingi</td>\n",
       "      <td>0</td>\n",
       "      <td>...</td>\n",
       "      <td>per bucket</td>\n",
       "      <td>soft</td>\n",
       "      <td>good</td>\n",
       "      <td>enough</td>\n",
       "      <td>enough</td>\n",
       "      <td>shallow well</td>\n",
       "      <td>shallow well</td>\n",
       "      <td>groundwater</td>\n",
       "      <td>hand pump</td>\n",
       "      <td>hand pump</td>\n",
       "    </tr>\n",
       "    <tr>\n",
       "      <th>8492</th>\n",
       "      <td>57254</td>\n",
       "      <td>0.0</td>\n",
       "      <td>2011-03-14</td>\n",
       "      <td>Ki</td>\n",
       "      <td>592</td>\n",
       "      <td>Ki</td>\n",
       "      <td>36.931341</td>\n",
       "      <td>-7.300958</td>\n",
       "      <td>Shamba La Miwa</td>\n",
       "      <td>0</td>\n",
       "      <td>...</td>\n",
       "      <td>never pay</td>\n",
       "      <td>soft</td>\n",
       "      <td>good</td>\n",
       "      <td>enough</td>\n",
       "      <td>enough</td>\n",
       "      <td>shallow well</td>\n",
       "      <td>shallow well</td>\n",
       "      <td>groundwater</td>\n",
       "      <td>hand pump</td>\n",
       "      <td>hand pump</td>\n",
       "    </tr>\n",
       "    <tr>\n",
       "      <th>12066</th>\n",
       "      <td>25154</td>\n",
       "      <td>0.0</td>\n",
       "      <td>2011-04-17</td>\n",
       "      <td>Shipo</td>\n",
       "      <td>1719</td>\n",
       "      <td>SHIPO</td>\n",
       "      <td>35.010827</td>\n",
       "      <td>-9.275456</td>\n",
       "      <td>Kwa Eliud Nyato</td>\n",
       "      <td>0</td>\n",
       "      <td>...</td>\n",
       "      <td>on failure</td>\n",
       "      <td>soft</td>\n",
       "      <td>good</td>\n",
       "      <td>enough</td>\n",
       "      <td>enough</td>\n",
       "      <td>hand dtw</td>\n",
       "      <td>borehole</td>\n",
       "      <td>groundwater</td>\n",
       "      <td>hand pump</td>\n",
       "      <td>hand pump</td>\n",
       "    </tr>\n",
       "  </tbody>\n",
       "</table>\n",
       "<p>3 rows × 40 columns</p>\n",
       "</div>"
      ],
      "text/plain": [
       "          id  amount_tsh date_recorded funder  gps_height installer  longitude  latitude          wpt_name  num_private          ...          payment_type water_quality quality_group  quantity  quantity_group        source   source_type  source_class waterpoint_type waterpoint_type_group\n",
       "868    66920        20.0    2013-01-22   Dmdd        1798      DMDD  35.537130 -3.778552  Kwa Arberto Ingi            0          ...            per bucket          soft          good    enough          enough  shallow well  shallow well   groundwater       hand pump             hand pump\n",
       "8492   57254         0.0    2011-03-14     Ki         592        Ki  36.931341 -7.300958    Shamba La Miwa            0          ...             never pay          soft          good    enough          enough  shallow well  shallow well   groundwater       hand pump             hand pump\n",
       "12066  25154         0.0    2011-04-17  Shipo        1719     SHIPO  35.010827 -9.275456   Kwa Eliud Nyato            0          ...            on failure          soft          good    enough          enough      hand dtw      borehole   groundwater       hand pump             hand pump\n",
       "\n",
       "[3 rows x 40 columns]"
      ]
     },
     "execution_count": 133,
     "metadata": {},
     "output_type": "execute_result"
    }
   ],
   "source": [
    "# 'Values' provided for each competition pump location - features\n",
    "\n",
    "df_test_values = pd.read_csv('/Users/amycurneen/ds/metis/metisgh/Metis-Curneen/3 - Water Pumps/Data Downloads/Test set values.csv')\n",
    "df_test_values.sample(3)"
   ]
  },
  {
   "cell_type": "code",
   "execution_count": 134,
   "metadata": {},
   "outputs": [
    {
     "data": {
      "text/html": [
       "<div>\n",
       "<style scoped>\n",
       "    .dataframe tbody tr th:only-of-type {\n",
       "        vertical-align: middle;\n",
       "    }\n",
       "\n",
       "    .dataframe tbody tr th {\n",
       "        vertical-align: top;\n",
       "    }\n",
       "\n",
       "    .dataframe thead th {\n",
       "        text-align: right;\n",
       "    }\n",
       "</style>\n",
       "<table border=\"1\" class=\"dataframe\">\n",
       "  <thead>\n",
       "    <tr style=\"text-align: right;\">\n",
       "      <th></th>\n",
       "      <th>id</th>\n",
       "      <th>status_group</th>\n",
       "    </tr>\n",
       "  </thead>\n",
       "  <tbody>\n",
       "    <tr>\n",
       "      <th>1046</th>\n",
       "      <td>62035</td>\n",
       "      <td>predicted label</td>\n",
       "    </tr>\n",
       "    <tr>\n",
       "      <th>5252</th>\n",
       "      <td>26353</td>\n",
       "      <td>predicted label</td>\n",
       "    </tr>\n",
       "    <tr>\n",
       "      <th>13876</th>\n",
       "      <td>54592</td>\n",
       "      <td>predicted label</td>\n",
       "    </tr>\n",
       "  </tbody>\n",
       "</table>\n",
       "</div>"
      ],
      "text/plain": [
       "          id     status_group\n",
       "1046   62035  predicted label\n",
       "5252   26353  predicted label\n",
       "13876  54592  predicted label"
      ]
     },
     "execution_count": 134,
     "metadata": {},
     "output_type": "execute_result"
    }
   ],
   "source": [
    "# 'Labels' I will provide for each pump location - clasificaiton\n",
    "\n",
    "df_sub = pd.read_csv('/Users/amycurneen/ds/metis/metisgh/Metis-Curneen/3 - Water Pumps/Data Downloads/SubmissionFormat.csv')\n",
    "df_sub.sample(3)"
   ]
  },
  {
   "cell_type": "code",
   "execution_count": 135,
   "metadata": {
    "scrolled": true
   },
   "outputs": [],
   "source": [
    "df_sub = df_sub.drop('status_group', axis = 1)"
   ]
  },
  {
   "cell_type": "markdown",
   "metadata": {
    "heading_collapsed": true
   },
   "source": [
    "# Exploratory Data Analysis"
   ]
  },
  {
   "cell_type": "markdown",
   "metadata": {
    "hidden": true
   },
   "source": [
    "## Colum descriptions"
   ]
  },
  {
   "cell_type": "markdown",
   "metadata": {
    "hidden": true
   },
   "source": [
    "My goal is to predict the operating condition of a waterpoint for each record in the dataset. I was provided the following set of information about the waterpoints:\n",
    "\n",
    "* amount_tsh - Total static head (amount water available to waterpoint)\n",
    "    * 98 unique\n",
    "* date_recorded - The date the row was entered\n",
    "    * 365 unique\n",
    "    * year - month - day\n",
    "* funder - Who funded the well\n",
    "    * 1897 unique\n",
    "    * look at top ones?\n",
    "* installer - Organization that installed the well\n",
    "    * 2145 unique\n",
    "    * DWE is main one - 10x closest other, 17k\n",
    "* wpt_name - Name of the waterpoint if there is one\n",
    "    * 37400 unique\n",
    "    * look at top ones?\n",
    "* num_private - (NO PROVIDED DESC)\n",
    "    * 65 unique\n",
    "    * USELESS FEATURE\n",
    "* population - Population around the well\n",
    "    * 1049 unique\n",
    "    * a lot are zero\n",
    "* public_meeting - True/False\n",
    "    * 2 unique\n",
    "* recorded_by - Group entering this row of data\n",
    "    * 1 unique\n",
    "    * all the same - USELESS FEATURE\n",
    "* scheme_management - Who operates the waterpoint\n",
    "    * 12 unique\n",
    "* scheme_name - Who operates the waterpoint\n",
    "    * 2696 unique\n",
    "    * USELESS FEATURE\n",
    "* permit - If the waterpoint is permitted\n",
    "    * 2 unique\n",
    "* construction_year - Year the waterpoint was constructed\n",
    "    * 55 unique\n",
    "    * third are 0 - USELESS FEATURE\n",
    "\n",
    "\n",
    "* Geography\n",
    "    * gps_height - Altitude of the well\n",
    "        * numerical\n",
    "    * longitude - GPS coordinate\n",
    "        * numerical\n",
    "    * latitude - GPS coordinate\n",
    "        * numerical\n",
    "    * basin - Geographic water basin\n",
    "        * 9 unique\n",
    "    * subvillage - Geographic location\n",
    "        * 19287 unique\n",
    "    * region - Geographic location\n",
    "        * 21 unique\n",
    "    * region_code - Geographic location (coded)\n",
    "        * 27 unique\n",
    "    * district_code - Geographic location (coded)\n",
    "        * 20 unique\n",
    "    * lga - Geographic location\n",
    "        * 125 unique\n",
    "    * ward - Geographic location\n",
    "        * 2092 unique\n",
    "\n",
    "\n",
    "* Extraction\n",
    "    * extraction_type - The kind of extraction the waterpoint uses\n",
    "        * 18 unique\n",
    "        * Most descriptive of extraction\n",
    "    * extraction_type_group - The kind of extraction the waterpoint uses\n",
    "        * 13 unique\n",
    "        * Parent of extraction_type\n",
    "    * extraction_type_class - The kind of extraction the waterpoint uses\n",
    "        * 7 unique\n",
    "        * Parent of extraction_type_group\n",
    "\n",
    "\n",
    "* Overhead\n",
    "    * management - How the waterpoint is managed\n",
    "        * 12 unique\n",
    "    * management_group - How the waterpoint is managed\n",
    "        * 5 unique\n",
    "    * payment - What the water costs\n",
    "        * 7 unique\n",
    "        * same as payment type\n",
    "    * payment_type - What the water costs\n",
    "        * 7 unique\n",
    "        * same as payment\n",
    "\n",
    "\n",
    "* Water\n",
    "    * water_quality - The quality of the water \n",
    "        * 3 unique\n",
    "        * Subset of quality_group\n",
    "    * quality_group - The quality of the water\n",
    "        * 6 unique\n",
    "        * Parent group of water_quality\n",
    "    * quantity - The quantity of water\n",
    "        * 5 unique\n",
    "        * Same as quantity_group\n",
    "    * quantity_group - The quantity of water\n",
    "        * 5 unique\n",
    "        * Same as quantity\n",
    "    * source - The source of the water\n",
    "        * 10 unique\n",
    "    * source_type - The source of the water\n",
    "        * 7 unique\n",
    "        * Subset of source\n",
    "    * source_class - The source of the water\n",
    "        * 3 unique\n",
    "        * Subset of source_type\n",
    "    * waterpoint_type - The kind of waterpoint\n",
    "        * 6 unique\n",
    "        * Parent of waterpoint_type_group\n",
    "    * waterpoint_type_group - The kind of waterpoint\n",
    "        * 7 unique\n",
    "        * Subset of waterpoint_type"
   ]
  },
  {
   "cell_type": "markdown",
   "metadata": {
    "hidden": true
   },
   "source": [
    "## Various EDA"
   ]
  },
  {
   "cell_type": "markdown",
   "metadata": {
    "hidden": true
   },
   "source": [
    "##### Status"
   ]
  },
  {
   "cell_type": "code",
   "execution_count": 18,
   "metadata": {
    "hidden": true
   },
   "outputs": [
    {
     "data": {
      "text/plain": [
       "functional                 32259\n",
       "non functional             22824\n",
       "functional needs repair     4317\n",
       "Name: status_group, dtype: int64"
      ]
     },
     "execution_count": 18,
     "metadata": {},
     "output_type": "execute_result"
    }
   ],
   "source": [
    "# 3 Unique status present\n",
    "df_labels.status_group.value_counts()"
   ]
  },
  {
   "cell_type": "markdown",
   "metadata": {
    "hidden": true
   },
   "source": [
    "##### Review histograms of extraction data\n",
    "\n",
    "* extraction_type - The kind of extraction the waterpoint uses\n",
    "* extraction_type_group - The kind of extraction the waterpoint uses\n",
    "* extraction_type_class - The kind of extraction the waterpoint uses"
   ]
  },
  {
   "cell_type": "code",
   "execution_count": null,
   "metadata": {
    "hidden": true
   },
   "outputs": [],
   "source": [
    "df_values.extraction_type.value_counts().plot('barh')\n",
    "len(df_values.extraction_type.value_counts())"
   ]
  },
  {
   "cell_type": "code",
   "execution_count": null,
   "metadata": {
    "hidden": true
   },
   "outputs": [],
   "source": [
    "df_values.extraction_type_group.value_counts().plot('barh')\n",
    "len(df_values.extraction_type_group.value_counts())"
   ]
  },
  {
   "cell_type": "code",
   "execution_count": null,
   "metadata": {
    "hidden": true,
    "scrolled": true
   },
   "outputs": [],
   "source": [
    "df_values.extraction_type_class.value_counts().plot('barh')\n",
    "len(df_values.extraction_type_class.value_counts())"
   ]
  },
  {
   "cell_type": "markdown",
   "metadata": {
    "hidden": true
   },
   "source": [
    "##### Other"
   ]
  },
  {
   "cell_type": "code",
   "execution_count": null,
   "metadata": {
    "hidden": true
   },
   "outputs": [],
   "source": [
    "# df_values.population.value_counts()"
   ]
  },
  {
   "cell_type": "code",
   "execution_count": null,
   "metadata": {
    "hidden": true
   },
   "outputs": [],
   "source": [
    "len(df_values.ward.value_counts())"
   ]
  },
  {
   "cell_type": "code",
   "execution_count": null,
   "metadata": {
    "hidden": true
   },
   "outputs": [],
   "source": [
    "# len(df_values.management.value_counts())"
   ]
  },
  {
   "cell_type": "code",
   "execution_count": null,
   "metadata": {
    "hidden": true
   },
   "outputs": [],
   "source": [
    "# print(df_values.region.value_counts())\n",
    "# print('Length: ',len(df_values.region.value_counts()))"
   ]
  },
  {
   "cell_type": "code",
   "execution_count": null,
   "metadata": {
    "hidden": true
   },
   "outputs": [],
   "source": [
    "#print(df_values.region_code.value_counts())\n",
    "#print('Length: ',len(df_values.region_code.value_counts()))"
   ]
  },
  {
   "cell_type": "code",
   "execution_count": null,
   "metadata": {
    "hidden": true
   },
   "outputs": [],
   "source": [
    "# df_values.water_quality.value_counts()"
   ]
  },
  {
   "cell_type": "code",
   "execution_count": null,
   "metadata": {
    "hidden": true
   },
   "outputs": [],
   "source": [
    "#df_values.installer.value_counts()"
   ]
  },
  {
   "cell_type": "markdown",
   "metadata": {},
   "source": [
    "# Test Train Split"
   ]
  },
  {
   "cell_type": "code",
   "execution_count": 29,
   "metadata": {},
   "outputs": [],
   "source": [
    "# randomize data\n",
    "# df_lables, df_values - combine and shuffle this data\n",
    "\n",
    "df = pd.merge(df_labels,df_values,how = 'left')\n",
    "df = df.sample(frac=1).reset_index(drop=True)"
   ]
  },
  {
   "cell_type": "code",
   "execution_count": 56,
   "metadata": {},
   "outputs": [],
   "source": [
    "# Split back to X and y and then TTS\n",
    "y = df[[\"id\",\"status_group\"]]\n",
    "X = df.drop('status_group', axis=1)\n",
    "\n",
    "from sklearn.cross_validation import train_test_split\n",
    "\n",
    "X_train, X_test, y_train, y_test = train_test_split(X, y, test_size=0.2)"
   ]
  },
  {
   "cell_type": "code",
   "execution_count": 39,
   "metadata": {},
   "outputs": [
    {
     "data": {
      "text/plain": [
       "(11880, 40)"
      ]
     },
     "execution_count": 39,
     "metadata": {},
     "output_type": "execute_result"
    }
   ],
   "source": [
    "X_train.shape"
   ]
  },
  {
   "cell_type": "markdown",
   "metadata": {},
   "source": [
    "# Decision Tree"
   ]
  },
  {
   "cell_type": "markdown",
   "metadata": {},
   "source": [
    "## Create DT on test-train-split"
   ]
  },
  {
   "cell_type": "code",
   "execution_count": 57,
   "metadata": {},
   "outputs": [],
   "source": [
    "import matplotlib.pyplot as plt\n",
    "%matplotlib inline\n",
    "import matplotlib.cm as cm\n",
    "import numpy as np\n",
    "\n",
    "from sklearn.tree import DecisionTreeClassifier\n",
    "from sklearn.svm import LinearSVC\n",
    "from sklearn.svm import SVC\n",
    "from sklearn.ensemble import RandomForestClassifier\n",
    "from sklearn.linear_model import LogisticRegression"
   ]
  },
  {
   "cell_type": "code",
   "execution_count": 58,
   "metadata": {},
   "outputs": [
    {
     "data": {
      "text/html": [
       "<div>\n",
       "<style scoped>\n",
       "    .dataframe tbody tr th:only-of-type {\n",
       "        vertical-align: middle;\n",
       "    }\n",
       "\n",
       "    .dataframe tbody tr th {\n",
       "        vertical-align: top;\n",
       "    }\n",
       "\n",
       "    .dataframe thead th {\n",
       "        text-align: right;\n",
       "    }\n",
       "</style>\n",
       "<table border=\"1\" class=\"dataframe\">\n",
       "  <thead>\n",
       "    <tr style=\"text-align: right;\">\n",
       "      <th></th>\n",
       "      <th>id</th>\n",
       "      <th>status_group</th>\n",
       "      <th>amount_tsh</th>\n",
       "      <th>date_recorded</th>\n",
       "      <th>funder</th>\n",
       "      <th>gps_height</th>\n",
       "      <th>installer</th>\n",
       "      <th>longitude</th>\n",
       "      <th>latitude</th>\n",
       "      <th>wpt_name</th>\n",
       "      <th>...</th>\n",
       "      <th>payment_type</th>\n",
       "      <th>water_quality</th>\n",
       "      <th>quality_group</th>\n",
       "      <th>quantity</th>\n",
       "      <th>quantity_group</th>\n",
       "      <th>source</th>\n",
       "      <th>source_type</th>\n",
       "      <th>source_class</th>\n",
       "      <th>waterpoint_type</th>\n",
       "      <th>waterpoint_type_group</th>\n",
       "    </tr>\n",
       "  </thead>\n",
       "  <tbody>\n",
       "    <tr>\n",
       "      <th>49499</th>\n",
       "      <td>33368</td>\n",
       "      <td>non functional</td>\n",
       "      <td>0.0</td>\n",
       "      <td>2012-11-15</td>\n",
       "      <td>Ministry Of Water</td>\n",
       "      <td>1152</td>\n",
       "      <td>Hesawa</td>\n",
       "      <td>33.901932</td>\n",
       "      <td>-1.494934</td>\n",
       "      <td>Kwa Sostenes Marwa</td>\n",
       "      <td>...</td>\n",
       "      <td>never pay</td>\n",
       "      <td>soft</td>\n",
       "      <td>good</td>\n",
       "      <td>enough</td>\n",
       "      <td>enough</td>\n",
       "      <td>lake</td>\n",
       "      <td>river/lake</td>\n",
       "      <td>surface</td>\n",
       "      <td>communal standpipe</td>\n",
       "      <td>communal standpipe</td>\n",
       "    </tr>\n",
       "    <tr>\n",
       "      <th>34665</th>\n",
       "      <td>12309</td>\n",
       "      <td>functional needs repair</td>\n",
       "      <td>200.0</td>\n",
       "      <td>2011-02-28</td>\n",
       "      <td>World Bank</td>\n",
       "      <td>404</td>\n",
       "      <td>World</td>\n",
       "      <td>37.822106</td>\n",
       "      <td>-6.840695</td>\n",
       "      <td>Shule Kilole</td>\n",
       "      <td>...</td>\n",
       "      <td>monthly</td>\n",
       "      <td>soft</td>\n",
       "      <td>good</td>\n",
       "      <td>enough</td>\n",
       "      <td>enough</td>\n",
       "      <td>river</td>\n",
       "      <td>river/lake</td>\n",
       "      <td>surface</td>\n",
       "      <td>communal standpipe</td>\n",
       "      <td>communal standpipe</td>\n",
       "    </tr>\n",
       "    <tr>\n",
       "      <th>23148</th>\n",
       "      <td>22869</td>\n",
       "      <td>non functional</td>\n",
       "      <td>0.0</td>\n",
       "      <td>2011-03-15</td>\n",
       "      <td>Water</td>\n",
       "      <td>0</td>\n",
       "      <td>Commu</td>\n",
       "      <td>36.547969</td>\n",
       "      <td>-5.755247</td>\n",
       "      <td>Kwa Denis</td>\n",
       "      <td>...</td>\n",
       "      <td>per bucket</td>\n",
       "      <td>salty</td>\n",
       "      <td>salty</td>\n",
       "      <td>dry</td>\n",
       "      <td>dry</td>\n",
       "      <td>machine dbh</td>\n",
       "      <td>borehole</td>\n",
       "      <td>groundwater</td>\n",
       "      <td>communal standpipe multiple</td>\n",
       "      <td>communal standpipe</td>\n",
       "    </tr>\n",
       "  </tbody>\n",
       "</table>\n",
       "<p>3 rows × 41 columns</p>\n",
       "</div>"
      ],
      "text/plain": [
       "          id             status_group  amount_tsh date_recorded             funder  gps_height installer  longitude  latitude            wpt_name          ...           payment_type water_quality quality_group quantity  quantity_group       source source_type source_class              waterpoint_type waterpoint_type_group\n",
       "49499  33368           non functional         0.0    2012-11-15  Ministry Of Water        1152    Hesawa  33.901932 -1.494934  Kwa Sostenes Marwa          ...              never pay          soft          good   enough          enough         lake  river/lake      surface           communal standpipe    communal standpipe\n",
       "34665  12309  functional needs repair       200.0    2011-02-28         World Bank         404     World  37.822106 -6.840695        Shule Kilole          ...                monthly          soft          good   enough          enough        river  river/lake      surface           communal standpipe    communal standpipe\n",
       "23148  22869           non functional         0.0    2011-03-15              Water           0     Commu  36.547969 -5.755247           Kwa Denis          ...             per bucket         salty         salty      dry             dry  machine dbh    borehole  groundwater  communal standpipe multiple    communal standpipe\n",
       "\n",
       "[3 rows x 41 columns]"
      ]
     },
     "execution_count": 58,
     "metadata": {},
     "output_type": "execute_result"
    }
   ],
   "source": [
    "df.sample(3)"
   ]
  },
  {
   "cell_type": "code",
   "execution_count": 88,
   "metadata": {},
   "outputs": [],
   "source": [
    "# try with a few less features first \n",
    "\n",
    "feature_no_sel = df[['amount_tsh', 'date_recorded', 'funder', 'installer', \n",
    "                   'wpt_name', 'num_private', 'subvillage', 'region', \n",
    "                   'region_code', 'district_code', 'lga', 'ward', 'public_meeting', 'recorded_by', \n",
    "                   'scheme_management', 'scheme_name', 'permit', 'construction_year', 'extraction_type', \n",
    "                   'extraction_type_group', 'management', 'management_group', 'payment', \n",
    "                   'payment_type', 'water_quality', 'quality_group', 'quantity_group', 'source', \n",
    "                   'source_type', 'waterpoint_type','region_code', \n",
    "                  'district_code','public_meeting','scheme_management']]\n",
    "\n",
    "feature_sel = df[['id', 'status_group', 'gps_height', 'longitude', 'latitude', 'basin',\n",
    "                  'extraction_type_class','payment','quantity','water_quality', 'source_class',\n",
    "                  'waterpoint_type_group','population','public_meeting','scheme_management']]"
   ]
  },
  {
   "cell_type": "code",
   "execution_count": 89,
   "metadata": {
    "scrolled": true
   },
   "outputs": [
    {
     "data": {
      "text/html": [
       "<div>\n",
       "<style scoped>\n",
       "    .dataframe tbody tr th:only-of-type {\n",
       "        vertical-align: middle;\n",
       "    }\n",
       "\n",
       "    .dataframe tbody tr th {\n",
       "        vertical-align: top;\n",
       "    }\n",
       "\n",
       "    .dataframe thead th {\n",
       "        text-align: right;\n",
       "    }\n",
       "</style>\n",
       "<table border=\"1\" class=\"dataframe\">\n",
       "  <thead>\n",
       "    <tr style=\"text-align: right;\">\n",
       "      <th></th>\n",
       "      <th>id</th>\n",
       "      <th>status_group</th>\n",
       "      <th>gps_height</th>\n",
       "      <th>longitude</th>\n",
       "      <th>latitude</th>\n",
       "      <th>basin</th>\n",
       "      <th>extraction_type_class</th>\n",
       "      <th>payment</th>\n",
       "      <th>quantity</th>\n",
       "      <th>water_quality</th>\n",
       "      <th>source_class</th>\n",
       "      <th>waterpoint_type_group</th>\n",
       "      <th>population</th>\n",
       "      <th>public_meeting</th>\n",
       "      <th>scheme_management</th>\n",
       "    </tr>\n",
       "  </thead>\n",
       "  <tbody>\n",
       "    <tr>\n",
       "      <th>3563</th>\n",
       "      <td>40384</td>\n",
       "      <td>non functional</td>\n",
       "      <td>0</td>\n",
       "      <td>32.248871</td>\n",
       "      <td>-3.406509</td>\n",
       "      <td>Lake Tanganyika</td>\n",
       "      <td>handpump</td>\n",
       "      <td>unknown</td>\n",
       "      <td>dry</td>\n",
       "      <td>soft</td>\n",
       "      <td>groundwater</td>\n",
       "      <td>hand pump</td>\n",
       "      <td>0</td>\n",
       "      <td>NaN</td>\n",
       "      <td>WUG</td>\n",
       "    </tr>\n",
       "    <tr>\n",
       "      <th>16659</th>\n",
       "      <td>17308</td>\n",
       "      <td>functional</td>\n",
       "      <td>351</td>\n",
       "      <td>39.106719</td>\n",
       "      <td>-10.846917</td>\n",
       "      <td>Ruvuma / Southern Coast</td>\n",
       "      <td>gravity</td>\n",
       "      <td>unknown</td>\n",
       "      <td>enough</td>\n",
       "      <td>soft</td>\n",
       "      <td>groundwater</td>\n",
       "      <td>communal standpipe</td>\n",
       "      <td>209</td>\n",
       "      <td>True</td>\n",
       "      <td>VWC</td>\n",
       "    </tr>\n",
       "    <tr>\n",
       "      <th>28414</th>\n",
       "      <td>39065</td>\n",
       "      <td>functional</td>\n",
       "      <td>0</td>\n",
       "      <td>32.551352</td>\n",
       "      <td>-3.650549</td>\n",
       "      <td>Lake Victoria</td>\n",
       "      <td>handpump</td>\n",
       "      <td>unknown</td>\n",
       "      <td>seasonal</td>\n",
       "      <td>milky</td>\n",
       "      <td>groundwater</td>\n",
       "      <td>hand pump</td>\n",
       "      <td>0</td>\n",
       "      <td>True</td>\n",
       "      <td>NaN</td>\n",
       "    </tr>\n",
       "  </tbody>\n",
       "</table>\n",
       "</div>"
      ],
      "text/plain": [
       "          id    status_group  gps_height  longitude   latitude                    basin extraction_type_class  payment  quantity water_quality source_class waterpoint_type_group  population public_meeting scheme_management\n",
       "3563   40384  non functional           0  32.248871  -3.406509          Lake Tanganyika              handpump  unknown       dry          soft  groundwater             hand pump           0            NaN               WUG\n",
       "16659  17308      functional         351  39.106719 -10.846917  Ruvuma / Southern Coast               gravity  unknown    enough          soft  groundwater    communal standpipe         209           True               VWC\n",
       "28414  39065      functional           0  32.551352  -3.650549            Lake Victoria              handpump  unknown  seasonal         milky  groundwater             hand pump           0           True               NaN"
      ]
     },
     "execution_count": 89,
     "metadata": {},
     "output_type": "execute_result"
    }
   ],
   "source": [
    "feature_sel.sample(3)"
   ]
  },
  {
   "cell_type": "code",
   "execution_count": 90,
   "metadata": {},
   "outputs": [],
   "source": [
    "# Change what I predict to 1,2,3\n",
    "\n",
    "for i in range(len(feature_sel.status_group)):\n",
    "    if feature_sel.status_group[i] == 'functional':\n",
    "        feature_sel.at[i, 'status_group'] = 3\n",
    "    elif feature_sel.status_group[i] == 'functional needs repair':\n",
    "        feature_sel.at[i, 'status_group'] = 2\n",
    "    else:\n",
    "        feature_sel.at[i, 'status_group'] = 1"
   ]
  },
  {
   "cell_type": "code",
   "execution_count": 91,
   "metadata": {},
   "outputs": [
    {
     "data": {
      "text/html": [
       "<div>\n",
       "<style scoped>\n",
       "    .dataframe tbody tr th:only-of-type {\n",
       "        vertical-align: middle;\n",
       "    }\n",
       "\n",
       "    .dataframe tbody tr th {\n",
       "        vertical-align: top;\n",
       "    }\n",
       "\n",
       "    .dataframe thead th {\n",
       "        text-align: right;\n",
       "    }\n",
       "</style>\n",
       "<table border=\"1\" class=\"dataframe\">\n",
       "  <thead>\n",
       "    <tr style=\"text-align: right;\">\n",
       "      <th></th>\n",
       "      <th>status_group</th>\n",
       "      <th>gps_height</th>\n",
       "      <th>longitude</th>\n",
       "      <th>latitude</th>\n",
       "      <th>basin</th>\n",
       "      <th>extraction_type_class</th>\n",
       "      <th>payment</th>\n",
       "      <th>quantity</th>\n",
       "      <th>water_quality</th>\n",
       "      <th>source_class</th>\n",
       "      <th>waterpoint_type_group</th>\n",
       "      <th>population</th>\n",
       "      <th>public_meeting</th>\n",
       "      <th>scheme_management</th>\n",
       "    </tr>\n",
       "  </thead>\n",
       "  <tbody>\n",
       "    <tr>\n",
       "      <th>3301</th>\n",
       "      <td>3</td>\n",
       "      <td>1588</td>\n",
       "      <td>37.159508</td>\n",
       "      <td>-3.196829</td>\n",
       "      <td>Pangani</td>\n",
       "      <td>gravity</td>\n",
       "      <td>pay per bucket</td>\n",
       "      <td>enough</td>\n",
       "      <td>soft</td>\n",
       "      <td>groundwater</td>\n",
       "      <td>communal standpipe</td>\n",
       "      <td>40</td>\n",
       "      <td>True</td>\n",
       "      <td>Water Board</td>\n",
       "    </tr>\n",
       "    <tr>\n",
       "      <th>15859</th>\n",
       "      <td>1</td>\n",
       "      <td>0</td>\n",
       "      <td>32.360869</td>\n",
       "      <td>-2.493183</td>\n",
       "      <td>Lake Victoria</td>\n",
       "      <td>handpump</td>\n",
       "      <td>never pay</td>\n",
       "      <td>enough</td>\n",
       "      <td>soft</td>\n",
       "      <td>groundwater</td>\n",
       "      <td>hand pump</td>\n",
       "      <td>0</td>\n",
       "      <td>True</td>\n",
       "      <td>VWC</td>\n",
       "    </tr>\n",
       "    <tr>\n",
       "      <th>36798</th>\n",
       "      <td>1</td>\n",
       "      <td>0</td>\n",
       "      <td>34.221941</td>\n",
       "      <td>-8.713000</td>\n",
       "      <td>Rufiji</td>\n",
       "      <td>gravity</td>\n",
       "      <td>pay monthly</td>\n",
       "      <td>seasonal</td>\n",
       "      <td>soft</td>\n",
       "      <td>surface</td>\n",
       "      <td>communal standpipe</td>\n",
       "      <td>0</td>\n",
       "      <td>True</td>\n",
       "      <td>VWC</td>\n",
       "    </tr>\n",
       "  </tbody>\n",
       "</table>\n",
       "</div>"
      ],
      "text/plain": [
       "      status_group  gps_height  longitude  latitude          basin extraction_type_class         payment  quantity water_quality source_class waterpoint_type_group  population public_meeting scheme_management\n",
       "3301             3        1588  37.159508 -3.196829        Pangani               gravity  pay per bucket    enough          soft  groundwater    communal standpipe          40           True       Water Board\n",
       "15859            1           0  32.360869 -2.493183  Lake Victoria              handpump       never pay    enough          soft  groundwater             hand pump           0           True               VWC\n",
       "36798            1           0  34.221941 -8.713000         Rufiji               gravity     pay monthly  seasonal          soft      surface    communal standpipe           0           True               VWC"
      ]
     },
     "execution_count": 91,
     "metadata": {},
     "output_type": "execute_result"
    }
   ],
   "source": [
    "feature_sel=feature_sel.drop('id', axis=1)\n",
    "feature_sel.sample(3)"
   ]
  },
  {
   "cell_type": "code",
   "execution_count": 92,
   "metadata": {},
   "outputs": [
    {
     "data": {
      "text/html": [
       "<div>\n",
       "<style scoped>\n",
       "    .dataframe tbody tr th:only-of-type {\n",
       "        vertical-align: middle;\n",
       "    }\n",
       "\n",
       "    .dataframe tbody tr th {\n",
       "        vertical-align: top;\n",
       "    }\n",
       "\n",
       "    .dataframe thead th {\n",
       "        text-align: right;\n",
       "    }\n",
       "</style>\n",
       "<table border=\"1\" class=\"dataframe\">\n",
       "  <thead>\n",
       "    <tr style=\"text-align: right;\">\n",
       "      <th></th>\n",
       "      <th>status_group</th>\n",
       "      <th>gps_height</th>\n",
       "      <th>longitude</th>\n",
       "      <th>latitude</th>\n",
       "      <th>population</th>\n",
       "      <th>basin</th>\n",
       "      <th>extraction_type_class</th>\n",
       "      <th>payment</th>\n",
       "      <th>quantity</th>\n",
       "      <th>water_quality</th>\n",
       "      <th>source_class</th>\n",
       "      <th>waterpoint_type_group</th>\n",
       "      <th>public_meeting</th>\n",
       "      <th>scheme_management</th>\n",
       "    </tr>\n",
       "  </thead>\n",
       "  <tbody>\n",
       "    <tr>\n",
       "      <th>19556</th>\n",
       "      <td>3</td>\n",
       "      <td>1635</td>\n",
       "      <td>37.447208</td>\n",
       "      <td>-3.293354</td>\n",
       "      <td>20</td>\n",
       "      <td>Pangani</td>\n",
       "      <td>gravity</td>\n",
       "      <td>pay per bucket</td>\n",
       "      <td>enough</td>\n",
       "      <td>soft</td>\n",
       "      <td>groundwater</td>\n",
       "      <td>communal standpipe</td>\n",
       "      <td>True</td>\n",
       "      <td>Water Board</td>\n",
       "    </tr>\n",
       "    <tr>\n",
       "      <th>57384</th>\n",
       "      <td>1</td>\n",
       "      <td>33</td>\n",
       "      <td>39.164306</td>\n",
       "      <td>-8.539036</td>\n",
       "      <td>254</td>\n",
       "      <td>Ruvuma / Southern Coast</td>\n",
       "      <td>other</td>\n",
       "      <td>never pay</td>\n",
       "      <td>enough</td>\n",
       "      <td>soft</td>\n",
       "      <td>groundwater</td>\n",
       "      <td>other</td>\n",
       "      <td>True</td>\n",
       "      <td>NaN</td>\n",
       "    </tr>\n",
       "    <tr>\n",
       "      <th>5722</th>\n",
       "      <td>2</td>\n",
       "      <td>0</td>\n",
       "      <td>33.826820</td>\n",
       "      <td>-9.175816</td>\n",
       "      <td>0</td>\n",
       "      <td>Lake Nyasa</td>\n",
       "      <td>gravity</td>\n",
       "      <td>never pay</td>\n",
       "      <td>enough</td>\n",
       "      <td>soft</td>\n",
       "      <td>surface</td>\n",
       "      <td>communal standpipe</td>\n",
       "      <td>True</td>\n",
       "      <td>VWC</td>\n",
       "    </tr>\n",
       "  </tbody>\n",
       "</table>\n",
       "</div>"
      ],
      "text/plain": [
       "      status_group  gps_height  longitude  latitude  population                    basin extraction_type_class         payment quantity water_quality source_class waterpoint_type_group public_meeting scheme_management\n",
       "19556            3        1635  37.447208 -3.293354          20                  Pangani               gravity  pay per bucket   enough          soft  groundwater    communal standpipe           True       Water Board\n",
       "57384            1          33  39.164306 -8.539036         254  Ruvuma / Southern Coast                 other       never pay   enough          soft  groundwater                 other           True               NaN\n",
       "5722             2           0  33.826820 -9.175816           0               Lake Nyasa               gravity       never pay   enough          soft      surface    communal standpipe           True               VWC"
      ]
     },
     "execution_count": 92,
     "metadata": {},
     "output_type": "execute_result"
    }
   ],
   "source": [
    "# rearange columns\n",
    "cols = feature_sel.columns.tolist()\n",
    "cols = ['status_group',\n",
    "             'gps_height',\n",
    "             'longitude',\n",
    "             'latitude',\n",
    "             'population',\n",
    "             'basin',\n",
    "             'extraction_type_class',\n",
    "             'payment',\n",
    "             'quantity',\n",
    "             'water_quality',\n",
    "             'source_class',\n",
    "             'waterpoint_type_group',\n",
    "             'public_meeting',\n",
    "             'scheme_management']\n",
    "feature_sel = feature_sel[cols]\n",
    "feature_sel.sample(3)"
   ]
  },
  {
   "cell_type": "code",
   "execution_count": 93,
   "metadata": {},
   "outputs": [
    {
     "data": {
      "text/html": [
       "<div>\n",
       "<style scoped>\n",
       "    .dataframe tbody tr th:only-of-type {\n",
       "        vertical-align: middle;\n",
       "    }\n",
       "\n",
       "    .dataframe tbody tr th {\n",
       "        vertical-align: top;\n",
       "    }\n",
       "\n",
       "    .dataframe thead th {\n",
       "        text-align: right;\n",
       "    }\n",
       "</style>\n",
       "<table border=\"1\" class=\"dataframe\">\n",
       "  <thead>\n",
       "    <tr style=\"text-align: right;\">\n",
       "      <th></th>\n",
       "      <th>status_group</th>\n",
       "      <th>gps_height</th>\n",
       "      <th>longitude</th>\n",
       "      <th>latitude</th>\n",
       "      <th>population</th>\n",
       "      <th>basin_Internal</th>\n",
       "      <th>basin_Lake Nyasa</th>\n",
       "      <th>basin_Lake Rukwa</th>\n",
       "      <th>basin_Lake Tanganyika</th>\n",
       "      <th>basin_Lake Victoria</th>\n",
       "      <th>...</th>\n",
       "      <th>scheme_management_Other</th>\n",
       "      <th>scheme_management_Parastatal</th>\n",
       "      <th>scheme_management_Private operator</th>\n",
       "      <th>scheme_management_SWC</th>\n",
       "      <th>scheme_management_Trust</th>\n",
       "      <th>scheme_management_VWC</th>\n",
       "      <th>scheme_management_WUA</th>\n",
       "      <th>scheme_management_WUG</th>\n",
       "      <th>scheme_management_Water Board</th>\n",
       "      <th>scheme_management_Water authority</th>\n",
       "    </tr>\n",
       "  </thead>\n",
       "  <tbody>\n",
       "    <tr>\n",
       "      <th>39286</th>\n",
       "      <td>3</td>\n",
       "      <td>1633</td>\n",
       "      <td>34.896821</td>\n",
       "      <td>-1.105004e+01</td>\n",
       "      <td>96</td>\n",
       "      <td>0</td>\n",
       "      <td>0</td>\n",
       "      <td>0</td>\n",
       "      <td>0</td>\n",
       "      <td>0</td>\n",
       "      <td>...</td>\n",
       "      <td>0</td>\n",
       "      <td>0</td>\n",
       "      <td>0</td>\n",
       "      <td>0</td>\n",
       "      <td>0</td>\n",
       "      <td>1</td>\n",
       "      <td>0</td>\n",
       "      <td>0</td>\n",
       "      <td>0</td>\n",
       "      <td>0</td>\n",
       "    </tr>\n",
       "    <tr>\n",
       "      <th>50219</th>\n",
       "      <td>3</td>\n",
       "      <td>0</td>\n",
       "      <td>0.000000</td>\n",
       "      <td>-2.000000e-08</td>\n",
       "      <td>0</td>\n",
       "      <td>0</td>\n",
       "      <td>0</td>\n",
       "      <td>0</td>\n",
       "      <td>0</td>\n",
       "      <td>1</td>\n",
       "      <td>...</td>\n",
       "      <td>0</td>\n",
       "      <td>0</td>\n",
       "      <td>0</td>\n",
       "      <td>0</td>\n",
       "      <td>0</td>\n",
       "      <td>1</td>\n",
       "      <td>0</td>\n",
       "      <td>0</td>\n",
       "      <td>0</td>\n",
       "      <td>0</td>\n",
       "    </tr>\n",
       "    <tr>\n",
       "      <th>15490</th>\n",
       "      <td>2</td>\n",
       "      <td>1423</td>\n",
       "      <td>36.690947</td>\n",
       "      <td>-3.354413e+00</td>\n",
       "      <td>200</td>\n",
       "      <td>0</td>\n",
       "      <td>0</td>\n",
       "      <td>0</td>\n",
       "      <td>0</td>\n",
       "      <td>0</td>\n",
       "      <td>...</td>\n",
       "      <td>0</td>\n",
       "      <td>0</td>\n",
       "      <td>0</td>\n",
       "      <td>0</td>\n",
       "      <td>0</td>\n",
       "      <td>1</td>\n",
       "      <td>0</td>\n",
       "      <td>0</td>\n",
       "      <td>0</td>\n",
       "      <td>0</td>\n",
       "    </tr>\n",
       "  </tbody>\n",
       "</table>\n",
       "<p>3 rows × 64 columns</p>\n",
       "</div>"
      ],
      "text/plain": [
       "      status_group  gps_height  longitude      latitude  population  basin_Internal  basin_Lake Nyasa  basin_Lake Rukwa  basin_Lake Tanganyika  basin_Lake Victoria                ...                  scheme_management_Other  scheme_management_Parastatal  scheme_management_Private operator  scheme_management_SWC  scheme_management_Trust  scheme_management_VWC  scheme_management_WUA  scheme_management_WUG  scheme_management_Water Board  scheme_management_Water authority\n",
       "39286            3        1633  34.896821 -1.105004e+01          96               0                 0                 0                      0                    0                ...                                        0                             0                                   0                      0                        0                      1                      0                      0                              0                                  0\n",
       "50219            3           0   0.000000 -2.000000e-08           0               0                 0                 0                      0                    1                ...                                        0                             0                                   0                      0                        0                      1                      0                      0                              0                                  0\n",
       "15490            2        1423  36.690947 -3.354413e+00         200               0                 0                 0                      0                    0                ...                                        0                             0                                   0                      0                        0                      1                      0                      0                              0                                  0\n",
       "\n",
       "[3 rows x 64 columns]"
      ]
     },
     "execution_count": 93,
     "metadata": {},
     "output_type": "execute_result"
    }
   ],
   "source": [
    "#create dummy features for applicabe\n",
    "\n",
    "feature_sel = pd.get_dummies(feature_sel,columns=list(feature_sel.columns[5:]))\n",
    "feature_sel.sample(3)"
   ]
  },
  {
   "cell_type": "code",
   "execution_count": 94,
   "metadata": {},
   "outputs": [],
   "source": [
    "columns = list(feature_sel.columns)\n",
    "feature_sel[columns[5:]] = feature_sel[columns[5:]].astype(int)\n",
    "feature_sel[columns[0]] = feature_sel[columns[0]].astype(int)"
   ]
  },
  {
   "cell_type": "code",
   "execution_count": 95,
   "metadata": {},
   "outputs": [],
   "source": [
    "y = feature_sel.status_group\n",
    "X = feature_sel.drop('status_group', axis=1)"
   ]
  },
  {
   "cell_type": "code",
   "execution_count": 96,
   "metadata": {},
   "outputs": [],
   "source": [
    "X_train, X_test, y_train, y_test = train_test_split(X, y, test_size=0.2)"
   ]
  },
  {
   "cell_type": "code",
   "execution_count": 97,
   "metadata": {},
   "outputs": [
    {
     "data": {
      "text/plain": [
       "DecisionTreeClassifier(class_weight=None, criterion='gini', max_depth=None,\n",
       "            max_features=None, max_leaf_nodes=None,\n",
       "            min_impurity_decrease=0.0, min_impurity_split=None,\n",
       "            min_samples_leaf=1, min_samples_split=2,\n",
       "            min_weight_fraction_leaf=0.0, presort=False, random_state=0,\n",
       "            splitter='best')"
      ]
     },
     "execution_count": 97,
     "metadata": {},
     "output_type": "execute_result"
    }
   ],
   "source": [
    "decisiontree = DecisionTreeClassifier(random_state=0)\n",
    "decisiontree.fit(X_train,y_train)"
   ]
  },
  {
   "cell_type": "code",
   "execution_count": 98,
   "metadata": {},
   "outputs": [
    {
     "data": {
      "text/plain": [
       "0.7464646464646465"
      ]
     },
     "execution_count": 98,
     "metadata": {},
     "output_type": "execute_result"
    }
   ],
   "source": [
    "decisiontree.score(X_test,y_test)"
   ]
  },
  {
   "cell_type": "markdown",
   "metadata": {},
   "source": [
    "## DT on competition datsa"
   ]
  },
  {
   "cell_type": "code",
   "execution_count": 142,
   "metadata": {},
   "outputs": [],
   "source": [
    "df_test_values = df_test_values[['gps_height', 'longitude', 'latitude', 'basin',\n",
    "                  'extraction_type_class','payment','quantity','water_quality', 'source_class',\n",
    "                  'waterpoint_type_group','population','public_meeting','scheme_management']]"
   ]
  },
  {
   "cell_type": "code",
   "execution_count": 143,
   "metadata": {},
   "outputs": [],
   "source": [
    "# rearange columns\n",
    "cols = df_test_values.columns.tolist()\n",
    "cols = ['gps_height',\n",
    "             'longitude',\n",
    "             'latitude',\n",
    "             'population',\n",
    "             'basin',\n",
    "             'extraction_type_class',\n",
    "             'payment',\n",
    "             'quantity',\n",
    "             'water_quality',\n",
    "             'source_class',\n",
    "             'waterpoint_type_group',\n",
    "             'public_meeting',\n",
    "             'scheme_management']\n",
    "df_test_values = df_test_values[cols]"
   ]
  },
  {
   "cell_type": "code",
   "execution_count": 144,
   "metadata": {},
   "outputs": [
    {
     "data": {
      "text/html": [
       "<div>\n",
       "<style scoped>\n",
       "    .dataframe tbody tr th:only-of-type {\n",
       "        vertical-align: middle;\n",
       "    }\n",
       "\n",
       "    .dataframe tbody tr th {\n",
       "        vertical-align: top;\n",
       "    }\n",
       "\n",
       "    .dataframe thead th {\n",
       "        text-align: right;\n",
       "    }\n",
       "</style>\n",
       "<table border=\"1\" class=\"dataframe\">\n",
       "  <thead>\n",
       "    <tr style=\"text-align: right;\">\n",
       "      <th></th>\n",
       "      <th>gps_height</th>\n",
       "      <th>longitude</th>\n",
       "      <th>latitude</th>\n",
       "      <th>population</th>\n",
       "      <th>basin_Internal</th>\n",
       "      <th>basin_Lake Nyasa</th>\n",
       "      <th>basin_Lake Rukwa</th>\n",
       "      <th>basin_Lake Tanganyika</th>\n",
       "      <th>basin_Lake Victoria</th>\n",
       "      <th>basin_Pangani</th>\n",
       "      <th>...</th>\n",
       "      <th>scheme_management_Other</th>\n",
       "      <th>scheme_management_Parastatal</th>\n",
       "      <th>scheme_management_Private operator</th>\n",
       "      <th>scheme_management_SWC</th>\n",
       "      <th>scheme_management_Trust</th>\n",
       "      <th>scheme_management_VWC</th>\n",
       "      <th>scheme_management_WUA</th>\n",
       "      <th>scheme_management_WUG</th>\n",
       "      <th>scheme_management_Water Board</th>\n",
       "      <th>scheme_management_Water authority</th>\n",
       "    </tr>\n",
       "  </thead>\n",
       "  <tbody>\n",
       "    <tr>\n",
       "      <th>5054</th>\n",
       "      <td>1272</td>\n",
       "      <td>35.104521</td>\n",
       "      <td>-8.928630</td>\n",
       "      <td>80</td>\n",
       "      <td>0</td>\n",
       "      <td>0</td>\n",
       "      <td>0</td>\n",
       "      <td>0</td>\n",
       "      <td>0</td>\n",
       "      <td>0</td>\n",
       "      <td>...</td>\n",
       "      <td>0</td>\n",
       "      <td>0</td>\n",
       "      <td>0</td>\n",
       "      <td>0</td>\n",
       "      <td>0</td>\n",
       "      <td>1</td>\n",
       "      <td>0</td>\n",
       "      <td>0</td>\n",
       "      <td>0</td>\n",
       "      <td>0</td>\n",
       "    </tr>\n",
       "    <tr>\n",
       "      <th>3565</th>\n",
       "      <td>-2</td>\n",
       "      <td>38.778155</td>\n",
       "      <td>-8.003926</td>\n",
       "      <td>1</td>\n",
       "      <td>0</td>\n",
       "      <td>0</td>\n",
       "      <td>0</td>\n",
       "      <td>0</td>\n",
       "      <td>0</td>\n",
       "      <td>0</td>\n",
       "      <td>...</td>\n",
       "      <td>0</td>\n",
       "      <td>0</td>\n",
       "      <td>0</td>\n",
       "      <td>0</td>\n",
       "      <td>0</td>\n",
       "      <td>1</td>\n",
       "      <td>0</td>\n",
       "      <td>0</td>\n",
       "      <td>0</td>\n",
       "      <td>0</td>\n",
       "    </tr>\n",
       "    <tr>\n",
       "      <th>583</th>\n",
       "      <td>426</td>\n",
       "      <td>37.763270</td>\n",
       "      <td>-5.910705</td>\n",
       "      <td>350</td>\n",
       "      <td>0</td>\n",
       "      <td>0</td>\n",
       "      <td>0</td>\n",
       "      <td>0</td>\n",
       "      <td>0</td>\n",
       "      <td>0</td>\n",
       "      <td>...</td>\n",
       "      <td>0</td>\n",
       "      <td>0</td>\n",
       "      <td>0</td>\n",
       "      <td>0</td>\n",
       "      <td>0</td>\n",
       "      <td>1</td>\n",
       "      <td>0</td>\n",
       "      <td>0</td>\n",
       "      <td>0</td>\n",
       "      <td>0</td>\n",
       "    </tr>\n",
       "  </tbody>\n",
       "</table>\n",
       "<p>3 rows × 62 columns</p>\n",
       "</div>"
      ],
      "text/plain": [
       "      gps_height  longitude  latitude  population  basin_Internal  basin_Lake Nyasa  basin_Lake Rukwa  basin_Lake Tanganyika  basin_Lake Victoria  basin_Pangani                ...                  scheme_management_Other  scheme_management_Parastatal  scheme_management_Private operator  scheme_management_SWC  scheme_management_Trust  scheme_management_VWC  scheme_management_WUA  scheme_management_WUG  scheme_management_Water Board  scheme_management_Water authority\n",
       "5054        1272  35.104521 -8.928630          80               0                 0                 0                      0                    0              0                ...                                        0                             0                                   0                      0                        0                      1                      0                      0                              0                                  0\n",
       "3565          -2  38.778155 -8.003926           1               0                 0                 0                      0                    0              0                ...                                        0                             0                                   0                      0                        0                      1                      0                      0                              0                                  0\n",
       "583          426  37.763270 -5.910705         350               0                 0                 0                      0                    0              0                ...                                        0                             0                                   0                      0                        0                      1                      0                      0                              0                                  0\n",
       "\n",
       "[3 rows x 62 columns]"
      ]
     },
     "execution_count": 144,
     "metadata": {},
     "output_type": "execute_result"
    }
   ],
   "source": [
    "df_test_values = pd.get_dummies(df_test_values,columns=list(df_test_values.columns[4:]))\n",
    "df_test_values.sample(3)"
   ]
  },
  {
   "cell_type": "code",
   "execution_count": 145,
   "metadata": {},
   "outputs": [
    {
     "data": {
      "text/html": [
       "<div>\n",
       "<style scoped>\n",
       "    .dataframe tbody tr th:only-of-type {\n",
       "        vertical-align: middle;\n",
       "    }\n",
       "\n",
       "    .dataframe tbody tr th {\n",
       "        vertical-align: top;\n",
       "    }\n",
       "\n",
       "    .dataframe thead th {\n",
       "        text-align: right;\n",
       "    }\n",
       "</style>\n",
       "<table border=\"1\" class=\"dataframe\">\n",
       "  <thead>\n",
       "    <tr style=\"text-align: right;\">\n",
       "      <th></th>\n",
       "      <th>gps_height</th>\n",
       "      <th>longitude</th>\n",
       "      <th>latitude</th>\n",
       "      <th>population</th>\n",
       "      <th>basin_Internal</th>\n",
       "      <th>basin_Lake Nyasa</th>\n",
       "      <th>basin_Lake Rukwa</th>\n",
       "      <th>basin_Lake Tanganyika</th>\n",
       "      <th>basin_Lake Victoria</th>\n",
       "      <th>basin_Pangani</th>\n",
       "      <th>...</th>\n",
       "      <th>scheme_management_Parastatal</th>\n",
       "      <th>scheme_management_Private operator</th>\n",
       "      <th>scheme_management_SWC</th>\n",
       "      <th>scheme_management_Trust</th>\n",
       "      <th>scheme_management_VWC</th>\n",
       "      <th>scheme_management_WUA</th>\n",
       "      <th>scheme_management_WUG</th>\n",
       "      <th>scheme_management_Water Board</th>\n",
       "      <th>scheme_management_Water authority</th>\n",
       "      <th>scheme_management_None</th>\n",
       "    </tr>\n",
       "  </thead>\n",
       "  <tbody>\n",
       "    <tr>\n",
       "      <th>6750</th>\n",
       "      <td>0</td>\n",
       "      <td>32.973154</td>\n",
       "      <td>-4.336478</td>\n",
       "      <td>0</td>\n",
       "      <td>0</td>\n",
       "      <td>0</td>\n",
       "      <td>0</td>\n",
       "      <td>1</td>\n",
       "      <td>0</td>\n",
       "      <td>0</td>\n",
       "      <td>...</td>\n",
       "      <td>0</td>\n",
       "      <td>0</td>\n",
       "      <td>0</td>\n",
       "      <td>0</td>\n",
       "      <td>1</td>\n",
       "      <td>0</td>\n",
       "      <td>0</td>\n",
       "      <td>0</td>\n",
       "      <td>0</td>\n",
       "      <td>0</td>\n",
       "    </tr>\n",
       "    <tr>\n",
       "      <th>5276</th>\n",
       "      <td>99</td>\n",
       "      <td>38.971815</td>\n",
       "      <td>-5.124196</td>\n",
       "      <td>80</td>\n",
       "      <td>0</td>\n",
       "      <td>0</td>\n",
       "      <td>0</td>\n",
       "      <td>0</td>\n",
       "      <td>0</td>\n",
       "      <td>1</td>\n",
       "      <td>...</td>\n",
       "      <td>0</td>\n",
       "      <td>0</td>\n",
       "      <td>0</td>\n",
       "      <td>0</td>\n",
       "      <td>1</td>\n",
       "      <td>0</td>\n",
       "      <td>0</td>\n",
       "      <td>0</td>\n",
       "      <td>0</td>\n",
       "      <td>0</td>\n",
       "    </tr>\n",
       "    <tr>\n",
       "      <th>13348</th>\n",
       "      <td>0</td>\n",
       "      <td>32.758101</td>\n",
       "      <td>-5.031626</td>\n",
       "      <td>0</td>\n",
       "      <td>0</td>\n",
       "      <td>0</td>\n",
       "      <td>0</td>\n",
       "      <td>1</td>\n",
       "      <td>0</td>\n",
       "      <td>0</td>\n",
       "      <td>...</td>\n",
       "      <td>0</td>\n",
       "      <td>0</td>\n",
       "      <td>0</td>\n",
       "      <td>0</td>\n",
       "      <td>1</td>\n",
       "      <td>0</td>\n",
       "      <td>0</td>\n",
       "      <td>0</td>\n",
       "      <td>0</td>\n",
       "      <td>0</td>\n",
       "    </tr>\n",
       "  </tbody>\n",
       "</table>\n",
       "<p>3 rows × 63 columns</p>\n",
       "</div>"
      ],
      "text/plain": [
       "       gps_height  longitude  latitude  population  basin_Internal  basin_Lake Nyasa  basin_Lake Rukwa  basin_Lake Tanganyika  basin_Lake Victoria  basin_Pangani           ...            scheme_management_Parastatal  scheme_management_Private operator  scheme_management_SWC  scheme_management_Trust  scheme_management_VWC  scheme_management_WUA  scheme_management_WUG  scheme_management_Water Board  scheme_management_Water authority  scheme_management_None\n",
       "6750            0  32.973154 -4.336478           0               0                 0                 0                      1                    0              0           ...                                       0                                   0                      0                        0                      1                      0                      0                              0                                  0                       0\n",
       "5276           99  38.971815 -5.124196          80               0                 0                 0                      0                    0              1           ...                                       0                                   0                      0                        0                      1                      0                      0                              0                                  0                       0\n",
       "13348           0  32.758101 -5.031626           0               0                 0                 0                      1                    0              0           ...                                       0                                   0                      0                        0                      1                      0                      0                              0                                  0                       0\n",
       "\n",
       "[3 rows x 63 columns]"
      ]
     },
     "execution_count": 145,
     "metadata": {},
     "output_type": "execute_result"
    }
   ],
   "source": [
    "a = [0] * len(df_test_values['gps_height'])\n",
    "df_test_values['scheme_management_None'] = a\n",
    "df_test_values.sample(3)"
   ]
  },
  {
   "cell_type": "code",
   "execution_count": 146,
   "metadata": {},
   "outputs": [],
   "source": [
    "columns = list(df_test_values.columns)\n",
    "df_test_values[columns[5:]] = df_test_values[columns[5:]].astype(int)\n",
    "df_test_values[columns[0]] = df_test_values[columns[0]].astype(int)"
   ]
  },
  {
   "cell_type": "markdown",
   "metadata": {},
   "source": [
    "## Apply to competition data"
   ]
  },
  {
   "cell_type": "code",
   "execution_count": 118,
   "metadata": {},
   "outputs": [],
   "source": [
    "df_test_labels = decisiontree.predict(df_test_values)"
   ]
  },
  {
   "cell_type": "code",
   "execution_count": 119,
   "metadata": {},
   "outputs": [
    {
     "data": {
      "text/plain": [
       "(14850,)"
      ]
     },
     "execution_count": 119,
     "metadata": {},
     "output_type": "execute_result"
    }
   ],
   "source": [
    "df_test_labels.shape"
   ]
  },
  {
   "cell_type": "code",
   "execution_count": 120,
   "metadata": {},
   "outputs": [],
   "source": [
    "df_sub['status_group'] = df_test_labels"
   ]
  },
  {
   "cell_type": "code",
   "execution_count": 121,
   "metadata": {},
   "outputs": [
    {
     "data": {
      "text/html": [
       "<div>\n",
       "<style scoped>\n",
       "    .dataframe tbody tr th:only-of-type {\n",
       "        vertical-align: middle;\n",
       "    }\n",
       "\n",
       "    .dataframe tbody tr th {\n",
       "        vertical-align: top;\n",
       "    }\n",
       "\n",
       "    .dataframe thead th {\n",
       "        text-align: right;\n",
       "    }\n",
       "</style>\n",
       "<table border=\"1\" class=\"dataframe\">\n",
       "  <thead>\n",
       "    <tr style=\"text-align: right;\">\n",
       "      <th></th>\n",
       "      <th>id</th>\n",
       "      <th>status_group</th>\n",
       "    </tr>\n",
       "  </thead>\n",
       "  <tbody>\n",
       "    <tr>\n",
       "      <th>2706</th>\n",
       "      <td>72165</td>\n",
       "      <td>functional</td>\n",
       "    </tr>\n",
       "    <tr>\n",
       "      <th>13899</th>\n",
       "      <td>18736</td>\n",
       "      <td>non functional</td>\n",
       "    </tr>\n",
       "    <tr>\n",
       "      <th>3180</th>\n",
       "      <td>60115</td>\n",
       "      <td>functional needs repair</td>\n",
       "    </tr>\n",
       "    <tr>\n",
       "      <th>8876</th>\n",
       "      <td>49461</td>\n",
       "      <td>functional</td>\n",
       "    </tr>\n",
       "    <tr>\n",
       "      <th>7008</th>\n",
       "      <td>70725</td>\n",
       "      <td>functional</td>\n",
       "    </tr>\n",
       "    <tr>\n",
       "      <th>7571</th>\n",
       "      <td>14533</td>\n",
       "      <td>functional</td>\n",
       "    </tr>\n",
       "    <tr>\n",
       "      <th>6345</th>\n",
       "      <td>1681</td>\n",
       "      <td>functional needs repair</td>\n",
       "    </tr>\n",
       "    <tr>\n",
       "      <th>3048</th>\n",
       "      <td>39290</td>\n",
       "      <td>non functional</td>\n",
       "    </tr>\n",
       "    <tr>\n",
       "      <th>4901</th>\n",
       "      <td>31752</td>\n",
       "      <td>functional</td>\n",
       "    </tr>\n",
       "    <tr>\n",
       "      <th>11008</th>\n",
       "      <td>27341</td>\n",
       "      <td>non functional</td>\n",
       "    </tr>\n",
       "    <tr>\n",
       "      <th>3343</th>\n",
       "      <td>55223</td>\n",
       "      <td>functional</td>\n",
       "    </tr>\n",
       "    <tr>\n",
       "      <th>6500</th>\n",
       "      <td>48246</td>\n",
       "      <td>non functional</td>\n",
       "    </tr>\n",
       "    <tr>\n",
       "      <th>1389</th>\n",
       "      <td>34910</td>\n",
       "      <td>functional</td>\n",
       "    </tr>\n",
       "    <tr>\n",
       "      <th>3419</th>\n",
       "      <td>70998</td>\n",
       "      <td>non functional</td>\n",
       "    </tr>\n",
       "    <tr>\n",
       "      <th>5647</th>\n",
       "      <td>20756</td>\n",
       "      <td>functional</td>\n",
       "    </tr>\n",
       "    <tr>\n",
       "      <th>8706</th>\n",
       "      <td>46918</td>\n",
       "      <td>functional</td>\n",
       "    </tr>\n",
       "    <tr>\n",
       "      <th>1275</th>\n",
       "      <td>7861</td>\n",
       "      <td>functional</td>\n",
       "    </tr>\n",
       "    <tr>\n",
       "      <th>4880</th>\n",
       "      <td>9841</td>\n",
       "      <td>functional needs repair</td>\n",
       "    </tr>\n",
       "    <tr>\n",
       "      <th>10668</th>\n",
       "      <td>6256</td>\n",
       "      <td>functional</td>\n",
       "    </tr>\n",
       "    <tr>\n",
       "      <th>3567</th>\n",
       "      <td>33577</td>\n",
       "      <td>functional</td>\n",
       "    </tr>\n",
       "    <tr>\n",
       "      <th>1164</th>\n",
       "      <td>38299</td>\n",
       "      <td>functional needs repair</td>\n",
       "    </tr>\n",
       "    <tr>\n",
       "      <th>5705</th>\n",
       "      <td>38351</td>\n",
       "      <td>functional</td>\n",
       "    </tr>\n",
       "    <tr>\n",
       "      <th>14118</th>\n",
       "      <td>51254</td>\n",
       "      <td>functional</td>\n",
       "    </tr>\n",
       "    <tr>\n",
       "      <th>10481</th>\n",
       "      <td>18691</td>\n",
       "      <td>functional</td>\n",
       "    </tr>\n",
       "    <tr>\n",
       "      <th>11507</th>\n",
       "      <td>29322</td>\n",
       "      <td>non functional</td>\n",
       "    </tr>\n",
       "    <tr>\n",
       "      <th>460</th>\n",
       "      <td>1493</td>\n",
       "      <td>functional</td>\n",
       "    </tr>\n",
       "    <tr>\n",
       "      <th>4123</th>\n",
       "      <td>26511</td>\n",
       "      <td>functional needs repair</td>\n",
       "    </tr>\n",
       "    <tr>\n",
       "      <th>13034</th>\n",
       "      <td>44608</td>\n",
       "      <td>functional</td>\n",
       "    </tr>\n",
       "    <tr>\n",
       "      <th>9649</th>\n",
       "      <td>23923</td>\n",
       "      <td>functional</td>\n",
       "    </tr>\n",
       "    <tr>\n",
       "      <th>5759</th>\n",
       "      <td>56164</td>\n",
       "      <td>functional</td>\n",
       "    </tr>\n",
       "  </tbody>\n",
       "</table>\n",
       "</div>"
      ],
      "text/plain": [
       "          id             status_group\n",
       "2706   72165               functional\n",
       "13899  18736           non functional\n",
       "3180   60115  functional needs repair\n",
       "8876   49461               functional\n",
       "7008   70725               functional\n",
       "7571   14533               functional\n",
       "6345    1681  functional needs repair\n",
       "3048   39290           non functional\n",
       "4901   31752               functional\n",
       "11008  27341           non functional\n",
       "3343   55223               functional\n",
       "6500   48246           non functional\n",
       "1389   34910               functional\n",
       "3419   70998           non functional\n",
       "5647   20756               functional\n",
       "8706   46918               functional\n",
       "1275    7861               functional\n",
       "4880    9841  functional needs repair\n",
       "10668   6256               functional\n",
       "3567   33577               functional\n",
       "1164   38299  functional needs repair\n",
       "5705   38351               functional\n",
       "14118  51254               functional\n",
       "10481  18691               functional\n",
       "11507  29322           non functional\n",
       "460     1493               functional\n",
       "4123   26511  functional needs repair\n",
       "13034  44608               functional\n",
       "9649   23923               functional\n",
       "5759   56164               functional"
      ]
     },
     "execution_count": 121,
     "metadata": {},
     "output_type": "execute_result"
    }
   ],
   "source": [
    "df_sub['status_group'] = df_sub['status_group'].astype(str)\n",
    "\n",
    "for i in range(len(df_sub.status_group)):\n",
    "    if df_sub.status_group[i] == '3':\n",
    "        df_sub.at[i, 'status_group'] = 'functional'\n",
    "    elif df_sub.status_group[i] == '2':\n",
    "        df_sub.at[i, 'status_group'] = 'functional needs repair'\n",
    "    else:\n",
    "        df_sub.at[i, 'status_group'] = 'non functional'\n",
    "df_sub.sample(3)"
   ]
  },
  {
   "cell_type": "code",
   "execution_count": 122,
   "metadata": {},
   "outputs": [
    {
     "data": {
      "text/plain": [
       "functional                 8046\n",
       "non functional             4656\n",
       "functional needs repair    2148\n",
       "Name: status_group, dtype: int64"
      ]
     },
     "execution_count": 122,
     "metadata": {},
     "output_type": "execute_result"
    }
   ],
   "source": [
    "df_sub.status_group.value_counts()"
   ]
  },
  {
   "cell_type": "code",
   "execution_count": 124,
   "metadata": {},
   "outputs": [],
   "source": [
    "df_sub.to_csv('./Submissions/decisionTree.csv',index=False)"
   ]
  },
  {
   "cell_type": "markdown",
   "metadata": {},
   "source": [
    "## Ranking"
   ]
  },
  {
   "cell_type": "markdown",
   "metadata": {},
   "source": [
    "<table>\n",
    "  <tr>\n",
    "    <th>Best</th>\n",
    "    <th>Current Rank</th>\n",
    "    <th>Competitors</th>\n",
    "    <th>Time</th>\n",
    "  </tr>\n",
    "  <tr>\n",
    "    <td>0.6449</td>\n",
    "    <td>1309</td>\n",
    "    <td>5059</td>\n",
    "    <td>May 7, 2018, 11:50 p.m.</td>\n",
    "  </tr>\n",
    "</table>"
   ]
  },
  {
   "cell_type": "markdown",
   "metadata": {},
   "source": [
    "## Random forest"
   ]
  },
  {
   "cell_type": "code",
   "execution_count": 125,
   "metadata": {},
   "outputs": [],
   "source": [
    "from sklearn.ensemble import RandomForestClassifier"
   ]
  },
  {
   "cell_type": "code",
   "execution_count": 162,
   "metadata": {},
   "outputs": [
    {
     "data": {
      "text/plain": [
       "RandomForestClassifier(bootstrap=True, class_weight=None, criterion='gini',\n",
       "            max_depth=4, max_features='auto', max_leaf_nodes=None,\n",
       "            min_impurity_decrease=0.0, min_impurity_split=None,\n",
       "            min_samples_leaf=1, min_samples_split=2,\n",
       "            min_weight_fraction_leaf=0.0, n_estimators=10, n_jobs=1,\n",
       "            oob_score=False, random_state=0, verbose=0, warm_start=False)"
      ]
     },
     "execution_count": 162,
     "metadata": {},
     "output_type": "execute_result"
    }
   ],
   "source": [
    "clf = RandomForestClassifier(max_depth = 4,random_state=0)\n",
    "clf.fit(X_train, y_train)"
   ]
  },
  {
   "cell_type": "code",
   "execution_count": 163,
   "metadata": {},
   "outputs": [
    {
     "name": "stdout",
     "output_type": "stream",
     "text": [
      "[2.82588807e-02 9.46888063e-03 2.49852233e-02 6.25947866e-03\n",
      " 2.80899297e-03 4.16926964e-03 1.31907046e-03 6.90504419e-05\n",
      " 4.34427987e-03 4.54900816e-03 2.97231582e-04 4.75595341e-04\n",
      " 2.09250059e-05 2.24239350e-02 3.79602906e-02 1.11797518e-02\n",
      " 3.10821251e-02 0.00000000e+00 3.21550749e-03 0.00000000e+00\n",
      " 4.60894695e-02 0.00000000e+00 0.00000000e+00 2.02050892e-02\n",
      " 1.29121180e-02 0.00000000e+00 3.84346156e-05 3.46004652e-01\n",
      " 9.54980585e-02 3.57458295e-03 4.01819322e-03 2.30088396e-03\n",
      " 0.00000000e+00 1.29077168e-03 0.00000000e+00 0.00000000e+00\n",
      " 5.39844826e-03 0.00000000e+00 1.19806715e-02 4.71112806e-02\n",
      " 3.97161169e-03 1.27274597e-03 0.00000000e+00 0.00000000e+00\n",
      " 1.69246436e-02 0.00000000e+00 6.34463035e-03 0.00000000e+00\n",
      " 1.63619043e-01 1.57549849e-03 3.89237991e-03 1.63776512e-05\n",
      " 0.00000000e+00 0.00000000e+00 6.75181847e-05 0.00000000e+00\n",
      " 8.46615234e-04 2.92469351e-04 1.88845995e-03 0.00000000e+00\n",
      " 2.15074100e-03 7.82711442e-03 0.00000000e+00]\n"
     ]
    }
   ],
   "source": [
    "print(clf.feature_importances_)"
   ]
  },
  {
   "cell_type": "code",
   "execution_count": 164,
   "metadata": {},
   "outputs": [],
   "source": [
    "df_test_labels2 = clf.predict(df_test_values)"
   ]
  },
  {
   "cell_type": "code",
   "execution_count": 165,
   "metadata": {},
   "outputs": [],
   "source": [
    "df_sub['status_group'] = df_test_labels2"
   ]
  },
  {
   "cell_type": "code",
   "execution_count": 166,
   "metadata": {},
   "outputs": [
    {
     "data": {
      "text/html": [
       "<div>\n",
       "<style scoped>\n",
       "    .dataframe tbody tr th:only-of-type {\n",
       "        vertical-align: middle;\n",
       "    }\n",
       "\n",
       "    .dataframe tbody tr th {\n",
       "        vertical-align: top;\n",
       "    }\n",
       "\n",
       "    .dataframe thead th {\n",
       "        text-align: right;\n",
       "    }\n",
       "</style>\n",
       "<table border=\"1\" class=\"dataframe\">\n",
       "  <thead>\n",
       "    <tr style=\"text-align: right;\">\n",
       "      <th></th>\n",
       "      <th>id</th>\n",
       "      <th>status_group</th>\n",
       "    </tr>\n",
       "  </thead>\n",
       "  <tbody>\n",
       "    <tr>\n",
       "      <th>4513</th>\n",
       "      <td>49553</td>\n",
       "      <td>functional</td>\n",
       "    </tr>\n",
       "    <tr>\n",
       "      <th>10202</th>\n",
       "      <td>71029</td>\n",
       "      <td>functional</td>\n",
       "    </tr>\n",
       "    <tr>\n",
       "      <th>5039</th>\n",
       "      <td>55547</td>\n",
       "      <td>functional</td>\n",
       "    </tr>\n",
       "  </tbody>\n",
       "</table>\n",
       "</div>"
      ],
      "text/plain": [
       "          id status_group\n",
       "4513   49553   functional\n",
       "10202  71029   functional\n",
       "5039   55547   functional"
      ]
     },
     "execution_count": 166,
     "metadata": {},
     "output_type": "execute_result"
    }
   ],
   "source": [
    "df_sub['status_group'] = df_sub['status_group'].astype(str)\n",
    "\n",
    "for i in range(len(df_sub.status_group)):\n",
    "    if df_sub.status_group[i] == '3':\n",
    "        df_sub.at[i, 'status_group'] = 'functional'\n",
    "    elif df_sub.status_group[i] == '2':\n",
    "        df_sub.at[i, 'status_group'] = 'functional needs repair'\n",
    "    else:\n",
    "        df_sub.at[i, 'status_group'] = 'non functional'\n",
    "df_sub.sample(3)"
   ]
  },
  {
   "cell_type": "code",
   "execution_count": 167,
   "metadata": {},
   "outputs": [
    {
     "data": {
      "text/plain": [
       "functional        11886\n",
       "non functional     2964\n",
       "Name: status_group, dtype: int64"
      ]
     },
     "execution_count": 167,
     "metadata": {},
     "output_type": "execute_result"
    }
   ],
   "source": [
    "df_sub.status_group.value_counts()"
   ]
  },
  {
   "cell_type": "code",
   "execution_count": 168,
   "metadata": {},
   "outputs": [],
   "source": [
    "df_sub.to_csv('./Submissions/decisionTree2.csv',index=False)"
   ]
  },
  {
   "cell_type": "markdown",
   "metadata": {},
   "source": [
    "## Ranking"
   ]
  },
  {
   "cell_type": "markdown",
   "metadata": {},
   "source": [
    "<table>\n",
    "  <tr>\n",
    "    <th>Best</th>\n",
    "    <th>Current Rank</th>\n",
    "    <th>Competitors</th>\n",
    "    <th>Time</th>\n",
    "  </tr>\n",
    "  <tr>\n",
    "    <td>0.6988</td>\n",
    "    <td>1276</td>\n",
    "    <td>5059</td>\n",
    "    <td>May 8, 2018, 12:13 a.m.</td>\n",
    "  </tr>\n",
    "</table>"
   ]
  },
  {
   "cell_type": "markdown",
   "metadata": {
    "heading_collapsed": true
   },
   "source": [
    "# Appendix"
   ]
  },
  {
   "cell_type": "markdown",
   "metadata": {
    "heading_collapsed": true,
    "hidden": true
   },
   "source": [
    "## A"
   ]
  },
  {
   "cell_type": "code",
   "execution_count": null,
   "metadata": {
    "hidden": true
   },
   "outputs": [],
   "source": [
    "columns = list(feature_sel.columns)\n",
    "feature_sel[columns[5:]] = feature_sel[columns[5:]].astype(int)\n",
    "feature_sel[columns[0]] = feature_sel[columns[0]].astype(int)"
   ]
  },
  {
   "cell_type": "code",
   "execution_count": null,
   "metadata": {
    "hidden": true
   },
   "outputs": [],
   "source": [
    "feature_sel = feature_sel.sample(frac=1).reset_index(drop=True)\n",
    "y = feature_sel.status_group\n",
    "X = feature_sel.drop('status_group', axis=1)\n",
    "\n",
    "from sklearn.cross_validation import train_test_split\n",
    "\n",
    "X_train, X_test, y_train, y_test = train_test_split(X, y, test_size=0.84)"
   ]
  },
  {
   "cell_type": "code",
   "execution_count": null,
   "metadata": {
    "hidden": true
   },
   "outputs": [],
   "source": [
    "X_train.head(1)"
   ]
  },
  {
   "cell_type": "markdown",
   "metadata": {
    "heading_collapsed": true,
    "hidden": true
   },
   "source": [
    "## Adjust competition data"
   ]
  },
  {
   "cell_type": "code",
   "execution_count": null,
   "metadata": {
    "hidden": true
   },
   "outputs": [],
   "source": [
    "df_test_values = df_test_values[['gps_height', 'longitude', 'latitude', 'basin',\n",
    "                  'extraction_type_class','payment','quantity','water_quality', 'source_class',\n",
    "                  'waterpoint_type_group','population','public_meeting','scheme_management']]"
   ]
  },
  {
   "cell_type": "code",
   "execution_count": null,
   "metadata": {
    "hidden": true
   },
   "outputs": [],
   "source": [
    "# rearange columns\n",
    "cols = df_test_values.columns.tolist()\n",
    "cols = ['gps_height',\n",
    "             'longitude',\n",
    "             'latitude',\n",
    "             'population',\n",
    "             'basin',\n",
    "             'extraction_type_class',\n",
    "             'payment',\n",
    "             'quantity',\n",
    "             'water_quality',\n",
    "             'source_class',\n",
    "             'waterpoint_type_group',\n",
    "             'public_meeting',\n",
    "             'scheme_management']\n",
    "df_test_values = df_test_values[cols]"
   ]
  },
  {
   "cell_type": "code",
   "execution_count": null,
   "metadata": {
    "hidden": true
   },
   "outputs": [],
   "source": [
    "a = [0] * len(df_test_values['gps_height'])"
   ]
  },
  {
   "cell_type": "code",
   "execution_count": null,
   "metadata": {
    "hidden": true
   },
   "outputs": [],
   "source": [
    "df_test_values = pd.get_dummies(df_test_values,columns=list(df_test_values.columns[4:]))\n",
    "df_test_values.sample(5)"
   ]
  },
  {
   "cell_type": "code",
   "execution_count": null,
   "metadata": {
    "hidden": true
   },
   "outputs": [],
   "source": [
    "columns = list(feature_sel.columns)\n",
    "feature_sel[columns[5:]] = feature_sel[columns[5:]].astype(int)\n",
    "feature_sel[columns[0]] = feature_sel[columns[0]].astype(int)"
   ]
  },
  {
   "cell_type": "code",
   "execution_count": null,
   "metadata": {
    "hidden": true
   },
   "outputs": [],
   "source": [
    "df_test_values['scheme_management_None'] = a\n",
    "df_test_values.head(10)"
   ]
  },
  {
   "cell_type": "code",
   "execution_count": null,
   "metadata": {
    "hidden": true
   },
   "outputs": [],
   "source": [
    "list(set(X_train.columns)-set(df_test_values.columns))"
   ]
  },
  {
   "cell_type": "code",
   "execution_count": null,
   "metadata": {
    "hidden": true
   },
   "outputs": [],
   "source": []
  },
  {
   "cell_type": "markdown",
   "metadata": {
    "heading_collapsed": true,
    "hidden": true
   },
   "source": [
    "##  B"
   ]
  },
  {
   "cell_type": "code",
   "execution_count": null,
   "metadata": {
    "hidden": true
   },
   "outputs": [],
   "source": [
    "from __future__ import print_function\n",
    "\n",
    "import numpy as np\n",
    "import pandas as pd\n",
    "\n",
    "from IPython.display import Image\n",
    "\n",
    "from sklearn import datasets\n",
    "from sklearn.decomposition import PCA\n",
    "from sklearn.metrics import accuracy_score, confusion_matrix\n",
    "from sklearn.cross_validation import train_test_split\n",
    "from sklearn import svm\n",
    "\n",
    "from matplotlib import pyplot as plt\n",
    "%matplotlib inline"
   ]
  },
  {
   "cell_type": "code",
   "execution_count": null,
   "metadata": {
    "hidden": true
   },
   "outputs": [],
   "source": [
    "pd.Series(y_train).value_counts()"
   ]
  },
  {
   "cell_type": "markdown",
   "metadata": {
    "heading_collapsed": true,
    "hidden": true
   },
   "source": [
    "## Principle Component Analysis"
   ]
  },
  {
   "cell_type": "code",
   "execution_count": null,
   "metadata": {
    "hidden": true
   },
   "outputs": [],
   "source": [
    "pca = PCA(n_components=2)\n",
    "pca.fit(X_train)"
   ]
  },
  {
   "cell_type": "code",
   "execution_count": null,
   "metadata": {
    "hidden": true
   },
   "outputs": [],
   "source": [
    "pcafeatures_train = pca.transform(X_train)"
   ]
  },
  {
   "cell_type": "code",
   "execution_count": null,
   "metadata": {
    "hidden": true
   },
   "outputs": [],
   "source": [
    "from itertools import cycle"
   ]
  },
  {
   "cell_type": "code",
   "execution_count": null,
   "metadata": {
    "hidden": true
   },
   "outputs": [],
   "source": [
    "# def plot_PCA_2D(data, target, target_names):\n",
    "#     colors = cycle(['r','g','b'])\n",
    "#     target_ids = range(len(target_names))\n",
    "#     plt.figure()\n",
    "#     for i, c, label in zip(target_ids, colors, target_names):\n",
    "#         plt.scatter(data[target == i, 0], data[target == i, 1],\n",
    "#                    c=c, label=label)\n",
    "#     plt.legend()"
   ]
  },
  {
   "cell_type": "code",
   "execution_count": null,
   "metadata": {
    "hidden": true
   },
   "outputs": [],
   "source": [
    "# plot_PCA_2D(pcafeatures_train, target=y_train, target_names=digits.target_names)"
   ]
  },
  {
   "cell_type": "markdown",
   "metadata": {
    "heading_collapsed": true,
    "hidden": true
   },
   "source": [
    "## Fitting Linear and RBF SVM Models"
   ]
  },
  {
   "cell_type": "code",
   "execution_count": null,
   "metadata": {
    "hidden": true
   },
   "outputs": [],
   "source": [
    "# fit linear model\n",
    "model_svm = svm.SVC(kernel='rbf',probability=False,cache_size=2000)\n",
    "model_svm.fit(X_train, y_train)"
   ]
  },
  {
   "cell_type": "code",
   "execution_count": null,
   "metadata": {
    "hidden": true
   },
   "outputs": [],
   "source": [
    "# predict out of sample\n",
    "y_pred = model_svm.predict(X_test)"
   ]
  },
  {
   "cell_type": "code",
   "execution_count": null,
   "metadata": {
    "hidden": true
   },
   "outputs": [],
   "source": [
    "# check accuracy\n",
    "accuracy_score(y_test,y_pred)"
   ]
  },
  {
   "cell_type": "code",
   "execution_count": null,
   "metadata": {
    "hidden": true
   },
   "outputs": [],
   "source": [
    "# confusion matrix\n",
    "confusion_matrix(y_test,y_pred)"
   ]
  },
  {
   "cell_type": "code",
   "execution_count": null,
   "metadata": {
    "hidden": true
   },
   "outputs": [],
   "source": [
    "# fit rbf model\n",
    "# model_svm2 = svm.SVC(kernel='rbf', gamma = 0.001)\n",
    "# model_svm2.fit(X_train, y_train)"
   ]
  },
  {
   "cell_type": "code",
   "execution_count": null,
   "metadata": {
    "hidden": true
   },
   "outputs": [],
   "source": [
    "# predict out of sample\n",
    "y_pred2 = model_svm2.predict(X_test)"
   ]
  },
  {
   "cell_type": "code",
   "execution_count": null,
   "metadata": {
    "hidden": true
   },
   "outputs": [],
   "source": [
    "# check accuracy\n",
    "accuracy_score(y_test,y_pred2)"
   ]
  },
  {
   "cell_type": "code",
   "execution_count": null,
   "metadata": {
    "hidden": true
   },
   "outputs": [],
   "source": [
    "# confusion matrix\n",
    "confusion_matrix(y_test,y_pred2)"
   ]
  },
  {
   "cell_type": "markdown",
   "metadata": {
    "heading_collapsed": true,
    "hidden": true
   },
   "source": [
    "## C"
   ]
  },
  {
   "cell_type": "markdown",
   "metadata": {
    "hidden": true
   },
   "source": [
    "Extra code from class to utilize"
   ]
  },
  {
   "cell_type": "code",
   "execution_count": null,
   "metadata": {
    "hidden": true
   },
   "outputs": [],
   "source": [
    "df.age=df.age.fillna(df.age.mean())"
   ]
  },
  {
   "cell_type": "code",
   "execution_count": null,
   "metadata": {
    "hidden": true
   },
   "outputs": [],
   "source": [
    "y,X=dmatrices('survived~ pclass +age+sibsp+parch+fare',data=df,return_type='dataframe')"
   ]
  },
  {
   "cell_type": "code",
   "execution_count": null,
   "metadata": {
    "hidden": true
   },
   "outputs": [],
   "source": [
    "# Generate a confusion matrix plot: \n",
    "\n",
    "def plot_confusion_matrix(cm,title='Confusion matrix', cmap=plt.cm.Reds):\n",
    "    plt.imshow(cm, interpolation='nearest',cmap=cmap)\n",
    "    plt.title(title)\n",
    "    plt.colorbar()\n",
    "    plt.tight_layout()\n",
    "    plt.ylabel('True label')\n",
    "    plt.xlabel('Predicted label')\n",
    "\n",
    "#Could be a typical function for classifying:\n",
    "\n",
    "def train_score(classifier,x,y):\n",
    "    xtrain, xtest, ytrain, ytest = cross_validation.train_test_split(x, y, test_size=0.2, random_state=1234)\n",
    "    ytrain=np.ravel(ytrain)\n",
    "    clf = classifier.fit(xtrain, ytrain)\n",
    "    # accuracy for test & train:\n",
    "    train_acc=clf.score(xtrain, ytrain)\n",
    "    test_acc=clf.score(xtest,ytest)\n",
    "    print(\"Training Data Accuracy: %0.2f\" %(train_acc))\n",
    "    print(\"Test Data Accuracy:     %0.2f\" %(test_acc))\n",
    "    \n",
    "    y_true = ytest\n",
    "    y_pred = clf.predict(xtest)\n",
    "\n",
    "\n",
    "    conf = confusion_matrix(y_true, y_pred)\n",
    "    print(conf)\n",
    "\n",
    "    print ('\\n')\n",
    "    print (\"Precision:              %0.2f\" %(conf[0, 0] / (conf[0, 0] + conf[1, 0])))\n",
    "    print (\"Recall:                 %0.2f\"% (conf[0, 0] / (conf[0, 0] + conf[0, 1])))\n",
    "    \n",
    "    cm=confusion_matrix(y_true, y_pred, labels=None)\n",
    "    \n",
    "    plt.figure()\n",
    "    plot_confusion_matrix(cm)"
   ]
  },
  {
   "cell_type": "code",
   "execution_count": null,
   "metadata": {
    "hidden": true
   },
   "outputs": [],
   "source": [
    "log_clf=LogisticRegression()\n",
    "train_score(log_clf,X,y)"
   ]
  },
  {
   "cell_type": "code",
   "execution_count": null,
   "metadata": {
    "hidden": true
   },
   "outputs": [],
   "source": [
    "# What about ROC ? \n",
    "\n",
    "from sklearn.metrics import roc_curve, auc\n",
    "\n",
    "xtrain, xtest, ytrain, ytest = cross_validation.train_test_split(X, y, test_size=0.2, random_state=1234)\n",
    "log = LogisticRegression()\n",
    "log.fit(xtrain,np.ravel(ytrain))\n",
    "y_score=log.predict_proba(xtest)[:,1]\n",
    "\n",
    "fpr, tpr,_ = roc_curve(ytest, y_score)\n",
    "roc_auc = auc(fpr, tpr)\n",
    "\n",
    "plt.figure()\n",
    "# Plotting our Baseline..\n",
    "plt.plot([0,1],[0,1])\n",
    "plt.plot(fpr,tpr)\n",
    "plt.xlabel('FPR')\n",
    "plt.ylabel('TPR')"
   ]
  },
  {
   "cell_type": "code",
   "execution_count": null,
   "metadata": {
    "hidden": true
   },
   "outputs": [],
   "source": [
    "tpr"
   ]
  },
  {
   "cell_type": "markdown",
   "metadata": {
    "hidden": true
   },
   "source": [
    "####  Cost Benefit Example: \n",
    "\n",
    "We can also optimize our models based on specific costs associated with our classification errors; here we will use specific dollar amounts as weights.\n",
    "\n",
    "Let's say we were developing a classification model for Aircraft Delay prediction.  For this example let's assume that a true positive would \n",
    "lead to a cost savings of 2160 dollars, a false negative would cost us 2900 dollars a false positive would cost 750 dollars.  \n",
    "\n",
    "cb = np.array([[2160, -750.0], [-2900, 0]])  \n",
    "\n",
    "Expected_Value = #TPs(2160) - #FNs(2900) -#FPs(750)  "
   ]
  }
 ],
 "metadata": {
  "kernelspec": {
   "display_name": "Python 3",
   "language": "python",
   "name": "python3"
  },
  "language_info": {
   "codemirror_mode": {
    "name": "ipython",
    "version": 3
   },
   "file_extension": ".py",
   "mimetype": "text/x-python",
   "name": "python",
   "nbconvert_exporter": "python",
   "pygments_lexer": "ipython3",
   "version": "3.6.4"
  },
  "toc": {
   "base_numbering": 1,
   "nav_menu": {},
   "number_sections": true,
   "sideBar": true,
   "skip_h1_title": false,
   "title_cell": "Table of Contents",
   "title_sidebar": "Contents",
   "toc_cell": false,
   "toc_position": {},
   "toc_section_display": true,
   "toc_window_display": false
  }
 },
 "nbformat": 4,
 "nbformat_minor": 1
}
